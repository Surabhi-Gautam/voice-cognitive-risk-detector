{
 "cells": [
  {
   "cell_type": "markdown",
   "id": "78ebae4f-9185-4ace-a893-faec48e34046",
   "metadata": {},
   "source": [
    "**🧠 Voice-Based Cognitive Decline Detection Pipeline**"
   ]
  },
  {
   "cell_type": "markdown",
   "id": "e7025070-b061-4bd6-9bd3-99a9bc177ed6",
   "metadata": {},
   "source": [
    "**STEP 1: Transcribe Audio to Text using Whisper**"
   ]
  },
  {
   "cell_type": "code",
   "execution_count": 24,
   "id": "6c130d63-cb72-467b-abd7-7ce617373813",
   "metadata": {},
   "outputs": [],
   "source": [
    "import whisper\n",
    "import os\n",
    "from pathlib import Path\n",
    "import zipfile"
   ]
  },
  {
   "cell_type": "code",
   "execution_count": 25,
   "id": "5475b0d4-306e-40ea-a3d9-7b5343b9ac96",
   "metadata": {},
   "outputs": [],
   "source": [
    "model = whisper.load_model(\"base\")  # Or 'small', 'medium', etc.\n",
    "\n",
    "def transcribe_audio(file_path):\n",
    "    result = model.transcribe(file_path)\n",
    "    return result['text'], result['segments']  # Segments include timestamps"
   ]
  },
  {
   "cell_type": "markdown",
   "id": "f2f1053c-2565-4473-84f6-ee84c0feb790",
   "metadata": {},
   "source": [
    "**STEP 2: Extract ZIP of audio files**"
   ]
  },
  {
   "cell_type": "code",
   "execution_count": 26,
   "id": "46b8c85f-1fb9-47c2-bde4-eb8a58d0472c",
   "metadata": {},
   "outputs": [],
   "source": [
    "def extract_zip(zip_path, extract_to=\"extracted_audio\"):\n",
    "    # Check if the ZIP file exists\n",
    "    if not os.path.exists(zip_path):\n",
    "        raise ValueError(f\"❌ The ZIP file does not exist at the specified path: {zip_path}\")\n",
    "    \n",
    "    with zipfile.ZipFile(zip_path, 'r') as zip_ref:\n",
    "        # List all files inside the ZIP archive\n",
    "        zip_file_list = zip_ref.namelist()\n",
    "        print(f\"📂 Files in ZIP: {zip_file_list}\")\n",
    "        \n",
    "        zip_ref.extractall(extract_to)\n",
    "        print(f\"✅ Extracted files to: {extract_to}\")\n",
    "\n",
    "    # Get all .wav files, including those in subdirectories\n",
    "    extracted_files = []\n",
    "    for root, dirs, files in os.walk(extract_to):\n",
    "        for file in files:\n",
    "            if file.endswith('.wav'):\n",
    "                extracted_files.append(str(Path(root) / file))\n",
    "\n",
    "    print(f\"🎧 Extracted .wav files: {extracted_files}\")\n",
    "\n",
    "    return extracted_files"
   ]
  },
  {
   "cell_type": "markdown",
   "id": "60470d9e-eda2-4181-948c-cbf949b38d98",
   "metadata": {},
   "source": [
    "**STEP 3: Extract NLP Features**"
   ]
  },
  {
   "cell_type": "code",
   "execution_count": 27,
   "id": "46af4b58-0b5f-4a7c-a0ca-9029834f3f07",
   "metadata": {},
   "outputs": [],
   "source": [
    "import re\n",
    "import numpy as np"
   ]
  },
  {
   "cell_type": "code",
   "execution_count": 28,
   "id": "97432d09-fe3f-409e-970e-c541e1f1522e",
   "metadata": {},
   "outputs": [],
   "source": [
    "def extract_nlp_features(text):\n",
    "    hesitation_words = [\"uh\", \"um\", \"erm\"]\n",
    "    words = text.lower().split()\n",
    "    \n",
    "    num_words = len(words)\n",
    "    num_hesitations = sum(words.count(h) for h in hesitation_words)\n",
    "    hesitation_ratio = num_hesitations / num_words if num_words > 0 else 0\n",
    "\n",
    "    avg_sentence_length = np.mean([len(s.split()) for s in re.split(r'[.!?]', text) if len(s.strip()) > 0])\n",
    "\n",
    "    return {\n",
    "        \"num_words\": num_words,\n",
    "        \"num_hesitations\": num_hesitations,\n",
    "        \"hesitation_ratio\": hesitation_ratio,\n",
    "        \"avg_sentence_length\": avg_sentence_length,\n",
    "    }"
   ]
  },
  {
   "cell_type": "markdown",
   "id": "659dd5a6-c367-4985-9795-f11d30bb8586",
   "metadata": {},
   "source": [
    "**STEP 4: Extract Audio Features**"
   ]
  },
  {
   "cell_type": "code",
   "execution_count": 29,
   "id": "2a74cef1-2f76-4c15-a890-730f1ef132b1",
   "metadata": {},
   "outputs": [],
   "source": [
    "import librosa"
   ]
  },
  {
   "cell_type": "code",
   "execution_count": 30,
   "id": "65efa203-a492-4e15-a5cf-fbad506a0602",
   "metadata": {},
   "outputs": [],
   "source": [
    "def extract_audio_features(file_path):\n",
    "    y, sr = librosa.load(file_path)\n",
    "    duration = librosa.get_duration(y=y, sr=sr)\n",
    "    \n",
    "    pitch = librosa.yin(y, fmin=50, fmax=300)\n",
    "    pitch_std = np.std(pitch)\n",
    "    \n",
    "    tempo, _ = librosa.beat.beat_track(y=y, sr=sr)\n",
    "\n",
    "    return {\n",
    "        \"duration_sec\": duration,\n",
    "        \"pitch_std\": pitch_std,\n",
    "        \"tempo_bpm\": tempo,\n",
    "    }"
   ]
  },
  {
   "cell_type": "markdown",
   "id": "23cecfdf-f0d0-4743-a71f-e2ecebe7ea84",
   "metadata": {},
   "source": [
    "**STEP 5: Combine + Apply ML (Unsupervised)**"
   ]
  },
  {
   "cell_type": "code",
   "execution_count": 31,
   "id": "bc50cbfc-9597-4827-be6e-865a0c49021b",
   "metadata": {},
   "outputs": [],
   "source": [
    "import pandas as pd\n",
    "from sklearn.preprocessing import StandardScaler\n",
    "from sklearn.ensemble import IsolationForest\n",
    "import matplotlib.pyplot as plt\n",
    "import seaborn as sns"
   ]
  },
  {
   "cell_type": "code",
   "execution_count": 32,
   "id": "fd4bf342-77d6-435d-83e2-52b7be085fd5",
   "metadata": {},
   "outputs": [],
   "source": [
    "def analyze_files(audio_files):\n",
    "    rows = []\n",
    "    \n",
    "    # Ensure audio_files list is populated\n",
    "    if not audio_files:\n",
    "        raise ValueError(\"❌ No audio files found to process!\")\n",
    "\n",
    "    for file_path in audio_files:\n",
    "        try:\n",
    "            # Log file being processed\n",
    "            print(f\"📁 Processing file: {file_path}\")\n",
    "\n",
    "            # Check if file exists\n",
    "            if not Path(file_path).exists():\n",
    "                print(f\"⚠️ File does not exist: {file_path}\")\n",
    "                continue\n",
    "\n",
    "            # Transcribe audio to text\n",
    "            transcript, _ = transcribe_audio(file_path)\n",
    "            print(f\"🔊 Transcript for {file_path}: {transcript[:100]}...\")  # Print first 100 chars of transcript\n",
    "            \n",
    "            if not transcript:\n",
    "                print(f\"⚠️ Empty transcript for {file_path}, skipping.\")\n",
    "                continue\n",
    "\n",
    "            # Extract NLP features\n",
    "            nlp_feats = extract_nlp_features(transcript)\n",
    "            print(f\"📝 NLP features for {file_path}: {nlp_feats}\")  # Print NLP features\n",
    "            if not nlp_feats:\n",
    "                print(f\"⚠️ Empty NLP features for {file_path}, skipping.\")\n",
    "                continue\n",
    "\n",
    "            # Extract audio features\n",
    "            audio_feats = extract_audio_features(file_path)\n",
    "            print(f\"🎧 Audio features for {file_path}: {audio_feats}\")  # Print audio features\n",
    "            if not audio_feats:\n",
    "                print(f\"⚠️ Empty audio features for {file_path}, skipping.\")\n",
    "                continue\n",
    "\n",
    "            # Combine all features into one dictionary\n",
    "            all_feats = {**nlp_feats, **audio_feats, \"file\": Path(file_path).name}\n",
    "            print(f\"✅ Combined features for {file_path}: {all_feats}\")  # Print combined features\n",
    "            \n",
    "            rows.append(all_feats)\n",
    "\n",
    "        except Exception as e:\n",
    "            print(f\"⚠️ Error processing {file_path}: {e}\")\n",
    "    \n",
    "    # Create DataFrame from collected rows\n",
    "    df = pd.DataFrame(rows)\n",
    "    \n",
    "    # Print DataFrame shape and column types for debugging\n",
    "    print(\"\\nDataFrame created:\")\n",
    "    print(\"DataFrame shape:\", df.shape)\n",
    "    print(\"DataFrame columns:\", df.columns)\n",
    "    print(\"DataFrame types:\", df.dtypes)\n",
    "\n",
    "    # Check for numeric columns for scaling\n",
    "    numeric_df = df.select_dtypes(include=[np.number])\n",
    "    print(\"\\nNumeric features found for scaling:\")\n",
    "    print(numeric_df.head())\n",
    "\n",
    "    if numeric_df.empty:\n",
    "        raise ValueError(\"❌ No numeric features found for scaling!\")\n",
    "    \n",
    "    # ML: Anomaly detection using Isolation Forest\n",
    "    scaler = StandardScaler()\n",
    "    X_scaled = scaler.fit_transform(numeric_df)\n",
    "    model = IsolationForest(contamination=0.2)\n",
    "    df['risk_flag'] = model.fit_predict(X_scaled)  # -1 indicates anomaly, 1 indicates normal\n",
    "\n",
    "    return df"
   ]
  },
  {
   "cell_type": "markdown",
   "id": "e7b3883b-6fb2-45b1-9b54-0e50af4e538f",
   "metadata": {},
   "source": [
    "**STEP 6: Visualize Results**"
   ]
  },
  {
   "cell_type": "code",
   "execution_count": 33,
   "id": "71b23098-648c-443e-84c8-e6c9f3341ab5",
   "metadata": {},
   "outputs": [],
   "source": [
    "def plot_features(df):\n",
    "    sns.pairplot(df, hue='risk_flag', diag_kind='kde')\n",
    "    plt.suptitle(\"Cognitive Decline Feature Trends\", y=1.02)\n",
    "    plt.show()"
   ]
  },
  {
   "cell_type": "markdown",
   "id": "92e64204-7b5b-4d9b-b8e8-5403cd7fd6c2",
   "metadata": {},
   "source": [
    "**API-ready Prediction Function**"
   ]
  },
  {
   "cell_type": "code",
   "execution_count": 34,
   "id": "326e39f8-fde2-429c-afb4-3a7cc73bd038",
   "metadata": {},
   "outputs": [],
   "source": [
    "def predict_risk_from_audio(file_path, scaler, model):\n",
    "    transcript, _ = transcribe_audio(file_path)\n",
    "    nlp_feats = extract_nlp_features(transcript)\n",
    "    audio_feats = extract_audio_features(file_path)\n",
    "    all_feats = {**nlp_feats, **audio_feats}\n",
    "    df = pd.DataFrame([all_feats])\n",
    "    X_scaled = scaler.transform(df)\n",
    "    return model.predict(X_scaled)[0]  # -1 = at risk"
   ]
  },
  {
   "cell_type": "code",
   "execution_count": 35,
   "id": "d950d86a-2a9a-4990-94cc-82766591b3e9",
   "metadata": {},
   "outputs": [],
   "source": [
    "zip_path = \"/Users/surabhigautam/Documents/Python/Datasets/speech_dataset.zip\""
   ]
  },
  {
   "cell_type": "code",
   "execution_count": 36,
   "id": "23156180-3dc0-46ad-a3bf-ef61b7dfec5a",
   "metadata": {},
   "outputs": [],
   "source": [
    "## Step 1: Extract WAV files from ZIP"
   ]
  },
  {
   "cell_type": "code",
   "execution_count": 37,
   "id": "839a2106-3760-4236-9513-a71ff24b9e1b",
   "metadata": {},
   "outputs": [
    {
     "name": "stdout",
     "output_type": "stream",
     "text": [
      "📂 Files in ZIP: ['Actor_01/03-01-01-01-01-01-01.wav', 'Actor_01/03-01-01-01-01-02-01.wav', 'Actor_01/03-01-01-01-02-01-01.wav', 'Actor_01/03-01-01-01-02-02-01.wav', 'Actor_01/03-01-02-01-01-01-01.wav', 'Actor_01/03-01-02-01-01-02-01.wav', 'Actor_01/03-01-02-01-02-01-01.wav', 'Actor_01/03-01-02-01-02-02-01.wav', 'Actor_01/03-01-02-02-01-01-01.wav', 'Actor_01/03-01-02-02-01-02-01.wav', 'Actor_01/03-01-02-02-02-01-01.wav', 'Actor_01/03-01-02-02-02-02-01.wav', 'Actor_01/03-01-03-01-01-01-01.wav', 'Actor_01/03-01-03-01-01-02-01.wav', 'Actor_01/03-01-03-01-02-01-01.wav', 'Actor_01/03-01-03-01-02-02-01.wav', 'Actor_01/03-01-03-02-01-01-01.wav', 'Actor_01/03-01-03-02-01-02-01.wav', 'Actor_01/03-01-03-02-02-01-01.wav', 'Actor_01/03-01-03-02-02-02-01.wav', 'Actor_01/03-01-04-01-01-01-01.wav', 'Actor_01/03-01-04-01-01-02-01.wav', 'Actor_01/03-01-04-01-02-01-01.wav', 'Actor_01/03-01-04-01-02-02-01.wav', 'Actor_01/03-01-04-02-01-01-01.wav', 'Actor_01/03-01-04-02-01-02-01.wav', 'Actor_01/03-01-04-02-02-01-01.wav', 'Actor_01/03-01-04-02-02-02-01.wav', 'Actor_01/03-01-05-01-01-01-01.wav', 'Actor_01/03-01-05-01-01-02-01.wav', 'Actor_01/03-01-05-01-02-01-01.wav', 'Actor_01/03-01-05-01-02-02-01.wav', 'Actor_01/03-01-05-02-01-01-01.wav', 'Actor_01/03-01-05-02-01-02-01.wav', 'Actor_01/03-01-05-02-02-01-01.wav', 'Actor_01/03-01-05-02-02-02-01.wav', 'Actor_01/03-01-06-01-01-01-01.wav', 'Actor_01/03-01-06-01-01-02-01.wav', 'Actor_01/03-01-06-01-02-01-01.wav', 'Actor_01/03-01-06-01-02-02-01.wav', 'Actor_01/03-01-06-02-01-01-01.wav', 'Actor_01/03-01-06-02-01-02-01.wav', 'Actor_01/03-01-06-02-02-01-01.wav', 'Actor_01/03-01-06-02-02-02-01.wav', 'Actor_01/03-01-07-01-01-01-01.wav', 'Actor_01/03-01-07-01-01-02-01.wav', 'Actor_01/03-01-07-01-02-01-01.wav', 'Actor_01/03-01-07-01-02-02-01.wav', 'Actor_01/03-01-07-02-01-01-01.wav', 'Actor_01/03-01-07-02-01-02-01.wav', 'Actor_01/03-01-07-02-02-01-01.wav', 'Actor_01/03-01-07-02-02-02-01.wav', 'Actor_01/03-01-08-01-01-01-01.wav', 'Actor_01/03-01-08-01-01-02-01.wav', 'Actor_01/03-01-08-01-02-01-01.wav', 'Actor_01/03-01-08-01-02-02-01.wav', 'Actor_01/03-01-08-02-01-01-01.wav', 'Actor_01/03-01-08-02-01-02-01.wav', 'Actor_01/03-01-08-02-02-01-01.wav', 'Actor_01/03-01-08-02-02-02-01.wav', 'Actor_02/03-01-01-01-01-01-02.wav', 'Actor_02/03-01-01-01-01-02-02.wav', 'Actor_02/03-01-01-01-02-01-02.wav', 'Actor_02/03-01-01-01-02-02-02.wav', 'Actor_02/03-01-02-01-01-01-02.wav', 'Actor_02/03-01-02-01-01-02-02.wav', 'Actor_02/03-01-02-01-02-01-02.wav', 'Actor_02/03-01-02-01-02-02-02.wav', 'Actor_02/03-01-02-02-01-01-02.wav', 'Actor_02/03-01-02-02-01-02-02.wav', 'Actor_02/03-01-02-02-02-01-02.wav', 'Actor_02/03-01-02-02-02-02-02.wav', 'Actor_02/03-01-03-01-01-01-02.wav', 'Actor_02/03-01-03-01-01-02-02.wav', 'Actor_02/03-01-03-01-02-01-02.wav', 'Actor_02/03-01-03-01-02-02-02.wav', 'Actor_02/03-01-03-02-01-01-02.wav', 'Actor_02/03-01-03-02-01-02-02.wav', 'Actor_02/03-01-03-02-02-01-02.wav', 'Actor_02/03-01-03-02-02-02-02.wav', 'Actor_02/03-01-04-01-01-01-02.wav', 'Actor_02/03-01-04-01-01-02-02.wav', 'Actor_02/03-01-04-01-02-01-02.wav', 'Actor_02/03-01-04-01-02-02-02.wav', 'Actor_02/03-01-04-02-01-01-02.wav', 'Actor_02/03-01-04-02-01-02-02.wav', 'Actor_02/03-01-04-02-02-01-02.wav', 'Actor_02/03-01-04-02-02-02-02.wav', 'Actor_02/03-01-05-01-01-01-02.wav', 'Actor_02/03-01-05-01-01-02-02.wav', 'Actor_02/03-01-05-01-02-01-02.wav', 'Actor_02/03-01-05-01-02-02-02.wav', 'Actor_02/03-01-05-02-01-01-02.wav', 'Actor_02/03-01-05-02-01-02-02.wav', 'Actor_02/03-01-05-02-02-01-02.wav', 'Actor_02/03-01-05-02-02-02-02.wav', 'Actor_02/03-01-06-01-01-01-02.wav', 'Actor_02/03-01-06-01-01-02-02.wav', 'Actor_02/03-01-06-01-02-01-02.wav', 'Actor_02/03-01-06-01-02-02-02.wav', 'Actor_02/03-01-06-02-01-01-02.wav', 'Actor_02/03-01-06-02-01-02-02.wav', 'Actor_02/03-01-06-02-02-01-02.wav', 'Actor_02/03-01-06-02-02-02-02.wav', 'Actor_02/03-01-07-01-01-01-02.wav', 'Actor_02/03-01-07-01-01-02-02.wav', 'Actor_02/03-01-07-01-02-01-02.wav', 'Actor_02/03-01-07-01-02-02-02.wav', 'Actor_02/03-01-07-02-01-01-02.wav', 'Actor_02/03-01-07-02-01-02-02.wav', 'Actor_02/03-01-07-02-02-01-02.wav', 'Actor_02/03-01-07-02-02-02-02.wav', 'Actor_02/03-01-08-01-01-01-02.wav', 'Actor_02/03-01-08-01-01-02-02.wav', 'Actor_02/03-01-08-01-02-01-02.wav', 'Actor_02/03-01-08-01-02-02-02.wav', 'Actor_02/03-01-08-02-01-01-02.wav', 'Actor_02/03-01-08-02-01-02-02.wav', 'Actor_02/03-01-08-02-02-01-02.wav', 'Actor_02/03-01-08-02-02-02-02.wav', 'Actor_03/03-01-01-01-01-01-03.wav', 'Actor_03/03-01-01-01-01-02-03.wav', 'Actor_03/03-01-01-01-02-01-03.wav', 'Actor_03/03-01-01-01-02-02-03.wav', 'Actor_03/03-01-02-01-01-01-03.wav', 'Actor_03/03-01-02-01-01-02-03.wav', 'Actor_03/03-01-02-01-02-01-03.wav', 'Actor_03/03-01-02-01-02-02-03.wav', 'Actor_03/03-01-02-02-01-01-03.wav', 'Actor_03/03-01-02-02-01-02-03.wav', 'Actor_03/03-01-02-02-02-01-03.wav', 'Actor_03/03-01-02-02-02-02-03.wav', 'Actor_03/03-01-03-01-01-01-03.wav', 'Actor_03/03-01-03-01-01-02-03.wav', 'Actor_03/03-01-03-01-02-01-03.wav', 'Actor_03/03-01-03-01-02-02-03.wav', 'Actor_03/03-01-03-02-01-01-03.wav', 'Actor_03/03-01-03-02-01-02-03.wav', 'Actor_03/03-01-03-02-02-01-03.wav', 'Actor_03/03-01-03-02-02-02-03.wav', 'Actor_03/03-01-04-01-01-01-03.wav', 'Actor_03/03-01-04-01-01-02-03.wav', 'Actor_03/03-01-04-01-02-01-03.wav', 'Actor_03/03-01-04-01-02-02-03.wav', 'Actor_03/03-01-04-02-01-01-03.wav', 'Actor_03/03-01-04-02-01-02-03.wav', 'Actor_03/03-01-04-02-02-01-03.wav', 'Actor_03/03-01-04-02-02-02-03.wav', 'Actor_03/03-01-05-01-01-01-03.wav', 'Actor_03/03-01-05-01-01-02-03.wav', 'Actor_03/03-01-05-01-02-01-03.wav', 'Actor_03/03-01-05-01-02-02-03.wav', 'Actor_03/03-01-05-02-01-01-03.wav', 'Actor_03/03-01-05-02-01-02-03.wav', 'Actor_03/03-01-05-02-02-01-03.wav', 'Actor_03/03-01-05-02-02-02-03.wav', 'Actor_03/03-01-06-01-01-01-03.wav', 'Actor_03/03-01-06-01-01-02-03.wav', 'Actor_03/03-01-06-01-02-01-03.wav', 'Actor_03/03-01-06-01-02-02-03.wav', 'Actor_03/03-01-06-02-01-01-03.wav', 'Actor_03/03-01-06-02-01-02-03.wav', 'Actor_03/03-01-06-02-02-01-03.wav', 'Actor_03/03-01-06-02-02-02-03.wav', 'Actor_03/03-01-07-01-01-01-03.wav', 'Actor_03/03-01-07-01-01-02-03.wav', 'Actor_03/03-01-07-01-02-01-03.wav', 'Actor_03/03-01-07-01-02-02-03.wav', 'Actor_03/03-01-07-02-01-01-03.wav', 'Actor_03/03-01-07-02-01-02-03.wav', 'Actor_03/03-01-07-02-02-01-03.wav', 'Actor_03/03-01-07-02-02-02-03.wav', 'Actor_03/03-01-08-01-01-01-03.wav', 'Actor_03/03-01-08-01-01-02-03.wav', 'Actor_03/03-01-08-01-02-01-03.wav', 'Actor_03/03-01-08-01-02-02-03.wav', 'Actor_03/03-01-08-02-01-01-03.wav', 'Actor_03/03-01-08-02-01-02-03.wav', 'Actor_03/03-01-08-02-02-01-03.wav', 'Actor_03/03-01-08-02-02-02-03.wav', 'Actor_04/03-01-01-01-01-01-04.wav', 'Actor_04/03-01-01-01-01-02-04.wav', 'Actor_04/03-01-01-01-02-01-04.wav', 'Actor_04/03-01-01-01-02-02-04.wav', 'Actor_04/03-01-02-01-01-01-04.wav', 'Actor_04/03-01-02-01-01-02-04.wav', 'Actor_04/03-01-02-01-02-01-04.wav', 'Actor_04/03-01-02-01-02-02-04.wav', 'Actor_04/03-01-02-02-01-01-04.wav', 'Actor_04/03-01-02-02-01-02-04.wav', 'Actor_04/03-01-02-02-02-01-04.wav', 'Actor_04/03-01-02-02-02-02-04.wav', 'Actor_04/03-01-03-01-01-01-04.wav', 'Actor_04/03-01-03-01-01-02-04.wav', 'Actor_04/03-01-03-01-02-01-04.wav', 'Actor_04/03-01-03-01-02-02-04.wav', 'Actor_04/03-01-03-02-01-01-04.wav', 'Actor_04/03-01-03-02-01-02-04.wav', 'Actor_04/03-01-03-02-02-01-04.wav', 'Actor_04/03-01-03-02-02-02-04.wav', 'Actor_04/03-01-04-01-01-01-04.wav', 'Actor_04/03-01-04-01-01-02-04.wav', 'Actor_04/03-01-04-01-02-01-04.wav', 'Actor_04/03-01-04-01-02-02-04.wav', 'Actor_04/03-01-04-02-01-01-04.wav', 'Actor_04/03-01-04-02-01-02-04.wav', 'Actor_04/03-01-04-02-02-01-04.wav', 'Actor_04/03-01-04-02-02-02-04.wav', 'Actor_04/03-01-05-01-01-01-04.wav', 'Actor_04/03-01-05-01-01-02-04.wav', 'Actor_04/03-01-05-01-02-01-04.wav', 'Actor_04/03-01-05-01-02-02-04.wav', 'Actor_04/03-01-05-02-01-01-04.wav', 'Actor_04/03-01-05-02-01-02-04.wav', 'Actor_04/03-01-05-02-02-01-04.wav', 'Actor_04/03-01-05-02-02-02-04.wav', 'Actor_04/03-01-06-01-01-01-04.wav', 'Actor_04/03-01-06-01-01-02-04.wav', 'Actor_04/03-01-06-01-02-01-04.wav', 'Actor_04/03-01-06-01-02-02-04.wav', 'Actor_04/03-01-06-02-01-01-04.wav', 'Actor_04/03-01-06-02-01-02-04.wav', 'Actor_04/03-01-06-02-02-01-04.wav', 'Actor_04/03-01-06-02-02-02-04.wav', 'Actor_04/03-01-07-01-01-01-04.wav', 'Actor_04/03-01-07-01-01-02-04.wav', 'Actor_04/03-01-07-01-02-01-04.wav', 'Actor_04/03-01-07-01-02-02-04.wav', 'Actor_04/03-01-07-02-01-01-04.wav', 'Actor_04/03-01-07-02-01-02-04.wav', 'Actor_04/03-01-07-02-02-01-04.wav', 'Actor_04/03-01-07-02-02-02-04.wav', 'Actor_04/03-01-08-01-01-01-04.wav', 'Actor_04/03-01-08-01-01-02-04.wav', 'Actor_04/03-01-08-01-02-01-04.wav', 'Actor_04/03-01-08-01-02-02-04.wav', 'Actor_04/03-01-08-02-01-01-04.wav', 'Actor_04/03-01-08-02-01-02-04.wav', 'Actor_04/03-01-08-02-02-01-04.wav', 'Actor_04/03-01-08-02-02-02-04.wav', 'Actor_05/03-01-01-01-01-01-05.wav', 'Actor_05/03-01-01-01-01-02-05.wav', 'Actor_05/03-01-01-01-02-01-05.wav', 'Actor_05/03-01-01-01-02-02-05.wav', 'Actor_05/03-01-02-01-01-01-05.wav', 'Actor_05/03-01-02-01-01-02-05.wav', 'Actor_05/03-01-02-01-02-01-05.wav', 'Actor_05/03-01-02-01-02-02-05.wav', 'Actor_05/03-01-02-02-01-01-05.wav', 'Actor_05/03-01-02-02-01-02-05.wav', 'Actor_05/03-01-02-02-02-01-05.wav', 'Actor_05/03-01-02-02-02-02-05.wav', 'Actor_05/03-01-03-01-01-01-05.wav', 'Actor_05/03-01-03-01-01-02-05.wav', 'Actor_05/03-01-03-01-02-01-05.wav', 'Actor_05/03-01-03-01-02-02-05.wav', 'Actor_05/03-01-03-02-01-01-05.wav', 'Actor_05/03-01-03-02-01-02-05.wav', 'Actor_05/03-01-03-02-02-01-05.wav', 'Actor_05/03-01-03-02-02-02-05.wav', 'Actor_05/03-01-04-01-01-01-05.wav', 'Actor_05/03-01-04-01-01-02-05.wav', 'Actor_05/03-01-04-01-02-01-05.wav', 'Actor_05/03-01-04-01-02-02-05.wav', 'Actor_05/03-01-04-02-01-01-05.wav', 'Actor_05/03-01-04-02-01-02-05.wav', 'Actor_05/03-01-04-02-02-01-05.wav', 'Actor_05/03-01-04-02-02-02-05.wav', 'Actor_05/03-01-05-01-01-01-05.wav', 'Actor_05/03-01-05-01-01-02-05.wav', 'Actor_05/03-01-05-01-02-01-05.wav', 'Actor_05/03-01-05-01-02-02-05.wav', 'Actor_05/03-01-05-02-01-01-05.wav', 'Actor_05/03-01-05-02-01-02-05.wav', 'Actor_05/03-01-05-02-02-01-05.wav', 'Actor_05/03-01-05-02-02-02-05.wav', 'Actor_05/03-01-06-01-01-01-05.wav', 'Actor_05/03-01-06-01-01-02-05.wav', 'Actor_05/03-01-06-01-02-01-05.wav', 'Actor_05/03-01-06-01-02-02-05.wav', 'Actor_05/03-01-06-02-01-01-05.wav', 'Actor_05/03-01-06-02-01-02-05.wav', 'Actor_05/03-01-06-02-02-01-05.wav', 'Actor_05/03-01-06-02-02-02-05.wav', 'Actor_05/03-01-07-01-01-01-05.wav', 'Actor_05/03-01-07-01-01-02-05.wav', 'Actor_05/03-01-07-01-02-01-05.wav', 'Actor_05/03-01-07-01-02-02-05.wav', 'Actor_05/03-01-07-02-01-01-05.wav', 'Actor_05/03-01-07-02-01-02-05.wav', 'Actor_05/03-01-07-02-02-01-05.wav', 'Actor_05/03-01-07-02-02-02-05.wav', 'Actor_05/03-01-08-01-01-01-05.wav', 'Actor_05/03-01-08-01-01-02-05.wav', 'Actor_05/03-01-08-01-02-01-05.wav', 'Actor_05/03-01-08-01-02-02-05.wav', 'Actor_05/03-01-08-02-01-01-05.wav', 'Actor_05/03-01-08-02-01-02-05.wav', 'Actor_05/03-01-08-02-02-01-05.wav', 'Actor_05/03-01-08-02-02-02-05.wav', 'Actor_06/03-01-01-01-01-01-06.wav', 'Actor_06/03-01-01-01-01-02-06.wav', 'Actor_06/03-01-01-01-02-01-06.wav', 'Actor_06/03-01-01-01-02-02-06.wav', 'Actor_06/03-01-02-01-01-01-06.wav', 'Actor_06/03-01-02-01-01-02-06.wav', 'Actor_06/03-01-02-01-02-01-06.wav', 'Actor_06/03-01-02-01-02-02-06.wav', 'Actor_06/03-01-02-02-01-01-06.wav', 'Actor_06/03-01-02-02-01-02-06.wav', 'Actor_06/03-01-02-02-02-01-06.wav', 'Actor_06/03-01-02-02-02-02-06.wav', 'Actor_06/03-01-03-01-01-01-06.wav', 'Actor_06/03-01-03-01-01-02-06.wav', 'Actor_06/03-01-03-01-02-01-06.wav', 'Actor_06/03-01-03-01-02-02-06.wav', 'Actor_06/03-01-03-02-01-01-06.wav', 'Actor_06/03-01-03-02-01-02-06.wav', 'Actor_06/03-01-03-02-02-01-06.wav', 'Actor_06/03-01-03-02-02-02-06.wav', 'Actor_06/03-01-04-01-01-01-06.wav', 'Actor_06/03-01-04-01-01-02-06.wav', 'Actor_06/03-01-04-01-02-01-06.wav', 'Actor_06/03-01-04-01-02-02-06.wav', 'Actor_06/03-01-04-02-01-01-06.wav', 'Actor_06/03-01-04-02-01-02-06.wav', 'Actor_06/03-01-04-02-02-01-06.wav', 'Actor_06/03-01-04-02-02-02-06.wav', 'Actor_06/03-01-05-01-01-01-06.wav', 'Actor_06/03-01-05-01-01-02-06.wav', 'Actor_06/03-01-05-01-02-01-06.wav', 'Actor_06/03-01-05-01-02-02-06.wav', 'Actor_06/03-01-05-02-01-01-06.wav', 'Actor_06/03-01-05-02-01-02-06.wav', 'Actor_06/03-01-05-02-02-01-06.wav', 'Actor_06/03-01-05-02-02-02-06.wav', 'Actor_06/03-01-06-01-01-01-06.wav', 'Actor_06/03-01-06-01-01-02-06.wav', 'Actor_06/03-01-06-01-02-01-06.wav', 'Actor_06/03-01-06-01-02-02-06.wav', 'Actor_06/03-01-06-02-01-01-06.wav', 'Actor_06/03-01-06-02-01-02-06.wav', 'Actor_06/03-01-06-02-02-01-06.wav', 'Actor_06/03-01-06-02-02-02-06.wav', 'Actor_06/03-01-07-01-01-01-06.wav', 'Actor_06/03-01-07-01-01-02-06.wav', 'Actor_06/03-01-07-01-02-01-06.wav', 'Actor_06/03-01-07-01-02-02-06.wav', 'Actor_06/03-01-07-02-01-01-06.wav', 'Actor_06/03-01-07-02-01-02-06.wav', 'Actor_06/03-01-07-02-02-01-06.wav', 'Actor_06/03-01-07-02-02-02-06.wav', 'Actor_06/03-01-08-01-01-01-06.wav', 'Actor_06/03-01-08-01-01-02-06.wav', 'Actor_06/03-01-08-01-02-01-06.wav', 'Actor_06/03-01-08-01-02-02-06.wav', 'Actor_06/03-01-08-02-01-01-06.wav', 'Actor_06/03-01-08-02-01-02-06.wav', 'Actor_06/03-01-08-02-02-01-06.wav', 'Actor_06/03-01-08-02-02-02-06.wav', 'Actor_07/03-01-01-01-01-01-07.wav', 'Actor_07/03-01-01-01-01-02-07.wav', 'Actor_07/03-01-01-01-02-01-07.wav', 'Actor_07/03-01-01-01-02-02-07.wav', 'Actor_07/03-01-02-01-01-01-07.wav', 'Actor_07/03-01-02-01-01-02-07.wav', 'Actor_07/03-01-02-01-02-01-07.wav', 'Actor_07/03-01-02-01-02-02-07.wav', 'Actor_07/03-01-02-02-01-01-07.wav', 'Actor_07/03-01-02-02-01-02-07.wav', 'Actor_07/03-01-02-02-02-01-07.wav', 'Actor_07/03-01-02-02-02-02-07.wav', 'Actor_07/03-01-03-01-01-01-07.wav', 'Actor_07/03-01-03-01-01-02-07.wav', 'Actor_07/03-01-03-01-02-01-07.wav', 'Actor_07/03-01-03-01-02-02-07.wav', 'Actor_07/03-01-03-02-01-01-07.wav', 'Actor_07/03-01-03-02-01-02-07.wav', 'Actor_07/03-01-03-02-02-01-07.wav', 'Actor_07/03-01-03-02-02-02-07.wav', 'Actor_07/03-01-04-01-01-01-07.wav', 'Actor_07/03-01-04-01-01-02-07.wav', 'Actor_07/03-01-04-01-02-01-07.wav', 'Actor_07/03-01-04-01-02-02-07.wav', 'Actor_07/03-01-04-02-01-01-07.wav', 'Actor_07/03-01-04-02-01-02-07.wav', 'Actor_07/03-01-04-02-02-01-07.wav', 'Actor_07/03-01-04-02-02-02-07.wav', 'Actor_07/03-01-05-01-01-01-07.wav', 'Actor_07/03-01-05-01-01-02-07.wav', 'Actor_07/03-01-05-01-02-01-07.wav', 'Actor_07/03-01-05-01-02-02-07.wav', 'Actor_07/03-01-05-02-01-01-07.wav', 'Actor_07/03-01-05-02-01-02-07.wav', 'Actor_07/03-01-05-02-02-01-07.wav', 'Actor_07/03-01-05-02-02-02-07.wav', 'Actor_07/03-01-06-01-01-01-07.wav', 'Actor_07/03-01-06-01-01-02-07.wav', 'Actor_07/03-01-06-01-02-01-07.wav', 'Actor_07/03-01-06-01-02-02-07.wav', 'Actor_07/03-01-06-02-01-01-07.wav', 'Actor_07/03-01-06-02-01-02-07.wav', 'Actor_07/03-01-06-02-02-01-07.wav', 'Actor_07/03-01-06-02-02-02-07.wav', 'Actor_07/03-01-07-01-01-01-07.wav', 'Actor_07/03-01-07-01-01-02-07.wav', 'Actor_07/03-01-07-01-02-01-07.wav', 'Actor_07/03-01-07-01-02-02-07.wav', 'Actor_07/03-01-07-02-01-01-07.wav', 'Actor_07/03-01-07-02-01-02-07.wav', 'Actor_07/03-01-07-02-02-01-07.wav', 'Actor_07/03-01-07-02-02-02-07.wav', 'Actor_07/03-01-08-01-01-01-07.wav', 'Actor_07/03-01-08-01-01-02-07.wav', 'Actor_07/03-01-08-01-02-01-07.wav', 'Actor_07/03-01-08-01-02-02-07.wav', 'Actor_07/03-01-08-02-01-01-07.wav', 'Actor_07/03-01-08-02-01-02-07.wav', 'Actor_07/03-01-08-02-02-01-07.wav', 'Actor_07/03-01-08-02-02-02-07.wav', 'Actor_08/03-01-01-01-01-01-08.wav', 'Actor_08/03-01-01-01-01-02-08.wav', 'Actor_08/03-01-01-01-02-01-08.wav', 'Actor_08/03-01-01-01-02-02-08.wav', 'Actor_08/03-01-02-01-01-01-08.wav', 'Actor_08/03-01-02-01-01-02-08.wav', 'Actor_08/03-01-02-01-02-01-08.wav', 'Actor_08/03-01-02-01-02-02-08.wav', 'Actor_08/03-01-02-02-01-01-08.wav', 'Actor_08/03-01-02-02-01-02-08.wav', 'Actor_08/03-01-02-02-02-01-08.wav', 'Actor_08/03-01-02-02-02-02-08.wav', 'Actor_08/03-01-03-01-01-01-08.wav', 'Actor_08/03-01-03-01-01-02-08.wav', 'Actor_08/03-01-03-01-02-01-08.wav', 'Actor_08/03-01-03-01-02-02-08.wav', 'Actor_08/03-01-03-02-01-01-08.wav', 'Actor_08/03-01-03-02-01-02-08.wav', 'Actor_08/03-01-03-02-02-01-08.wav', 'Actor_08/03-01-03-02-02-02-08.wav', 'Actor_08/03-01-04-01-01-01-08.wav', 'Actor_08/03-01-04-01-01-02-08.wav', 'Actor_08/03-01-04-01-02-01-08.wav', 'Actor_08/03-01-04-01-02-02-08.wav', 'Actor_08/03-01-04-02-01-01-08.wav', 'Actor_08/03-01-04-02-01-02-08.wav', 'Actor_08/03-01-04-02-02-01-08.wav', 'Actor_08/03-01-04-02-02-02-08.wav', 'Actor_08/03-01-05-01-01-01-08.wav', 'Actor_08/03-01-05-01-01-02-08.wav', 'Actor_08/03-01-05-01-02-01-08.wav', 'Actor_08/03-01-05-01-02-02-08.wav', 'Actor_08/03-01-05-02-01-01-08.wav', 'Actor_08/03-01-05-02-01-02-08.wav', 'Actor_08/03-01-05-02-02-01-08.wav', 'Actor_08/03-01-05-02-02-02-08.wav', 'Actor_08/03-01-06-01-01-01-08.wav', 'Actor_08/03-01-06-01-01-02-08.wav', 'Actor_08/03-01-06-01-02-01-08.wav', 'Actor_08/03-01-06-01-02-02-08.wav', 'Actor_08/03-01-06-02-01-01-08.wav', 'Actor_08/03-01-06-02-01-02-08.wav', 'Actor_08/03-01-06-02-02-01-08.wav', 'Actor_08/03-01-06-02-02-02-08.wav', 'Actor_08/03-01-07-01-01-01-08.wav', 'Actor_08/03-01-07-01-01-02-08.wav', 'Actor_08/03-01-07-01-02-01-08.wav', 'Actor_08/03-01-07-01-02-02-08.wav', 'Actor_08/03-01-07-02-01-01-08.wav', 'Actor_08/03-01-07-02-01-02-08.wav', 'Actor_08/03-01-07-02-02-01-08.wav', 'Actor_08/03-01-07-02-02-02-08.wav', 'Actor_08/03-01-08-01-01-01-08.wav', 'Actor_08/03-01-08-01-01-02-08.wav', 'Actor_08/03-01-08-01-02-01-08.wav', 'Actor_08/03-01-08-01-02-02-08.wav', 'Actor_08/03-01-08-02-01-01-08.wav', 'Actor_08/03-01-08-02-01-02-08.wav', 'Actor_08/03-01-08-02-02-01-08.wav', 'Actor_08/03-01-08-02-02-02-08.wav', 'Actor_09/03-01-01-01-01-01-09.wav', 'Actor_09/03-01-01-01-01-02-09.wav', 'Actor_09/03-01-01-01-02-01-09.wav', 'Actor_09/03-01-01-01-02-02-09.wav', 'Actor_09/03-01-02-01-01-01-09.wav', 'Actor_09/03-01-02-01-01-02-09.wav', 'Actor_09/03-01-02-01-02-01-09.wav', 'Actor_09/03-01-02-01-02-02-09.wav', 'Actor_09/03-01-02-02-01-01-09.wav', 'Actor_09/03-01-02-02-01-02-09.wav', 'Actor_09/03-01-02-02-02-01-09.wav', 'Actor_09/03-01-02-02-02-02-09.wav', 'Actor_09/03-01-03-01-01-01-09.wav', 'Actor_09/03-01-03-01-01-02-09.wav', 'Actor_09/03-01-03-01-02-01-09.wav', 'Actor_09/03-01-03-01-02-02-09.wav', 'Actor_09/03-01-03-02-01-01-09.wav', 'Actor_09/03-01-03-02-01-02-09.wav', 'Actor_09/03-01-03-02-02-01-09.wav', 'Actor_09/03-01-03-02-02-02-09.wav', 'Actor_09/03-01-04-01-01-01-09.wav', 'Actor_09/03-01-04-01-01-02-09.wav', 'Actor_09/03-01-04-01-02-01-09.wav', 'Actor_09/03-01-04-01-02-02-09.wav', 'Actor_09/03-01-04-02-01-01-09.wav', 'Actor_09/03-01-04-02-01-02-09.wav', 'Actor_09/03-01-04-02-02-01-09.wav', 'Actor_09/03-01-04-02-02-02-09.wav', 'Actor_09/03-01-05-01-01-01-09.wav', 'Actor_09/03-01-05-01-01-02-09.wav', 'Actor_09/03-01-05-01-02-01-09.wav', 'Actor_09/03-01-05-01-02-02-09.wav', 'Actor_09/03-01-05-02-01-01-09.wav', 'Actor_09/03-01-05-02-01-02-09.wav', 'Actor_09/03-01-05-02-02-01-09.wav', 'Actor_09/03-01-05-02-02-02-09.wav', 'Actor_09/03-01-06-01-01-01-09.wav', 'Actor_09/03-01-06-01-01-02-09.wav', 'Actor_09/03-01-06-01-02-01-09.wav', 'Actor_09/03-01-06-01-02-02-09.wav', 'Actor_09/03-01-06-02-01-01-09.wav', 'Actor_09/03-01-06-02-01-02-09.wav', 'Actor_09/03-01-06-02-02-01-09.wav', 'Actor_09/03-01-06-02-02-02-09.wav', 'Actor_09/03-01-07-01-01-01-09.wav', 'Actor_09/03-01-07-01-01-02-09.wav', 'Actor_09/03-01-07-01-02-01-09.wav', 'Actor_09/03-01-07-01-02-02-09.wav', 'Actor_09/03-01-07-02-01-01-09.wav', 'Actor_09/03-01-07-02-01-02-09.wav', 'Actor_09/03-01-07-02-02-01-09.wav', 'Actor_09/03-01-07-02-02-02-09.wav', 'Actor_09/03-01-08-01-01-01-09.wav', 'Actor_09/03-01-08-01-01-02-09.wav', 'Actor_09/03-01-08-01-02-01-09.wav', 'Actor_09/03-01-08-01-02-02-09.wav', 'Actor_09/03-01-08-02-01-01-09.wav', 'Actor_09/03-01-08-02-01-02-09.wav', 'Actor_09/03-01-08-02-02-01-09.wav', 'Actor_09/03-01-08-02-02-02-09.wav', 'Actor_10/03-01-01-01-01-01-10.wav', 'Actor_10/03-01-01-01-01-02-10.wav', 'Actor_10/03-01-01-01-02-01-10.wav', 'Actor_10/03-01-01-01-02-02-10.wav', 'Actor_10/03-01-02-01-01-01-10.wav', 'Actor_10/03-01-02-01-01-02-10.wav', 'Actor_10/03-01-02-01-02-01-10.wav', 'Actor_10/03-01-02-01-02-02-10.wav', 'Actor_10/03-01-02-02-01-01-10.wav', 'Actor_10/03-01-02-02-01-02-10.wav', 'Actor_10/03-01-02-02-02-01-10.wav', 'Actor_10/03-01-02-02-02-02-10.wav', 'Actor_10/03-01-03-01-01-01-10.wav', 'Actor_10/03-01-03-01-01-02-10.wav', 'Actor_10/03-01-03-01-02-01-10.wav', 'Actor_10/03-01-03-01-02-02-10.wav', 'Actor_10/03-01-03-02-01-01-10.wav', 'Actor_10/03-01-03-02-01-02-10.wav', 'Actor_10/03-01-03-02-02-01-10.wav', 'Actor_10/03-01-03-02-02-02-10.wav', 'Actor_10/03-01-04-01-01-01-10.wav', 'Actor_10/03-01-04-01-01-02-10.wav', 'Actor_10/03-01-04-01-02-01-10.wav', 'Actor_10/03-01-04-01-02-02-10.wav', 'Actor_10/03-01-04-02-01-01-10.wav', 'Actor_10/03-01-04-02-01-02-10.wav', 'Actor_10/03-01-04-02-02-01-10.wav', 'Actor_10/03-01-04-02-02-02-10.wav', 'Actor_10/03-01-05-01-01-01-10.wav', 'Actor_10/03-01-05-01-01-02-10.wav', 'Actor_10/03-01-05-01-02-01-10.wav', 'Actor_10/03-01-05-01-02-02-10.wav', 'Actor_10/03-01-05-02-01-01-10.wav', 'Actor_10/03-01-05-02-01-02-10.wav', 'Actor_10/03-01-05-02-02-01-10.wav', 'Actor_10/03-01-05-02-02-02-10.wav', 'Actor_10/03-01-06-01-01-01-10.wav', 'Actor_10/03-01-06-01-01-02-10.wav', 'Actor_10/03-01-06-01-02-01-10.wav', 'Actor_10/03-01-06-01-02-02-10.wav', 'Actor_10/03-01-06-02-01-01-10.wav', 'Actor_10/03-01-06-02-01-02-10.wav', 'Actor_10/03-01-06-02-02-01-10.wav', 'Actor_10/03-01-06-02-02-02-10.wav', 'Actor_10/03-01-07-01-01-01-10.wav', 'Actor_10/03-01-07-01-01-02-10.wav', 'Actor_10/03-01-07-01-02-01-10.wav', 'Actor_10/03-01-07-01-02-02-10.wav', 'Actor_10/03-01-07-02-01-01-10.wav', 'Actor_10/03-01-07-02-01-02-10.wav', 'Actor_10/03-01-07-02-02-01-10.wav', 'Actor_10/03-01-07-02-02-02-10.wav', 'Actor_10/03-01-08-01-01-01-10.wav', 'Actor_10/03-01-08-01-01-02-10.wav', 'Actor_10/03-01-08-01-02-01-10.wav', 'Actor_10/03-01-08-01-02-02-10.wav', 'Actor_10/03-01-08-02-01-01-10.wav', 'Actor_10/03-01-08-02-01-02-10.wav', 'Actor_10/03-01-08-02-02-01-10.wav', 'Actor_10/03-01-08-02-02-02-10.wav', 'Actor_11/03-01-01-01-01-01-11.wav', 'Actor_11/03-01-01-01-01-02-11.wav', 'Actor_11/03-01-01-01-02-01-11.wav', 'Actor_11/03-01-01-01-02-02-11.wav', 'Actor_11/03-01-02-01-01-01-11.wav', 'Actor_11/03-01-02-01-01-02-11.wav', 'Actor_11/03-01-02-01-02-01-11.wav', 'Actor_11/03-01-02-01-02-02-11.wav', 'Actor_11/03-01-02-02-01-01-11.wav', 'Actor_11/03-01-02-02-01-02-11.wav', 'Actor_11/03-01-02-02-02-01-11.wav', 'Actor_11/03-01-02-02-02-02-11.wav', 'Actor_11/03-01-03-01-01-01-11.wav', 'Actor_11/03-01-03-01-01-02-11.wav', 'Actor_11/03-01-03-01-02-01-11.wav', 'Actor_11/03-01-03-01-02-02-11.wav', 'Actor_11/03-01-03-02-01-01-11.wav', 'Actor_11/03-01-03-02-01-02-11.wav', 'Actor_11/03-01-03-02-02-01-11.wav', 'Actor_11/03-01-03-02-02-02-11.wav', 'Actor_11/03-01-04-01-01-01-11.wav', 'Actor_11/03-01-04-01-01-02-11.wav', 'Actor_11/03-01-04-01-02-01-11.wav', 'Actor_11/03-01-04-01-02-02-11.wav', 'Actor_11/03-01-04-02-01-01-11.wav', 'Actor_11/03-01-04-02-01-02-11.wav', 'Actor_11/03-01-04-02-02-01-11.wav', 'Actor_11/03-01-04-02-02-02-11.wav', 'Actor_11/03-01-05-01-01-01-11.wav', 'Actor_11/03-01-05-01-01-02-11.wav', 'Actor_11/03-01-05-01-02-01-11.wav', 'Actor_11/03-01-05-01-02-02-11.wav', 'Actor_11/03-01-05-02-01-01-11.wav', 'Actor_11/03-01-05-02-01-02-11.wav', 'Actor_11/03-01-05-02-02-01-11.wav', 'Actor_11/03-01-05-02-02-02-11.wav', 'Actor_11/03-01-06-01-01-01-11.wav', 'Actor_11/03-01-06-01-01-02-11.wav', 'Actor_11/03-01-06-01-02-01-11.wav', 'Actor_11/03-01-06-01-02-02-11.wav', 'Actor_11/03-01-06-02-01-01-11.wav', 'Actor_11/03-01-06-02-01-02-11.wav', 'Actor_11/03-01-06-02-02-01-11.wav', 'Actor_11/03-01-06-02-02-02-11.wav', 'Actor_11/03-01-07-01-01-01-11.wav', 'Actor_11/03-01-07-01-01-02-11.wav', 'Actor_11/03-01-07-01-02-01-11.wav', 'Actor_11/03-01-07-01-02-02-11.wav', 'Actor_11/03-01-07-02-01-01-11.wav', 'Actor_11/03-01-07-02-01-02-11.wav', 'Actor_11/03-01-07-02-02-01-11.wav', 'Actor_11/03-01-07-02-02-02-11.wav', 'Actor_11/03-01-08-01-01-01-11.wav', 'Actor_11/03-01-08-01-01-02-11.wav', 'Actor_11/03-01-08-01-02-01-11.wav', 'Actor_11/03-01-08-01-02-02-11.wav', 'Actor_11/03-01-08-02-01-01-11.wav', 'Actor_11/03-01-08-02-01-02-11.wav', 'Actor_11/03-01-08-02-02-01-11.wav', 'Actor_11/03-01-08-02-02-02-11.wav', 'Actor_12/03-01-01-01-01-01-12.wav', 'Actor_12/03-01-01-01-01-02-12.wav', 'Actor_12/03-01-01-01-02-01-12.wav', 'Actor_12/03-01-01-01-02-02-12.wav', 'Actor_12/03-01-02-01-01-01-12.wav', 'Actor_12/03-01-02-01-01-02-12.wav', 'Actor_12/03-01-02-01-02-01-12.wav', 'Actor_12/03-01-02-01-02-02-12.wav', 'Actor_12/03-01-02-02-01-01-12.wav', 'Actor_12/03-01-02-02-01-02-12.wav', 'Actor_12/03-01-02-02-02-01-12.wav', 'Actor_12/03-01-02-02-02-02-12.wav', 'Actor_12/03-01-03-01-01-01-12.wav', 'Actor_12/03-01-03-01-01-02-12.wav', 'Actor_12/03-01-03-01-02-01-12.wav', 'Actor_12/03-01-03-01-02-02-12.wav', 'Actor_12/03-01-03-02-01-01-12.wav', 'Actor_12/03-01-03-02-01-02-12.wav', 'Actor_12/03-01-03-02-02-01-12.wav', 'Actor_12/03-01-03-02-02-02-12.wav', 'Actor_12/03-01-04-01-01-01-12.wav', 'Actor_12/03-01-04-01-01-02-12.wav', 'Actor_12/03-01-04-01-02-01-12.wav', 'Actor_12/03-01-04-01-02-02-12.wav', 'Actor_12/03-01-04-02-01-01-12.wav', 'Actor_12/03-01-04-02-01-02-12.wav', 'Actor_12/03-01-04-02-02-01-12.wav', 'Actor_12/03-01-04-02-02-02-12.wav', 'Actor_12/03-01-05-01-01-01-12.wav', 'Actor_12/03-01-05-01-01-02-12.wav', 'Actor_12/03-01-05-01-02-01-12.wav', 'Actor_12/03-01-05-01-02-02-12.wav', 'Actor_12/03-01-05-02-01-01-12.wav', 'Actor_12/03-01-05-02-01-02-12.wav', 'Actor_12/03-01-05-02-02-01-12.wav', 'Actor_12/03-01-05-02-02-02-12.wav', 'Actor_12/03-01-06-01-01-01-12.wav', 'Actor_12/03-01-06-01-01-02-12.wav', 'Actor_12/03-01-06-01-02-01-12.wav', 'Actor_12/03-01-06-01-02-02-12.wav', 'Actor_12/03-01-06-02-01-01-12.wav', 'Actor_12/03-01-06-02-01-02-12.wav', 'Actor_12/03-01-06-02-02-01-12.wav', 'Actor_12/03-01-06-02-02-02-12.wav', 'Actor_12/03-01-07-01-01-01-12.wav', 'Actor_12/03-01-07-01-01-02-12.wav', 'Actor_12/03-01-07-01-02-01-12.wav', 'Actor_12/03-01-07-01-02-02-12.wav', 'Actor_12/03-01-07-02-01-01-12.wav', 'Actor_12/03-01-07-02-01-02-12.wav', 'Actor_12/03-01-07-02-02-01-12.wav', 'Actor_12/03-01-07-02-02-02-12.wav', 'Actor_12/03-01-08-01-01-01-12.wav', 'Actor_12/03-01-08-01-01-02-12.wav', 'Actor_12/03-01-08-01-02-01-12.wav', 'Actor_12/03-01-08-01-02-02-12.wav', 'Actor_12/03-01-08-02-01-01-12.wav', 'Actor_12/03-01-08-02-01-02-12.wav', 'Actor_12/03-01-08-02-02-01-12.wav', 'Actor_12/03-01-08-02-02-02-12.wav', 'Actor_13/03-01-01-01-01-01-13.wav', 'Actor_13/03-01-01-01-01-02-13.wav', 'Actor_13/03-01-01-01-02-01-13.wav', 'Actor_13/03-01-01-01-02-02-13.wav', 'Actor_13/03-01-02-01-01-01-13.wav', 'Actor_13/03-01-02-01-01-02-13.wav', 'Actor_13/03-01-02-01-02-01-13.wav', 'Actor_13/03-01-02-01-02-02-13.wav', 'Actor_13/03-01-02-02-01-01-13.wav', 'Actor_13/03-01-02-02-01-02-13.wav', 'Actor_13/03-01-02-02-02-01-13.wav', 'Actor_13/03-01-02-02-02-02-13.wav', 'Actor_13/03-01-03-01-01-01-13.wav', 'Actor_13/03-01-03-01-01-02-13.wav', 'Actor_13/03-01-03-01-02-01-13.wav', 'Actor_13/03-01-03-01-02-02-13.wav', 'Actor_13/03-01-03-02-01-01-13.wav', 'Actor_13/03-01-03-02-01-02-13.wav', 'Actor_13/03-01-03-02-02-01-13.wav', 'Actor_13/03-01-03-02-02-02-13.wav', 'Actor_13/03-01-04-01-01-01-13.wav', 'Actor_13/03-01-04-01-01-02-13.wav', 'Actor_13/03-01-04-01-02-01-13.wav', 'Actor_13/03-01-04-01-02-02-13.wav', 'Actor_13/03-01-04-02-01-01-13.wav', 'Actor_13/03-01-04-02-01-02-13.wav', 'Actor_13/03-01-04-02-02-01-13.wav', 'Actor_13/03-01-04-02-02-02-13.wav', 'Actor_13/03-01-05-01-01-01-13.wav', 'Actor_13/03-01-05-01-01-02-13.wav', 'Actor_13/03-01-05-01-02-01-13.wav', 'Actor_13/03-01-05-01-02-02-13.wav', 'Actor_13/03-01-05-02-01-01-13.wav', 'Actor_13/03-01-05-02-01-02-13.wav', 'Actor_13/03-01-05-02-02-01-13.wav', 'Actor_13/03-01-05-02-02-02-13.wav', 'Actor_13/03-01-06-01-01-01-13.wav', 'Actor_13/03-01-06-01-01-02-13.wav', 'Actor_13/03-01-06-01-02-01-13.wav', 'Actor_13/03-01-06-01-02-02-13.wav', 'Actor_13/03-01-06-02-01-01-13.wav', 'Actor_13/03-01-06-02-01-02-13.wav', 'Actor_13/03-01-06-02-02-01-13.wav', 'Actor_13/03-01-06-02-02-02-13.wav', 'Actor_13/03-01-07-01-01-01-13.wav', 'Actor_13/03-01-07-01-01-02-13.wav', 'Actor_13/03-01-07-01-02-01-13.wav', 'Actor_13/03-01-07-01-02-02-13.wav', 'Actor_13/03-01-07-02-01-01-13.wav', 'Actor_13/03-01-07-02-01-02-13.wav', 'Actor_13/03-01-07-02-02-01-13.wav', 'Actor_13/03-01-07-02-02-02-13.wav', 'Actor_13/03-01-08-01-01-01-13.wav', 'Actor_13/03-01-08-01-01-02-13.wav', 'Actor_13/03-01-08-01-02-01-13.wav', 'Actor_13/03-01-08-01-02-02-13.wav', 'Actor_13/03-01-08-02-01-01-13.wav', 'Actor_13/03-01-08-02-01-02-13.wav', 'Actor_13/03-01-08-02-02-01-13.wav', 'Actor_13/03-01-08-02-02-02-13.wav', 'Actor_14/03-01-01-01-01-01-14.wav', 'Actor_14/03-01-01-01-01-02-14.wav', 'Actor_14/03-01-01-01-02-01-14.wav', 'Actor_14/03-01-01-01-02-02-14.wav', 'Actor_14/03-01-02-01-01-01-14.wav', 'Actor_14/03-01-02-01-01-02-14.wav', 'Actor_14/03-01-02-01-02-01-14.wav', 'Actor_14/03-01-02-01-02-02-14.wav', 'Actor_14/03-01-02-02-01-01-14.wav', 'Actor_14/03-01-02-02-01-02-14.wav', 'Actor_14/03-01-02-02-02-01-14.wav', 'Actor_14/03-01-02-02-02-02-14.wav', 'Actor_14/03-01-03-01-01-01-14.wav', 'Actor_14/03-01-03-01-01-02-14.wav', 'Actor_14/03-01-03-01-02-01-14.wav', 'Actor_14/03-01-03-01-02-02-14.wav', 'Actor_14/03-01-03-02-01-01-14.wav', 'Actor_14/03-01-03-02-01-02-14.wav', 'Actor_14/03-01-03-02-02-01-14.wav', 'Actor_14/03-01-03-02-02-02-14.wav', 'Actor_14/03-01-04-01-01-01-14.wav', 'Actor_14/03-01-04-01-01-02-14.wav', 'Actor_14/03-01-04-01-02-01-14.wav', 'Actor_14/03-01-04-01-02-02-14.wav', 'Actor_14/03-01-04-02-01-01-14.wav', 'Actor_14/03-01-04-02-01-02-14.wav', 'Actor_14/03-01-04-02-02-01-14.wav', 'Actor_14/03-01-04-02-02-02-14.wav', 'Actor_14/03-01-05-01-01-01-14.wav', 'Actor_14/03-01-05-01-01-02-14.wav', 'Actor_14/03-01-05-01-02-01-14.wav', 'Actor_14/03-01-05-01-02-02-14.wav', 'Actor_14/03-01-05-02-01-01-14.wav', 'Actor_14/03-01-05-02-01-02-14.wav', 'Actor_14/03-01-05-02-02-01-14.wav', 'Actor_14/03-01-05-02-02-02-14.wav', 'Actor_14/03-01-06-01-01-01-14.wav', 'Actor_14/03-01-06-01-01-02-14.wav', 'Actor_14/03-01-06-01-02-01-14.wav', 'Actor_14/03-01-06-01-02-02-14.wav', 'Actor_14/03-01-06-02-01-01-14.wav', 'Actor_14/03-01-06-02-01-02-14.wav', 'Actor_14/03-01-06-02-02-01-14.wav', 'Actor_14/03-01-06-02-02-02-14.wav', 'Actor_14/03-01-07-01-01-01-14.wav', 'Actor_14/03-01-07-01-01-02-14.wav', 'Actor_14/03-01-07-01-02-01-14.wav', 'Actor_14/03-01-07-01-02-02-14.wav', 'Actor_14/03-01-07-02-01-01-14.wav', 'Actor_14/03-01-07-02-01-02-14.wav', 'Actor_14/03-01-07-02-02-01-14.wav', 'Actor_14/03-01-07-02-02-02-14.wav', 'Actor_14/03-01-08-01-01-01-14.wav', 'Actor_14/03-01-08-01-01-02-14.wav', 'Actor_14/03-01-08-01-02-01-14.wav', 'Actor_14/03-01-08-01-02-02-14.wav', 'Actor_14/03-01-08-02-01-01-14.wav', 'Actor_14/03-01-08-02-01-02-14.wav', 'Actor_14/03-01-08-02-02-01-14.wav', 'Actor_14/03-01-08-02-02-02-14.wav', 'Actor_15/03-01-01-01-01-01-15.wav', 'Actor_15/03-01-01-01-01-02-15.wav', 'Actor_15/03-01-01-01-02-01-15.wav', 'Actor_15/03-01-01-01-02-02-15.wav', 'Actor_15/03-01-02-01-01-01-15.wav', 'Actor_15/03-01-02-01-01-02-15.wav', 'Actor_15/03-01-02-01-02-01-15.wav', 'Actor_15/03-01-02-01-02-02-15.wav', 'Actor_15/03-01-02-02-01-01-15.wav', 'Actor_15/03-01-02-02-01-02-15.wav', 'Actor_15/03-01-02-02-02-01-15.wav', 'Actor_15/03-01-02-02-02-02-15.wav', 'Actor_15/03-01-03-01-01-01-15.wav', 'Actor_15/03-01-03-01-01-02-15.wav', 'Actor_15/03-01-03-01-02-01-15.wav', 'Actor_15/03-01-03-01-02-02-15.wav', 'Actor_15/03-01-03-02-01-01-15.wav', 'Actor_15/03-01-03-02-01-02-15.wav', 'Actor_15/03-01-03-02-02-01-15.wav', 'Actor_15/03-01-03-02-02-02-15.wav', 'Actor_15/03-01-04-01-01-01-15.wav', 'Actor_15/03-01-04-01-01-02-15.wav', 'Actor_15/03-01-04-01-02-01-15.wav', 'Actor_15/03-01-04-01-02-02-15.wav', 'Actor_15/03-01-04-02-01-01-15.wav', 'Actor_15/03-01-04-02-01-02-15.wav', 'Actor_15/03-01-04-02-02-01-15.wav', 'Actor_15/03-01-04-02-02-02-15.wav', 'Actor_15/03-01-05-01-01-01-15.wav', 'Actor_15/03-01-05-01-01-02-15.wav', 'Actor_15/03-01-05-01-02-01-15.wav', 'Actor_15/03-01-05-01-02-02-15.wav', 'Actor_15/03-01-05-02-01-01-15.wav', 'Actor_15/03-01-05-02-01-02-15.wav', 'Actor_15/03-01-05-02-02-01-15.wav', 'Actor_15/03-01-05-02-02-02-15.wav', 'Actor_15/03-01-06-01-01-01-15.wav', 'Actor_15/03-01-06-01-01-02-15.wav', 'Actor_15/03-01-06-01-02-01-15.wav', 'Actor_15/03-01-06-01-02-02-15.wav', 'Actor_15/03-01-06-02-01-01-15.wav', 'Actor_15/03-01-06-02-01-02-15.wav', 'Actor_15/03-01-06-02-02-01-15.wav', 'Actor_15/03-01-06-02-02-02-15.wav', 'Actor_15/03-01-07-01-01-01-15.wav', 'Actor_15/03-01-07-01-01-02-15.wav', 'Actor_15/03-01-07-01-02-01-15.wav', 'Actor_15/03-01-07-01-02-02-15.wav', 'Actor_15/03-01-07-02-01-01-15.wav', 'Actor_15/03-01-07-02-01-02-15.wav', 'Actor_15/03-01-07-02-02-01-15.wav', 'Actor_15/03-01-07-02-02-02-15.wav', 'Actor_15/03-01-08-01-01-01-15.wav', 'Actor_15/03-01-08-01-01-02-15.wav', 'Actor_15/03-01-08-01-02-01-15.wav', 'Actor_15/03-01-08-01-02-02-15.wav', 'Actor_15/03-01-08-02-01-01-15.wav', 'Actor_15/03-01-08-02-01-02-15.wav', 'Actor_15/03-01-08-02-02-01-15.wav', 'Actor_15/03-01-08-02-02-02-15.wav', 'Actor_16/03-01-01-01-01-01-16.wav', 'Actor_16/03-01-01-01-01-02-16.wav', 'Actor_16/03-01-01-01-02-01-16.wav', 'Actor_16/03-01-01-01-02-02-16.wav', 'Actor_16/03-01-02-01-01-01-16.wav', 'Actor_16/03-01-02-01-01-02-16.wav', 'Actor_16/03-01-02-01-02-01-16.wav', 'Actor_16/03-01-02-01-02-02-16.wav', 'Actor_16/03-01-02-02-01-01-16.wav', 'Actor_16/03-01-02-02-01-02-16.wav', 'Actor_16/03-01-02-02-02-01-16.wav', 'Actor_16/03-01-02-02-02-02-16.wav', 'Actor_16/03-01-03-01-01-01-16.wav', 'Actor_16/03-01-03-01-01-02-16.wav', 'Actor_16/03-01-03-01-02-01-16.wav', 'Actor_16/03-01-03-01-02-02-16.wav', 'Actor_16/03-01-03-02-01-01-16.wav', 'Actor_16/03-01-03-02-01-02-16.wav', 'Actor_16/03-01-03-02-02-01-16.wav', 'Actor_16/03-01-03-02-02-02-16.wav', 'Actor_16/03-01-04-01-01-01-16.wav', 'Actor_16/03-01-04-01-01-02-16.wav', 'Actor_16/03-01-04-01-02-01-16.wav', 'Actor_16/03-01-04-01-02-02-16.wav', 'Actor_16/03-01-04-02-01-01-16.wav', 'Actor_16/03-01-04-02-01-02-16.wav', 'Actor_16/03-01-04-02-02-01-16.wav', 'Actor_16/03-01-04-02-02-02-16.wav', 'Actor_16/03-01-05-01-01-01-16.wav', 'Actor_16/03-01-05-01-01-02-16.wav', 'Actor_16/03-01-05-01-02-01-16.wav', 'Actor_16/03-01-05-01-02-02-16.wav', 'Actor_16/03-01-05-02-01-01-16.wav', 'Actor_16/03-01-05-02-01-02-16.wav', 'Actor_16/03-01-05-02-02-01-16.wav', 'Actor_16/03-01-05-02-02-02-16.wav', 'Actor_16/03-01-06-01-01-01-16.wav', 'Actor_16/03-01-06-01-01-02-16.wav', 'Actor_16/03-01-06-01-02-01-16.wav', 'Actor_16/03-01-06-01-02-02-16.wav', 'Actor_16/03-01-06-02-01-01-16.wav', 'Actor_16/03-01-06-02-01-02-16.wav', 'Actor_16/03-01-06-02-02-01-16.wav', 'Actor_16/03-01-06-02-02-02-16.wav', 'Actor_16/03-01-07-01-01-01-16.wav', 'Actor_16/03-01-07-01-01-02-16.wav', 'Actor_16/03-01-07-01-02-01-16.wav', 'Actor_16/03-01-07-01-02-02-16.wav', 'Actor_16/03-01-07-02-01-01-16.wav', 'Actor_16/03-01-07-02-01-02-16.wav', 'Actor_16/03-01-07-02-02-01-16.wav', 'Actor_16/03-01-07-02-02-02-16.wav', 'Actor_16/03-01-08-01-01-01-16.wav', 'Actor_16/03-01-08-01-01-02-16.wav', 'Actor_16/03-01-08-01-02-01-16.wav', 'Actor_16/03-01-08-01-02-02-16.wav', 'Actor_16/03-01-08-02-01-01-16.wav', 'Actor_16/03-01-08-02-01-02-16.wav', 'Actor_16/03-01-08-02-02-01-16.wav', 'Actor_16/03-01-08-02-02-02-16.wav', 'Actor_17/03-01-01-01-01-01-17.wav', 'Actor_17/03-01-01-01-01-02-17.wav', 'Actor_17/03-01-01-01-02-01-17.wav', 'Actor_17/03-01-01-01-02-02-17.wav', 'Actor_17/03-01-02-01-01-01-17.wav', 'Actor_17/03-01-02-01-01-02-17.wav', 'Actor_17/03-01-02-01-02-01-17.wav', 'Actor_17/03-01-02-01-02-02-17.wav', 'Actor_17/03-01-02-02-01-01-17.wav', 'Actor_17/03-01-02-02-01-02-17.wav', 'Actor_17/03-01-02-02-02-01-17.wav', 'Actor_17/03-01-02-02-02-02-17.wav', 'Actor_17/03-01-03-01-01-01-17.wav', 'Actor_17/03-01-03-01-01-02-17.wav', 'Actor_17/03-01-03-01-02-01-17.wav', 'Actor_17/03-01-03-01-02-02-17.wav', 'Actor_17/03-01-03-02-01-01-17.wav', 'Actor_17/03-01-03-02-01-02-17.wav', 'Actor_17/03-01-03-02-02-01-17.wav', 'Actor_17/03-01-03-02-02-02-17.wav', 'Actor_17/03-01-04-01-01-01-17.wav', 'Actor_17/03-01-04-01-01-02-17.wav', 'Actor_17/03-01-04-01-02-01-17.wav', 'Actor_17/03-01-04-01-02-02-17.wav', 'Actor_17/03-01-04-02-01-01-17.wav', 'Actor_17/03-01-04-02-01-02-17.wav', 'Actor_17/03-01-04-02-02-01-17.wav', 'Actor_17/03-01-04-02-02-02-17.wav', 'Actor_17/03-01-05-01-01-01-17.wav', 'Actor_17/03-01-05-01-01-02-17.wav', 'Actor_17/03-01-05-01-02-01-17.wav', 'Actor_17/03-01-05-01-02-02-17.wav', 'Actor_17/03-01-05-02-01-01-17.wav', 'Actor_17/03-01-05-02-01-02-17.wav', 'Actor_17/03-01-05-02-02-01-17.wav', 'Actor_17/03-01-05-02-02-02-17.wav', 'Actor_17/03-01-06-01-01-01-17.wav', 'Actor_17/03-01-06-01-01-02-17.wav', 'Actor_17/03-01-06-01-02-01-17.wav', 'Actor_17/03-01-06-01-02-02-17.wav', 'Actor_17/03-01-06-02-01-01-17.wav', 'Actor_17/03-01-06-02-01-02-17.wav', 'Actor_17/03-01-06-02-02-01-17.wav', 'Actor_17/03-01-06-02-02-02-17.wav', 'Actor_17/03-01-07-01-01-01-17.wav', 'Actor_17/03-01-07-01-01-02-17.wav', 'Actor_17/03-01-07-01-02-01-17.wav', 'Actor_17/03-01-07-01-02-02-17.wav', 'Actor_17/03-01-07-02-01-01-17.wav', 'Actor_17/03-01-07-02-01-02-17.wav', 'Actor_17/03-01-07-02-02-01-17.wav', 'Actor_17/03-01-07-02-02-02-17.wav', 'Actor_17/03-01-08-01-01-01-17.wav', 'Actor_17/03-01-08-01-01-02-17.wav', 'Actor_17/03-01-08-01-02-01-17.wav', 'Actor_17/03-01-08-01-02-02-17.wav', 'Actor_17/03-01-08-02-01-01-17.wav', 'Actor_17/03-01-08-02-01-02-17.wav', 'Actor_17/03-01-08-02-02-01-17.wav', 'Actor_17/03-01-08-02-02-02-17.wav', 'Actor_18/03-01-01-01-01-01-18.wav', 'Actor_18/03-01-01-01-01-02-18.wav', 'Actor_18/03-01-01-01-02-01-18.wav', 'Actor_18/03-01-01-01-02-02-18.wav', 'Actor_18/03-01-02-01-01-01-18.wav', 'Actor_18/03-01-02-01-01-02-18.wav', 'Actor_18/03-01-02-01-02-01-18.wav', 'Actor_18/03-01-02-01-02-02-18.wav', 'Actor_18/03-01-02-02-01-01-18.wav', 'Actor_18/03-01-02-02-01-02-18.wav', 'Actor_18/03-01-02-02-02-01-18.wav', 'Actor_18/03-01-02-02-02-02-18.wav', 'Actor_18/03-01-03-01-01-01-18.wav', 'Actor_18/03-01-03-01-01-02-18.wav', 'Actor_18/03-01-03-01-02-01-18.wav', 'Actor_18/03-01-03-01-02-02-18.wav', 'Actor_18/03-01-03-02-01-01-18.wav', 'Actor_18/03-01-03-02-01-02-18.wav', 'Actor_18/03-01-03-02-02-01-18.wav', 'Actor_18/03-01-03-02-02-02-18.wav', 'Actor_18/03-01-04-01-01-01-18.wav', 'Actor_18/03-01-04-01-01-02-18.wav', 'Actor_18/03-01-04-01-02-01-18.wav', 'Actor_18/03-01-04-01-02-02-18.wav', 'Actor_18/03-01-04-02-01-01-18.wav', 'Actor_18/03-01-04-02-01-02-18.wav', 'Actor_18/03-01-04-02-02-01-18.wav', 'Actor_18/03-01-04-02-02-02-18.wav', 'Actor_18/03-01-05-01-01-01-18.wav', 'Actor_18/03-01-05-01-01-02-18.wav', 'Actor_18/03-01-05-01-02-01-18.wav', 'Actor_18/03-01-05-01-02-02-18.wav', 'Actor_18/03-01-05-02-01-01-18.wav', 'Actor_18/03-01-05-02-01-02-18.wav', 'Actor_18/03-01-05-02-02-01-18.wav', 'Actor_18/03-01-05-02-02-02-18.wav', 'Actor_18/03-01-06-01-01-01-18.wav', 'Actor_18/03-01-06-01-01-02-18.wav', 'Actor_18/03-01-06-01-02-01-18.wav', 'Actor_18/03-01-06-01-02-02-18.wav', 'Actor_18/03-01-06-02-01-01-18.wav', 'Actor_18/03-01-06-02-01-02-18.wav', 'Actor_18/03-01-06-02-02-01-18.wav', 'Actor_18/03-01-06-02-02-02-18.wav', 'Actor_18/03-01-07-01-01-01-18.wav', 'Actor_18/03-01-07-01-01-02-18.wav', 'Actor_18/03-01-07-01-02-01-18.wav', 'Actor_18/03-01-07-01-02-02-18.wav', 'Actor_18/03-01-07-02-01-01-18.wav', 'Actor_18/03-01-07-02-01-02-18.wav', 'Actor_18/03-01-07-02-02-01-18.wav', 'Actor_18/03-01-07-02-02-02-18.wav', 'Actor_18/03-01-08-01-01-01-18.wav', 'Actor_18/03-01-08-01-01-02-18.wav', 'Actor_18/03-01-08-01-02-01-18.wav', 'Actor_18/03-01-08-01-02-02-18.wav', 'Actor_18/03-01-08-02-01-01-18.wav', 'Actor_18/03-01-08-02-01-02-18.wav', 'Actor_18/03-01-08-02-02-01-18.wav', 'Actor_18/03-01-08-02-02-02-18.wav', 'Actor_19/03-01-01-01-01-01-19.wav', 'Actor_19/03-01-01-01-01-02-19.wav', 'Actor_19/03-01-01-01-02-01-19.wav', 'Actor_19/03-01-01-01-02-02-19.wav', 'Actor_19/03-01-02-01-01-01-19.wav', 'Actor_19/03-01-02-01-01-02-19.wav', 'Actor_19/03-01-02-01-02-01-19.wav', 'Actor_19/03-01-02-01-02-02-19.wav', 'Actor_19/03-01-02-02-01-01-19.wav', 'Actor_19/03-01-02-02-01-02-19.wav', 'Actor_19/03-01-02-02-02-01-19.wav', 'Actor_19/03-01-02-02-02-02-19.wav', 'Actor_19/03-01-03-01-01-01-19.wav', 'Actor_19/03-01-03-01-01-02-19.wav', 'Actor_19/03-01-03-01-02-01-19.wav', 'Actor_19/03-01-03-01-02-02-19.wav', 'Actor_19/03-01-03-02-01-01-19.wav', 'Actor_19/03-01-03-02-01-02-19.wav', 'Actor_19/03-01-03-02-02-01-19.wav', 'Actor_19/03-01-03-02-02-02-19.wav', 'Actor_19/03-01-04-01-01-01-19.wav', 'Actor_19/03-01-04-01-01-02-19.wav', 'Actor_19/03-01-04-01-02-01-19.wav', 'Actor_19/03-01-04-01-02-02-19.wav', 'Actor_19/03-01-04-02-01-01-19.wav', 'Actor_19/03-01-04-02-01-02-19.wav', 'Actor_19/03-01-04-02-02-01-19.wav', 'Actor_19/03-01-04-02-02-02-19.wav', 'Actor_19/03-01-05-01-01-01-19.wav', 'Actor_19/03-01-05-01-01-02-19.wav', 'Actor_19/03-01-05-01-02-01-19.wav', 'Actor_19/03-01-05-01-02-02-19.wav', 'Actor_19/03-01-05-02-01-01-19.wav', 'Actor_19/03-01-05-02-01-02-19.wav', 'Actor_19/03-01-05-02-02-01-19.wav', 'Actor_19/03-01-05-02-02-02-19.wav', 'Actor_19/03-01-06-01-01-01-19.wav', 'Actor_19/03-01-06-01-01-02-19.wav', 'Actor_19/03-01-06-01-02-01-19.wav', 'Actor_19/03-01-06-01-02-02-19.wav', 'Actor_19/03-01-06-02-01-01-19.wav', 'Actor_19/03-01-06-02-01-02-19.wav', 'Actor_19/03-01-06-02-02-01-19.wav', 'Actor_19/03-01-06-02-02-02-19.wav', 'Actor_19/03-01-07-01-01-01-19.wav', 'Actor_19/03-01-07-01-01-02-19.wav', 'Actor_19/03-01-07-01-02-01-19.wav', 'Actor_19/03-01-07-01-02-02-19.wav', 'Actor_19/03-01-07-02-01-01-19.wav', 'Actor_19/03-01-07-02-01-02-19.wav', 'Actor_19/03-01-07-02-02-01-19.wav', 'Actor_19/03-01-07-02-02-02-19.wav', 'Actor_19/03-01-08-01-01-01-19.wav', 'Actor_19/03-01-08-01-01-02-19.wav', 'Actor_19/03-01-08-01-02-01-19.wav', 'Actor_19/03-01-08-01-02-02-19.wav', 'Actor_19/03-01-08-02-01-01-19.wav', 'Actor_19/03-01-08-02-01-02-19.wav', 'Actor_19/03-01-08-02-02-01-19.wav', 'Actor_19/03-01-08-02-02-02-19.wav', 'Actor_20/03-01-01-01-01-01-20.wav', 'Actor_20/03-01-01-01-01-02-20.wav', 'Actor_20/03-01-01-01-02-01-20.wav', 'Actor_20/03-01-01-01-02-02-20.wav', 'Actor_20/03-01-02-01-01-01-20.wav', 'Actor_20/03-01-02-01-01-02-20.wav', 'Actor_20/03-01-02-01-02-01-20.wav', 'Actor_20/03-01-02-01-02-02-20.wav', 'Actor_20/03-01-02-02-01-01-20.wav', 'Actor_20/03-01-02-02-01-02-20.wav', 'Actor_20/03-01-02-02-02-01-20.wav', 'Actor_20/03-01-02-02-02-02-20.wav', 'Actor_20/03-01-03-01-01-01-20.wav', 'Actor_20/03-01-03-01-01-02-20.wav', 'Actor_20/03-01-03-01-02-01-20.wav', 'Actor_20/03-01-03-01-02-02-20.wav', 'Actor_20/03-01-03-02-01-01-20.wav', 'Actor_20/03-01-03-02-01-02-20.wav', 'Actor_20/03-01-03-02-02-01-20.wav', 'Actor_20/03-01-03-02-02-02-20.wav', 'Actor_20/03-01-04-01-01-01-20.wav', 'Actor_20/03-01-04-01-01-02-20.wav', 'Actor_20/03-01-04-01-02-01-20.wav', 'Actor_20/03-01-04-01-02-02-20.wav', 'Actor_20/03-01-04-02-01-01-20.wav', 'Actor_20/03-01-04-02-01-02-20.wav', 'Actor_20/03-01-04-02-02-01-20.wav', 'Actor_20/03-01-04-02-02-02-20.wav', 'Actor_20/03-01-05-01-01-01-20.wav', 'Actor_20/03-01-05-01-01-02-20.wav', 'Actor_20/03-01-05-01-02-01-20.wav', 'Actor_20/03-01-05-01-02-02-20.wav', 'Actor_20/03-01-05-02-01-01-20.wav', 'Actor_20/03-01-05-02-01-02-20.wav', 'Actor_20/03-01-05-02-02-01-20.wav', 'Actor_20/03-01-05-02-02-02-20.wav', 'Actor_20/03-01-06-01-01-01-20.wav', 'Actor_20/03-01-06-01-01-02-20.wav', 'Actor_20/03-01-06-01-02-01-20.wav', 'Actor_20/03-01-06-01-02-02-20.wav', 'Actor_20/03-01-06-02-01-01-20.wav', 'Actor_20/03-01-06-02-01-02-20.wav', 'Actor_20/03-01-06-02-02-01-20.wav', 'Actor_20/03-01-06-02-02-02-20.wav', 'Actor_20/03-01-07-01-01-01-20.wav', 'Actor_20/03-01-07-01-01-02-20.wav', 'Actor_20/03-01-07-01-02-01-20.wav', 'Actor_20/03-01-07-01-02-02-20.wav', 'Actor_20/03-01-07-02-01-01-20.wav', 'Actor_20/03-01-07-02-01-02-20.wav', 'Actor_20/03-01-07-02-02-01-20.wav', 'Actor_20/03-01-07-02-02-02-20.wav', 'Actor_20/03-01-08-01-01-01-20.wav', 'Actor_20/03-01-08-01-01-02-20.wav', 'Actor_20/03-01-08-01-02-01-20.wav', 'Actor_20/03-01-08-01-02-02-20.wav', 'Actor_20/03-01-08-02-01-01-20.wav', 'Actor_20/03-01-08-02-01-02-20.wav', 'Actor_20/03-01-08-02-02-01-20.wav', 'Actor_20/03-01-08-02-02-02-20.wav', 'Actor_21/03-01-01-01-01-01-21.wav', 'Actor_21/03-01-01-01-01-02-21.wav', 'Actor_21/03-01-01-01-02-01-21.wav', 'Actor_21/03-01-01-01-02-02-21.wav', 'Actor_21/03-01-02-01-01-01-21.wav', 'Actor_21/03-01-02-01-01-02-21.wav', 'Actor_21/03-01-02-01-02-01-21.wav', 'Actor_21/03-01-02-01-02-02-21.wav', 'Actor_21/03-01-02-02-01-01-21.wav', 'Actor_21/03-01-02-02-01-02-21.wav', 'Actor_21/03-01-02-02-02-01-21.wav', 'Actor_21/03-01-02-02-02-02-21.wav', 'Actor_21/03-01-03-01-01-01-21.wav', 'Actor_21/03-01-03-01-01-02-21.wav', 'Actor_21/03-01-03-01-02-01-21.wav', 'Actor_21/03-01-03-01-02-02-21.wav', 'Actor_21/03-01-03-02-01-01-21.wav', 'Actor_21/03-01-03-02-01-02-21.wav', 'Actor_21/03-01-03-02-02-01-21.wav', 'Actor_21/03-01-03-02-02-02-21.wav', 'Actor_21/03-01-04-01-01-01-21.wav', 'Actor_21/03-01-04-01-01-02-21.wav', 'Actor_21/03-01-04-01-02-01-21.wav', 'Actor_21/03-01-04-01-02-02-21.wav', 'Actor_21/03-01-04-02-01-01-21.wav', 'Actor_21/03-01-04-02-01-02-21.wav', 'Actor_21/03-01-04-02-02-01-21.wav', 'Actor_21/03-01-04-02-02-02-21.wav', 'Actor_21/03-01-05-01-01-01-21.wav', 'Actor_21/03-01-05-01-01-02-21.wav', 'Actor_21/03-01-05-01-02-01-21.wav', 'Actor_21/03-01-05-01-02-02-21.wav', 'Actor_21/03-01-05-02-01-01-21.wav', 'Actor_21/03-01-05-02-01-02-21.wav', 'Actor_21/03-01-05-02-02-01-21.wav', 'Actor_21/03-01-05-02-02-02-21.wav', 'Actor_21/03-01-06-01-01-01-21.wav', 'Actor_21/03-01-06-01-01-02-21.wav', 'Actor_21/03-01-06-01-02-01-21.wav', 'Actor_21/03-01-06-01-02-02-21.wav', 'Actor_21/03-01-06-02-01-01-21.wav', 'Actor_21/03-01-06-02-01-02-21.wav', 'Actor_21/03-01-06-02-02-01-21.wav', 'Actor_21/03-01-06-02-02-02-21.wav', 'Actor_21/03-01-07-01-01-01-21.wav', 'Actor_21/03-01-07-01-01-02-21.wav', 'Actor_21/03-01-07-01-02-01-21.wav', 'Actor_21/03-01-07-01-02-02-21.wav', 'Actor_21/03-01-07-02-01-01-21.wav', 'Actor_21/03-01-07-02-01-02-21.wav', 'Actor_21/03-01-07-02-02-01-21.wav', 'Actor_21/03-01-07-02-02-02-21.wav', 'Actor_21/03-01-08-01-01-01-21.wav', 'Actor_21/03-01-08-01-01-02-21.wav', 'Actor_21/03-01-08-01-02-01-21.wav', 'Actor_21/03-01-08-01-02-02-21.wav', 'Actor_21/03-01-08-02-01-01-21.wav', 'Actor_21/03-01-08-02-01-02-21.wav', 'Actor_21/03-01-08-02-02-01-21.wav', 'Actor_21/03-01-08-02-02-02-21.wav', 'Actor_22/03-01-01-01-01-01-22.wav', 'Actor_22/03-01-01-01-01-02-22.wav', 'Actor_22/03-01-01-01-02-01-22.wav', 'Actor_22/03-01-01-01-02-02-22.wav', 'Actor_22/03-01-02-01-01-01-22.wav', 'Actor_22/03-01-02-01-01-02-22.wav', 'Actor_22/03-01-02-01-02-01-22.wav', 'Actor_22/03-01-02-01-02-02-22.wav', 'Actor_22/03-01-02-02-01-01-22.wav', 'Actor_22/03-01-02-02-01-02-22.wav', 'Actor_22/03-01-02-02-02-01-22.wav', 'Actor_22/03-01-02-02-02-02-22.wav', 'Actor_22/03-01-03-01-01-01-22.wav', 'Actor_22/03-01-03-01-01-02-22.wav', 'Actor_22/03-01-03-01-02-01-22.wav', 'Actor_22/03-01-03-01-02-02-22.wav', 'Actor_22/03-01-03-02-01-01-22.wav', 'Actor_22/03-01-03-02-01-02-22.wav', 'Actor_22/03-01-03-02-02-01-22.wav', 'Actor_22/03-01-03-02-02-02-22.wav', 'Actor_22/03-01-04-01-01-01-22.wav', 'Actor_22/03-01-04-01-01-02-22.wav', 'Actor_22/03-01-04-01-02-01-22.wav', 'Actor_22/03-01-04-01-02-02-22.wav', 'Actor_22/03-01-04-02-01-01-22.wav', 'Actor_22/03-01-04-02-01-02-22.wav', 'Actor_22/03-01-04-02-02-01-22.wav', 'Actor_22/03-01-04-02-02-02-22.wav', 'Actor_22/03-01-05-01-01-01-22.wav', 'Actor_22/03-01-05-01-01-02-22.wav', 'Actor_22/03-01-05-01-02-01-22.wav', 'Actor_22/03-01-05-01-02-02-22.wav', 'Actor_22/03-01-05-02-01-01-22.wav', 'Actor_22/03-01-05-02-01-02-22.wav', 'Actor_22/03-01-05-02-02-01-22.wav', 'Actor_22/03-01-05-02-02-02-22.wav', 'Actor_22/03-01-06-01-01-01-22.wav', 'Actor_22/03-01-06-01-01-02-22.wav', 'Actor_22/03-01-06-01-02-01-22.wav', 'Actor_22/03-01-06-01-02-02-22.wav', 'Actor_22/03-01-06-02-01-01-22.wav', 'Actor_22/03-01-06-02-01-02-22.wav', 'Actor_22/03-01-06-02-02-01-22.wav', 'Actor_22/03-01-06-02-02-02-22.wav', 'Actor_22/03-01-07-01-01-01-22.wav', 'Actor_22/03-01-07-01-01-02-22.wav', 'Actor_22/03-01-07-01-02-01-22.wav', 'Actor_22/03-01-07-01-02-02-22.wav', 'Actor_22/03-01-07-02-01-01-22.wav', 'Actor_22/03-01-07-02-01-02-22.wav', 'Actor_22/03-01-07-02-02-01-22.wav', 'Actor_22/03-01-07-02-02-02-22.wav', 'Actor_22/03-01-08-01-01-01-22.wav', 'Actor_22/03-01-08-01-01-02-22.wav', 'Actor_22/03-01-08-01-02-01-22.wav', 'Actor_22/03-01-08-01-02-02-22.wav', 'Actor_22/03-01-08-02-01-01-22.wav', 'Actor_22/03-01-08-02-01-02-22.wav', 'Actor_22/03-01-08-02-02-01-22.wav', 'Actor_22/03-01-08-02-02-02-22.wav', 'Actor_23/03-01-01-01-01-01-23.wav', 'Actor_23/03-01-01-01-01-02-23.wav', 'Actor_23/03-01-01-01-02-01-23.wav', 'Actor_23/03-01-01-01-02-02-23.wav', 'Actor_23/03-01-02-01-01-01-23.wav', 'Actor_23/03-01-02-01-01-02-23.wav', 'Actor_23/03-01-02-01-02-01-23.wav', 'Actor_23/03-01-02-01-02-02-23.wav', 'Actor_23/03-01-02-02-01-01-23.wav', 'Actor_23/03-01-02-02-01-02-23.wav', 'Actor_23/03-01-02-02-02-01-23.wav', 'Actor_23/03-01-02-02-02-02-23.wav', 'Actor_23/03-01-03-01-01-01-23.wav', 'Actor_23/03-01-03-01-01-02-23.wav', 'Actor_23/03-01-03-01-02-01-23.wav', 'Actor_23/03-01-03-01-02-02-23.wav', 'Actor_23/03-01-03-02-01-01-23.wav', 'Actor_23/03-01-03-02-01-02-23.wav', 'Actor_23/03-01-03-02-02-01-23.wav', 'Actor_23/03-01-03-02-02-02-23.wav', 'Actor_23/03-01-04-01-01-01-23.wav', 'Actor_23/03-01-04-01-01-02-23.wav', 'Actor_23/03-01-04-01-02-01-23.wav', 'Actor_23/03-01-04-01-02-02-23.wav', 'Actor_23/03-01-04-02-01-01-23.wav', 'Actor_23/03-01-04-02-01-02-23.wav', 'Actor_23/03-01-04-02-02-01-23.wav', 'Actor_23/03-01-04-02-02-02-23.wav', 'Actor_23/03-01-05-01-01-01-23.wav', 'Actor_23/03-01-05-01-01-02-23.wav', 'Actor_23/03-01-05-01-02-01-23.wav', 'Actor_23/03-01-05-01-02-02-23.wav', 'Actor_23/03-01-05-02-01-01-23.wav', 'Actor_23/03-01-05-02-01-02-23.wav', 'Actor_23/03-01-05-02-02-01-23.wav', 'Actor_23/03-01-05-02-02-02-23.wav', 'Actor_23/03-01-06-01-01-01-23.wav', 'Actor_23/03-01-06-01-01-02-23.wav', 'Actor_23/03-01-06-01-02-01-23.wav', 'Actor_23/03-01-06-01-02-02-23.wav', 'Actor_23/03-01-06-02-01-01-23.wav', 'Actor_23/03-01-06-02-01-02-23.wav', 'Actor_23/03-01-06-02-02-01-23.wav', 'Actor_23/03-01-06-02-02-02-23.wav', 'Actor_23/03-01-07-01-01-01-23.wav', 'Actor_23/03-01-07-01-01-02-23.wav', 'Actor_23/03-01-07-01-02-01-23.wav', 'Actor_23/03-01-07-01-02-02-23.wav', 'Actor_23/03-01-07-02-01-01-23.wav', 'Actor_23/03-01-07-02-01-02-23.wav', 'Actor_23/03-01-07-02-02-01-23.wav', 'Actor_23/03-01-07-02-02-02-23.wav', 'Actor_23/03-01-08-01-01-01-23.wav', 'Actor_23/03-01-08-01-01-02-23.wav', 'Actor_23/03-01-08-01-02-01-23.wav', 'Actor_23/03-01-08-01-02-02-23.wav', 'Actor_23/03-01-08-02-01-01-23.wav', 'Actor_23/03-01-08-02-01-02-23.wav', 'Actor_23/03-01-08-02-02-01-23.wav', 'Actor_23/03-01-08-02-02-02-23.wav', 'Actor_24/03-01-01-01-01-01-24.wav', 'Actor_24/03-01-01-01-01-02-24.wav', 'Actor_24/03-01-01-01-02-01-24.wav', 'Actor_24/03-01-01-01-02-02-24.wav', 'Actor_24/03-01-02-01-01-01-24.wav', 'Actor_24/03-01-02-01-01-02-24.wav', 'Actor_24/03-01-02-01-02-01-24.wav', 'Actor_24/03-01-02-01-02-02-24.wav', 'Actor_24/03-01-02-02-01-01-24.wav', 'Actor_24/03-01-02-02-01-02-24.wav', 'Actor_24/03-01-02-02-02-01-24.wav', 'Actor_24/03-01-02-02-02-02-24.wav', 'Actor_24/03-01-03-01-01-01-24.wav', 'Actor_24/03-01-03-01-01-02-24.wav', 'Actor_24/03-01-03-01-02-01-24.wav', 'Actor_24/03-01-03-01-02-02-24.wav', 'Actor_24/03-01-03-02-01-01-24.wav', 'Actor_24/03-01-03-02-01-02-24.wav', 'Actor_24/03-01-03-02-02-01-24.wav', 'Actor_24/03-01-03-02-02-02-24.wav', 'Actor_24/03-01-04-01-01-01-24.wav', 'Actor_24/03-01-04-01-01-02-24.wav', 'Actor_24/03-01-04-01-02-01-24.wav', 'Actor_24/03-01-04-01-02-02-24.wav', 'Actor_24/03-01-04-02-01-01-24.wav', 'Actor_24/03-01-04-02-01-02-24.wav', 'Actor_24/03-01-04-02-02-01-24.wav', 'Actor_24/03-01-04-02-02-02-24.wav', 'Actor_24/03-01-05-01-01-01-24.wav', 'Actor_24/03-01-05-01-01-02-24.wav', 'Actor_24/03-01-05-01-02-01-24.wav', 'Actor_24/03-01-05-01-02-02-24.wav', 'Actor_24/03-01-05-02-01-01-24.wav', 'Actor_24/03-01-05-02-01-02-24.wav', 'Actor_24/03-01-05-02-02-01-24.wav', 'Actor_24/03-01-05-02-02-02-24.wav', 'Actor_24/03-01-06-01-01-01-24.wav', 'Actor_24/03-01-06-01-01-02-24.wav', 'Actor_24/03-01-06-01-02-01-24.wav', 'Actor_24/03-01-06-01-02-02-24.wav', 'Actor_24/03-01-06-02-01-01-24.wav', 'Actor_24/03-01-06-02-01-02-24.wav', 'Actor_24/03-01-06-02-02-01-24.wav', 'Actor_24/03-01-06-02-02-02-24.wav', 'Actor_24/03-01-07-01-01-01-24.wav', 'Actor_24/03-01-07-01-01-02-24.wav', 'Actor_24/03-01-07-01-02-01-24.wav', 'Actor_24/03-01-07-01-02-02-24.wav', 'Actor_24/03-01-07-02-01-01-24.wav', 'Actor_24/03-01-07-02-01-02-24.wav', 'Actor_24/03-01-07-02-02-01-24.wav', 'Actor_24/03-01-07-02-02-02-24.wav', 'Actor_24/03-01-08-01-01-01-24.wav', 'Actor_24/03-01-08-01-01-02-24.wav', 'Actor_24/03-01-08-01-02-01-24.wav', 'Actor_24/03-01-08-01-02-02-24.wav', 'Actor_24/03-01-08-02-01-01-24.wav', 'Actor_24/03-01-08-02-01-02-24.wav', 'Actor_24/03-01-08-02-02-01-24.wav', 'Actor_24/03-01-08-02-02-02-24.wav', 'audio_speech_actors_01-24/Actor_01/03-01-01-01-01-01-01.wav', 'audio_speech_actors_01-24/Actor_01/03-01-01-01-01-02-01.wav', 'audio_speech_actors_01-24/Actor_01/03-01-01-01-02-01-01.wav', 'audio_speech_actors_01-24/Actor_01/03-01-01-01-02-02-01.wav', 'audio_speech_actors_01-24/Actor_01/03-01-02-01-01-01-01.wav', 'audio_speech_actors_01-24/Actor_01/03-01-02-01-01-02-01.wav', 'audio_speech_actors_01-24/Actor_01/03-01-02-01-02-01-01.wav', 'audio_speech_actors_01-24/Actor_01/03-01-02-01-02-02-01.wav', 'audio_speech_actors_01-24/Actor_01/03-01-02-02-01-01-01.wav', 'audio_speech_actors_01-24/Actor_01/03-01-02-02-01-02-01.wav', 'audio_speech_actors_01-24/Actor_01/03-01-02-02-02-01-01.wav', 'audio_speech_actors_01-24/Actor_01/03-01-02-02-02-02-01.wav', 'audio_speech_actors_01-24/Actor_01/03-01-03-01-01-01-01.wav', 'audio_speech_actors_01-24/Actor_01/03-01-03-01-01-02-01.wav', 'audio_speech_actors_01-24/Actor_01/03-01-03-01-02-01-01.wav', 'audio_speech_actors_01-24/Actor_01/03-01-03-01-02-02-01.wav', 'audio_speech_actors_01-24/Actor_01/03-01-03-02-01-01-01.wav', 'audio_speech_actors_01-24/Actor_01/03-01-03-02-01-02-01.wav', 'audio_speech_actors_01-24/Actor_01/03-01-03-02-02-01-01.wav', 'audio_speech_actors_01-24/Actor_01/03-01-03-02-02-02-01.wav', 'audio_speech_actors_01-24/Actor_01/03-01-04-01-01-01-01.wav', 'audio_speech_actors_01-24/Actor_01/03-01-04-01-01-02-01.wav', 'audio_speech_actors_01-24/Actor_01/03-01-04-01-02-01-01.wav', 'audio_speech_actors_01-24/Actor_01/03-01-04-01-02-02-01.wav', 'audio_speech_actors_01-24/Actor_01/03-01-04-02-01-01-01.wav', 'audio_speech_actors_01-24/Actor_01/03-01-04-02-01-02-01.wav', 'audio_speech_actors_01-24/Actor_01/03-01-04-02-02-01-01.wav', 'audio_speech_actors_01-24/Actor_01/03-01-04-02-02-02-01.wav', 'audio_speech_actors_01-24/Actor_01/03-01-05-01-01-01-01.wav', 'audio_speech_actors_01-24/Actor_01/03-01-05-01-01-02-01.wav', 'audio_speech_actors_01-24/Actor_01/03-01-05-01-02-01-01.wav', 'audio_speech_actors_01-24/Actor_01/03-01-05-01-02-02-01.wav', 'audio_speech_actors_01-24/Actor_01/03-01-05-02-01-01-01.wav', 'audio_speech_actors_01-24/Actor_01/03-01-05-02-01-02-01.wav', 'audio_speech_actors_01-24/Actor_01/03-01-05-02-02-01-01.wav', 'audio_speech_actors_01-24/Actor_01/03-01-05-02-02-02-01.wav', 'audio_speech_actors_01-24/Actor_01/03-01-06-01-01-01-01.wav', 'audio_speech_actors_01-24/Actor_01/03-01-06-01-01-02-01.wav', 'audio_speech_actors_01-24/Actor_01/03-01-06-01-02-01-01.wav', 'audio_speech_actors_01-24/Actor_01/03-01-06-01-02-02-01.wav', 'audio_speech_actors_01-24/Actor_01/03-01-06-02-01-01-01.wav', 'audio_speech_actors_01-24/Actor_01/03-01-06-02-01-02-01.wav', 'audio_speech_actors_01-24/Actor_01/03-01-06-02-02-01-01.wav', 'audio_speech_actors_01-24/Actor_01/03-01-06-02-02-02-01.wav', 'audio_speech_actors_01-24/Actor_01/03-01-07-01-01-01-01.wav', 'audio_speech_actors_01-24/Actor_01/03-01-07-01-01-02-01.wav', 'audio_speech_actors_01-24/Actor_01/03-01-07-01-02-01-01.wav', 'audio_speech_actors_01-24/Actor_01/03-01-07-01-02-02-01.wav', 'audio_speech_actors_01-24/Actor_01/03-01-07-02-01-01-01.wav', 'audio_speech_actors_01-24/Actor_01/03-01-07-02-01-02-01.wav', 'audio_speech_actors_01-24/Actor_01/03-01-07-02-02-01-01.wav', 'audio_speech_actors_01-24/Actor_01/03-01-07-02-02-02-01.wav', 'audio_speech_actors_01-24/Actor_01/03-01-08-01-01-01-01.wav', 'audio_speech_actors_01-24/Actor_01/03-01-08-01-01-02-01.wav', 'audio_speech_actors_01-24/Actor_01/03-01-08-01-02-01-01.wav', 'audio_speech_actors_01-24/Actor_01/03-01-08-01-02-02-01.wav', 'audio_speech_actors_01-24/Actor_01/03-01-08-02-01-01-01.wav', 'audio_speech_actors_01-24/Actor_01/03-01-08-02-01-02-01.wav', 'audio_speech_actors_01-24/Actor_01/03-01-08-02-02-01-01.wav', 'audio_speech_actors_01-24/Actor_01/03-01-08-02-02-02-01.wav', 'audio_speech_actors_01-24/Actor_02/03-01-01-01-01-01-02.wav', 'audio_speech_actors_01-24/Actor_02/03-01-01-01-01-02-02.wav', 'audio_speech_actors_01-24/Actor_02/03-01-01-01-02-01-02.wav', 'audio_speech_actors_01-24/Actor_02/03-01-01-01-02-02-02.wav', 'audio_speech_actors_01-24/Actor_02/03-01-02-01-01-01-02.wav', 'audio_speech_actors_01-24/Actor_02/03-01-02-01-01-02-02.wav', 'audio_speech_actors_01-24/Actor_02/03-01-02-01-02-01-02.wav', 'audio_speech_actors_01-24/Actor_02/03-01-02-01-02-02-02.wav', 'audio_speech_actors_01-24/Actor_02/03-01-02-02-01-01-02.wav', 'audio_speech_actors_01-24/Actor_02/03-01-02-02-01-02-02.wav', 'audio_speech_actors_01-24/Actor_02/03-01-02-02-02-01-02.wav', 'audio_speech_actors_01-24/Actor_02/03-01-02-02-02-02-02.wav', 'audio_speech_actors_01-24/Actor_02/03-01-03-01-01-01-02.wav', 'audio_speech_actors_01-24/Actor_02/03-01-03-01-01-02-02.wav', 'audio_speech_actors_01-24/Actor_02/03-01-03-01-02-01-02.wav', 'audio_speech_actors_01-24/Actor_02/03-01-03-01-02-02-02.wav', 'audio_speech_actors_01-24/Actor_02/03-01-03-02-01-01-02.wav', 'audio_speech_actors_01-24/Actor_02/03-01-03-02-01-02-02.wav', 'audio_speech_actors_01-24/Actor_02/03-01-03-02-02-01-02.wav', 'audio_speech_actors_01-24/Actor_02/03-01-03-02-02-02-02.wav', 'audio_speech_actors_01-24/Actor_02/03-01-04-01-01-01-02.wav', 'audio_speech_actors_01-24/Actor_02/03-01-04-01-01-02-02.wav', 'audio_speech_actors_01-24/Actor_02/03-01-04-01-02-01-02.wav', 'audio_speech_actors_01-24/Actor_02/03-01-04-01-02-02-02.wav', 'audio_speech_actors_01-24/Actor_02/03-01-04-02-01-01-02.wav', 'audio_speech_actors_01-24/Actor_02/03-01-04-02-01-02-02.wav', 'audio_speech_actors_01-24/Actor_02/03-01-04-02-02-01-02.wav', 'audio_speech_actors_01-24/Actor_02/03-01-04-02-02-02-02.wav', 'audio_speech_actors_01-24/Actor_02/03-01-05-01-01-01-02.wav', 'audio_speech_actors_01-24/Actor_02/03-01-05-01-01-02-02.wav', 'audio_speech_actors_01-24/Actor_02/03-01-05-01-02-01-02.wav', 'audio_speech_actors_01-24/Actor_02/03-01-05-01-02-02-02.wav', 'audio_speech_actors_01-24/Actor_02/03-01-05-02-01-01-02.wav', 'audio_speech_actors_01-24/Actor_02/03-01-05-02-01-02-02.wav', 'audio_speech_actors_01-24/Actor_02/03-01-05-02-02-01-02.wav', 'audio_speech_actors_01-24/Actor_02/03-01-05-02-02-02-02.wav', 'audio_speech_actors_01-24/Actor_02/03-01-06-01-01-01-02.wav', 'audio_speech_actors_01-24/Actor_02/03-01-06-01-01-02-02.wav', 'audio_speech_actors_01-24/Actor_02/03-01-06-01-02-01-02.wav', 'audio_speech_actors_01-24/Actor_02/03-01-06-01-02-02-02.wav', 'audio_speech_actors_01-24/Actor_02/03-01-06-02-01-01-02.wav', 'audio_speech_actors_01-24/Actor_02/03-01-06-02-01-02-02.wav', 'audio_speech_actors_01-24/Actor_02/03-01-06-02-02-01-02.wav', 'audio_speech_actors_01-24/Actor_02/03-01-06-02-02-02-02.wav', 'audio_speech_actors_01-24/Actor_02/03-01-07-01-01-01-02.wav', 'audio_speech_actors_01-24/Actor_02/03-01-07-01-01-02-02.wav', 'audio_speech_actors_01-24/Actor_02/03-01-07-01-02-01-02.wav', 'audio_speech_actors_01-24/Actor_02/03-01-07-01-02-02-02.wav', 'audio_speech_actors_01-24/Actor_02/03-01-07-02-01-01-02.wav', 'audio_speech_actors_01-24/Actor_02/03-01-07-02-01-02-02.wav', 'audio_speech_actors_01-24/Actor_02/03-01-07-02-02-01-02.wav', 'audio_speech_actors_01-24/Actor_02/03-01-07-02-02-02-02.wav', 'audio_speech_actors_01-24/Actor_02/03-01-08-01-01-01-02.wav', 'audio_speech_actors_01-24/Actor_02/03-01-08-01-01-02-02.wav', 'audio_speech_actors_01-24/Actor_02/03-01-08-01-02-01-02.wav', 'audio_speech_actors_01-24/Actor_02/03-01-08-01-02-02-02.wav', 'audio_speech_actors_01-24/Actor_02/03-01-08-02-01-01-02.wav', 'audio_speech_actors_01-24/Actor_02/03-01-08-02-01-02-02.wav', 'audio_speech_actors_01-24/Actor_02/03-01-08-02-02-01-02.wav', 'audio_speech_actors_01-24/Actor_02/03-01-08-02-02-02-02.wav', 'audio_speech_actors_01-24/Actor_03/03-01-01-01-01-01-03.wav', 'audio_speech_actors_01-24/Actor_03/03-01-01-01-01-02-03.wav', 'audio_speech_actors_01-24/Actor_03/03-01-01-01-02-01-03.wav', 'audio_speech_actors_01-24/Actor_03/03-01-01-01-02-02-03.wav', 'audio_speech_actors_01-24/Actor_03/03-01-02-01-01-01-03.wav', 'audio_speech_actors_01-24/Actor_03/03-01-02-01-01-02-03.wav', 'audio_speech_actors_01-24/Actor_03/03-01-02-01-02-01-03.wav', 'audio_speech_actors_01-24/Actor_03/03-01-02-01-02-02-03.wav', 'audio_speech_actors_01-24/Actor_03/03-01-02-02-01-01-03.wav', 'audio_speech_actors_01-24/Actor_03/03-01-02-02-01-02-03.wav', 'audio_speech_actors_01-24/Actor_03/03-01-02-02-02-01-03.wav', 'audio_speech_actors_01-24/Actor_03/03-01-02-02-02-02-03.wav', 'audio_speech_actors_01-24/Actor_03/03-01-03-01-01-01-03.wav', 'audio_speech_actors_01-24/Actor_03/03-01-03-01-01-02-03.wav', 'audio_speech_actors_01-24/Actor_03/03-01-03-01-02-01-03.wav', 'audio_speech_actors_01-24/Actor_03/03-01-03-01-02-02-03.wav', 'audio_speech_actors_01-24/Actor_03/03-01-03-02-01-01-03.wav', 'audio_speech_actors_01-24/Actor_03/03-01-03-02-01-02-03.wav', 'audio_speech_actors_01-24/Actor_03/03-01-03-02-02-01-03.wav', 'audio_speech_actors_01-24/Actor_03/03-01-03-02-02-02-03.wav', 'audio_speech_actors_01-24/Actor_03/03-01-04-01-01-01-03.wav', 'audio_speech_actors_01-24/Actor_03/03-01-04-01-01-02-03.wav', 'audio_speech_actors_01-24/Actor_03/03-01-04-01-02-01-03.wav', 'audio_speech_actors_01-24/Actor_03/03-01-04-01-02-02-03.wav', 'audio_speech_actors_01-24/Actor_03/03-01-04-02-01-01-03.wav', 'audio_speech_actors_01-24/Actor_03/03-01-04-02-01-02-03.wav', 'audio_speech_actors_01-24/Actor_03/03-01-04-02-02-01-03.wav', 'audio_speech_actors_01-24/Actor_03/03-01-04-02-02-02-03.wav', 'audio_speech_actors_01-24/Actor_03/03-01-05-01-01-01-03.wav', 'audio_speech_actors_01-24/Actor_03/03-01-05-01-01-02-03.wav', 'audio_speech_actors_01-24/Actor_03/03-01-05-01-02-01-03.wav', 'audio_speech_actors_01-24/Actor_03/03-01-05-01-02-02-03.wav', 'audio_speech_actors_01-24/Actor_03/03-01-05-02-01-01-03.wav', 'audio_speech_actors_01-24/Actor_03/03-01-05-02-01-02-03.wav', 'audio_speech_actors_01-24/Actor_03/03-01-05-02-02-01-03.wav', 'audio_speech_actors_01-24/Actor_03/03-01-05-02-02-02-03.wav', 'audio_speech_actors_01-24/Actor_03/03-01-06-01-01-01-03.wav', 'audio_speech_actors_01-24/Actor_03/03-01-06-01-01-02-03.wav', 'audio_speech_actors_01-24/Actor_03/03-01-06-01-02-01-03.wav', 'audio_speech_actors_01-24/Actor_03/03-01-06-01-02-02-03.wav', 'audio_speech_actors_01-24/Actor_03/03-01-06-02-01-01-03.wav', 'audio_speech_actors_01-24/Actor_03/03-01-06-02-01-02-03.wav', 'audio_speech_actors_01-24/Actor_03/03-01-06-02-02-01-03.wav', 'audio_speech_actors_01-24/Actor_03/03-01-06-02-02-02-03.wav', 'audio_speech_actors_01-24/Actor_03/03-01-07-01-01-01-03.wav', 'audio_speech_actors_01-24/Actor_03/03-01-07-01-01-02-03.wav', 'audio_speech_actors_01-24/Actor_03/03-01-07-01-02-01-03.wav', 'audio_speech_actors_01-24/Actor_03/03-01-07-01-02-02-03.wav', 'audio_speech_actors_01-24/Actor_03/03-01-07-02-01-01-03.wav', 'audio_speech_actors_01-24/Actor_03/03-01-07-02-01-02-03.wav', 'audio_speech_actors_01-24/Actor_03/03-01-07-02-02-01-03.wav', 'audio_speech_actors_01-24/Actor_03/03-01-07-02-02-02-03.wav', 'audio_speech_actors_01-24/Actor_03/03-01-08-01-01-01-03.wav', 'audio_speech_actors_01-24/Actor_03/03-01-08-01-01-02-03.wav', 'audio_speech_actors_01-24/Actor_03/03-01-08-01-02-01-03.wav', 'audio_speech_actors_01-24/Actor_03/03-01-08-01-02-02-03.wav', 'audio_speech_actors_01-24/Actor_03/03-01-08-02-01-01-03.wav', 'audio_speech_actors_01-24/Actor_03/03-01-08-02-01-02-03.wav', 'audio_speech_actors_01-24/Actor_03/03-01-08-02-02-01-03.wav', 'audio_speech_actors_01-24/Actor_03/03-01-08-02-02-02-03.wav', 'audio_speech_actors_01-24/Actor_04/03-01-01-01-01-01-04.wav', 'audio_speech_actors_01-24/Actor_04/03-01-01-01-01-02-04.wav', 'audio_speech_actors_01-24/Actor_04/03-01-01-01-02-01-04.wav', 'audio_speech_actors_01-24/Actor_04/03-01-01-01-02-02-04.wav', 'audio_speech_actors_01-24/Actor_04/03-01-02-01-01-01-04.wav', 'audio_speech_actors_01-24/Actor_04/03-01-02-01-01-02-04.wav', 'audio_speech_actors_01-24/Actor_04/03-01-02-01-02-01-04.wav', 'audio_speech_actors_01-24/Actor_04/03-01-02-01-02-02-04.wav', 'audio_speech_actors_01-24/Actor_04/03-01-02-02-01-01-04.wav', 'audio_speech_actors_01-24/Actor_04/03-01-02-02-01-02-04.wav', 'audio_speech_actors_01-24/Actor_04/03-01-02-02-02-01-04.wav', 'audio_speech_actors_01-24/Actor_04/03-01-02-02-02-02-04.wav', 'audio_speech_actors_01-24/Actor_04/03-01-03-01-01-01-04.wav', 'audio_speech_actors_01-24/Actor_04/03-01-03-01-01-02-04.wav', 'audio_speech_actors_01-24/Actor_04/03-01-03-01-02-01-04.wav', 'audio_speech_actors_01-24/Actor_04/03-01-03-01-02-02-04.wav', 'audio_speech_actors_01-24/Actor_04/03-01-03-02-01-01-04.wav', 'audio_speech_actors_01-24/Actor_04/03-01-03-02-01-02-04.wav', 'audio_speech_actors_01-24/Actor_04/03-01-03-02-02-01-04.wav', 'audio_speech_actors_01-24/Actor_04/03-01-03-02-02-02-04.wav', 'audio_speech_actors_01-24/Actor_04/03-01-04-01-01-01-04.wav', 'audio_speech_actors_01-24/Actor_04/03-01-04-01-01-02-04.wav', 'audio_speech_actors_01-24/Actor_04/03-01-04-01-02-01-04.wav', 'audio_speech_actors_01-24/Actor_04/03-01-04-01-02-02-04.wav', 'audio_speech_actors_01-24/Actor_04/03-01-04-02-01-01-04.wav', 'audio_speech_actors_01-24/Actor_04/03-01-04-02-01-02-04.wav', 'audio_speech_actors_01-24/Actor_04/03-01-04-02-02-01-04.wav', 'audio_speech_actors_01-24/Actor_04/03-01-04-02-02-02-04.wav', 'audio_speech_actors_01-24/Actor_04/03-01-05-01-01-01-04.wav', 'audio_speech_actors_01-24/Actor_04/03-01-05-01-01-02-04.wav', 'audio_speech_actors_01-24/Actor_04/03-01-05-01-02-01-04.wav', 'audio_speech_actors_01-24/Actor_04/03-01-05-01-02-02-04.wav', 'audio_speech_actors_01-24/Actor_04/03-01-05-02-01-01-04.wav', 'audio_speech_actors_01-24/Actor_04/03-01-05-02-01-02-04.wav', 'audio_speech_actors_01-24/Actor_04/03-01-05-02-02-01-04.wav', 'audio_speech_actors_01-24/Actor_04/03-01-05-02-02-02-04.wav', 'audio_speech_actors_01-24/Actor_04/03-01-06-01-01-01-04.wav', 'audio_speech_actors_01-24/Actor_04/03-01-06-01-01-02-04.wav', 'audio_speech_actors_01-24/Actor_04/03-01-06-01-02-01-04.wav', 'audio_speech_actors_01-24/Actor_04/03-01-06-01-02-02-04.wav', 'audio_speech_actors_01-24/Actor_04/03-01-06-02-01-01-04.wav', 'audio_speech_actors_01-24/Actor_04/03-01-06-02-01-02-04.wav', 'audio_speech_actors_01-24/Actor_04/03-01-06-02-02-01-04.wav', 'audio_speech_actors_01-24/Actor_04/03-01-06-02-02-02-04.wav', 'audio_speech_actors_01-24/Actor_04/03-01-07-01-01-01-04.wav', 'audio_speech_actors_01-24/Actor_04/03-01-07-01-01-02-04.wav', 'audio_speech_actors_01-24/Actor_04/03-01-07-01-02-01-04.wav', 'audio_speech_actors_01-24/Actor_04/03-01-07-01-02-02-04.wav', 'audio_speech_actors_01-24/Actor_04/03-01-07-02-01-01-04.wav', 'audio_speech_actors_01-24/Actor_04/03-01-07-02-01-02-04.wav', 'audio_speech_actors_01-24/Actor_04/03-01-07-02-02-01-04.wav', 'audio_speech_actors_01-24/Actor_04/03-01-07-02-02-02-04.wav', 'audio_speech_actors_01-24/Actor_04/03-01-08-01-01-01-04.wav', 'audio_speech_actors_01-24/Actor_04/03-01-08-01-01-02-04.wav', 'audio_speech_actors_01-24/Actor_04/03-01-08-01-02-01-04.wav', 'audio_speech_actors_01-24/Actor_04/03-01-08-01-02-02-04.wav', 'audio_speech_actors_01-24/Actor_04/03-01-08-02-01-01-04.wav', 'audio_speech_actors_01-24/Actor_04/03-01-08-02-01-02-04.wav', 'audio_speech_actors_01-24/Actor_04/03-01-08-02-02-01-04.wav', 'audio_speech_actors_01-24/Actor_04/03-01-08-02-02-02-04.wav', 'audio_speech_actors_01-24/Actor_05/03-01-01-01-01-01-05.wav', 'audio_speech_actors_01-24/Actor_05/03-01-01-01-01-02-05.wav', 'audio_speech_actors_01-24/Actor_05/03-01-01-01-02-01-05.wav', 'audio_speech_actors_01-24/Actor_05/03-01-01-01-02-02-05.wav', 'audio_speech_actors_01-24/Actor_05/03-01-02-01-01-01-05.wav', 'audio_speech_actors_01-24/Actor_05/03-01-02-01-01-02-05.wav', 'audio_speech_actors_01-24/Actor_05/03-01-02-01-02-01-05.wav', 'audio_speech_actors_01-24/Actor_05/03-01-02-01-02-02-05.wav', 'audio_speech_actors_01-24/Actor_05/03-01-02-02-01-01-05.wav', 'audio_speech_actors_01-24/Actor_05/03-01-02-02-01-02-05.wav', 'audio_speech_actors_01-24/Actor_05/03-01-02-02-02-01-05.wav', 'audio_speech_actors_01-24/Actor_05/03-01-02-02-02-02-05.wav', 'audio_speech_actors_01-24/Actor_05/03-01-03-01-01-01-05.wav', 'audio_speech_actors_01-24/Actor_05/03-01-03-01-01-02-05.wav', 'audio_speech_actors_01-24/Actor_05/03-01-03-01-02-01-05.wav', 'audio_speech_actors_01-24/Actor_05/03-01-03-01-02-02-05.wav', 'audio_speech_actors_01-24/Actor_05/03-01-03-02-01-01-05.wav', 'audio_speech_actors_01-24/Actor_05/03-01-03-02-01-02-05.wav', 'audio_speech_actors_01-24/Actor_05/03-01-03-02-02-01-05.wav', 'audio_speech_actors_01-24/Actor_05/03-01-03-02-02-02-05.wav', 'audio_speech_actors_01-24/Actor_05/03-01-04-01-01-01-05.wav', 'audio_speech_actors_01-24/Actor_05/03-01-04-01-01-02-05.wav', 'audio_speech_actors_01-24/Actor_05/03-01-04-01-02-01-05.wav', 'audio_speech_actors_01-24/Actor_05/03-01-04-01-02-02-05.wav', 'audio_speech_actors_01-24/Actor_05/03-01-04-02-01-01-05.wav', 'audio_speech_actors_01-24/Actor_05/03-01-04-02-01-02-05.wav', 'audio_speech_actors_01-24/Actor_05/03-01-04-02-02-01-05.wav', 'audio_speech_actors_01-24/Actor_05/03-01-04-02-02-02-05.wav', 'audio_speech_actors_01-24/Actor_05/03-01-05-01-01-01-05.wav', 'audio_speech_actors_01-24/Actor_05/03-01-05-01-01-02-05.wav', 'audio_speech_actors_01-24/Actor_05/03-01-05-01-02-01-05.wav', 'audio_speech_actors_01-24/Actor_05/03-01-05-01-02-02-05.wav', 'audio_speech_actors_01-24/Actor_05/03-01-05-02-01-01-05.wav', 'audio_speech_actors_01-24/Actor_05/03-01-05-02-01-02-05.wav', 'audio_speech_actors_01-24/Actor_05/03-01-05-02-02-01-05.wav', 'audio_speech_actors_01-24/Actor_05/03-01-05-02-02-02-05.wav', 'audio_speech_actors_01-24/Actor_05/03-01-06-01-01-01-05.wav', 'audio_speech_actors_01-24/Actor_05/03-01-06-01-01-02-05.wav', 'audio_speech_actors_01-24/Actor_05/03-01-06-01-02-01-05.wav', 'audio_speech_actors_01-24/Actor_05/03-01-06-01-02-02-05.wav', 'audio_speech_actors_01-24/Actor_05/03-01-06-02-01-01-05.wav', 'audio_speech_actors_01-24/Actor_05/03-01-06-02-01-02-05.wav', 'audio_speech_actors_01-24/Actor_05/03-01-06-02-02-01-05.wav', 'audio_speech_actors_01-24/Actor_05/03-01-06-02-02-02-05.wav', 'audio_speech_actors_01-24/Actor_05/03-01-07-01-01-01-05.wav', 'audio_speech_actors_01-24/Actor_05/03-01-07-01-01-02-05.wav', 'audio_speech_actors_01-24/Actor_05/03-01-07-01-02-01-05.wav', 'audio_speech_actors_01-24/Actor_05/03-01-07-01-02-02-05.wav', 'audio_speech_actors_01-24/Actor_05/03-01-07-02-01-01-05.wav', 'audio_speech_actors_01-24/Actor_05/03-01-07-02-01-02-05.wav', 'audio_speech_actors_01-24/Actor_05/03-01-07-02-02-01-05.wav', 'audio_speech_actors_01-24/Actor_05/03-01-07-02-02-02-05.wav', 'audio_speech_actors_01-24/Actor_05/03-01-08-01-01-01-05.wav', 'audio_speech_actors_01-24/Actor_05/03-01-08-01-01-02-05.wav', 'audio_speech_actors_01-24/Actor_05/03-01-08-01-02-01-05.wav', 'audio_speech_actors_01-24/Actor_05/03-01-08-01-02-02-05.wav', 'audio_speech_actors_01-24/Actor_05/03-01-08-02-01-01-05.wav', 'audio_speech_actors_01-24/Actor_05/03-01-08-02-01-02-05.wav', 'audio_speech_actors_01-24/Actor_05/03-01-08-02-02-01-05.wav', 'audio_speech_actors_01-24/Actor_05/03-01-08-02-02-02-05.wav', 'audio_speech_actors_01-24/Actor_06/03-01-01-01-01-01-06.wav', 'audio_speech_actors_01-24/Actor_06/03-01-01-01-01-02-06.wav', 'audio_speech_actors_01-24/Actor_06/03-01-01-01-02-01-06.wav', 'audio_speech_actors_01-24/Actor_06/03-01-01-01-02-02-06.wav', 'audio_speech_actors_01-24/Actor_06/03-01-02-01-01-01-06.wav', 'audio_speech_actors_01-24/Actor_06/03-01-02-01-01-02-06.wav', 'audio_speech_actors_01-24/Actor_06/03-01-02-01-02-01-06.wav', 'audio_speech_actors_01-24/Actor_06/03-01-02-01-02-02-06.wav', 'audio_speech_actors_01-24/Actor_06/03-01-02-02-01-01-06.wav', 'audio_speech_actors_01-24/Actor_06/03-01-02-02-01-02-06.wav', 'audio_speech_actors_01-24/Actor_06/03-01-02-02-02-01-06.wav', 'audio_speech_actors_01-24/Actor_06/03-01-02-02-02-02-06.wav', 'audio_speech_actors_01-24/Actor_06/03-01-03-01-01-01-06.wav', 'audio_speech_actors_01-24/Actor_06/03-01-03-01-01-02-06.wav', 'audio_speech_actors_01-24/Actor_06/03-01-03-01-02-01-06.wav', 'audio_speech_actors_01-24/Actor_06/03-01-03-01-02-02-06.wav', 'audio_speech_actors_01-24/Actor_06/03-01-03-02-01-01-06.wav', 'audio_speech_actors_01-24/Actor_06/03-01-03-02-01-02-06.wav', 'audio_speech_actors_01-24/Actor_06/03-01-03-02-02-01-06.wav', 'audio_speech_actors_01-24/Actor_06/03-01-03-02-02-02-06.wav', 'audio_speech_actors_01-24/Actor_06/03-01-04-01-01-01-06.wav', 'audio_speech_actors_01-24/Actor_06/03-01-04-01-01-02-06.wav', 'audio_speech_actors_01-24/Actor_06/03-01-04-01-02-01-06.wav', 'audio_speech_actors_01-24/Actor_06/03-01-04-01-02-02-06.wav', 'audio_speech_actors_01-24/Actor_06/03-01-04-02-01-01-06.wav', 'audio_speech_actors_01-24/Actor_06/03-01-04-02-01-02-06.wav', 'audio_speech_actors_01-24/Actor_06/03-01-04-02-02-01-06.wav', 'audio_speech_actors_01-24/Actor_06/03-01-04-02-02-02-06.wav', 'audio_speech_actors_01-24/Actor_06/03-01-05-01-01-01-06.wav', 'audio_speech_actors_01-24/Actor_06/03-01-05-01-01-02-06.wav', 'audio_speech_actors_01-24/Actor_06/03-01-05-01-02-01-06.wav', 'audio_speech_actors_01-24/Actor_06/03-01-05-01-02-02-06.wav', 'audio_speech_actors_01-24/Actor_06/03-01-05-02-01-01-06.wav', 'audio_speech_actors_01-24/Actor_06/03-01-05-02-01-02-06.wav', 'audio_speech_actors_01-24/Actor_06/03-01-05-02-02-01-06.wav', 'audio_speech_actors_01-24/Actor_06/03-01-05-02-02-02-06.wav', 'audio_speech_actors_01-24/Actor_06/03-01-06-01-01-01-06.wav', 'audio_speech_actors_01-24/Actor_06/03-01-06-01-01-02-06.wav', 'audio_speech_actors_01-24/Actor_06/03-01-06-01-02-01-06.wav', 'audio_speech_actors_01-24/Actor_06/03-01-06-01-02-02-06.wav', 'audio_speech_actors_01-24/Actor_06/03-01-06-02-01-01-06.wav', 'audio_speech_actors_01-24/Actor_06/03-01-06-02-01-02-06.wav', 'audio_speech_actors_01-24/Actor_06/03-01-06-02-02-01-06.wav', 'audio_speech_actors_01-24/Actor_06/03-01-06-02-02-02-06.wav', 'audio_speech_actors_01-24/Actor_06/03-01-07-01-01-01-06.wav', 'audio_speech_actors_01-24/Actor_06/03-01-07-01-01-02-06.wav', 'audio_speech_actors_01-24/Actor_06/03-01-07-01-02-01-06.wav', 'audio_speech_actors_01-24/Actor_06/03-01-07-01-02-02-06.wav', 'audio_speech_actors_01-24/Actor_06/03-01-07-02-01-01-06.wav', 'audio_speech_actors_01-24/Actor_06/03-01-07-02-01-02-06.wav', 'audio_speech_actors_01-24/Actor_06/03-01-07-02-02-01-06.wav', 'audio_speech_actors_01-24/Actor_06/03-01-07-02-02-02-06.wav', 'audio_speech_actors_01-24/Actor_06/03-01-08-01-01-01-06.wav', 'audio_speech_actors_01-24/Actor_06/03-01-08-01-01-02-06.wav', 'audio_speech_actors_01-24/Actor_06/03-01-08-01-02-01-06.wav', 'audio_speech_actors_01-24/Actor_06/03-01-08-01-02-02-06.wav', 'audio_speech_actors_01-24/Actor_06/03-01-08-02-01-01-06.wav', 'audio_speech_actors_01-24/Actor_06/03-01-08-02-01-02-06.wav', 'audio_speech_actors_01-24/Actor_06/03-01-08-02-02-01-06.wav', 'audio_speech_actors_01-24/Actor_06/03-01-08-02-02-02-06.wav', 'audio_speech_actors_01-24/Actor_07/03-01-01-01-01-01-07.wav', 'audio_speech_actors_01-24/Actor_07/03-01-01-01-01-02-07.wav', 'audio_speech_actors_01-24/Actor_07/03-01-01-01-02-01-07.wav', 'audio_speech_actors_01-24/Actor_07/03-01-01-01-02-02-07.wav', 'audio_speech_actors_01-24/Actor_07/03-01-02-01-01-01-07.wav', 'audio_speech_actors_01-24/Actor_07/03-01-02-01-01-02-07.wav', 'audio_speech_actors_01-24/Actor_07/03-01-02-01-02-01-07.wav', 'audio_speech_actors_01-24/Actor_07/03-01-02-01-02-02-07.wav', 'audio_speech_actors_01-24/Actor_07/03-01-02-02-01-01-07.wav', 'audio_speech_actors_01-24/Actor_07/03-01-02-02-01-02-07.wav', 'audio_speech_actors_01-24/Actor_07/03-01-02-02-02-01-07.wav', 'audio_speech_actors_01-24/Actor_07/03-01-02-02-02-02-07.wav', 'audio_speech_actors_01-24/Actor_07/03-01-03-01-01-01-07.wav', 'audio_speech_actors_01-24/Actor_07/03-01-03-01-01-02-07.wav', 'audio_speech_actors_01-24/Actor_07/03-01-03-01-02-01-07.wav', 'audio_speech_actors_01-24/Actor_07/03-01-03-01-02-02-07.wav', 'audio_speech_actors_01-24/Actor_07/03-01-03-02-01-01-07.wav', 'audio_speech_actors_01-24/Actor_07/03-01-03-02-01-02-07.wav', 'audio_speech_actors_01-24/Actor_07/03-01-03-02-02-01-07.wav', 'audio_speech_actors_01-24/Actor_07/03-01-03-02-02-02-07.wav', 'audio_speech_actors_01-24/Actor_07/03-01-04-01-01-01-07.wav', 'audio_speech_actors_01-24/Actor_07/03-01-04-01-01-02-07.wav', 'audio_speech_actors_01-24/Actor_07/03-01-04-01-02-01-07.wav', 'audio_speech_actors_01-24/Actor_07/03-01-04-01-02-02-07.wav', 'audio_speech_actors_01-24/Actor_07/03-01-04-02-01-01-07.wav', 'audio_speech_actors_01-24/Actor_07/03-01-04-02-01-02-07.wav', 'audio_speech_actors_01-24/Actor_07/03-01-04-02-02-01-07.wav', 'audio_speech_actors_01-24/Actor_07/03-01-04-02-02-02-07.wav', 'audio_speech_actors_01-24/Actor_07/03-01-05-01-01-01-07.wav', 'audio_speech_actors_01-24/Actor_07/03-01-05-01-01-02-07.wav', 'audio_speech_actors_01-24/Actor_07/03-01-05-01-02-01-07.wav', 'audio_speech_actors_01-24/Actor_07/03-01-05-01-02-02-07.wav', 'audio_speech_actors_01-24/Actor_07/03-01-05-02-01-01-07.wav', 'audio_speech_actors_01-24/Actor_07/03-01-05-02-01-02-07.wav', 'audio_speech_actors_01-24/Actor_07/03-01-05-02-02-01-07.wav', 'audio_speech_actors_01-24/Actor_07/03-01-05-02-02-02-07.wav', 'audio_speech_actors_01-24/Actor_07/03-01-06-01-01-01-07.wav', 'audio_speech_actors_01-24/Actor_07/03-01-06-01-01-02-07.wav', 'audio_speech_actors_01-24/Actor_07/03-01-06-01-02-01-07.wav', 'audio_speech_actors_01-24/Actor_07/03-01-06-01-02-02-07.wav', 'audio_speech_actors_01-24/Actor_07/03-01-06-02-01-01-07.wav', 'audio_speech_actors_01-24/Actor_07/03-01-06-02-01-02-07.wav', 'audio_speech_actors_01-24/Actor_07/03-01-06-02-02-01-07.wav', 'audio_speech_actors_01-24/Actor_07/03-01-06-02-02-02-07.wav', 'audio_speech_actors_01-24/Actor_07/03-01-07-01-01-01-07.wav', 'audio_speech_actors_01-24/Actor_07/03-01-07-01-01-02-07.wav', 'audio_speech_actors_01-24/Actor_07/03-01-07-01-02-01-07.wav', 'audio_speech_actors_01-24/Actor_07/03-01-07-01-02-02-07.wav', 'audio_speech_actors_01-24/Actor_07/03-01-07-02-01-01-07.wav', 'audio_speech_actors_01-24/Actor_07/03-01-07-02-01-02-07.wav', 'audio_speech_actors_01-24/Actor_07/03-01-07-02-02-01-07.wav', 'audio_speech_actors_01-24/Actor_07/03-01-07-02-02-02-07.wav', 'audio_speech_actors_01-24/Actor_07/03-01-08-01-01-01-07.wav', 'audio_speech_actors_01-24/Actor_07/03-01-08-01-01-02-07.wav', 'audio_speech_actors_01-24/Actor_07/03-01-08-01-02-01-07.wav', 'audio_speech_actors_01-24/Actor_07/03-01-08-01-02-02-07.wav', 'audio_speech_actors_01-24/Actor_07/03-01-08-02-01-01-07.wav', 'audio_speech_actors_01-24/Actor_07/03-01-08-02-01-02-07.wav', 'audio_speech_actors_01-24/Actor_07/03-01-08-02-02-01-07.wav', 'audio_speech_actors_01-24/Actor_07/03-01-08-02-02-02-07.wav', 'audio_speech_actors_01-24/Actor_08/03-01-01-01-01-01-08.wav', 'audio_speech_actors_01-24/Actor_08/03-01-01-01-01-02-08.wav', 'audio_speech_actors_01-24/Actor_08/03-01-01-01-02-01-08.wav', 'audio_speech_actors_01-24/Actor_08/03-01-01-01-02-02-08.wav', 'audio_speech_actors_01-24/Actor_08/03-01-02-01-01-01-08.wav', 'audio_speech_actors_01-24/Actor_08/03-01-02-01-01-02-08.wav', 'audio_speech_actors_01-24/Actor_08/03-01-02-01-02-01-08.wav', 'audio_speech_actors_01-24/Actor_08/03-01-02-01-02-02-08.wav', 'audio_speech_actors_01-24/Actor_08/03-01-02-02-01-01-08.wav', 'audio_speech_actors_01-24/Actor_08/03-01-02-02-01-02-08.wav', 'audio_speech_actors_01-24/Actor_08/03-01-02-02-02-01-08.wav', 'audio_speech_actors_01-24/Actor_08/03-01-02-02-02-02-08.wav', 'audio_speech_actors_01-24/Actor_08/03-01-03-01-01-01-08.wav', 'audio_speech_actors_01-24/Actor_08/03-01-03-01-01-02-08.wav', 'audio_speech_actors_01-24/Actor_08/03-01-03-01-02-01-08.wav', 'audio_speech_actors_01-24/Actor_08/03-01-03-01-02-02-08.wav', 'audio_speech_actors_01-24/Actor_08/03-01-03-02-01-01-08.wav', 'audio_speech_actors_01-24/Actor_08/03-01-03-02-01-02-08.wav', 'audio_speech_actors_01-24/Actor_08/03-01-03-02-02-01-08.wav', 'audio_speech_actors_01-24/Actor_08/03-01-03-02-02-02-08.wav', 'audio_speech_actors_01-24/Actor_08/03-01-04-01-01-01-08.wav', 'audio_speech_actors_01-24/Actor_08/03-01-04-01-01-02-08.wav', 'audio_speech_actors_01-24/Actor_08/03-01-04-01-02-01-08.wav', 'audio_speech_actors_01-24/Actor_08/03-01-04-01-02-02-08.wav', 'audio_speech_actors_01-24/Actor_08/03-01-04-02-01-01-08.wav', 'audio_speech_actors_01-24/Actor_08/03-01-04-02-01-02-08.wav', 'audio_speech_actors_01-24/Actor_08/03-01-04-02-02-01-08.wav', 'audio_speech_actors_01-24/Actor_08/03-01-04-02-02-02-08.wav', 'audio_speech_actors_01-24/Actor_08/03-01-05-01-01-01-08.wav', 'audio_speech_actors_01-24/Actor_08/03-01-05-01-01-02-08.wav', 'audio_speech_actors_01-24/Actor_08/03-01-05-01-02-01-08.wav', 'audio_speech_actors_01-24/Actor_08/03-01-05-01-02-02-08.wav', 'audio_speech_actors_01-24/Actor_08/03-01-05-02-01-01-08.wav', 'audio_speech_actors_01-24/Actor_08/03-01-05-02-01-02-08.wav', 'audio_speech_actors_01-24/Actor_08/03-01-05-02-02-01-08.wav', 'audio_speech_actors_01-24/Actor_08/03-01-05-02-02-02-08.wav', 'audio_speech_actors_01-24/Actor_08/03-01-06-01-01-01-08.wav', 'audio_speech_actors_01-24/Actor_08/03-01-06-01-01-02-08.wav', 'audio_speech_actors_01-24/Actor_08/03-01-06-01-02-01-08.wav', 'audio_speech_actors_01-24/Actor_08/03-01-06-01-02-02-08.wav', 'audio_speech_actors_01-24/Actor_08/03-01-06-02-01-01-08.wav', 'audio_speech_actors_01-24/Actor_08/03-01-06-02-01-02-08.wav', 'audio_speech_actors_01-24/Actor_08/03-01-06-02-02-01-08.wav', 'audio_speech_actors_01-24/Actor_08/03-01-06-02-02-02-08.wav', 'audio_speech_actors_01-24/Actor_08/03-01-07-01-01-01-08.wav', 'audio_speech_actors_01-24/Actor_08/03-01-07-01-01-02-08.wav', 'audio_speech_actors_01-24/Actor_08/03-01-07-01-02-01-08.wav', 'audio_speech_actors_01-24/Actor_08/03-01-07-01-02-02-08.wav', 'audio_speech_actors_01-24/Actor_08/03-01-07-02-01-01-08.wav', 'audio_speech_actors_01-24/Actor_08/03-01-07-02-01-02-08.wav', 'audio_speech_actors_01-24/Actor_08/03-01-07-02-02-01-08.wav', 'audio_speech_actors_01-24/Actor_08/03-01-07-02-02-02-08.wav', 'audio_speech_actors_01-24/Actor_08/03-01-08-01-01-01-08.wav', 'audio_speech_actors_01-24/Actor_08/03-01-08-01-01-02-08.wav', 'audio_speech_actors_01-24/Actor_08/03-01-08-01-02-01-08.wav', 'audio_speech_actors_01-24/Actor_08/03-01-08-01-02-02-08.wav', 'audio_speech_actors_01-24/Actor_08/03-01-08-02-01-01-08.wav', 'audio_speech_actors_01-24/Actor_08/03-01-08-02-01-02-08.wav', 'audio_speech_actors_01-24/Actor_08/03-01-08-02-02-01-08.wav', 'audio_speech_actors_01-24/Actor_08/03-01-08-02-02-02-08.wav', 'audio_speech_actors_01-24/Actor_09/03-01-01-01-01-01-09.wav', 'audio_speech_actors_01-24/Actor_09/03-01-01-01-01-02-09.wav', 'audio_speech_actors_01-24/Actor_09/03-01-01-01-02-01-09.wav', 'audio_speech_actors_01-24/Actor_09/03-01-01-01-02-02-09.wav', 'audio_speech_actors_01-24/Actor_09/03-01-02-01-01-01-09.wav', 'audio_speech_actors_01-24/Actor_09/03-01-02-01-01-02-09.wav', 'audio_speech_actors_01-24/Actor_09/03-01-02-01-02-01-09.wav', 'audio_speech_actors_01-24/Actor_09/03-01-02-01-02-02-09.wav', 'audio_speech_actors_01-24/Actor_09/03-01-02-02-01-01-09.wav', 'audio_speech_actors_01-24/Actor_09/03-01-02-02-01-02-09.wav', 'audio_speech_actors_01-24/Actor_09/03-01-02-02-02-01-09.wav', 'audio_speech_actors_01-24/Actor_09/03-01-02-02-02-02-09.wav', 'audio_speech_actors_01-24/Actor_09/03-01-03-01-01-01-09.wav', 'audio_speech_actors_01-24/Actor_09/03-01-03-01-01-02-09.wav', 'audio_speech_actors_01-24/Actor_09/03-01-03-01-02-01-09.wav', 'audio_speech_actors_01-24/Actor_09/03-01-03-01-02-02-09.wav', 'audio_speech_actors_01-24/Actor_09/03-01-03-02-01-01-09.wav', 'audio_speech_actors_01-24/Actor_09/03-01-03-02-01-02-09.wav', 'audio_speech_actors_01-24/Actor_09/03-01-03-02-02-01-09.wav', 'audio_speech_actors_01-24/Actor_09/03-01-03-02-02-02-09.wav', 'audio_speech_actors_01-24/Actor_09/03-01-04-01-01-01-09.wav', 'audio_speech_actors_01-24/Actor_09/03-01-04-01-01-02-09.wav', 'audio_speech_actors_01-24/Actor_09/03-01-04-01-02-01-09.wav', 'audio_speech_actors_01-24/Actor_09/03-01-04-01-02-02-09.wav', 'audio_speech_actors_01-24/Actor_09/03-01-04-02-01-01-09.wav', 'audio_speech_actors_01-24/Actor_09/03-01-04-02-01-02-09.wav', 'audio_speech_actors_01-24/Actor_09/03-01-04-02-02-01-09.wav', 'audio_speech_actors_01-24/Actor_09/03-01-04-02-02-02-09.wav', 'audio_speech_actors_01-24/Actor_09/03-01-05-01-01-01-09.wav', 'audio_speech_actors_01-24/Actor_09/03-01-05-01-01-02-09.wav', 'audio_speech_actors_01-24/Actor_09/03-01-05-01-02-01-09.wav', 'audio_speech_actors_01-24/Actor_09/03-01-05-01-02-02-09.wav', 'audio_speech_actors_01-24/Actor_09/03-01-05-02-01-01-09.wav', 'audio_speech_actors_01-24/Actor_09/03-01-05-02-01-02-09.wav', 'audio_speech_actors_01-24/Actor_09/03-01-05-02-02-01-09.wav', 'audio_speech_actors_01-24/Actor_09/03-01-05-02-02-02-09.wav', 'audio_speech_actors_01-24/Actor_09/03-01-06-01-01-01-09.wav', 'audio_speech_actors_01-24/Actor_09/03-01-06-01-01-02-09.wav', 'audio_speech_actors_01-24/Actor_09/03-01-06-01-02-01-09.wav', 'audio_speech_actors_01-24/Actor_09/03-01-06-01-02-02-09.wav', 'audio_speech_actors_01-24/Actor_09/03-01-06-02-01-01-09.wav', 'audio_speech_actors_01-24/Actor_09/03-01-06-02-01-02-09.wav', 'audio_speech_actors_01-24/Actor_09/03-01-06-02-02-01-09.wav', 'audio_speech_actors_01-24/Actor_09/03-01-06-02-02-02-09.wav', 'audio_speech_actors_01-24/Actor_09/03-01-07-01-01-01-09.wav', 'audio_speech_actors_01-24/Actor_09/03-01-07-01-01-02-09.wav', 'audio_speech_actors_01-24/Actor_09/03-01-07-01-02-01-09.wav', 'audio_speech_actors_01-24/Actor_09/03-01-07-01-02-02-09.wav', 'audio_speech_actors_01-24/Actor_09/03-01-07-02-01-01-09.wav', 'audio_speech_actors_01-24/Actor_09/03-01-07-02-01-02-09.wav', 'audio_speech_actors_01-24/Actor_09/03-01-07-02-02-01-09.wav', 'audio_speech_actors_01-24/Actor_09/03-01-07-02-02-02-09.wav', 'audio_speech_actors_01-24/Actor_09/03-01-08-01-01-01-09.wav', 'audio_speech_actors_01-24/Actor_09/03-01-08-01-01-02-09.wav', 'audio_speech_actors_01-24/Actor_09/03-01-08-01-02-01-09.wav', 'audio_speech_actors_01-24/Actor_09/03-01-08-01-02-02-09.wav', 'audio_speech_actors_01-24/Actor_09/03-01-08-02-01-01-09.wav', 'audio_speech_actors_01-24/Actor_09/03-01-08-02-01-02-09.wav', 'audio_speech_actors_01-24/Actor_09/03-01-08-02-02-01-09.wav', 'audio_speech_actors_01-24/Actor_09/03-01-08-02-02-02-09.wav', 'audio_speech_actors_01-24/Actor_10/03-01-01-01-01-01-10.wav', 'audio_speech_actors_01-24/Actor_10/03-01-01-01-01-02-10.wav', 'audio_speech_actors_01-24/Actor_10/03-01-01-01-02-01-10.wav', 'audio_speech_actors_01-24/Actor_10/03-01-01-01-02-02-10.wav', 'audio_speech_actors_01-24/Actor_10/03-01-02-01-01-01-10.wav', 'audio_speech_actors_01-24/Actor_10/03-01-02-01-01-02-10.wav', 'audio_speech_actors_01-24/Actor_10/03-01-02-01-02-01-10.wav', 'audio_speech_actors_01-24/Actor_10/03-01-02-01-02-02-10.wav', 'audio_speech_actors_01-24/Actor_10/03-01-02-02-01-01-10.wav', 'audio_speech_actors_01-24/Actor_10/03-01-02-02-01-02-10.wav', 'audio_speech_actors_01-24/Actor_10/03-01-02-02-02-01-10.wav', 'audio_speech_actors_01-24/Actor_10/03-01-02-02-02-02-10.wav', 'audio_speech_actors_01-24/Actor_10/03-01-03-01-01-01-10.wav', 'audio_speech_actors_01-24/Actor_10/03-01-03-01-01-02-10.wav', 'audio_speech_actors_01-24/Actor_10/03-01-03-01-02-01-10.wav', 'audio_speech_actors_01-24/Actor_10/03-01-03-01-02-02-10.wav', 'audio_speech_actors_01-24/Actor_10/03-01-03-02-01-01-10.wav', 'audio_speech_actors_01-24/Actor_10/03-01-03-02-01-02-10.wav', 'audio_speech_actors_01-24/Actor_10/03-01-03-02-02-01-10.wav', 'audio_speech_actors_01-24/Actor_10/03-01-03-02-02-02-10.wav', 'audio_speech_actors_01-24/Actor_10/03-01-04-01-01-01-10.wav', 'audio_speech_actors_01-24/Actor_10/03-01-04-01-01-02-10.wav', 'audio_speech_actors_01-24/Actor_10/03-01-04-01-02-01-10.wav', 'audio_speech_actors_01-24/Actor_10/03-01-04-01-02-02-10.wav', 'audio_speech_actors_01-24/Actor_10/03-01-04-02-01-01-10.wav', 'audio_speech_actors_01-24/Actor_10/03-01-04-02-01-02-10.wav', 'audio_speech_actors_01-24/Actor_10/03-01-04-02-02-01-10.wav', 'audio_speech_actors_01-24/Actor_10/03-01-04-02-02-02-10.wav', 'audio_speech_actors_01-24/Actor_10/03-01-05-01-01-01-10.wav', 'audio_speech_actors_01-24/Actor_10/03-01-05-01-01-02-10.wav', 'audio_speech_actors_01-24/Actor_10/03-01-05-01-02-01-10.wav', 'audio_speech_actors_01-24/Actor_10/03-01-05-01-02-02-10.wav', 'audio_speech_actors_01-24/Actor_10/03-01-05-02-01-01-10.wav', 'audio_speech_actors_01-24/Actor_10/03-01-05-02-01-02-10.wav', 'audio_speech_actors_01-24/Actor_10/03-01-05-02-02-01-10.wav', 'audio_speech_actors_01-24/Actor_10/03-01-05-02-02-02-10.wav', 'audio_speech_actors_01-24/Actor_10/03-01-06-01-01-01-10.wav', 'audio_speech_actors_01-24/Actor_10/03-01-06-01-01-02-10.wav', 'audio_speech_actors_01-24/Actor_10/03-01-06-01-02-01-10.wav', 'audio_speech_actors_01-24/Actor_10/03-01-06-01-02-02-10.wav', 'audio_speech_actors_01-24/Actor_10/03-01-06-02-01-01-10.wav', 'audio_speech_actors_01-24/Actor_10/03-01-06-02-01-02-10.wav', 'audio_speech_actors_01-24/Actor_10/03-01-06-02-02-01-10.wav', 'audio_speech_actors_01-24/Actor_10/03-01-06-02-02-02-10.wav', 'audio_speech_actors_01-24/Actor_10/03-01-07-01-01-01-10.wav', 'audio_speech_actors_01-24/Actor_10/03-01-07-01-01-02-10.wav', 'audio_speech_actors_01-24/Actor_10/03-01-07-01-02-01-10.wav', 'audio_speech_actors_01-24/Actor_10/03-01-07-01-02-02-10.wav', 'audio_speech_actors_01-24/Actor_10/03-01-07-02-01-01-10.wav', 'audio_speech_actors_01-24/Actor_10/03-01-07-02-01-02-10.wav', 'audio_speech_actors_01-24/Actor_10/03-01-07-02-02-01-10.wav', 'audio_speech_actors_01-24/Actor_10/03-01-07-02-02-02-10.wav', 'audio_speech_actors_01-24/Actor_10/03-01-08-01-01-01-10.wav', 'audio_speech_actors_01-24/Actor_10/03-01-08-01-01-02-10.wav', 'audio_speech_actors_01-24/Actor_10/03-01-08-01-02-01-10.wav', 'audio_speech_actors_01-24/Actor_10/03-01-08-01-02-02-10.wav', 'audio_speech_actors_01-24/Actor_10/03-01-08-02-01-01-10.wav', 'audio_speech_actors_01-24/Actor_10/03-01-08-02-01-02-10.wav', 'audio_speech_actors_01-24/Actor_10/03-01-08-02-02-01-10.wav', 'audio_speech_actors_01-24/Actor_10/03-01-08-02-02-02-10.wav', 'audio_speech_actors_01-24/Actor_11/03-01-01-01-01-01-11.wav', 'audio_speech_actors_01-24/Actor_11/03-01-01-01-01-02-11.wav', 'audio_speech_actors_01-24/Actor_11/03-01-01-01-02-01-11.wav', 'audio_speech_actors_01-24/Actor_11/03-01-01-01-02-02-11.wav', 'audio_speech_actors_01-24/Actor_11/03-01-02-01-01-01-11.wav', 'audio_speech_actors_01-24/Actor_11/03-01-02-01-01-02-11.wav', 'audio_speech_actors_01-24/Actor_11/03-01-02-01-02-01-11.wav', 'audio_speech_actors_01-24/Actor_11/03-01-02-01-02-02-11.wav', 'audio_speech_actors_01-24/Actor_11/03-01-02-02-01-01-11.wav', 'audio_speech_actors_01-24/Actor_11/03-01-02-02-01-02-11.wav', 'audio_speech_actors_01-24/Actor_11/03-01-02-02-02-01-11.wav', 'audio_speech_actors_01-24/Actor_11/03-01-02-02-02-02-11.wav', 'audio_speech_actors_01-24/Actor_11/03-01-03-01-01-01-11.wav', 'audio_speech_actors_01-24/Actor_11/03-01-03-01-01-02-11.wav', 'audio_speech_actors_01-24/Actor_11/03-01-03-01-02-01-11.wav', 'audio_speech_actors_01-24/Actor_11/03-01-03-01-02-02-11.wav', 'audio_speech_actors_01-24/Actor_11/03-01-03-02-01-01-11.wav', 'audio_speech_actors_01-24/Actor_11/03-01-03-02-01-02-11.wav', 'audio_speech_actors_01-24/Actor_11/03-01-03-02-02-01-11.wav', 'audio_speech_actors_01-24/Actor_11/03-01-03-02-02-02-11.wav', 'audio_speech_actors_01-24/Actor_11/03-01-04-01-01-01-11.wav', 'audio_speech_actors_01-24/Actor_11/03-01-04-01-01-02-11.wav', 'audio_speech_actors_01-24/Actor_11/03-01-04-01-02-01-11.wav', 'audio_speech_actors_01-24/Actor_11/03-01-04-01-02-02-11.wav', 'audio_speech_actors_01-24/Actor_11/03-01-04-02-01-01-11.wav', 'audio_speech_actors_01-24/Actor_11/03-01-04-02-01-02-11.wav', 'audio_speech_actors_01-24/Actor_11/03-01-04-02-02-01-11.wav', 'audio_speech_actors_01-24/Actor_11/03-01-04-02-02-02-11.wav', 'audio_speech_actors_01-24/Actor_11/03-01-05-01-01-01-11.wav', 'audio_speech_actors_01-24/Actor_11/03-01-05-01-01-02-11.wav', 'audio_speech_actors_01-24/Actor_11/03-01-05-01-02-01-11.wav', 'audio_speech_actors_01-24/Actor_11/03-01-05-01-02-02-11.wav', 'audio_speech_actors_01-24/Actor_11/03-01-05-02-01-01-11.wav', 'audio_speech_actors_01-24/Actor_11/03-01-05-02-01-02-11.wav', 'audio_speech_actors_01-24/Actor_11/03-01-05-02-02-01-11.wav', 'audio_speech_actors_01-24/Actor_11/03-01-05-02-02-02-11.wav', 'audio_speech_actors_01-24/Actor_11/03-01-06-01-01-01-11.wav', 'audio_speech_actors_01-24/Actor_11/03-01-06-01-01-02-11.wav', 'audio_speech_actors_01-24/Actor_11/03-01-06-01-02-01-11.wav', 'audio_speech_actors_01-24/Actor_11/03-01-06-01-02-02-11.wav', 'audio_speech_actors_01-24/Actor_11/03-01-06-02-01-01-11.wav', 'audio_speech_actors_01-24/Actor_11/03-01-06-02-01-02-11.wav', 'audio_speech_actors_01-24/Actor_11/03-01-06-02-02-01-11.wav', 'audio_speech_actors_01-24/Actor_11/03-01-06-02-02-02-11.wav', 'audio_speech_actors_01-24/Actor_11/03-01-07-01-01-01-11.wav', 'audio_speech_actors_01-24/Actor_11/03-01-07-01-01-02-11.wav', 'audio_speech_actors_01-24/Actor_11/03-01-07-01-02-01-11.wav', 'audio_speech_actors_01-24/Actor_11/03-01-07-01-02-02-11.wav', 'audio_speech_actors_01-24/Actor_11/03-01-07-02-01-01-11.wav', 'audio_speech_actors_01-24/Actor_11/03-01-07-02-01-02-11.wav', 'audio_speech_actors_01-24/Actor_11/03-01-07-02-02-01-11.wav', 'audio_speech_actors_01-24/Actor_11/03-01-07-02-02-02-11.wav', 'audio_speech_actors_01-24/Actor_11/03-01-08-01-01-01-11.wav', 'audio_speech_actors_01-24/Actor_11/03-01-08-01-01-02-11.wav', 'audio_speech_actors_01-24/Actor_11/03-01-08-01-02-01-11.wav', 'audio_speech_actors_01-24/Actor_11/03-01-08-01-02-02-11.wav', 'audio_speech_actors_01-24/Actor_11/03-01-08-02-01-01-11.wav', 'audio_speech_actors_01-24/Actor_11/03-01-08-02-01-02-11.wav', 'audio_speech_actors_01-24/Actor_11/03-01-08-02-02-01-11.wav', 'audio_speech_actors_01-24/Actor_11/03-01-08-02-02-02-11.wav', 'audio_speech_actors_01-24/Actor_12/03-01-01-01-01-01-12.wav', 'audio_speech_actors_01-24/Actor_12/03-01-01-01-01-02-12.wav', 'audio_speech_actors_01-24/Actor_12/03-01-01-01-02-01-12.wav', 'audio_speech_actors_01-24/Actor_12/03-01-01-01-02-02-12.wav', 'audio_speech_actors_01-24/Actor_12/03-01-02-01-01-01-12.wav', 'audio_speech_actors_01-24/Actor_12/03-01-02-01-01-02-12.wav', 'audio_speech_actors_01-24/Actor_12/03-01-02-01-02-01-12.wav', 'audio_speech_actors_01-24/Actor_12/03-01-02-01-02-02-12.wav', 'audio_speech_actors_01-24/Actor_12/03-01-02-02-01-01-12.wav', 'audio_speech_actors_01-24/Actor_12/03-01-02-02-01-02-12.wav', 'audio_speech_actors_01-24/Actor_12/03-01-02-02-02-01-12.wav', 'audio_speech_actors_01-24/Actor_12/03-01-02-02-02-02-12.wav', 'audio_speech_actors_01-24/Actor_12/03-01-03-01-01-01-12.wav', 'audio_speech_actors_01-24/Actor_12/03-01-03-01-01-02-12.wav', 'audio_speech_actors_01-24/Actor_12/03-01-03-01-02-01-12.wav', 'audio_speech_actors_01-24/Actor_12/03-01-03-01-02-02-12.wav', 'audio_speech_actors_01-24/Actor_12/03-01-03-02-01-01-12.wav', 'audio_speech_actors_01-24/Actor_12/03-01-03-02-01-02-12.wav', 'audio_speech_actors_01-24/Actor_12/03-01-03-02-02-01-12.wav', 'audio_speech_actors_01-24/Actor_12/03-01-03-02-02-02-12.wav', 'audio_speech_actors_01-24/Actor_12/03-01-04-01-01-01-12.wav', 'audio_speech_actors_01-24/Actor_12/03-01-04-01-01-02-12.wav', 'audio_speech_actors_01-24/Actor_12/03-01-04-01-02-01-12.wav', 'audio_speech_actors_01-24/Actor_12/03-01-04-01-02-02-12.wav', 'audio_speech_actors_01-24/Actor_12/03-01-04-02-01-01-12.wav', 'audio_speech_actors_01-24/Actor_12/03-01-04-02-01-02-12.wav', 'audio_speech_actors_01-24/Actor_12/03-01-04-02-02-01-12.wav', 'audio_speech_actors_01-24/Actor_12/03-01-04-02-02-02-12.wav', 'audio_speech_actors_01-24/Actor_12/03-01-05-01-01-01-12.wav', 'audio_speech_actors_01-24/Actor_12/03-01-05-01-01-02-12.wav', 'audio_speech_actors_01-24/Actor_12/03-01-05-01-02-01-12.wav', 'audio_speech_actors_01-24/Actor_12/03-01-05-01-02-02-12.wav', 'audio_speech_actors_01-24/Actor_12/03-01-05-02-01-01-12.wav', 'audio_speech_actors_01-24/Actor_12/03-01-05-02-01-02-12.wav', 'audio_speech_actors_01-24/Actor_12/03-01-05-02-02-01-12.wav', 'audio_speech_actors_01-24/Actor_12/03-01-05-02-02-02-12.wav', 'audio_speech_actors_01-24/Actor_12/03-01-06-01-01-01-12.wav', 'audio_speech_actors_01-24/Actor_12/03-01-06-01-01-02-12.wav', 'audio_speech_actors_01-24/Actor_12/03-01-06-01-02-01-12.wav', 'audio_speech_actors_01-24/Actor_12/03-01-06-01-02-02-12.wav', 'audio_speech_actors_01-24/Actor_12/03-01-06-02-01-01-12.wav', 'audio_speech_actors_01-24/Actor_12/03-01-06-02-01-02-12.wav', 'audio_speech_actors_01-24/Actor_12/03-01-06-02-02-01-12.wav', 'audio_speech_actors_01-24/Actor_12/03-01-06-02-02-02-12.wav', 'audio_speech_actors_01-24/Actor_12/03-01-07-01-01-01-12.wav', 'audio_speech_actors_01-24/Actor_12/03-01-07-01-01-02-12.wav', 'audio_speech_actors_01-24/Actor_12/03-01-07-01-02-01-12.wav', 'audio_speech_actors_01-24/Actor_12/03-01-07-01-02-02-12.wav', 'audio_speech_actors_01-24/Actor_12/03-01-07-02-01-01-12.wav', 'audio_speech_actors_01-24/Actor_12/03-01-07-02-01-02-12.wav', 'audio_speech_actors_01-24/Actor_12/03-01-07-02-02-01-12.wav', 'audio_speech_actors_01-24/Actor_12/03-01-07-02-02-02-12.wav', 'audio_speech_actors_01-24/Actor_12/03-01-08-01-01-01-12.wav', 'audio_speech_actors_01-24/Actor_12/03-01-08-01-01-02-12.wav', 'audio_speech_actors_01-24/Actor_12/03-01-08-01-02-01-12.wav', 'audio_speech_actors_01-24/Actor_12/03-01-08-01-02-02-12.wav', 'audio_speech_actors_01-24/Actor_12/03-01-08-02-01-01-12.wav', 'audio_speech_actors_01-24/Actor_12/03-01-08-02-01-02-12.wav', 'audio_speech_actors_01-24/Actor_12/03-01-08-02-02-01-12.wav', 'audio_speech_actors_01-24/Actor_12/03-01-08-02-02-02-12.wav', 'audio_speech_actors_01-24/Actor_13/03-01-01-01-01-01-13.wav', 'audio_speech_actors_01-24/Actor_13/03-01-01-01-01-02-13.wav', 'audio_speech_actors_01-24/Actor_13/03-01-01-01-02-01-13.wav', 'audio_speech_actors_01-24/Actor_13/03-01-01-01-02-02-13.wav', 'audio_speech_actors_01-24/Actor_13/03-01-02-01-01-01-13.wav', 'audio_speech_actors_01-24/Actor_13/03-01-02-01-01-02-13.wav', 'audio_speech_actors_01-24/Actor_13/03-01-02-01-02-01-13.wav', 'audio_speech_actors_01-24/Actor_13/03-01-02-01-02-02-13.wav', 'audio_speech_actors_01-24/Actor_13/03-01-02-02-01-01-13.wav', 'audio_speech_actors_01-24/Actor_13/03-01-02-02-01-02-13.wav', 'audio_speech_actors_01-24/Actor_13/03-01-02-02-02-01-13.wav', 'audio_speech_actors_01-24/Actor_13/03-01-02-02-02-02-13.wav', 'audio_speech_actors_01-24/Actor_13/03-01-03-01-01-01-13.wav', 'audio_speech_actors_01-24/Actor_13/03-01-03-01-01-02-13.wav', 'audio_speech_actors_01-24/Actor_13/03-01-03-01-02-01-13.wav', 'audio_speech_actors_01-24/Actor_13/03-01-03-01-02-02-13.wav', 'audio_speech_actors_01-24/Actor_13/03-01-03-02-01-01-13.wav', 'audio_speech_actors_01-24/Actor_13/03-01-03-02-01-02-13.wav', 'audio_speech_actors_01-24/Actor_13/03-01-03-02-02-01-13.wav', 'audio_speech_actors_01-24/Actor_13/03-01-03-02-02-02-13.wav', 'audio_speech_actors_01-24/Actor_13/03-01-04-01-01-01-13.wav', 'audio_speech_actors_01-24/Actor_13/03-01-04-01-01-02-13.wav', 'audio_speech_actors_01-24/Actor_13/03-01-04-01-02-01-13.wav', 'audio_speech_actors_01-24/Actor_13/03-01-04-01-02-02-13.wav', 'audio_speech_actors_01-24/Actor_13/03-01-04-02-01-01-13.wav', 'audio_speech_actors_01-24/Actor_13/03-01-04-02-01-02-13.wav', 'audio_speech_actors_01-24/Actor_13/03-01-04-02-02-01-13.wav', 'audio_speech_actors_01-24/Actor_13/03-01-04-02-02-02-13.wav', 'audio_speech_actors_01-24/Actor_13/03-01-05-01-01-01-13.wav', 'audio_speech_actors_01-24/Actor_13/03-01-05-01-01-02-13.wav', 'audio_speech_actors_01-24/Actor_13/03-01-05-01-02-01-13.wav', 'audio_speech_actors_01-24/Actor_13/03-01-05-01-02-02-13.wav', 'audio_speech_actors_01-24/Actor_13/03-01-05-02-01-01-13.wav', 'audio_speech_actors_01-24/Actor_13/03-01-05-02-01-02-13.wav', 'audio_speech_actors_01-24/Actor_13/03-01-05-02-02-01-13.wav', 'audio_speech_actors_01-24/Actor_13/03-01-05-02-02-02-13.wav', 'audio_speech_actors_01-24/Actor_13/03-01-06-01-01-01-13.wav', 'audio_speech_actors_01-24/Actor_13/03-01-06-01-01-02-13.wav', 'audio_speech_actors_01-24/Actor_13/03-01-06-01-02-01-13.wav', 'audio_speech_actors_01-24/Actor_13/03-01-06-01-02-02-13.wav', 'audio_speech_actors_01-24/Actor_13/03-01-06-02-01-01-13.wav', 'audio_speech_actors_01-24/Actor_13/03-01-06-02-01-02-13.wav', 'audio_speech_actors_01-24/Actor_13/03-01-06-02-02-01-13.wav', 'audio_speech_actors_01-24/Actor_13/03-01-06-02-02-02-13.wav', 'audio_speech_actors_01-24/Actor_13/03-01-07-01-01-01-13.wav', 'audio_speech_actors_01-24/Actor_13/03-01-07-01-01-02-13.wav', 'audio_speech_actors_01-24/Actor_13/03-01-07-01-02-01-13.wav', 'audio_speech_actors_01-24/Actor_13/03-01-07-01-02-02-13.wav', 'audio_speech_actors_01-24/Actor_13/03-01-07-02-01-01-13.wav', 'audio_speech_actors_01-24/Actor_13/03-01-07-02-01-02-13.wav', 'audio_speech_actors_01-24/Actor_13/03-01-07-02-02-01-13.wav', 'audio_speech_actors_01-24/Actor_13/03-01-07-02-02-02-13.wav', 'audio_speech_actors_01-24/Actor_13/03-01-08-01-01-01-13.wav', 'audio_speech_actors_01-24/Actor_13/03-01-08-01-01-02-13.wav', 'audio_speech_actors_01-24/Actor_13/03-01-08-01-02-01-13.wav', 'audio_speech_actors_01-24/Actor_13/03-01-08-01-02-02-13.wav', 'audio_speech_actors_01-24/Actor_13/03-01-08-02-01-01-13.wav', 'audio_speech_actors_01-24/Actor_13/03-01-08-02-01-02-13.wav', 'audio_speech_actors_01-24/Actor_13/03-01-08-02-02-01-13.wav', 'audio_speech_actors_01-24/Actor_13/03-01-08-02-02-02-13.wav', 'audio_speech_actors_01-24/Actor_14/03-01-01-01-01-01-14.wav', 'audio_speech_actors_01-24/Actor_14/03-01-01-01-01-02-14.wav', 'audio_speech_actors_01-24/Actor_14/03-01-01-01-02-01-14.wav', 'audio_speech_actors_01-24/Actor_14/03-01-01-01-02-02-14.wav', 'audio_speech_actors_01-24/Actor_14/03-01-02-01-01-01-14.wav', 'audio_speech_actors_01-24/Actor_14/03-01-02-01-01-02-14.wav', 'audio_speech_actors_01-24/Actor_14/03-01-02-01-02-01-14.wav', 'audio_speech_actors_01-24/Actor_14/03-01-02-01-02-02-14.wav', 'audio_speech_actors_01-24/Actor_14/03-01-02-02-01-01-14.wav', 'audio_speech_actors_01-24/Actor_14/03-01-02-02-01-02-14.wav', 'audio_speech_actors_01-24/Actor_14/03-01-02-02-02-01-14.wav', 'audio_speech_actors_01-24/Actor_14/03-01-02-02-02-02-14.wav', 'audio_speech_actors_01-24/Actor_14/03-01-03-01-01-01-14.wav', 'audio_speech_actors_01-24/Actor_14/03-01-03-01-01-02-14.wav', 'audio_speech_actors_01-24/Actor_14/03-01-03-01-02-01-14.wav', 'audio_speech_actors_01-24/Actor_14/03-01-03-01-02-02-14.wav', 'audio_speech_actors_01-24/Actor_14/03-01-03-02-01-01-14.wav', 'audio_speech_actors_01-24/Actor_14/03-01-03-02-01-02-14.wav', 'audio_speech_actors_01-24/Actor_14/03-01-03-02-02-01-14.wav', 'audio_speech_actors_01-24/Actor_14/03-01-03-02-02-02-14.wav', 'audio_speech_actors_01-24/Actor_14/03-01-04-01-01-01-14.wav', 'audio_speech_actors_01-24/Actor_14/03-01-04-01-01-02-14.wav', 'audio_speech_actors_01-24/Actor_14/03-01-04-01-02-01-14.wav', 'audio_speech_actors_01-24/Actor_14/03-01-04-01-02-02-14.wav', 'audio_speech_actors_01-24/Actor_14/03-01-04-02-01-01-14.wav', 'audio_speech_actors_01-24/Actor_14/03-01-04-02-01-02-14.wav', 'audio_speech_actors_01-24/Actor_14/03-01-04-02-02-01-14.wav', 'audio_speech_actors_01-24/Actor_14/03-01-04-02-02-02-14.wav', 'audio_speech_actors_01-24/Actor_14/03-01-05-01-01-01-14.wav', 'audio_speech_actors_01-24/Actor_14/03-01-05-01-01-02-14.wav', 'audio_speech_actors_01-24/Actor_14/03-01-05-01-02-01-14.wav', 'audio_speech_actors_01-24/Actor_14/03-01-05-01-02-02-14.wav', 'audio_speech_actors_01-24/Actor_14/03-01-05-02-01-01-14.wav', 'audio_speech_actors_01-24/Actor_14/03-01-05-02-01-02-14.wav', 'audio_speech_actors_01-24/Actor_14/03-01-05-02-02-01-14.wav', 'audio_speech_actors_01-24/Actor_14/03-01-05-02-02-02-14.wav', 'audio_speech_actors_01-24/Actor_14/03-01-06-01-01-01-14.wav', 'audio_speech_actors_01-24/Actor_14/03-01-06-01-01-02-14.wav', 'audio_speech_actors_01-24/Actor_14/03-01-06-01-02-01-14.wav', 'audio_speech_actors_01-24/Actor_14/03-01-06-01-02-02-14.wav', 'audio_speech_actors_01-24/Actor_14/03-01-06-02-01-01-14.wav', 'audio_speech_actors_01-24/Actor_14/03-01-06-02-01-02-14.wav', 'audio_speech_actors_01-24/Actor_14/03-01-06-02-02-01-14.wav', 'audio_speech_actors_01-24/Actor_14/03-01-06-02-02-02-14.wav', 'audio_speech_actors_01-24/Actor_14/03-01-07-01-01-01-14.wav', 'audio_speech_actors_01-24/Actor_14/03-01-07-01-01-02-14.wav', 'audio_speech_actors_01-24/Actor_14/03-01-07-01-02-01-14.wav', 'audio_speech_actors_01-24/Actor_14/03-01-07-01-02-02-14.wav', 'audio_speech_actors_01-24/Actor_14/03-01-07-02-01-01-14.wav', 'audio_speech_actors_01-24/Actor_14/03-01-07-02-01-02-14.wav', 'audio_speech_actors_01-24/Actor_14/03-01-07-02-02-01-14.wav', 'audio_speech_actors_01-24/Actor_14/03-01-07-02-02-02-14.wav', 'audio_speech_actors_01-24/Actor_14/03-01-08-01-01-01-14.wav', 'audio_speech_actors_01-24/Actor_14/03-01-08-01-01-02-14.wav', 'audio_speech_actors_01-24/Actor_14/03-01-08-01-02-01-14.wav', 'audio_speech_actors_01-24/Actor_14/03-01-08-01-02-02-14.wav', 'audio_speech_actors_01-24/Actor_14/03-01-08-02-01-01-14.wav', 'audio_speech_actors_01-24/Actor_14/03-01-08-02-01-02-14.wav', 'audio_speech_actors_01-24/Actor_14/03-01-08-02-02-01-14.wav', 'audio_speech_actors_01-24/Actor_14/03-01-08-02-02-02-14.wav', 'audio_speech_actors_01-24/Actor_15/03-01-01-01-01-01-15.wav', 'audio_speech_actors_01-24/Actor_15/03-01-01-01-01-02-15.wav', 'audio_speech_actors_01-24/Actor_15/03-01-01-01-02-01-15.wav', 'audio_speech_actors_01-24/Actor_15/03-01-01-01-02-02-15.wav', 'audio_speech_actors_01-24/Actor_15/03-01-02-01-01-01-15.wav', 'audio_speech_actors_01-24/Actor_15/03-01-02-01-01-02-15.wav', 'audio_speech_actors_01-24/Actor_15/03-01-02-01-02-01-15.wav', 'audio_speech_actors_01-24/Actor_15/03-01-02-01-02-02-15.wav', 'audio_speech_actors_01-24/Actor_15/03-01-02-02-01-01-15.wav', 'audio_speech_actors_01-24/Actor_15/03-01-02-02-01-02-15.wav', 'audio_speech_actors_01-24/Actor_15/03-01-02-02-02-01-15.wav', 'audio_speech_actors_01-24/Actor_15/03-01-02-02-02-02-15.wav', 'audio_speech_actors_01-24/Actor_15/03-01-03-01-01-01-15.wav', 'audio_speech_actors_01-24/Actor_15/03-01-03-01-01-02-15.wav', 'audio_speech_actors_01-24/Actor_15/03-01-03-01-02-01-15.wav', 'audio_speech_actors_01-24/Actor_15/03-01-03-01-02-02-15.wav', 'audio_speech_actors_01-24/Actor_15/03-01-03-02-01-01-15.wav', 'audio_speech_actors_01-24/Actor_15/03-01-03-02-01-02-15.wav', 'audio_speech_actors_01-24/Actor_15/03-01-03-02-02-01-15.wav', 'audio_speech_actors_01-24/Actor_15/03-01-03-02-02-02-15.wav', 'audio_speech_actors_01-24/Actor_15/03-01-04-01-01-01-15.wav', 'audio_speech_actors_01-24/Actor_15/03-01-04-01-01-02-15.wav', 'audio_speech_actors_01-24/Actor_15/03-01-04-01-02-01-15.wav', 'audio_speech_actors_01-24/Actor_15/03-01-04-01-02-02-15.wav', 'audio_speech_actors_01-24/Actor_15/03-01-04-02-01-01-15.wav', 'audio_speech_actors_01-24/Actor_15/03-01-04-02-01-02-15.wav', 'audio_speech_actors_01-24/Actor_15/03-01-04-02-02-01-15.wav', 'audio_speech_actors_01-24/Actor_15/03-01-04-02-02-02-15.wav', 'audio_speech_actors_01-24/Actor_15/03-01-05-01-01-01-15.wav', 'audio_speech_actors_01-24/Actor_15/03-01-05-01-01-02-15.wav', 'audio_speech_actors_01-24/Actor_15/03-01-05-01-02-01-15.wav', 'audio_speech_actors_01-24/Actor_15/03-01-05-01-02-02-15.wav', 'audio_speech_actors_01-24/Actor_15/03-01-05-02-01-01-15.wav', 'audio_speech_actors_01-24/Actor_15/03-01-05-02-01-02-15.wav', 'audio_speech_actors_01-24/Actor_15/03-01-05-02-02-01-15.wav', 'audio_speech_actors_01-24/Actor_15/03-01-05-02-02-02-15.wav', 'audio_speech_actors_01-24/Actor_15/03-01-06-01-01-01-15.wav', 'audio_speech_actors_01-24/Actor_15/03-01-06-01-01-02-15.wav', 'audio_speech_actors_01-24/Actor_15/03-01-06-01-02-01-15.wav', 'audio_speech_actors_01-24/Actor_15/03-01-06-01-02-02-15.wav', 'audio_speech_actors_01-24/Actor_15/03-01-06-02-01-01-15.wav', 'audio_speech_actors_01-24/Actor_15/03-01-06-02-01-02-15.wav', 'audio_speech_actors_01-24/Actor_15/03-01-06-02-02-01-15.wav', 'audio_speech_actors_01-24/Actor_15/03-01-06-02-02-02-15.wav', 'audio_speech_actors_01-24/Actor_15/03-01-07-01-01-01-15.wav', 'audio_speech_actors_01-24/Actor_15/03-01-07-01-01-02-15.wav', 'audio_speech_actors_01-24/Actor_15/03-01-07-01-02-01-15.wav', 'audio_speech_actors_01-24/Actor_15/03-01-07-01-02-02-15.wav', 'audio_speech_actors_01-24/Actor_15/03-01-07-02-01-01-15.wav', 'audio_speech_actors_01-24/Actor_15/03-01-07-02-01-02-15.wav', 'audio_speech_actors_01-24/Actor_15/03-01-07-02-02-01-15.wav', 'audio_speech_actors_01-24/Actor_15/03-01-07-02-02-02-15.wav', 'audio_speech_actors_01-24/Actor_15/03-01-08-01-01-01-15.wav', 'audio_speech_actors_01-24/Actor_15/03-01-08-01-01-02-15.wav', 'audio_speech_actors_01-24/Actor_15/03-01-08-01-02-01-15.wav', 'audio_speech_actors_01-24/Actor_15/03-01-08-01-02-02-15.wav', 'audio_speech_actors_01-24/Actor_15/03-01-08-02-01-01-15.wav', 'audio_speech_actors_01-24/Actor_15/03-01-08-02-01-02-15.wav', 'audio_speech_actors_01-24/Actor_15/03-01-08-02-02-01-15.wav', 'audio_speech_actors_01-24/Actor_15/03-01-08-02-02-02-15.wav', 'audio_speech_actors_01-24/Actor_16/03-01-01-01-01-01-16.wav', 'audio_speech_actors_01-24/Actor_16/03-01-01-01-01-02-16.wav', 'audio_speech_actors_01-24/Actor_16/03-01-01-01-02-01-16.wav', 'audio_speech_actors_01-24/Actor_16/03-01-01-01-02-02-16.wav', 'audio_speech_actors_01-24/Actor_16/03-01-02-01-01-01-16.wav', 'audio_speech_actors_01-24/Actor_16/03-01-02-01-01-02-16.wav', 'audio_speech_actors_01-24/Actor_16/03-01-02-01-02-01-16.wav', 'audio_speech_actors_01-24/Actor_16/03-01-02-01-02-02-16.wav', 'audio_speech_actors_01-24/Actor_16/03-01-02-02-01-01-16.wav', 'audio_speech_actors_01-24/Actor_16/03-01-02-02-01-02-16.wav', 'audio_speech_actors_01-24/Actor_16/03-01-02-02-02-01-16.wav', 'audio_speech_actors_01-24/Actor_16/03-01-02-02-02-02-16.wav', 'audio_speech_actors_01-24/Actor_16/03-01-03-01-01-01-16.wav', 'audio_speech_actors_01-24/Actor_16/03-01-03-01-01-02-16.wav', 'audio_speech_actors_01-24/Actor_16/03-01-03-01-02-01-16.wav', 'audio_speech_actors_01-24/Actor_16/03-01-03-01-02-02-16.wav', 'audio_speech_actors_01-24/Actor_16/03-01-03-02-01-01-16.wav', 'audio_speech_actors_01-24/Actor_16/03-01-03-02-01-02-16.wav', 'audio_speech_actors_01-24/Actor_16/03-01-03-02-02-01-16.wav', 'audio_speech_actors_01-24/Actor_16/03-01-03-02-02-02-16.wav', 'audio_speech_actors_01-24/Actor_16/03-01-04-01-01-01-16.wav', 'audio_speech_actors_01-24/Actor_16/03-01-04-01-01-02-16.wav', 'audio_speech_actors_01-24/Actor_16/03-01-04-01-02-01-16.wav', 'audio_speech_actors_01-24/Actor_16/03-01-04-01-02-02-16.wav', 'audio_speech_actors_01-24/Actor_16/03-01-04-02-01-01-16.wav', 'audio_speech_actors_01-24/Actor_16/03-01-04-02-01-02-16.wav', 'audio_speech_actors_01-24/Actor_16/03-01-04-02-02-01-16.wav', 'audio_speech_actors_01-24/Actor_16/03-01-04-02-02-02-16.wav', 'audio_speech_actors_01-24/Actor_16/03-01-05-01-01-01-16.wav', 'audio_speech_actors_01-24/Actor_16/03-01-05-01-01-02-16.wav', 'audio_speech_actors_01-24/Actor_16/03-01-05-01-02-01-16.wav', 'audio_speech_actors_01-24/Actor_16/03-01-05-01-02-02-16.wav', 'audio_speech_actors_01-24/Actor_16/03-01-05-02-01-01-16.wav', 'audio_speech_actors_01-24/Actor_16/03-01-05-02-01-02-16.wav', 'audio_speech_actors_01-24/Actor_16/03-01-05-02-02-01-16.wav', 'audio_speech_actors_01-24/Actor_16/03-01-05-02-02-02-16.wav', 'audio_speech_actors_01-24/Actor_16/03-01-06-01-01-01-16.wav', 'audio_speech_actors_01-24/Actor_16/03-01-06-01-01-02-16.wav', 'audio_speech_actors_01-24/Actor_16/03-01-06-01-02-01-16.wav', 'audio_speech_actors_01-24/Actor_16/03-01-06-01-02-02-16.wav', 'audio_speech_actors_01-24/Actor_16/03-01-06-02-01-01-16.wav', 'audio_speech_actors_01-24/Actor_16/03-01-06-02-01-02-16.wav', 'audio_speech_actors_01-24/Actor_16/03-01-06-02-02-01-16.wav', 'audio_speech_actors_01-24/Actor_16/03-01-06-02-02-02-16.wav', 'audio_speech_actors_01-24/Actor_16/03-01-07-01-01-01-16.wav', 'audio_speech_actors_01-24/Actor_16/03-01-07-01-01-02-16.wav', 'audio_speech_actors_01-24/Actor_16/03-01-07-01-02-01-16.wav', 'audio_speech_actors_01-24/Actor_16/03-01-07-01-02-02-16.wav', 'audio_speech_actors_01-24/Actor_16/03-01-07-02-01-01-16.wav', 'audio_speech_actors_01-24/Actor_16/03-01-07-02-01-02-16.wav', 'audio_speech_actors_01-24/Actor_16/03-01-07-02-02-01-16.wav', 'audio_speech_actors_01-24/Actor_16/03-01-07-02-02-02-16.wav', 'audio_speech_actors_01-24/Actor_16/03-01-08-01-01-01-16.wav', 'audio_speech_actors_01-24/Actor_16/03-01-08-01-01-02-16.wav', 'audio_speech_actors_01-24/Actor_16/03-01-08-01-02-01-16.wav', 'audio_speech_actors_01-24/Actor_16/03-01-08-01-02-02-16.wav', 'audio_speech_actors_01-24/Actor_16/03-01-08-02-01-01-16.wav', 'audio_speech_actors_01-24/Actor_16/03-01-08-02-01-02-16.wav', 'audio_speech_actors_01-24/Actor_16/03-01-08-02-02-01-16.wav', 'audio_speech_actors_01-24/Actor_16/03-01-08-02-02-02-16.wav', 'audio_speech_actors_01-24/Actor_17/03-01-01-01-01-01-17.wav', 'audio_speech_actors_01-24/Actor_17/03-01-01-01-01-02-17.wav', 'audio_speech_actors_01-24/Actor_17/03-01-01-01-02-01-17.wav', 'audio_speech_actors_01-24/Actor_17/03-01-01-01-02-02-17.wav', 'audio_speech_actors_01-24/Actor_17/03-01-02-01-01-01-17.wav', 'audio_speech_actors_01-24/Actor_17/03-01-02-01-01-02-17.wav', 'audio_speech_actors_01-24/Actor_17/03-01-02-01-02-01-17.wav', 'audio_speech_actors_01-24/Actor_17/03-01-02-01-02-02-17.wav', 'audio_speech_actors_01-24/Actor_17/03-01-02-02-01-01-17.wav', 'audio_speech_actors_01-24/Actor_17/03-01-02-02-01-02-17.wav', 'audio_speech_actors_01-24/Actor_17/03-01-02-02-02-01-17.wav', 'audio_speech_actors_01-24/Actor_17/03-01-02-02-02-02-17.wav', 'audio_speech_actors_01-24/Actor_17/03-01-03-01-01-01-17.wav', 'audio_speech_actors_01-24/Actor_17/03-01-03-01-01-02-17.wav', 'audio_speech_actors_01-24/Actor_17/03-01-03-01-02-01-17.wav', 'audio_speech_actors_01-24/Actor_17/03-01-03-01-02-02-17.wav', 'audio_speech_actors_01-24/Actor_17/03-01-03-02-01-01-17.wav', 'audio_speech_actors_01-24/Actor_17/03-01-03-02-01-02-17.wav', 'audio_speech_actors_01-24/Actor_17/03-01-03-02-02-01-17.wav', 'audio_speech_actors_01-24/Actor_17/03-01-03-02-02-02-17.wav', 'audio_speech_actors_01-24/Actor_17/03-01-04-01-01-01-17.wav', 'audio_speech_actors_01-24/Actor_17/03-01-04-01-01-02-17.wav', 'audio_speech_actors_01-24/Actor_17/03-01-04-01-02-01-17.wav', 'audio_speech_actors_01-24/Actor_17/03-01-04-01-02-02-17.wav', 'audio_speech_actors_01-24/Actor_17/03-01-04-02-01-01-17.wav', 'audio_speech_actors_01-24/Actor_17/03-01-04-02-01-02-17.wav', 'audio_speech_actors_01-24/Actor_17/03-01-04-02-02-01-17.wav', 'audio_speech_actors_01-24/Actor_17/03-01-04-02-02-02-17.wav', 'audio_speech_actors_01-24/Actor_17/03-01-05-01-01-01-17.wav', 'audio_speech_actors_01-24/Actor_17/03-01-05-01-01-02-17.wav', 'audio_speech_actors_01-24/Actor_17/03-01-05-01-02-01-17.wav', 'audio_speech_actors_01-24/Actor_17/03-01-05-01-02-02-17.wav', 'audio_speech_actors_01-24/Actor_17/03-01-05-02-01-01-17.wav', 'audio_speech_actors_01-24/Actor_17/03-01-05-02-01-02-17.wav', 'audio_speech_actors_01-24/Actor_17/03-01-05-02-02-01-17.wav', 'audio_speech_actors_01-24/Actor_17/03-01-05-02-02-02-17.wav', 'audio_speech_actors_01-24/Actor_17/03-01-06-01-01-01-17.wav', 'audio_speech_actors_01-24/Actor_17/03-01-06-01-01-02-17.wav', 'audio_speech_actors_01-24/Actor_17/03-01-06-01-02-01-17.wav', 'audio_speech_actors_01-24/Actor_17/03-01-06-01-02-02-17.wav', 'audio_speech_actors_01-24/Actor_17/03-01-06-02-01-01-17.wav', 'audio_speech_actors_01-24/Actor_17/03-01-06-02-01-02-17.wav', 'audio_speech_actors_01-24/Actor_17/03-01-06-02-02-01-17.wav', 'audio_speech_actors_01-24/Actor_17/03-01-06-02-02-02-17.wav', 'audio_speech_actors_01-24/Actor_17/03-01-07-01-01-01-17.wav', 'audio_speech_actors_01-24/Actor_17/03-01-07-01-01-02-17.wav', 'audio_speech_actors_01-24/Actor_17/03-01-07-01-02-01-17.wav', 'audio_speech_actors_01-24/Actor_17/03-01-07-01-02-02-17.wav', 'audio_speech_actors_01-24/Actor_17/03-01-07-02-01-01-17.wav', 'audio_speech_actors_01-24/Actor_17/03-01-07-02-01-02-17.wav', 'audio_speech_actors_01-24/Actor_17/03-01-07-02-02-01-17.wav', 'audio_speech_actors_01-24/Actor_17/03-01-07-02-02-02-17.wav', 'audio_speech_actors_01-24/Actor_17/03-01-08-01-01-01-17.wav', 'audio_speech_actors_01-24/Actor_17/03-01-08-01-01-02-17.wav', 'audio_speech_actors_01-24/Actor_17/03-01-08-01-02-01-17.wav', 'audio_speech_actors_01-24/Actor_17/03-01-08-01-02-02-17.wav', 'audio_speech_actors_01-24/Actor_17/03-01-08-02-01-01-17.wav', 'audio_speech_actors_01-24/Actor_17/03-01-08-02-01-02-17.wav', 'audio_speech_actors_01-24/Actor_17/03-01-08-02-02-01-17.wav', 'audio_speech_actors_01-24/Actor_17/03-01-08-02-02-02-17.wav', 'audio_speech_actors_01-24/Actor_18/03-01-01-01-01-01-18.wav', 'audio_speech_actors_01-24/Actor_18/03-01-01-01-01-02-18.wav', 'audio_speech_actors_01-24/Actor_18/03-01-01-01-02-01-18.wav', 'audio_speech_actors_01-24/Actor_18/03-01-01-01-02-02-18.wav', 'audio_speech_actors_01-24/Actor_18/03-01-02-01-01-01-18.wav', 'audio_speech_actors_01-24/Actor_18/03-01-02-01-01-02-18.wav', 'audio_speech_actors_01-24/Actor_18/03-01-02-01-02-01-18.wav', 'audio_speech_actors_01-24/Actor_18/03-01-02-01-02-02-18.wav', 'audio_speech_actors_01-24/Actor_18/03-01-02-02-01-01-18.wav', 'audio_speech_actors_01-24/Actor_18/03-01-02-02-01-02-18.wav', 'audio_speech_actors_01-24/Actor_18/03-01-02-02-02-01-18.wav', 'audio_speech_actors_01-24/Actor_18/03-01-02-02-02-02-18.wav', 'audio_speech_actors_01-24/Actor_18/03-01-03-01-01-01-18.wav', 'audio_speech_actors_01-24/Actor_18/03-01-03-01-01-02-18.wav', 'audio_speech_actors_01-24/Actor_18/03-01-03-01-02-01-18.wav', 'audio_speech_actors_01-24/Actor_18/03-01-03-01-02-02-18.wav', 'audio_speech_actors_01-24/Actor_18/03-01-03-02-01-01-18.wav', 'audio_speech_actors_01-24/Actor_18/03-01-03-02-01-02-18.wav', 'audio_speech_actors_01-24/Actor_18/03-01-03-02-02-01-18.wav', 'audio_speech_actors_01-24/Actor_18/03-01-03-02-02-02-18.wav', 'audio_speech_actors_01-24/Actor_18/03-01-04-01-01-01-18.wav', 'audio_speech_actors_01-24/Actor_18/03-01-04-01-01-02-18.wav', 'audio_speech_actors_01-24/Actor_18/03-01-04-01-02-01-18.wav', 'audio_speech_actors_01-24/Actor_18/03-01-04-01-02-02-18.wav', 'audio_speech_actors_01-24/Actor_18/03-01-04-02-01-01-18.wav', 'audio_speech_actors_01-24/Actor_18/03-01-04-02-01-02-18.wav', 'audio_speech_actors_01-24/Actor_18/03-01-04-02-02-01-18.wav', 'audio_speech_actors_01-24/Actor_18/03-01-04-02-02-02-18.wav', 'audio_speech_actors_01-24/Actor_18/03-01-05-01-01-01-18.wav', 'audio_speech_actors_01-24/Actor_18/03-01-05-01-01-02-18.wav', 'audio_speech_actors_01-24/Actor_18/03-01-05-01-02-01-18.wav', 'audio_speech_actors_01-24/Actor_18/03-01-05-01-02-02-18.wav', 'audio_speech_actors_01-24/Actor_18/03-01-05-02-01-01-18.wav', 'audio_speech_actors_01-24/Actor_18/03-01-05-02-01-02-18.wav', 'audio_speech_actors_01-24/Actor_18/03-01-05-02-02-01-18.wav', 'audio_speech_actors_01-24/Actor_18/03-01-05-02-02-02-18.wav', 'audio_speech_actors_01-24/Actor_18/03-01-06-01-01-01-18.wav', 'audio_speech_actors_01-24/Actor_18/03-01-06-01-01-02-18.wav', 'audio_speech_actors_01-24/Actor_18/03-01-06-01-02-01-18.wav', 'audio_speech_actors_01-24/Actor_18/03-01-06-01-02-02-18.wav', 'audio_speech_actors_01-24/Actor_18/03-01-06-02-01-01-18.wav', 'audio_speech_actors_01-24/Actor_18/03-01-06-02-01-02-18.wav', 'audio_speech_actors_01-24/Actor_18/03-01-06-02-02-01-18.wav', 'audio_speech_actors_01-24/Actor_18/03-01-06-02-02-02-18.wav', 'audio_speech_actors_01-24/Actor_18/03-01-07-01-01-01-18.wav', 'audio_speech_actors_01-24/Actor_18/03-01-07-01-01-02-18.wav', 'audio_speech_actors_01-24/Actor_18/03-01-07-01-02-01-18.wav', 'audio_speech_actors_01-24/Actor_18/03-01-07-01-02-02-18.wav', 'audio_speech_actors_01-24/Actor_18/03-01-07-02-01-01-18.wav', 'audio_speech_actors_01-24/Actor_18/03-01-07-02-01-02-18.wav', 'audio_speech_actors_01-24/Actor_18/03-01-07-02-02-01-18.wav', 'audio_speech_actors_01-24/Actor_18/03-01-07-02-02-02-18.wav', 'audio_speech_actors_01-24/Actor_18/03-01-08-01-01-01-18.wav', 'audio_speech_actors_01-24/Actor_18/03-01-08-01-01-02-18.wav', 'audio_speech_actors_01-24/Actor_18/03-01-08-01-02-01-18.wav', 'audio_speech_actors_01-24/Actor_18/03-01-08-01-02-02-18.wav', 'audio_speech_actors_01-24/Actor_18/03-01-08-02-01-01-18.wav', 'audio_speech_actors_01-24/Actor_18/03-01-08-02-01-02-18.wav', 'audio_speech_actors_01-24/Actor_18/03-01-08-02-02-01-18.wav', 'audio_speech_actors_01-24/Actor_18/03-01-08-02-02-02-18.wav', 'audio_speech_actors_01-24/Actor_19/03-01-01-01-01-01-19.wav', 'audio_speech_actors_01-24/Actor_19/03-01-01-01-01-02-19.wav', 'audio_speech_actors_01-24/Actor_19/03-01-01-01-02-01-19.wav', 'audio_speech_actors_01-24/Actor_19/03-01-01-01-02-02-19.wav', 'audio_speech_actors_01-24/Actor_19/03-01-02-01-01-01-19.wav', 'audio_speech_actors_01-24/Actor_19/03-01-02-01-01-02-19.wav', 'audio_speech_actors_01-24/Actor_19/03-01-02-01-02-01-19.wav', 'audio_speech_actors_01-24/Actor_19/03-01-02-01-02-02-19.wav', 'audio_speech_actors_01-24/Actor_19/03-01-02-02-01-01-19.wav', 'audio_speech_actors_01-24/Actor_19/03-01-02-02-01-02-19.wav', 'audio_speech_actors_01-24/Actor_19/03-01-02-02-02-01-19.wav', 'audio_speech_actors_01-24/Actor_19/03-01-02-02-02-02-19.wav', 'audio_speech_actors_01-24/Actor_19/03-01-03-01-01-01-19.wav', 'audio_speech_actors_01-24/Actor_19/03-01-03-01-01-02-19.wav', 'audio_speech_actors_01-24/Actor_19/03-01-03-01-02-01-19.wav', 'audio_speech_actors_01-24/Actor_19/03-01-03-01-02-02-19.wav', 'audio_speech_actors_01-24/Actor_19/03-01-03-02-01-01-19.wav', 'audio_speech_actors_01-24/Actor_19/03-01-03-02-01-02-19.wav', 'audio_speech_actors_01-24/Actor_19/03-01-03-02-02-01-19.wav', 'audio_speech_actors_01-24/Actor_19/03-01-03-02-02-02-19.wav', 'audio_speech_actors_01-24/Actor_19/03-01-04-01-01-01-19.wav', 'audio_speech_actors_01-24/Actor_19/03-01-04-01-01-02-19.wav', 'audio_speech_actors_01-24/Actor_19/03-01-04-01-02-01-19.wav', 'audio_speech_actors_01-24/Actor_19/03-01-04-01-02-02-19.wav', 'audio_speech_actors_01-24/Actor_19/03-01-04-02-01-01-19.wav', 'audio_speech_actors_01-24/Actor_19/03-01-04-02-01-02-19.wav', 'audio_speech_actors_01-24/Actor_19/03-01-04-02-02-01-19.wav', 'audio_speech_actors_01-24/Actor_19/03-01-04-02-02-02-19.wav', 'audio_speech_actors_01-24/Actor_19/03-01-05-01-01-01-19.wav', 'audio_speech_actors_01-24/Actor_19/03-01-05-01-01-02-19.wav', 'audio_speech_actors_01-24/Actor_19/03-01-05-01-02-01-19.wav', 'audio_speech_actors_01-24/Actor_19/03-01-05-01-02-02-19.wav', 'audio_speech_actors_01-24/Actor_19/03-01-05-02-01-01-19.wav', 'audio_speech_actors_01-24/Actor_19/03-01-05-02-01-02-19.wav', 'audio_speech_actors_01-24/Actor_19/03-01-05-02-02-01-19.wav', 'audio_speech_actors_01-24/Actor_19/03-01-05-02-02-02-19.wav', 'audio_speech_actors_01-24/Actor_19/03-01-06-01-01-01-19.wav', 'audio_speech_actors_01-24/Actor_19/03-01-06-01-01-02-19.wav', 'audio_speech_actors_01-24/Actor_19/03-01-06-01-02-01-19.wav', 'audio_speech_actors_01-24/Actor_19/03-01-06-01-02-02-19.wav', 'audio_speech_actors_01-24/Actor_19/03-01-06-02-01-01-19.wav', 'audio_speech_actors_01-24/Actor_19/03-01-06-02-01-02-19.wav', 'audio_speech_actors_01-24/Actor_19/03-01-06-02-02-01-19.wav', 'audio_speech_actors_01-24/Actor_19/03-01-06-02-02-02-19.wav', 'audio_speech_actors_01-24/Actor_19/03-01-07-01-01-01-19.wav', 'audio_speech_actors_01-24/Actor_19/03-01-07-01-01-02-19.wav', 'audio_speech_actors_01-24/Actor_19/03-01-07-01-02-01-19.wav', 'audio_speech_actors_01-24/Actor_19/03-01-07-01-02-02-19.wav', 'audio_speech_actors_01-24/Actor_19/03-01-07-02-01-01-19.wav', 'audio_speech_actors_01-24/Actor_19/03-01-07-02-01-02-19.wav', 'audio_speech_actors_01-24/Actor_19/03-01-07-02-02-01-19.wav', 'audio_speech_actors_01-24/Actor_19/03-01-07-02-02-02-19.wav', 'audio_speech_actors_01-24/Actor_19/03-01-08-01-01-01-19.wav', 'audio_speech_actors_01-24/Actor_19/03-01-08-01-01-02-19.wav', 'audio_speech_actors_01-24/Actor_19/03-01-08-01-02-01-19.wav', 'audio_speech_actors_01-24/Actor_19/03-01-08-01-02-02-19.wav', 'audio_speech_actors_01-24/Actor_19/03-01-08-02-01-01-19.wav', 'audio_speech_actors_01-24/Actor_19/03-01-08-02-01-02-19.wav', 'audio_speech_actors_01-24/Actor_19/03-01-08-02-02-01-19.wav', 'audio_speech_actors_01-24/Actor_19/03-01-08-02-02-02-19.wav', 'audio_speech_actors_01-24/Actor_20/03-01-01-01-01-01-20.wav', 'audio_speech_actors_01-24/Actor_20/03-01-01-01-01-02-20.wav', 'audio_speech_actors_01-24/Actor_20/03-01-01-01-02-01-20.wav', 'audio_speech_actors_01-24/Actor_20/03-01-01-01-02-02-20.wav', 'audio_speech_actors_01-24/Actor_20/03-01-02-01-01-01-20.wav', 'audio_speech_actors_01-24/Actor_20/03-01-02-01-01-02-20.wav', 'audio_speech_actors_01-24/Actor_20/03-01-02-01-02-01-20.wav', 'audio_speech_actors_01-24/Actor_20/03-01-02-01-02-02-20.wav', 'audio_speech_actors_01-24/Actor_20/03-01-02-02-01-01-20.wav', 'audio_speech_actors_01-24/Actor_20/03-01-02-02-01-02-20.wav', 'audio_speech_actors_01-24/Actor_20/03-01-02-02-02-01-20.wav', 'audio_speech_actors_01-24/Actor_20/03-01-02-02-02-02-20.wav', 'audio_speech_actors_01-24/Actor_20/03-01-03-01-01-01-20.wav', 'audio_speech_actors_01-24/Actor_20/03-01-03-01-01-02-20.wav', 'audio_speech_actors_01-24/Actor_20/03-01-03-01-02-01-20.wav', 'audio_speech_actors_01-24/Actor_20/03-01-03-01-02-02-20.wav', 'audio_speech_actors_01-24/Actor_20/03-01-03-02-01-01-20.wav', 'audio_speech_actors_01-24/Actor_20/03-01-03-02-01-02-20.wav', 'audio_speech_actors_01-24/Actor_20/03-01-03-02-02-01-20.wav', 'audio_speech_actors_01-24/Actor_20/03-01-03-02-02-02-20.wav', 'audio_speech_actors_01-24/Actor_20/03-01-04-01-01-01-20.wav', 'audio_speech_actors_01-24/Actor_20/03-01-04-01-01-02-20.wav', 'audio_speech_actors_01-24/Actor_20/03-01-04-01-02-01-20.wav', 'audio_speech_actors_01-24/Actor_20/03-01-04-01-02-02-20.wav', 'audio_speech_actors_01-24/Actor_20/03-01-04-02-01-01-20.wav', 'audio_speech_actors_01-24/Actor_20/03-01-04-02-01-02-20.wav', 'audio_speech_actors_01-24/Actor_20/03-01-04-02-02-01-20.wav', 'audio_speech_actors_01-24/Actor_20/03-01-04-02-02-02-20.wav', 'audio_speech_actors_01-24/Actor_20/03-01-05-01-01-01-20.wav', 'audio_speech_actors_01-24/Actor_20/03-01-05-01-01-02-20.wav', 'audio_speech_actors_01-24/Actor_20/03-01-05-01-02-01-20.wav', 'audio_speech_actors_01-24/Actor_20/03-01-05-01-02-02-20.wav', 'audio_speech_actors_01-24/Actor_20/03-01-05-02-01-01-20.wav', 'audio_speech_actors_01-24/Actor_20/03-01-05-02-01-02-20.wav', 'audio_speech_actors_01-24/Actor_20/03-01-05-02-02-01-20.wav', 'audio_speech_actors_01-24/Actor_20/03-01-05-02-02-02-20.wav', 'audio_speech_actors_01-24/Actor_20/03-01-06-01-01-01-20.wav', 'audio_speech_actors_01-24/Actor_20/03-01-06-01-01-02-20.wav', 'audio_speech_actors_01-24/Actor_20/03-01-06-01-02-01-20.wav', 'audio_speech_actors_01-24/Actor_20/03-01-06-01-02-02-20.wav', 'audio_speech_actors_01-24/Actor_20/03-01-06-02-01-01-20.wav', 'audio_speech_actors_01-24/Actor_20/03-01-06-02-01-02-20.wav', 'audio_speech_actors_01-24/Actor_20/03-01-06-02-02-01-20.wav', 'audio_speech_actors_01-24/Actor_20/03-01-06-02-02-02-20.wav', 'audio_speech_actors_01-24/Actor_20/03-01-07-01-01-01-20.wav', 'audio_speech_actors_01-24/Actor_20/03-01-07-01-01-02-20.wav', 'audio_speech_actors_01-24/Actor_20/03-01-07-01-02-01-20.wav', 'audio_speech_actors_01-24/Actor_20/03-01-07-01-02-02-20.wav', 'audio_speech_actors_01-24/Actor_20/03-01-07-02-01-01-20.wav', 'audio_speech_actors_01-24/Actor_20/03-01-07-02-01-02-20.wav', 'audio_speech_actors_01-24/Actor_20/03-01-07-02-02-01-20.wav', 'audio_speech_actors_01-24/Actor_20/03-01-07-02-02-02-20.wav', 'audio_speech_actors_01-24/Actor_20/03-01-08-01-01-01-20.wav', 'audio_speech_actors_01-24/Actor_20/03-01-08-01-01-02-20.wav', 'audio_speech_actors_01-24/Actor_20/03-01-08-01-02-01-20.wav', 'audio_speech_actors_01-24/Actor_20/03-01-08-01-02-02-20.wav', 'audio_speech_actors_01-24/Actor_20/03-01-08-02-01-01-20.wav', 'audio_speech_actors_01-24/Actor_20/03-01-08-02-01-02-20.wav', 'audio_speech_actors_01-24/Actor_20/03-01-08-02-02-01-20.wav', 'audio_speech_actors_01-24/Actor_20/03-01-08-02-02-02-20.wav', 'audio_speech_actors_01-24/Actor_21/03-01-01-01-01-01-21.wav', 'audio_speech_actors_01-24/Actor_21/03-01-01-01-01-02-21.wav', 'audio_speech_actors_01-24/Actor_21/03-01-01-01-02-01-21.wav', 'audio_speech_actors_01-24/Actor_21/03-01-01-01-02-02-21.wav', 'audio_speech_actors_01-24/Actor_21/03-01-02-01-01-01-21.wav', 'audio_speech_actors_01-24/Actor_21/03-01-02-01-01-02-21.wav', 'audio_speech_actors_01-24/Actor_21/03-01-02-01-02-01-21.wav', 'audio_speech_actors_01-24/Actor_21/03-01-02-01-02-02-21.wav', 'audio_speech_actors_01-24/Actor_21/03-01-02-02-01-01-21.wav', 'audio_speech_actors_01-24/Actor_21/03-01-02-02-01-02-21.wav', 'audio_speech_actors_01-24/Actor_21/03-01-02-02-02-01-21.wav', 'audio_speech_actors_01-24/Actor_21/03-01-02-02-02-02-21.wav', 'audio_speech_actors_01-24/Actor_21/03-01-03-01-01-01-21.wav', 'audio_speech_actors_01-24/Actor_21/03-01-03-01-01-02-21.wav', 'audio_speech_actors_01-24/Actor_21/03-01-03-01-02-01-21.wav', 'audio_speech_actors_01-24/Actor_21/03-01-03-01-02-02-21.wav', 'audio_speech_actors_01-24/Actor_21/03-01-03-02-01-01-21.wav', 'audio_speech_actors_01-24/Actor_21/03-01-03-02-01-02-21.wav', 'audio_speech_actors_01-24/Actor_21/03-01-03-02-02-01-21.wav', 'audio_speech_actors_01-24/Actor_21/03-01-03-02-02-02-21.wav', 'audio_speech_actors_01-24/Actor_21/03-01-04-01-01-01-21.wav', 'audio_speech_actors_01-24/Actor_21/03-01-04-01-01-02-21.wav', 'audio_speech_actors_01-24/Actor_21/03-01-04-01-02-01-21.wav', 'audio_speech_actors_01-24/Actor_21/03-01-04-01-02-02-21.wav', 'audio_speech_actors_01-24/Actor_21/03-01-04-02-01-01-21.wav', 'audio_speech_actors_01-24/Actor_21/03-01-04-02-01-02-21.wav', 'audio_speech_actors_01-24/Actor_21/03-01-04-02-02-01-21.wav', 'audio_speech_actors_01-24/Actor_21/03-01-04-02-02-02-21.wav', 'audio_speech_actors_01-24/Actor_21/03-01-05-01-01-01-21.wav', 'audio_speech_actors_01-24/Actor_21/03-01-05-01-01-02-21.wav', 'audio_speech_actors_01-24/Actor_21/03-01-05-01-02-01-21.wav', 'audio_speech_actors_01-24/Actor_21/03-01-05-01-02-02-21.wav', 'audio_speech_actors_01-24/Actor_21/03-01-05-02-01-01-21.wav', 'audio_speech_actors_01-24/Actor_21/03-01-05-02-01-02-21.wav', 'audio_speech_actors_01-24/Actor_21/03-01-05-02-02-01-21.wav', 'audio_speech_actors_01-24/Actor_21/03-01-05-02-02-02-21.wav', 'audio_speech_actors_01-24/Actor_21/03-01-06-01-01-01-21.wav', 'audio_speech_actors_01-24/Actor_21/03-01-06-01-01-02-21.wav', 'audio_speech_actors_01-24/Actor_21/03-01-06-01-02-01-21.wav', 'audio_speech_actors_01-24/Actor_21/03-01-06-01-02-02-21.wav', 'audio_speech_actors_01-24/Actor_21/03-01-06-02-01-01-21.wav', 'audio_speech_actors_01-24/Actor_21/03-01-06-02-01-02-21.wav', 'audio_speech_actors_01-24/Actor_21/03-01-06-02-02-01-21.wav', 'audio_speech_actors_01-24/Actor_21/03-01-06-02-02-02-21.wav', 'audio_speech_actors_01-24/Actor_21/03-01-07-01-01-01-21.wav', 'audio_speech_actors_01-24/Actor_21/03-01-07-01-01-02-21.wav', 'audio_speech_actors_01-24/Actor_21/03-01-07-01-02-01-21.wav', 'audio_speech_actors_01-24/Actor_21/03-01-07-01-02-02-21.wav', 'audio_speech_actors_01-24/Actor_21/03-01-07-02-01-01-21.wav', 'audio_speech_actors_01-24/Actor_21/03-01-07-02-01-02-21.wav', 'audio_speech_actors_01-24/Actor_21/03-01-07-02-02-01-21.wav', 'audio_speech_actors_01-24/Actor_21/03-01-07-02-02-02-21.wav', 'audio_speech_actors_01-24/Actor_21/03-01-08-01-01-01-21.wav', 'audio_speech_actors_01-24/Actor_21/03-01-08-01-01-02-21.wav', 'audio_speech_actors_01-24/Actor_21/03-01-08-01-02-01-21.wav', 'audio_speech_actors_01-24/Actor_21/03-01-08-01-02-02-21.wav', 'audio_speech_actors_01-24/Actor_21/03-01-08-02-01-01-21.wav', 'audio_speech_actors_01-24/Actor_21/03-01-08-02-01-02-21.wav', 'audio_speech_actors_01-24/Actor_21/03-01-08-02-02-01-21.wav', 'audio_speech_actors_01-24/Actor_21/03-01-08-02-02-02-21.wav', 'audio_speech_actors_01-24/Actor_22/03-01-01-01-01-01-22.wav', 'audio_speech_actors_01-24/Actor_22/03-01-01-01-01-02-22.wav', 'audio_speech_actors_01-24/Actor_22/03-01-01-01-02-01-22.wav', 'audio_speech_actors_01-24/Actor_22/03-01-01-01-02-02-22.wav', 'audio_speech_actors_01-24/Actor_22/03-01-02-01-01-01-22.wav', 'audio_speech_actors_01-24/Actor_22/03-01-02-01-01-02-22.wav', 'audio_speech_actors_01-24/Actor_22/03-01-02-01-02-01-22.wav', 'audio_speech_actors_01-24/Actor_22/03-01-02-01-02-02-22.wav', 'audio_speech_actors_01-24/Actor_22/03-01-02-02-01-01-22.wav', 'audio_speech_actors_01-24/Actor_22/03-01-02-02-01-02-22.wav', 'audio_speech_actors_01-24/Actor_22/03-01-02-02-02-01-22.wav', 'audio_speech_actors_01-24/Actor_22/03-01-02-02-02-02-22.wav', 'audio_speech_actors_01-24/Actor_22/03-01-03-01-01-01-22.wav', 'audio_speech_actors_01-24/Actor_22/03-01-03-01-01-02-22.wav', 'audio_speech_actors_01-24/Actor_22/03-01-03-01-02-01-22.wav', 'audio_speech_actors_01-24/Actor_22/03-01-03-01-02-02-22.wav', 'audio_speech_actors_01-24/Actor_22/03-01-03-02-01-01-22.wav', 'audio_speech_actors_01-24/Actor_22/03-01-03-02-01-02-22.wav', 'audio_speech_actors_01-24/Actor_22/03-01-03-02-02-01-22.wav', 'audio_speech_actors_01-24/Actor_22/03-01-03-02-02-02-22.wav', 'audio_speech_actors_01-24/Actor_22/03-01-04-01-01-01-22.wav', 'audio_speech_actors_01-24/Actor_22/03-01-04-01-01-02-22.wav', 'audio_speech_actors_01-24/Actor_22/03-01-04-01-02-01-22.wav', 'audio_speech_actors_01-24/Actor_22/03-01-04-01-02-02-22.wav', 'audio_speech_actors_01-24/Actor_22/03-01-04-02-01-01-22.wav', 'audio_speech_actors_01-24/Actor_22/03-01-04-02-01-02-22.wav', 'audio_speech_actors_01-24/Actor_22/03-01-04-02-02-01-22.wav', 'audio_speech_actors_01-24/Actor_22/03-01-04-02-02-02-22.wav', 'audio_speech_actors_01-24/Actor_22/03-01-05-01-01-01-22.wav', 'audio_speech_actors_01-24/Actor_22/03-01-05-01-01-02-22.wav', 'audio_speech_actors_01-24/Actor_22/03-01-05-01-02-01-22.wav', 'audio_speech_actors_01-24/Actor_22/03-01-05-01-02-02-22.wav', 'audio_speech_actors_01-24/Actor_22/03-01-05-02-01-01-22.wav', 'audio_speech_actors_01-24/Actor_22/03-01-05-02-01-02-22.wav', 'audio_speech_actors_01-24/Actor_22/03-01-05-02-02-01-22.wav', 'audio_speech_actors_01-24/Actor_22/03-01-05-02-02-02-22.wav', 'audio_speech_actors_01-24/Actor_22/03-01-06-01-01-01-22.wav', 'audio_speech_actors_01-24/Actor_22/03-01-06-01-01-02-22.wav', 'audio_speech_actors_01-24/Actor_22/03-01-06-01-02-01-22.wav', 'audio_speech_actors_01-24/Actor_22/03-01-06-01-02-02-22.wav', 'audio_speech_actors_01-24/Actor_22/03-01-06-02-01-01-22.wav', 'audio_speech_actors_01-24/Actor_22/03-01-06-02-01-02-22.wav', 'audio_speech_actors_01-24/Actor_22/03-01-06-02-02-01-22.wav', 'audio_speech_actors_01-24/Actor_22/03-01-06-02-02-02-22.wav', 'audio_speech_actors_01-24/Actor_22/03-01-07-01-01-01-22.wav', 'audio_speech_actors_01-24/Actor_22/03-01-07-01-01-02-22.wav', 'audio_speech_actors_01-24/Actor_22/03-01-07-01-02-01-22.wav', 'audio_speech_actors_01-24/Actor_22/03-01-07-01-02-02-22.wav', 'audio_speech_actors_01-24/Actor_22/03-01-07-02-01-01-22.wav', 'audio_speech_actors_01-24/Actor_22/03-01-07-02-01-02-22.wav', 'audio_speech_actors_01-24/Actor_22/03-01-07-02-02-01-22.wav', 'audio_speech_actors_01-24/Actor_22/03-01-07-02-02-02-22.wav', 'audio_speech_actors_01-24/Actor_22/03-01-08-01-01-01-22.wav', 'audio_speech_actors_01-24/Actor_22/03-01-08-01-01-02-22.wav', 'audio_speech_actors_01-24/Actor_22/03-01-08-01-02-01-22.wav', 'audio_speech_actors_01-24/Actor_22/03-01-08-01-02-02-22.wav', 'audio_speech_actors_01-24/Actor_22/03-01-08-02-01-01-22.wav', 'audio_speech_actors_01-24/Actor_22/03-01-08-02-01-02-22.wav', 'audio_speech_actors_01-24/Actor_22/03-01-08-02-02-01-22.wav', 'audio_speech_actors_01-24/Actor_22/03-01-08-02-02-02-22.wav', 'audio_speech_actors_01-24/Actor_23/03-01-01-01-01-01-23.wav', 'audio_speech_actors_01-24/Actor_23/03-01-01-01-01-02-23.wav', 'audio_speech_actors_01-24/Actor_23/03-01-01-01-02-01-23.wav', 'audio_speech_actors_01-24/Actor_23/03-01-01-01-02-02-23.wav', 'audio_speech_actors_01-24/Actor_23/03-01-02-01-01-01-23.wav', 'audio_speech_actors_01-24/Actor_23/03-01-02-01-01-02-23.wav', 'audio_speech_actors_01-24/Actor_23/03-01-02-01-02-01-23.wav', 'audio_speech_actors_01-24/Actor_23/03-01-02-01-02-02-23.wav', 'audio_speech_actors_01-24/Actor_23/03-01-02-02-01-01-23.wav', 'audio_speech_actors_01-24/Actor_23/03-01-02-02-01-02-23.wav', 'audio_speech_actors_01-24/Actor_23/03-01-02-02-02-01-23.wav', 'audio_speech_actors_01-24/Actor_23/03-01-02-02-02-02-23.wav', 'audio_speech_actors_01-24/Actor_23/03-01-03-01-01-01-23.wav', 'audio_speech_actors_01-24/Actor_23/03-01-03-01-01-02-23.wav', 'audio_speech_actors_01-24/Actor_23/03-01-03-01-02-01-23.wav', 'audio_speech_actors_01-24/Actor_23/03-01-03-01-02-02-23.wav', 'audio_speech_actors_01-24/Actor_23/03-01-03-02-01-01-23.wav', 'audio_speech_actors_01-24/Actor_23/03-01-03-02-01-02-23.wav', 'audio_speech_actors_01-24/Actor_23/03-01-03-02-02-01-23.wav', 'audio_speech_actors_01-24/Actor_23/03-01-03-02-02-02-23.wav', 'audio_speech_actors_01-24/Actor_23/03-01-04-01-01-01-23.wav', 'audio_speech_actors_01-24/Actor_23/03-01-04-01-01-02-23.wav', 'audio_speech_actors_01-24/Actor_23/03-01-04-01-02-01-23.wav', 'audio_speech_actors_01-24/Actor_23/03-01-04-01-02-02-23.wav', 'audio_speech_actors_01-24/Actor_23/03-01-04-02-01-01-23.wav', 'audio_speech_actors_01-24/Actor_23/03-01-04-02-01-02-23.wav', 'audio_speech_actors_01-24/Actor_23/03-01-04-02-02-01-23.wav', 'audio_speech_actors_01-24/Actor_23/03-01-04-02-02-02-23.wav', 'audio_speech_actors_01-24/Actor_23/03-01-05-01-01-01-23.wav', 'audio_speech_actors_01-24/Actor_23/03-01-05-01-01-02-23.wav', 'audio_speech_actors_01-24/Actor_23/03-01-05-01-02-01-23.wav', 'audio_speech_actors_01-24/Actor_23/03-01-05-01-02-02-23.wav', 'audio_speech_actors_01-24/Actor_23/03-01-05-02-01-01-23.wav', 'audio_speech_actors_01-24/Actor_23/03-01-05-02-01-02-23.wav', 'audio_speech_actors_01-24/Actor_23/03-01-05-02-02-01-23.wav', 'audio_speech_actors_01-24/Actor_23/03-01-05-02-02-02-23.wav', 'audio_speech_actors_01-24/Actor_23/03-01-06-01-01-01-23.wav', 'audio_speech_actors_01-24/Actor_23/03-01-06-01-01-02-23.wav', 'audio_speech_actors_01-24/Actor_23/03-01-06-01-02-01-23.wav', 'audio_speech_actors_01-24/Actor_23/03-01-06-01-02-02-23.wav', 'audio_speech_actors_01-24/Actor_23/03-01-06-02-01-01-23.wav', 'audio_speech_actors_01-24/Actor_23/03-01-06-02-01-02-23.wav', 'audio_speech_actors_01-24/Actor_23/03-01-06-02-02-01-23.wav', 'audio_speech_actors_01-24/Actor_23/03-01-06-02-02-02-23.wav', 'audio_speech_actors_01-24/Actor_23/03-01-07-01-01-01-23.wav', 'audio_speech_actors_01-24/Actor_23/03-01-07-01-01-02-23.wav', 'audio_speech_actors_01-24/Actor_23/03-01-07-01-02-01-23.wav', 'audio_speech_actors_01-24/Actor_23/03-01-07-01-02-02-23.wav', 'audio_speech_actors_01-24/Actor_23/03-01-07-02-01-01-23.wav', 'audio_speech_actors_01-24/Actor_23/03-01-07-02-01-02-23.wav', 'audio_speech_actors_01-24/Actor_23/03-01-07-02-02-01-23.wav', 'audio_speech_actors_01-24/Actor_23/03-01-07-02-02-02-23.wav', 'audio_speech_actors_01-24/Actor_23/03-01-08-01-01-01-23.wav', 'audio_speech_actors_01-24/Actor_23/03-01-08-01-01-02-23.wav', 'audio_speech_actors_01-24/Actor_23/03-01-08-01-02-01-23.wav', 'audio_speech_actors_01-24/Actor_23/03-01-08-01-02-02-23.wav', 'audio_speech_actors_01-24/Actor_23/03-01-08-02-01-01-23.wav', 'audio_speech_actors_01-24/Actor_23/03-01-08-02-01-02-23.wav', 'audio_speech_actors_01-24/Actor_23/03-01-08-02-02-01-23.wav', 'audio_speech_actors_01-24/Actor_23/03-01-08-02-02-02-23.wav', 'audio_speech_actors_01-24/Actor_24/03-01-01-01-01-01-24.wav', 'audio_speech_actors_01-24/Actor_24/03-01-01-01-01-02-24.wav', 'audio_speech_actors_01-24/Actor_24/03-01-01-01-02-01-24.wav', 'audio_speech_actors_01-24/Actor_24/03-01-01-01-02-02-24.wav', 'audio_speech_actors_01-24/Actor_24/03-01-02-01-01-01-24.wav', 'audio_speech_actors_01-24/Actor_24/03-01-02-01-01-02-24.wav', 'audio_speech_actors_01-24/Actor_24/03-01-02-01-02-01-24.wav', 'audio_speech_actors_01-24/Actor_24/03-01-02-01-02-02-24.wav', 'audio_speech_actors_01-24/Actor_24/03-01-02-02-01-01-24.wav', 'audio_speech_actors_01-24/Actor_24/03-01-02-02-01-02-24.wav', 'audio_speech_actors_01-24/Actor_24/03-01-02-02-02-01-24.wav', 'audio_speech_actors_01-24/Actor_24/03-01-02-02-02-02-24.wav', 'audio_speech_actors_01-24/Actor_24/03-01-03-01-01-01-24.wav', 'audio_speech_actors_01-24/Actor_24/03-01-03-01-01-02-24.wav', 'audio_speech_actors_01-24/Actor_24/03-01-03-01-02-01-24.wav', 'audio_speech_actors_01-24/Actor_24/03-01-03-01-02-02-24.wav', 'audio_speech_actors_01-24/Actor_24/03-01-03-02-01-01-24.wav', 'audio_speech_actors_01-24/Actor_24/03-01-03-02-01-02-24.wav', 'audio_speech_actors_01-24/Actor_24/03-01-03-02-02-01-24.wav', 'audio_speech_actors_01-24/Actor_24/03-01-03-02-02-02-24.wav', 'audio_speech_actors_01-24/Actor_24/03-01-04-01-01-01-24.wav', 'audio_speech_actors_01-24/Actor_24/03-01-04-01-01-02-24.wav', 'audio_speech_actors_01-24/Actor_24/03-01-04-01-02-01-24.wav', 'audio_speech_actors_01-24/Actor_24/03-01-04-01-02-02-24.wav', 'audio_speech_actors_01-24/Actor_24/03-01-04-02-01-01-24.wav', 'audio_speech_actors_01-24/Actor_24/03-01-04-02-01-02-24.wav', 'audio_speech_actors_01-24/Actor_24/03-01-04-02-02-01-24.wav', 'audio_speech_actors_01-24/Actor_24/03-01-04-02-02-02-24.wav', 'audio_speech_actors_01-24/Actor_24/03-01-05-01-01-01-24.wav', 'audio_speech_actors_01-24/Actor_24/03-01-05-01-01-02-24.wav', 'audio_speech_actors_01-24/Actor_24/03-01-05-01-02-01-24.wav', 'audio_speech_actors_01-24/Actor_24/03-01-05-01-02-02-24.wav', 'audio_speech_actors_01-24/Actor_24/03-01-05-02-01-01-24.wav', 'audio_speech_actors_01-24/Actor_24/03-01-05-02-01-02-24.wav', 'audio_speech_actors_01-24/Actor_24/03-01-05-02-02-01-24.wav', 'audio_speech_actors_01-24/Actor_24/03-01-05-02-02-02-24.wav', 'audio_speech_actors_01-24/Actor_24/03-01-06-01-01-01-24.wav', 'audio_speech_actors_01-24/Actor_24/03-01-06-01-01-02-24.wav', 'audio_speech_actors_01-24/Actor_24/03-01-06-01-02-01-24.wav', 'audio_speech_actors_01-24/Actor_24/03-01-06-01-02-02-24.wav', 'audio_speech_actors_01-24/Actor_24/03-01-06-02-01-01-24.wav', 'audio_speech_actors_01-24/Actor_24/03-01-06-02-01-02-24.wav', 'audio_speech_actors_01-24/Actor_24/03-01-06-02-02-01-24.wav', 'audio_speech_actors_01-24/Actor_24/03-01-06-02-02-02-24.wav', 'audio_speech_actors_01-24/Actor_24/03-01-07-01-01-01-24.wav', 'audio_speech_actors_01-24/Actor_24/03-01-07-01-01-02-24.wav', 'audio_speech_actors_01-24/Actor_24/03-01-07-01-02-01-24.wav', 'audio_speech_actors_01-24/Actor_24/03-01-07-01-02-02-24.wav', 'audio_speech_actors_01-24/Actor_24/03-01-07-02-01-01-24.wav', 'audio_speech_actors_01-24/Actor_24/03-01-07-02-01-02-24.wav', 'audio_speech_actors_01-24/Actor_24/03-01-07-02-02-01-24.wav', 'audio_speech_actors_01-24/Actor_24/03-01-07-02-02-02-24.wav', 'audio_speech_actors_01-24/Actor_24/03-01-08-01-01-01-24.wav', 'audio_speech_actors_01-24/Actor_24/03-01-08-01-01-02-24.wav', 'audio_speech_actors_01-24/Actor_24/03-01-08-01-02-01-24.wav', 'audio_speech_actors_01-24/Actor_24/03-01-08-01-02-02-24.wav', 'audio_speech_actors_01-24/Actor_24/03-01-08-02-01-01-24.wav', 'audio_speech_actors_01-24/Actor_24/03-01-08-02-01-02-24.wav', 'audio_speech_actors_01-24/Actor_24/03-01-08-02-02-01-24.wav', 'audio_speech_actors_01-24/Actor_24/03-01-08-02-02-02-24.wav']\n",
      "✅ Extracted files to: extracted_audio\n",
      "🎧 Extracted .wav files: ['extracted_audio/Actor_16/03-01-05-01-02-01-16.wav', 'extracted_audio/Actor_16/03-01-06-01-02-02-16.wav', 'extracted_audio/Actor_16/03-01-06-02-01-02-16.wav', 'extracted_audio/Actor_16/03-01-05-02-01-01-16.wav', 'extracted_audio/Actor_16/03-01-07-01-01-01-16.wav', 'extracted_audio/Actor_16/03-01-04-01-01-02-16.wav', 'extracted_audio/Actor_16/03-01-04-02-02-02-16.wav', 'extracted_audio/Actor_16/03-01-07-02-02-01-16.wav', 'extracted_audio/Actor_16/03-01-08-02-02-01-16.wav', 'extracted_audio/Actor_16/03-01-08-01-01-01-16.wav', 'extracted_audio/Actor_16/03-01-03-02-02-02-16.wav', 'extracted_audio/Actor_16/03-01-03-01-01-02-16.wav', 'extracted_audio/Actor_16/03-01-02-02-01-01-16.wav', 'extracted_audio/Actor_16/03-01-01-01-02-02-16.wav', 'extracted_audio/Actor_16/03-01-02-01-02-01-16.wav', 'extracted_audio/Actor_16/03-01-03-02-01-01-16.wav', 'extracted_audio/Actor_16/03-01-03-01-02-01-16.wav', 'extracted_audio/Actor_16/03-01-02-02-02-02-16.wav', 'extracted_audio/Actor_16/03-01-02-01-01-02-16.wav', 'extracted_audio/Actor_16/03-01-01-01-01-01-16.wav', 'extracted_audio/Actor_16/03-01-06-01-01-01-16.wav', 'extracted_audio/Actor_16/03-01-05-01-01-02-16.wav', 'extracted_audio/Actor_16/03-01-05-02-02-02-16.wav', 'extracted_audio/Actor_16/03-01-06-02-02-01-16.wav', 'extracted_audio/Actor_16/03-01-04-01-02-01-16.wav', 'extracted_audio/Actor_16/03-01-07-01-02-02-16.wav', 'extracted_audio/Actor_16/03-01-07-02-01-02-16.wav', 'extracted_audio/Actor_16/03-01-04-02-01-01-16.wav', 'extracted_audio/Actor_16/03-01-08-02-01-02-16.wav', 'extracted_audio/Actor_16/03-01-08-01-02-02-16.wav', 'extracted_audio/Actor_16/03-01-02-01-02-02-16.wav', 'extracted_audio/Actor_16/03-01-01-01-02-01-16.wav', 'extracted_audio/Actor_16/03-01-02-02-01-02-16.wav', 'extracted_audio/Actor_16/03-01-03-01-01-01-16.wav', 'extracted_audio/Actor_16/03-01-03-02-02-01-16.wav', 'extracted_audio/Actor_16/03-01-07-02-02-02-16.wav', 'extracted_audio/Actor_16/03-01-04-02-02-01-16.wav', 'extracted_audio/Actor_16/03-01-04-01-01-01-16.wav', 'extracted_audio/Actor_16/03-01-07-01-01-02-16.wav', 'extracted_audio/Actor_16/03-01-05-02-01-02-16.wav', 'extracted_audio/Actor_16/03-01-06-02-01-01-16.wav', 'extracted_audio/Actor_16/03-01-06-01-02-01-16.wav', 'extracted_audio/Actor_16/03-01-05-01-02-02-16.wav', 'extracted_audio/Actor_16/03-01-08-01-01-02-16.wav', 'extracted_audio/Actor_16/03-01-08-02-02-02-16.wav', 'extracted_audio/Actor_16/03-01-04-02-01-02-16.wav', 'extracted_audio/Actor_16/03-01-07-02-01-01-16.wav', 'extracted_audio/Actor_16/03-01-07-01-02-01-16.wav', 'extracted_audio/Actor_16/03-01-04-01-02-02-16.wav', 'extracted_audio/Actor_16/03-01-06-02-02-02-16.wav', 'extracted_audio/Actor_16/03-01-05-02-02-01-16.wav', 'extracted_audio/Actor_16/03-01-05-01-01-01-16.wav', 'extracted_audio/Actor_16/03-01-06-01-01-02-16.wav', 'extracted_audio/Actor_16/03-01-08-01-02-01-16.wav', 'extracted_audio/Actor_16/03-01-08-02-01-01-16.wav', 'extracted_audio/Actor_16/03-01-01-01-01-02-16.wav', 'extracted_audio/Actor_16/03-01-02-01-01-01-16.wav', 'extracted_audio/Actor_16/03-01-02-02-02-01-16.wav', 'extracted_audio/Actor_16/03-01-03-01-02-02-16.wav', 'extracted_audio/Actor_16/03-01-03-02-01-02-16.wav', 'extracted_audio/Actor_11/03-01-01-01-02-02-11.wav', 'extracted_audio/Actor_11/03-01-02-01-02-01-11.wav', 'extracted_audio/Actor_11/03-01-02-02-01-01-11.wav', 'extracted_audio/Actor_11/03-01-03-01-01-02-11.wav', 'extracted_audio/Actor_11/03-01-03-02-02-02-11.wav', 'extracted_audio/Actor_11/03-01-04-02-02-02-11.wav', 'extracted_audio/Actor_11/03-01-07-02-02-01-11.wav', 'extracted_audio/Actor_11/03-01-07-01-01-01-11.wav', 'extracted_audio/Actor_11/03-01-04-01-01-02-11.wav', 'extracted_audio/Actor_11/03-01-06-02-01-02-11.wav', 'extracted_audio/Actor_11/03-01-05-02-01-01-11.wav', 'extracted_audio/Actor_11/03-01-05-01-02-01-11.wav', 'extracted_audio/Actor_11/03-01-06-01-02-02-11.wav', 'extracted_audio/Actor_11/03-01-08-01-01-01-11.wav', 'extracted_audio/Actor_11/03-01-08-02-02-01-11.wav', 'extracted_audio/Actor_11/03-01-07-02-01-02-11.wav', 'extracted_audio/Actor_11/03-01-04-02-01-01-11.wav', 'extracted_audio/Actor_11/03-01-04-01-02-01-11.wav', 'extracted_audio/Actor_11/03-01-07-01-02-02-11.wav', 'extracted_audio/Actor_11/03-01-05-02-02-02-11.wav', 'extracted_audio/Actor_11/03-01-06-02-02-01-11.wav', 'extracted_audio/Actor_11/03-01-06-01-01-01-11.wav', 'extracted_audio/Actor_11/03-01-05-01-01-02-11.wav', 'extracted_audio/Actor_11/03-01-08-01-02-02-11.wav', 'extracted_audio/Actor_11/03-01-08-02-01-02-11.wav', 'extracted_audio/Actor_11/03-01-02-01-01-02-11.wav', 'extracted_audio/Actor_11/03-01-01-01-01-01-11.wav', 'extracted_audio/Actor_11/03-01-02-02-02-02-11.wav', 'extracted_audio/Actor_11/03-01-03-01-02-01-11.wav', 'extracted_audio/Actor_11/03-01-03-02-01-01-11.wav', 'extracted_audio/Actor_11/03-01-06-01-02-01-11.wav', 'extracted_audio/Actor_11/03-01-05-01-02-02-11.wav', 'extracted_audio/Actor_11/03-01-05-02-01-02-11.wav', 'extracted_audio/Actor_11/03-01-06-02-01-01-11.wav', 'extracted_audio/Actor_11/03-01-04-01-01-01-11.wav', 'extracted_audio/Actor_11/03-01-07-01-01-02-11.wav', 'extracted_audio/Actor_11/03-01-07-02-02-02-11.wav', 'extracted_audio/Actor_11/03-01-04-02-02-01-11.wav', 'extracted_audio/Actor_11/03-01-08-02-02-02-11.wav', 'extracted_audio/Actor_11/03-01-08-01-01-02-11.wav', 'extracted_audio/Actor_11/03-01-03-02-02-01-11.wav', 'extracted_audio/Actor_11/03-01-03-01-01-01-11.wav', 'extracted_audio/Actor_11/03-01-02-02-01-02-11.wav', 'extracted_audio/Actor_11/03-01-02-01-02-02-11.wav', 'extracted_audio/Actor_11/03-01-01-01-02-01-11.wav', 'extracted_audio/Actor_11/03-01-03-02-01-02-11.wav', 'extracted_audio/Actor_11/03-01-03-01-02-02-11.wav', 'extracted_audio/Actor_11/03-01-02-02-02-01-11.wav', 'extracted_audio/Actor_11/03-01-01-01-01-02-11.wav', 'extracted_audio/Actor_11/03-01-02-01-01-01-11.wav', 'extracted_audio/Actor_11/03-01-05-01-01-01-11.wav', 'extracted_audio/Actor_11/03-01-06-01-01-02-11.wav', 'extracted_audio/Actor_11/03-01-06-02-02-02-11.wav', 'extracted_audio/Actor_11/03-01-05-02-02-01-11.wav', 'extracted_audio/Actor_11/03-01-07-01-02-01-11.wav', 'extracted_audio/Actor_11/03-01-04-01-02-02-11.wav', 'extracted_audio/Actor_11/03-01-04-02-01-02-11.wav', 'extracted_audio/Actor_11/03-01-07-02-01-01-11.wav', 'extracted_audio/Actor_11/03-01-08-02-01-01-11.wav', 'extracted_audio/Actor_11/03-01-08-01-02-01-11.wav', 'extracted_audio/Actor_18/03-01-03-02-01-02-18.wav', 'extracted_audio/Actor_18/03-01-03-01-02-02-18.wav', 'extracted_audio/Actor_18/03-01-02-02-02-01-18.wav', 'extracted_audio/Actor_18/03-01-02-01-01-01-18.wav', 'extracted_audio/Actor_18/03-01-01-01-01-02-18.wav', 'extracted_audio/Actor_18/03-01-06-01-01-02-18.wav', 'extracted_audio/Actor_18/03-01-05-01-01-01-18.wav', 'extracted_audio/Actor_18/03-01-05-02-02-01-18.wav', 'extracted_audio/Actor_18/03-01-06-02-02-02-18.wav', 'extracted_audio/Actor_18/03-01-04-01-02-02-18.wav', 'extracted_audio/Actor_18/03-01-07-01-02-01-18.wav', 'extracted_audio/Actor_18/03-01-07-02-01-01-18.wav', 'extracted_audio/Actor_18/03-01-04-02-01-02-18.wav', 'extracted_audio/Actor_18/03-01-08-02-01-01-18.wav', 'extracted_audio/Actor_18/03-01-08-01-02-01-18.wav', 'extracted_audio/Actor_18/03-01-05-01-02-02-18.wav', 'extracted_audio/Actor_18/03-01-06-01-02-01-18.wav', 'extracted_audio/Actor_18/03-01-06-02-01-01-18.wav', 'extracted_audio/Actor_18/03-01-05-02-01-02-18.wav', 'extracted_audio/Actor_18/03-01-07-01-01-02-18.wav', 'extracted_audio/Actor_18/03-01-04-01-01-01-18.wav', 'extracted_audio/Actor_18/03-01-04-02-02-01-18.wav', 'extracted_audio/Actor_18/03-01-07-02-02-02-18.wav', 'extracted_audio/Actor_18/03-01-08-02-02-02-18.wav', 'extracted_audio/Actor_18/03-01-08-01-01-02-18.wav', 'extracted_audio/Actor_18/03-01-03-02-02-01-18.wav', 'extracted_audio/Actor_18/03-01-03-01-01-01-18.wav', 'extracted_audio/Actor_18/03-01-02-02-01-02-18.wav', 'extracted_audio/Actor_18/03-01-01-01-02-01-18.wav', 'extracted_audio/Actor_18/03-01-02-01-02-02-18.wav', 'extracted_audio/Actor_18/03-01-04-02-01-01-18.wav', 'extracted_audio/Actor_18/03-01-07-02-01-02-18.wav', 'extracted_audio/Actor_18/03-01-07-01-02-02-18.wav', 'extracted_audio/Actor_18/03-01-04-01-02-01-18.wav', 'extracted_audio/Actor_18/03-01-06-02-02-01-18.wav', 'extracted_audio/Actor_18/03-01-05-02-02-02-18.wav', 'extracted_audio/Actor_18/03-01-05-01-01-02-18.wav', 'extracted_audio/Actor_18/03-01-06-01-01-01-18.wav', 'extracted_audio/Actor_18/03-01-08-01-02-02-18.wav', 'extracted_audio/Actor_18/03-01-08-02-01-02-18.wav', 'extracted_audio/Actor_18/03-01-01-01-01-01-18.wav', 'extracted_audio/Actor_18/03-01-02-01-01-02-18.wav', 'extracted_audio/Actor_18/03-01-02-02-02-02-18.wav', 'extracted_audio/Actor_18/03-01-03-01-02-01-18.wav', 'extracted_audio/Actor_18/03-01-03-02-01-01-18.wav', 'extracted_audio/Actor_18/03-01-02-01-02-01-18.wav', 'extracted_audio/Actor_18/03-01-01-01-02-02-18.wav', 'extracted_audio/Actor_18/03-01-02-02-01-01-18.wav', 'extracted_audio/Actor_18/03-01-03-01-01-02-18.wav', 'extracted_audio/Actor_18/03-01-03-02-02-02-18.wav', 'extracted_audio/Actor_18/03-01-07-02-02-01-18.wav', 'extracted_audio/Actor_18/03-01-04-02-02-02-18.wav', 'extracted_audio/Actor_18/03-01-04-01-01-02-18.wav', 'extracted_audio/Actor_18/03-01-07-01-01-01-18.wav', 'extracted_audio/Actor_18/03-01-05-02-01-01-18.wav', 'extracted_audio/Actor_18/03-01-06-02-01-02-18.wav', 'extracted_audio/Actor_18/03-01-06-01-02-02-18.wav', 'extracted_audio/Actor_18/03-01-05-01-02-01-18.wav', 'extracted_audio/Actor_18/03-01-08-01-01-01-18.wav', 'extracted_audio/Actor_18/03-01-08-02-02-01-18.wav', 'extracted_audio/Actor_20/03-01-08-01-02-01-20.wav', 'extracted_audio/Actor_20/03-01-08-02-01-01-20.wav', 'extracted_audio/Actor_20/03-01-04-02-01-02-20.wav', 'extracted_audio/Actor_20/03-01-07-02-01-01-20.wav', 'extracted_audio/Actor_20/03-01-07-01-02-01-20.wav', 'extracted_audio/Actor_20/03-01-04-01-02-02-20.wav', 'extracted_audio/Actor_20/03-01-06-02-02-02-20.wav', 'extracted_audio/Actor_20/03-01-05-02-02-01-20.wav', 'extracted_audio/Actor_20/03-01-05-01-01-01-20.wav', 'extracted_audio/Actor_20/03-01-06-01-01-02-20.wav', 'extracted_audio/Actor_20/03-01-01-01-01-02-20.wav', 'extracted_audio/Actor_20/03-01-02-01-01-01-20.wav', 'extracted_audio/Actor_20/03-01-02-02-02-01-20.wav', 'extracted_audio/Actor_20/03-01-03-01-02-02-20.wav', 'extracted_audio/Actor_20/03-01-03-02-01-02-20.wav', 'extracted_audio/Actor_20/03-01-02-01-02-02-20.wav', 'extracted_audio/Actor_20/03-01-01-01-02-01-20.wav', 'extracted_audio/Actor_20/03-01-02-02-01-02-20.wav', 'extracted_audio/Actor_20/03-01-03-01-01-01-20.wav', 'extracted_audio/Actor_20/03-01-03-02-02-01-20.wav', 'extracted_audio/Actor_20/03-01-08-01-01-02-20.wav', 'extracted_audio/Actor_20/03-01-08-02-02-02-20.wav', 'extracted_audio/Actor_20/03-01-07-02-02-02-20.wav', 'extracted_audio/Actor_20/03-01-04-02-02-01-20.wav', 'extracted_audio/Actor_20/03-01-04-01-01-01-20.wav', 'extracted_audio/Actor_20/03-01-07-01-01-02-20.wav', 'extracted_audio/Actor_20/03-01-05-02-01-02-20.wav', 'extracted_audio/Actor_20/03-01-06-02-01-01-20.wav', 'extracted_audio/Actor_20/03-01-06-01-02-01-20.wav', 'extracted_audio/Actor_20/03-01-05-01-02-02-20.wav', 'extracted_audio/Actor_20/03-01-03-02-01-01-20.wav', 'extracted_audio/Actor_20/03-01-03-01-02-01-20.wav', 'extracted_audio/Actor_20/03-01-02-02-02-02-20.wav', 'extracted_audio/Actor_20/03-01-02-01-01-02-20.wav', 'extracted_audio/Actor_20/03-01-01-01-01-01-20.wav', 'extracted_audio/Actor_20/03-01-08-02-01-02-20.wav', 'extracted_audio/Actor_20/03-01-08-01-02-02-20.wav', 'extracted_audio/Actor_20/03-01-06-01-01-01-20.wav', 'extracted_audio/Actor_20/03-01-05-01-01-02-20.wav', 'extracted_audio/Actor_20/03-01-05-02-02-02-20.wav', 'extracted_audio/Actor_20/03-01-06-02-02-01-20.wav', 'extracted_audio/Actor_20/03-01-04-01-02-01-20.wav', 'extracted_audio/Actor_20/03-01-07-01-02-02-20.wav', 'extracted_audio/Actor_20/03-01-07-02-01-02-20.wav', 'extracted_audio/Actor_20/03-01-04-02-01-01-20.wav', 'extracted_audio/Actor_20/03-01-08-02-02-01-20.wav', 'extracted_audio/Actor_20/03-01-08-01-01-01-20.wav', 'extracted_audio/Actor_20/03-01-05-01-02-01-20.wav', 'extracted_audio/Actor_20/03-01-06-01-02-02-20.wav', 'extracted_audio/Actor_20/03-01-06-02-01-02-20.wav', 'extracted_audio/Actor_20/03-01-05-02-01-01-20.wav', 'extracted_audio/Actor_20/03-01-07-01-01-01-20.wav', 'extracted_audio/Actor_20/03-01-04-01-01-02-20.wav', 'extracted_audio/Actor_20/03-01-04-02-02-02-20.wav', 'extracted_audio/Actor_20/03-01-07-02-02-01-20.wav', 'extracted_audio/Actor_20/03-01-03-02-02-02-20.wav', 'extracted_audio/Actor_20/03-01-03-01-01-02-20.wav', 'extracted_audio/Actor_20/03-01-02-02-01-01-20.wav', 'extracted_audio/Actor_20/03-01-01-01-02-02-20.wav', 'extracted_audio/Actor_20/03-01-02-01-02-01-20.wav', 'extracted_audio/Actor_21/03-01-08-02-01-01-21.wav', 'extracted_audio/Actor_21/03-01-08-01-02-01-21.wav', 'extracted_audio/Actor_21/03-01-06-01-01-02-21.wav', 'extracted_audio/Actor_21/03-01-05-01-01-01-21.wav', 'extracted_audio/Actor_21/03-01-05-02-02-01-21.wav', 'extracted_audio/Actor_21/03-01-06-02-02-02-21.wav', 'extracted_audio/Actor_21/03-01-04-01-02-02-21.wav', 'extracted_audio/Actor_21/03-01-07-01-02-01-21.wav', 'extracted_audio/Actor_21/03-01-07-02-01-01-21.wav', 'extracted_audio/Actor_21/03-01-04-02-01-02-21.wav', 'extracted_audio/Actor_21/03-01-03-02-01-02-21.wav', 'extracted_audio/Actor_21/03-01-03-01-02-02-21.wav', 'extracted_audio/Actor_21/03-01-02-02-02-01-21.wav', 'extracted_audio/Actor_21/03-01-02-01-01-01-21.wav', 'extracted_audio/Actor_21/03-01-01-01-01-02-21.wav', 'extracted_audio/Actor_21/03-01-03-02-02-01-21.wav', 'extracted_audio/Actor_21/03-01-03-01-01-01-21.wav', 'extracted_audio/Actor_21/03-01-02-02-01-02-21.wav', 'extracted_audio/Actor_21/03-01-01-01-02-01-21.wav', 'extracted_audio/Actor_21/03-01-02-01-02-02-21.wav', 'extracted_audio/Actor_21/03-01-08-02-02-02-21.wav', 'extracted_audio/Actor_21/03-01-08-01-01-02-21.wav', 'extracted_audio/Actor_21/03-01-05-01-02-02-21.wav', 'extracted_audio/Actor_21/03-01-06-01-02-01-21.wav', 'extracted_audio/Actor_21/03-01-06-02-01-01-21.wav', 'extracted_audio/Actor_21/03-01-05-02-01-02-21.wav', 'extracted_audio/Actor_21/03-01-07-01-01-02-21.wav', 'extracted_audio/Actor_21/03-01-04-01-01-01-21.wav', 'extracted_audio/Actor_21/03-01-04-02-02-01-21.wav', 'extracted_audio/Actor_21/03-01-07-02-02-02-21.wav', 'extracted_audio/Actor_21/03-01-01-01-01-01-21.wav', 'extracted_audio/Actor_21/03-01-02-01-01-02-21.wav', 'extracted_audio/Actor_21/03-01-02-02-02-02-21.wav', 'extracted_audio/Actor_21/03-01-03-01-02-01-21.wav', 'extracted_audio/Actor_21/03-01-03-02-01-01-21.wav', 'extracted_audio/Actor_21/03-01-08-01-02-02-21.wav', 'extracted_audio/Actor_21/03-01-08-02-01-02-21.wav', 'extracted_audio/Actor_21/03-01-04-02-01-01-21.wav', 'extracted_audio/Actor_21/03-01-07-02-01-02-21.wav', 'extracted_audio/Actor_21/03-01-07-01-02-02-21.wav', 'extracted_audio/Actor_21/03-01-04-01-02-01-21.wav', 'extracted_audio/Actor_21/03-01-06-02-02-01-21.wav', 'extracted_audio/Actor_21/03-01-05-02-02-02-21.wav', 'extracted_audio/Actor_21/03-01-05-01-01-02-21.wav', 'extracted_audio/Actor_21/03-01-06-01-01-01-21.wav', 'extracted_audio/Actor_21/03-01-08-01-01-01-21.wav', 'extracted_audio/Actor_21/03-01-08-02-02-01-21.wav', 'extracted_audio/Actor_21/03-01-07-02-02-01-21.wav', 'extracted_audio/Actor_21/03-01-04-02-02-02-21.wav', 'extracted_audio/Actor_21/03-01-04-01-01-02-21.wav', 'extracted_audio/Actor_21/03-01-07-01-01-01-21.wav', 'extracted_audio/Actor_21/03-01-05-02-01-01-21.wav', 'extracted_audio/Actor_21/03-01-06-02-01-02-21.wav', 'extracted_audio/Actor_21/03-01-06-01-02-02-21.wav', 'extracted_audio/Actor_21/03-01-05-01-02-01-21.wav', 'extracted_audio/Actor_21/03-01-02-01-02-01-21.wav', 'extracted_audio/Actor_21/03-01-01-01-02-02-21.wav', 'extracted_audio/Actor_21/03-01-02-02-01-01-21.wav', 'extracted_audio/Actor_21/03-01-03-01-01-02-21.wav', 'extracted_audio/Actor_21/03-01-03-02-02-02-21.wav', 'extracted_audio/Actor_19/03-01-01-01-01-02-19.wav', 'extracted_audio/Actor_19/03-01-02-01-01-01-19.wav', 'extracted_audio/Actor_19/03-01-02-02-02-01-19.wav', 'extracted_audio/Actor_19/03-01-03-01-02-02-19.wav', 'extracted_audio/Actor_19/03-01-03-02-01-02-19.wav', 'extracted_audio/Actor_19/03-01-04-02-01-02-19.wav', 'extracted_audio/Actor_19/03-01-07-02-01-01-19.wav', 'extracted_audio/Actor_19/03-01-07-01-02-01-19.wav', 'extracted_audio/Actor_19/03-01-04-01-02-02-19.wav', 'extracted_audio/Actor_19/03-01-06-02-02-02-19.wav', 'extracted_audio/Actor_19/03-01-05-02-02-01-19.wav', 'extracted_audio/Actor_19/03-01-05-01-01-01-19.wav', 'extracted_audio/Actor_19/03-01-06-01-01-02-19.wav', 'extracted_audio/Actor_19/03-01-08-01-02-01-19.wav', 'extracted_audio/Actor_19/03-01-08-02-01-01-19.wav', 'extracted_audio/Actor_19/03-01-07-02-02-02-19.wav', 'extracted_audio/Actor_19/03-01-04-02-02-01-19.wav', 'extracted_audio/Actor_19/03-01-04-01-01-01-19.wav', 'extracted_audio/Actor_19/03-01-07-01-01-02-19.wav', 'extracted_audio/Actor_19/03-01-05-02-01-02-19.wav', 'extracted_audio/Actor_19/03-01-06-02-01-01-19.wav', 'extracted_audio/Actor_19/03-01-06-01-02-01-19.wav', 'extracted_audio/Actor_19/03-01-05-01-02-02-19.wav', 'extracted_audio/Actor_19/03-01-08-01-01-02-19.wav', 'extracted_audio/Actor_19/03-01-08-02-02-02-19.wav', 'extracted_audio/Actor_19/03-01-02-01-02-02-19.wav', 'extracted_audio/Actor_19/03-01-01-01-02-01-19.wav', 'extracted_audio/Actor_19/03-01-02-02-01-02-19.wav', 'extracted_audio/Actor_19/03-01-03-01-01-01-19.wav', 'extracted_audio/Actor_19/03-01-03-02-02-01-19.wav', 'extracted_audio/Actor_19/03-01-06-01-01-01-19.wav', 'extracted_audio/Actor_19/03-01-05-01-01-02-19.wav', 'extracted_audio/Actor_19/03-01-05-02-02-02-19.wav', 'extracted_audio/Actor_19/03-01-06-02-02-01-19.wav', 'extracted_audio/Actor_19/03-01-04-01-02-01-19.wav', 'extracted_audio/Actor_19/03-01-07-01-02-02-19.wav', 'extracted_audio/Actor_19/03-01-07-02-01-02-19.wav', 'extracted_audio/Actor_19/03-01-04-02-01-01-19.wav', 'extracted_audio/Actor_19/03-01-08-02-01-02-19.wav', 'extracted_audio/Actor_19/03-01-08-01-02-02-19.wav', 'extracted_audio/Actor_19/03-01-03-02-01-01-19.wav', 'extracted_audio/Actor_19/03-01-03-01-02-01-19.wav', 'extracted_audio/Actor_19/03-01-02-02-02-02-19.wav', 'extracted_audio/Actor_19/03-01-02-01-01-02-19.wav', 'extracted_audio/Actor_19/03-01-01-01-01-01-19.wav', 'extracted_audio/Actor_19/03-01-03-02-02-02-19.wav', 'extracted_audio/Actor_19/03-01-03-01-01-02-19.wav', 'extracted_audio/Actor_19/03-01-02-02-01-01-19.wav', 'extracted_audio/Actor_19/03-01-01-01-02-02-19.wav', 'extracted_audio/Actor_19/03-01-02-01-02-01-19.wav', 'extracted_audio/Actor_19/03-01-05-01-02-01-19.wav', 'extracted_audio/Actor_19/03-01-06-01-02-02-19.wav', 'extracted_audio/Actor_19/03-01-06-02-01-02-19.wav', 'extracted_audio/Actor_19/03-01-05-02-01-01-19.wav', 'extracted_audio/Actor_19/03-01-07-01-01-01-19.wav', 'extracted_audio/Actor_19/03-01-04-01-01-02-19.wav', 'extracted_audio/Actor_19/03-01-04-02-02-02-19.wav', 'extracted_audio/Actor_19/03-01-07-02-02-01-19.wav', 'extracted_audio/Actor_19/03-01-08-02-02-01-19.wav', 'extracted_audio/Actor_19/03-01-08-01-01-01-19.wav', 'extracted_audio/Actor_10/03-01-03-02-02-02-10.wav', 'extracted_audio/Actor_10/03-01-03-01-01-02-10.wav', 'extracted_audio/Actor_10/03-01-02-02-01-01-10.wav', 'extracted_audio/Actor_10/03-01-02-01-02-01-10.wav', 'extracted_audio/Actor_10/03-01-01-01-02-02-10.wav', 'extracted_audio/Actor_10/03-01-06-01-02-02-10.wav', 'extracted_audio/Actor_10/03-01-05-01-02-01-10.wav', 'extracted_audio/Actor_10/03-01-05-02-01-01-10.wav', 'extracted_audio/Actor_10/03-01-06-02-01-02-10.wav', 'extracted_audio/Actor_10/03-01-04-01-01-02-10.wav', 'extracted_audio/Actor_10/03-01-07-01-01-01-10.wav', 'extracted_audio/Actor_10/03-01-07-02-02-01-10.wav', 'extracted_audio/Actor_10/03-01-04-02-02-02-10.wav', 'extracted_audio/Actor_10/03-01-08-02-02-01-10.wav', 'extracted_audio/Actor_10/03-01-08-01-01-01-10.wav', 'extracted_audio/Actor_10/03-01-05-01-01-02-10.wav', 'extracted_audio/Actor_10/03-01-06-01-01-01-10.wav', 'extracted_audio/Actor_10/03-01-06-02-02-01-10.wav', 'extracted_audio/Actor_10/03-01-05-02-02-02-10.wav', 'extracted_audio/Actor_10/03-01-07-01-02-02-10.wav', 'extracted_audio/Actor_10/03-01-04-01-02-01-10.wav', 'extracted_audio/Actor_10/03-01-04-02-01-01-10.wav', 'extracted_audio/Actor_10/03-01-07-02-01-02-10.wav', 'extracted_audio/Actor_10/03-01-08-02-01-02-10.wav', 'extracted_audio/Actor_10/03-01-08-01-02-02-10.wav', 'extracted_audio/Actor_10/03-01-03-02-01-01-10.wav', 'extracted_audio/Actor_10/03-01-03-01-02-01-10.wav', 'extracted_audio/Actor_10/03-01-02-02-02-02-10.wav', 'extracted_audio/Actor_10/03-01-01-01-01-01-10.wav', 'extracted_audio/Actor_10/03-01-02-01-01-02-10.wav', 'extracted_audio/Actor_10/03-01-04-02-02-01-10.wav', 'extracted_audio/Actor_10/03-01-07-02-02-02-10.wav', 'extracted_audio/Actor_10/03-01-07-01-01-02-10.wav', 'extracted_audio/Actor_10/03-01-04-01-01-01-10.wav', 'extracted_audio/Actor_10/03-01-06-02-01-01-10.wav', 'extracted_audio/Actor_10/03-01-05-02-01-02-10.wav', 'extracted_audio/Actor_10/03-01-05-01-02-02-10.wav', 'extracted_audio/Actor_10/03-01-06-01-02-01-10.wav', 'extracted_audio/Actor_10/03-01-08-01-01-02-10.wav', 'extracted_audio/Actor_10/03-01-08-02-02-02-10.wav', 'extracted_audio/Actor_10/03-01-01-01-02-01-10.wav', 'extracted_audio/Actor_10/03-01-02-01-02-02-10.wav', 'extracted_audio/Actor_10/03-01-02-02-01-02-10.wav', 'extracted_audio/Actor_10/03-01-03-01-01-01-10.wav', 'extracted_audio/Actor_10/03-01-03-02-02-01-10.wav', 'extracted_audio/Actor_10/03-01-02-01-01-01-10.wav', 'extracted_audio/Actor_10/03-01-01-01-01-02-10.wav', 'extracted_audio/Actor_10/03-01-02-02-02-01-10.wav', 'extracted_audio/Actor_10/03-01-03-01-02-02-10.wav', 'extracted_audio/Actor_10/03-01-03-02-01-02-10.wav', 'extracted_audio/Actor_10/03-01-07-02-01-01-10.wav', 'extracted_audio/Actor_10/03-01-04-02-01-02-10.wav', 'extracted_audio/Actor_10/03-01-04-01-02-02-10.wav', 'extracted_audio/Actor_10/03-01-07-01-02-01-10.wav', 'extracted_audio/Actor_10/03-01-05-02-02-01-10.wav', 'extracted_audio/Actor_10/03-01-06-02-02-02-10.wav', 'extracted_audio/Actor_10/03-01-06-01-01-02-10.wav', 'extracted_audio/Actor_10/03-01-05-01-01-01-10.wav', 'extracted_audio/Actor_10/03-01-08-01-02-01-10.wav', 'extracted_audio/Actor_10/03-01-08-02-01-01-10.wav', 'extracted_audio/Actor_17/03-01-07-02-02-01-17.wav', 'extracted_audio/Actor_17/03-01-04-02-02-02-17.wav', 'extracted_audio/Actor_17/03-01-04-01-01-02-17.wav', 'extracted_audio/Actor_17/03-01-07-01-01-01-17.wav', 'extracted_audio/Actor_17/03-01-05-02-01-01-17.wav', 'extracted_audio/Actor_17/03-01-06-02-01-02-17.wav', 'extracted_audio/Actor_17/03-01-06-01-02-02-17.wav', 'extracted_audio/Actor_17/03-01-05-01-02-01-17.wav', 'extracted_audio/Actor_17/03-01-08-01-01-01-17.wav', 'extracted_audio/Actor_17/03-01-08-02-02-01-17.wav', 'extracted_audio/Actor_17/03-01-02-01-02-01-17.wav', 'extracted_audio/Actor_17/03-01-01-01-02-02-17.wav', 'extracted_audio/Actor_17/03-01-02-02-01-01-17.wav', 'extracted_audio/Actor_17/03-01-03-01-01-02-17.wav', 'extracted_audio/Actor_17/03-01-03-02-02-02-17.wav', 'extracted_audio/Actor_17/03-01-01-01-01-01-17.wav', 'extracted_audio/Actor_17/03-01-02-01-01-02-17.wav', 'extracted_audio/Actor_17/03-01-02-02-02-02-17.wav', 'extracted_audio/Actor_17/03-01-03-01-02-01-17.wav', 'extracted_audio/Actor_17/03-01-03-02-01-01-17.wav', 'extracted_audio/Actor_17/03-01-04-02-01-01-17.wav', 'extracted_audio/Actor_17/03-01-07-02-01-02-17.wav', 'extracted_audio/Actor_17/03-01-07-01-02-02-17.wav', 'extracted_audio/Actor_17/03-01-04-01-02-01-17.wav', 'extracted_audio/Actor_17/03-01-06-02-02-01-17.wav', 'extracted_audio/Actor_17/03-01-05-02-02-02-17.wav', 'extracted_audio/Actor_17/03-01-05-01-01-02-17.wav', 'extracted_audio/Actor_17/03-01-06-01-01-01-17.wav', 'extracted_audio/Actor_17/03-01-08-01-02-02-17.wav', 'extracted_audio/Actor_17/03-01-08-02-01-02-17.wav', 'extracted_audio/Actor_17/03-01-03-02-02-01-17.wav', 'extracted_audio/Actor_17/03-01-03-01-01-01-17.wav', 'extracted_audio/Actor_17/03-01-02-02-01-02-17.wav', 'extracted_audio/Actor_17/03-01-01-01-02-01-17.wav', 'extracted_audio/Actor_17/03-01-02-01-02-02-17.wav', 'extracted_audio/Actor_17/03-01-05-01-02-02-17.wav', 'extracted_audio/Actor_17/03-01-06-01-02-01-17.wav', 'extracted_audio/Actor_17/03-01-06-02-01-01-17.wav', 'extracted_audio/Actor_17/03-01-05-02-01-02-17.wav', 'extracted_audio/Actor_17/03-01-07-01-01-02-17.wav', 'extracted_audio/Actor_17/03-01-04-01-01-01-17.wav', 'extracted_audio/Actor_17/03-01-04-02-02-01-17.wav', 'extracted_audio/Actor_17/03-01-07-02-02-02-17.wav', 'extracted_audio/Actor_17/03-01-08-02-02-02-17.wav', 'extracted_audio/Actor_17/03-01-08-01-01-02-17.wav', 'extracted_audio/Actor_17/03-01-06-01-01-02-17.wav', 'extracted_audio/Actor_17/03-01-05-01-01-01-17.wav', 'extracted_audio/Actor_17/03-01-05-02-02-01-17.wav', 'extracted_audio/Actor_17/03-01-06-02-02-02-17.wav', 'extracted_audio/Actor_17/03-01-04-01-02-02-17.wav', 'extracted_audio/Actor_17/03-01-07-01-02-01-17.wav', 'extracted_audio/Actor_17/03-01-07-02-01-01-17.wav', 'extracted_audio/Actor_17/03-01-04-02-01-02-17.wav', 'extracted_audio/Actor_17/03-01-08-02-01-01-17.wav', 'extracted_audio/Actor_17/03-01-08-01-02-01-17.wav', 'extracted_audio/Actor_17/03-01-03-02-01-02-17.wav', 'extracted_audio/Actor_17/03-01-03-01-02-02-17.wav', 'extracted_audio/Actor_17/03-01-02-02-02-01-17.wav', 'extracted_audio/Actor_17/03-01-02-01-01-01-17.wav', 'extracted_audio/Actor_17/03-01-01-01-01-02-17.wav', 'extracted_audio/Actor_04/03-01-03-02-02-02-04.wav', 'extracted_audio/Actor_04/03-01-03-01-01-02-04.wav', 'extracted_audio/Actor_04/03-01-02-02-01-01-04.wav', 'extracted_audio/Actor_04/03-01-01-01-02-02-04.wav', 'extracted_audio/Actor_04/03-01-02-01-02-01-04.wav', 'extracted_audio/Actor_04/03-01-05-01-02-01-04.wav', 'extracted_audio/Actor_04/03-01-06-01-02-02-04.wav', 'extracted_audio/Actor_04/03-01-06-02-01-02-04.wav', 'extracted_audio/Actor_04/03-01-05-02-01-01-04.wav', 'extracted_audio/Actor_04/03-01-07-01-01-01-04.wav', 'extracted_audio/Actor_04/03-01-04-01-01-02-04.wav', 'extracted_audio/Actor_04/03-01-04-02-02-02-04.wav', 'extracted_audio/Actor_04/03-01-07-02-02-01-04.wav', 'extracted_audio/Actor_04/03-01-08-02-02-01-04.wav', 'extracted_audio/Actor_04/03-01-08-01-01-01-04.wav', 'extracted_audio/Actor_04/03-01-06-01-01-01-04.wav', 'extracted_audio/Actor_04/03-01-05-01-01-02-04.wav', 'extracted_audio/Actor_04/03-01-05-02-02-02-04.wav', 'extracted_audio/Actor_04/03-01-06-02-02-01-04.wav', 'extracted_audio/Actor_04/03-01-04-01-02-01-04.wav', 'extracted_audio/Actor_04/03-01-07-01-02-02-04.wav', 'extracted_audio/Actor_04/03-01-07-02-01-02-04.wav', 'extracted_audio/Actor_04/03-01-04-02-01-01-04.wav', 'extracted_audio/Actor_04/03-01-08-02-01-02-04.wav', 'extracted_audio/Actor_04/03-01-08-01-02-02-04.wav', 'extracted_audio/Actor_04/03-01-03-02-01-01-04.wav', 'extracted_audio/Actor_04/03-01-03-01-02-01-04.wav', 'extracted_audio/Actor_04/03-01-02-02-02-02-04.wav', 'extracted_audio/Actor_04/03-01-02-01-01-02-04.wav', 'extracted_audio/Actor_04/03-01-01-01-01-01-04.wav', 'extracted_audio/Actor_04/03-01-07-02-02-02-04.wav', 'extracted_audio/Actor_04/03-01-04-02-02-01-04.wav', 'extracted_audio/Actor_04/03-01-04-01-01-01-04.wav', 'extracted_audio/Actor_04/03-01-07-01-01-02-04.wav', 'extracted_audio/Actor_04/03-01-05-02-01-02-04.wav', 'extracted_audio/Actor_04/03-01-06-02-01-01-04.wav', 'extracted_audio/Actor_04/03-01-06-01-02-01-04.wav', 'extracted_audio/Actor_04/03-01-05-01-02-02-04.wav', 'extracted_audio/Actor_04/03-01-08-01-01-02-04.wav', 'extracted_audio/Actor_04/03-01-08-02-02-02-04.wav', 'extracted_audio/Actor_04/03-01-02-01-02-02-04.wav', 'extracted_audio/Actor_04/03-01-01-01-02-01-04.wav', 'extracted_audio/Actor_04/03-01-02-02-01-02-04.wav', 'extracted_audio/Actor_04/03-01-03-01-01-01-04.wav', 'extracted_audio/Actor_04/03-01-03-02-02-01-04.wav', 'extracted_audio/Actor_04/03-01-01-01-01-02-04.wav', 'extracted_audio/Actor_04/03-01-02-01-01-01-04.wav', 'extracted_audio/Actor_04/03-01-02-02-02-01-04.wav', 'extracted_audio/Actor_04/03-01-03-01-02-02-04.wav', 'extracted_audio/Actor_04/03-01-03-02-01-02-04.wav', 'extracted_audio/Actor_04/03-01-04-02-01-02-04.wav', 'extracted_audio/Actor_04/03-01-07-02-01-01-04.wav', 'extracted_audio/Actor_04/03-01-07-01-02-01-04.wav', 'extracted_audio/Actor_04/03-01-04-01-02-02-04.wav', 'extracted_audio/Actor_04/03-01-06-02-02-02-04.wav', 'extracted_audio/Actor_04/03-01-05-02-02-01-04.wav', 'extracted_audio/Actor_04/03-01-05-01-01-01-04.wav', 'extracted_audio/Actor_04/03-01-06-01-01-02-04.wav', 'extracted_audio/Actor_04/03-01-08-01-02-01-04.wav', 'extracted_audio/Actor_04/03-01-08-02-01-01-04.wav', 'extracted_audio/Actor_03/03-01-04-02-02-02-03.wav', 'extracted_audio/Actor_03/03-01-07-02-02-01-03.wav', 'extracted_audio/Actor_03/03-01-07-01-01-01-03.wav', 'extracted_audio/Actor_03/03-01-04-01-01-02-03.wav', 'extracted_audio/Actor_03/03-01-06-02-01-02-03.wav', 'extracted_audio/Actor_03/03-01-05-02-01-01-03.wav', 'extracted_audio/Actor_03/03-01-05-01-02-01-03.wav', 'extracted_audio/Actor_03/03-01-06-01-02-02-03.wav', 'extracted_audio/Actor_03/03-01-08-01-01-01-03.wav', 'extracted_audio/Actor_03/03-01-08-02-02-01-03.wav', 'extracted_audio/Actor_03/03-01-01-01-02-02-03.wav', 'extracted_audio/Actor_03/03-01-02-01-02-01-03.wav', 'extracted_audio/Actor_03/03-01-02-02-01-01-03.wav', 'extracted_audio/Actor_03/03-01-03-01-01-02-03.wav', 'extracted_audio/Actor_03/03-01-03-02-02-02-03.wav', 'extracted_audio/Actor_03/03-01-02-01-01-02-03.wav', 'extracted_audio/Actor_03/03-01-01-01-01-01-03.wav', 'extracted_audio/Actor_03/03-01-02-02-02-02-03.wav', 'extracted_audio/Actor_03/03-01-03-01-02-01-03.wav', 'extracted_audio/Actor_03/03-01-03-02-01-01-03.wav', 'extracted_audio/Actor_03/03-01-07-02-01-02-03.wav', 'extracted_audio/Actor_03/03-01-04-02-01-01-03.wav', 'extracted_audio/Actor_03/03-01-04-01-02-01-03.wav', 'extracted_audio/Actor_03/03-01-07-01-02-02-03.wav', 'extracted_audio/Actor_03/03-01-05-02-02-02-03.wav', 'extracted_audio/Actor_03/03-01-06-02-02-01-03.wav', 'extracted_audio/Actor_03/03-01-06-01-01-01-03.wav', 'extracted_audio/Actor_03/03-01-05-01-01-02-03.wav', 'extracted_audio/Actor_03/03-01-08-01-02-02-03.wav', 'extracted_audio/Actor_03/03-01-08-02-01-02-03.wav', 'extracted_audio/Actor_03/03-01-03-02-02-01-03.wav', 'extracted_audio/Actor_03/03-01-03-01-01-01-03.wav', 'extracted_audio/Actor_03/03-01-02-02-01-02-03.wav', 'extracted_audio/Actor_03/03-01-02-01-02-02-03.wav', 'extracted_audio/Actor_03/03-01-01-01-02-01-03.wav', 'extracted_audio/Actor_03/03-01-06-01-02-01-03.wav', 'extracted_audio/Actor_03/03-01-05-01-02-02-03.wav', 'extracted_audio/Actor_03/03-01-05-02-01-02-03.wav', 'extracted_audio/Actor_03/03-01-06-02-01-01-03.wav', 'extracted_audio/Actor_03/03-01-04-01-01-01-03.wav', 'extracted_audio/Actor_03/03-01-07-01-01-02-03.wav', 'extracted_audio/Actor_03/03-01-07-02-02-02-03.wav', 'extracted_audio/Actor_03/03-01-04-02-02-01-03.wav', 'extracted_audio/Actor_03/03-01-08-02-02-02-03.wav', 'extracted_audio/Actor_03/03-01-08-01-01-02-03.wav', 'extracted_audio/Actor_03/03-01-05-01-01-01-03.wav', 'extracted_audio/Actor_03/03-01-06-01-01-02-03.wav', 'extracted_audio/Actor_03/03-01-06-02-02-02-03.wav', 'extracted_audio/Actor_03/03-01-05-02-02-01-03.wav', 'extracted_audio/Actor_03/03-01-07-01-02-01-03.wav', 'extracted_audio/Actor_03/03-01-04-01-02-02-03.wav', 'extracted_audio/Actor_03/03-01-04-02-01-02-03.wav', 'extracted_audio/Actor_03/03-01-07-02-01-01-03.wav', 'extracted_audio/Actor_03/03-01-08-02-01-01-03.wav', 'extracted_audio/Actor_03/03-01-08-01-02-01-03.wav', 'extracted_audio/Actor_03/03-01-03-02-01-02-03.wav', 'extracted_audio/Actor_03/03-01-03-01-02-02-03.wav', 'extracted_audio/Actor_03/03-01-02-02-02-01-03.wav', 'extracted_audio/Actor_03/03-01-01-01-01-02-03.wav', 'extracted_audio/Actor_03/03-01-02-01-01-01-03.wav', 'extracted_audio/Actor_02/03-01-06-01-02-02-02.wav', 'extracted_audio/Actor_02/03-01-05-01-02-01-02.wav', 'extracted_audio/Actor_02/03-01-05-02-01-01-02.wav', 'extracted_audio/Actor_02/03-01-06-02-01-02-02.wav', 'extracted_audio/Actor_02/03-01-04-01-01-02-02.wav', 'extracted_audio/Actor_02/03-01-07-01-01-01-02.wav', 'extracted_audio/Actor_02/03-01-07-02-02-01-02.wav', 'extracted_audio/Actor_02/03-01-04-02-02-02-02.wav', 'extracted_audio/Actor_02/03-01-08-02-02-01-02.wav', 'extracted_audio/Actor_02/03-01-08-01-01-01-02.wav', 'extracted_audio/Actor_02/03-01-03-02-02-02-02.wav', 'extracted_audio/Actor_02/03-01-03-01-01-02-02.wav', 'extracted_audio/Actor_02/03-01-02-02-01-01-02.wav', 'extracted_audio/Actor_02/03-01-02-01-02-01-02.wav', 'extracted_audio/Actor_02/03-01-01-01-02-02-02.wav', 'extracted_audio/Actor_02/03-01-03-02-01-01-02.wav', 'extracted_audio/Actor_02/03-01-03-01-02-01-02.wav', 'extracted_audio/Actor_02/03-01-02-02-02-02-02.wav', 'extracted_audio/Actor_02/03-01-01-01-01-01-02.wav', 'extracted_audio/Actor_02/03-01-02-01-01-02-02.wav', 'extracted_audio/Actor_02/03-01-05-01-01-02-02.wav', 'extracted_audio/Actor_02/03-01-06-01-01-01-02.wav', 'extracted_audio/Actor_02/03-01-06-02-02-01-02.wav', 'extracted_audio/Actor_02/03-01-05-02-02-02-02.wav', 'extracted_audio/Actor_02/03-01-07-01-02-02-02.wav', 'extracted_audio/Actor_02/03-01-04-01-02-01-02.wav', 'extracted_audio/Actor_02/03-01-04-02-01-01-02.wav', 'extracted_audio/Actor_02/03-01-07-02-01-02-02.wav', 'extracted_audio/Actor_02/03-01-08-02-01-02-02.wav', 'extracted_audio/Actor_02/03-01-08-01-02-02-02.wav', 'extracted_audio/Actor_02/03-01-01-01-02-01-02.wav', 'extracted_audio/Actor_02/03-01-02-01-02-02-02.wav', 'extracted_audio/Actor_02/03-01-02-02-01-02-02.wav', 'extracted_audio/Actor_02/03-01-03-01-01-01-02.wav', 'extracted_audio/Actor_02/03-01-03-02-02-01-02.wav', 'extracted_audio/Actor_02/03-01-04-02-02-01-02.wav', 'extracted_audio/Actor_02/03-01-07-02-02-02-02.wav', 'extracted_audio/Actor_02/03-01-07-01-01-02-02.wav', 'extracted_audio/Actor_02/03-01-04-01-01-01-02.wav', 'extracted_audio/Actor_02/03-01-06-02-01-01-02.wav', 'extracted_audio/Actor_02/03-01-05-02-01-02-02.wav', 'extracted_audio/Actor_02/03-01-05-01-02-02-02.wav', 'extracted_audio/Actor_02/03-01-06-01-02-01-02.wav', 'extracted_audio/Actor_02/03-01-08-01-01-02-02.wav', 'extracted_audio/Actor_02/03-01-08-02-02-02-02.wav', 'extracted_audio/Actor_02/03-01-07-02-01-01-02.wav', 'extracted_audio/Actor_02/03-01-04-02-01-02-02.wav', 'extracted_audio/Actor_02/03-01-04-01-02-02-02.wav', 'extracted_audio/Actor_02/03-01-07-01-02-01-02.wav', 'extracted_audio/Actor_02/03-01-05-02-02-01-02.wav', 'extracted_audio/Actor_02/03-01-06-02-02-02-02.wav', 'extracted_audio/Actor_02/03-01-06-01-01-02-02.wav', 'extracted_audio/Actor_02/03-01-05-01-01-01-02.wav', 'extracted_audio/Actor_02/03-01-08-01-02-01-02.wav', 'extracted_audio/Actor_02/03-01-08-02-01-01-02.wav', 'extracted_audio/Actor_02/03-01-02-01-01-01-02.wav', 'extracted_audio/Actor_02/03-01-01-01-01-02-02.wav', 'extracted_audio/Actor_02/03-01-02-02-02-01-02.wav', 'extracted_audio/Actor_02/03-01-03-01-02-02-02.wav', 'extracted_audio/Actor_02/03-01-03-02-01-02-02.wav', 'extracted_audio/Actor_05/03-01-02-01-02-01-05.wav', 'extracted_audio/Actor_05/03-01-01-01-02-02-05.wav', 'extracted_audio/Actor_05/03-01-02-02-01-01-05.wav', 'extracted_audio/Actor_05/03-01-03-01-01-02-05.wav', 'extracted_audio/Actor_05/03-01-03-02-02-02-05.wav', 'extracted_audio/Actor_05/03-01-07-02-02-01-05.wav', 'extracted_audio/Actor_05/03-01-04-02-02-02-05.wav', 'extracted_audio/Actor_05/03-01-04-01-01-02-05.wav', 'extracted_audio/Actor_05/03-01-07-01-01-01-05.wav', 'extracted_audio/Actor_05/03-01-05-02-01-01-05.wav', 'extracted_audio/Actor_05/03-01-06-02-01-02-05.wav', 'extracted_audio/Actor_05/03-01-06-01-02-02-05.wav', 'extracted_audio/Actor_05/03-01-05-01-02-01-05.wav', 'extracted_audio/Actor_05/03-01-08-01-01-01-05.wav', 'extracted_audio/Actor_05/03-01-08-02-02-01-05.wav', 'extracted_audio/Actor_05/03-01-04-02-01-01-05.wav', 'extracted_audio/Actor_05/03-01-07-02-01-02-05.wav', 'extracted_audio/Actor_05/03-01-07-01-02-02-05.wav', 'extracted_audio/Actor_05/03-01-04-01-02-01-05.wav', 'extracted_audio/Actor_05/03-01-06-02-02-01-05.wav', 'extracted_audio/Actor_05/03-01-05-02-02-02-05.wav', 'extracted_audio/Actor_05/03-01-05-01-01-02-05.wav', 'extracted_audio/Actor_05/03-01-06-01-01-01-05.wav', 'extracted_audio/Actor_05/03-01-08-01-02-02-05.wav', 'extracted_audio/Actor_05/03-01-08-02-01-02-05.wav', 'extracted_audio/Actor_05/03-01-01-01-01-01-05.wav', 'extracted_audio/Actor_05/03-01-02-01-01-02-05.wav', 'extracted_audio/Actor_05/03-01-02-02-02-02-05.wav', 'extracted_audio/Actor_05/03-01-03-01-02-01-05.wav', 'extracted_audio/Actor_05/03-01-03-02-01-01-05.wav', 'extracted_audio/Actor_05/03-01-05-01-02-02-05.wav', 'extracted_audio/Actor_05/03-01-06-01-02-01-05.wav', 'extracted_audio/Actor_05/03-01-06-02-01-01-05.wav', 'extracted_audio/Actor_05/03-01-05-02-01-02-05.wav', 'extracted_audio/Actor_05/03-01-07-01-01-02-05.wav', 'extracted_audio/Actor_05/03-01-04-01-01-01-05.wav', 'extracted_audio/Actor_05/03-01-04-02-02-01-05.wav', 'extracted_audio/Actor_05/03-01-07-02-02-02-05.wav', 'extracted_audio/Actor_05/03-01-08-02-02-02-05.wav', 'extracted_audio/Actor_05/03-01-08-01-01-02-05.wav', 'extracted_audio/Actor_05/03-01-03-02-02-01-05.wav', 'extracted_audio/Actor_05/03-01-03-01-01-01-05.wav', 'extracted_audio/Actor_05/03-01-02-02-01-02-05.wav', 'extracted_audio/Actor_05/03-01-01-01-02-01-05.wav', 'extracted_audio/Actor_05/03-01-02-01-02-02-05.wav', 'extracted_audio/Actor_05/03-01-03-02-01-02-05.wav', 'extracted_audio/Actor_05/03-01-03-01-02-02-05.wav', 'extracted_audio/Actor_05/03-01-02-02-02-01-05.wav', 'extracted_audio/Actor_05/03-01-02-01-01-01-05.wav', 'extracted_audio/Actor_05/03-01-01-01-01-02-05.wav', 'extracted_audio/Actor_05/03-01-06-01-01-02-05.wav', 'extracted_audio/Actor_05/03-01-05-01-01-01-05.wav', 'extracted_audio/Actor_05/03-01-05-02-02-01-05.wav', 'extracted_audio/Actor_05/03-01-06-02-02-02-05.wav', 'extracted_audio/Actor_05/03-01-04-01-02-02-05.wav', 'extracted_audio/Actor_05/03-01-07-01-02-01-05.wav', 'extracted_audio/Actor_05/03-01-07-02-01-01-05.wav', 'extracted_audio/Actor_05/03-01-04-02-01-02-05.wav', 'extracted_audio/Actor_05/03-01-08-02-01-01-05.wav', 'extracted_audio/Actor_05/03-01-08-01-02-01-05.wav', 'extracted_audio/audio_speech_actors_01-24/Actor_16/03-01-05-01-02-01-16.wav', 'extracted_audio/audio_speech_actors_01-24/Actor_16/03-01-06-01-02-02-16.wav', 'extracted_audio/audio_speech_actors_01-24/Actor_16/03-01-06-02-01-02-16.wav', 'extracted_audio/audio_speech_actors_01-24/Actor_16/03-01-05-02-01-01-16.wav', 'extracted_audio/audio_speech_actors_01-24/Actor_16/03-01-07-01-01-01-16.wav', 'extracted_audio/audio_speech_actors_01-24/Actor_16/03-01-04-01-01-02-16.wav', 'extracted_audio/audio_speech_actors_01-24/Actor_16/03-01-04-02-02-02-16.wav', 'extracted_audio/audio_speech_actors_01-24/Actor_16/03-01-07-02-02-01-16.wav', 'extracted_audio/audio_speech_actors_01-24/Actor_16/03-01-08-02-02-01-16.wav', 'extracted_audio/audio_speech_actors_01-24/Actor_16/03-01-08-01-01-01-16.wav', 'extracted_audio/audio_speech_actors_01-24/Actor_16/03-01-03-02-02-02-16.wav', 'extracted_audio/audio_speech_actors_01-24/Actor_16/03-01-03-01-01-02-16.wav', 'extracted_audio/audio_speech_actors_01-24/Actor_16/03-01-02-02-01-01-16.wav', 'extracted_audio/audio_speech_actors_01-24/Actor_16/03-01-01-01-02-02-16.wav', 'extracted_audio/audio_speech_actors_01-24/Actor_16/03-01-02-01-02-01-16.wav', 'extracted_audio/audio_speech_actors_01-24/Actor_16/03-01-03-02-01-01-16.wav', 'extracted_audio/audio_speech_actors_01-24/Actor_16/03-01-03-01-02-01-16.wav', 'extracted_audio/audio_speech_actors_01-24/Actor_16/03-01-02-02-02-02-16.wav', 'extracted_audio/audio_speech_actors_01-24/Actor_16/03-01-02-01-01-02-16.wav', 'extracted_audio/audio_speech_actors_01-24/Actor_16/03-01-01-01-01-01-16.wav', 'extracted_audio/audio_speech_actors_01-24/Actor_16/03-01-06-01-01-01-16.wav', 'extracted_audio/audio_speech_actors_01-24/Actor_16/03-01-05-01-01-02-16.wav', 'extracted_audio/audio_speech_actors_01-24/Actor_16/03-01-05-02-02-02-16.wav', 'extracted_audio/audio_speech_actors_01-24/Actor_16/03-01-06-02-02-01-16.wav', 'extracted_audio/audio_speech_actors_01-24/Actor_16/03-01-04-01-02-01-16.wav', 'extracted_audio/audio_speech_actors_01-24/Actor_16/03-01-07-01-02-02-16.wav', 'extracted_audio/audio_speech_actors_01-24/Actor_16/03-01-07-02-01-02-16.wav', 'extracted_audio/audio_speech_actors_01-24/Actor_16/03-01-04-02-01-01-16.wav', 'extracted_audio/audio_speech_actors_01-24/Actor_16/03-01-08-02-01-02-16.wav', 'extracted_audio/audio_speech_actors_01-24/Actor_16/03-01-08-01-02-02-16.wav', 'extracted_audio/audio_speech_actors_01-24/Actor_16/03-01-02-01-02-02-16.wav', 'extracted_audio/audio_speech_actors_01-24/Actor_16/03-01-01-01-02-01-16.wav', 'extracted_audio/audio_speech_actors_01-24/Actor_16/03-01-02-02-01-02-16.wav', 'extracted_audio/audio_speech_actors_01-24/Actor_16/03-01-03-01-01-01-16.wav', 'extracted_audio/audio_speech_actors_01-24/Actor_16/03-01-03-02-02-01-16.wav', 'extracted_audio/audio_speech_actors_01-24/Actor_16/03-01-07-02-02-02-16.wav', 'extracted_audio/audio_speech_actors_01-24/Actor_16/03-01-04-02-02-01-16.wav', 'extracted_audio/audio_speech_actors_01-24/Actor_16/03-01-04-01-01-01-16.wav', 'extracted_audio/audio_speech_actors_01-24/Actor_16/03-01-07-01-01-02-16.wav', 'extracted_audio/audio_speech_actors_01-24/Actor_16/03-01-05-02-01-02-16.wav', 'extracted_audio/audio_speech_actors_01-24/Actor_16/03-01-06-02-01-01-16.wav', 'extracted_audio/audio_speech_actors_01-24/Actor_16/03-01-06-01-02-01-16.wav', 'extracted_audio/audio_speech_actors_01-24/Actor_16/03-01-05-01-02-02-16.wav', 'extracted_audio/audio_speech_actors_01-24/Actor_16/03-01-08-01-01-02-16.wav', 'extracted_audio/audio_speech_actors_01-24/Actor_16/03-01-08-02-02-02-16.wav', 'extracted_audio/audio_speech_actors_01-24/Actor_16/03-01-04-02-01-02-16.wav', 'extracted_audio/audio_speech_actors_01-24/Actor_16/03-01-07-02-01-01-16.wav', 'extracted_audio/audio_speech_actors_01-24/Actor_16/03-01-07-01-02-01-16.wav', 'extracted_audio/audio_speech_actors_01-24/Actor_16/03-01-04-01-02-02-16.wav', 'extracted_audio/audio_speech_actors_01-24/Actor_16/03-01-06-02-02-02-16.wav', 'extracted_audio/audio_speech_actors_01-24/Actor_16/03-01-05-02-02-01-16.wav', 'extracted_audio/audio_speech_actors_01-24/Actor_16/03-01-05-01-01-01-16.wav', 'extracted_audio/audio_speech_actors_01-24/Actor_16/03-01-06-01-01-02-16.wav', 'extracted_audio/audio_speech_actors_01-24/Actor_16/03-01-08-01-02-01-16.wav', 'extracted_audio/audio_speech_actors_01-24/Actor_16/03-01-08-02-01-01-16.wav', 'extracted_audio/audio_speech_actors_01-24/Actor_16/03-01-01-01-01-02-16.wav', 'extracted_audio/audio_speech_actors_01-24/Actor_16/03-01-02-01-01-01-16.wav', 'extracted_audio/audio_speech_actors_01-24/Actor_16/03-01-02-02-02-01-16.wav', 'extracted_audio/audio_speech_actors_01-24/Actor_16/03-01-03-01-02-02-16.wav', 'extracted_audio/audio_speech_actors_01-24/Actor_16/03-01-03-02-01-02-16.wav', 'extracted_audio/audio_speech_actors_01-24/Actor_11/03-01-01-01-02-02-11.wav', 'extracted_audio/audio_speech_actors_01-24/Actor_11/03-01-02-01-02-01-11.wav', 'extracted_audio/audio_speech_actors_01-24/Actor_11/03-01-02-02-01-01-11.wav', 'extracted_audio/audio_speech_actors_01-24/Actor_11/03-01-03-01-01-02-11.wav', 'extracted_audio/audio_speech_actors_01-24/Actor_11/03-01-03-02-02-02-11.wav', 'extracted_audio/audio_speech_actors_01-24/Actor_11/03-01-04-02-02-02-11.wav', 'extracted_audio/audio_speech_actors_01-24/Actor_11/03-01-07-02-02-01-11.wav', 'extracted_audio/audio_speech_actors_01-24/Actor_11/03-01-07-01-01-01-11.wav', 'extracted_audio/audio_speech_actors_01-24/Actor_11/03-01-04-01-01-02-11.wav', 'extracted_audio/audio_speech_actors_01-24/Actor_11/03-01-06-02-01-02-11.wav', 'extracted_audio/audio_speech_actors_01-24/Actor_11/03-01-05-02-01-01-11.wav', 'extracted_audio/audio_speech_actors_01-24/Actor_11/03-01-05-01-02-01-11.wav', 'extracted_audio/audio_speech_actors_01-24/Actor_11/03-01-06-01-02-02-11.wav', 'extracted_audio/audio_speech_actors_01-24/Actor_11/03-01-08-01-01-01-11.wav', 'extracted_audio/audio_speech_actors_01-24/Actor_11/03-01-08-02-02-01-11.wav', 'extracted_audio/audio_speech_actors_01-24/Actor_11/03-01-07-02-01-02-11.wav', 'extracted_audio/audio_speech_actors_01-24/Actor_11/03-01-04-02-01-01-11.wav', 'extracted_audio/audio_speech_actors_01-24/Actor_11/03-01-04-01-02-01-11.wav', 'extracted_audio/audio_speech_actors_01-24/Actor_11/03-01-07-01-02-02-11.wav', 'extracted_audio/audio_speech_actors_01-24/Actor_11/03-01-05-02-02-02-11.wav', 'extracted_audio/audio_speech_actors_01-24/Actor_11/03-01-06-02-02-01-11.wav', 'extracted_audio/audio_speech_actors_01-24/Actor_11/03-01-06-01-01-01-11.wav', 'extracted_audio/audio_speech_actors_01-24/Actor_11/03-01-05-01-01-02-11.wav', 'extracted_audio/audio_speech_actors_01-24/Actor_11/03-01-08-01-02-02-11.wav', 'extracted_audio/audio_speech_actors_01-24/Actor_11/03-01-08-02-01-02-11.wav', 'extracted_audio/audio_speech_actors_01-24/Actor_11/03-01-02-01-01-02-11.wav', 'extracted_audio/audio_speech_actors_01-24/Actor_11/03-01-01-01-01-01-11.wav', 'extracted_audio/audio_speech_actors_01-24/Actor_11/03-01-02-02-02-02-11.wav', 'extracted_audio/audio_speech_actors_01-24/Actor_11/03-01-03-01-02-01-11.wav', 'extracted_audio/audio_speech_actors_01-24/Actor_11/03-01-03-02-01-01-11.wav', 'extracted_audio/audio_speech_actors_01-24/Actor_11/03-01-06-01-02-01-11.wav', 'extracted_audio/audio_speech_actors_01-24/Actor_11/03-01-05-01-02-02-11.wav', 'extracted_audio/audio_speech_actors_01-24/Actor_11/03-01-05-02-01-02-11.wav', 'extracted_audio/audio_speech_actors_01-24/Actor_11/03-01-06-02-01-01-11.wav', 'extracted_audio/audio_speech_actors_01-24/Actor_11/03-01-04-01-01-01-11.wav', 'extracted_audio/audio_speech_actors_01-24/Actor_11/03-01-07-01-01-02-11.wav', 'extracted_audio/audio_speech_actors_01-24/Actor_11/03-01-07-02-02-02-11.wav', 'extracted_audio/audio_speech_actors_01-24/Actor_11/03-01-04-02-02-01-11.wav', 'extracted_audio/audio_speech_actors_01-24/Actor_11/03-01-08-02-02-02-11.wav', 'extracted_audio/audio_speech_actors_01-24/Actor_11/03-01-08-01-01-02-11.wav', 'extracted_audio/audio_speech_actors_01-24/Actor_11/03-01-03-02-02-01-11.wav', 'extracted_audio/audio_speech_actors_01-24/Actor_11/03-01-03-01-01-01-11.wav', 'extracted_audio/audio_speech_actors_01-24/Actor_11/03-01-02-02-01-02-11.wav', 'extracted_audio/audio_speech_actors_01-24/Actor_11/03-01-02-01-02-02-11.wav', 'extracted_audio/audio_speech_actors_01-24/Actor_11/03-01-01-01-02-01-11.wav', 'extracted_audio/audio_speech_actors_01-24/Actor_11/03-01-03-02-01-02-11.wav', 'extracted_audio/audio_speech_actors_01-24/Actor_11/03-01-03-01-02-02-11.wav', 'extracted_audio/audio_speech_actors_01-24/Actor_11/03-01-02-02-02-01-11.wav', 'extracted_audio/audio_speech_actors_01-24/Actor_11/03-01-01-01-01-02-11.wav', 'extracted_audio/audio_speech_actors_01-24/Actor_11/03-01-02-01-01-01-11.wav', 'extracted_audio/audio_speech_actors_01-24/Actor_11/03-01-05-01-01-01-11.wav', 'extracted_audio/audio_speech_actors_01-24/Actor_11/03-01-06-01-01-02-11.wav', 'extracted_audio/audio_speech_actors_01-24/Actor_11/03-01-06-02-02-02-11.wav', 'extracted_audio/audio_speech_actors_01-24/Actor_11/03-01-05-02-02-01-11.wav', 'extracted_audio/audio_speech_actors_01-24/Actor_11/03-01-07-01-02-01-11.wav', 'extracted_audio/audio_speech_actors_01-24/Actor_11/03-01-04-01-02-02-11.wav', 'extracted_audio/audio_speech_actors_01-24/Actor_11/03-01-04-02-01-02-11.wav', 'extracted_audio/audio_speech_actors_01-24/Actor_11/03-01-07-02-01-01-11.wav', 'extracted_audio/audio_speech_actors_01-24/Actor_11/03-01-08-02-01-01-11.wav', 'extracted_audio/audio_speech_actors_01-24/Actor_11/03-01-08-01-02-01-11.wav', 'extracted_audio/audio_speech_actors_01-24/Actor_18/03-01-03-02-01-02-18.wav', 'extracted_audio/audio_speech_actors_01-24/Actor_18/03-01-03-01-02-02-18.wav', 'extracted_audio/audio_speech_actors_01-24/Actor_18/03-01-02-02-02-01-18.wav', 'extracted_audio/audio_speech_actors_01-24/Actor_18/03-01-02-01-01-01-18.wav', 'extracted_audio/audio_speech_actors_01-24/Actor_18/03-01-01-01-01-02-18.wav', 'extracted_audio/audio_speech_actors_01-24/Actor_18/03-01-06-01-01-02-18.wav', 'extracted_audio/audio_speech_actors_01-24/Actor_18/03-01-05-01-01-01-18.wav', 'extracted_audio/audio_speech_actors_01-24/Actor_18/03-01-05-02-02-01-18.wav', 'extracted_audio/audio_speech_actors_01-24/Actor_18/03-01-06-02-02-02-18.wav', 'extracted_audio/audio_speech_actors_01-24/Actor_18/03-01-04-01-02-02-18.wav', 'extracted_audio/audio_speech_actors_01-24/Actor_18/03-01-07-01-02-01-18.wav', 'extracted_audio/audio_speech_actors_01-24/Actor_18/03-01-07-02-01-01-18.wav', 'extracted_audio/audio_speech_actors_01-24/Actor_18/03-01-04-02-01-02-18.wav', 'extracted_audio/audio_speech_actors_01-24/Actor_18/03-01-08-02-01-01-18.wav', 'extracted_audio/audio_speech_actors_01-24/Actor_18/03-01-08-01-02-01-18.wav', 'extracted_audio/audio_speech_actors_01-24/Actor_18/03-01-05-01-02-02-18.wav', 'extracted_audio/audio_speech_actors_01-24/Actor_18/03-01-06-01-02-01-18.wav', 'extracted_audio/audio_speech_actors_01-24/Actor_18/03-01-06-02-01-01-18.wav', 'extracted_audio/audio_speech_actors_01-24/Actor_18/03-01-05-02-01-02-18.wav', 'extracted_audio/audio_speech_actors_01-24/Actor_18/03-01-07-01-01-02-18.wav', 'extracted_audio/audio_speech_actors_01-24/Actor_18/03-01-04-01-01-01-18.wav', 'extracted_audio/audio_speech_actors_01-24/Actor_18/03-01-04-02-02-01-18.wav', 'extracted_audio/audio_speech_actors_01-24/Actor_18/03-01-07-02-02-02-18.wav', 'extracted_audio/audio_speech_actors_01-24/Actor_18/03-01-08-02-02-02-18.wav', 'extracted_audio/audio_speech_actors_01-24/Actor_18/03-01-08-01-01-02-18.wav', 'extracted_audio/audio_speech_actors_01-24/Actor_18/03-01-03-02-02-01-18.wav', 'extracted_audio/audio_speech_actors_01-24/Actor_18/03-01-03-01-01-01-18.wav', 'extracted_audio/audio_speech_actors_01-24/Actor_18/03-01-02-02-01-02-18.wav', 'extracted_audio/audio_speech_actors_01-24/Actor_18/03-01-01-01-02-01-18.wav', 'extracted_audio/audio_speech_actors_01-24/Actor_18/03-01-02-01-02-02-18.wav', 'extracted_audio/audio_speech_actors_01-24/Actor_18/03-01-04-02-01-01-18.wav', 'extracted_audio/audio_speech_actors_01-24/Actor_18/03-01-07-02-01-02-18.wav', 'extracted_audio/audio_speech_actors_01-24/Actor_18/03-01-07-01-02-02-18.wav', 'extracted_audio/audio_speech_actors_01-24/Actor_18/03-01-04-01-02-01-18.wav', 'extracted_audio/audio_speech_actors_01-24/Actor_18/03-01-06-02-02-01-18.wav', 'extracted_audio/audio_speech_actors_01-24/Actor_18/03-01-05-02-02-02-18.wav', 'extracted_audio/audio_speech_actors_01-24/Actor_18/03-01-05-01-01-02-18.wav', 'extracted_audio/audio_speech_actors_01-24/Actor_18/03-01-06-01-01-01-18.wav', 'extracted_audio/audio_speech_actors_01-24/Actor_18/03-01-08-01-02-02-18.wav', 'extracted_audio/audio_speech_actors_01-24/Actor_18/03-01-08-02-01-02-18.wav', 'extracted_audio/audio_speech_actors_01-24/Actor_18/03-01-01-01-01-01-18.wav', 'extracted_audio/audio_speech_actors_01-24/Actor_18/03-01-02-01-01-02-18.wav', 'extracted_audio/audio_speech_actors_01-24/Actor_18/03-01-02-02-02-02-18.wav', 'extracted_audio/audio_speech_actors_01-24/Actor_18/03-01-03-01-02-01-18.wav', 'extracted_audio/audio_speech_actors_01-24/Actor_18/03-01-03-02-01-01-18.wav', 'extracted_audio/audio_speech_actors_01-24/Actor_18/03-01-02-01-02-01-18.wav', 'extracted_audio/audio_speech_actors_01-24/Actor_18/03-01-01-01-02-02-18.wav', 'extracted_audio/audio_speech_actors_01-24/Actor_18/03-01-02-02-01-01-18.wav', 'extracted_audio/audio_speech_actors_01-24/Actor_18/03-01-03-01-01-02-18.wav', 'extracted_audio/audio_speech_actors_01-24/Actor_18/03-01-03-02-02-02-18.wav', 'extracted_audio/audio_speech_actors_01-24/Actor_18/03-01-07-02-02-01-18.wav', 'extracted_audio/audio_speech_actors_01-24/Actor_18/03-01-04-02-02-02-18.wav', 'extracted_audio/audio_speech_actors_01-24/Actor_18/03-01-04-01-01-02-18.wav', 'extracted_audio/audio_speech_actors_01-24/Actor_18/03-01-07-01-01-01-18.wav', 'extracted_audio/audio_speech_actors_01-24/Actor_18/03-01-05-02-01-01-18.wav', 'extracted_audio/audio_speech_actors_01-24/Actor_18/03-01-06-02-01-02-18.wav', 'extracted_audio/audio_speech_actors_01-24/Actor_18/03-01-06-01-02-02-18.wav', 'extracted_audio/audio_speech_actors_01-24/Actor_18/03-01-05-01-02-01-18.wav', 'extracted_audio/audio_speech_actors_01-24/Actor_18/03-01-08-01-01-01-18.wav', 'extracted_audio/audio_speech_actors_01-24/Actor_18/03-01-08-02-02-01-18.wav', 'extracted_audio/audio_speech_actors_01-24/Actor_20/03-01-08-01-02-01-20.wav', 'extracted_audio/audio_speech_actors_01-24/Actor_20/03-01-08-02-01-01-20.wav', 'extracted_audio/audio_speech_actors_01-24/Actor_20/03-01-04-02-01-02-20.wav', 'extracted_audio/audio_speech_actors_01-24/Actor_20/03-01-07-02-01-01-20.wav', 'extracted_audio/audio_speech_actors_01-24/Actor_20/03-01-07-01-02-01-20.wav', 'extracted_audio/audio_speech_actors_01-24/Actor_20/03-01-04-01-02-02-20.wav', 'extracted_audio/audio_speech_actors_01-24/Actor_20/03-01-06-02-02-02-20.wav', 'extracted_audio/audio_speech_actors_01-24/Actor_20/03-01-05-02-02-01-20.wav', 'extracted_audio/audio_speech_actors_01-24/Actor_20/03-01-05-01-01-01-20.wav', 'extracted_audio/audio_speech_actors_01-24/Actor_20/03-01-06-01-01-02-20.wav', 'extracted_audio/audio_speech_actors_01-24/Actor_20/03-01-01-01-01-02-20.wav', 'extracted_audio/audio_speech_actors_01-24/Actor_20/03-01-02-01-01-01-20.wav', 'extracted_audio/audio_speech_actors_01-24/Actor_20/03-01-02-02-02-01-20.wav', 'extracted_audio/audio_speech_actors_01-24/Actor_20/03-01-03-01-02-02-20.wav', 'extracted_audio/audio_speech_actors_01-24/Actor_20/03-01-03-02-01-02-20.wav', 'extracted_audio/audio_speech_actors_01-24/Actor_20/03-01-02-01-02-02-20.wav', 'extracted_audio/audio_speech_actors_01-24/Actor_20/03-01-01-01-02-01-20.wav', 'extracted_audio/audio_speech_actors_01-24/Actor_20/03-01-02-02-01-02-20.wav', 'extracted_audio/audio_speech_actors_01-24/Actor_20/03-01-03-01-01-01-20.wav', 'extracted_audio/audio_speech_actors_01-24/Actor_20/03-01-03-02-02-01-20.wav', 'extracted_audio/audio_speech_actors_01-24/Actor_20/03-01-08-01-01-02-20.wav', 'extracted_audio/audio_speech_actors_01-24/Actor_20/03-01-08-02-02-02-20.wav', 'extracted_audio/audio_speech_actors_01-24/Actor_20/03-01-07-02-02-02-20.wav', 'extracted_audio/audio_speech_actors_01-24/Actor_20/03-01-04-02-02-01-20.wav', 'extracted_audio/audio_speech_actors_01-24/Actor_20/03-01-04-01-01-01-20.wav', 'extracted_audio/audio_speech_actors_01-24/Actor_20/03-01-07-01-01-02-20.wav', 'extracted_audio/audio_speech_actors_01-24/Actor_20/03-01-05-02-01-02-20.wav', 'extracted_audio/audio_speech_actors_01-24/Actor_20/03-01-06-02-01-01-20.wav', 'extracted_audio/audio_speech_actors_01-24/Actor_20/03-01-06-01-02-01-20.wav', 'extracted_audio/audio_speech_actors_01-24/Actor_20/03-01-05-01-02-02-20.wav', 'extracted_audio/audio_speech_actors_01-24/Actor_20/03-01-03-02-01-01-20.wav', 'extracted_audio/audio_speech_actors_01-24/Actor_20/03-01-03-01-02-01-20.wav', 'extracted_audio/audio_speech_actors_01-24/Actor_20/03-01-02-02-02-02-20.wav', 'extracted_audio/audio_speech_actors_01-24/Actor_20/03-01-02-01-01-02-20.wav', 'extracted_audio/audio_speech_actors_01-24/Actor_20/03-01-01-01-01-01-20.wav', 'extracted_audio/audio_speech_actors_01-24/Actor_20/03-01-08-02-01-02-20.wav', 'extracted_audio/audio_speech_actors_01-24/Actor_20/03-01-08-01-02-02-20.wav', 'extracted_audio/audio_speech_actors_01-24/Actor_20/03-01-06-01-01-01-20.wav', 'extracted_audio/audio_speech_actors_01-24/Actor_20/03-01-05-01-01-02-20.wav', 'extracted_audio/audio_speech_actors_01-24/Actor_20/03-01-05-02-02-02-20.wav', 'extracted_audio/audio_speech_actors_01-24/Actor_20/03-01-06-02-02-01-20.wav', 'extracted_audio/audio_speech_actors_01-24/Actor_20/03-01-04-01-02-01-20.wav', 'extracted_audio/audio_speech_actors_01-24/Actor_20/03-01-07-01-02-02-20.wav', 'extracted_audio/audio_speech_actors_01-24/Actor_20/03-01-07-02-01-02-20.wav', 'extracted_audio/audio_speech_actors_01-24/Actor_20/03-01-04-02-01-01-20.wav', 'extracted_audio/audio_speech_actors_01-24/Actor_20/03-01-08-02-02-01-20.wav', 'extracted_audio/audio_speech_actors_01-24/Actor_20/03-01-08-01-01-01-20.wav', 'extracted_audio/audio_speech_actors_01-24/Actor_20/03-01-05-01-02-01-20.wav', 'extracted_audio/audio_speech_actors_01-24/Actor_20/03-01-06-01-02-02-20.wav', 'extracted_audio/audio_speech_actors_01-24/Actor_20/03-01-06-02-01-02-20.wav', 'extracted_audio/audio_speech_actors_01-24/Actor_20/03-01-05-02-01-01-20.wav', 'extracted_audio/audio_speech_actors_01-24/Actor_20/03-01-07-01-01-01-20.wav', 'extracted_audio/audio_speech_actors_01-24/Actor_20/03-01-04-01-01-02-20.wav', 'extracted_audio/audio_speech_actors_01-24/Actor_20/03-01-04-02-02-02-20.wav', 'extracted_audio/audio_speech_actors_01-24/Actor_20/03-01-07-02-02-01-20.wav', 'extracted_audio/audio_speech_actors_01-24/Actor_20/03-01-03-02-02-02-20.wav', 'extracted_audio/audio_speech_actors_01-24/Actor_20/03-01-03-01-01-02-20.wav', 'extracted_audio/audio_speech_actors_01-24/Actor_20/03-01-02-02-01-01-20.wav', 'extracted_audio/audio_speech_actors_01-24/Actor_20/03-01-01-01-02-02-20.wav', 'extracted_audio/audio_speech_actors_01-24/Actor_20/03-01-02-01-02-01-20.wav', 'extracted_audio/audio_speech_actors_01-24/Actor_21/03-01-08-02-01-01-21.wav', 'extracted_audio/audio_speech_actors_01-24/Actor_21/03-01-08-01-02-01-21.wav', 'extracted_audio/audio_speech_actors_01-24/Actor_21/03-01-06-01-01-02-21.wav', 'extracted_audio/audio_speech_actors_01-24/Actor_21/03-01-05-01-01-01-21.wav', 'extracted_audio/audio_speech_actors_01-24/Actor_21/03-01-05-02-02-01-21.wav', 'extracted_audio/audio_speech_actors_01-24/Actor_21/03-01-06-02-02-02-21.wav', 'extracted_audio/audio_speech_actors_01-24/Actor_21/03-01-04-01-02-02-21.wav', 'extracted_audio/audio_speech_actors_01-24/Actor_21/03-01-07-01-02-01-21.wav', 'extracted_audio/audio_speech_actors_01-24/Actor_21/03-01-07-02-01-01-21.wav', 'extracted_audio/audio_speech_actors_01-24/Actor_21/03-01-04-02-01-02-21.wav', 'extracted_audio/audio_speech_actors_01-24/Actor_21/03-01-03-02-01-02-21.wav', 'extracted_audio/audio_speech_actors_01-24/Actor_21/03-01-03-01-02-02-21.wav', 'extracted_audio/audio_speech_actors_01-24/Actor_21/03-01-02-02-02-01-21.wav', 'extracted_audio/audio_speech_actors_01-24/Actor_21/03-01-02-01-01-01-21.wav', 'extracted_audio/audio_speech_actors_01-24/Actor_21/03-01-01-01-01-02-21.wav', 'extracted_audio/audio_speech_actors_01-24/Actor_21/03-01-03-02-02-01-21.wav', 'extracted_audio/audio_speech_actors_01-24/Actor_21/03-01-03-01-01-01-21.wav', 'extracted_audio/audio_speech_actors_01-24/Actor_21/03-01-02-02-01-02-21.wav', 'extracted_audio/audio_speech_actors_01-24/Actor_21/03-01-01-01-02-01-21.wav', 'extracted_audio/audio_speech_actors_01-24/Actor_21/03-01-02-01-02-02-21.wav', 'extracted_audio/audio_speech_actors_01-24/Actor_21/03-01-08-02-02-02-21.wav', 'extracted_audio/audio_speech_actors_01-24/Actor_21/03-01-08-01-01-02-21.wav', 'extracted_audio/audio_speech_actors_01-24/Actor_21/03-01-05-01-02-02-21.wav', 'extracted_audio/audio_speech_actors_01-24/Actor_21/03-01-06-01-02-01-21.wav', 'extracted_audio/audio_speech_actors_01-24/Actor_21/03-01-06-02-01-01-21.wav', 'extracted_audio/audio_speech_actors_01-24/Actor_21/03-01-05-02-01-02-21.wav', 'extracted_audio/audio_speech_actors_01-24/Actor_21/03-01-07-01-01-02-21.wav', 'extracted_audio/audio_speech_actors_01-24/Actor_21/03-01-04-01-01-01-21.wav', 'extracted_audio/audio_speech_actors_01-24/Actor_21/03-01-04-02-02-01-21.wav', 'extracted_audio/audio_speech_actors_01-24/Actor_21/03-01-07-02-02-02-21.wav', 'extracted_audio/audio_speech_actors_01-24/Actor_21/03-01-01-01-01-01-21.wav', 'extracted_audio/audio_speech_actors_01-24/Actor_21/03-01-02-01-01-02-21.wav', 'extracted_audio/audio_speech_actors_01-24/Actor_21/03-01-02-02-02-02-21.wav', 'extracted_audio/audio_speech_actors_01-24/Actor_21/03-01-03-01-02-01-21.wav', 'extracted_audio/audio_speech_actors_01-24/Actor_21/03-01-03-02-01-01-21.wav', 'extracted_audio/audio_speech_actors_01-24/Actor_21/03-01-08-01-02-02-21.wav', 'extracted_audio/audio_speech_actors_01-24/Actor_21/03-01-08-02-01-02-21.wav', 'extracted_audio/audio_speech_actors_01-24/Actor_21/03-01-04-02-01-01-21.wav', 'extracted_audio/audio_speech_actors_01-24/Actor_21/03-01-07-02-01-02-21.wav', 'extracted_audio/audio_speech_actors_01-24/Actor_21/03-01-07-01-02-02-21.wav', 'extracted_audio/audio_speech_actors_01-24/Actor_21/03-01-04-01-02-01-21.wav', 'extracted_audio/audio_speech_actors_01-24/Actor_21/03-01-06-02-02-01-21.wav', 'extracted_audio/audio_speech_actors_01-24/Actor_21/03-01-05-02-02-02-21.wav', 'extracted_audio/audio_speech_actors_01-24/Actor_21/03-01-05-01-01-02-21.wav', 'extracted_audio/audio_speech_actors_01-24/Actor_21/03-01-06-01-01-01-21.wav', 'extracted_audio/audio_speech_actors_01-24/Actor_21/03-01-08-01-01-01-21.wav', 'extracted_audio/audio_speech_actors_01-24/Actor_21/03-01-08-02-02-01-21.wav', 'extracted_audio/audio_speech_actors_01-24/Actor_21/03-01-07-02-02-01-21.wav', 'extracted_audio/audio_speech_actors_01-24/Actor_21/03-01-04-02-02-02-21.wav', 'extracted_audio/audio_speech_actors_01-24/Actor_21/03-01-04-01-01-02-21.wav', 'extracted_audio/audio_speech_actors_01-24/Actor_21/03-01-07-01-01-01-21.wav', 'extracted_audio/audio_speech_actors_01-24/Actor_21/03-01-05-02-01-01-21.wav', 'extracted_audio/audio_speech_actors_01-24/Actor_21/03-01-06-02-01-02-21.wav', 'extracted_audio/audio_speech_actors_01-24/Actor_21/03-01-06-01-02-02-21.wav', 'extracted_audio/audio_speech_actors_01-24/Actor_21/03-01-05-01-02-01-21.wav', 'extracted_audio/audio_speech_actors_01-24/Actor_21/03-01-02-01-02-01-21.wav', 'extracted_audio/audio_speech_actors_01-24/Actor_21/03-01-01-01-02-02-21.wav', 'extracted_audio/audio_speech_actors_01-24/Actor_21/03-01-02-02-01-01-21.wav', 'extracted_audio/audio_speech_actors_01-24/Actor_21/03-01-03-01-01-02-21.wav', 'extracted_audio/audio_speech_actors_01-24/Actor_21/03-01-03-02-02-02-21.wav', 'extracted_audio/audio_speech_actors_01-24/Actor_19/03-01-01-01-01-02-19.wav', 'extracted_audio/audio_speech_actors_01-24/Actor_19/03-01-02-01-01-01-19.wav', 'extracted_audio/audio_speech_actors_01-24/Actor_19/03-01-02-02-02-01-19.wav', 'extracted_audio/audio_speech_actors_01-24/Actor_19/03-01-03-01-02-02-19.wav', 'extracted_audio/audio_speech_actors_01-24/Actor_19/03-01-03-02-01-02-19.wav', 'extracted_audio/audio_speech_actors_01-24/Actor_19/03-01-04-02-01-02-19.wav', 'extracted_audio/audio_speech_actors_01-24/Actor_19/03-01-07-02-01-01-19.wav', 'extracted_audio/audio_speech_actors_01-24/Actor_19/03-01-07-01-02-01-19.wav', 'extracted_audio/audio_speech_actors_01-24/Actor_19/03-01-04-01-02-02-19.wav', 'extracted_audio/audio_speech_actors_01-24/Actor_19/03-01-06-02-02-02-19.wav', 'extracted_audio/audio_speech_actors_01-24/Actor_19/03-01-05-02-02-01-19.wav', 'extracted_audio/audio_speech_actors_01-24/Actor_19/03-01-05-01-01-01-19.wav', 'extracted_audio/audio_speech_actors_01-24/Actor_19/03-01-06-01-01-02-19.wav', 'extracted_audio/audio_speech_actors_01-24/Actor_19/03-01-08-01-02-01-19.wav', 'extracted_audio/audio_speech_actors_01-24/Actor_19/03-01-08-02-01-01-19.wav', 'extracted_audio/audio_speech_actors_01-24/Actor_19/03-01-07-02-02-02-19.wav', 'extracted_audio/audio_speech_actors_01-24/Actor_19/03-01-04-02-02-01-19.wav', 'extracted_audio/audio_speech_actors_01-24/Actor_19/03-01-04-01-01-01-19.wav', 'extracted_audio/audio_speech_actors_01-24/Actor_19/03-01-07-01-01-02-19.wav', 'extracted_audio/audio_speech_actors_01-24/Actor_19/03-01-05-02-01-02-19.wav', 'extracted_audio/audio_speech_actors_01-24/Actor_19/03-01-06-02-01-01-19.wav', 'extracted_audio/audio_speech_actors_01-24/Actor_19/03-01-06-01-02-01-19.wav', 'extracted_audio/audio_speech_actors_01-24/Actor_19/03-01-05-01-02-02-19.wav', 'extracted_audio/audio_speech_actors_01-24/Actor_19/03-01-08-01-01-02-19.wav', 'extracted_audio/audio_speech_actors_01-24/Actor_19/03-01-08-02-02-02-19.wav', 'extracted_audio/audio_speech_actors_01-24/Actor_19/03-01-02-01-02-02-19.wav', 'extracted_audio/audio_speech_actors_01-24/Actor_19/03-01-01-01-02-01-19.wav', 'extracted_audio/audio_speech_actors_01-24/Actor_19/03-01-02-02-01-02-19.wav', 'extracted_audio/audio_speech_actors_01-24/Actor_19/03-01-03-01-01-01-19.wav', 'extracted_audio/audio_speech_actors_01-24/Actor_19/03-01-03-02-02-01-19.wav', 'extracted_audio/audio_speech_actors_01-24/Actor_19/03-01-06-01-01-01-19.wav', 'extracted_audio/audio_speech_actors_01-24/Actor_19/03-01-05-01-01-02-19.wav', 'extracted_audio/audio_speech_actors_01-24/Actor_19/03-01-05-02-02-02-19.wav', 'extracted_audio/audio_speech_actors_01-24/Actor_19/03-01-06-02-02-01-19.wav', 'extracted_audio/audio_speech_actors_01-24/Actor_19/03-01-04-01-02-01-19.wav', 'extracted_audio/audio_speech_actors_01-24/Actor_19/03-01-07-01-02-02-19.wav', 'extracted_audio/audio_speech_actors_01-24/Actor_19/03-01-07-02-01-02-19.wav', 'extracted_audio/audio_speech_actors_01-24/Actor_19/03-01-04-02-01-01-19.wav', 'extracted_audio/audio_speech_actors_01-24/Actor_19/03-01-08-02-01-02-19.wav', 'extracted_audio/audio_speech_actors_01-24/Actor_19/03-01-08-01-02-02-19.wav', 'extracted_audio/audio_speech_actors_01-24/Actor_19/03-01-03-02-01-01-19.wav', 'extracted_audio/audio_speech_actors_01-24/Actor_19/03-01-03-01-02-01-19.wav', 'extracted_audio/audio_speech_actors_01-24/Actor_19/03-01-02-02-02-02-19.wav', 'extracted_audio/audio_speech_actors_01-24/Actor_19/03-01-02-01-01-02-19.wav', 'extracted_audio/audio_speech_actors_01-24/Actor_19/03-01-01-01-01-01-19.wav', 'extracted_audio/audio_speech_actors_01-24/Actor_19/03-01-03-02-02-02-19.wav', 'extracted_audio/audio_speech_actors_01-24/Actor_19/03-01-03-01-01-02-19.wav', 'extracted_audio/audio_speech_actors_01-24/Actor_19/03-01-02-02-01-01-19.wav', 'extracted_audio/audio_speech_actors_01-24/Actor_19/03-01-01-01-02-02-19.wav', 'extracted_audio/audio_speech_actors_01-24/Actor_19/03-01-02-01-02-01-19.wav', 'extracted_audio/audio_speech_actors_01-24/Actor_19/03-01-05-01-02-01-19.wav', 'extracted_audio/audio_speech_actors_01-24/Actor_19/03-01-06-01-02-02-19.wav', 'extracted_audio/audio_speech_actors_01-24/Actor_19/03-01-06-02-01-02-19.wav', 'extracted_audio/audio_speech_actors_01-24/Actor_19/03-01-05-02-01-01-19.wav', 'extracted_audio/audio_speech_actors_01-24/Actor_19/03-01-07-01-01-01-19.wav', 'extracted_audio/audio_speech_actors_01-24/Actor_19/03-01-04-01-01-02-19.wav', 'extracted_audio/audio_speech_actors_01-24/Actor_19/03-01-04-02-02-02-19.wav', 'extracted_audio/audio_speech_actors_01-24/Actor_19/03-01-07-02-02-01-19.wav', 'extracted_audio/audio_speech_actors_01-24/Actor_19/03-01-08-02-02-01-19.wav', 'extracted_audio/audio_speech_actors_01-24/Actor_19/03-01-08-01-01-01-19.wav', 'extracted_audio/audio_speech_actors_01-24/Actor_10/03-01-03-02-02-02-10.wav', 'extracted_audio/audio_speech_actors_01-24/Actor_10/03-01-03-01-01-02-10.wav', 'extracted_audio/audio_speech_actors_01-24/Actor_10/03-01-02-02-01-01-10.wav', 'extracted_audio/audio_speech_actors_01-24/Actor_10/03-01-02-01-02-01-10.wav', 'extracted_audio/audio_speech_actors_01-24/Actor_10/03-01-01-01-02-02-10.wav', 'extracted_audio/audio_speech_actors_01-24/Actor_10/03-01-06-01-02-02-10.wav', 'extracted_audio/audio_speech_actors_01-24/Actor_10/03-01-05-01-02-01-10.wav', 'extracted_audio/audio_speech_actors_01-24/Actor_10/03-01-05-02-01-01-10.wav', 'extracted_audio/audio_speech_actors_01-24/Actor_10/03-01-06-02-01-02-10.wav', 'extracted_audio/audio_speech_actors_01-24/Actor_10/03-01-04-01-01-02-10.wav', 'extracted_audio/audio_speech_actors_01-24/Actor_10/03-01-07-01-01-01-10.wav', 'extracted_audio/audio_speech_actors_01-24/Actor_10/03-01-07-02-02-01-10.wav', 'extracted_audio/audio_speech_actors_01-24/Actor_10/03-01-04-02-02-02-10.wav', 'extracted_audio/audio_speech_actors_01-24/Actor_10/03-01-08-02-02-01-10.wav', 'extracted_audio/audio_speech_actors_01-24/Actor_10/03-01-08-01-01-01-10.wav', 'extracted_audio/audio_speech_actors_01-24/Actor_10/03-01-05-01-01-02-10.wav', 'extracted_audio/audio_speech_actors_01-24/Actor_10/03-01-06-01-01-01-10.wav', 'extracted_audio/audio_speech_actors_01-24/Actor_10/03-01-06-02-02-01-10.wav', 'extracted_audio/audio_speech_actors_01-24/Actor_10/03-01-05-02-02-02-10.wav', 'extracted_audio/audio_speech_actors_01-24/Actor_10/03-01-07-01-02-02-10.wav', 'extracted_audio/audio_speech_actors_01-24/Actor_10/03-01-04-01-02-01-10.wav', 'extracted_audio/audio_speech_actors_01-24/Actor_10/03-01-04-02-01-01-10.wav', 'extracted_audio/audio_speech_actors_01-24/Actor_10/03-01-07-02-01-02-10.wav', 'extracted_audio/audio_speech_actors_01-24/Actor_10/03-01-08-02-01-02-10.wav', 'extracted_audio/audio_speech_actors_01-24/Actor_10/03-01-08-01-02-02-10.wav', 'extracted_audio/audio_speech_actors_01-24/Actor_10/03-01-03-02-01-01-10.wav', 'extracted_audio/audio_speech_actors_01-24/Actor_10/03-01-03-01-02-01-10.wav', 'extracted_audio/audio_speech_actors_01-24/Actor_10/03-01-02-02-02-02-10.wav', 'extracted_audio/audio_speech_actors_01-24/Actor_10/03-01-01-01-01-01-10.wav', 'extracted_audio/audio_speech_actors_01-24/Actor_10/03-01-02-01-01-02-10.wav', 'extracted_audio/audio_speech_actors_01-24/Actor_10/03-01-04-02-02-01-10.wav', 'extracted_audio/audio_speech_actors_01-24/Actor_10/03-01-07-02-02-02-10.wav', 'extracted_audio/audio_speech_actors_01-24/Actor_10/03-01-07-01-01-02-10.wav', 'extracted_audio/audio_speech_actors_01-24/Actor_10/03-01-04-01-01-01-10.wav', 'extracted_audio/audio_speech_actors_01-24/Actor_10/03-01-06-02-01-01-10.wav', 'extracted_audio/audio_speech_actors_01-24/Actor_10/03-01-05-02-01-02-10.wav', 'extracted_audio/audio_speech_actors_01-24/Actor_10/03-01-05-01-02-02-10.wav', 'extracted_audio/audio_speech_actors_01-24/Actor_10/03-01-06-01-02-01-10.wav', 'extracted_audio/audio_speech_actors_01-24/Actor_10/03-01-08-01-01-02-10.wav', 'extracted_audio/audio_speech_actors_01-24/Actor_10/03-01-08-02-02-02-10.wav', 'extracted_audio/audio_speech_actors_01-24/Actor_10/03-01-01-01-02-01-10.wav', 'extracted_audio/audio_speech_actors_01-24/Actor_10/03-01-02-01-02-02-10.wav', 'extracted_audio/audio_speech_actors_01-24/Actor_10/03-01-02-02-01-02-10.wav', 'extracted_audio/audio_speech_actors_01-24/Actor_10/03-01-03-01-01-01-10.wav', 'extracted_audio/audio_speech_actors_01-24/Actor_10/03-01-03-02-02-01-10.wav', 'extracted_audio/audio_speech_actors_01-24/Actor_10/03-01-02-01-01-01-10.wav', 'extracted_audio/audio_speech_actors_01-24/Actor_10/03-01-01-01-01-02-10.wav', 'extracted_audio/audio_speech_actors_01-24/Actor_10/03-01-02-02-02-01-10.wav', 'extracted_audio/audio_speech_actors_01-24/Actor_10/03-01-03-01-02-02-10.wav', 'extracted_audio/audio_speech_actors_01-24/Actor_10/03-01-03-02-01-02-10.wav', 'extracted_audio/audio_speech_actors_01-24/Actor_10/03-01-07-02-01-01-10.wav', 'extracted_audio/audio_speech_actors_01-24/Actor_10/03-01-04-02-01-02-10.wav', 'extracted_audio/audio_speech_actors_01-24/Actor_10/03-01-04-01-02-02-10.wav', 'extracted_audio/audio_speech_actors_01-24/Actor_10/03-01-07-01-02-01-10.wav', 'extracted_audio/audio_speech_actors_01-24/Actor_10/03-01-05-02-02-01-10.wav', 'extracted_audio/audio_speech_actors_01-24/Actor_10/03-01-06-02-02-02-10.wav', 'extracted_audio/audio_speech_actors_01-24/Actor_10/03-01-06-01-01-02-10.wav', 'extracted_audio/audio_speech_actors_01-24/Actor_10/03-01-05-01-01-01-10.wav', 'extracted_audio/audio_speech_actors_01-24/Actor_10/03-01-08-01-02-01-10.wav', 'extracted_audio/audio_speech_actors_01-24/Actor_10/03-01-08-02-01-01-10.wav', 'extracted_audio/audio_speech_actors_01-24/Actor_17/03-01-07-02-02-01-17.wav', 'extracted_audio/audio_speech_actors_01-24/Actor_17/03-01-04-02-02-02-17.wav', 'extracted_audio/audio_speech_actors_01-24/Actor_17/03-01-04-01-01-02-17.wav', 'extracted_audio/audio_speech_actors_01-24/Actor_17/03-01-07-01-01-01-17.wav', 'extracted_audio/audio_speech_actors_01-24/Actor_17/03-01-05-02-01-01-17.wav', 'extracted_audio/audio_speech_actors_01-24/Actor_17/03-01-06-02-01-02-17.wav', 'extracted_audio/audio_speech_actors_01-24/Actor_17/03-01-06-01-02-02-17.wav', 'extracted_audio/audio_speech_actors_01-24/Actor_17/03-01-05-01-02-01-17.wav', 'extracted_audio/audio_speech_actors_01-24/Actor_17/03-01-08-01-01-01-17.wav', 'extracted_audio/audio_speech_actors_01-24/Actor_17/03-01-08-02-02-01-17.wav', 'extracted_audio/audio_speech_actors_01-24/Actor_17/03-01-02-01-02-01-17.wav', 'extracted_audio/audio_speech_actors_01-24/Actor_17/03-01-01-01-02-02-17.wav', 'extracted_audio/audio_speech_actors_01-24/Actor_17/03-01-02-02-01-01-17.wav', 'extracted_audio/audio_speech_actors_01-24/Actor_17/03-01-03-01-01-02-17.wav', 'extracted_audio/audio_speech_actors_01-24/Actor_17/03-01-03-02-02-02-17.wav', 'extracted_audio/audio_speech_actors_01-24/Actor_17/03-01-01-01-01-01-17.wav', 'extracted_audio/audio_speech_actors_01-24/Actor_17/03-01-02-01-01-02-17.wav', 'extracted_audio/audio_speech_actors_01-24/Actor_17/03-01-02-02-02-02-17.wav', 'extracted_audio/audio_speech_actors_01-24/Actor_17/03-01-03-01-02-01-17.wav', 'extracted_audio/audio_speech_actors_01-24/Actor_17/03-01-03-02-01-01-17.wav', 'extracted_audio/audio_speech_actors_01-24/Actor_17/03-01-04-02-01-01-17.wav', 'extracted_audio/audio_speech_actors_01-24/Actor_17/03-01-07-02-01-02-17.wav', 'extracted_audio/audio_speech_actors_01-24/Actor_17/03-01-07-01-02-02-17.wav', 'extracted_audio/audio_speech_actors_01-24/Actor_17/03-01-04-01-02-01-17.wav', 'extracted_audio/audio_speech_actors_01-24/Actor_17/03-01-06-02-02-01-17.wav', 'extracted_audio/audio_speech_actors_01-24/Actor_17/03-01-05-02-02-02-17.wav', 'extracted_audio/audio_speech_actors_01-24/Actor_17/03-01-05-01-01-02-17.wav', 'extracted_audio/audio_speech_actors_01-24/Actor_17/03-01-06-01-01-01-17.wav', 'extracted_audio/audio_speech_actors_01-24/Actor_17/03-01-08-01-02-02-17.wav', 'extracted_audio/audio_speech_actors_01-24/Actor_17/03-01-08-02-01-02-17.wav', 'extracted_audio/audio_speech_actors_01-24/Actor_17/03-01-03-02-02-01-17.wav', 'extracted_audio/audio_speech_actors_01-24/Actor_17/03-01-03-01-01-01-17.wav', 'extracted_audio/audio_speech_actors_01-24/Actor_17/03-01-02-02-01-02-17.wav', 'extracted_audio/audio_speech_actors_01-24/Actor_17/03-01-01-01-02-01-17.wav', 'extracted_audio/audio_speech_actors_01-24/Actor_17/03-01-02-01-02-02-17.wav', 'extracted_audio/audio_speech_actors_01-24/Actor_17/03-01-05-01-02-02-17.wav', 'extracted_audio/audio_speech_actors_01-24/Actor_17/03-01-06-01-02-01-17.wav', 'extracted_audio/audio_speech_actors_01-24/Actor_17/03-01-06-02-01-01-17.wav', 'extracted_audio/audio_speech_actors_01-24/Actor_17/03-01-05-02-01-02-17.wav', 'extracted_audio/audio_speech_actors_01-24/Actor_17/03-01-07-01-01-02-17.wav', 'extracted_audio/audio_speech_actors_01-24/Actor_17/03-01-04-01-01-01-17.wav', 'extracted_audio/audio_speech_actors_01-24/Actor_17/03-01-04-02-02-01-17.wav', 'extracted_audio/audio_speech_actors_01-24/Actor_17/03-01-07-02-02-02-17.wav', 'extracted_audio/audio_speech_actors_01-24/Actor_17/03-01-08-02-02-02-17.wav', 'extracted_audio/audio_speech_actors_01-24/Actor_17/03-01-08-01-01-02-17.wav', 'extracted_audio/audio_speech_actors_01-24/Actor_17/03-01-06-01-01-02-17.wav', 'extracted_audio/audio_speech_actors_01-24/Actor_17/03-01-05-01-01-01-17.wav', 'extracted_audio/audio_speech_actors_01-24/Actor_17/03-01-05-02-02-01-17.wav', 'extracted_audio/audio_speech_actors_01-24/Actor_17/03-01-06-02-02-02-17.wav', 'extracted_audio/audio_speech_actors_01-24/Actor_17/03-01-04-01-02-02-17.wav', 'extracted_audio/audio_speech_actors_01-24/Actor_17/03-01-07-01-02-01-17.wav', 'extracted_audio/audio_speech_actors_01-24/Actor_17/03-01-07-02-01-01-17.wav', 'extracted_audio/audio_speech_actors_01-24/Actor_17/03-01-04-02-01-02-17.wav', 'extracted_audio/audio_speech_actors_01-24/Actor_17/03-01-08-02-01-01-17.wav', 'extracted_audio/audio_speech_actors_01-24/Actor_17/03-01-08-01-02-01-17.wav', 'extracted_audio/audio_speech_actors_01-24/Actor_17/03-01-03-02-01-02-17.wav', 'extracted_audio/audio_speech_actors_01-24/Actor_17/03-01-03-01-02-02-17.wav', 'extracted_audio/audio_speech_actors_01-24/Actor_17/03-01-02-02-02-01-17.wav', 'extracted_audio/audio_speech_actors_01-24/Actor_17/03-01-02-01-01-01-17.wav', 'extracted_audio/audio_speech_actors_01-24/Actor_17/03-01-01-01-01-02-17.wav', 'extracted_audio/audio_speech_actors_01-24/Actor_04/03-01-03-02-02-02-04.wav', 'extracted_audio/audio_speech_actors_01-24/Actor_04/03-01-03-01-01-02-04.wav', 'extracted_audio/audio_speech_actors_01-24/Actor_04/03-01-02-02-01-01-04.wav', 'extracted_audio/audio_speech_actors_01-24/Actor_04/03-01-01-01-02-02-04.wav', 'extracted_audio/audio_speech_actors_01-24/Actor_04/03-01-02-01-02-01-04.wav', 'extracted_audio/audio_speech_actors_01-24/Actor_04/03-01-05-01-02-01-04.wav', 'extracted_audio/audio_speech_actors_01-24/Actor_04/03-01-06-01-02-02-04.wav', 'extracted_audio/audio_speech_actors_01-24/Actor_04/03-01-06-02-01-02-04.wav', 'extracted_audio/audio_speech_actors_01-24/Actor_04/03-01-05-02-01-01-04.wav', 'extracted_audio/audio_speech_actors_01-24/Actor_04/03-01-07-01-01-01-04.wav', 'extracted_audio/audio_speech_actors_01-24/Actor_04/03-01-04-01-01-02-04.wav', 'extracted_audio/audio_speech_actors_01-24/Actor_04/03-01-04-02-02-02-04.wav', 'extracted_audio/audio_speech_actors_01-24/Actor_04/03-01-07-02-02-01-04.wav', 'extracted_audio/audio_speech_actors_01-24/Actor_04/03-01-08-02-02-01-04.wav', 'extracted_audio/audio_speech_actors_01-24/Actor_04/03-01-08-01-01-01-04.wav', 'extracted_audio/audio_speech_actors_01-24/Actor_04/03-01-06-01-01-01-04.wav', 'extracted_audio/audio_speech_actors_01-24/Actor_04/03-01-05-01-01-02-04.wav', 'extracted_audio/audio_speech_actors_01-24/Actor_04/03-01-05-02-02-02-04.wav', 'extracted_audio/audio_speech_actors_01-24/Actor_04/03-01-06-02-02-01-04.wav', 'extracted_audio/audio_speech_actors_01-24/Actor_04/03-01-04-01-02-01-04.wav', 'extracted_audio/audio_speech_actors_01-24/Actor_04/03-01-07-01-02-02-04.wav', 'extracted_audio/audio_speech_actors_01-24/Actor_04/03-01-07-02-01-02-04.wav', 'extracted_audio/audio_speech_actors_01-24/Actor_04/03-01-04-02-01-01-04.wav', 'extracted_audio/audio_speech_actors_01-24/Actor_04/03-01-08-02-01-02-04.wav', 'extracted_audio/audio_speech_actors_01-24/Actor_04/03-01-08-01-02-02-04.wav', 'extracted_audio/audio_speech_actors_01-24/Actor_04/03-01-03-02-01-01-04.wav', 'extracted_audio/audio_speech_actors_01-24/Actor_04/03-01-03-01-02-01-04.wav', 'extracted_audio/audio_speech_actors_01-24/Actor_04/03-01-02-02-02-02-04.wav', 'extracted_audio/audio_speech_actors_01-24/Actor_04/03-01-02-01-01-02-04.wav', 'extracted_audio/audio_speech_actors_01-24/Actor_04/03-01-01-01-01-01-04.wav', 'extracted_audio/audio_speech_actors_01-24/Actor_04/03-01-07-02-02-02-04.wav', 'extracted_audio/audio_speech_actors_01-24/Actor_04/03-01-04-02-02-01-04.wav', 'extracted_audio/audio_speech_actors_01-24/Actor_04/03-01-04-01-01-01-04.wav', 'extracted_audio/audio_speech_actors_01-24/Actor_04/03-01-07-01-01-02-04.wav', 'extracted_audio/audio_speech_actors_01-24/Actor_04/03-01-05-02-01-02-04.wav', 'extracted_audio/audio_speech_actors_01-24/Actor_04/03-01-06-02-01-01-04.wav', 'extracted_audio/audio_speech_actors_01-24/Actor_04/03-01-06-01-02-01-04.wav', 'extracted_audio/audio_speech_actors_01-24/Actor_04/03-01-05-01-02-02-04.wav', 'extracted_audio/audio_speech_actors_01-24/Actor_04/03-01-08-01-01-02-04.wav', 'extracted_audio/audio_speech_actors_01-24/Actor_04/03-01-08-02-02-02-04.wav', 'extracted_audio/audio_speech_actors_01-24/Actor_04/03-01-02-01-02-02-04.wav', 'extracted_audio/audio_speech_actors_01-24/Actor_04/03-01-01-01-02-01-04.wav', 'extracted_audio/audio_speech_actors_01-24/Actor_04/03-01-02-02-01-02-04.wav', 'extracted_audio/audio_speech_actors_01-24/Actor_04/03-01-03-01-01-01-04.wav', 'extracted_audio/audio_speech_actors_01-24/Actor_04/03-01-03-02-02-01-04.wav', 'extracted_audio/audio_speech_actors_01-24/Actor_04/03-01-01-01-01-02-04.wav', 'extracted_audio/audio_speech_actors_01-24/Actor_04/03-01-02-01-01-01-04.wav', 'extracted_audio/audio_speech_actors_01-24/Actor_04/03-01-02-02-02-01-04.wav', 'extracted_audio/audio_speech_actors_01-24/Actor_04/03-01-03-01-02-02-04.wav', 'extracted_audio/audio_speech_actors_01-24/Actor_04/03-01-03-02-01-02-04.wav', 'extracted_audio/audio_speech_actors_01-24/Actor_04/03-01-04-02-01-02-04.wav', 'extracted_audio/audio_speech_actors_01-24/Actor_04/03-01-07-02-01-01-04.wav', 'extracted_audio/audio_speech_actors_01-24/Actor_04/03-01-07-01-02-01-04.wav', 'extracted_audio/audio_speech_actors_01-24/Actor_04/03-01-04-01-02-02-04.wav', 'extracted_audio/audio_speech_actors_01-24/Actor_04/03-01-06-02-02-02-04.wav', 'extracted_audio/audio_speech_actors_01-24/Actor_04/03-01-05-02-02-01-04.wav', 'extracted_audio/audio_speech_actors_01-24/Actor_04/03-01-05-01-01-01-04.wav', 'extracted_audio/audio_speech_actors_01-24/Actor_04/03-01-06-01-01-02-04.wav', 'extracted_audio/audio_speech_actors_01-24/Actor_04/03-01-08-01-02-01-04.wav', 'extracted_audio/audio_speech_actors_01-24/Actor_04/03-01-08-02-01-01-04.wav', 'extracted_audio/audio_speech_actors_01-24/Actor_03/03-01-04-02-02-02-03.wav', 'extracted_audio/audio_speech_actors_01-24/Actor_03/03-01-07-02-02-01-03.wav', 'extracted_audio/audio_speech_actors_01-24/Actor_03/03-01-07-01-01-01-03.wav', 'extracted_audio/audio_speech_actors_01-24/Actor_03/03-01-04-01-01-02-03.wav', 'extracted_audio/audio_speech_actors_01-24/Actor_03/03-01-06-02-01-02-03.wav', 'extracted_audio/audio_speech_actors_01-24/Actor_03/03-01-05-02-01-01-03.wav', 'extracted_audio/audio_speech_actors_01-24/Actor_03/03-01-05-01-02-01-03.wav', 'extracted_audio/audio_speech_actors_01-24/Actor_03/03-01-06-01-02-02-03.wav', 'extracted_audio/audio_speech_actors_01-24/Actor_03/03-01-08-01-01-01-03.wav', 'extracted_audio/audio_speech_actors_01-24/Actor_03/03-01-08-02-02-01-03.wav', 'extracted_audio/audio_speech_actors_01-24/Actor_03/03-01-01-01-02-02-03.wav', 'extracted_audio/audio_speech_actors_01-24/Actor_03/03-01-02-01-02-01-03.wav', 'extracted_audio/audio_speech_actors_01-24/Actor_03/03-01-02-02-01-01-03.wav', 'extracted_audio/audio_speech_actors_01-24/Actor_03/03-01-03-01-01-02-03.wav', 'extracted_audio/audio_speech_actors_01-24/Actor_03/03-01-03-02-02-02-03.wav', 'extracted_audio/audio_speech_actors_01-24/Actor_03/03-01-02-01-01-02-03.wav', 'extracted_audio/audio_speech_actors_01-24/Actor_03/03-01-01-01-01-01-03.wav', 'extracted_audio/audio_speech_actors_01-24/Actor_03/03-01-02-02-02-02-03.wav', 'extracted_audio/audio_speech_actors_01-24/Actor_03/03-01-03-01-02-01-03.wav', 'extracted_audio/audio_speech_actors_01-24/Actor_03/03-01-03-02-01-01-03.wav', 'extracted_audio/audio_speech_actors_01-24/Actor_03/03-01-07-02-01-02-03.wav', 'extracted_audio/audio_speech_actors_01-24/Actor_03/03-01-04-02-01-01-03.wav', 'extracted_audio/audio_speech_actors_01-24/Actor_03/03-01-04-01-02-01-03.wav', 'extracted_audio/audio_speech_actors_01-24/Actor_03/03-01-07-01-02-02-03.wav', 'extracted_audio/audio_speech_actors_01-24/Actor_03/03-01-05-02-02-02-03.wav', 'extracted_audio/audio_speech_actors_01-24/Actor_03/03-01-06-02-02-01-03.wav', 'extracted_audio/audio_speech_actors_01-24/Actor_03/03-01-06-01-01-01-03.wav', 'extracted_audio/audio_speech_actors_01-24/Actor_03/03-01-05-01-01-02-03.wav', 'extracted_audio/audio_speech_actors_01-24/Actor_03/03-01-08-01-02-02-03.wav', 'extracted_audio/audio_speech_actors_01-24/Actor_03/03-01-08-02-01-02-03.wav', 'extracted_audio/audio_speech_actors_01-24/Actor_03/03-01-03-02-02-01-03.wav', 'extracted_audio/audio_speech_actors_01-24/Actor_03/03-01-03-01-01-01-03.wav', 'extracted_audio/audio_speech_actors_01-24/Actor_03/03-01-02-02-01-02-03.wav', 'extracted_audio/audio_speech_actors_01-24/Actor_03/03-01-02-01-02-02-03.wav', 'extracted_audio/audio_speech_actors_01-24/Actor_03/03-01-01-01-02-01-03.wav', 'extracted_audio/audio_speech_actors_01-24/Actor_03/03-01-06-01-02-01-03.wav', 'extracted_audio/audio_speech_actors_01-24/Actor_03/03-01-05-01-02-02-03.wav', 'extracted_audio/audio_speech_actors_01-24/Actor_03/03-01-05-02-01-02-03.wav', 'extracted_audio/audio_speech_actors_01-24/Actor_03/03-01-06-02-01-01-03.wav', 'extracted_audio/audio_speech_actors_01-24/Actor_03/03-01-04-01-01-01-03.wav', 'extracted_audio/audio_speech_actors_01-24/Actor_03/03-01-07-01-01-02-03.wav', 'extracted_audio/audio_speech_actors_01-24/Actor_03/03-01-07-02-02-02-03.wav', 'extracted_audio/audio_speech_actors_01-24/Actor_03/03-01-04-02-02-01-03.wav', 'extracted_audio/audio_speech_actors_01-24/Actor_03/03-01-08-02-02-02-03.wav', 'extracted_audio/audio_speech_actors_01-24/Actor_03/03-01-08-01-01-02-03.wav', 'extracted_audio/audio_speech_actors_01-24/Actor_03/03-01-05-01-01-01-03.wav', 'extracted_audio/audio_speech_actors_01-24/Actor_03/03-01-06-01-01-02-03.wav', 'extracted_audio/audio_speech_actors_01-24/Actor_03/03-01-06-02-02-02-03.wav', 'extracted_audio/audio_speech_actors_01-24/Actor_03/03-01-05-02-02-01-03.wav', 'extracted_audio/audio_speech_actors_01-24/Actor_03/03-01-07-01-02-01-03.wav', 'extracted_audio/audio_speech_actors_01-24/Actor_03/03-01-04-01-02-02-03.wav', 'extracted_audio/audio_speech_actors_01-24/Actor_03/03-01-04-02-01-02-03.wav', 'extracted_audio/audio_speech_actors_01-24/Actor_03/03-01-07-02-01-01-03.wav', 'extracted_audio/audio_speech_actors_01-24/Actor_03/03-01-08-02-01-01-03.wav', 'extracted_audio/audio_speech_actors_01-24/Actor_03/03-01-08-01-02-01-03.wav', 'extracted_audio/audio_speech_actors_01-24/Actor_03/03-01-03-02-01-02-03.wav', 'extracted_audio/audio_speech_actors_01-24/Actor_03/03-01-03-01-02-02-03.wav', 'extracted_audio/audio_speech_actors_01-24/Actor_03/03-01-02-02-02-01-03.wav', 'extracted_audio/audio_speech_actors_01-24/Actor_03/03-01-01-01-01-02-03.wav', 'extracted_audio/audio_speech_actors_01-24/Actor_03/03-01-02-01-01-01-03.wav', 'extracted_audio/audio_speech_actors_01-24/Actor_02/03-01-06-01-02-02-02.wav', 'extracted_audio/audio_speech_actors_01-24/Actor_02/03-01-05-01-02-01-02.wav', 'extracted_audio/audio_speech_actors_01-24/Actor_02/03-01-05-02-01-01-02.wav', 'extracted_audio/audio_speech_actors_01-24/Actor_02/03-01-06-02-01-02-02.wav', 'extracted_audio/audio_speech_actors_01-24/Actor_02/03-01-04-01-01-02-02.wav', 'extracted_audio/audio_speech_actors_01-24/Actor_02/03-01-07-01-01-01-02.wav', 'extracted_audio/audio_speech_actors_01-24/Actor_02/03-01-07-02-02-01-02.wav', 'extracted_audio/audio_speech_actors_01-24/Actor_02/03-01-04-02-02-02-02.wav', 'extracted_audio/audio_speech_actors_01-24/Actor_02/03-01-08-02-02-01-02.wav', 'extracted_audio/audio_speech_actors_01-24/Actor_02/03-01-08-01-01-01-02.wav', 'extracted_audio/audio_speech_actors_01-24/Actor_02/03-01-03-02-02-02-02.wav', 'extracted_audio/audio_speech_actors_01-24/Actor_02/03-01-03-01-01-02-02.wav', 'extracted_audio/audio_speech_actors_01-24/Actor_02/03-01-02-02-01-01-02.wav', 'extracted_audio/audio_speech_actors_01-24/Actor_02/03-01-02-01-02-01-02.wav', 'extracted_audio/audio_speech_actors_01-24/Actor_02/03-01-01-01-02-02-02.wav', 'extracted_audio/audio_speech_actors_01-24/Actor_02/03-01-03-02-01-01-02.wav', 'extracted_audio/audio_speech_actors_01-24/Actor_02/03-01-03-01-02-01-02.wav', 'extracted_audio/audio_speech_actors_01-24/Actor_02/03-01-02-02-02-02-02.wav', 'extracted_audio/audio_speech_actors_01-24/Actor_02/03-01-01-01-01-01-02.wav', 'extracted_audio/audio_speech_actors_01-24/Actor_02/03-01-02-01-01-02-02.wav', 'extracted_audio/audio_speech_actors_01-24/Actor_02/03-01-05-01-01-02-02.wav', 'extracted_audio/audio_speech_actors_01-24/Actor_02/03-01-06-01-01-01-02.wav', 'extracted_audio/audio_speech_actors_01-24/Actor_02/03-01-06-02-02-01-02.wav', 'extracted_audio/audio_speech_actors_01-24/Actor_02/03-01-05-02-02-02-02.wav', 'extracted_audio/audio_speech_actors_01-24/Actor_02/03-01-07-01-02-02-02.wav', 'extracted_audio/audio_speech_actors_01-24/Actor_02/03-01-04-01-02-01-02.wav', 'extracted_audio/audio_speech_actors_01-24/Actor_02/03-01-04-02-01-01-02.wav', 'extracted_audio/audio_speech_actors_01-24/Actor_02/03-01-07-02-01-02-02.wav', 'extracted_audio/audio_speech_actors_01-24/Actor_02/03-01-08-02-01-02-02.wav', 'extracted_audio/audio_speech_actors_01-24/Actor_02/03-01-08-01-02-02-02.wav', 'extracted_audio/audio_speech_actors_01-24/Actor_02/03-01-01-01-02-01-02.wav', 'extracted_audio/audio_speech_actors_01-24/Actor_02/03-01-02-01-02-02-02.wav', 'extracted_audio/audio_speech_actors_01-24/Actor_02/03-01-02-02-01-02-02.wav', 'extracted_audio/audio_speech_actors_01-24/Actor_02/03-01-03-01-01-01-02.wav', 'extracted_audio/audio_speech_actors_01-24/Actor_02/03-01-03-02-02-01-02.wav', 'extracted_audio/audio_speech_actors_01-24/Actor_02/03-01-04-02-02-01-02.wav', 'extracted_audio/audio_speech_actors_01-24/Actor_02/03-01-07-02-02-02-02.wav', 'extracted_audio/audio_speech_actors_01-24/Actor_02/03-01-07-01-01-02-02.wav', 'extracted_audio/audio_speech_actors_01-24/Actor_02/03-01-04-01-01-01-02.wav', 'extracted_audio/audio_speech_actors_01-24/Actor_02/03-01-06-02-01-01-02.wav', 'extracted_audio/audio_speech_actors_01-24/Actor_02/03-01-05-02-01-02-02.wav', 'extracted_audio/audio_speech_actors_01-24/Actor_02/03-01-05-01-02-02-02.wav', 'extracted_audio/audio_speech_actors_01-24/Actor_02/03-01-06-01-02-01-02.wav', 'extracted_audio/audio_speech_actors_01-24/Actor_02/03-01-08-01-01-02-02.wav', 'extracted_audio/audio_speech_actors_01-24/Actor_02/03-01-08-02-02-02-02.wav', 'extracted_audio/audio_speech_actors_01-24/Actor_02/03-01-07-02-01-01-02.wav', 'extracted_audio/audio_speech_actors_01-24/Actor_02/03-01-04-02-01-02-02.wav', 'extracted_audio/audio_speech_actors_01-24/Actor_02/03-01-04-01-02-02-02.wav', 'extracted_audio/audio_speech_actors_01-24/Actor_02/03-01-07-01-02-01-02.wav', 'extracted_audio/audio_speech_actors_01-24/Actor_02/03-01-05-02-02-01-02.wav', 'extracted_audio/audio_speech_actors_01-24/Actor_02/03-01-06-02-02-02-02.wav', 'extracted_audio/audio_speech_actors_01-24/Actor_02/03-01-06-01-01-02-02.wav', 'extracted_audio/audio_speech_actors_01-24/Actor_02/03-01-05-01-01-01-02.wav', 'extracted_audio/audio_speech_actors_01-24/Actor_02/03-01-08-01-02-01-02.wav', 'extracted_audio/audio_speech_actors_01-24/Actor_02/03-01-08-02-01-01-02.wav', 'extracted_audio/audio_speech_actors_01-24/Actor_02/03-01-02-01-01-01-02.wav', 'extracted_audio/audio_speech_actors_01-24/Actor_02/03-01-01-01-01-02-02.wav', 'extracted_audio/audio_speech_actors_01-24/Actor_02/03-01-02-02-02-01-02.wav', 'extracted_audio/audio_speech_actors_01-24/Actor_02/03-01-03-01-02-02-02.wav', 'extracted_audio/audio_speech_actors_01-24/Actor_02/03-01-03-02-01-02-02.wav', 'extracted_audio/audio_speech_actors_01-24/Actor_05/03-01-02-01-02-01-05.wav', 'extracted_audio/audio_speech_actors_01-24/Actor_05/03-01-01-01-02-02-05.wav', 'extracted_audio/audio_speech_actors_01-24/Actor_05/03-01-02-02-01-01-05.wav', 'extracted_audio/audio_speech_actors_01-24/Actor_05/03-01-03-01-01-02-05.wav', 'extracted_audio/audio_speech_actors_01-24/Actor_05/03-01-03-02-02-02-05.wav', 'extracted_audio/audio_speech_actors_01-24/Actor_05/03-01-07-02-02-01-05.wav', 'extracted_audio/audio_speech_actors_01-24/Actor_05/03-01-04-02-02-02-05.wav', 'extracted_audio/audio_speech_actors_01-24/Actor_05/03-01-04-01-01-02-05.wav', 'extracted_audio/audio_speech_actors_01-24/Actor_05/03-01-07-01-01-01-05.wav', 'extracted_audio/audio_speech_actors_01-24/Actor_05/03-01-05-02-01-01-05.wav', 'extracted_audio/audio_speech_actors_01-24/Actor_05/03-01-06-02-01-02-05.wav', 'extracted_audio/audio_speech_actors_01-24/Actor_05/03-01-06-01-02-02-05.wav', 'extracted_audio/audio_speech_actors_01-24/Actor_05/03-01-05-01-02-01-05.wav', 'extracted_audio/audio_speech_actors_01-24/Actor_05/03-01-08-01-01-01-05.wav', 'extracted_audio/audio_speech_actors_01-24/Actor_05/03-01-08-02-02-01-05.wav', 'extracted_audio/audio_speech_actors_01-24/Actor_05/03-01-04-02-01-01-05.wav', 'extracted_audio/audio_speech_actors_01-24/Actor_05/03-01-07-02-01-02-05.wav', 'extracted_audio/audio_speech_actors_01-24/Actor_05/03-01-07-01-02-02-05.wav', 'extracted_audio/audio_speech_actors_01-24/Actor_05/03-01-04-01-02-01-05.wav', 'extracted_audio/audio_speech_actors_01-24/Actor_05/03-01-06-02-02-01-05.wav', 'extracted_audio/audio_speech_actors_01-24/Actor_05/03-01-05-02-02-02-05.wav', 'extracted_audio/audio_speech_actors_01-24/Actor_05/03-01-05-01-01-02-05.wav', 'extracted_audio/audio_speech_actors_01-24/Actor_05/03-01-06-01-01-01-05.wav', 'extracted_audio/audio_speech_actors_01-24/Actor_05/03-01-08-01-02-02-05.wav', 'extracted_audio/audio_speech_actors_01-24/Actor_05/03-01-08-02-01-02-05.wav', 'extracted_audio/audio_speech_actors_01-24/Actor_05/03-01-01-01-01-01-05.wav', 'extracted_audio/audio_speech_actors_01-24/Actor_05/03-01-02-01-01-02-05.wav', 'extracted_audio/audio_speech_actors_01-24/Actor_05/03-01-02-02-02-02-05.wav', 'extracted_audio/audio_speech_actors_01-24/Actor_05/03-01-03-01-02-01-05.wav', 'extracted_audio/audio_speech_actors_01-24/Actor_05/03-01-03-02-01-01-05.wav', 'extracted_audio/audio_speech_actors_01-24/Actor_05/03-01-05-01-02-02-05.wav', 'extracted_audio/audio_speech_actors_01-24/Actor_05/03-01-06-01-02-01-05.wav', 'extracted_audio/audio_speech_actors_01-24/Actor_05/03-01-06-02-01-01-05.wav', 'extracted_audio/audio_speech_actors_01-24/Actor_05/03-01-05-02-01-02-05.wav', 'extracted_audio/audio_speech_actors_01-24/Actor_05/03-01-07-01-01-02-05.wav', 'extracted_audio/audio_speech_actors_01-24/Actor_05/03-01-04-01-01-01-05.wav', 'extracted_audio/audio_speech_actors_01-24/Actor_05/03-01-04-02-02-01-05.wav', 'extracted_audio/audio_speech_actors_01-24/Actor_05/03-01-07-02-02-02-05.wav', 'extracted_audio/audio_speech_actors_01-24/Actor_05/03-01-08-02-02-02-05.wav', 'extracted_audio/audio_speech_actors_01-24/Actor_05/03-01-08-01-01-02-05.wav', 'extracted_audio/audio_speech_actors_01-24/Actor_05/03-01-03-02-02-01-05.wav', 'extracted_audio/audio_speech_actors_01-24/Actor_05/03-01-03-01-01-01-05.wav', 'extracted_audio/audio_speech_actors_01-24/Actor_05/03-01-02-02-01-02-05.wav', 'extracted_audio/audio_speech_actors_01-24/Actor_05/03-01-01-01-02-01-05.wav', 'extracted_audio/audio_speech_actors_01-24/Actor_05/03-01-02-01-02-02-05.wav', 'extracted_audio/audio_speech_actors_01-24/Actor_05/03-01-03-02-01-02-05.wav', 'extracted_audio/audio_speech_actors_01-24/Actor_05/03-01-03-01-02-02-05.wav', 'extracted_audio/audio_speech_actors_01-24/Actor_05/03-01-02-02-02-01-05.wav', 'extracted_audio/audio_speech_actors_01-24/Actor_05/03-01-02-01-01-01-05.wav', 'extracted_audio/audio_speech_actors_01-24/Actor_05/03-01-01-01-01-02-05.wav', 'extracted_audio/audio_speech_actors_01-24/Actor_05/03-01-06-01-01-02-05.wav', 'extracted_audio/audio_speech_actors_01-24/Actor_05/03-01-05-01-01-01-05.wav', 'extracted_audio/audio_speech_actors_01-24/Actor_05/03-01-05-02-02-01-05.wav', 'extracted_audio/audio_speech_actors_01-24/Actor_05/03-01-06-02-02-02-05.wav', 'extracted_audio/audio_speech_actors_01-24/Actor_05/03-01-04-01-02-02-05.wav', 'extracted_audio/audio_speech_actors_01-24/Actor_05/03-01-07-01-02-01-05.wav', 'extracted_audio/audio_speech_actors_01-24/Actor_05/03-01-07-02-01-01-05.wav', 'extracted_audio/audio_speech_actors_01-24/Actor_05/03-01-04-02-01-02-05.wav', 'extracted_audio/audio_speech_actors_01-24/Actor_05/03-01-08-02-01-01-05.wav', 'extracted_audio/audio_speech_actors_01-24/Actor_05/03-01-08-01-02-01-05.wav', 'extracted_audio/audio_speech_actors_01-24/Actor_12/03-01-02-01-02-01-12.wav', 'extracted_audio/audio_speech_actors_01-24/Actor_12/03-01-01-01-02-02-12.wav', 'extracted_audio/audio_speech_actors_01-24/Actor_12/03-01-02-02-01-01-12.wav', 'extracted_audio/audio_speech_actors_01-24/Actor_12/03-01-03-01-01-02-12.wav', 'extracted_audio/audio_speech_actors_01-24/Actor_12/03-01-03-02-02-02-12.wav', 'extracted_audio/audio_speech_actors_01-24/Actor_12/03-01-08-01-01-01-12.wav', 'extracted_audio/audio_speech_actors_01-24/Actor_12/03-01-08-02-02-01-12.wav', 'extracted_audio/audio_speech_actors_01-24/Actor_12/03-01-07-02-02-01-12.wav', 'extracted_audio/audio_speech_actors_01-24/Actor_12/03-01-04-02-02-02-12.wav', 'extracted_audio/audio_speech_actors_01-24/Actor_12/03-01-04-01-01-02-12.wav', 'extracted_audio/audio_speech_actors_01-24/Actor_12/03-01-07-01-01-01-12.wav', 'extracted_audio/audio_speech_actors_01-24/Actor_12/03-01-05-02-01-01-12.wav', 'extracted_audio/audio_speech_actors_01-24/Actor_12/03-01-06-02-01-02-12.wav', 'extracted_audio/audio_speech_actors_01-24/Actor_12/03-01-06-01-02-02-12.wav', 'extracted_audio/audio_speech_actors_01-24/Actor_12/03-01-05-01-02-01-12.wav', 'extracted_audio/audio_speech_actors_01-24/Actor_12/03-01-08-01-02-02-12.wav', 'extracted_audio/audio_speech_actors_01-24/Actor_12/03-01-08-02-01-02-12.wav', 'extracted_audio/audio_speech_actors_01-24/Actor_12/03-01-04-02-01-01-12.wav', 'extracted_audio/audio_speech_actors_01-24/Actor_12/03-01-07-02-01-02-12.wav', 'extracted_audio/audio_speech_actors_01-24/Actor_12/03-01-07-01-02-02-12.wav', 'extracted_audio/audio_speech_actors_01-24/Actor_12/03-01-04-01-02-01-12.wav', 'extracted_audio/audio_speech_actors_01-24/Actor_12/03-01-06-02-02-01-12.wav', 'extracted_audio/audio_speech_actors_01-24/Actor_12/03-01-05-02-02-02-12.wav', 'extracted_audio/audio_speech_actors_01-24/Actor_12/03-01-05-01-01-02-12.wav', 'extracted_audio/audio_speech_actors_01-24/Actor_12/03-01-06-01-01-01-12.wav', 'extracted_audio/audio_speech_actors_01-24/Actor_12/03-01-01-01-01-01-12.wav', 'extracted_audio/audio_speech_actors_01-24/Actor_12/03-01-02-01-01-02-12.wav', 'extracted_audio/audio_speech_actors_01-24/Actor_12/03-01-02-02-02-02-12.wav', 'extracted_audio/audio_speech_actors_01-24/Actor_12/03-01-03-01-02-01-12.wav', 'extracted_audio/audio_speech_actors_01-24/Actor_12/03-01-03-02-01-01-12.wav', 'extracted_audio/audio_speech_actors_01-24/Actor_12/03-01-08-02-02-02-12.wav', 'extracted_audio/audio_speech_actors_01-24/Actor_12/03-01-08-01-01-02-12.wav', 'extracted_audio/audio_speech_actors_01-24/Actor_12/03-01-05-01-02-02-12.wav', 'extracted_audio/audio_speech_actors_01-24/Actor_12/03-01-06-01-02-01-12.wav', 'extracted_audio/audio_speech_actors_01-24/Actor_12/03-01-06-02-01-01-12.wav', 'extracted_audio/audio_speech_actors_01-24/Actor_12/03-01-05-02-01-02-12.wav', 'extracted_audio/audio_speech_actors_01-24/Actor_12/03-01-07-01-01-02-12.wav', 'extracted_audio/audio_speech_actors_01-24/Actor_12/03-01-04-01-01-01-12.wav', 'extracted_audio/audio_speech_actors_01-24/Actor_12/03-01-04-02-02-01-12.wav', 'extracted_audio/audio_speech_actors_01-24/Actor_12/03-01-07-02-02-02-12.wav', 'extracted_audio/audio_speech_actors_01-24/Actor_12/03-01-03-02-02-01-12.wav', 'extracted_audio/audio_speech_actors_01-24/Actor_12/03-01-03-01-01-01-12.wav', 'extracted_audio/audio_speech_actors_01-24/Actor_12/03-01-02-02-01-02-12.wav', 'extracted_audio/audio_speech_actors_01-24/Actor_12/03-01-01-01-02-01-12.wav', 'extracted_audio/audio_speech_actors_01-24/Actor_12/03-01-02-01-02-02-12.wav', 'extracted_audio/audio_speech_actors_01-24/Actor_12/03-01-03-02-01-02-12.wav', 'extracted_audio/audio_speech_actors_01-24/Actor_12/03-01-03-01-02-02-12.wav', 'extracted_audio/audio_speech_actors_01-24/Actor_12/03-01-02-02-02-01-12.wav', 'extracted_audio/audio_speech_actors_01-24/Actor_12/03-01-02-01-01-01-12.wav', 'extracted_audio/audio_speech_actors_01-24/Actor_12/03-01-01-01-01-02-12.wav', 'extracted_audio/audio_speech_actors_01-24/Actor_12/03-01-08-02-01-01-12.wav', 'extracted_audio/audio_speech_actors_01-24/Actor_12/03-01-08-01-02-01-12.wav', 'extracted_audio/audio_speech_actors_01-24/Actor_12/03-01-06-01-01-02-12.wav', 'extracted_audio/audio_speech_actors_01-24/Actor_12/03-01-05-01-01-01-12.wav', 'extracted_audio/audio_speech_actors_01-24/Actor_12/03-01-05-02-02-01-12.wav', 'extracted_audio/audio_speech_actors_01-24/Actor_12/03-01-06-02-02-02-12.wav', 'extracted_audio/audio_speech_actors_01-24/Actor_12/03-01-04-01-02-02-12.wav', 'extracted_audio/audio_speech_actors_01-24/Actor_12/03-01-07-01-02-01-12.wav', 'extracted_audio/audio_speech_actors_01-24/Actor_12/03-01-07-02-01-01-12.wav', 'extracted_audio/audio_speech_actors_01-24/Actor_12/03-01-04-02-01-02-12.wav', 'extracted_audio/audio_speech_actors_01-24/Actor_15/03-01-08-02-02-01-15.wav', 'extracted_audio/audio_speech_actors_01-24/Actor_15/03-01-08-01-01-01-15.wav', 'extracted_audio/audio_speech_actors_01-24/Actor_15/03-01-06-01-02-02-15.wav', 'extracted_audio/audio_speech_actors_01-24/Actor_15/03-01-05-01-02-01-15.wav', 'extracted_audio/audio_speech_actors_01-24/Actor_15/03-01-05-02-01-01-15.wav', 'extracted_audio/audio_speech_actors_01-24/Actor_15/03-01-06-02-01-02-15.wav', 'extracted_audio/audio_speech_actors_01-24/Actor_15/03-01-04-01-01-02-15.wav', 'extracted_audio/audio_speech_actors_01-24/Actor_15/03-01-07-01-01-01-15.wav', 'extracted_audio/audio_speech_actors_01-24/Actor_15/03-01-07-02-02-01-15.wav', 'extracted_audio/audio_speech_actors_01-24/Actor_15/03-01-04-02-02-02-15.wav', 'extracted_audio/audio_speech_actors_01-24/Actor_15/03-01-03-02-02-02-15.wav', 'extracted_audio/audio_speech_actors_01-24/Actor_15/03-01-03-01-01-02-15.wav', 'extracted_audio/audio_speech_actors_01-24/Actor_15/03-01-02-02-01-01-15.wav', 'extracted_audio/audio_speech_actors_01-24/Actor_15/03-01-02-01-02-01-15.wav', 'extracted_audio/audio_speech_actors_01-24/Actor_15/03-01-01-01-02-02-15.wav', 'extracted_audio/audio_speech_actors_01-24/Actor_15/03-01-03-02-01-01-15.wav', 'extracted_audio/audio_speech_actors_01-24/Actor_15/03-01-03-01-02-01-15.wav', 'extracted_audio/audio_speech_actors_01-24/Actor_15/03-01-02-02-02-02-15.wav', 'extracted_audio/audio_speech_actors_01-24/Actor_15/03-01-01-01-01-01-15.wav', 'extracted_audio/audio_speech_actors_01-24/Actor_15/03-01-02-01-01-02-15.wav', 'extracted_audio/audio_speech_actors_01-24/Actor_15/03-01-08-02-01-02-15.wav', 'extracted_audio/audio_speech_actors_01-24/Actor_15/03-01-08-01-02-02-15.wav', 'extracted_audio/audio_speech_actors_01-24/Actor_15/03-01-05-01-01-02-15.wav', 'extracted_audio/audio_speech_actors_01-24/Actor_15/03-01-06-01-01-01-15.wav', 'extracted_audio/audio_speech_actors_01-24/Actor_15/03-01-06-02-02-01-15.wav', 'extracted_audio/audio_speech_actors_01-24/Actor_15/03-01-05-02-02-02-15.wav', 'extracted_audio/audio_speech_actors_01-24/Actor_15/03-01-07-01-02-02-15.wav', 'extracted_audio/audio_speech_actors_01-24/Actor_15/03-01-04-01-02-01-15.wav', 'extracted_audio/audio_speech_actors_01-24/Actor_15/03-01-04-02-01-01-15.wav', 'extracted_audio/audio_speech_actors_01-24/Actor_15/03-01-07-02-01-02-15.wav', 'extracted_audio/audio_speech_actors_01-24/Actor_15/03-01-01-01-02-01-15.wav', 'extracted_audio/audio_speech_actors_01-24/Actor_15/03-01-02-01-02-02-15.wav', 'extracted_audio/audio_speech_actors_01-24/Actor_15/03-01-02-02-01-02-15.wav', 'extracted_audio/audio_speech_actors_01-24/Actor_15/03-01-03-01-01-01-15.wav', 'extracted_audio/audio_speech_actors_01-24/Actor_15/03-01-03-02-02-01-15.wav', 'extracted_audio/audio_speech_actors_01-24/Actor_15/03-01-08-01-01-02-15.wav', 'extracted_audio/audio_speech_actors_01-24/Actor_15/03-01-08-02-02-02-15.wav', 'extracted_audio/audio_speech_actors_01-24/Actor_15/03-01-04-02-02-01-15.wav', 'extracted_audio/audio_speech_actors_01-24/Actor_15/03-01-07-02-02-02-15.wav', 'extracted_audio/audio_speech_actors_01-24/Actor_15/03-01-07-01-01-02-15.wav', 'extracted_audio/audio_speech_actors_01-24/Actor_15/03-01-04-01-01-01-15.wav', 'extracted_audio/audio_speech_actors_01-24/Actor_15/03-01-06-02-01-01-15.wav', 'extracted_audio/audio_speech_actors_01-24/Actor_15/03-01-05-02-01-02-15.wav', 'extracted_audio/audio_speech_actors_01-24/Actor_15/03-01-05-01-02-02-15.wav', 'extracted_audio/audio_speech_actors_01-24/Actor_15/03-01-06-01-02-01-15.wav', 'extracted_audio/audio_speech_actors_01-24/Actor_15/03-01-08-01-02-01-15.wav', 'extracted_audio/audio_speech_actors_01-24/Actor_15/03-01-08-02-01-01-15.wav', 'extracted_audio/audio_speech_actors_01-24/Actor_15/03-01-07-02-01-01-15.wav', 'extracted_audio/audio_speech_actors_01-24/Actor_15/03-01-04-02-01-02-15.wav', 'extracted_audio/audio_speech_actors_01-24/Actor_15/03-01-04-01-02-02-15.wav', 'extracted_audio/audio_speech_actors_01-24/Actor_15/03-01-07-01-02-01-15.wav', 'extracted_audio/audio_speech_actors_01-24/Actor_15/03-01-05-02-02-01-15.wav', 'extracted_audio/audio_speech_actors_01-24/Actor_15/03-01-06-02-02-02-15.wav', 'extracted_audio/audio_speech_actors_01-24/Actor_15/03-01-06-01-01-02-15.wav', 'extracted_audio/audio_speech_actors_01-24/Actor_15/03-01-05-01-01-01-15.wav', 'extracted_audio/audio_speech_actors_01-24/Actor_15/03-01-02-01-01-01-15.wav', 'extracted_audio/audio_speech_actors_01-24/Actor_15/03-01-01-01-01-02-15.wav', 'extracted_audio/audio_speech_actors_01-24/Actor_15/03-01-02-02-02-01-15.wav', 'extracted_audio/audio_speech_actors_01-24/Actor_15/03-01-03-01-02-02-15.wav', 'extracted_audio/audio_speech_actors_01-24/Actor_15/03-01-03-02-01-02-15.wav', 'extracted_audio/audio_speech_actors_01-24/Actor_23/03-01-07-02-01-01-23.wav', 'extracted_audio/audio_speech_actors_01-24/Actor_23/03-01-04-02-01-02-23.wav', 'extracted_audio/audio_speech_actors_01-24/Actor_23/03-01-04-01-02-02-23.wav', 'extracted_audio/audio_speech_actors_01-24/Actor_23/03-01-07-01-02-01-23.wav', 'extracted_audio/audio_speech_actors_01-24/Actor_23/03-01-05-02-02-01-23.wav', 'extracted_audio/audio_speech_actors_01-24/Actor_23/03-01-06-02-02-02-23.wav', 'extracted_audio/audio_speech_actors_01-24/Actor_23/03-01-06-01-01-02-23.wav', 'extracted_audio/audio_speech_actors_01-24/Actor_23/03-01-05-01-01-01-23.wav', 'extracted_audio/audio_speech_actors_01-24/Actor_23/03-01-08-01-02-01-23.wav', 'extracted_audio/audio_speech_actors_01-24/Actor_23/03-01-08-02-01-01-23.wav', 'extracted_audio/audio_speech_actors_01-24/Actor_23/03-01-02-01-01-01-23.wav', 'extracted_audio/audio_speech_actors_01-24/Actor_23/03-01-01-01-01-02-23.wav', 'extracted_audio/audio_speech_actors_01-24/Actor_23/03-01-02-02-02-01-23.wav', 'extracted_audio/audio_speech_actors_01-24/Actor_23/03-01-03-01-02-02-23.wav', 'extracted_audio/audio_speech_actors_01-24/Actor_23/03-01-03-02-01-02-23.wav', 'extracted_audio/audio_speech_actors_01-24/Actor_23/03-01-01-01-02-01-23.wav', 'extracted_audio/audio_speech_actors_01-24/Actor_23/03-01-02-01-02-02-23.wav', 'extracted_audio/audio_speech_actors_01-24/Actor_23/03-01-02-02-01-02-23.wav', 'extracted_audio/audio_speech_actors_01-24/Actor_23/03-01-03-01-01-01-23.wav', 'extracted_audio/audio_speech_actors_01-24/Actor_23/03-01-03-02-02-01-23.wav', 'extracted_audio/audio_speech_actors_01-24/Actor_23/03-01-04-02-02-01-23.wav', 'extracted_audio/audio_speech_actors_01-24/Actor_23/03-01-07-02-02-02-23.wav', 'extracted_audio/audio_speech_actors_01-24/Actor_23/03-01-07-01-01-02-23.wav', 'extracted_audio/audio_speech_actors_01-24/Actor_23/03-01-04-01-01-01-23.wav', 'extracted_audio/audio_speech_actors_01-24/Actor_23/03-01-06-02-01-01-23.wav', 'extracted_audio/audio_speech_actors_01-24/Actor_23/03-01-05-02-01-02-23.wav', 'extracted_audio/audio_speech_actors_01-24/Actor_23/03-01-05-01-02-02-23.wav', 'extracted_audio/audio_speech_actors_01-24/Actor_23/03-01-06-01-02-01-23.wav', 'extracted_audio/audio_speech_actors_01-24/Actor_23/03-01-08-01-01-02-23.wav', 'extracted_audio/audio_speech_actors_01-24/Actor_23/03-01-08-02-02-02-23.wav', 'extracted_audio/audio_speech_actors_01-24/Actor_23/03-01-03-02-01-01-23.wav', 'extracted_audio/audio_speech_actors_01-24/Actor_23/03-01-03-01-02-01-23.wav', 'extracted_audio/audio_speech_actors_01-24/Actor_23/03-01-02-02-02-02-23.wav', 'extracted_audio/audio_speech_actors_01-24/Actor_23/03-01-01-01-01-01-23.wav', 'extracted_audio/audio_speech_actors_01-24/Actor_23/03-01-02-01-01-02-23.wav', 'extracted_audio/audio_speech_actors_01-24/Actor_23/03-01-05-01-01-02-23.wav', 'extracted_audio/audio_speech_actors_01-24/Actor_23/03-01-06-01-01-01-23.wav', 'extracted_audio/audio_speech_actors_01-24/Actor_23/03-01-06-02-02-01-23.wav', 'extracted_audio/audio_speech_actors_01-24/Actor_23/03-01-05-02-02-02-23.wav', 'extracted_audio/audio_speech_actors_01-24/Actor_23/03-01-07-01-02-02-23.wav', 'extracted_audio/audio_speech_actors_01-24/Actor_23/03-01-04-01-02-01-23.wav', 'extracted_audio/audio_speech_actors_01-24/Actor_23/03-01-04-02-01-01-23.wav', 'extracted_audio/audio_speech_actors_01-24/Actor_23/03-01-07-02-01-02-23.wav', 'extracted_audio/audio_speech_actors_01-24/Actor_23/03-01-08-02-01-02-23.wav', 'extracted_audio/audio_speech_actors_01-24/Actor_23/03-01-08-01-02-02-23.wav', 'extracted_audio/audio_speech_actors_01-24/Actor_23/03-01-06-01-02-02-23.wav', 'extracted_audio/audio_speech_actors_01-24/Actor_23/03-01-05-01-02-01-23.wav', 'extracted_audio/audio_speech_actors_01-24/Actor_23/03-01-05-02-01-01-23.wav', 'extracted_audio/audio_speech_actors_01-24/Actor_23/03-01-06-02-01-02-23.wav', 'extracted_audio/audio_speech_actors_01-24/Actor_23/03-01-04-01-01-02-23.wav', 'extracted_audio/audio_speech_actors_01-24/Actor_23/03-01-07-01-01-01-23.wav', 'extracted_audio/audio_speech_actors_01-24/Actor_23/03-01-07-02-02-01-23.wav', 'extracted_audio/audio_speech_actors_01-24/Actor_23/03-01-04-02-02-02-23.wav', 'extracted_audio/audio_speech_actors_01-24/Actor_23/03-01-08-02-02-01-23.wav', 'extracted_audio/audio_speech_actors_01-24/Actor_23/03-01-08-01-01-01-23.wav', 'extracted_audio/audio_speech_actors_01-24/Actor_23/03-01-03-02-02-02-23.wav', 'extracted_audio/audio_speech_actors_01-24/Actor_23/03-01-03-01-01-02-23.wav', 'extracted_audio/audio_speech_actors_01-24/Actor_23/03-01-02-02-01-01-23.wav', 'extracted_audio/audio_speech_actors_01-24/Actor_23/03-01-02-01-02-01-23.wav', 'extracted_audio/audio_speech_actors_01-24/Actor_23/03-01-01-01-02-02-23.wav', 'extracted_audio/audio_speech_actors_01-24/Actor_24/03-01-03-02-01-02-24.wav', 'extracted_audio/audio_speech_actors_01-24/Actor_24/03-01-03-01-02-02-24.wav', 'extracted_audio/audio_speech_actors_01-24/Actor_24/03-01-02-02-02-01-24.wav', 'extracted_audio/audio_speech_actors_01-24/Actor_24/03-01-02-01-01-01-24.wav', 'extracted_audio/audio_speech_actors_01-24/Actor_24/03-01-01-01-01-02-24.wav', 'extracted_audio/audio_speech_actors_01-24/Actor_24/03-01-06-01-01-02-24.wav', 'extracted_audio/audio_speech_actors_01-24/Actor_24/03-01-05-01-01-01-24.wav', 'extracted_audio/audio_speech_actors_01-24/Actor_24/03-01-05-02-02-01-24.wav', 'extracted_audio/audio_speech_actors_01-24/Actor_24/03-01-06-02-02-02-24.wav', 'extracted_audio/audio_speech_actors_01-24/Actor_24/03-01-04-01-02-02-24.wav', 'extracted_audio/audio_speech_actors_01-24/Actor_24/03-01-07-01-02-01-24.wav', 'extracted_audio/audio_speech_actors_01-24/Actor_24/03-01-07-02-01-01-24.wav', 'extracted_audio/audio_speech_actors_01-24/Actor_24/03-01-04-02-01-02-24.wav', 'extracted_audio/audio_speech_actors_01-24/Actor_24/03-01-08-02-01-01-24.wav', 'extracted_audio/audio_speech_actors_01-24/Actor_24/03-01-08-01-02-01-24.wav', 'extracted_audio/audio_speech_actors_01-24/Actor_24/03-01-05-01-02-02-24.wav', 'extracted_audio/audio_speech_actors_01-24/Actor_24/03-01-06-01-02-01-24.wav', 'extracted_audio/audio_speech_actors_01-24/Actor_24/03-01-06-02-01-01-24.wav', 'extracted_audio/audio_speech_actors_01-24/Actor_24/03-01-05-02-01-02-24.wav', 'extracted_audio/audio_speech_actors_01-24/Actor_24/03-01-07-01-01-02-24.wav', 'extracted_audio/audio_speech_actors_01-24/Actor_24/03-01-04-01-01-01-24.wav', 'extracted_audio/audio_speech_actors_01-24/Actor_24/03-01-04-02-02-01-24.wav', 'extracted_audio/audio_speech_actors_01-24/Actor_24/03-01-07-02-02-02-24.wav', 'extracted_audio/audio_speech_actors_01-24/Actor_24/03-01-08-02-02-02-24.wav', 'extracted_audio/audio_speech_actors_01-24/Actor_24/03-01-08-01-01-02-24.wav', 'extracted_audio/audio_speech_actors_01-24/Actor_24/03-01-03-02-02-01-24.wav', 'extracted_audio/audio_speech_actors_01-24/Actor_24/03-01-03-01-01-01-24.wav', 'extracted_audio/audio_speech_actors_01-24/Actor_24/03-01-02-02-01-02-24.wav', 'extracted_audio/audio_speech_actors_01-24/Actor_24/03-01-01-01-02-01-24.wav', 'extracted_audio/audio_speech_actors_01-24/Actor_24/03-01-02-01-02-02-24.wav', 'extracted_audio/audio_speech_actors_01-24/Actor_24/03-01-04-02-01-01-24.wav', 'extracted_audio/audio_speech_actors_01-24/Actor_24/03-01-07-02-01-02-24.wav', 'extracted_audio/audio_speech_actors_01-24/Actor_24/03-01-07-01-02-02-24.wav', 'extracted_audio/audio_speech_actors_01-24/Actor_24/03-01-04-01-02-01-24.wav', 'extracted_audio/audio_speech_actors_01-24/Actor_24/03-01-06-02-02-01-24.wav', 'extracted_audio/audio_speech_actors_01-24/Actor_24/03-01-05-02-02-02-24.wav', 'extracted_audio/audio_speech_actors_01-24/Actor_24/03-01-05-01-01-02-24.wav', 'extracted_audio/audio_speech_actors_01-24/Actor_24/03-01-06-01-01-01-24.wav', 'extracted_audio/audio_speech_actors_01-24/Actor_24/03-01-08-01-02-02-24.wav', 'extracted_audio/audio_speech_actors_01-24/Actor_24/03-01-08-02-01-02-24.wav', 'extracted_audio/audio_speech_actors_01-24/Actor_24/03-01-01-01-01-01-24.wav', 'extracted_audio/audio_speech_actors_01-24/Actor_24/03-01-02-01-01-02-24.wav', 'extracted_audio/audio_speech_actors_01-24/Actor_24/03-01-02-02-02-02-24.wav', 'extracted_audio/audio_speech_actors_01-24/Actor_24/03-01-03-01-02-01-24.wav', 'extracted_audio/audio_speech_actors_01-24/Actor_24/03-01-03-02-01-01-24.wav', 'extracted_audio/audio_speech_actors_01-24/Actor_24/03-01-02-01-02-01-24.wav', 'extracted_audio/audio_speech_actors_01-24/Actor_24/03-01-01-01-02-02-24.wav', 'extracted_audio/audio_speech_actors_01-24/Actor_24/03-01-02-02-01-01-24.wav', 'extracted_audio/audio_speech_actors_01-24/Actor_24/03-01-03-01-01-02-24.wav', 'extracted_audio/audio_speech_actors_01-24/Actor_24/03-01-03-02-02-02-24.wav', 'extracted_audio/audio_speech_actors_01-24/Actor_24/03-01-07-02-02-01-24.wav', 'extracted_audio/audio_speech_actors_01-24/Actor_24/03-01-04-02-02-02-24.wav', 'extracted_audio/audio_speech_actors_01-24/Actor_24/03-01-04-01-01-02-24.wav', 'extracted_audio/audio_speech_actors_01-24/Actor_24/03-01-07-01-01-01-24.wav', 'extracted_audio/audio_speech_actors_01-24/Actor_24/03-01-05-02-01-01-24.wav', 'extracted_audio/audio_speech_actors_01-24/Actor_24/03-01-06-02-01-02-24.wav', 'extracted_audio/audio_speech_actors_01-24/Actor_24/03-01-06-01-02-02-24.wav', 'extracted_audio/audio_speech_actors_01-24/Actor_24/03-01-05-01-02-01-24.wav', 'extracted_audio/audio_speech_actors_01-24/Actor_24/03-01-08-01-01-01-24.wav', 'extracted_audio/audio_speech_actors_01-24/Actor_24/03-01-08-02-02-01-24.wav', 'extracted_audio/audio_speech_actors_01-24/Actor_22/03-01-05-01-01-01-22.wav', 'extracted_audio/audio_speech_actors_01-24/Actor_22/03-01-06-01-01-02-22.wav', 'extracted_audio/audio_speech_actors_01-24/Actor_22/03-01-06-02-02-02-22.wav', 'extracted_audio/audio_speech_actors_01-24/Actor_22/03-01-05-02-02-01-22.wav', 'extracted_audio/audio_speech_actors_01-24/Actor_22/03-01-07-01-02-01-22.wav', 'extracted_audio/audio_speech_actors_01-24/Actor_22/03-01-04-01-02-02-22.wav', 'extracted_audio/audio_speech_actors_01-24/Actor_22/03-01-04-02-01-02-22.wav', 'extracted_audio/audio_speech_actors_01-24/Actor_22/03-01-07-02-01-01-22.wav', 'extracted_audio/audio_speech_actors_01-24/Actor_22/03-01-08-02-01-01-22.wav', 'extracted_audio/audio_speech_actors_01-24/Actor_22/03-01-08-01-02-01-22.wav', 'extracted_audio/audio_speech_actors_01-24/Actor_22/03-01-03-02-01-02-22.wav', 'extracted_audio/audio_speech_actors_01-24/Actor_22/03-01-03-01-02-02-22.wav', 'extracted_audio/audio_speech_actors_01-24/Actor_22/03-01-02-02-02-01-22.wav', 'extracted_audio/audio_speech_actors_01-24/Actor_22/03-01-01-01-01-02-22.wav', 'extracted_audio/audio_speech_actors_01-24/Actor_22/03-01-02-01-01-01-22.wav', 'extracted_audio/audio_speech_actors_01-24/Actor_22/03-01-03-02-02-01-22.wav', 'extracted_audio/audio_speech_actors_01-24/Actor_22/03-01-03-01-01-01-22.wav', 'extracted_audio/audio_speech_actors_01-24/Actor_22/03-01-02-02-01-02-22.wav', 'extracted_audio/audio_speech_actors_01-24/Actor_22/03-01-02-01-02-02-22.wav', 'extracted_audio/audio_speech_actors_01-24/Actor_22/03-01-01-01-02-01-22.wav', 'extracted_audio/audio_speech_actors_01-24/Actor_22/03-01-06-01-02-01-22.wav', 'extracted_audio/audio_speech_actors_01-24/Actor_22/03-01-05-01-02-02-22.wav', 'extracted_audio/audio_speech_actors_01-24/Actor_22/03-01-05-02-01-02-22.wav', 'extracted_audio/audio_speech_actors_01-24/Actor_22/03-01-06-02-01-01-22.wav', 'extracted_audio/audio_speech_actors_01-24/Actor_22/03-01-04-01-01-01-22.wav', 'extracted_audio/audio_speech_actors_01-24/Actor_22/03-01-07-01-01-02-22.wav', 'extracted_audio/audio_speech_actors_01-24/Actor_22/03-01-07-02-02-02-22.wav', 'extracted_audio/audio_speech_actors_01-24/Actor_22/03-01-04-02-02-01-22.wav', 'extracted_audio/audio_speech_actors_01-24/Actor_22/03-01-08-02-02-02-22.wav', 'extracted_audio/audio_speech_actors_01-24/Actor_22/03-01-08-01-01-02-22.wav', 'extracted_audio/audio_speech_actors_01-24/Actor_22/03-01-02-01-01-02-22.wav', 'extracted_audio/audio_speech_actors_01-24/Actor_22/03-01-01-01-01-01-22.wav', 'extracted_audio/audio_speech_actors_01-24/Actor_22/03-01-02-02-02-02-22.wav', 'extracted_audio/audio_speech_actors_01-24/Actor_22/03-01-03-01-02-01-22.wav', 'extracted_audio/audio_speech_actors_01-24/Actor_22/03-01-03-02-01-01-22.wav', 'extracted_audio/audio_speech_actors_01-24/Actor_22/03-01-07-02-01-02-22.wav', 'extracted_audio/audio_speech_actors_01-24/Actor_22/03-01-04-02-01-01-22.wav', 'extracted_audio/audio_speech_actors_01-24/Actor_22/03-01-04-01-02-01-22.wav', 'extracted_audio/audio_speech_actors_01-24/Actor_22/03-01-07-01-02-02-22.wav', 'extracted_audio/audio_speech_actors_01-24/Actor_22/03-01-05-02-02-02-22.wav', 'extracted_audio/audio_speech_actors_01-24/Actor_22/03-01-06-02-02-01-22.wav', 'extracted_audio/audio_speech_actors_01-24/Actor_22/03-01-06-01-01-01-22.wav', 'extracted_audio/audio_speech_actors_01-24/Actor_22/03-01-05-01-01-02-22.wav', 'extracted_audio/audio_speech_actors_01-24/Actor_22/03-01-08-01-02-02-22.wav', 'extracted_audio/audio_speech_actors_01-24/Actor_22/03-01-08-02-01-02-22.wav', 'extracted_audio/audio_speech_actors_01-24/Actor_22/03-01-04-02-02-02-22.wav', 'extracted_audio/audio_speech_actors_01-24/Actor_22/03-01-07-02-02-01-22.wav', 'extracted_audio/audio_speech_actors_01-24/Actor_22/03-01-07-01-01-01-22.wav', 'extracted_audio/audio_speech_actors_01-24/Actor_22/03-01-04-01-01-02-22.wav', 'extracted_audio/audio_speech_actors_01-24/Actor_22/03-01-06-02-01-02-22.wav', 'extracted_audio/audio_speech_actors_01-24/Actor_22/03-01-05-02-01-01-22.wav', 'extracted_audio/audio_speech_actors_01-24/Actor_22/03-01-05-01-02-01-22.wav', 'extracted_audio/audio_speech_actors_01-24/Actor_22/03-01-06-01-02-02-22.wav', 'extracted_audio/audio_speech_actors_01-24/Actor_22/03-01-08-01-01-01-22.wav', 'extracted_audio/audio_speech_actors_01-24/Actor_22/03-01-08-02-02-01-22.wav', 'extracted_audio/audio_speech_actors_01-24/Actor_22/03-01-01-01-02-02-22.wav', 'extracted_audio/audio_speech_actors_01-24/Actor_22/03-01-02-01-02-01-22.wav', 'extracted_audio/audio_speech_actors_01-24/Actor_22/03-01-02-02-01-01-22.wav', 'extracted_audio/audio_speech_actors_01-24/Actor_22/03-01-03-01-01-02-22.wav', 'extracted_audio/audio_speech_actors_01-24/Actor_22/03-01-03-02-02-02-22.wav', 'extracted_audio/audio_speech_actors_01-24/Actor_14/03-01-08-01-01-01-14.wav', 'extracted_audio/audio_speech_actors_01-24/Actor_14/03-01-08-02-02-01-14.wav', 'extracted_audio/audio_speech_actors_01-24/Actor_14/03-01-04-02-02-02-14.wav', 'extracted_audio/audio_speech_actors_01-24/Actor_14/03-01-07-02-02-01-14.wav', 'extracted_audio/audio_speech_actors_01-24/Actor_14/03-01-07-01-01-01-14.wav', 'extracted_audio/audio_speech_actors_01-24/Actor_14/03-01-04-01-01-02-14.wav', 'extracted_audio/audio_speech_actors_01-24/Actor_14/03-01-06-02-01-02-14.wav', 'extracted_audio/audio_speech_actors_01-24/Actor_14/03-01-05-02-01-01-14.wav', 'extracted_audio/audio_speech_actors_01-24/Actor_14/03-01-05-01-02-01-14.wav', 'extracted_audio/audio_speech_actors_01-24/Actor_14/03-01-06-01-02-02-14.wav', 'extracted_audio/audio_speech_actors_01-24/Actor_14/03-01-01-01-02-02-14.wav', 'extracted_audio/audio_speech_actors_01-24/Actor_14/03-01-02-01-02-01-14.wav', 'extracted_audio/audio_speech_actors_01-24/Actor_14/03-01-02-02-01-01-14.wav', 'extracted_audio/audio_speech_actors_01-24/Actor_14/03-01-03-01-01-02-14.wav', 'extracted_audio/audio_speech_actors_01-24/Actor_14/03-01-03-02-02-02-14.wav', 'extracted_audio/audio_speech_actors_01-24/Actor_14/03-01-02-01-01-02-14.wav', 'extracted_audio/audio_speech_actors_01-24/Actor_14/03-01-01-01-01-01-14.wav', 'extracted_audio/audio_speech_actors_01-24/Actor_14/03-01-02-02-02-02-14.wav', 'extracted_audio/audio_speech_actors_01-24/Actor_14/03-01-03-01-02-01-14.wav', 'extracted_audio/audio_speech_actors_01-24/Actor_14/03-01-03-02-01-01-14.wav', 'extracted_audio/audio_speech_actors_01-24/Actor_14/03-01-08-01-02-02-14.wav', 'extracted_audio/audio_speech_actors_01-24/Actor_14/03-01-08-02-01-02-14.wav', 'extracted_audio/audio_speech_actors_01-24/Actor_14/03-01-07-02-01-02-14.wav', 'extracted_audio/audio_speech_actors_01-24/Actor_14/03-01-04-02-01-01-14.wav', 'extracted_audio/audio_speech_actors_01-24/Actor_14/03-01-04-01-02-01-14.wav', 'extracted_audio/audio_speech_actors_01-24/Actor_14/03-01-07-01-02-02-14.wav', 'extracted_audio/audio_speech_actors_01-24/Actor_14/03-01-05-02-02-02-14.wav', 'extracted_audio/audio_speech_actors_01-24/Actor_14/03-01-06-02-02-01-14.wav', 'extracted_audio/audio_speech_actors_01-24/Actor_14/03-01-06-01-01-01-14.wav', 'extracted_audio/audio_speech_actors_01-24/Actor_14/03-01-05-01-01-02-14.wav', 'extracted_audio/audio_speech_actors_01-24/Actor_14/03-01-03-02-02-01-14.wav', 'extracted_audio/audio_speech_actors_01-24/Actor_14/03-01-03-01-01-01-14.wav', 'extracted_audio/audio_speech_actors_01-24/Actor_14/03-01-02-02-01-02-14.wav', 'extracted_audio/audio_speech_actors_01-24/Actor_14/03-01-02-01-02-02-14.wav', 'extracted_audio/audio_speech_actors_01-24/Actor_14/03-01-01-01-02-01-14.wav', 'extracted_audio/audio_speech_actors_01-24/Actor_14/03-01-08-02-02-02-14.wav', 'extracted_audio/audio_speech_actors_01-24/Actor_14/03-01-08-01-01-02-14.wav', 'extracted_audio/audio_speech_actors_01-24/Actor_14/03-01-06-01-02-01-14.wav', 'extracted_audio/audio_speech_actors_01-24/Actor_14/03-01-05-01-02-02-14.wav', 'extracted_audio/audio_speech_actors_01-24/Actor_14/03-01-05-02-01-02-14.wav', 'extracted_audio/audio_speech_actors_01-24/Actor_14/03-01-06-02-01-01-14.wav', 'extracted_audio/audio_speech_actors_01-24/Actor_14/03-01-04-01-01-01-14.wav', 'extracted_audio/audio_speech_actors_01-24/Actor_14/03-01-07-01-01-02-14.wav', 'extracted_audio/audio_speech_actors_01-24/Actor_14/03-01-07-02-02-02-14.wav', 'extracted_audio/audio_speech_actors_01-24/Actor_14/03-01-04-02-02-01-14.wav', 'extracted_audio/audio_speech_actors_01-24/Actor_14/03-01-08-02-01-01-14.wav', 'extracted_audio/audio_speech_actors_01-24/Actor_14/03-01-08-01-02-01-14.wav', 'extracted_audio/audio_speech_actors_01-24/Actor_14/03-01-05-01-01-01-14.wav', 'extracted_audio/audio_speech_actors_01-24/Actor_14/03-01-06-01-01-02-14.wav', 'extracted_audio/audio_speech_actors_01-24/Actor_14/03-01-06-02-02-02-14.wav', 'extracted_audio/audio_speech_actors_01-24/Actor_14/03-01-05-02-02-01-14.wav', 'extracted_audio/audio_speech_actors_01-24/Actor_14/03-01-07-01-02-01-14.wav', 'extracted_audio/audio_speech_actors_01-24/Actor_14/03-01-04-01-02-02-14.wav', 'extracted_audio/audio_speech_actors_01-24/Actor_14/03-01-04-02-01-02-14.wav', 'extracted_audio/audio_speech_actors_01-24/Actor_14/03-01-07-02-01-01-14.wav', 'extracted_audio/audio_speech_actors_01-24/Actor_14/03-01-03-02-01-02-14.wav', 'extracted_audio/audio_speech_actors_01-24/Actor_14/03-01-03-01-02-02-14.wav', 'extracted_audio/audio_speech_actors_01-24/Actor_14/03-01-02-02-02-01-14.wav', 'extracted_audio/audio_speech_actors_01-24/Actor_14/03-01-01-01-01-02-14.wav', 'extracted_audio/audio_speech_actors_01-24/Actor_14/03-01-02-01-01-01-14.wav', 'extracted_audio/audio_speech_actors_01-24/Actor_13/03-01-03-02-02-02-13.wav', 'extracted_audio/audio_speech_actors_01-24/Actor_13/03-01-03-01-01-02-13.wav', 'extracted_audio/audio_speech_actors_01-24/Actor_13/03-01-02-02-01-01-13.wav', 'extracted_audio/audio_speech_actors_01-24/Actor_13/03-01-01-01-02-02-13.wav', 'extracted_audio/audio_speech_actors_01-24/Actor_13/03-01-02-01-02-01-13.wav', 'extracted_audio/audio_speech_actors_01-24/Actor_13/03-01-08-02-02-01-13.wav', 'extracted_audio/audio_speech_actors_01-24/Actor_13/03-01-08-01-01-01-13.wav', 'extracted_audio/audio_speech_actors_01-24/Actor_13/03-01-05-01-02-01-13.wav', 'extracted_audio/audio_speech_actors_01-24/Actor_13/03-01-06-01-02-02-13.wav', 'extracted_audio/audio_speech_actors_01-24/Actor_13/03-01-06-02-01-02-13.wav', 'extracted_audio/audio_speech_actors_01-24/Actor_13/03-01-05-02-01-01-13.wav', 'extracted_audio/audio_speech_actors_01-24/Actor_13/03-01-07-01-01-01-13.wav', 'extracted_audio/audio_speech_actors_01-24/Actor_13/03-01-04-01-01-02-13.wav', 'extracted_audio/audio_speech_actors_01-24/Actor_13/03-01-04-02-02-02-13.wav', 'extracted_audio/audio_speech_actors_01-24/Actor_13/03-01-07-02-02-01-13.wav', 'extracted_audio/audio_speech_actors_01-24/Actor_13/03-01-08-02-01-02-13.wav', 'extracted_audio/audio_speech_actors_01-24/Actor_13/03-01-08-01-02-02-13.wav', 'extracted_audio/audio_speech_actors_01-24/Actor_13/03-01-06-01-01-01-13.wav', 'extracted_audio/audio_speech_actors_01-24/Actor_13/03-01-05-01-01-02-13.wav', 'extracted_audio/audio_speech_actors_01-24/Actor_13/03-01-05-02-02-02-13.wav', 'extracted_audio/audio_speech_actors_01-24/Actor_13/03-01-06-02-02-01-13.wav', 'extracted_audio/audio_speech_actors_01-24/Actor_13/03-01-04-01-02-01-13.wav', 'extracted_audio/audio_speech_actors_01-24/Actor_13/03-01-07-01-02-02-13.wav', 'extracted_audio/audio_speech_actors_01-24/Actor_13/03-01-07-02-01-02-13.wav', 'extracted_audio/audio_speech_actors_01-24/Actor_13/03-01-04-02-01-01-13.wav', 'extracted_audio/audio_speech_actors_01-24/Actor_13/03-01-03-02-01-01-13.wav', 'extracted_audio/audio_speech_actors_01-24/Actor_13/03-01-03-01-02-01-13.wav', 'extracted_audio/audio_speech_actors_01-24/Actor_13/03-01-02-02-02-02-13.wav', 'extracted_audio/audio_speech_actors_01-24/Actor_13/03-01-02-01-01-02-13.wav', 'extracted_audio/audio_speech_actors_01-24/Actor_13/03-01-01-01-01-01-13.wav', 'extracted_audio/audio_speech_actors_01-24/Actor_13/03-01-08-01-01-02-13.wav', 'extracted_audio/audio_speech_actors_01-24/Actor_13/03-01-08-02-02-02-13.wav', 'extracted_audio/audio_speech_actors_01-24/Actor_13/03-01-07-02-02-02-13.wav', 'extracted_audio/audio_speech_actors_01-24/Actor_13/03-01-04-02-02-01-13.wav', 'extracted_audio/audio_speech_actors_01-24/Actor_13/03-01-04-01-01-01-13.wav', 'extracted_audio/audio_speech_actors_01-24/Actor_13/03-01-07-01-01-02-13.wav', 'extracted_audio/audio_speech_actors_01-24/Actor_13/03-01-05-02-01-02-13.wav', 'extracted_audio/audio_speech_actors_01-24/Actor_13/03-01-06-02-01-01-13.wav', 'extracted_audio/audio_speech_actors_01-24/Actor_13/03-01-06-01-02-01-13.wav', 'extracted_audio/audio_speech_actors_01-24/Actor_13/03-01-05-01-02-02-13.wav', 'extracted_audio/audio_speech_actors_01-24/Actor_13/03-01-02-01-02-02-13.wav', 'extracted_audio/audio_speech_actors_01-24/Actor_13/03-01-01-01-02-01-13.wav', 'extracted_audio/audio_speech_actors_01-24/Actor_13/03-01-02-02-01-02-13.wav', 'extracted_audio/audio_speech_actors_01-24/Actor_13/03-01-03-01-01-01-13.wav', 'extracted_audio/audio_speech_actors_01-24/Actor_13/03-01-03-02-02-01-13.wav', 'extracted_audio/audio_speech_actors_01-24/Actor_13/03-01-01-01-01-02-13.wav', 'extracted_audio/audio_speech_actors_01-24/Actor_13/03-01-02-01-01-01-13.wav', 'extracted_audio/audio_speech_actors_01-24/Actor_13/03-01-02-02-02-01-13.wav', 'extracted_audio/audio_speech_actors_01-24/Actor_13/03-01-03-01-02-02-13.wav', 'extracted_audio/audio_speech_actors_01-24/Actor_13/03-01-03-02-01-02-13.wav', 'extracted_audio/audio_speech_actors_01-24/Actor_13/03-01-08-01-02-01-13.wav', 'extracted_audio/audio_speech_actors_01-24/Actor_13/03-01-08-02-01-01-13.wav', 'extracted_audio/audio_speech_actors_01-24/Actor_13/03-01-04-02-01-02-13.wav', 'extracted_audio/audio_speech_actors_01-24/Actor_13/03-01-07-02-01-01-13.wav', 'extracted_audio/audio_speech_actors_01-24/Actor_13/03-01-07-01-02-01-13.wav', 'extracted_audio/audio_speech_actors_01-24/Actor_13/03-01-04-01-02-02-13.wav', 'extracted_audio/audio_speech_actors_01-24/Actor_13/03-01-06-02-02-02-13.wav', 'extracted_audio/audio_speech_actors_01-24/Actor_13/03-01-05-02-02-01-13.wav', 'extracted_audio/audio_speech_actors_01-24/Actor_13/03-01-05-01-01-01-13.wav', 'extracted_audio/audio_speech_actors_01-24/Actor_13/03-01-06-01-01-02-13.wav', 'extracted_audio/audio_speech_actors_01-24/Actor_09/03-01-08-02-01-01-09.wav', 'extracted_audio/audio_speech_actors_01-24/Actor_09/03-01-08-01-02-01-09.wav', 'extracted_audio/audio_speech_actors_01-24/Actor_09/03-01-05-01-01-01-09.wav', 'extracted_audio/audio_speech_actors_01-24/Actor_09/03-01-06-01-01-02-09.wav', 'extracted_audio/audio_speech_actors_01-24/Actor_09/03-01-06-02-02-02-09.wav', 'extracted_audio/audio_speech_actors_01-24/Actor_09/03-01-05-02-02-01-09.wav', 'extracted_audio/audio_speech_actors_01-24/Actor_09/03-01-07-01-02-01-09.wav', 'extracted_audio/audio_speech_actors_01-24/Actor_09/03-01-04-01-02-02-09.wav', 'extracted_audio/audio_speech_actors_01-24/Actor_09/03-01-04-02-01-02-09.wav', 'extracted_audio/audio_speech_actors_01-24/Actor_09/03-01-07-02-01-01-09.wav', 'extracted_audio/audio_speech_actors_01-24/Actor_09/03-01-03-02-01-02-09.wav', 'extracted_audio/audio_speech_actors_01-24/Actor_09/03-01-03-01-02-02-09.wav', 'extracted_audio/audio_speech_actors_01-24/Actor_09/03-01-02-02-02-01-09.wav', 'extracted_audio/audio_speech_actors_01-24/Actor_09/03-01-01-01-01-02-09.wav', 'extracted_audio/audio_speech_actors_01-24/Actor_09/03-01-02-01-01-01-09.wav', 'extracted_audio/audio_speech_actors_01-24/Actor_09/03-01-03-02-02-01-09.wav', 'extracted_audio/audio_speech_actors_01-24/Actor_09/03-01-03-01-01-01-09.wav', 'extracted_audio/audio_speech_actors_01-24/Actor_09/03-01-02-02-01-02-09.wav', 'extracted_audio/audio_speech_actors_01-24/Actor_09/03-01-02-01-02-02-09.wav', 'extracted_audio/audio_speech_actors_01-24/Actor_09/03-01-01-01-02-01-09.wav', 'extracted_audio/audio_speech_actors_01-24/Actor_09/03-01-08-02-02-02-09.wav', 'extracted_audio/audio_speech_actors_01-24/Actor_09/03-01-08-01-01-02-09.wav', 'extracted_audio/audio_speech_actors_01-24/Actor_09/03-01-06-01-02-01-09.wav', 'extracted_audio/audio_speech_actors_01-24/Actor_09/03-01-05-01-02-02-09.wav', 'extracted_audio/audio_speech_actors_01-24/Actor_09/03-01-05-02-01-02-09.wav', 'extracted_audio/audio_speech_actors_01-24/Actor_09/03-01-06-02-01-01-09.wav', 'extracted_audio/audio_speech_actors_01-24/Actor_09/03-01-04-01-01-01-09.wav', 'extracted_audio/audio_speech_actors_01-24/Actor_09/03-01-07-01-01-02-09.wav', 'extracted_audio/audio_speech_actors_01-24/Actor_09/03-01-07-02-02-02-09.wav', 'extracted_audio/audio_speech_actors_01-24/Actor_09/03-01-04-02-02-01-09.wav', 'extracted_audio/audio_speech_actors_01-24/Actor_09/03-01-02-01-01-02-09.wav', 'extracted_audio/audio_speech_actors_01-24/Actor_09/03-01-01-01-01-01-09.wav', 'extracted_audio/audio_speech_actors_01-24/Actor_09/03-01-02-02-02-02-09.wav', 'extracted_audio/audio_speech_actors_01-24/Actor_09/03-01-03-01-02-01-09.wav', 'extracted_audio/audio_speech_actors_01-24/Actor_09/03-01-03-02-01-01-09.wav', 'extracted_audio/audio_speech_actors_01-24/Actor_09/03-01-08-01-02-02-09.wav', 'extracted_audio/audio_speech_actors_01-24/Actor_09/03-01-08-02-01-02-09.wav', 'extracted_audio/audio_speech_actors_01-24/Actor_09/03-01-07-02-01-02-09.wav', 'extracted_audio/audio_speech_actors_01-24/Actor_09/03-01-04-02-01-01-09.wav', 'extracted_audio/audio_speech_actors_01-24/Actor_09/03-01-04-01-02-01-09.wav', 'extracted_audio/audio_speech_actors_01-24/Actor_09/03-01-07-01-02-02-09.wav', 'extracted_audio/audio_speech_actors_01-24/Actor_09/03-01-05-02-02-02-09.wav', 'extracted_audio/audio_speech_actors_01-24/Actor_09/03-01-06-02-02-01-09.wav', 'extracted_audio/audio_speech_actors_01-24/Actor_09/03-01-06-01-01-01-09.wav', 'extracted_audio/audio_speech_actors_01-24/Actor_09/03-01-05-01-01-02-09.wav', 'extracted_audio/audio_speech_actors_01-24/Actor_09/03-01-08-01-01-01-09.wav', 'extracted_audio/audio_speech_actors_01-24/Actor_09/03-01-08-02-02-01-09.wav', 'extracted_audio/audio_speech_actors_01-24/Actor_09/03-01-04-02-02-02-09.wav', 'extracted_audio/audio_speech_actors_01-24/Actor_09/03-01-07-02-02-01-09.wav', 'extracted_audio/audio_speech_actors_01-24/Actor_09/03-01-07-01-01-01-09.wav', 'extracted_audio/audio_speech_actors_01-24/Actor_09/03-01-04-01-01-02-09.wav', 'extracted_audio/audio_speech_actors_01-24/Actor_09/03-01-06-02-01-02-09.wav', 'extracted_audio/audio_speech_actors_01-24/Actor_09/03-01-05-02-01-01-09.wav', 'extracted_audio/audio_speech_actors_01-24/Actor_09/03-01-05-01-02-01-09.wav', 'extracted_audio/audio_speech_actors_01-24/Actor_09/03-01-06-01-02-02-09.wav', 'extracted_audio/audio_speech_actors_01-24/Actor_09/03-01-01-01-02-02-09.wav', 'extracted_audio/audio_speech_actors_01-24/Actor_09/03-01-02-01-02-01-09.wav', 'extracted_audio/audio_speech_actors_01-24/Actor_09/03-01-02-02-01-01-09.wav', 'extracted_audio/audio_speech_actors_01-24/Actor_09/03-01-03-01-01-02-09.wav', 'extracted_audio/audio_speech_actors_01-24/Actor_09/03-01-03-02-02-02-09.wav', 'extracted_audio/audio_speech_actors_01-24/Actor_07/03-01-03-02-02-02-07.wav', 'extracted_audio/audio_speech_actors_01-24/Actor_07/03-01-03-01-01-02-07.wav', 'extracted_audio/audio_speech_actors_01-24/Actor_07/03-01-02-02-01-01-07.wav', 'extracted_audio/audio_speech_actors_01-24/Actor_07/03-01-02-01-02-01-07.wav', 'extracted_audio/audio_speech_actors_01-24/Actor_07/03-01-01-01-02-02-07.wav', 'extracted_audio/audio_speech_actors_01-24/Actor_07/03-01-08-02-02-01-07.wav', 'extracted_audio/audio_speech_actors_01-24/Actor_07/03-01-08-01-01-01-07.wav', 'extracted_audio/audio_speech_actors_01-24/Actor_07/03-01-06-01-02-02-07.wav', 'extracted_audio/audio_speech_actors_01-24/Actor_07/03-01-05-01-02-01-07.wav', 'extracted_audio/audio_speech_actors_01-24/Actor_07/03-01-05-02-01-01-07.wav', 'extracted_audio/audio_speech_actors_01-24/Actor_07/03-01-06-02-01-02-07.wav', 'extracted_audio/audio_speech_actors_01-24/Actor_07/03-01-04-01-01-02-07.wav', 'extracted_audio/audio_speech_actors_01-24/Actor_07/03-01-07-01-01-01-07.wav', 'extracted_audio/audio_speech_actors_01-24/Actor_07/03-01-07-02-02-01-07.wav', 'extracted_audio/audio_speech_actors_01-24/Actor_07/03-01-04-02-02-02-07.wav', 'extracted_audio/audio_speech_actors_01-24/Actor_07/03-01-08-02-01-02-07.wav', 'extracted_audio/audio_speech_actors_01-24/Actor_07/03-01-08-01-02-02-07.wav', 'extracted_audio/audio_speech_actors_01-24/Actor_07/03-01-05-01-01-02-07.wav', 'extracted_audio/audio_speech_actors_01-24/Actor_07/03-01-06-01-01-01-07.wav', 'extracted_audio/audio_speech_actors_01-24/Actor_07/03-01-06-02-02-01-07.wav', 'extracted_audio/audio_speech_actors_01-24/Actor_07/03-01-05-02-02-02-07.wav', 'extracted_audio/audio_speech_actors_01-24/Actor_07/03-01-07-01-02-02-07.wav', 'extracted_audio/audio_speech_actors_01-24/Actor_07/03-01-04-01-02-01-07.wav', 'extracted_audio/audio_speech_actors_01-24/Actor_07/03-01-04-02-01-01-07.wav', 'extracted_audio/audio_speech_actors_01-24/Actor_07/03-01-07-02-01-02-07.wav', 'extracted_audio/audio_speech_actors_01-24/Actor_07/03-01-03-02-01-01-07.wav', 'extracted_audio/audio_speech_actors_01-24/Actor_07/03-01-03-01-02-01-07.wav', 'extracted_audio/audio_speech_actors_01-24/Actor_07/03-01-02-02-02-02-07.wav', 'extracted_audio/audio_speech_actors_01-24/Actor_07/03-01-01-01-01-01-07.wav', 'extracted_audio/audio_speech_actors_01-24/Actor_07/03-01-02-01-01-02-07.wav', 'extracted_audio/audio_speech_actors_01-24/Actor_07/03-01-08-01-01-02-07.wav', 'extracted_audio/audio_speech_actors_01-24/Actor_07/03-01-08-02-02-02-07.wav', 'extracted_audio/audio_speech_actors_01-24/Actor_07/03-01-04-02-02-01-07.wav', 'extracted_audio/audio_speech_actors_01-24/Actor_07/03-01-07-02-02-02-07.wav', 'extracted_audio/audio_speech_actors_01-24/Actor_07/03-01-07-01-01-02-07.wav', 'extracted_audio/audio_speech_actors_01-24/Actor_07/03-01-04-01-01-01-07.wav', 'extracted_audio/audio_speech_actors_01-24/Actor_07/03-01-06-02-01-01-07.wav', 'extracted_audio/audio_speech_actors_01-24/Actor_07/03-01-05-02-01-02-07.wav', 'extracted_audio/audio_speech_actors_01-24/Actor_07/03-01-05-01-02-02-07.wav', 'extracted_audio/audio_speech_actors_01-24/Actor_07/03-01-06-01-02-01-07.wav', 'extracted_audio/audio_speech_actors_01-24/Actor_07/03-01-01-01-02-01-07.wav', 'extracted_audio/audio_speech_actors_01-24/Actor_07/03-01-02-01-02-02-07.wav', 'extracted_audio/audio_speech_actors_01-24/Actor_07/03-01-02-02-01-02-07.wav', 'extracted_audio/audio_speech_actors_01-24/Actor_07/03-01-03-01-01-01-07.wav', 'extracted_audio/audio_speech_actors_01-24/Actor_07/03-01-03-02-02-01-07.wav', 'extracted_audio/audio_speech_actors_01-24/Actor_07/03-01-02-01-01-01-07.wav', 'extracted_audio/audio_speech_actors_01-24/Actor_07/03-01-01-01-01-02-07.wav', 'extracted_audio/audio_speech_actors_01-24/Actor_07/03-01-02-02-02-01-07.wav', 'extracted_audio/audio_speech_actors_01-24/Actor_07/03-01-03-01-02-02-07.wav', 'extracted_audio/audio_speech_actors_01-24/Actor_07/03-01-03-02-01-02-07.wav', 'extracted_audio/audio_speech_actors_01-24/Actor_07/03-01-08-01-02-01-07.wav', 'extracted_audio/audio_speech_actors_01-24/Actor_07/03-01-08-02-01-01-07.wav', 'extracted_audio/audio_speech_actors_01-24/Actor_07/03-01-07-02-01-01-07.wav', 'extracted_audio/audio_speech_actors_01-24/Actor_07/03-01-04-02-01-02-07.wav', 'extracted_audio/audio_speech_actors_01-24/Actor_07/03-01-04-01-02-02-07.wav', 'extracted_audio/audio_speech_actors_01-24/Actor_07/03-01-07-01-02-01-07.wav', 'extracted_audio/audio_speech_actors_01-24/Actor_07/03-01-05-02-02-01-07.wav', 'extracted_audio/audio_speech_actors_01-24/Actor_07/03-01-06-02-02-02-07.wav', 'extracted_audio/audio_speech_actors_01-24/Actor_07/03-01-06-01-01-02-07.wav', 'extracted_audio/audio_speech_actors_01-24/Actor_07/03-01-05-01-01-01-07.wav', 'extracted_audio/audio_speech_actors_01-24/Actor_06/03-01-01-01-02-02-06.wav', 'extracted_audio/audio_speech_actors_01-24/Actor_06/03-01-02-01-02-01-06.wav', 'extracted_audio/audio_speech_actors_01-24/Actor_06/03-01-02-02-01-01-06.wav', 'extracted_audio/audio_speech_actors_01-24/Actor_06/03-01-03-01-01-02-06.wav', 'extracted_audio/audio_speech_actors_01-24/Actor_06/03-01-03-02-02-02-06.wav', 'extracted_audio/audio_speech_actors_01-24/Actor_06/03-01-08-01-01-01-06.wav', 'extracted_audio/audio_speech_actors_01-24/Actor_06/03-01-08-02-02-01-06.wav', 'extracted_audio/audio_speech_actors_01-24/Actor_06/03-01-04-02-02-02-06.wav', 'extracted_audio/audio_speech_actors_01-24/Actor_06/03-01-07-02-02-01-06.wav', 'extracted_audio/audio_speech_actors_01-24/Actor_06/03-01-07-01-01-01-06.wav', 'extracted_audio/audio_speech_actors_01-24/Actor_06/03-01-04-01-01-02-06.wav', 'extracted_audio/audio_speech_actors_01-24/Actor_06/03-01-06-02-01-02-06.wav', 'extracted_audio/audio_speech_actors_01-24/Actor_06/03-01-05-02-01-01-06.wav', 'extracted_audio/audio_speech_actors_01-24/Actor_06/03-01-05-01-02-01-06.wav', 'extracted_audio/audio_speech_actors_01-24/Actor_06/03-01-06-01-02-02-06.wav', 'extracted_audio/audio_speech_actors_01-24/Actor_06/03-01-08-01-02-02-06.wav', 'extracted_audio/audio_speech_actors_01-24/Actor_06/03-01-08-02-01-02-06.wav', 'extracted_audio/audio_speech_actors_01-24/Actor_06/03-01-07-02-01-02-06.wav', 'extracted_audio/audio_speech_actors_01-24/Actor_06/03-01-04-02-01-01-06.wav', 'extracted_audio/audio_speech_actors_01-24/Actor_06/03-01-04-01-02-01-06.wav', 'extracted_audio/audio_speech_actors_01-24/Actor_06/03-01-07-01-02-02-06.wav', 'extracted_audio/audio_speech_actors_01-24/Actor_06/03-01-05-02-02-02-06.wav', 'extracted_audio/audio_speech_actors_01-24/Actor_06/03-01-06-02-02-01-06.wav', 'extracted_audio/audio_speech_actors_01-24/Actor_06/03-01-06-01-01-01-06.wav', 'extracted_audio/audio_speech_actors_01-24/Actor_06/03-01-05-01-01-02-06.wav', 'extracted_audio/audio_speech_actors_01-24/Actor_06/03-01-02-01-01-02-06.wav', 'extracted_audio/audio_speech_actors_01-24/Actor_06/03-01-01-01-01-01-06.wav', 'extracted_audio/audio_speech_actors_01-24/Actor_06/03-01-02-02-02-02-06.wav', 'extracted_audio/audio_speech_actors_01-24/Actor_06/03-01-03-01-02-01-06.wav', 'extracted_audio/audio_speech_actors_01-24/Actor_06/03-01-03-02-01-01-06.wav', 'extracted_audio/audio_speech_actors_01-24/Actor_06/03-01-08-02-02-02-06.wav', 'extracted_audio/audio_speech_actors_01-24/Actor_06/03-01-08-01-01-02-06.wav', 'extracted_audio/audio_speech_actors_01-24/Actor_06/03-01-06-01-02-01-06.wav', 'extracted_audio/audio_speech_actors_01-24/Actor_06/03-01-05-01-02-02-06.wav', 'extracted_audio/audio_speech_actors_01-24/Actor_06/03-01-05-02-01-02-06.wav', 'extracted_audio/audio_speech_actors_01-24/Actor_06/03-01-06-02-01-01-06.wav', 'extracted_audio/audio_speech_actors_01-24/Actor_06/03-01-04-01-01-01-06.wav', 'extracted_audio/audio_speech_actors_01-24/Actor_06/03-01-07-01-01-02-06.wav', 'extracted_audio/audio_speech_actors_01-24/Actor_06/03-01-07-02-02-02-06.wav', 'extracted_audio/audio_speech_actors_01-24/Actor_06/03-01-04-02-02-01-06.wav', 'extracted_audio/audio_speech_actors_01-24/Actor_06/03-01-03-02-02-01-06.wav', 'extracted_audio/audio_speech_actors_01-24/Actor_06/03-01-03-01-01-01-06.wav', 'extracted_audio/audio_speech_actors_01-24/Actor_06/03-01-02-02-01-02-06.wav', 'extracted_audio/audio_speech_actors_01-24/Actor_06/03-01-02-01-02-02-06.wav', 'extracted_audio/audio_speech_actors_01-24/Actor_06/03-01-01-01-02-01-06.wav', 'extracted_audio/audio_speech_actors_01-24/Actor_06/03-01-03-02-01-02-06.wav', 'extracted_audio/audio_speech_actors_01-24/Actor_06/03-01-03-01-02-02-06.wav', 'extracted_audio/audio_speech_actors_01-24/Actor_06/03-01-02-02-02-01-06.wav', 'extracted_audio/audio_speech_actors_01-24/Actor_06/03-01-01-01-01-02-06.wav', 'extracted_audio/audio_speech_actors_01-24/Actor_06/03-01-02-01-01-01-06.wav', 'extracted_audio/audio_speech_actors_01-24/Actor_06/03-01-08-02-01-01-06.wav', 'extracted_audio/audio_speech_actors_01-24/Actor_06/03-01-08-01-02-01-06.wav', 'extracted_audio/audio_speech_actors_01-24/Actor_06/03-01-05-01-01-01-06.wav', 'extracted_audio/audio_speech_actors_01-24/Actor_06/03-01-06-01-01-02-06.wav', 'extracted_audio/audio_speech_actors_01-24/Actor_06/03-01-06-02-02-02-06.wav', 'extracted_audio/audio_speech_actors_01-24/Actor_06/03-01-05-02-02-01-06.wav', 'extracted_audio/audio_speech_actors_01-24/Actor_06/03-01-07-01-02-01-06.wav', 'extracted_audio/audio_speech_actors_01-24/Actor_06/03-01-04-01-02-02-06.wav', 'extracted_audio/audio_speech_actors_01-24/Actor_06/03-01-04-02-01-02-06.wav', 'extracted_audio/audio_speech_actors_01-24/Actor_06/03-01-07-02-01-01-06.wav', 'extracted_audio/audio_speech_actors_01-24/Actor_01/03-01-08-02-02-01-01.wav', 'extracted_audio/audio_speech_actors_01-24/Actor_01/03-01-08-01-01-01-01.wav', 'extracted_audio/audio_speech_actors_01-24/Actor_01/03-01-05-01-02-01-01.wav', 'extracted_audio/audio_speech_actors_01-24/Actor_01/03-01-06-01-02-02-01.wav', 'extracted_audio/audio_speech_actors_01-24/Actor_01/03-01-06-02-01-02-01.wav', 'extracted_audio/audio_speech_actors_01-24/Actor_01/03-01-05-02-01-01-01.wav', 'extracted_audio/audio_speech_actors_01-24/Actor_01/03-01-07-01-01-01-01.wav', 'extracted_audio/audio_speech_actors_01-24/Actor_01/03-01-04-01-01-02-01.wav', 'extracted_audio/audio_speech_actors_01-24/Actor_01/03-01-04-02-02-02-01.wav', 'extracted_audio/audio_speech_actors_01-24/Actor_01/03-01-07-02-02-01-01.wav', 'extracted_audio/audio_speech_actors_01-24/Actor_01/03-01-03-02-02-02-01.wav', 'extracted_audio/audio_speech_actors_01-24/Actor_01/03-01-03-01-01-02-01.wav', 'extracted_audio/audio_speech_actors_01-24/Actor_01/03-01-02-02-01-01-01.wav', 'extracted_audio/audio_speech_actors_01-24/Actor_01/03-01-01-01-02-02-01.wav', 'extracted_audio/audio_speech_actors_01-24/Actor_01/03-01-02-01-02-01-01.wav', 'extracted_audio/audio_speech_actors_01-24/Actor_01/03-01-03-02-01-01-01.wav', 'extracted_audio/audio_speech_actors_01-24/Actor_01/03-01-03-01-02-01-01.wav', 'extracted_audio/audio_speech_actors_01-24/Actor_01/03-01-02-02-02-02-01.wav', 'extracted_audio/audio_speech_actors_01-24/Actor_01/03-01-02-01-01-02-01.wav', 'extracted_audio/audio_speech_actors_01-24/Actor_01/03-01-01-01-01-01-01.wav', 'extracted_audio/audio_speech_actors_01-24/Actor_01/03-01-08-02-01-02-01.wav', 'extracted_audio/audio_speech_actors_01-24/Actor_01/03-01-08-01-02-02-01.wav', 'extracted_audio/audio_speech_actors_01-24/Actor_01/03-01-06-01-01-01-01.wav', 'extracted_audio/audio_speech_actors_01-24/Actor_01/03-01-05-01-01-02-01.wav', 'extracted_audio/audio_speech_actors_01-24/Actor_01/03-01-05-02-02-02-01.wav', 'extracted_audio/audio_speech_actors_01-24/Actor_01/03-01-06-02-02-01-01.wav', 'extracted_audio/audio_speech_actors_01-24/Actor_01/03-01-04-01-02-01-01.wav', 'extracted_audio/audio_speech_actors_01-24/Actor_01/03-01-07-01-02-02-01.wav', 'extracted_audio/audio_speech_actors_01-24/Actor_01/03-01-07-02-01-02-01.wav', 'extracted_audio/audio_speech_actors_01-24/Actor_01/03-01-04-02-01-01-01.wav', 'extracted_audio/audio_speech_actors_01-24/Actor_01/03-01-02-01-02-02-01.wav', 'extracted_audio/audio_speech_actors_01-24/Actor_01/03-01-01-01-02-01-01.wav', 'extracted_audio/audio_speech_actors_01-24/Actor_01/03-01-02-02-01-02-01.wav', 'extracted_audio/audio_speech_actors_01-24/Actor_01/03-01-03-01-01-01-01.wav', 'extracted_audio/audio_speech_actors_01-24/Actor_01/03-01-03-02-02-01-01.wav', 'extracted_audio/audio_speech_actors_01-24/Actor_01/03-01-08-01-01-02-01.wav', 'extracted_audio/audio_speech_actors_01-24/Actor_01/03-01-08-02-02-02-01.wav', 'extracted_audio/audio_speech_actors_01-24/Actor_01/03-01-07-02-02-02-01.wav', 'extracted_audio/audio_speech_actors_01-24/Actor_01/03-01-04-02-02-01-01.wav', 'extracted_audio/audio_speech_actors_01-24/Actor_01/03-01-04-01-01-01-01.wav', 'extracted_audio/audio_speech_actors_01-24/Actor_01/03-01-07-01-01-02-01.wav', 'extracted_audio/audio_speech_actors_01-24/Actor_01/03-01-05-02-01-02-01.wav', 'extracted_audio/audio_speech_actors_01-24/Actor_01/03-01-06-02-01-01-01.wav', 'extracted_audio/audio_speech_actors_01-24/Actor_01/03-01-06-01-02-01-01.wav', 'extracted_audio/audio_speech_actors_01-24/Actor_01/03-01-05-01-02-02-01.wav', 'extracted_audio/audio_speech_actors_01-24/Actor_01/03-01-08-01-02-01-01.wav', 'extracted_audio/audio_speech_actors_01-24/Actor_01/03-01-08-02-01-01-01.wav', 'extracted_audio/audio_speech_actors_01-24/Actor_01/03-01-04-02-01-02-01.wav', 'extracted_audio/audio_speech_actors_01-24/Actor_01/03-01-07-02-01-01-01.wav', 'extracted_audio/audio_speech_actors_01-24/Actor_01/03-01-07-01-02-01-01.wav', 'extracted_audio/audio_speech_actors_01-24/Actor_01/03-01-04-01-02-02-01.wav', 'extracted_audio/audio_speech_actors_01-24/Actor_01/03-01-06-02-02-02-01.wav', 'extracted_audio/audio_speech_actors_01-24/Actor_01/03-01-05-02-02-01-01.wav', 'extracted_audio/audio_speech_actors_01-24/Actor_01/03-01-05-01-01-01-01.wav', 'extracted_audio/audio_speech_actors_01-24/Actor_01/03-01-06-01-01-02-01.wav', 'extracted_audio/audio_speech_actors_01-24/Actor_01/03-01-01-01-01-02-01.wav', 'extracted_audio/audio_speech_actors_01-24/Actor_01/03-01-02-01-01-01-01.wav', 'extracted_audio/audio_speech_actors_01-24/Actor_01/03-01-02-02-02-01-01.wav', 'extracted_audio/audio_speech_actors_01-24/Actor_01/03-01-03-01-02-02-01.wav', 'extracted_audio/audio_speech_actors_01-24/Actor_01/03-01-03-02-01-02-01.wav', 'extracted_audio/audio_speech_actors_01-24/Actor_08/03-01-08-01-02-01-08.wav', 'extracted_audio/audio_speech_actors_01-24/Actor_08/03-01-08-02-01-01-08.wav', 'extracted_audio/audio_speech_actors_01-24/Actor_08/03-01-07-02-01-01-08.wav', 'extracted_audio/audio_speech_actors_01-24/Actor_08/03-01-04-02-01-02-08.wav', 'extracted_audio/audio_speech_actors_01-24/Actor_08/03-01-04-01-02-02-08.wav', 'extracted_audio/audio_speech_actors_01-24/Actor_08/03-01-07-01-02-01-08.wav', 'extracted_audio/audio_speech_actors_01-24/Actor_08/03-01-05-02-02-01-08.wav', 'extracted_audio/audio_speech_actors_01-24/Actor_08/03-01-06-02-02-02-08.wav', 'extracted_audio/audio_speech_actors_01-24/Actor_08/03-01-06-01-01-02-08.wav', 'extracted_audio/audio_speech_actors_01-24/Actor_08/03-01-05-01-01-01-08.wav', 'extracted_audio/audio_speech_actors_01-24/Actor_08/03-01-02-01-01-01-08.wav', 'extracted_audio/audio_speech_actors_01-24/Actor_08/03-01-01-01-01-02-08.wav', 'extracted_audio/audio_speech_actors_01-24/Actor_08/03-01-02-02-02-01-08.wav', 'extracted_audio/audio_speech_actors_01-24/Actor_08/03-01-03-01-02-02-08.wav', 'extracted_audio/audio_speech_actors_01-24/Actor_08/03-01-03-02-01-02-08.wav', 'extracted_audio/audio_speech_actors_01-24/Actor_08/03-01-01-01-02-01-08.wav', 'extracted_audio/audio_speech_actors_01-24/Actor_08/03-01-02-01-02-02-08.wav', 'extracted_audio/audio_speech_actors_01-24/Actor_08/03-01-02-02-01-02-08.wav', 'extracted_audio/audio_speech_actors_01-24/Actor_08/03-01-03-01-01-01-08.wav', 'extracted_audio/audio_speech_actors_01-24/Actor_08/03-01-03-02-02-01-08.wav', 'extracted_audio/audio_speech_actors_01-24/Actor_08/03-01-08-01-01-02-08.wav', 'extracted_audio/audio_speech_actors_01-24/Actor_08/03-01-08-02-02-02-08.wav', 'extracted_audio/audio_speech_actors_01-24/Actor_08/03-01-04-02-02-01-08.wav', 'extracted_audio/audio_speech_actors_01-24/Actor_08/03-01-07-02-02-02-08.wav', 'extracted_audio/audio_speech_actors_01-24/Actor_08/03-01-07-01-01-02-08.wav', 'extracted_audio/audio_speech_actors_01-24/Actor_08/03-01-04-01-01-01-08.wav', 'extracted_audio/audio_speech_actors_01-24/Actor_08/03-01-06-02-01-01-08.wav', 'extracted_audio/audio_speech_actors_01-24/Actor_08/03-01-05-02-01-02-08.wav', 'extracted_audio/audio_speech_actors_01-24/Actor_08/03-01-05-01-02-02-08.wav', 'extracted_audio/audio_speech_actors_01-24/Actor_08/03-01-06-01-02-01-08.wav', 'extracted_audio/audio_speech_actors_01-24/Actor_08/03-01-03-02-01-01-08.wav', 'extracted_audio/audio_speech_actors_01-24/Actor_08/03-01-03-01-02-01-08.wav', 'extracted_audio/audio_speech_actors_01-24/Actor_08/03-01-02-02-02-02-08.wav', 'extracted_audio/audio_speech_actors_01-24/Actor_08/03-01-01-01-01-01-08.wav', 'extracted_audio/audio_speech_actors_01-24/Actor_08/03-01-02-01-01-02-08.wav', 'extracted_audio/audio_speech_actors_01-24/Actor_08/03-01-08-02-01-02-08.wav', 'extracted_audio/audio_speech_actors_01-24/Actor_08/03-01-08-01-02-02-08.wav', 'extracted_audio/audio_speech_actors_01-24/Actor_08/03-01-05-01-01-02-08.wav', 'extracted_audio/audio_speech_actors_01-24/Actor_08/03-01-06-01-01-01-08.wav', 'extracted_audio/audio_speech_actors_01-24/Actor_08/03-01-06-02-02-01-08.wav', 'extracted_audio/audio_speech_actors_01-24/Actor_08/03-01-05-02-02-02-08.wav', 'extracted_audio/audio_speech_actors_01-24/Actor_08/03-01-07-01-02-02-08.wav', 'extracted_audio/audio_speech_actors_01-24/Actor_08/03-01-04-01-02-01-08.wav', 'extracted_audio/audio_speech_actors_01-24/Actor_08/03-01-04-02-01-01-08.wav', 'extracted_audio/audio_speech_actors_01-24/Actor_08/03-01-07-02-01-02-08.wav', 'extracted_audio/audio_speech_actors_01-24/Actor_08/03-01-08-02-02-01-08.wav', 'extracted_audio/audio_speech_actors_01-24/Actor_08/03-01-08-01-01-01-08.wav', 'extracted_audio/audio_speech_actors_01-24/Actor_08/03-01-06-01-02-02-08.wav', 'extracted_audio/audio_speech_actors_01-24/Actor_08/03-01-05-01-02-01-08.wav', 'extracted_audio/audio_speech_actors_01-24/Actor_08/03-01-05-02-01-01-08.wav', 'extracted_audio/audio_speech_actors_01-24/Actor_08/03-01-06-02-01-02-08.wav', 'extracted_audio/audio_speech_actors_01-24/Actor_08/03-01-04-01-01-02-08.wav', 'extracted_audio/audio_speech_actors_01-24/Actor_08/03-01-07-01-01-01-08.wav', 'extracted_audio/audio_speech_actors_01-24/Actor_08/03-01-07-02-02-01-08.wav', 'extracted_audio/audio_speech_actors_01-24/Actor_08/03-01-04-02-02-02-08.wav', 'extracted_audio/audio_speech_actors_01-24/Actor_08/03-01-03-02-02-02-08.wav', 'extracted_audio/audio_speech_actors_01-24/Actor_08/03-01-03-01-01-02-08.wav', 'extracted_audio/audio_speech_actors_01-24/Actor_08/03-01-02-02-01-01-08.wav', 'extracted_audio/audio_speech_actors_01-24/Actor_08/03-01-02-01-02-01-08.wav', 'extracted_audio/audio_speech_actors_01-24/Actor_08/03-01-01-01-02-02-08.wav', 'extracted_audio/Actor_12/03-01-02-01-02-01-12.wav', 'extracted_audio/Actor_12/03-01-01-01-02-02-12.wav', 'extracted_audio/Actor_12/03-01-02-02-01-01-12.wav', 'extracted_audio/Actor_12/03-01-03-01-01-02-12.wav', 'extracted_audio/Actor_12/03-01-03-02-02-02-12.wav', 'extracted_audio/Actor_12/03-01-08-01-01-01-12.wav', 'extracted_audio/Actor_12/03-01-08-02-02-01-12.wav', 'extracted_audio/Actor_12/03-01-07-02-02-01-12.wav', 'extracted_audio/Actor_12/03-01-04-02-02-02-12.wav', 'extracted_audio/Actor_12/03-01-04-01-01-02-12.wav', 'extracted_audio/Actor_12/03-01-07-01-01-01-12.wav', 'extracted_audio/Actor_12/03-01-05-02-01-01-12.wav', 'extracted_audio/Actor_12/03-01-06-02-01-02-12.wav', 'extracted_audio/Actor_12/03-01-06-01-02-02-12.wav', 'extracted_audio/Actor_12/03-01-05-01-02-01-12.wav', 'extracted_audio/Actor_12/03-01-08-01-02-02-12.wav', 'extracted_audio/Actor_12/03-01-08-02-01-02-12.wav', 'extracted_audio/Actor_12/03-01-04-02-01-01-12.wav', 'extracted_audio/Actor_12/03-01-07-02-01-02-12.wav', 'extracted_audio/Actor_12/03-01-07-01-02-02-12.wav', 'extracted_audio/Actor_12/03-01-04-01-02-01-12.wav', 'extracted_audio/Actor_12/03-01-06-02-02-01-12.wav', 'extracted_audio/Actor_12/03-01-05-02-02-02-12.wav', 'extracted_audio/Actor_12/03-01-05-01-01-02-12.wav', 'extracted_audio/Actor_12/03-01-06-01-01-01-12.wav', 'extracted_audio/Actor_12/03-01-01-01-01-01-12.wav', 'extracted_audio/Actor_12/03-01-02-01-01-02-12.wav', 'extracted_audio/Actor_12/03-01-02-02-02-02-12.wav', 'extracted_audio/Actor_12/03-01-03-01-02-01-12.wav', 'extracted_audio/Actor_12/03-01-03-02-01-01-12.wav', 'extracted_audio/Actor_12/03-01-08-02-02-02-12.wav', 'extracted_audio/Actor_12/03-01-08-01-01-02-12.wav', 'extracted_audio/Actor_12/03-01-05-01-02-02-12.wav', 'extracted_audio/Actor_12/03-01-06-01-02-01-12.wav', 'extracted_audio/Actor_12/03-01-06-02-01-01-12.wav', 'extracted_audio/Actor_12/03-01-05-02-01-02-12.wav', 'extracted_audio/Actor_12/03-01-07-01-01-02-12.wav', 'extracted_audio/Actor_12/03-01-04-01-01-01-12.wav', 'extracted_audio/Actor_12/03-01-04-02-02-01-12.wav', 'extracted_audio/Actor_12/03-01-07-02-02-02-12.wav', 'extracted_audio/Actor_12/03-01-03-02-02-01-12.wav', 'extracted_audio/Actor_12/03-01-03-01-01-01-12.wav', 'extracted_audio/Actor_12/03-01-02-02-01-02-12.wav', 'extracted_audio/Actor_12/03-01-01-01-02-01-12.wav', 'extracted_audio/Actor_12/03-01-02-01-02-02-12.wav', 'extracted_audio/Actor_12/03-01-03-02-01-02-12.wav', 'extracted_audio/Actor_12/03-01-03-01-02-02-12.wav', 'extracted_audio/Actor_12/03-01-02-02-02-01-12.wav', 'extracted_audio/Actor_12/03-01-02-01-01-01-12.wav', 'extracted_audio/Actor_12/03-01-01-01-01-02-12.wav', 'extracted_audio/Actor_12/03-01-08-02-01-01-12.wav', 'extracted_audio/Actor_12/03-01-08-01-02-01-12.wav', 'extracted_audio/Actor_12/03-01-06-01-01-02-12.wav', 'extracted_audio/Actor_12/03-01-05-01-01-01-12.wav', 'extracted_audio/Actor_12/03-01-05-02-02-01-12.wav', 'extracted_audio/Actor_12/03-01-06-02-02-02-12.wav', 'extracted_audio/Actor_12/03-01-04-01-02-02-12.wav', 'extracted_audio/Actor_12/03-01-07-01-02-01-12.wav', 'extracted_audio/Actor_12/03-01-07-02-01-01-12.wav', 'extracted_audio/Actor_12/03-01-04-02-01-02-12.wav', 'extracted_audio/Actor_15/03-01-08-02-02-01-15.wav', 'extracted_audio/Actor_15/03-01-08-01-01-01-15.wav', 'extracted_audio/Actor_15/03-01-06-01-02-02-15.wav', 'extracted_audio/Actor_15/03-01-05-01-02-01-15.wav', 'extracted_audio/Actor_15/03-01-05-02-01-01-15.wav', 'extracted_audio/Actor_15/03-01-06-02-01-02-15.wav', 'extracted_audio/Actor_15/03-01-04-01-01-02-15.wav', 'extracted_audio/Actor_15/03-01-07-01-01-01-15.wav', 'extracted_audio/Actor_15/03-01-07-02-02-01-15.wav', 'extracted_audio/Actor_15/03-01-04-02-02-02-15.wav', 'extracted_audio/Actor_15/03-01-03-02-02-02-15.wav', 'extracted_audio/Actor_15/03-01-03-01-01-02-15.wav', 'extracted_audio/Actor_15/03-01-02-02-01-01-15.wav', 'extracted_audio/Actor_15/03-01-02-01-02-01-15.wav', 'extracted_audio/Actor_15/03-01-01-01-02-02-15.wav', 'extracted_audio/Actor_15/03-01-03-02-01-01-15.wav', 'extracted_audio/Actor_15/03-01-03-01-02-01-15.wav', 'extracted_audio/Actor_15/03-01-02-02-02-02-15.wav', 'extracted_audio/Actor_15/03-01-01-01-01-01-15.wav', 'extracted_audio/Actor_15/03-01-02-01-01-02-15.wav', 'extracted_audio/Actor_15/03-01-08-02-01-02-15.wav', 'extracted_audio/Actor_15/03-01-08-01-02-02-15.wav', 'extracted_audio/Actor_15/03-01-05-01-01-02-15.wav', 'extracted_audio/Actor_15/03-01-06-01-01-01-15.wav', 'extracted_audio/Actor_15/03-01-06-02-02-01-15.wav', 'extracted_audio/Actor_15/03-01-05-02-02-02-15.wav', 'extracted_audio/Actor_15/03-01-07-01-02-02-15.wav', 'extracted_audio/Actor_15/03-01-04-01-02-01-15.wav', 'extracted_audio/Actor_15/03-01-04-02-01-01-15.wav', 'extracted_audio/Actor_15/03-01-07-02-01-02-15.wav', 'extracted_audio/Actor_15/03-01-01-01-02-01-15.wav', 'extracted_audio/Actor_15/03-01-02-01-02-02-15.wav', 'extracted_audio/Actor_15/03-01-02-02-01-02-15.wav', 'extracted_audio/Actor_15/03-01-03-01-01-01-15.wav', 'extracted_audio/Actor_15/03-01-03-02-02-01-15.wav', 'extracted_audio/Actor_15/03-01-08-01-01-02-15.wav', 'extracted_audio/Actor_15/03-01-08-02-02-02-15.wav', 'extracted_audio/Actor_15/03-01-04-02-02-01-15.wav', 'extracted_audio/Actor_15/03-01-07-02-02-02-15.wav', 'extracted_audio/Actor_15/03-01-07-01-01-02-15.wav', 'extracted_audio/Actor_15/03-01-04-01-01-01-15.wav', 'extracted_audio/Actor_15/03-01-06-02-01-01-15.wav', 'extracted_audio/Actor_15/03-01-05-02-01-02-15.wav', 'extracted_audio/Actor_15/03-01-05-01-02-02-15.wav', 'extracted_audio/Actor_15/03-01-06-01-02-01-15.wav', 'extracted_audio/Actor_15/03-01-08-01-02-01-15.wav', 'extracted_audio/Actor_15/03-01-08-02-01-01-15.wav', 'extracted_audio/Actor_15/03-01-07-02-01-01-15.wav', 'extracted_audio/Actor_15/03-01-04-02-01-02-15.wav', 'extracted_audio/Actor_15/03-01-04-01-02-02-15.wav', 'extracted_audio/Actor_15/03-01-07-01-02-01-15.wav', 'extracted_audio/Actor_15/03-01-05-02-02-01-15.wav', 'extracted_audio/Actor_15/03-01-06-02-02-02-15.wav', 'extracted_audio/Actor_15/03-01-06-01-01-02-15.wav', 'extracted_audio/Actor_15/03-01-05-01-01-01-15.wav', 'extracted_audio/Actor_15/03-01-02-01-01-01-15.wav', 'extracted_audio/Actor_15/03-01-01-01-01-02-15.wav', 'extracted_audio/Actor_15/03-01-02-02-02-01-15.wav', 'extracted_audio/Actor_15/03-01-03-01-02-02-15.wav', 'extracted_audio/Actor_15/03-01-03-02-01-02-15.wav', 'extracted_audio/Actor_23/03-01-07-02-01-01-23.wav', 'extracted_audio/Actor_23/03-01-04-02-01-02-23.wav', 'extracted_audio/Actor_23/03-01-04-01-02-02-23.wav', 'extracted_audio/Actor_23/03-01-07-01-02-01-23.wav', 'extracted_audio/Actor_23/03-01-05-02-02-01-23.wav', 'extracted_audio/Actor_23/03-01-06-02-02-02-23.wav', 'extracted_audio/Actor_23/03-01-06-01-01-02-23.wav', 'extracted_audio/Actor_23/03-01-05-01-01-01-23.wav', 'extracted_audio/Actor_23/03-01-08-01-02-01-23.wav', 'extracted_audio/Actor_23/03-01-08-02-01-01-23.wav', 'extracted_audio/Actor_23/03-01-02-01-01-01-23.wav', 'extracted_audio/Actor_23/03-01-01-01-01-02-23.wav', 'extracted_audio/Actor_23/03-01-02-02-02-01-23.wav', 'extracted_audio/Actor_23/03-01-03-01-02-02-23.wav', 'extracted_audio/Actor_23/03-01-03-02-01-02-23.wav', 'extracted_audio/Actor_23/03-01-01-01-02-01-23.wav', 'extracted_audio/Actor_23/03-01-02-01-02-02-23.wav', 'extracted_audio/Actor_23/03-01-02-02-01-02-23.wav', 'extracted_audio/Actor_23/03-01-03-01-01-01-23.wav', 'extracted_audio/Actor_23/03-01-03-02-02-01-23.wav', 'extracted_audio/Actor_23/03-01-04-02-02-01-23.wav', 'extracted_audio/Actor_23/03-01-07-02-02-02-23.wav', 'extracted_audio/Actor_23/03-01-07-01-01-02-23.wav', 'extracted_audio/Actor_23/03-01-04-01-01-01-23.wav', 'extracted_audio/Actor_23/03-01-06-02-01-01-23.wav', 'extracted_audio/Actor_23/03-01-05-02-01-02-23.wav', 'extracted_audio/Actor_23/03-01-05-01-02-02-23.wav', 'extracted_audio/Actor_23/03-01-06-01-02-01-23.wav', 'extracted_audio/Actor_23/03-01-08-01-01-02-23.wav', 'extracted_audio/Actor_23/03-01-08-02-02-02-23.wav', 'extracted_audio/Actor_23/03-01-03-02-01-01-23.wav', 'extracted_audio/Actor_23/03-01-03-01-02-01-23.wav', 'extracted_audio/Actor_23/03-01-02-02-02-02-23.wav', 'extracted_audio/Actor_23/03-01-01-01-01-01-23.wav', 'extracted_audio/Actor_23/03-01-02-01-01-02-23.wav', 'extracted_audio/Actor_23/03-01-05-01-01-02-23.wav', 'extracted_audio/Actor_23/03-01-06-01-01-01-23.wav', 'extracted_audio/Actor_23/03-01-06-02-02-01-23.wav', 'extracted_audio/Actor_23/03-01-05-02-02-02-23.wav', 'extracted_audio/Actor_23/03-01-07-01-02-02-23.wav', 'extracted_audio/Actor_23/03-01-04-01-02-01-23.wav', 'extracted_audio/Actor_23/03-01-04-02-01-01-23.wav', 'extracted_audio/Actor_23/03-01-07-02-01-02-23.wav', 'extracted_audio/Actor_23/03-01-08-02-01-02-23.wav', 'extracted_audio/Actor_23/03-01-08-01-02-02-23.wav', 'extracted_audio/Actor_23/03-01-06-01-02-02-23.wav', 'extracted_audio/Actor_23/03-01-05-01-02-01-23.wav', 'extracted_audio/Actor_23/03-01-05-02-01-01-23.wav', 'extracted_audio/Actor_23/03-01-06-02-01-02-23.wav', 'extracted_audio/Actor_23/03-01-04-01-01-02-23.wav', 'extracted_audio/Actor_23/03-01-07-01-01-01-23.wav', 'extracted_audio/Actor_23/03-01-07-02-02-01-23.wav', 'extracted_audio/Actor_23/03-01-04-02-02-02-23.wav', 'extracted_audio/Actor_23/03-01-08-02-02-01-23.wav', 'extracted_audio/Actor_23/03-01-08-01-01-01-23.wav', 'extracted_audio/Actor_23/03-01-03-02-02-02-23.wav', 'extracted_audio/Actor_23/03-01-03-01-01-02-23.wav', 'extracted_audio/Actor_23/03-01-02-02-01-01-23.wav', 'extracted_audio/Actor_23/03-01-02-01-02-01-23.wav', 'extracted_audio/Actor_23/03-01-01-01-02-02-23.wav', 'extracted_audio/Actor_24/03-01-03-02-01-02-24.wav', 'extracted_audio/Actor_24/03-01-03-01-02-02-24.wav', 'extracted_audio/Actor_24/03-01-02-02-02-01-24.wav', 'extracted_audio/Actor_24/03-01-02-01-01-01-24.wav', 'extracted_audio/Actor_24/03-01-01-01-01-02-24.wav', 'extracted_audio/Actor_24/03-01-06-01-01-02-24.wav', 'extracted_audio/Actor_24/03-01-05-01-01-01-24.wav', 'extracted_audio/Actor_24/03-01-05-02-02-01-24.wav', 'extracted_audio/Actor_24/03-01-06-02-02-02-24.wav', 'extracted_audio/Actor_24/03-01-04-01-02-02-24.wav', 'extracted_audio/Actor_24/03-01-07-01-02-01-24.wav', 'extracted_audio/Actor_24/03-01-07-02-01-01-24.wav', 'extracted_audio/Actor_24/03-01-04-02-01-02-24.wav', 'extracted_audio/Actor_24/03-01-08-02-01-01-24.wav', 'extracted_audio/Actor_24/03-01-08-01-02-01-24.wav', 'extracted_audio/Actor_24/03-01-05-01-02-02-24.wav', 'extracted_audio/Actor_24/03-01-06-01-02-01-24.wav', 'extracted_audio/Actor_24/03-01-06-02-01-01-24.wav', 'extracted_audio/Actor_24/03-01-05-02-01-02-24.wav', 'extracted_audio/Actor_24/03-01-07-01-01-02-24.wav', 'extracted_audio/Actor_24/03-01-04-01-01-01-24.wav', 'extracted_audio/Actor_24/03-01-04-02-02-01-24.wav', 'extracted_audio/Actor_24/03-01-07-02-02-02-24.wav', 'extracted_audio/Actor_24/03-01-08-02-02-02-24.wav', 'extracted_audio/Actor_24/03-01-08-01-01-02-24.wav', 'extracted_audio/Actor_24/03-01-03-02-02-01-24.wav', 'extracted_audio/Actor_24/03-01-03-01-01-01-24.wav', 'extracted_audio/Actor_24/03-01-02-02-01-02-24.wav', 'extracted_audio/Actor_24/03-01-01-01-02-01-24.wav', 'extracted_audio/Actor_24/03-01-02-01-02-02-24.wav', 'extracted_audio/Actor_24/03-01-04-02-01-01-24.wav', 'extracted_audio/Actor_24/03-01-07-02-01-02-24.wav', 'extracted_audio/Actor_24/03-01-07-01-02-02-24.wav', 'extracted_audio/Actor_24/03-01-04-01-02-01-24.wav', 'extracted_audio/Actor_24/03-01-06-02-02-01-24.wav', 'extracted_audio/Actor_24/03-01-05-02-02-02-24.wav', 'extracted_audio/Actor_24/03-01-05-01-01-02-24.wav', 'extracted_audio/Actor_24/03-01-06-01-01-01-24.wav', 'extracted_audio/Actor_24/03-01-08-01-02-02-24.wav', 'extracted_audio/Actor_24/03-01-08-02-01-02-24.wav', 'extracted_audio/Actor_24/03-01-01-01-01-01-24.wav', 'extracted_audio/Actor_24/03-01-02-01-01-02-24.wav', 'extracted_audio/Actor_24/03-01-02-02-02-02-24.wav', 'extracted_audio/Actor_24/03-01-03-01-02-01-24.wav', 'extracted_audio/Actor_24/03-01-03-02-01-01-24.wav', 'extracted_audio/Actor_24/03-01-02-01-02-01-24.wav', 'extracted_audio/Actor_24/03-01-01-01-02-02-24.wav', 'extracted_audio/Actor_24/03-01-02-02-01-01-24.wav', 'extracted_audio/Actor_24/03-01-03-01-01-02-24.wav', 'extracted_audio/Actor_24/03-01-03-02-02-02-24.wav', 'extracted_audio/Actor_24/03-01-07-02-02-01-24.wav', 'extracted_audio/Actor_24/03-01-04-02-02-02-24.wav', 'extracted_audio/Actor_24/03-01-04-01-01-02-24.wav', 'extracted_audio/Actor_24/03-01-07-01-01-01-24.wav', 'extracted_audio/Actor_24/03-01-05-02-01-01-24.wav', 'extracted_audio/Actor_24/03-01-06-02-01-02-24.wav', 'extracted_audio/Actor_24/03-01-06-01-02-02-24.wav', 'extracted_audio/Actor_24/03-01-05-01-02-01-24.wav', 'extracted_audio/Actor_24/03-01-08-01-01-01-24.wav', 'extracted_audio/Actor_24/03-01-08-02-02-01-24.wav', 'extracted_audio/Actor_22/03-01-05-01-01-01-22.wav', 'extracted_audio/Actor_22/03-01-06-01-01-02-22.wav', 'extracted_audio/Actor_22/03-01-06-02-02-02-22.wav', 'extracted_audio/Actor_22/03-01-05-02-02-01-22.wav', 'extracted_audio/Actor_22/03-01-07-01-02-01-22.wav', 'extracted_audio/Actor_22/03-01-04-01-02-02-22.wav', 'extracted_audio/Actor_22/03-01-04-02-01-02-22.wav', 'extracted_audio/Actor_22/03-01-07-02-01-01-22.wav', 'extracted_audio/Actor_22/03-01-08-02-01-01-22.wav', 'extracted_audio/Actor_22/03-01-08-01-02-01-22.wav', 'extracted_audio/Actor_22/03-01-03-02-01-02-22.wav', 'extracted_audio/Actor_22/03-01-03-01-02-02-22.wav', 'extracted_audio/Actor_22/03-01-02-02-02-01-22.wav', 'extracted_audio/Actor_22/03-01-01-01-01-02-22.wav', 'extracted_audio/Actor_22/03-01-02-01-01-01-22.wav', 'extracted_audio/Actor_22/03-01-03-02-02-01-22.wav', 'extracted_audio/Actor_22/03-01-03-01-01-01-22.wav', 'extracted_audio/Actor_22/03-01-02-02-01-02-22.wav', 'extracted_audio/Actor_22/03-01-02-01-02-02-22.wav', 'extracted_audio/Actor_22/03-01-01-01-02-01-22.wav', 'extracted_audio/Actor_22/03-01-06-01-02-01-22.wav', 'extracted_audio/Actor_22/03-01-05-01-02-02-22.wav', 'extracted_audio/Actor_22/03-01-05-02-01-02-22.wav', 'extracted_audio/Actor_22/03-01-06-02-01-01-22.wav', 'extracted_audio/Actor_22/03-01-04-01-01-01-22.wav', 'extracted_audio/Actor_22/03-01-07-01-01-02-22.wav', 'extracted_audio/Actor_22/03-01-07-02-02-02-22.wav', 'extracted_audio/Actor_22/03-01-04-02-02-01-22.wav', 'extracted_audio/Actor_22/03-01-08-02-02-02-22.wav', 'extracted_audio/Actor_22/03-01-08-01-01-02-22.wav', 'extracted_audio/Actor_22/03-01-02-01-01-02-22.wav', 'extracted_audio/Actor_22/03-01-01-01-01-01-22.wav', 'extracted_audio/Actor_22/03-01-02-02-02-02-22.wav', 'extracted_audio/Actor_22/03-01-03-01-02-01-22.wav', 'extracted_audio/Actor_22/03-01-03-02-01-01-22.wav', 'extracted_audio/Actor_22/03-01-07-02-01-02-22.wav', 'extracted_audio/Actor_22/03-01-04-02-01-01-22.wav', 'extracted_audio/Actor_22/03-01-04-01-02-01-22.wav', 'extracted_audio/Actor_22/03-01-07-01-02-02-22.wav', 'extracted_audio/Actor_22/03-01-05-02-02-02-22.wav', 'extracted_audio/Actor_22/03-01-06-02-02-01-22.wav', 'extracted_audio/Actor_22/03-01-06-01-01-01-22.wav', 'extracted_audio/Actor_22/03-01-05-01-01-02-22.wav', 'extracted_audio/Actor_22/03-01-08-01-02-02-22.wav', 'extracted_audio/Actor_22/03-01-08-02-01-02-22.wav', 'extracted_audio/Actor_22/03-01-04-02-02-02-22.wav', 'extracted_audio/Actor_22/03-01-07-02-02-01-22.wav', 'extracted_audio/Actor_22/03-01-07-01-01-01-22.wav', 'extracted_audio/Actor_22/03-01-04-01-01-02-22.wav', 'extracted_audio/Actor_22/03-01-06-02-01-02-22.wav', 'extracted_audio/Actor_22/03-01-05-02-01-01-22.wav', 'extracted_audio/Actor_22/03-01-05-01-02-01-22.wav', 'extracted_audio/Actor_22/03-01-06-01-02-02-22.wav', 'extracted_audio/Actor_22/03-01-08-01-01-01-22.wav', 'extracted_audio/Actor_22/03-01-08-02-02-01-22.wav', 'extracted_audio/Actor_22/03-01-01-01-02-02-22.wav', 'extracted_audio/Actor_22/03-01-02-01-02-01-22.wav', 'extracted_audio/Actor_22/03-01-02-02-01-01-22.wav', 'extracted_audio/Actor_22/03-01-03-01-01-02-22.wav', 'extracted_audio/Actor_22/03-01-03-02-02-02-22.wav', 'extracted_audio/Actor_14/03-01-08-01-01-01-14.wav', 'extracted_audio/Actor_14/03-01-08-02-02-01-14.wav', 'extracted_audio/Actor_14/03-01-04-02-02-02-14.wav', 'extracted_audio/Actor_14/03-01-07-02-02-01-14.wav', 'extracted_audio/Actor_14/03-01-07-01-01-01-14.wav', 'extracted_audio/Actor_14/03-01-04-01-01-02-14.wav', 'extracted_audio/Actor_14/03-01-06-02-01-02-14.wav', 'extracted_audio/Actor_14/03-01-05-02-01-01-14.wav', 'extracted_audio/Actor_14/03-01-05-01-02-01-14.wav', 'extracted_audio/Actor_14/03-01-06-01-02-02-14.wav', 'extracted_audio/Actor_14/03-01-01-01-02-02-14.wav', 'extracted_audio/Actor_14/03-01-02-01-02-01-14.wav', 'extracted_audio/Actor_14/03-01-02-02-01-01-14.wav', 'extracted_audio/Actor_14/03-01-03-01-01-02-14.wav', 'extracted_audio/Actor_14/03-01-03-02-02-02-14.wav', 'extracted_audio/Actor_14/03-01-02-01-01-02-14.wav', 'extracted_audio/Actor_14/03-01-01-01-01-01-14.wav', 'extracted_audio/Actor_14/03-01-02-02-02-02-14.wav', 'extracted_audio/Actor_14/03-01-03-01-02-01-14.wav', 'extracted_audio/Actor_14/03-01-03-02-01-01-14.wav', 'extracted_audio/Actor_14/03-01-08-01-02-02-14.wav', 'extracted_audio/Actor_14/03-01-08-02-01-02-14.wav', 'extracted_audio/Actor_14/03-01-07-02-01-02-14.wav', 'extracted_audio/Actor_14/03-01-04-02-01-01-14.wav', 'extracted_audio/Actor_14/03-01-04-01-02-01-14.wav', 'extracted_audio/Actor_14/03-01-07-01-02-02-14.wav', 'extracted_audio/Actor_14/03-01-05-02-02-02-14.wav', 'extracted_audio/Actor_14/03-01-06-02-02-01-14.wav', 'extracted_audio/Actor_14/03-01-06-01-01-01-14.wav', 'extracted_audio/Actor_14/03-01-05-01-01-02-14.wav', 'extracted_audio/Actor_14/03-01-03-02-02-01-14.wav', 'extracted_audio/Actor_14/03-01-03-01-01-01-14.wav', 'extracted_audio/Actor_14/03-01-02-02-01-02-14.wav', 'extracted_audio/Actor_14/03-01-02-01-02-02-14.wav', 'extracted_audio/Actor_14/03-01-01-01-02-01-14.wav', 'extracted_audio/Actor_14/03-01-08-02-02-02-14.wav', 'extracted_audio/Actor_14/03-01-08-01-01-02-14.wav', 'extracted_audio/Actor_14/03-01-06-01-02-01-14.wav', 'extracted_audio/Actor_14/03-01-05-01-02-02-14.wav', 'extracted_audio/Actor_14/03-01-05-02-01-02-14.wav', 'extracted_audio/Actor_14/03-01-06-02-01-01-14.wav', 'extracted_audio/Actor_14/03-01-04-01-01-01-14.wav', 'extracted_audio/Actor_14/03-01-07-01-01-02-14.wav', 'extracted_audio/Actor_14/03-01-07-02-02-02-14.wav', 'extracted_audio/Actor_14/03-01-04-02-02-01-14.wav', 'extracted_audio/Actor_14/03-01-08-02-01-01-14.wav', 'extracted_audio/Actor_14/03-01-08-01-02-01-14.wav', 'extracted_audio/Actor_14/03-01-05-01-01-01-14.wav', 'extracted_audio/Actor_14/03-01-06-01-01-02-14.wav', 'extracted_audio/Actor_14/03-01-06-02-02-02-14.wav', 'extracted_audio/Actor_14/03-01-05-02-02-01-14.wav', 'extracted_audio/Actor_14/03-01-07-01-02-01-14.wav', 'extracted_audio/Actor_14/03-01-04-01-02-02-14.wav', 'extracted_audio/Actor_14/03-01-04-02-01-02-14.wav', 'extracted_audio/Actor_14/03-01-07-02-01-01-14.wav', 'extracted_audio/Actor_14/03-01-03-02-01-02-14.wav', 'extracted_audio/Actor_14/03-01-03-01-02-02-14.wav', 'extracted_audio/Actor_14/03-01-02-02-02-01-14.wav', 'extracted_audio/Actor_14/03-01-01-01-01-02-14.wav', 'extracted_audio/Actor_14/03-01-02-01-01-01-14.wav', 'extracted_audio/Actor_13/03-01-03-02-02-02-13.wav', 'extracted_audio/Actor_13/03-01-03-01-01-02-13.wav', 'extracted_audio/Actor_13/03-01-02-02-01-01-13.wav', 'extracted_audio/Actor_13/03-01-01-01-02-02-13.wav', 'extracted_audio/Actor_13/03-01-02-01-02-01-13.wav', 'extracted_audio/Actor_13/03-01-08-02-02-01-13.wav', 'extracted_audio/Actor_13/03-01-08-01-01-01-13.wav', 'extracted_audio/Actor_13/03-01-05-01-02-01-13.wav', 'extracted_audio/Actor_13/03-01-06-01-02-02-13.wav', 'extracted_audio/Actor_13/03-01-06-02-01-02-13.wav', 'extracted_audio/Actor_13/03-01-05-02-01-01-13.wav', 'extracted_audio/Actor_13/03-01-07-01-01-01-13.wav', 'extracted_audio/Actor_13/03-01-04-01-01-02-13.wav', 'extracted_audio/Actor_13/03-01-04-02-02-02-13.wav', 'extracted_audio/Actor_13/03-01-07-02-02-01-13.wav', 'extracted_audio/Actor_13/03-01-08-02-01-02-13.wav', 'extracted_audio/Actor_13/03-01-08-01-02-02-13.wav', 'extracted_audio/Actor_13/03-01-06-01-01-01-13.wav', 'extracted_audio/Actor_13/03-01-05-01-01-02-13.wav', 'extracted_audio/Actor_13/03-01-05-02-02-02-13.wav', 'extracted_audio/Actor_13/03-01-06-02-02-01-13.wav', 'extracted_audio/Actor_13/03-01-04-01-02-01-13.wav', 'extracted_audio/Actor_13/03-01-07-01-02-02-13.wav', 'extracted_audio/Actor_13/03-01-07-02-01-02-13.wav', 'extracted_audio/Actor_13/03-01-04-02-01-01-13.wav', 'extracted_audio/Actor_13/03-01-03-02-01-01-13.wav', 'extracted_audio/Actor_13/03-01-03-01-02-01-13.wav', 'extracted_audio/Actor_13/03-01-02-02-02-02-13.wav', 'extracted_audio/Actor_13/03-01-02-01-01-02-13.wav', 'extracted_audio/Actor_13/03-01-01-01-01-01-13.wav', 'extracted_audio/Actor_13/03-01-08-01-01-02-13.wav', 'extracted_audio/Actor_13/03-01-08-02-02-02-13.wav', 'extracted_audio/Actor_13/03-01-07-02-02-02-13.wav', 'extracted_audio/Actor_13/03-01-04-02-02-01-13.wav', 'extracted_audio/Actor_13/03-01-04-01-01-01-13.wav', 'extracted_audio/Actor_13/03-01-07-01-01-02-13.wav', 'extracted_audio/Actor_13/03-01-05-02-01-02-13.wav', 'extracted_audio/Actor_13/03-01-06-02-01-01-13.wav', 'extracted_audio/Actor_13/03-01-06-01-02-01-13.wav', 'extracted_audio/Actor_13/03-01-05-01-02-02-13.wav', 'extracted_audio/Actor_13/03-01-02-01-02-02-13.wav', 'extracted_audio/Actor_13/03-01-01-01-02-01-13.wav', 'extracted_audio/Actor_13/03-01-02-02-01-02-13.wav', 'extracted_audio/Actor_13/03-01-03-01-01-01-13.wav', 'extracted_audio/Actor_13/03-01-03-02-02-01-13.wav', 'extracted_audio/Actor_13/03-01-01-01-01-02-13.wav', 'extracted_audio/Actor_13/03-01-02-01-01-01-13.wav', 'extracted_audio/Actor_13/03-01-02-02-02-01-13.wav', 'extracted_audio/Actor_13/03-01-03-01-02-02-13.wav', 'extracted_audio/Actor_13/03-01-03-02-01-02-13.wav', 'extracted_audio/Actor_13/03-01-08-01-02-01-13.wav', 'extracted_audio/Actor_13/03-01-08-02-01-01-13.wav', 'extracted_audio/Actor_13/03-01-04-02-01-02-13.wav', 'extracted_audio/Actor_13/03-01-07-02-01-01-13.wav', 'extracted_audio/Actor_13/03-01-07-01-02-01-13.wav', 'extracted_audio/Actor_13/03-01-04-01-02-02-13.wav', 'extracted_audio/Actor_13/03-01-06-02-02-02-13.wav', 'extracted_audio/Actor_13/03-01-05-02-02-01-13.wav', 'extracted_audio/Actor_13/03-01-05-01-01-01-13.wav', 'extracted_audio/Actor_13/03-01-06-01-01-02-13.wav', 'extracted_audio/Actor_09/03-01-08-02-01-01-09.wav', 'extracted_audio/Actor_09/03-01-08-01-02-01-09.wav', 'extracted_audio/Actor_09/03-01-05-01-01-01-09.wav', 'extracted_audio/Actor_09/03-01-06-01-01-02-09.wav', 'extracted_audio/Actor_09/03-01-06-02-02-02-09.wav', 'extracted_audio/Actor_09/03-01-05-02-02-01-09.wav', 'extracted_audio/Actor_09/03-01-07-01-02-01-09.wav', 'extracted_audio/Actor_09/03-01-04-01-02-02-09.wav', 'extracted_audio/Actor_09/03-01-04-02-01-02-09.wav', 'extracted_audio/Actor_09/03-01-07-02-01-01-09.wav', 'extracted_audio/Actor_09/03-01-03-02-01-02-09.wav', 'extracted_audio/Actor_09/03-01-03-01-02-02-09.wav', 'extracted_audio/Actor_09/03-01-02-02-02-01-09.wav', 'extracted_audio/Actor_09/03-01-01-01-01-02-09.wav', 'extracted_audio/Actor_09/03-01-02-01-01-01-09.wav', 'extracted_audio/Actor_09/03-01-03-02-02-01-09.wav', 'extracted_audio/Actor_09/03-01-03-01-01-01-09.wav', 'extracted_audio/Actor_09/03-01-02-02-01-02-09.wav', 'extracted_audio/Actor_09/03-01-02-01-02-02-09.wav', 'extracted_audio/Actor_09/03-01-01-01-02-01-09.wav', 'extracted_audio/Actor_09/03-01-08-02-02-02-09.wav', 'extracted_audio/Actor_09/03-01-08-01-01-02-09.wav', 'extracted_audio/Actor_09/03-01-06-01-02-01-09.wav', 'extracted_audio/Actor_09/03-01-05-01-02-02-09.wav', 'extracted_audio/Actor_09/03-01-05-02-01-02-09.wav', 'extracted_audio/Actor_09/03-01-06-02-01-01-09.wav', 'extracted_audio/Actor_09/03-01-04-01-01-01-09.wav', 'extracted_audio/Actor_09/03-01-07-01-01-02-09.wav', 'extracted_audio/Actor_09/03-01-07-02-02-02-09.wav', 'extracted_audio/Actor_09/03-01-04-02-02-01-09.wav', 'extracted_audio/Actor_09/03-01-02-01-01-02-09.wav', 'extracted_audio/Actor_09/03-01-01-01-01-01-09.wav', 'extracted_audio/Actor_09/03-01-02-02-02-02-09.wav', 'extracted_audio/Actor_09/03-01-03-01-02-01-09.wav', 'extracted_audio/Actor_09/03-01-03-02-01-01-09.wav', 'extracted_audio/Actor_09/03-01-08-01-02-02-09.wav', 'extracted_audio/Actor_09/03-01-08-02-01-02-09.wav', 'extracted_audio/Actor_09/03-01-07-02-01-02-09.wav', 'extracted_audio/Actor_09/03-01-04-02-01-01-09.wav', 'extracted_audio/Actor_09/03-01-04-01-02-01-09.wav', 'extracted_audio/Actor_09/03-01-07-01-02-02-09.wav', 'extracted_audio/Actor_09/03-01-05-02-02-02-09.wav', 'extracted_audio/Actor_09/03-01-06-02-02-01-09.wav', 'extracted_audio/Actor_09/03-01-06-01-01-01-09.wav', 'extracted_audio/Actor_09/03-01-05-01-01-02-09.wav', 'extracted_audio/Actor_09/03-01-08-01-01-01-09.wav', 'extracted_audio/Actor_09/03-01-08-02-02-01-09.wav', 'extracted_audio/Actor_09/03-01-04-02-02-02-09.wav', 'extracted_audio/Actor_09/03-01-07-02-02-01-09.wav', 'extracted_audio/Actor_09/03-01-07-01-01-01-09.wav', 'extracted_audio/Actor_09/03-01-04-01-01-02-09.wav', 'extracted_audio/Actor_09/03-01-06-02-01-02-09.wav', 'extracted_audio/Actor_09/03-01-05-02-01-01-09.wav', 'extracted_audio/Actor_09/03-01-05-01-02-01-09.wav', 'extracted_audio/Actor_09/03-01-06-01-02-02-09.wav', 'extracted_audio/Actor_09/03-01-01-01-02-02-09.wav', 'extracted_audio/Actor_09/03-01-02-01-02-01-09.wav', 'extracted_audio/Actor_09/03-01-02-02-01-01-09.wav', 'extracted_audio/Actor_09/03-01-03-01-01-02-09.wav', 'extracted_audio/Actor_09/03-01-03-02-02-02-09.wav', 'extracted_audio/Actor_07/03-01-03-02-02-02-07.wav', 'extracted_audio/Actor_07/03-01-03-01-01-02-07.wav', 'extracted_audio/Actor_07/03-01-02-02-01-01-07.wav', 'extracted_audio/Actor_07/03-01-02-01-02-01-07.wav', 'extracted_audio/Actor_07/03-01-01-01-02-02-07.wav', 'extracted_audio/Actor_07/03-01-08-02-02-01-07.wav', 'extracted_audio/Actor_07/03-01-08-01-01-01-07.wav', 'extracted_audio/Actor_07/03-01-06-01-02-02-07.wav', 'extracted_audio/Actor_07/03-01-05-01-02-01-07.wav', 'extracted_audio/Actor_07/03-01-05-02-01-01-07.wav', 'extracted_audio/Actor_07/03-01-06-02-01-02-07.wav', 'extracted_audio/Actor_07/03-01-04-01-01-02-07.wav', 'extracted_audio/Actor_07/03-01-07-01-01-01-07.wav', 'extracted_audio/Actor_07/03-01-07-02-02-01-07.wav', 'extracted_audio/Actor_07/03-01-04-02-02-02-07.wav', 'extracted_audio/Actor_07/03-01-08-02-01-02-07.wav', 'extracted_audio/Actor_07/03-01-08-01-02-02-07.wav', 'extracted_audio/Actor_07/03-01-05-01-01-02-07.wav', 'extracted_audio/Actor_07/03-01-06-01-01-01-07.wav', 'extracted_audio/Actor_07/03-01-06-02-02-01-07.wav', 'extracted_audio/Actor_07/03-01-05-02-02-02-07.wav', 'extracted_audio/Actor_07/03-01-07-01-02-02-07.wav', 'extracted_audio/Actor_07/03-01-04-01-02-01-07.wav', 'extracted_audio/Actor_07/03-01-04-02-01-01-07.wav', 'extracted_audio/Actor_07/03-01-07-02-01-02-07.wav', 'extracted_audio/Actor_07/03-01-03-02-01-01-07.wav', 'extracted_audio/Actor_07/03-01-03-01-02-01-07.wav', 'extracted_audio/Actor_07/03-01-02-02-02-02-07.wav', 'extracted_audio/Actor_07/03-01-01-01-01-01-07.wav', 'extracted_audio/Actor_07/03-01-02-01-01-02-07.wav', 'extracted_audio/Actor_07/03-01-08-01-01-02-07.wav', 'extracted_audio/Actor_07/03-01-08-02-02-02-07.wav', 'extracted_audio/Actor_07/03-01-04-02-02-01-07.wav', 'extracted_audio/Actor_07/03-01-07-02-02-02-07.wav', 'extracted_audio/Actor_07/03-01-07-01-01-02-07.wav', 'extracted_audio/Actor_07/03-01-04-01-01-01-07.wav', 'extracted_audio/Actor_07/03-01-06-02-01-01-07.wav', 'extracted_audio/Actor_07/03-01-05-02-01-02-07.wav', 'extracted_audio/Actor_07/03-01-05-01-02-02-07.wav', 'extracted_audio/Actor_07/03-01-06-01-02-01-07.wav', 'extracted_audio/Actor_07/03-01-01-01-02-01-07.wav', 'extracted_audio/Actor_07/03-01-02-01-02-02-07.wav', 'extracted_audio/Actor_07/03-01-02-02-01-02-07.wav', 'extracted_audio/Actor_07/03-01-03-01-01-01-07.wav', 'extracted_audio/Actor_07/03-01-03-02-02-01-07.wav', 'extracted_audio/Actor_07/03-01-02-01-01-01-07.wav', 'extracted_audio/Actor_07/03-01-01-01-01-02-07.wav', 'extracted_audio/Actor_07/03-01-02-02-02-01-07.wav', 'extracted_audio/Actor_07/03-01-03-01-02-02-07.wav', 'extracted_audio/Actor_07/03-01-03-02-01-02-07.wav', 'extracted_audio/Actor_07/03-01-08-01-02-01-07.wav', 'extracted_audio/Actor_07/03-01-08-02-01-01-07.wav', 'extracted_audio/Actor_07/03-01-07-02-01-01-07.wav', 'extracted_audio/Actor_07/03-01-04-02-01-02-07.wav', 'extracted_audio/Actor_07/03-01-04-01-02-02-07.wav', 'extracted_audio/Actor_07/03-01-07-01-02-01-07.wav', 'extracted_audio/Actor_07/03-01-05-02-02-01-07.wav', 'extracted_audio/Actor_07/03-01-06-02-02-02-07.wav', 'extracted_audio/Actor_07/03-01-06-01-01-02-07.wav', 'extracted_audio/Actor_07/03-01-05-01-01-01-07.wav', 'extracted_audio/Actor_06/03-01-01-01-02-02-06.wav', 'extracted_audio/Actor_06/03-01-02-01-02-01-06.wav', 'extracted_audio/Actor_06/03-01-02-02-01-01-06.wav', 'extracted_audio/Actor_06/03-01-03-01-01-02-06.wav', 'extracted_audio/Actor_06/03-01-03-02-02-02-06.wav', 'extracted_audio/Actor_06/03-01-08-01-01-01-06.wav', 'extracted_audio/Actor_06/03-01-08-02-02-01-06.wav', 'extracted_audio/Actor_06/03-01-04-02-02-02-06.wav', 'extracted_audio/Actor_06/03-01-07-02-02-01-06.wav', 'extracted_audio/Actor_06/03-01-07-01-01-01-06.wav', 'extracted_audio/Actor_06/03-01-04-01-01-02-06.wav', 'extracted_audio/Actor_06/03-01-06-02-01-02-06.wav', 'extracted_audio/Actor_06/03-01-05-02-01-01-06.wav', 'extracted_audio/Actor_06/03-01-05-01-02-01-06.wav', 'extracted_audio/Actor_06/03-01-06-01-02-02-06.wav', 'extracted_audio/Actor_06/03-01-08-01-02-02-06.wav', 'extracted_audio/Actor_06/03-01-08-02-01-02-06.wav', 'extracted_audio/Actor_06/03-01-07-02-01-02-06.wav', 'extracted_audio/Actor_06/03-01-04-02-01-01-06.wav', 'extracted_audio/Actor_06/03-01-04-01-02-01-06.wav', 'extracted_audio/Actor_06/03-01-07-01-02-02-06.wav', 'extracted_audio/Actor_06/03-01-05-02-02-02-06.wav', 'extracted_audio/Actor_06/03-01-06-02-02-01-06.wav', 'extracted_audio/Actor_06/03-01-06-01-01-01-06.wav', 'extracted_audio/Actor_06/03-01-05-01-01-02-06.wav', 'extracted_audio/Actor_06/03-01-02-01-01-02-06.wav', 'extracted_audio/Actor_06/03-01-01-01-01-01-06.wav', 'extracted_audio/Actor_06/03-01-02-02-02-02-06.wav', 'extracted_audio/Actor_06/03-01-03-01-02-01-06.wav', 'extracted_audio/Actor_06/03-01-03-02-01-01-06.wav', 'extracted_audio/Actor_06/03-01-08-02-02-02-06.wav', 'extracted_audio/Actor_06/03-01-08-01-01-02-06.wav', 'extracted_audio/Actor_06/03-01-06-01-02-01-06.wav', 'extracted_audio/Actor_06/03-01-05-01-02-02-06.wav', 'extracted_audio/Actor_06/03-01-05-02-01-02-06.wav', 'extracted_audio/Actor_06/03-01-06-02-01-01-06.wav', 'extracted_audio/Actor_06/03-01-04-01-01-01-06.wav', 'extracted_audio/Actor_06/03-01-07-01-01-02-06.wav', 'extracted_audio/Actor_06/03-01-07-02-02-02-06.wav', 'extracted_audio/Actor_06/03-01-04-02-02-01-06.wav', 'extracted_audio/Actor_06/03-01-03-02-02-01-06.wav', 'extracted_audio/Actor_06/03-01-03-01-01-01-06.wav', 'extracted_audio/Actor_06/03-01-02-02-01-02-06.wav', 'extracted_audio/Actor_06/03-01-02-01-02-02-06.wav', 'extracted_audio/Actor_06/03-01-01-01-02-01-06.wav', 'extracted_audio/Actor_06/03-01-03-02-01-02-06.wav', 'extracted_audio/Actor_06/03-01-03-01-02-02-06.wav', 'extracted_audio/Actor_06/03-01-02-02-02-01-06.wav', 'extracted_audio/Actor_06/03-01-01-01-01-02-06.wav', 'extracted_audio/Actor_06/03-01-02-01-01-01-06.wav', 'extracted_audio/Actor_06/03-01-08-02-01-01-06.wav', 'extracted_audio/Actor_06/03-01-08-01-02-01-06.wav', 'extracted_audio/Actor_06/03-01-05-01-01-01-06.wav', 'extracted_audio/Actor_06/03-01-06-01-01-02-06.wav', 'extracted_audio/Actor_06/03-01-06-02-02-02-06.wav', 'extracted_audio/Actor_06/03-01-05-02-02-01-06.wav', 'extracted_audio/Actor_06/03-01-07-01-02-01-06.wav', 'extracted_audio/Actor_06/03-01-04-01-02-02-06.wav', 'extracted_audio/Actor_06/03-01-04-02-01-02-06.wav', 'extracted_audio/Actor_06/03-01-07-02-01-01-06.wav', 'extracted_audio/Actor_01/03-01-08-02-02-01-01.wav', 'extracted_audio/Actor_01/03-01-08-01-01-01-01.wav', 'extracted_audio/Actor_01/03-01-05-01-02-01-01.wav', 'extracted_audio/Actor_01/03-01-06-01-02-02-01.wav', 'extracted_audio/Actor_01/03-01-06-02-01-02-01.wav', 'extracted_audio/Actor_01/03-01-05-02-01-01-01.wav', 'extracted_audio/Actor_01/03-01-07-01-01-01-01.wav', 'extracted_audio/Actor_01/03-01-04-01-01-02-01.wav', 'extracted_audio/Actor_01/03-01-04-02-02-02-01.wav', 'extracted_audio/Actor_01/03-01-07-02-02-01-01.wav', 'extracted_audio/Actor_01/03-01-03-02-02-02-01.wav', 'extracted_audio/Actor_01/03-01-03-01-01-02-01.wav', 'extracted_audio/Actor_01/03-01-02-02-01-01-01.wav', 'extracted_audio/Actor_01/03-01-01-01-02-02-01.wav', 'extracted_audio/Actor_01/03-01-02-01-02-01-01.wav', 'extracted_audio/Actor_01/03-01-03-02-01-01-01.wav', 'extracted_audio/Actor_01/03-01-03-01-02-01-01.wav', 'extracted_audio/Actor_01/03-01-02-02-02-02-01.wav', 'extracted_audio/Actor_01/03-01-02-01-01-02-01.wav', 'extracted_audio/Actor_01/03-01-01-01-01-01-01.wav', 'extracted_audio/Actor_01/03-01-08-02-01-02-01.wav', 'extracted_audio/Actor_01/03-01-08-01-02-02-01.wav', 'extracted_audio/Actor_01/03-01-06-01-01-01-01.wav', 'extracted_audio/Actor_01/03-01-05-01-01-02-01.wav', 'extracted_audio/Actor_01/03-01-05-02-02-02-01.wav', 'extracted_audio/Actor_01/03-01-06-02-02-01-01.wav', 'extracted_audio/Actor_01/03-01-04-01-02-01-01.wav', 'extracted_audio/Actor_01/03-01-07-01-02-02-01.wav', 'extracted_audio/Actor_01/03-01-07-02-01-02-01.wav', 'extracted_audio/Actor_01/03-01-04-02-01-01-01.wav', 'extracted_audio/Actor_01/03-01-02-01-02-02-01.wav', 'extracted_audio/Actor_01/03-01-01-01-02-01-01.wav', 'extracted_audio/Actor_01/03-01-02-02-01-02-01.wav', 'extracted_audio/Actor_01/03-01-03-01-01-01-01.wav', 'extracted_audio/Actor_01/03-01-03-02-02-01-01.wav', 'extracted_audio/Actor_01/03-01-08-01-01-02-01.wav', 'extracted_audio/Actor_01/03-01-08-02-02-02-01.wav', 'extracted_audio/Actor_01/03-01-07-02-02-02-01.wav', 'extracted_audio/Actor_01/03-01-04-02-02-01-01.wav', 'extracted_audio/Actor_01/03-01-04-01-01-01-01.wav', 'extracted_audio/Actor_01/03-01-07-01-01-02-01.wav', 'extracted_audio/Actor_01/03-01-05-02-01-02-01.wav', 'extracted_audio/Actor_01/03-01-06-02-01-01-01.wav', 'extracted_audio/Actor_01/03-01-06-01-02-01-01.wav', 'extracted_audio/Actor_01/03-01-05-01-02-02-01.wav', 'extracted_audio/Actor_01/03-01-08-01-02-01-01.wav', 'extracted_audio/Actor_01/03-01-08-02-01-01-01.wav', 'extracted_audio/Actor_01/03-01-04-02-01-02-01.wav', 'extracted_audio/Actor_01/03-01-07-02-01-01-01.wav', 'extracted_audio/Actor_01/03-01-07-01-02-01-01.wav', 'extracted_audio/Actor_01/03-01-04-01-02-02-01.wav', 'extracted_audio/Actor_01/03-01-06-02-02-02-01.wav', 'extracted_audio/Actor_01/03-01-05-02-02-01-01.wav', 'extracted_audio/Actor_01/03-01-05-01-01-01-01.wav', 'extracted_audio/Actor_01/03-01-06-01-01-02-01.wav', 'extracted_audio/Actor_01/03-01-01-01-01-02-01.wav', 'extracted_audio/Actor_01/03-01-02-01-01-01-01.wav', 'extracted_audio/Actor_01/03-01-02-02-02-01-01.wav', 'extracted_audio/Actor_01/03-01-03-01-02-02-01.wav', 'extracted_audio/Actor_01/03-01-03-02-01-02-01.wav', 'extracted_audio/Actor_08/03-01-08-01-02-01-08.wav', 'extracted_audio/Actor_08/03-01-08-02-01-01-08.wav', 'extracted_audio/Actor_08/03-01-07-02-01-01-08.wav', 'extracted_audio/Actor_08/03-01-04-02-01-02-08.wav', 'extracted_audio/Actor_08/03-01-04-01-02-02-08.wav', 'extracted_audio/Actor_08/03-01-07-01-02-01-08.wav', 'extracted_audio/Actor_08/03-01-05-02-02-01-08.wav', 'extracted_audio/Actor_08/03-01-06-02-02-02-08.wav', 'extracted_audio/Actor_08/03-01-06-01-01-02-08.wav', 'extracted_audio/Actor_08/03-01-05-01-01-01-08.wav', 'extracted_audio/Actor_08/03-01-02-01-01-01-08.wav', 'extracted_audio/Actor_08/03-01-01-01-01-02-08.wav', 'extracted_audio/Actor_08/03-01-02-02-02-01-08.wav', 'extracted_audio/Actor_08/03-01-03-01-02-02-08.wav', 'extracted_audio/Actor_08/03-01-03-02-01-02-08.wav', 'extracted_audio/Actor_08/03-01-01-01-02-01-08.wav', 'extracted_audio/Actor_08/03-01-02-01-02-02-08.wav', 'extracted_audio/Actor_08/03-01-02-02-01-02-08.wav', 'extracted_audio/Actor_08/03-01-03-01-01-01-08.wav', 'extracted_audio/Actor_08/03-01-03-02-02-01-08.wav', 'extracted_audio/Actor_08/03-01-08-01-01-02-08.wav', 'extracted_audio/Actor_08/03-01-08-02-02-02-08.wav', 'extracted_audio/Actor_08/03-01-04-02-02-01-08.wav', 'extracted_audio/Actor_08/03-01-07-02-02-02-08.wav', 'extracted_audio/Actor_08/03-01-07-01-01-02-08.wav', 'extracted_audio/Actor_08/03-01-04-01-01-01-08.wav', 'extracted_audio/Actor_08/03-01-06-02-01-01-08.wav', 'extracted_audio/Actor_08/03-01-05-02-01-02-08.wav', 'extracted_audio/Actor_08/03-01-05-01-02-02-08.wav', 'extracted_audio/Actor_08/03-01-06-01-02-01-08.wav', 'extracted_audio/Actor_08/03-01-03-02-01-01-08.wav', 'extracted_audio/Actor_08/03-01-03-01-02-01-08.wav', 'extracted_audio/Actor_08/03-01-02-02-02-02-08.wav', 'extracted_audio/Actor_08/03-01-01-01-01-01-08.wav', 'extracted_audio/Actor_08/03-01-02-01-01-02-08.wav', 'extracted_audio/Actor_08/03-01-08-02-01-02-08.wav', 'extracted_audio/Actor_08/03-01-08-01-02-02-08.wav', 'extracted_audio/Actor_08/03-01-05-01-01-02-08.wav', 'extracted_audio/Actor_08/03-01-06-01-01-01-08.wav', 'extracted_audio/Actor_08/03-01-06-02-02-01-08.wav', 'extracted_audio/Actor_08/03-01-05-02-02-02-08.wav', 'extracted_audio/Actor_08/03-01-07-01-02-02-08.wav', 'extracted_audio/Actor_08/03-01-04-01-02-01-08.wav', 'extracted_audio/Actor_08/03-01-04-02-01-01-08.wav', 'extracted_audio/Actor_08/03-01-07-02-01-02-08.wav', 'extracted_audio/Actor_08/03-01-08-02-02-01-08.wav', 'extracted_audio/Actor_08/03-01-08-01-01-01-08.wav', 'extracted_audio/Actor_08/03-01-06-01-02-02-08.wav', 'extracted_audio/Actor_08/03-01-05-01-02-01-08.wav', 'extracted_audio/Actor_08/03-01-05-02-01-01-08.wav', 'extracted_audio/Actor_08/03-01-06-02-01-02-08.wav', 'extracted_audio/Actor_08/03-01-04-01-01-02-08.wav', 'extracted_audio/Actor_08/03-01-07-01-01-01-08.wav', 'extracted_audio/Actor_08/03-01-07-02-02-01-08.wav', 'extracted_audio/Actor_08/03-01-04-02-02-02-08.wav', 'extracted_audio/Actor_08/03-01-03-02-02-02-08.wav', 'extracted_audio/Actor_08/03-01-03-01-01-02-08.wav', 'extracted_audio/Actor_08/03-01-02-02-01-01-08.wav', 'extracted_audio/Actor_08/03-01-02-01-02-01-08.wav', 'extracted_audio/Actor_08/03-01-01-01-02-02-08.wav']\n"
     ]
    }
   ],
   "source": [
    "audio_files = extract_zip(zip_path)"
   ]
  },
  {
   "cell_type": "code",
   "execution_count": 38,
   "id": "bea68bf5-71b8-4b3e-8a80-070058b1eb48",
   "metadata": {},
   "outputs": [],
   "source": [
    "# Step 2: Analyze audio + text features"
   ]
  },
  {
   "cell_type": "code",
   "execution_count": null,
   "id": "3c6c95e4-2729-4d85-a52c-31ab72d220f2",
   "metadata": {},
   "outputs": [
    {
     "name": "stdout",
     "output_type": "stream",
     "text": [
      "📁 Processing file: extracted_audio/Actor_16/03-01-05-01-02-01-16.wav\n"
     ]
    },
    {
     "name": "stderr",
     "output_type": "stream",
     "text": [
      "/Library/Frameworks/Python.framework/Versions/3.12/lib/python3.12/site-packages/whisper/transcribe.py:126: UserWarning: FP16 is not supported on CPU; using FP32 instead\n",
      "  warnings.warn(\"FP16 is not supported on CPU; using FP32 instead\")\n"
     ]
    },
    {
     "name": "stdout",
     "output_type": "stream",
     "text": [
      "🔊 Transcript for extracted_audio/Actor_16/03-01-05-01-02-01-16.wav:  Dogs are sitting by the door....\n",
      "📝 NLP features for extracted_audio/Actor_16/03-01-05-01-02-01-16.wav: {'num_words': 6, 'num_hesitations': 0, 'hesitation_ratio': 0.0, 'avg_sentence_length': np.float64(6.0)}\n",
      "🎧 Audio features for extracted_audio/Actor_16/03-01-05-01-02-01-16.wav: {'duration_sec': 3.9039002267573695, 'pitch_std': np.float64(83.92316810965904), 'tempo_bpm': array([123.046875])}\n",
      "✅ Combined features for extracted_audio/Actor_16/03-01-05-01-02-01-16.wav: {'num_words': 6, 'num_hesitations': 0, 'hesitation_ratio': 0.0, 'avg_sentence_length': np.float64(6.0), 'duration_sec': 3.9039002267573695, 'pitch_std': np.float64(83.92316810965904), 'tempo_bpm': array([123.046875]), 'file': '03-01-05-01-02-01-16.wav'}\n",
      "📁 Processing file: extracted_audio/Actor_16/03-01-06-01-02-02-16.wav\n"
     ]
    },
    {
     "name": "stderr",
     "output_type": "stream",
     "text": [
      "/Library/Frameworks/Python.framework/Versions/3.12/lib/python3.12/site-packages/whisper/transcribe.py:126: UserWarning: FP16 is not supported on CPU; using FP32 instead\n",
      "  warnings.warn(\"FP16 is not supported on CPU; using FP32 instead\")\n"
     ]
    },
    {
     "name": "stdout",
     "output_type": "stream",
     "text": [
      "🔊 Transcript for extracted_audio/Actor_16/03-01-06-01-02-02-16.wav:  Dogs are sitting by the door....\n",
      "📝 NLP features for extracted_audio/Actor_16/03-01-06-01-02-02-16.wav: {'num_words': 6, 'num_hesitations': 0, 'hesitation_ratio': 0.0, 'avg_sentence_length': np.float64(6.0)}\n",
      "🎧 Audio features for extracted_audio/Actor_16/03-01-06-01-02-02-16.wav: {'duration_sec': 3.570249433106576, 'pitch_std': np.float64(96.5707366462613), 'tempo_bpm': array([103.359375])}\n",
      "✅ Combined features for extracted_audio/Actor_16/03-01-06-01-02-02-16.wav: {'num_words': 6, 'num_hesitations': 0, 'hesitation_ratio': 0.0, 'avg_sentence_length': np.float64(6.0), 'duration_sec': 3.570249433106576, 'pitch_std': np.float64(96.5707366462613), 'tempo_bpm': array([103.359375]), 'file': '03-01-06-01-02-02-16.wav'}\n",
      "📁 Processing file: extracted_audio/Actor_16/03-01-06-02-01-02-16.wav\n"
     ]
    },
    {
     "name": "stderr",
     "output_type": "stream",
     "text": [
      "/Library/Frameworks/Python.framework/Versions/3.12/lib/python3.12/site-packages/whisper/transcribe.py:126: UserWarning: FP16 is not supported on CPU; using FP32 instead\n",
      "  warnings.warn(\"FP16 is not supported on CPU; using FP32 instead\")\n"
     ]
    },
    {
     "name": "stdout",
     "output_type": "stream",
     "text": [
      "🔊 Transcript for extracted_audio/Actor_16/03-01-06-02-01-02-16.wav:  Kids are talking by the door!...\n",
      "📝 NLP features for extracted_audio/Actor_16/03-01-06-02-01-02-16.wav: {'num_words': 6, 'num_hesitations': 0, 'hesitation_ratio': 0.0, 'avg_sentence_length': np.float64(6.0)}\n",
      "🎧 Audio features for extracted_audio/Actor_16/03-01-06-02-01-02-16.wav: {'duration_sec': 3.737097505668934, 'pitch_std': np.float64(82.97246819178136), 'tempo_bpm': array([117.45383523])}\n",
      "✅ Combined features for extracted_audio/Actor_16/03-01-06-02-01-02-16.wav: {'num_words': 6, 'num_hesitations': 0, 'hesitation_ratio': 0.0, 'avg_sentence_length': np.float64(6.0), 'duration_sec': 3.737097505668934, 'pitch_std': np.float64(82.97246819178136), 'tempo_bpm': array([117.45383523]), 'file': '03-01-06-02-01-02-16.wav'}\n",
      "📁 Processing file: extracted_audio/Actor_16/03-01-05-02-01-01-16.wav\n"
     ]
    },
    {
     "name": "stderr",
     "output_type": "stream",
     "text": [
      "/Library/Frameworks/Python.framework/Versions/3.12/lib/python3.12/site-packages/whisper/transcribe.py:126: UserWarning: FP16 is not supported on CPU; using FP32 instead\n",
      "  warnings.warn(\"FP16 is not supported on CPU; using FP32 instead\")\n"
     ]
    },
    {
     "name": "stdout",
     "output_type": "stream",
     "text": [
      "🔊 Transcript for extracted_audio/Actor_16/03-01-05-02-01-01-16.wav:  Kids are talking by the door!...\n",
      "📝 NLP features for extracted_audio/Actor_16/03-01-05-02-01-01-16.wav: {'num_words': 6, 'num_hesitations': 0, 'hesitation_ratio': 0.0, 'avg_sentence_length': np.float64(6.0)}\n",
      "🎧 Audio features for extracted_audio/Actor_16/03-01-05-02-01-01-16.wav: {'duration_sec': 3.970657596371882, 'pitch_std': np.float64(92.38089135080449), 'tempo_bpm': array([107.66601562])}\n",
      "✅ Combined features for extracted_audio/Actor_16/03-01-05-02-01-01-16.wav: {'num_words': 6, 'num_hesitations': 0, 'hesitation_ratio': 0.0, 'avg_sentence_length': np.float64(6.0), 'duration_sec': 3.970657596371882, 'pitch_std': np.float64(92.38089135080449), 'tempo_bpm': array([107.66601562]), 'file': '03-01-05-02-01-01-16.wav'}\n",
      "📁 Processing file: extracted_audio/Actor_16/03-01-07-01-01-01-16.wav\n"
     ]
    },
    {
     "name": "stderr",
     "output_type": "stream",
     "text": [
      "/Library/Frameworks/Python.framework/Versions/3.12/lib/python3.12/site-packages/whisper/transcribe.py:126: UserWarning: FP16 is not supported on CPU; using FP32 instead\n",
      "  warnings.warn(\"FP16 is not supported on CPU; using FP32 instead\")\n"
     ]
    },
    {
     "name": "stdout",
     "output_type": "stream",
     "text": [
      "🔊 Transcript for extracted_audio/Actor_16/03-01-07-01-01-01-16.wav:  Kids are talking by the door....\n",
      "📝 NLP features for extracted_audio/Actor_16/03-01-07-01-01-01-16.wav: {'num_words': 6, 'num_hesitations': 0, 'hesitation_ratio': 0.0, 'avg_sentence_length': np.float64(6.0)}\n",
      "🎧 Audio features for extracted_audio/Actor_16/03-01-07-01-01-01-16.wav: {'duration_sec': 3.7704761904761903, 'pitch_std': np.float64(87.52932891697047), 'tempo_bpm': array([135.99917763])}\n",
      "✅ Combined features for extracted_audio/Actor_16/03-01-07-01-01-01-16.wav: {'num_words': 6, 'num_hesitations': 0, 'hesitation_ratio': 0.0, 'avg_sentence_length': np.float64(6.0), 'duration_sec': 3.7704761904761903, 'pitch_std': np.float64(87.52932891697047), 'tempo_bpm': array([135.99917763]), 'file': '03-01-07-01-01-01-16.wav'}\n",
      "📁 Processing file: extracted_audio/Actor_16/03-01-04-01-01-02-16.wav\n"
     ]
    },
    {
     "name": "stderr",
     "output_type": "stream",
     "text": [
      "/Library/Frameworks/Python.framework/Versions/3.12/lib/python3.12/site-packages/whisper/transcribe.py:126: UserWarning: FP16 is not supported on CPU; using FP32 instead\n",
      "  warnings.warn(\"FP16 is not supported on CPU; using FP32 instead\")\n"
     ]
    },
    {
     "name": "stdout",
     "output_type": "stream",
     "text": [
      "🔊 Transcript for extracted_audio/Actor_16/03-01-04-01-01-02-16.wav:  Kids are talking by the door....\n",
      "📝 NLP features for extracted_audio/Actor_16/03-01-04-01-01-02-16.wav: {'num_words': 6, 'num_hesitations': 0, 'hesitation_ratio': 0.0, 'avg_sentence_length': np.float64(6.0)}\n",
      "🎧 Audio features for extracted_audio/Actor_16/03-01-04-01-01-02-16.wav: {'duration_sec': 3.6369614512471657, 'pitch_std': np.float64(74.22952829325006), 'tempo_bpm': array([129.19921875])}\n",
      "✅ Combined features for extracted_audio/Actor_16/03-01-04-01-01-02-16.wav: {'num_words': 6, 'num_hesitations': 0, 'hesitation_ratio': 0.0, 'avg_sentence_length': np.float64(6.0), 'duration_sec': 3.6369614512471657, 'pitch_std': np.float64(74.22952829325006), 'tempo_bpm': array([129.19921875]), 'file': '03-01-04-01-01-02-16.wav'}\n",
      "📁 Processing file: extracted_audio/Actor_16/03-01-04-02-02-02-16.wav\n"
     ]
    },
    {
     "name": "stderr",
     "output_type": "stream",
     "text": [
      "/Library/Frameworks/Python.framework/Versions/3.12/lib/python3.12/site-packages/whisper/transcribe.py:126: UserWarning: FP16 is not supported on CPU; using FP32 instead\n",
      "  warnings.warn(\"FP16 is not supported on CPU; using FP32 instead\")\n"
     ]
    },
    {
     "name": "stdout",
     "output_type": "stream",
     "text": [
      "🔊 Transcript for extracted_audio/Actor_16/03-01-04-02-02-02-16.wav:  Dogs are sitting by the door....\n",
      "📝 NLP features for extracted_audio/Actor_16/03-01-04-02-02-02-16.wav: {'num_words': 6, 'num_hesitations': 0, 'hesitation_ratio': 0.0, 'avg_sentence_length': np.float64(6.0)}\n",
      "🎧 Audio features for extracted_audio/Actor_16/03-01-04-02-02-02-16.wav: {'duration_sec': 3.737097505668934, 'pitch_std': np.float64(86.65409039953387), 'tempo_bpm': array([123.046875])}\n",
      "✅ Combined features for extracted_audio/Actor_16/03-01-04-02-02-02-16.wav: {'num_words': 6, 'num_hesitations': 0, 'hesitation_ratio': 0.0, 'avg_sentence_length': np.float64(6.0), 'duration_sec': 3.737097505668934, 'pitch_std': np.float64(86.65409039953387), 'tempo_bpm': array([123.046875]), 'file': '03-01-04-02-02-02-16.wav'}\n",
      "📁 Processing file: extracted_audio/Actor_16/03-01-07-02-02-01-16.wav\n"
     ]
    },
    {
     "name": "stderr",
     "output_type": "stream",
     "text": [
      "/Library/Frameworks/Python.framework/Versions/3.12/lib/python3.12/site-packages/whisper/transcribe.py:126: UserWarning: FP16 is not supported on CPU; using FP32 instead\n",
      "  warnings.warn(\"FP16 is not supported on CPU; using FP32 instead\")\n"
     ]
    },
    {
     "name": "stdout",
     "output_type": "stream",
     "text": [
      "🔊 Transcript for extracted_audio/Actor_16/03-01-07-02-02-01-16.wav:  Dogs are sitting by the door....\n",
      "📝 NLP features for extracted_audio/Actor_16/03-01-07-02-02-01-16.wav: {'num_words': 6, 'num_hesitations': 0, 'hesitation_ratio': 0.0, 'avg_sentence_length': np.float64(6.0)}\n",
      "🎧 Audio features for extracted_audio/Actor_16/03-01-07-02-02-01-16.wav: {'duration_sec': 4.1374603174603175, 'pitch_std': np.float64(65.07779367988745), 'tempo_bpm': array([161.49902344])}\n",
      "✅ Combined features for extracted_audio/Actor_16/03-01-07-02-02-01-16.wav: {'num_words': 6, 'num_hesitations': 0, 'hesitation_ratio': 0.0, 'avg_sentence_length': np.float64(6.0), 'duration_sec': 4.1374603174603175, 'pitch_std': np.float64(65.07779367988745), 'tempo_bpm': array([161.49902344]), 'file': '03-01-07-02-02-01-16.wav'}\n",
      "📁 Processing file: extracted_audio/Actor_16/03-01-08-02-02-01-16.wav\n"
     ]
    },
    {
     "name": "stderr",
     "output_type": "stream",
     "text": [
      "/Library/Frameworks/Python.framework/Versions/3.12/lib/python3.12/site-packages/whisper/transcribe.py:126: UserWarning: FP16 is not supported on CPU; using FP32 instead\n",
      "  warnings.warn(\"FP16 is not supported on CPU; using FP32 instead\")\n"
     ]
    },
    {
     "name": "stdout",
     "output_type": "stream",
     "text": [
      "🔊 Transcript for extracted_audio/Actor_16/03-01-08-02-02-01-16.wav:  Dogs are sitting by the door....\n",
      "📝 NLP features for extracted_audio/Actor_16/03-01-08-02-02-01-16.wav: {'num_words': 6, 'num_hesitations': 0, 'hesitation_ratio': 0.0, 'avg_sentence_length': np.float64(6.0)}\n",
      "🎧 Audio features for extracted_audio/Actor_16/03-01-08-02-02-01-16.wav: {'duration_sec': 3.570294784580499, 'pitch_std': np.float64(86.5292944761813), 'tempo_bpm': array([103.359375])}\n",
      "✅ Combined features for extracted_audio/Actor_16/03-01-08-02-02-01-16.wav: {'num_words': 6, 'num_hesitations': 0, 'hesitation_ratio': 0.0, 'avg_sentence_length': np.float64(6.0), 'duration_sec': 3.570294784580499, 'pitch_std': np.float64(86.5292944761813), 'tempo_bpm': array([103.359375]), 'file': '03-01-08-02-02-01-16.wav'}\n",
      "📁 Processing file: extracted_audio/Actor_16/03-01-08-01-01-01-16.wav\n"
     ]
    },
    {
     "name": "stderr",
     "output_type": "stream",
     "text": [
      "/Library/Frameworks/Python.framework/Versions/3.12/lib/python3.12/site-packages/whisper/transcribe.py:126: UserWarning: FP16 is not supported on CPU; using FP32 instead\n",
      "  warnings.warn(\"FP16 is not supported on CPU; using FP32 instead\")\n"
     ]
    },
    {
     "name": "stdout",
     "output_type": "stream",
     "text": [
      "🔊 Transcript for extracted_audio/Actor_16/03-01-08-01-01-01-16.wav:  Kids are talking by the door....\n",
      "📝 NLP features for extracted_audio/Actor_16/03-01-08-01-01-01-16.wav: {'num_words': 6, 'num_hesitations': 0, 'hesitation_ratio': 0.0, 'avg_sentence_length': np.float64(6.0)}\n",
      "🎧 Audio features for extracted_audio/Actor_16/03-01-08-01-01-01-16.wav: {'duration_sec': 3.5369160997732427, 'pitch_std': np.float64(87.62054249449419), 'tempo_bpm': array([123.046875])}\n",
      "✅ Combined features for extracted_audio/Actor_16/03-01-08-01-01-01-16.wav: {'num_words': 6, 'num_hesitations': 0, 'hesitation_ratio': 0.0, 'avg_sentence_length': np.float64(6.0), 'duration_sec': 3.5369160997732427, 'pitch_std': np.float64(87.62054249449419), 'tempo_bpm': array([123.046875]), 'file': '03-01-08-01-01-01-16.wav'}\n",
      "📁 Processing file: extracted_audio/Actor_16/03-01-03-02-02-02-16.wav\n"
     ]
    },
    {
     "name": "stderr",
     "output_type": "stream",
     "text": [
      "/Library/Frameworks/Python.framework/Versions/3.12/lib/python3.12/site-packages/whisper/transcribe.py:126: UserWarning: FP16 is not supported on CPU; using FP32 instead\n",
      "  warnings.warn(\"FP16 is not supported on CPU; using FP32 instead\")\n"
     ]
    },
    {
     "name": "stdout",
     "output_type": "stream",
     "text": [
      "🔊 Transcript for extracted_audio/Actor_16/03-01-03-02-02-02-16.wav:  Dogs are sitting by the door....\n",
      "📝 NLP features for extracted_audio/Actor_16/03-01-03-02-02-02-16.wav: {'num_words': 6, 'num_hesitations': 0, 'hesitation_ratio': 0.0, 'avg_sentence_length': np.float64(6.0)}\n",
      "🎧 Audio features for extracted_audio/Actor_16/03-01-03-02-02-02-16.wav: {'duration_sec': 3.803854875283447, 'pitch_std': np.float64(86.58446286590653), 'tempo_bpm': array([172.265625])}\n",
      "✅ Combined features for extracted_audio/Actor_16/03-01-03-02-02-02-16.wav: {'num_words': 6, 'num_hesitations': 0, 'hesitation_ratio': 0.0, 'avg_sentence_length': np.float64(6.0), 'duration_sec': 3.803854875283447, 'pitch_std': np.float64(86.58446286590653), 'tempo_bpm': array([172.265625]), 'file': '03-01-03-02-02-02-16.wav'}\n",
      "📁 Processing file: extracted_audio/Actor_16/03-01-03-01-01-02-16.wav\n"
     ]
    },
    {
     "name": "stderr",
     "output_type": "stream",
     "text": [
      "/Library/Frameworks/Python.framework/Versions/3.12/lib/python3.12/site-packages/whisper/transcribe.py:126: UserWarning: FP16 is not supported on CPU; using FP32 instead\n",
      "  warnings.warn(\"FP16 is not supported on CPU; using FP32 instead\")\n"
     ]
    },
    {
     "name": "stdout",
     "output_type": "stream",
     "text": [
      "🔊 Transcript for extracted_audio/Actor_16/03-01-03-01-01-02-16.wav:  Kids are talking by the door....\n",
      "📝 NLP features for extracted_audio/Actor_16/03-01-03-01-01-02-16.wav: {'num_words': 6, 'num_hesitations': 0, 'hesitation_ratio': 0.0, 'avg_sentence_length': np.float64(6.0)}\n",
      "🎧 Audio features for extracted_audio/Actor_16/03-01-03-01-01-02-16.wav: {'duration_sec': 3.670340136054422, 'pitch_std': np.float64(74.81322105566608), 'tempo_bpm': array([107.66601562])}\n",
      "✅ Combined features for extracted_audio/Actor_16/03-01-03-01-01-02-16.wav: {'num_words': 6, 'num_hesitations': 0, 'hesitation_ratio': 0.0, 'avg_sentence_length': np.float64(6.0), 'duration_sec': 3.670340136054422, 'pitch_std': np.float64(74.81322105566608), 'tempo_bpm': array([107.66601562]), 'file': '03-01-03-01-01-02-16.wav'}\n",
      "📁 Processing file: extracted_audio/Actor_16/03-01-02-02-01-01-16.wav\n"
     ]
    },
    {
     "name": "stderr",
     "output_type": "stream",
     "text": [
      "/Library/Frameworks/Python.framework/Versions/3.12/lib/python3.12/site-packages/whisper/transcribe.py:126: UserWarning: FP16 is not supported on CPU; using FP32 instead\n",
      "  warnings.warn(\"FP16 is not supported on CPU; using FP32 instead\")\n"
     ]
    },
    {
     "name": "stdout",
     "output_type": "stream",
     "text": [
      "🔊 Transcript for extracted_audio/Actor_16/03-01-02-02-01-01-16.wav:  Kids are talking by the door....\n",
      "📝 NLP features for extracted_audio/Actor_16/03-01-02-02-01-01-16.wav: {'num_words': 6, 'num_hesitations': 0, 'hesitation_ratio': 0.0, 'avg_sentence_length': np.float64(6.0)}\n",
      "🎧 Audio features for extracted_audio/Actor_16/03-01-02-02-01-01-16.wav: {'duration_sec': 3.8705215419501133, 'pitch_std': np.float64(75.75923309718667), 'tempo_bpm': array([117.45383523])}\n",
      "✅ Combined features for extracted_audio/Actor_16/03-01-02-02-01-01-16.wav: {'num_words': 6, 'num_hesitations': 0, 'hesitation_ratio': 0.0, 'avg_sentence_length': np.float64(6.0), 'duration_sec': 3.8705215419501133, 'pitch_std': np.float64(75.75923309718667), 'tempo_bpm': array([117.45383523]), 'file': '03-01-02-02-01-01-16.wav'}\n",
      "📁 Processing file: extracted_audio/Actor_16/03-01-01-01-02-02-16.wav\n"
     ]
    },
    {
     "name": "stderr",
     "output_type": "stream",
     "text": [
      "/Library/Frameworks/Python.framework/Versions/3.12/lib/python3.12/site-packages/whisper/transcribe.py:126: UserWarning: FP16 is not supported on CPU; using FP32 instead\n",
      "  warnings.warn(\"FP16 is not supported on CPU; using FP32 instead\")\n"
     ]
    },
    {
     "name": "stdout",
     "output_type": "stream",
     "text": [
      "🔊 Transcript for extracted_audio/Actor_16/03-01-01-01-02-02-16.wav:  Dogs are sitting by the door....\n",
      "📝 NLP features for extracted_audio/Actor_16/03-01-01-01-02-02-16.wav: {'num_words': 6, 'num_hesitations': 0, 'hesitation_ratio': 0.0, 'avg_sentence_length': np.float64(6.0)}\n",
      "🎧 Audio features for extracted_audio/Actor_16/03-01-01-01-02-02-16.wav: {'duration_sec': 3.570249433106576, 'pitch_std': np.float64(76.15237374547011), 'tempo_bpm': array([103.359375])}\n",
      "✅ Combined features for extracted_audio/Actor_16/03-01-01-01-02-02-16.wav: {'num_words': 6, 'num_hesitations': 0, 'hesitation_ratio': 0.0, 'avg_sentence_length': np.float64(6.0), 'duration_sec': 3.570249433106576, 'pitch_std': np.float64(76.15237374547011), 'tempo_bpm': array([103.359375]), 'file': '03-01-01-01-02-02-16.wav'}\n",
      "📁 Processing file: extracted_audio/Actor_16/03-01-02-01-02-01-16.wav\n"
     ]
    },
    {
     "name": "stderr",
     "output_type": "stream",
     "text": [
      "/Library/Frameworks/Python.framework/Versions/3.12/lib/python3.12/site-packages/whisper/transcribe.py:126: UserWarning: FP16 is not supported on CPU; using FP32 instead\n",
      "  warnings.warn(\"FP16 is not supported on CPU; using FP32 instead\")\n"
     ]
    },
    {
     "name": "stdout",
     "output_type": "stream",
     "text": [
      "🔊 Transcript for extracted_audio/Actor_16/03-01-02-01-02-01-16.wav:  Dogs are sitting by the door....\n",
      "📝 NLP features for extracted_audio/Actor_16/03-01-02-01-02-01-16.wav: {'num_words': 6, 'num_hesitations': 0, 'hesitation_ratio': 0.0, 'avg_sentence_length': np.float64(6.0)}\n",
      "🎧 Audio features for extracted_audio/Actor_16/03-01-02-01-02-01-16.wav: {'duration_sec': 3.803809523809524, 'pitch_std': np.float64(68.5946305711169), 'tempo_bpm': array([161.49902344])}\n",
      "✅ Combined features for extracted_audio/Actor_16/03-01-02-01-02-01-16.wav: {'num_words': 6, 'num_hesitations': 0, 'hesitation_ratio': 0.0, 'avg_sentence_length': np.float64(6.0), 'duration_sec': 3.803809523809524, 'pitch_std': np.float64(68.5946305711169), 'tempo_bpm': array([161.49902344]), 'file': '03-01-02-01-02-01-16.wav'}\n",
      "📁 Processing file: extracted_audio/Actor_16/03-01-03-02-01-01-16.wav\n"
     ]
    },
    {
     "name": "stderr",
     "output_type": "stream",
     "text": [
      "/Library/Frameworks/Python.framework/Versions/3.12/lib/python3.12/site-packages/whisper/transcribe.py:126: UserWarning: FP16 is not supported on CPU; using FP32 instead\n",
      "  warnings.warn(\"FP16 is not supported on CPU; using FP32 instead\")\n"
     ]
    },
    {
     "name": "stdout",
     "output_type": "stream",
     "text": [
      "🔊 Transcript for extracted_audio/Actor_16/03-01-03-02-01-01-16.wav:  Kids are talking by the door....\n",
      "📝 NLP features for extracted_audio/Actor_16/03-01-03-02-01-01-16.wav: {'num_words': 6, 'num_hesitations': 0, 'hesitation_ratio': 0.0, 'avg_sentence_length': np.float64(6.0)}\n",
      "🎧 Audio features for extracted_audio/Actor_16/03-01-03-02-01-01-16.wav: {'duration_sec': 3.7704761904761903, 'pitch_std': np.float64(85.81893658015333), 'tempo_bpm': array([135.99917763])}\n",
      "✅ Combined features for extracted_audio/Actor_16/03-01-03-02-01-01-16.wav: {'num_words': 6, 'num_hesitations': 0, 'hesitation_ratio': 0.0, 'avg_sentence_length': np.float64(6.0), 'duration_sec': 3.7704761904761903, 'pitch_std': np.float64(85.81893658015333), 'tempo_bpm': array([135.99917763]), 'file': '03-01-03-02-01-01-16.wav'}\n",
      "📁 Processing file: extracted_audio/Actor_16/03-01-03-01-02-01-16.wav\n"
     ]
    },
    {
     "name": "stderr",
     "output_type": "stream",
     "text": [
      "/Library/Frameworks/Python.framework/Versions/3.12/lib/python3.12/site-packages/whisper/transcribe.py:126: UserWarning: FP16 is not supported on CPU; using FP32 instead\n",
      "  warnings.warn(\"FP16 is not supported on CPU; using FP32 instead\")\n"
     ]
    },
    {
     "name": "stdout",
     "output_type": "stream",
     "text": [
      "🔊 Transcript for extracted_audio/Actor_16/03-01-03-01-02-01-16.wav:  Dogs are sitting by the door....\n",
      "📝 NLP features for extracted_audio/Actor_16/03-01-03-01-02-01-16.wav: {'num_words': 6, 'num_hesitations': 0, 'hesitation_ratio': 0.0, 'avg_sentence_length': np.float64(6.0)}\n",
      "🎧 Audio features for extracted_audio/Actor_16/03-01-03-01-02-01-16.wav: {'duration_sec': 3.737097505668934, 'pitch_std': np.float64(71.04214974891701), 'tempo_bpm': array([172.265625])}\n",
      "✅ Combined features for extracted_audio/Actor_16/03-01-03-01-02-01-16.wav: {'num_words': 6, 'num_hesitations': 0, 'hesitation_ratio': 0.0, 'avg_sentence_length': np.float64(6.0), 'duration_sec': 3.737097505668934, 'pitch_std': np.float64(71.04214974891701), 'tempo_bpm': array([172.265625]), 'file': '03-01-03-01-02-01-16.wav'}\n",
      "📁 Processing file: extracted_audio/Actor_16/03-01-02-02-02-02-16.wav\n"
     ]
    },
    {
     "name": "stderr",
     "output_type": "stream",
     "text": [
      "/Library/Frameworks/Python.framework/Versions/3.12/lib/python3.12/site-packages/whisper/transcribe.py:126: UserWarning: FP16 is not supported on CPU; using FP32 instead\n",
      "  warnings.warn(\"FP16 is not supported on CPU; using FP32 instead\")\n"
     ]
    },
    {
     "name": "stdout",
     "output_type": "stream",
     "text": [
      "🔊 Transcript for extracted_audio/Actor_16/03-01-02-02-02-02-16.wav:  Dogs are sitting by the door....\n",
      "📝 NLP features for extracted_audio/Actor_16/03-01-02-02-02-02-16.wav: {'num_words': 6, 'num_hesitations': 0, 'hesitation_ratio': 0.0, 'avg_sentence_length': np.float64(6.0)}\n",
      "🎧 Audio features for extracted_audio/Actor_16/03-01-02-02-02-02-16.wav: {'duration_sec': 3.803809523809524, 'pitch_std': np.float64(64.91752764254663), 'tempo_bpm': array([161.49902344])}\n",
      "✅ Combined features for extracted_audio/Actor_16/03-01-02-02-02-02-16.wav: {'num_words': 6, 'num_hesitations': 0, 'hesitation_ratio': 0.0, 'avg_sentence_length': np.float64(6.0), 'duration_sec': 3.803809523809524, 'pitch_std': np.float64(64.91752764254663), 'tempo_bpm': array([161.49902344]), 'file': '03-01-02-02-02-02-16.wav'}\n",
      "📁 Processing file: extracted_audio/Actor_16/03-01-02-01-01-02-16.wav\n"
     ]
    },
    {
     "name": "stderr",
     "output_type": "stream",
     "text": [
      "/Library/Frameworks/Python.framework/Versions/3.12/lib/python3.12/site-packages/whisper/transcribe.py:126: UserWarning: FP16 is not supported on CPU; using FP32 instead\n",
      "  warnings.warn(\"FP16 is not supported on CPU; using FP32 instead\")\n"
     ]
    },
    {
     "name": "stdout",
     "output_type": "stream",
     "text": [
      "🔊 Transcript for extracted_audio/Actor_16/03-01-02-01-01-02-16.wav:  Kids are talking by the door....\n",
      "📝 NLP features for extracted_audio/Actor_16/03-01-02-01-01-02-16.wav: {'num_words': 6, 'num_hesitations': 0, 'hesitation_ratio': 0.0, 'avg_sentence_length': np.float64(6.0)}\n",
      "🎧 Audio features for extracted_audio/Actor_16/03-01-02-01-01-02-16.wav: {'duration_sec': 3.8705215419501133, 'pitch_std': np.float64(79.26118723552052), 'tempo_bpm': array([117.45383523])}\n",
      "✅ Combined features for extracted_audio/Actor_16/03-01-02-01-01-02-16.wav: {'num_words': 6, 'num_hesitations': 0, 'hesitation_ratio': 0.0, 'avg_sentence_length': np.float64(6.0), 'duration_sec': 3.8705215419501133, 'pitch_std': np.float64(79.26118723552052), 'tempo_bpm': array([117.45383523]), 'file': '03-01-02-01-01-02-16.wav'}\n",
      "📁 Processing file: extracted_audio/Actor_16/03-01-01-01-01-01-16.wav\n"
     ]
    },
    {
     "name": "stderr",
     "output_type": "stream",
     "text": [
      "/Library/Frameworks/Python.framework/Versions/3.12/lib/python3.12/site-packages/whisper/transcribe.py:126: UserWarning: FP16 is not supported on CPU; using FP32 instead\n",
      "  warnings.warn(\"FP16 is not supported on CPU; using FP32 instead\")\n"
     ]
    },
    {
     "name": "stdout",
     "output_type": "stream",
     "text": [
      "🔊 Transcript for extracted_audio/Actor_16/03-01-01-01-01-01-16.wav:  Kids are talking by the door....\n",
      "📝 NLP features for extracted_audio/Actor_16/03-01-01-01-01-01-16.wav: {'num_words': 6, 'num_hesitations': 0, 'hesitation_ratio': 0.0, 'avg_sentence_length': np.float64(6.0)}\n",
      "🎧 Audio features for extracted_audio/Actor_16/03-01-01-01-01-01-16.wav: {'duration_sec': 3.737097505668934, 'pitch_std': np.float64(75.64162749827841), 'tempo_bpm': array([117.45383523])}\n",
      "✅ Combined features for extracted_audio/Actor_16/03-01-01-01-01-01-16.wav: {'num_words': 6, 'num_hesitations': 0, 'hesitation_ratio': 0.0, 'avg_sentence_length': np.float64(6.0), 'duration_sec': 3.737097505668934, 'pitch_std': np.float64(75.64162749827841), 'tempo_bpm': array([117.45383523]), 'file': '03-01-01-01-01-01-16.wav'}\n",
      "📁 Processing file: extracted_audio/Actor_16/03-01-06-01-01-01-16.wav\n"
     ]
    },
    {
     "name": "stderr",
     "output_type": "stream",
     "text": [
      "/Library/Frameworks/Python.framework/Versions/3.12/lib/python3.12/site-packages/whisper/transcribe.py:126: UserWarning: FP16 is not supported on CPU; using FP32 instead\n",
      "  warnings.warn(\"FP16 is not supported on CPU; using FP32 instead\")\n"
     ]
    },
    {
     "name": "stdout",
     "output_type": "stream",
     "text": [
      "🔊 Transcript for extracted_audio/Actor_16/03-01-06-01-01-01-16.wav:  Kids are talking by the door....\n",
      "📝 NLP features for extracted_audio/Actor_16/03-01-06-01-01-01-16.wav: {'num_words': 6, 'num_hesitations': 0, 'hesitation_ratio': 0.0, 'avg_sentence_length': np.float64(6.0)}\n",
      "🎧 Audio features for extracted_audio/Actor_16/03-01-06-01-01-01-16.wav: {'duration_sec': 3.703718820861678, 'pitch_std': np.float64(90.44992814177647), 'tempo_bpm': array([117.45383523])}\n",
      "✅ Combined features for extracted_audio/Actor_16/03-01-06-01-01-01-16.wav: {'num_words': 6, 'num_hesitations': 0, 'hesitation_ratio': 0.0, 'avg_sentence_length': np.float64(6.0), 'duration_sec': 3.703718820861678, 'pitch_std': np.float64(90.44992814177647), 'tempo_bpm': array([117.45383523]), 'file': '03-01-06-01-01-01-16.wav'}\n",
      "📁 Processing file: extracted_audio/Actor_16/03-01-05-01-01-02-16.wav\n"
     ]
    },
    {
     "name": "stderr",
     "output_type": "stream",
     "text": [
      "/Library/Frameworks/Python.framework/Versions/3.12/lib/python3.12/site-packages/whisper/transcribe.py:126: UserWarning: FP16 is not supported on CPU; using FP32 instead\n",
      "  warnings.warn(\"FP16 is not supported on CPU; using FP32 instead\")\n"
     ]
    },
    {
     "name": "stdout",
     "output_type": "stream",
     "text": [
      "🔊 Transcript for extracted_audio/Actor_16/03-01-05-01-01-02-16.wav:  Kids are talking by the door....\n",
      "📝 NLP features for extracted_audio/Actor_16/03-01-05-01-01-02-16.wav: {'num_words': 6, 'num_hesitations': 0, 'hesitation_ratio': 0.0, 'avg_sentence_length': np.float64(6.0)}\n",
      "🎧 Audio features for extracted_audio/Actor_16/03-01-05-01-01-02-16.wav: {'duration_sec': 4.004036281179138, 'pitch_std': np.float64(90.70920828241893), 'tempo_bpm': array([78.30255682])}\n",
      "✅ Combined features for extracted_audio/Actor_16/03-01-05-01-01-02-16.wav: {'num_words': 6, 'num_hesitations': 0, 'hesitation_ratio': 0.0, 'avg_sentence_length': np.float64(6.0), 'duration_sec': 4.004036281179138, 'pitch_std': np.float64(90.70920828241893), 'tempo_bpm': array([78.30255682]), 'file': '03-01-05-01-01-02-16.wav'}\n",
      "📁 Processing file: extracted_audio/Actor_16/03-01-05-02-02-02-16.wav\n"
     ]
    },
    {
     "name": "stderr",
     "output_type": "stream",
     "text": [
      "/Library/Frameworks/Python.framework/Versions/3.12/lib/python3.12/site-packages/whisper/transcribe.py:126: UserWarning: FP16 is not supported on CPU; using FP32 instead\n",
      "  warnings.warn(\"FP16 is not supported on CPU; using FP32 instead\")\n"
     ]
    },
    {
     "name": "stdout",
     "output_type": "stream",
     "text": [
      "🔊 Transcript for extracted_audio/Actor_16/03-01-05-02-02-02-16.wav:  Dogs are sitting by the door....\n",
      "📝 NLP features for extracted_audio/Actor_16/03-01-05-02-02-02-16.wav: {'num_words': 6, 'num_hesitations': 0, 'hesitation_ratio': 0.0, 'avg_sentence_length': np.float64(6.0)}\n",
      "🎧 Audio features for extracted_audio/Actor_16/03-01-05-02-02-02-16.wav: {'duration_sec': 4.070793650793651, 'pitch_std': np.float64(97.12282070948403), 'tempo_bpm': array([117.45383523])}\n",
      "✅ Combined features for extracted_audio/Actor_16/03-01-05-02-02-02-16.wav: {'num_words': 6, 'num_hesitations': 0, 'hesitation_ratio': 0.0, 'avg_sentence_length': np.float64(6.0), 'duration_sec': 4.070793650793651, 'pitch_std': np.float64(97.12282070948403), 'tempo_bpm': array([117.45383523]), 'file': '03-01-05-02-02-02-16.wav'}\n",
      "📁 Processing file: extracted_audio/Actor_16/03-01-06-02-02-01-16.wav\n"
     ]
    },
    {
     "name": "stderr",
     "output_type": "stream",
     "text": [
      "/Library/Frameworks/Python.framework/Versions/3.12/lib/python3.12/site-packages/whisper/transcribe.py:126: UserWarning: FP16 is not supported on CPU; using FP32 instead\n",
      "  warnings.warn(\"FP16 is not supported on CPU; using FP32 instead\")\n"
     ]
    },
    {
     "name": "stdout",
     "output_type": "stream",
     "text": [
      "🔊 Transcript for extracted_audio/Actor_16/03-01-06-02-02-01-16.wav:  Dogs are sitting by the door!...\n",
      "📝 NLP features for extracted_audio/Actor_16/03-01-06-02-02-01-16.wav: {'num_words': 6, 'num_hesitations': 0, 'hesitation_ratio': 0.0, 'avg_sentence_length': np.float64(6.0)}\n",
      "🎧 Audio features for extracted_audio/Actor_16/03-01-06-02-02-01-16.wav: {'duration_sec': 3.53687074829932, 'pitch_std': np.float64(86.61462098607394), 'tempo_bpm': array([107.66601562])}\n",
      "✅ Combined features for extracted_audio/Actor_16/03-01-06-02-02-01-16.wav: {'num_words': 6, 'num_hesitations': 0, 'hesitation_ratio': 0.0, 'avg_sentence_length': np.float64(6.0), 'duration_sec': 3.53687074829932, 'pitch_std': np.float64(86.61462098607394), 'tempo_bpm': array([107.66601562]), 'file': '03-01-06-02-02-01-16.wav'}\n",
      "📁 Processing file: extracted_audio/Actor_16/03-01-04-01-02-01-16.wav\n"
     ]
    },
    {
     "name": "stderr",
     "output_type": "stream",
     "text": [
      "/Library/Frameworks/Python.framework/Versions/3.12/lib/python3.12/site-packages/whisper/transcribe.py:126: UserWarning: FP16 is not supported on CPU; using FP32 instead\n",
      "  warnings.warn(\"FP16 is not supported on CPU; using FP32 instead\")\n"
     ]
    },
    {
     "name": "stdout",
     "output_type": "stream",
     "text": [
      "🔊 Transcript for extracted_audio/Actor_16/03-01-04-01-02-01-16.wav:  Dogs are sitting by the door....\n",
      "📝 NLP features for extracted_audio/Actor_16/03-01-04-01-02-01-16.wav: {'num_words': 6, 'num_hesitations': 0, 'hesitation_ratio': 0.0, 'avg_sentence_length': np.float64(6.0)}\n",
      "🎧 Audio features for extracted_audio/Actor_16/03-01-04-01-02-01-16.wav: {'duration_sec': 3.4034467120181406, 'pitch_std': np.float64(81.74072812878791), 'tempo_bpm': array([198.76802885])}\n",
      "✅ Combined features for extracted_audio/Actor_16/03-01-04-01-02-01-16.wav: {'num_words': 6, 'num_hesitations': 0, 'hesitation_ratio': 0.0, 'avg_sentence_length': np.float64(6.0), 'duration_sec': 3.4034467120181406, 'pitch_std': np.float64(81.74072812878791), 'tempo_bpm': array([198.76802885]), 'file': '03-01-04-01-02-01-16.wav'}\n",
      "📁 Processing file: extracted_audio/Actor_16/03-01-07-01-02-02-16.wav\n"
     ]
    },
    {
     "name": "stderr",
     "output_type": "stream",
     "text": [
      "/Library/Frameworks/Python.framework/Versions/3.12/lib/python3.12/site-packages/whisper/transcribe.py:126: UserWarning: FP16 is not supported on CPU; using FP32 instead\n",
      "  warnings.warn(\"FP16 is not supported on CPU; using FP32 instead\")\n"
     ]
    },
    {
     "name": "stdout",
     "output_type": "stream",
     "text": [
      "🔊 Transcript for extracted_audio/Actor_16/03-01-07-01-02-02-16.wav:  Dogs are sitting by the door....\n",
      "📝 NLP features for extracted_audio/Actor_16/03-01-07-01-02-02-16.wav: {'num_words': 6, 'num_hesitations': 0, 'hesitation_ratio': 0.0, 'avg_sentence_length': np.float64(6.0)}\n",
      "🎧 Audio features for extracted_audio/Actor_16/03-01-07-01-02-02-16.wav: {'duration_sec': 3.570249433106576, 'pitch_std': np.float64(85.07627269195584), 'tempo_bpm': array([198.76802885])}\n",
      "✅ Combined features for extracted_audio/Actor_16/03-01-07-01-02-02-16.wav: {'num_words': 6, 'num_hesitations': 0, 'hesitation_ratio': 0.0, 'avg_sentence_length': np.float64(6.0), 'duration_sec': 3.570249433106576, 'pitch_std': np.float64(85.07627269195584), 'tempo_bpm': array([198.76802885]), 'file': '03-01-07-01-02-02-16.wav'}\n",
      "📁 Processing file: extracted_audio/Actor_16/03-01-07-02-01-02-16.wav\n"
     ]
    },
    {
     "name": "stderr",
     "output_type": "stream",
     "text": [
      "/Library/Frameworks/Python.framework/Versions/3.12/lib/python3.12/site-packages/whisper/transcribe.py:126: UserWarning: FP16 is not supported on CPU; using FP32 instead\n",
      "  warnings.warn(\"FP16 is not supported on CPU; using FP32 instead\")\n"
     ]
    },
    {
     "name": "stdout",
     "output_type": "stream",
     "text": [
      "🔊 Transcript for extracted_audio/Actor_16/03-01-07-02-01-02-16.wav:  Kids are talking by the door....\n",
      "📝 NLP features for extracted_audio/Actor_16/03-01-07-02-01-02-16.wav: {'num_words': 6, 'num_hesitations': 0, 'hesitation_ratio': 0.0, 'avg_sentence_length': np.float64(6.0)}\n",
      "🎧 Audio features for extracted_audio/Actor_16/03-01-07-02-01-02-16.wav: {'duration_sec': 4.237596371882086, 'pitch_std': np.float64(78.8054161987717), 'tempo_bpm': array([184.5703125])}\n",
      "✅ Combined features for extracted_audio/Actor_16/03-01-07-02-01-02-16.wav: {'num_words': 6, 'num_hesitations': 0, 'hesitation_ratio': 0.0, 'avg_sentence_length': np.float64(6.0), 'duration_sec': 4.237596371882086, 'pitch_std': np.float64(78.8054161987717), 'tempo_bpm': array([184.5703125]), 'file': '03-01-07-02-01-02-16.wav'}\n",
      "📁 Processing file: extracted_audio/Actor_16/03-01-04-02-01-01-16.wav\n"
     ]
    },
    {
     "name": "stderr",
     "output_type": "stream",
     "text": [
      "/Library/Frameworks/Python.framework/Versions/3.12/lib/python3.12/site-packages/whisper/transcribe.py:126: UserWarning: FP16 is not supported on CPU; using FP32 instead\n",
      "  warnings.warn(\"FP16 is not supported on CPU; using FP32 instead\")\n"
     ]
    },
    {
     "name": "stdout",
     "output_type": "stream",
     "text": [
      "🔊 Transcript for extracted_audio/Actor_16/03-01-04-02-01-01-16.wav:  Kids are talking by the door....\n",
      "📝 NLP features for extracted_audio/Actor_16/03-01-04-02-01-01-16.wav: {'num_words': 6, 'num_hesitations': 0, 'hesitation_ratio': 0.0, 'avg_sentence_length': np.float64(6.0)}\n",
      "🎧 Audio features for extracted_audio/Actor_16/03-01-04-02-01-01-16.wav: {'duration_sec': 3.737097505668934, 'pitch_std': np.float64(81.24964892742001), 'tempo_bpm': array([107.66601562])}\n",
      "✅ Combined features for extracted_audio/Actor_16/03-01-04-02-01-01-16.wav: {'num_words': 6, 'num_hesitations': 0, 'hesitation_ratio': 0.0, 'avg_sentence_length': np.float64(6.0), 'duration_sec': 3.737097505668934, 'pitch_std': np.float64(81.24964892742001), 'tempo_bpm': array([107.66601562]), 'file': '03-01-04-02-01-01-16.wav'}\n",
      "📁 Processing file: extracted_audio/Actor_16/03-01-08-02-01-02-16.wav\n"
     ]
    },
    {
     "name": "stderr",
     "output_type": "stream",
     "text": [
      "/Library/Frameworks/Python.framework/Versions/3.12/lib/python3.12/site-packages/whisper/transcribe.py:126: UserWarning: FP16 is not supported on CPU; using FP32 instead\n",
      "  warnings.warn(\"FP16 is not supported on CPU; using FP32 instead\")\n"
     ]
    },
    {
     "name": "stdout",
     "output_type": "stream",
     "text": [
      "🔊 Transcript for extracted_audio/Actor_16/03-01-08-02-01-02-16.wav:  Kids are talking by the door....\n",
      "📝 NLP features for extracted_audio/Actor_16/03-01-08-02-01-02-16.wav: {'num_words': 6, 'num_hesitations': 0, 'hesitation_ratio': 0.0, 'avg_sentence_length': np.float64(6.0)}\n",
      "🎧 Audio features for extracted_audio/Actor_16/03-01-08-02-01-02-16.wav: {'duration_sec': 3.53687074829932, 'pitch_std': np.float64(87.0470933586645), 'tempo_bpm': array([117.45383523])}\n",
      "✅ Combined features for extracted_audio/Actor_16/03-01-08-02-01-02-16.wav: {'num_words': 6, 'num_hesitations': 0, 'hesitation_ratio': 0.0, 'avg_sentence_length': np.float64(6.0), 'duration_sec': 3.53687074829932, 'pitch_std': np.float64(87.0470933586645), 'tempo_bpm': array([117.45383523]), 'file': '03-01-08-02-01-02-16.wav'}\n",
      "📁 Processing file: extracted_audio/Actor_16/03-01-08-01-02-02-16.wav\n"
     ]
    },
    {
     "name": "stderr",
     "output_type": "stream",
     "text": [
      "/Library/Frameworks/Python.framework/Versions/3.12/lib/python3.12/site-packages/whisper/transcribe.py:126: UserWarning: FP16 is not supported on CPU; using FP32 instead\n",
      "  warnings.warn(\"FP16 is not supported on CPU; using FP32 instead\")\n"
     ]
    },
    {
     "name": "stdout",
     "output_type": "stream",
     "text": [
      "🔊 Transcript for extracted_audio/Actor_16/03-01-08-01-02-02-16.wav:  Dogs are sitting by the door....\n",
      "📝 NLP features for extracted_audio/Actor_16/03-01-08-01-02-02-16.wav: {'num_words': 6, 'num_hesitations': 0, 'hesitation_ratio': 0.0, 'avg_sentence_length': np.float64(6.0)}\n",
      "🎧 Audio features for extracted_audio/Actor_16/03-01-08-01-02-02-16.wav: {'duration_sec': 3.436780045351474, 'pitch_std': np.float64(90.62560854353626), 'tempo_bpm': array([117.45383523])}\n",
      "✅ Combined features for extracted_audio/Actor_16/03-01-08-01-02-02-16.wav: {'num_words': 6, 'num_hesitations': 0, 'hesitation_ratio': 0.0, 'avg_sentence_length': np.float64(6.0), 'duration_sec': 3.436780045351474, 'pitch_std': np.float64(90.62560854353626), 'tempo_bpm': array([117.45383523]), 'file': '03-01-08-01-02-02-16.wav'}\n",
      "📁 Processing file: extracted_audio/Actor_16/03-01-02-01-02-02-16.wav\n"
     ]
    },
    {
     "name": "stderr",
     "output_type": "stream",
     "text": [
      "/Library/Frameworks/Python.framework/Versions/3.12/lib/python3.12/site-packages/whisper/transcribe.py:126: UserWarning: FP16 is not supported on CPU; using FP32 instead\n",
      "  warnings.warn(\"FP16 is not supported on CPU; using FP32 instead\")\n"
     ]
    },
    {
     "name": "stdout",
     "output_type": "stream",
     "text": [
      "🔊 Transcript for extracted_audio/Actor_16/03-01-02-01-02-02-16.wav:  Dogs are sitting by the door....\n",
      "📝 NLP features for extracted_audio/Actor_16/03-01-02-01-02-02-16.wav: {'num_words': 6, 'num_hesitations': 0, 'hesitation_ratio': 0.0, 'avg_sentence_length': np.float64(6.0)}\n",
      "🎧 Audio features for extracted_audio/Actor_16/03-01-02-01-02-02-16.wav: {'duration_sec': 3.670340136054422, 'pitch_std': np.float64(71.9972388421793), 'tempo_bpm': array([161.49902344])}\n",
      "✅ Combined features for extracted_audio/Actor_16/03-01-02-01-02-02-16.wav: {'num_words': 6, 'num_hesitations': 0, 'hesitation_ratio': 0.0, 'avg_sentence_length': np.float64(6.0), 'duration_sec': 3.670340136054422, 'pitch_std': np.float64(71.9972388421793), 'tempo_bpm': array([161.49902344]), 'file': '03-01-02-01-02-02-16.wav'}\n",
      "📁 Processing file: extracted_audio/Actor_16/03-01-01-01-02-01-16.wav\n"
     ]
    },
    {
     "name": "stderr",
     "output_type": "stream",
     "text": [
      "/Library/Frameworks/Python.framework/Versions/3.12/lib/python3.12/site-packages/whisper/transcribe.py:126: UserWarning: FP16 is not supported on CPU; using FP32 instead\n",
      "  warnings.warn(\"FP16 is not supported on CPU; using FP32 instead\")\n"
     ]
    },
    {
     "name": "stdout",
     "output_type": "stream",
     "text": [
      "🔊 Transcript for extracted_audio/Actor_16/03-01-01-01-02-01-16.wav:  Dogs are sitting by the door....\n",
      "📝 NLP features for extracted_audio/Actor_16/03-01-01-01-02-01-16.wav: {'num_words': 6, 'num_hesitations': 0, 'hesitation_ratio': 0.0, 'avg_sentence_length': np.float64(6.0)}\n",
      "🎧 Audio features for extracted_audio/Actor_16/03-01-01-01-02-01-16.wav: {'duration_sec': 3.603628117913832, 'pitch_std': np.float64(75.25736101951625), 'tempo_bpm': array([198.76802885])}\n",
      "✅ Combined features for extracted_audio/Actor_16/03-01-01-01-02-01-16.wav: {'num_words': 6, 'num_hesitations': 0, 'hesitation_ratio': 0.0, 'avg_sentence_length': np.float64(6.0), 'duration_sec': 3.603628117913832, 'pitch_std': np.float64(75.25736101951625), 'tempo_bpm': array([198.76802885]), 'file': '03-01-01-01-02-01-16.wav'}\n",
      "📁 Processing file: extracted_audio/Actor_16/03-01-02-02-01-02-16.wav\n"
     ]
    },
    {
     "name": "stderr",
     "output_type": "stream",
     "text": [
      "/Library/Frameworks/Python.framework/Versions/3.12/lib/python3.12/site-packages/whisper/transcribe.py:126: UserWarning: FP16 is not supported on CPU; using FP32 instead\n",
      "  warnings.warn(\"FP16 is not supported on CPU; using FP32 instead\")\n"
     ]
    },
    {
     "name": "stdout",
     "output_type": "stream",
     "text": [
      "🔊 Transcript for extracted_audio/Actor_16/03-01-02-02-01-02-16.wav:  Kids are talking by the door....\n",
      "📝 NLP features for extracted_audio/Actor_16/03-01-02-02-01-02-16.wav: {'num_words': 6, 'num_hesitations': 0, 'hesitation_ratio': 0.0, 'avg_sentence_length': np.float64(6.0)}\n",
      "🎧 Audio features for extracted_audio/Actor_16/03-01-02-02-01-02-16.wav: {'duration_sec': 3.937278911564626, 'pitch_std': np.float64(68.52174943876325), 'tempo_bpm': array([117.45383523])}\n",
      "✅ Combined features for extracted_audio/Actor_16/03-01-02-02-01-02-16.wav: {'num_words': 6, 'num_hesitations': 0, 'hesitation_ratio': 0.0, 'avg_sentence_length': np.float64(6.0), 'duration_sec': 3.937278911564626, 'pitch_std': np.float64(68.52174943876325), 'tempo_bpm': array([117.45383523]), 'file': '03-01-02-02-01-02-16.wav'}\n",
      "📁 Processing file: extracted_audio/Actor_16/03-01-03-01-01-01-16.wav\n"
     ]
    },
    {
     "name": "stderr",
     "output_type": "stream",
     "text": [
      "/Library/Frameworks/Python.framework/Versions/3.12/lib/python3.12/site-packages/whisper/transcribe.py:126: UserWarning: FP16 is not supported on CPU; using FP32 instead\n",
      "  warnings.warn(\"FP16 is not supported on CPU; using FP32 instead\")\n"
     ]
    },
    {
     "name": "stdout",
     "output_type": "stream",
     "text": [
      "🔊 Transcript for extracted_audio/Actor_16/03-01-03-01-01-01-16.wav:  Kids are talking by the door....\n",
      "📝 NLP features for extracted_audio/Actor_16/03-01-03-01-01-01-16.wav: {'num_words': 6, 'num_hesitations': 0, 'hesitation_ratio': 0.0, 'avg_sentence_length': np.float64(6.0)}\n",
      "🎧 Audio features for extracted_audio/Actor_16/03-01-03-01-01-01-16.wav: {'duration_sec': 3.703718820861678, 'pitch_std': np.float64(83.08792649194805), 'tempo_bpm': array([135.99917763])}\n",
      "✅ Combined features for extracted_audio/Actor_16/03-01-03-01-01-01-16.wav: {'num_words': 6, 'num_hesitations': 0, 'hesitation_ratio': 0.0, 'avg_sentence_length': np.float64(6.0), 'duration_sec': 3.703718820861678, 'pitch_std': np.float64(83.08792649194805), 'tempo_bpm': array([135.99917763]), 'file': '03-01-03-01-01-01-16.wav'}\n",
      "📁 Processing file: extracted_audio/Actor_16/03-01-03-02-02-01-16.wav\n"
     ]
    },
    {
     "name": "stderr",
     "output_type": "stream",
     "text": [
      "/Library/Frameworks/Python.framework/Versions/3.12/lib/python3.12/site-packages/whisper/transcribe.py:126: UserWarning: FP16 is not supported on CPU; using FP32 instead\n",
      "  warnings.warn(\"FP16 is not supported on CPU; using FP32 instead\")\n"
     ]
    },
    {
     "name": "stdout",
     "output_type": "stream",
     "text": [
      "🔊 Transcript for extracted_audio/Actor_16/03-01-03-02-02-01-16.wav:  Dogs are sitting by the door....\n",
      "📝 NLP features for extracted_audio/Actor_16/03-01-03-02-02-01-16.wav: {'num_words': 6, 'num_hesitations': 0, 'hesitation_ratio': 0.0, 'avg_sentence_length': np.float64(6.0)}\n",
      "🎧 Audio features for extracted_audio/Actor_16/03-01-03-02-02-01-16.wav: {'duration_sec': 3.7704308390022674, 'pitch_std': np.float64(84.1025546542799), 'tempo_bpm': array([184.5703125])}\n",
      "✅ Combined features for extracted_audio/Actor_16/03-01-03-02-02-01-16.wav: {'num_words': 6, 'num_hesitations': 0, 'hesitation_ratio': 0.0, 'avg_sentence_length': np.float64(6.0), 'duration_sec': 3.7704308390022674, 'pitch_std': np.float64(84.1025546542799), 'tempo_bpm': array([184.5703125]), 'file': '03-01-03-02-02-01-16.wav'}\n",
      "📁 Processing file: extracted_audio/Actor_16/03-01-07-02-02-02-16.wav\n"
     ]
    },
    {
     "name": "stderr",
     "output_type": "stream",
     "text": [
      "/Library/Frameworks/Python.framework/Versions/3.12/lib/python3.12/site-packages/whisper/transcribe.py:126: UserWarning: FP16 is not supported on CPU; using FP32 instead\n",
      "  warnings.warn(\"FP16 is not supported on CPU; using FP32 instead\")\n"
     ]
    },
    {
     "name": "stdout",
     "output_type": "stream",
     "text": [
      "🔊 Transcript for extracted_audio/Actor_16/03-01-07-02-02-02-16.wav:  Dogs are sitting by the door....\n",
      "📝 NLP features for extracted_audio/Actor_16/03-01-07-02-02-02-16.wav: {'num_words': 6, 'num_hesitations': 0, 'hesitation_ratio': 0.0, 'avg_sentence_length': np.float64(6.0)}\n",
      "🎧 Audio features for extracted_audio/Actor_16/03-01-07-02-02-02-16.wav: {'duration_sec': 4.13750566893424, 'pitch_std': np.float64(82.37562555854824), 'tempo_bpm': array([184.5703125])}\n",
      "✅ Combined features for extracted_audio/Actor_16/03-01-07-02-02-02-16.wav: {'num_words': 6, 'num_hesitations': 0, 'hesitation_ratio': 0.0, 'avg_sentence_length': np.float64(6.0), 'duration_sec': 4.13750566893424, 'pitch_std': np.float64(82.37562555854824), 'tempo_bpm': array([184.5703125]), 'file': '03-01-07-02-02-02-16.wav'}\n",
      "📁 Processing file: extracted_audio/Actor_16/03-01-04-02-02-01-16.wav\n"
     ]
    },
    {
     "name": "stderr",
     "output_type": "stream",
     "text": [
      "/Library/Frameworks/Python.framework/Versions/3.12/lib/python3.12/site-packages/whisper/transcribe.py:126: UserWarning: FP16 is not supported on CPU; using FP32 instead\n",
      "  warnings.warn(\"FP16 is not supported on CPU; using FP32 instead\")\n"
     ]
    },
    {
     "name": "stdout",
     "output_type": "stream",
     "text": [
      "🔊 Transcript for extracted_audio/Actor_16/03-01-04-02-02-01-16.wav:  Dogs are sitting by the door....\n",
      "📝 NLP features for extracted_audio/Actor_16/03-01-04-02-02-01-16.wav: {'num_words': 6, 'num_hesitations': 0, 'hesitation_ratio': 0.0, 'avg_sentence_length': np.float64(6.0)}\n",
      "🎧 Audio features for extracted_audio/Actor_16/03-01-04-02-02-01-16.wav: {'duration_sec': 3.8705668934240363, 'pitch_std': np.float64(81.42278896247369), 'tempo_bpm': array([184.5703125])}\n",
      "✅ Combined features for extracted_audio/Actor_16/03-01-04-02-02-01-16.wav: {'num_words': 6, 'num_hesitations': 0, 'hesitation_ratio': 0.0, 'avg_sentence_length': np.float64(6.0), 'duration_sec': 3.8705668934240363, 'pitch_std': np.float64(81.42278896247369), 'tempo_bpm': array([184.5703125]), 'file': '03-01-04-02-02-01-16.wav'}\n",
      "📁 Processing file: extracted_audio/Actor_16/03-01-04-01-01-01-16.wav\n"
     ]
    },
    {
     "name": "stderr",
     "output_type": "stream",
     "text": [
      "/Library/Frameworks/Python.framework/Versions/3.12/lib/python3.12/site-packages/whisper/transcribe.py:126: UserWarning: FP16 is not supported on CPU; using FP32 instead\n",
      "  warnings.warn(\"FP16 is not supported on CPU; using FP32 instead\")\n"
     ]
    },
    {
     "name": "stdout",
     "output_type": "stream",
     "text": [
      "🔊 Transcript for extracted_audio/Actor_16/03-01-04-01-01-01-16.wav:  Kids are talking by the door....\n",
      "📝 NLP features for extracted_audio/Actor_16/03-01-04-01-01-01-16.wav: {'num_words': 6, 'num_hesitations': 0, 'hesitation_ratio': 0.0, 'avg_sentence_length': np.float64(6.0)}\n",
      "🎧 Audio features for extracted_audio/Actor_16/03-01-04-01-01-01-16.wav: {'duration_sec': 3.570249433106576, 'pitch_std': np.float64(82.1857607451054), 'tempo_bpm': array([215.33203125])}\n",
      "✅ Combined features for extracted_audio/Actor_16/03-01-04-01-01-01-16.wav: {'num_words': 6, 'num_hesitations': 0, 'hesitation_ratio': 0.0, 'avg_sentence_length': np.float64(6.0), 'duration_sec': 3.570249433106576, 'pitch_std': np.float64(82.1857607451054), 'tempo_bpm': array([215.33203125]), 'file': '03-01-04-01-01-01-16.wav'}\n",
      "📁 Processing file: extracted_audio/Actor_16/03-01-07-01-01-02-16.wav\n"
     ]
    },
    {
     "name": "stderr",
     "output_type": "stream",
     "text": [
      "/Library/Frameworks/Python.framework/Versions/3.12/lib/python3.12/site-packages/whisper/transcribe.py:126: UserWarning: FP16 is not supported on CPU; using FP32 instead\n",
      "  warnings.warn(\"FP16 is not supported on CPU; using FP32 instead\")\n"
     ]
    },
    {
     "name": "stdout",
     "output_type": "stream",
     "text": [
      "🔊 Transcript for extracted_audio/Actor_16/03-01-07-01-01-02-16.wav:  Kids are talking by the door....\n",
      "📝 NLP features for extracted_audio/Actor_16/03-01-07-01-01-02-16.wav: {'num_words': 6, 'num_hesitations': 0, 'hesitation_ratio': 0.0, 'avg_sentence_length': np.float64(6.0)}\n",
      "🎧 Audio features for extracted_audio/Actor_16/03-01-07-01-01-02-16.wav: {'duration_sec': 3.737097505668934, 'pitch_std': np.float64(85.80585525306637), 'tempo_bpm': array([123.046875])}\n",
      "✅ Combined features for extracted_audio/Actor_16/03-01-07-01-01-02-16.wav: {'num_words': 6, 'num_hesitations': 0, 'hesitation_ratio': 0.0, 'avg_sentence_length': np.float64(6.0), 'duration_sec': 3.737097505668934, 'pitch_std': np.float64(85.80585525306637), 'tempo_bpm': array([123.046875]), 'file': '03-01-07-01-01-02-16.wav'}\n",
      "📁 Processing file: extracted_audio/Actor_16/03-01-05-02-01-02-16.wav\n"
     ]
    },
    {
     "name": "stderr",
     "output_type": "stream",
     "text": [
      "/Library/Frameworks/Python.framework/Versions/3.12/lib/python3.12/site-packages/whisper/transcribe.py:126: UserWarning: FP16 is not supported on CPU; using FP32 instead\n",
      "  warnings.warn(\"FP16 is not supported on CPU; using FP32 instead\")\n"
     ]
    },
    {
     "name": "stdout",
     "output_type": "stream",
     "text": [
      "🔊 Transcript for extracted_audio/Actor_16/03-01-05-02-01-02-16.wav:  Kids are talking by the door!...\n",
      "📝 NLP features for extracted_audio/Actor_16/03-01-05-02-01-02-16.wav: {'num_words': 6, 'num_hesitations': 0, 'hesitation_ratio': 0.0, 'avg_sentence_length': np.float64(6.0)}\n",
      "🎧 Audio features for extracted_audio/Actor_16/03-01-05-02-01-02-16.wav: {'duration_sec': 3.737097505668934, 'pitch_std': np.float64(90.56545651227617), 'tempo_bpm': array([172.265625])}\n",
      "✅ Combined features for extracted_audio/Actor_16/03-01-05-02-01-02-16.wav: {'num_words': 6, 'num_hesitations': 0, 'hesitation_ratio': 0.0, 'avg_sentence_length': np.float64(6.0), 'duration_sec': 3.737097505668934, 'pitch_std': np.float64(90.56545651227617), 'tempo_bpm': array([172.265625]), 'file': '03-01-05-02-01-02-16.wav'}\n",
      "📁 Processing file: extracted_audio/Actor_16/03-01-06-02-01-01-16.wav\n"
     ]
    },
    {
     "name": "stderr",
     "output_type": "stream",
     "text": [
      "/Library/Frameworks/Python.framework/Versions/3.12/lib/python3.12/site-packages/whisper/transcribe.py:126: UserWarning: FP16 is not supported on CPU; using FP32 instead\n",
      "  warnings.warn(\"FP16 is not supported on CPU; using FP32 instead\")\n"
     ]
    },
    {
     "name": "stdout",
     "output_type": "stream",
     "text": [
      "🔊 Transcript for extracted_audio/Actor_16/03-01-06-02-01-01-16.wav:  Kids are talking by the door!...\n",
      "📝 NLP features for extracted_audio/Actor_16/03-01-06-02-01-01-16.wav: {'num_words': 6, 'num_hesitations': 0, 'hesitation_ratio': 0.0, 'avg_sentence_length': np.float64(6.0)}\n",
      "🎧 Audio features for extracted_audio/Actor_16/03-01-06-02-01-01-16.wav: {'duration_sec': 3.737097505668934, 'pitch_std': np.float64(88.46384190352812), 'tempo_bpm': array([123.046875])}\n",
      "✅ Combined features for extracted_audio/Actor_16/03-01-06-02-01-01-16.wav: {'num_words': 6, 'num_hesitations': 0, 'hesitation_ratio': 0.0, 'avg_sentence_length': np.float64(6.0), 'duration_sec': 3.737097505668934, 'pitch_std': np.float64(88.46384190352812), 'tempo_bpm': array([123.046875]), 'file': '03-01-06-02-01-01-16.wav'}\n",
      "📁 Processing file: extracted_audio/Actor_16/03-01-06-01-02-01-16.wav\n"
     ]
    },
    {
     "name": "stderr",
     "output_type": "stream",
     "text": [
      "/Library/Frameworks/Python.framework/Versions/3.12/lib/python3.12/site-packages/whisper/transcribe.py:126: UserWarning: FP16 is not supported on CPU; using FP32 instead\n",
      "  warnings.warn(\"FP16 is not supported on CPU; using FP32 instead\")\n"
     ]
    },
    {
     "name": "stdout",
     "output_type": "stream",
     "text": [
      "🔊 Transcript for extracted_audio/Actor_16/03-01-06-01-02-01-16.wav:  Dogs are sitting by the door....\n",
      "📝 NLP features for extracted_audio/Actor_16/03-01-06-01-02-01-16.wav: {'num_words': 6, 'num_hesitations': 0, 'hesitation_ratio': 0.0, 'avg_sentence_length': np.float64(6.0)}\n",
      "🎧 Audio features for extracted_audio/Actor_16/03-01-06-01-02-01-16.wav: {'duration_sec': 3.6369614512471657, 'pitch_std': np.float64(78.95771629565522), 'tempo_bpm': array([215.33203125])}\n",
      "✅ Combined features for extracted_audio/Actor_16/03-01-06-01-02-01-16.wav: {'num_words': 6, 'num_hesitations': 0, 'hesitation_ratio': 0.0, 'avg_sentence_length': np.float64(6.0), 'duration_sec': 3.6369614512471657, 'pitch_std': np.float64(78.95771629565522), 'tempo_bpm': array([215.33203125]), 'file': '03-01-06-01-02-01-16.wav'}\n",
      "📁 Processing file: extracted_audio/Actor_16/03-01-05-01-02-02-16.wav\n"
     ]
    },
    {
     "name": "stderr",
     "output_type": "stream",
     "text": [
      "/Library/Frameworks/Python.framework/Versions/3.12/lib/python3.12/site-packages/whisper/transcribe.py:126: UserWarning: FP16 is not supported on CPU; using FP32 instead\n",
      "  warnings.warn(\"FP16 is not supported on CPU; using FP32 instead\")\n"
     ]
    },
    {
     "name": "stdout",
     "output_type": "stream",
     "text": [
      "🔊 Transcript for extracted_audio/Actor_16/03-01-05-01-02-02-16.wav:  Dogs are sitting by the door....\n",
      "📝 NLP features for extracted_audio/Actor_16/03-01-05-01-02-02-16.wav: {'num_words': 6, 'num_hesitations': 0, 'hesitation_ratio': 0.0, 'avg_sentence_length': np.float64(6.0)}\n",
      "🎧 Audio features for extracted_audio/Actor_16/03-01-05-01-02-02-16.wav: {'duration_sec': 3.9039002267573695, 'pitch_std': np.float64(87.07009119865855), 'tempo_bpm': array([107.66601562])}\n",
      "✅ Combined features for extracted_audio/Actor_16/03-01-05-01-02-02-16.wav: {'num_words': 6, 'num_hesitations': 0, 'hesitation_ratio': 0.0, 'avg_sentence_length': np.float64(6.0), 'duration_sec': 3.9039002267573695, 'pitch_std': np.float64(87.07009119865855), 'tempo_bpm': array([107.66601562]), 'file': '03-01-05-01-02-02-16.wav'}\n",
      "📁 Processing file: extracted_audio/Actor_16/03-01-08-01-01-02-16.wav\n"
     ]
    },
    {
     "name": "stderr",
     "output_type": "stream",
     "text": [
      "/Library/Frameworks/Python.framework/Versions/3.12/lib/python3.12/site-packages/whisper/transcribe.py:126: UserWarning: FP16 is not supported on CPU; using FP32 instead\n",
      "  warnings.warn(\"FP16 is not supported on CPU; using FP32 instead\")\n"
     ]
    },
    {
     "name": "stdout",
     "output_type": "stream",
     "text": [
      "🔊 Transcript for extracted_audio/Actor_16/03-01-08-01-01-02-16.wav:  Kids are talking by the door....\n",
      "📝 NLP features for extracted_audio/Actor_16/03-01-08-01-01-02-16.wav: {'num_words': 6, 'num_hesitations': 0, 'hesitation_ratio': 0.0, 'avg_sentence_length': np.float64(6.0)}\n",
      "🎧 Audio features for extracted_audio/Actor_16/03-01-08-01-01-02-16.wav: {'duration_sec': 3.436780045351474, 'pitch_std': np.float64(81.46643900794184), 'tempo_bpm': array([129.19921875])}\n",
      "✅ Combined features for extracted_audio/Actor_16/03-01-08-01-01-02-16.wav: {'num_words': 6, 'num_hesitations': 0, 'hesitation_ratio': 0.0, 'avg_sentence_length': np.float64(6.0), 'duration_sec': 3.436780045351474, 'pitch_std': np.float64(81.46643900794184), 'tempo_bpm': array([129.19921875]), 'file': '03-01-08-01-01-02-16.wav'}\n",
      "📁 Processing file: extracted_audio/Actor_16/03-01-08-02-02-02-16.wav\n"
     ]
    },
    {
     "name": "stderr",
     "output_type": "stream",
     "text": [
      "/Library/Frameworks/Python.framework/Versions/3.12/lib/python3.12/site-packages/whisper/transcribe.py:126: UserWarning: FP16 is not supported on CPU; using FP32 instead\n",
      "  warnings.warn(\"FP16 is not supported on CPU; using FP32 instead\")\n"
     ]
    },
    {
     "name": "stdout",
     "output_type": "stream",
     "text": [
      "🔊 Transcript for extracted_audio/Actor_16/03-01-08-02-02-02-16.wav:  Dogs are sitting by the door....\n",
      "📝 NLP features for extracted_audio/Actor_16/03-01-08-02-02-02-16.wav: {'num_words': 6, 'num_hesitations': 0, 'hesitation_ratio': 0.0, 'avg_sentence_length': np.float64(6.0)}\n",
      "🎧 Audio features for extracted_audio/Actor_16/03-01-08-02-02-02-16.wav: {'duration_sec': 3.570249433106576, 'pitch_std': np.float64(86.71693820965267), 'tempo_bpm': array([69.83741554])}\n",
      "✅ Combined features for extracted_audio/Actor_16/03-01-08-02-02-02-16.wav: {'num_words': 6, 'num_hesitations': 0, 'hesitation_ratio': 0.0, 'avg_sentence_length': np.float64(6.0), 'duration_sec': 3.570249433106576, 'pitch_std': np.float64(86.71693820965267), 'tempo_bpm': array([69.83741554]), 'file': '03-01-08-02-02-02-16.wav'}\n",
      "📁 Processing file: extracted_audio/Actor_16/03-01-04-02-01-02-16.wav\n"
     ]
    },
    {
     "name": "stderr",
     "output_type": "stream",
     "text": [
      "/Library/Frameworks/Python.framework/Versions/3.12/lib/python3.12/site-packages/whisper/transcribe.py:126: UserWarning: FP16 is not supported on CPU; using FP32 instead\n",
      "  warnings.warn(\"FP16 is not supported on CPU; using FP32 instead\")\n"
     ]
    },
    {
     "name": "stdout",
     "output_type": "stream",
     "text": [
      "🔊 Transcript for extracted_audio/Actor_16/03-01-04-02-01-02-16.wav:  Kids are talking by the door....\n",
      "📝 NLP features for extracted_audio/Actor_16/03-01-04-02-01-02-16.wav: {'num_words': 6, 'num_hesitations': 0, 'hesitation_ratio': 0.0, 'avg_sentence_length': np.float64(6.0)}\n",
      "🎧 Audio features for extracted_audio/Actor_16/03-01-04-02-01-02-16.wav: {'duration_sec': 3.803854875283447, 'pitch_std': np.float64(93.5609178504331), 'tempo_bpm': array([107.66601562])}\n",
      "✅ Combined features for extracted_audio/Actor_16/03-01-04-02-01-02-16.wav: {'num_words': 6, 'num_hesitations': 0, 'hesitation_ratio': 0.0, 'avg_sentence_length': np.float64(6.0), 'duration_sec': 3.803854875283447, 'pitch_std': np.float64(93.5609178504331), 'tempo_bpm': array([107.66601562]), 'file': '03-01-04-02-01-02-16.wav'}\n",
      "📁 Processing file: extracted_audio/Actor_16/03-01-07-02-01-01-16.wav\n"
     ]
    },
    {
     "name": "stderr",
     "output_type": "stream",
     "text": [
      "/Library/Frameworks/Python.framework/Versions/3.12/lib/python3.12/site-packages/whisper/transcribe.py:126: UserWarning: FP16 is not supported on CPU; using FP32 instead\n",
      "  warnings.warn(\"FP16 is not supported on CPU; using FP32 instead\")\n"
     ]
    },
    {
     "name": "stdout",
     "output_type": "stream",
     "text": [
      "🔊 Transcript for extracted_audio/Actor_16/03-01-07-02-01-01-16.wav:  Kids are talking by the door....\n",
      "📝 NLP features for extracted_audio/Actor_16/03-01-07-02-01-01-16.wav: {'num_words': 6, 'num_hesitations': 0, 'hesitation_ratio': 0.0, 'avg_sentence_length': np.float64(6.0)}\n",
      "🎧 Audio features for extracted_audio/Actor_16/03-01-07-02-01-01-16.wav: {'duration_sec': 4.270929705215419, 'pitch_std': np.float64(68.12579568984516), 'tempo_bpm': array([95.703125])}\n",
      "✅ Combined features for extracted_audio/Actor_16/03-01-07-02-01-01-16.wav: {'num_words': 6, 'num_hesitations': 0, 'hesitation_ratio': 0.0, 'avg_sentence_length': np.float64(6.0), 'duration_sec': 4.270929705215419, 'pitch_std': np.float64(68.12579568984516), 'tempo_bpm': array([95.703125]), 'file': '03-01-07-02-01-01-16.wav'}\n",
      "📁 Processing file: extracted_audio/Actor_16/03-01-07-01-02-01-16.wav\n"
     ]
    },
    {
     "name": "stderr",
     "output_type": "stream",
     "text": [
      "/Library/Frameworks/Python.framework/Versions/3.12/lib/python3.12/site-packages/whisper/transcribe.py:126: UserWarning: FP16 is not supported on CPU; using FP32 instead\n",
      "  warnings.warn(\"FP16 is not supported on CPU; using FP32 instead\")\n"
     ]
    },
    {
     "name": "stdout",
     "output_type": "stream",
     "text": [
      "🔊 Transcript for extracted_audio/Actor_16/03-01-07-01-02-01-16.wav:  Dogs are sitting by the door....\n",
      "📝 NLP features for extracted_audio/Actor_16/03-01-07-01-02-01-16.wav: {'num_words': 6, 'num_hesitations': 0, 'hesitation_ratio': 0.0, 'avg_sentence_length': np.float64(6.0)}\n",
      "🎧 Audio features for extracted_audio/Actor_16/03-01-07-01-02-01-16.wav: {'duration_sec': 3.47015873015873, 'pitch_std': np.float64(85.74524180567239), 'tempo_bpm': array([161.49902344])}\n",
      "✅ Combined features for extracted_audio/Actor_16/03-01-07-01-02-01-16.wav: {'num_words': 6, 'num_hesitations': 0, 'hesitation_ratio': 0.0, 'avg_sentence_length': np.float64(6.0), 'duration_sec': 3.47015873015873, 'pitch_std': np.float64(85.74524180567239), 'tempo_bpm': array([161.49902344]), 'file': '03-01-07-01-02-01-16.wav'}\n",
      "📁 Processing file: extracted_audio/Actor_16/03-01-04-01-02-02-16.wav\n"
     ]
    },
    {
     "name": "stderr",
     "output_type": "stream",
     "text": [
      "/Library/Frameworks/Python.framework/Versions/3.12/lib/python3.12/site-packages/whisper/transcribe.py:126: UserWarning: FP16 is not supported on CPU; using FP32 instead\n",
      "  warnings.warn(\"FP16 is not supported on CPU; using FP32 instead\")\n"
     ]
    },
    {
     "name": "stdout",
     "output_type": "stream",
     "text": [
      "🔊 Transcript for extracted_audio/Actor_16/03-01-04-01-02-02-16.wav:  Dogs are sitting by the door....\n",
      "📝 NLP features for extracted_audio/Actor_16/03-01-04-01-02-02-16.wav: {'num_words': 6, 'num_hesitations': 0, 'hesitation_ratio': 0.0, 'avg_sentence_length': np.float64(6.0)}\n",
      "🎧 Audio features for extracted_audio/Actor_16/03-01-04-01-02-02-16.wav: {'duration_sec': 3.5035374149659866, 'pitch_std': np.float64(73.74339957410544), 'tempo_bpm': array([198.76802885])}\n",
      "✅ Combined features for extracted_audio/Actor_16/03-01-04-01-02-02-16.wav: {'num_words': 6, 'num_hesitations': 0, 'hesitation_ratio': 0.0, 'avg_sentence_length': np.float64(6.0), 'duration_sec': 3.5035374149659866, 'pitch_std': np.float64(73.74339957410544), 'tempo_bpm': array([198.76802885]), 'file': '03-01-04-01-02-02-16.wav'}\n",
      "📁 Processing file: extracted_audio/Actor_16/03-01-06-02-02-02-16.wav\n"
     ]
    },
    {
     "name": "stderr",
     "output_type": "stream",
     "text": [
      "/Library/Frameworks/Python.framework/Versions/3.12/lib/python3.12/site-packages/whisper/transcribe.py:126: UserWarning: FP16 is not supported on CPU; using FP32 instead\n",
      "  warnings.warn(\"FP16 is not supported on CPU; using FP32 instead\")\n"
     ]
    },
    {
     "name": "stdout",
     "output_type": "stream",
     "text": [
      "🔊 Transcript for extracted_audio/Actor_16/03-01-06-02-02-02-16.wav:  Dogs are sitting by the door!...\n",
      "📝 NLP features for extracted_audio/Actor_16/03-01-06-02-02-02-16.wav: {'num_words': 6, 'num_hesitations': 0, 'hesitation_ratio': 0.0, 'avg_sentence_length': np.float64(6.0)}\n",
      "🎧 Audio features for extracted_audio/Actor_16/03-01-06-02-02-02-16.wav: {'duration_sec': 3.5035374149659866, 'pitch_std': np.float64(89.01355968499921), 'tempo_bpm': array([112.34714674])}\n",
      "✅ Combined features for extracted_audio/Actor_16/03-01-06-02-02-02-16.wav: {'num_words': 6, 'num_hesitations': 0, 'hesitation_ratio': 0.0, 'avg_sentence_length': np.float64(6.0), 'duration_sec': 3.5035374149659866, 'pitch_std': np.float64(89.01355968499921), 'tempo_bpm': array([112.34714674]), 'file': '03-01-06-02-02-02-16.wav'}\n",
      "📁 Processing file: extracted_audio/Actor_16/03-01-05-02-02-01-16.wav\n"
     ]
    },
    {
     "name": "stderr",
     "output_type": "stream",
     "text": [
      "/Library/Frameworks/Python.framework/Versions/3.12/lib/python3.12/site-packages/whisper/transcribe.py:126: UserWarning: FP16 is not supported on CPU; using FP32 instead\n",
      "  warnings.warn(\"FP16 is not supported on CPU; using FP32 instead\")\n"
     ]
    },
    {
     "name": "stdout",
     "output_type": "stream",
     "text": [
      "🔊 Transcript for extracted_audio/Actor_16/03-01-05-02-02-01-16.wav:  Dogs are sitting by the door....\n",
      "📝 NLP features for extracted_audio/Actor_16/03-01-05-02-02-01-16.wav: {'num_words': 6, 'num_hesitations': 0, 'hesitation_ratio': 0.0, 'avg_sentence_length': np.float64(6.0)}\n",
      "🎧 Audio features for extracted_audio/Actor_16/03-01-05-02-02-01-16.wav: {'duration_sec': 3.803809523809524, 'pitch_std': np.float64(91.51692715323206), 'tempo_bpm': array([172.265625])}\n",
      "✅ Combined features for extracted_audio/Actor_16/03-01-05-02-02-01-16.wav: {'num_words': 6, 'num_hesitations': 0, 'hesitation_ratio': 0.0, 'avg_sentence_length': np.float64(6.0), 'duration_sec': 3.803809523809524, 'pitch_std': np.float64(91.51692715323206), 'tempo_bpm': array([172.265625]), 'file': '03-01-05-02-02-01-16.wav'}\n",
      "📁 Processing file: extracted_audio/Actor_16/03-01-05-01-01-01-16.wav\n"
     ]
    },
    {
     "name": "stderr",
     "output_type": "stream",
     "text": [
      "/Library/Frameworks/Python.framework/Versions/3.12/lib/python3.12/site-packages/whisper/transcribe.py:126: UserWarning: FP16 is not supported on CPU; using FP32 instead\n",
      "  warnings.warn(\"FP16 is not supported on CPU; using FP32 instead\")\n"
     ]
    },
    {
     "name": "stdout",
     "output_type": "stream",
     "text": [
      "🔊 Transcript for extracted_audio/Actor_16/03-01-05-01-01-01-16.wav:  Kids are talking by the door....\n",
      "📝 NLP features for extracted_audio/Actor_16/03-01-05-01-01-01-16.wav: {'num_words': 6, 'num_hesitations': 0, 'hesitation_ratio': 0.0, 'avg_sentence_length': np.float64(6.0)}\n",
      "🎧 Audio features for extracted_audio/Actor_16/03-01-05-01-01-01-16.wav: {'duration_sec': 3.970657596371882, 'pitch_std': np.float64(92.64652387537883), 'tempo_bpm': array([92.28515625])}\n",
      "✅ Combined features for extracted_audio/Actor_16/03-01-05-01-01-01-16.wav: {'num_words': 6, 'num_hesitations': 0, 'hesitation_ratio': 0.0, 'avg_sentence_length': np.float64(6.0), 'duration_sec': 3.970657596371882, 'pitch_std': np.float64(92.64652387537883), 'tempo_bpm': array([92.28515625]), 'file': '03-01-05-01-01-01-16.wav'}\n",
      "📁 Processing file: extracted_audio/Actor_16/03-01-06-01-01-02-16.wav\n"
     ]
    },
    {
     "name": "stderr",
     "output_type": "stream",
     "text": [
      "/Library/Frameworks/Python.framework/Versions/3.12/lib/python3.12/site-packages/whisper/transcribe.py:126: UserWarning: FP16 is not supported on CPU; using FP32 instead\n",
      "  warnings.warn(\"FP16 is not supported on CPU; using FP32 instead\")\n"
     ]
    },
    {
     "name": "stdout",
     "output_type": "stream",
     "text": [
      "🔊 Transcript for extracted_audio/Actor_16/03-01-06-01-01-02-16.wav:  Kids are talking by the door....\n",
      "📝 NLP features for extracted_audio/Actor_16/03-01-06-01-01-02-16.wav: {'num_words': 6, 'num_hesitations': 0, 'hesitation_ratio': 0.0, 'avg_sentence_length': np.float64(6.0)}\n",
      "🎧 Audio features for extracted_audio/Actor_16/03-01-06-01-01-02-16.wav: {'duration_sec': 3.5035374149659866, 'pitch_std': np.float64(93.82622911286396), 'tempo_bpm': array([151.99908088])}\n",
      "✅ Combined features for extracted_audio/Actor_16/03-01-06-01-01-02-16.wav: {'num_words': 6, 'num_hesitations': 0, 'hesitation_ratio': 0.0, 'avg_sentence_length': np.float64(6.0), 'duration_sec': 3.5035374149659866, 'pitch_std': np.float64(93.82622911286396), 'tempo_bpm': array([151.99908088]), 'file': '03-01-06-01-01-02-16.wav'}\n",
      "📁 Processing file: extracted_audio/Actor_16/03-01-08-01-02-01-16.wav\n"
     ]
    },
    {
     "name": "stderr",
     "output_type": "stream",
     "text": [
      "/Library/Frameworks/Python.framework/Versions/3.12/lib/python3.12/site-packages/whisper/transcribe.py:126: UserWarning: FP16 is not supported on CPU; using FP32 instead\n",
      "  warnings.warn(\"FP16 is not supported on CPU; using FP32 instead\")\n"
     ]
    },
    {
     "name": "stdout",
     "output_type": "stream",
     "text": [
      "🔊 Transcript for extracted_audio/Actor_16/03-01-08-01-02-01-16.wav:  Dogs are sitting by the door....\n",
      "📝 NLP features for extracted_audio/Actor_16/03-01-08-01-02-01-16.wav: {'num_words': 6, 'num_hesitations': 0, 'hesitation_ratio': 0.0, 'avg_sentence_length': np.float64(6.0)}\n",
      "🎧 Audio features for extracted_audio/Actor_16/03-01-08-01-02-01-16.wav: {'duration_sec': 3.5035374149659866, 'pitch_std': np.float64(88.88764128153947), 'tempo_bpm': array([107.66601562])}\n",
      "✅ Combined features for extracted_audio/Actor_16/03-01-08-01-02-01-16.wav: {'num_words': 6, 'num_hesitations': 0, 'hesitation_ratio': 0.0, 'avg_sentence_length': np.float64(6.0), 'duration_sec': 3.5035374149659866, 'pitch_std': np.float64(88.88764128153947), 'tempo_bpm': array([107.66601562]), 'file': '03-01-08-01-02-01-16.wav'}\n",
      "📁 Processing file: extracted_audio/Actor_16/03-01-08-02-01-01-16.wav\n"
     ]
    },
    {
     "name": "stderr",
     "output_type": "stream",
     "text": [
      "/Library/Frameworks/Python.framework/Versions/3.12/lib/python3.12/site-packages/whisper/transcribe.py:126: UserWarning: FP16 is not supported on CPU; using FP32 instead\n",
      "  warnings.warn(\"FP16 is not supported on CPU; using FP32 instead\")\n"
     ]
    },
    {
     "name": "stdout",
     "output_type": "stream",
     "text": [
      "🔊 Transcript for extracted_audio/Actor_16/03-01-08-02-01-01-16.wav:  Kids are talking by the door....\n",
      "📝 NLP features for extracted_audio/Actor_16/03-01-08-02-01-01-16.wav: {'num_words': 6, 'num_hesitations': 0, 'hesitation_ratio': 0.0, 'avg_sentence_length': np.float64(6.0)}\n",
      "🎧 Audio features for extracted_audio/Actor_16/03-01-08-02-01-01-16.wav: {'duration_sec': 3.5369160997732427, 'pitch_std': np.float64(89.61576565495994), 'tempo_bpm': array([143.5546875])}\n",
      "✅ Combined features for extracted_audio/Actor_16/03-01-08-02-01-01-16.wav: {'num_words': 6, 'num_hesitations': 0, 'hesitation_ratio': 0.0, 'avg_sentence_length': np.float64(6.0), 'duration_sec': 3.5369160997732427, 'pitch_std': np.float64(89.61576565495994), 'tempo_bpm': array([143.5546875]), 'file': '03-01-08-02-01-01-16.wav'}\n",
      "📁 Processing file: extracted_audio/Actor_16/03-01-01-01-01-02-16.wav\n"
     ]
    },
    {
     "name": "stderr",
     "output_type": "stream",
     "text": [
      "/Library/Frameworks/Python.framework/Versions/3.12/lib/python3.12/site-packages/whisper/transcribe.py:126: UserWarning: FP16 is not supported on CPU; using FP32 instead\n",
      "  warnings.warn(\"FP16 is not supported on CPU; using FP32 instead\")\n"
     ]
    },
    {
     "name": "stdout",
     "output_type": "stream",
     "text": [
      "🔊 Transcript for extracted_audio/Actor_16/03-01-01-01-01-02-16.wav:  Kids are talking by the door....\n",
      "📝 NLP features for extracted_audio/Actor_16/03-01-01-01-01-02-16.wav: {'num_words': 6, 'num_hesitations': 0, 'hesitation_ratio': 0.0, 'avg_sentence_length': np.float64(6.0)}\n",
      "🎧 Audio features for extracted_audio/Actor_16/03-01-01-01-01-02-16.wav: {'duration_sec': 3.737097505668934, 'pitch_std': np.float64(81.73165379916217), 'tempo_bpm': array([117.45383523])}\n",
      "✅ Combined features for extracted_audio/Actor_16/03-01-01-01-01-02-16.wav: {'num_words': 6, 'num_hesitations': 0, 'hesitation_ratio': 0.0, 'avg_sentence_length': np.float64(6.0), 'duration_sec': 3.737097505668934, 'pitch_std': np.float64(81.73165379916217), 'tempo_bpm': array([117.45383523]), 'file': '03-01-01-01-01-02-16.wav'}\n",
      "📁 Processing file: extracted_audio/Actor_16/03-01-02-01-01-01-16.wav\n"
     ]
    },
    {
     "name": "stderr",
     "output_type": "stream",
     "text": [
      "/Library/Frameworks/Python.framework/Versions/3.12/lib/python3.12/site-packages/whisper/transcribe.py:126: UserWarning: FP16 is not supported on CPU; using FP32 instead\n",
      "  warnings.warn(\"FP16 is not supported on CPU; using FP32 instead\")\n"
     ]
    },
    {
     "name": "stdout",
     "output_type": "stream",
     "text": [
      "🔊 Transcript for extracted_audio/Actor_16/03-01-02-01-01-01-16.wav:  Kids are talking by the door....\n",
      "📝 NLP features for extracted_audio/Actor_16/03-01-02-01-01-01-16.wav: {'num_words': 6, 'num_hesitations': 0, 'hesitation_ratio': 0.0, 'avg_sentence_length': np.float64(6.0)}\n",
      "🎧 Audio features for extracted_audio/Actor_16/03-01-02-01-01-01-16.wav: {'duration_sec': 3.703718820861678, 'pitch_std': np.float64(77.4318598062377), 'tempo_bpm': array([129.19921875])}\n",
      "✅ Combined features for extracted_audio/Actor_16/03-01-02-01-01-01-16.wav: {'num_words': 6, 'num_hesitations': 0, 'hesitation_ratio': 0.0, 'avg_sentence_length': np.float64(6.0), 'duration_sec': 3.703718820861678, 'pitch_std': np.float64(77.4318598062377), 'tempo_bpm': array([129.19921875]), 'file': '03-01-02-01-01-01-16.wav'}\n",
      "📁 Processing file: extracted_audio/Actor_16/03-01-02-02-02-01-16.wav\n"
     ]
    },
    {
     "name": "stderr",
     "output_type": "stream",
     "text": [
      "/Library/Frameworks/Python.framework/Versions/3.12/lib/python3.12/site-packages/whisper/transcribe.py:126: UserWarning: FP16 is not supported on CPU; using FP32 instead\n",
      "  warnings.warn(\"FP16 is not supported on CPU; using FP32 instead\")\n"
     ]
    },
    {
     "name": "stdout",
     "output_type": "stream",
     "text": [
      "🔊 Transcript for extracted_audio/Actor_16/03-01-02-02-02-01-16.wav:  Dogs are sitting by the door....\n",
      "📝 NLP features for extracted_audio/Actor_16/03-01-02-02-02-01-16.wav: {'num_words': 6, 'num_hesitations': 0, 'hesitation_ratio': 0.0, 'avg_sentence_length': np.float64(6.0)}\n",
      "🎧 Audio features for extracted_audio/Actor_16/03-01-02-02-02-01-16.wav: {'duration_sec': 3.803854875283447, 'pitch_std': np.float64(77.69245555979536), 'tempo_bpm': array([172.265625])}\n",
      "✅ Combined features for extracted_audio/Actor_16/03-01-02-02-02-01-16.wav: {'num_words': 6, 'num_hesitations': 0, 'hesitation_ratio': 0.0, 'avg_sentence_length': np.float64(6.0), 'duration_sec': 3.803854875283447, 'pitch_std': np.float64(77.69245555979536), 'tempo_bpm': array([172.265625]), 'file': '03-01-02-02-02-01-16.wav'}\n",
      "📁 Processing file: extracted_audio/Actor_16/03-01-03-01-02-02-16.wav\n"
     ]
    },
    {
     "name": "stderr",
     "output_type": "stream",
     "text": [
      "/Library/Frameworks/Python.framework/Versions/3.12/lib/python3.12/site-packages/whisper/transcribe.py:126: UserWarning: FP16 is not supported on CPU; using FP32 instead\n",
      "  warnings.warn(\"FP16 is not supported on CPU; using FP32 instead\")\n"
     ]
    },
    {
     "name": "stdout",
     "output_type": "stream",
     "text": [
      "🔊 Transcript for extracted_audio/Actor_16/03-01-03-01-02-02-16.wav:  Dogs are sitting by the door....\n",
      "📝 NLP features for extracted_audio/Actor_16/03-01-03-01-02-02-16.wav: {'num_words': 6, 'num_hesitations': 0, 'hesitation_ratio': 0.0, 'avg_sentence_length': np.float64(6.0)}\n",
      "🎧 Audio features for extracted_audio/Actor_16/03-01-03-01-02-02-16.wav: {'duration_sec': 3.670340136054422, 'pitch_std': np.float64(75.89898551984923), 'tempo_bpm': array([95.703125])}\n",
      "✅ Combined features for extracted_audio/Actor_16/03-01-03-01-02-02-16.wav: {'num_words': 6, 'num_hesitations': 0, 'hesitation_ratio': 0.0, 'avg_sentence_length': np.float64(6.0), 'duration_sec': 3.670340136054422, 'pitch_std': np.float64(75.89898551984923), 'tempo_bpm': array([95.703125]), 'file': '03-01-03-01-02-02-16.wav'}\n",
      "📁 Processing file: extracted_audio/Actor_16/03-01-03-02-01-02-16.wav\n"
     ]
    },
    {
     "name": "stderr",
     "output_type": "stream",
     "text": [
      "/Library/Frameworks/Python.framework/Versions/3.12/lib/python3.12/site-packages/whisper/transcribe.py:126: UserWarning: FP16 is not supported on CPU; using FP32 instead\n",
      "  warnings.warn(\"FP16 is not supported on CPU; using FP32 instead\")\n"
     ]
    },
    {
     "name": "stdout",
     "output_type": "stream",
     "text": [
      "🔊 Transcript for extracted_audio/Actor_16/03-01-03-02-01-02-16.wav:  Kids are talking by the door....\n",
      "📝 NLP features for extracted_audio/Actor_16/03-01-03-02-01-02-16.wav: {'num_words': 6, 'num_hesitations': 0, 'hesitation_ratio': 0.0, 'avg_sentence_length': np.float64(6.0)}\n",
      "🎧 Audio features for extracted_audio/Actor_16/03-01-03-02-01-02-16.wav: {'duration_sec': 3.570249433106576, 'pitch_std': np.float64(84.24000646156802), 'tempo_bpm': array([198.76802885])}\n",
      "✅ Combined features for extracted_audio/Actor_16/03-01-03-02-01-02-16.wav: {'num_words': 6, 'num_hesitations': 0, 'hesitation_ratio': 0.0, 'avg_sentence_length': np.float64(6.0), 'duration_sec': 3.570249433106576, 'pitch_std': np.float64(84.24000646156802), 'tempo_bpm': array([198.76802885]), 'file': '03-01-03-02-01-02-16.wav'}\n",
      "📁 Processing file: extracted_audio/Actor_11/03-01-01-01-02-02-11.wav\n"
     ]
    },
    {
     "name": "stderr",
     "output_type": "stream",
     "text": [
      "/Library/Frameworks/Python.framework/Versions/3.12/lib/python3.12/site-packages/whisper/transcribe.py:126: UserWarning: FP16 is not supported on CPU; using FP32 instead\n",
      "  warnings.warn(\"FP16 is not supported on CPU; using FP32 instead\")\n"
     ]
    },
    {
     "name": "stdout",
     "output_type": "stream",
     "text": [
      "🔊 Transcript for extracted_audio/Actor_11/03-01-01-01-02-02-11.wav:  Dogs are sitting by the door....\n",
      "📝 NLP features for extracted_audio/Actor_11/03-01-01-01-02-02-11.wav: {'num_words': 6, 'num_hesitations': 0, 'hesitation_ratio': 0.0, 'avg_sentence_length': np.float64(6.0)}\n",
      "🎧 Audio features for extracted_audio/Actor_11/03-01-01-01-02-02-11.wav: {'duration_sec': 3.1698412698412697, 'pitch_std': np.float64(60.70662122082252), 'tempo_bpm': array([83.35433468])}\n",
      "✅ Combined features for extracted_audio/Actor_11/03-01-01-01-02-02-11.wav: {'num_words': 6, 'num_hesitations': 0, 'hesitation_ratio': 0.0, 'avg_sentence_length': np.float64(6.0), 'duration_sec': 3.1698412698412697, 'pitch_std': np.float64(60.70662122082252), 'tempo_bpm': array([83.35433468]), 'file': '03-01-01-01-02-02-11.wav'}\n",
      "📁 Processing file: extracted_audio/Actor_11/03-01-02-01-02-01-11.wav\n"
     ]
    },
    {
     "name": "stderr",
     "output_type": "stream",
     "text": [
      "/Library/Frameworks/Python.framework/Versions/3.12/lib/python3.12/site-packages/whisper/transcribe.py:126: UserWarning: FP16 is not supported on CPU; using FP32 instead\n",
      "  warnings.warn(\"FP16 is not supported on CPU; using FP32 instead\")\n"
     ]
    },
    {
     "name": "stdout",
     "output_type": "stream",
     "text": [
      "🔊 Transcript for extracted_audio/Actor_11/03-01-02-01-02-01-11.wav:  Dogs are sitting by the door....\n",
      "📝 NLP features for extracted_audio/Actor_11/03-01-02-01-02-01-11.wav: {'num_words': 6, 'num_hesitations': 0, 'hesitation_ratio': 0.0, 'avg_sentence_length': np.float64(6.0)}\n",
      "🎧 Audio features for extracted_audio/Actor_11/03-01-02-01-02-01-11.wav: {'duration_sec': 3.336689342403628, 'pitch_std': np.float64(74.46928423621767), 'tempo_bpm': array([71.77734375])}\n",
      "✅ Combined features for extracted_audio/Actor_11/03-01-02-01-02-01-11.wav: {'num_words': 6, 'num_hesitations': 0, 'hesitation_ratio': 0.0, 'avg_sentence_length': np.float64(6.0), 'duration_sec': 3.336689342403628, 'pitch_std': np.float64(74.46928423621767), 'tempo_bpm': array([71.77734375]), 'file': '03-01-02-01-02-01-11.wav'}\n",
      "📁 Processing file: extracted_audio/Actor_11/03-01-02-02-01-01-11.wav\n"
     ]
    },
    {
     "name": "stderr",
     "output_type": "stream",
     "text": [
      "/Library/Frameworks/Python.framework/Versions/3.12/lib/python3.12/site-packages/whisper/transcribe.py:126: UserWarning: FP16 is not supported on CPU; using FP32 instead\n",
      "  warnings.warn(\"FP16 is not supported on CPU; using FP32 instead\")\n"
     ]
    },
    {
     "name": "stdout",
     "output_type": "stream",
     "text": [
      "🔊 Transcript for extracted_audio/Actor_11/03-01-02-02-01-01-11.wav:  Kids are talking by the door....\n",
      "📝 NLP features for extracted_audio/Actor_11/03-01-02-02-01-01-11.wav: {'num_words': 6, 'num_hesitations': 0, 'hesitation_ratio': 0.0, 'avg_sentence_length': np.float64(6.0)}\n",
      "🎧 Audio features for extracted_audio/Actor_11/03-01-02-02-01-01-11.wav: {'duration_sec': 3.83718820861678, 'pitch_std': np.float64(65.38857912834906), 'tempo_bpm': array([99.38401442])}\n",
      "✅ Combined features for extracted_audio/Actor_11/03-01-02-02-01-01-11.wav: {'num_words': 6, 'num_hesitations': 0, 'hesitation_ratio': 0.0, 'avg_sentence_length': np.float64(6.0), 'duration_sec': 3.83718820861678, 'pitch_std': np.float64(65.38857912834906), 'tempo_bpm': array([99.38401442]), 'file': '03-01-02-02-01-01-11.wav'}\n",
      "📁 Processing file: extracted_audio/Actor_11/03-01-03-01-01-02-11.wav\n"
     ]
    },
    {
     "name": "stderr",
     "output_type": "stream",
     "text": [
      "/Library/Frameworks/Python.framework/Versions/3.12/lib/python3.12/site-packages/whisper/transcribe.py:126: UserWarning: FP16 is not supported on CPU; using FP32 instead\n",
      "  warnings.warn(\"FP16 is not supported on CPU; using FP32 instead\")\n"
     ]
    },
    {
     "name": "stdout",
     "output_type": "stream",
     "text": [
      "🔊 Transcript for extracted_audio/Actor_11/03-01-03-01-01-02-11.wav:  Kids are talking by the door....\n",
      "📝 NLP features for extracted_audio/Actor_11/03-01-03-01-01-02-11.wav: {'num_words': 6, 'num_hesitations': 0, 'hesitation_ratio': 0.0, 'avg_sentence_length': np.float64(6.0)}\n",
      "🎧 Audio features for extracted_audio/Actor_11/03-01-03-01-01-02-11.wav: {'duration_sec': 3.2032199546485263, 'pitch_std': np.float64(51.56705733730655), 'tempo_bpm': array([161.49902344])}\n",
      "✅ Combined features for extracted_audio/Actor_11/03-01-03-01-01-02-11.wav: {'num_words': 6, 'num_hesitations': 0, 'hesitation_ratio': 0.0, 'avg_sentence_length': np.float64(6.0), 'duration_sec': 3.2032199546485263, 'pitch_std': np.float64(51.56705733730655), 'tempo_bpm': array([161.49902344]), 'file': '03-01-03-01-01-02-11.wav'}\n",
      "📁 Processing file: extracted_audio/Actor_11/03-01-03-02-02-02-11.wav\n"
     ]
    },
    {
     "name": "stderr",
     "output_type": "stream",
     "text": [
      "/Library/Frameworks/Python.framework/Versions/3.12/lib/python3.12/site-packages/whisper/transcribe.py:126: UserWarning: FP16 is not supported on CPU; using FP32 instead\n",
      "  warnings.warn(\"FP16 is not supported on CPU; using FP32 instead\")\n"
     ]
    },
    {
     "name": "stdout",
     "output_type": "stream",
     "text": [
      "🔊 Transcript for extracted_audio/Actor_11/03-01-03-02-02-02-11.wav:  Dogs are sitting by the door....\n",
      "📝 NLP features for extracted_audio/Actor_11/03-01-03-02-02-02-11.wav: {'num_words': 6, 'num_hesitations': 0, 'hesitation_ratio': 0.0, 'avg_sentence_length': np.float64(6.0)}\n",
      "🎧 Audio features for extracted_audio/Actor_11/03-01-03-02-02-02-11.wav: {'duration_sec': 3.5035374149659866, 'pitch_std': np.float64(65.78267134315419), 'tempo_bpm': array([51.6796875])}\n",
      "✅ Combined features for extracted_audio/Actor_11/03-01-03-02-02-02-11.wav: {'num_words': 6, 'num_hesitations': 0, 'hesitation_ratio': 0.0, 'avg_sentence_length': np.float64(6.0), 'duration_sec': 3.5035374149659866, 'pitch_std': np.float64(65.78267134315419), 'tempo_bpm': array([51.6796875]), 'file': '03-01-03-02-02-02-11.wav'}\n",
      "📁 Processing file: extracted_audio/Actor_11/03-01-04-02-02-02-11.wav\n"
     ]
    },
    {
     "name": "stderr",
     "output_type": "stream",
     "text": [
      "/Library/Frameworks/Python.framework/Versions/3.12/lib/python3.12/site-packages/whisper/transcribe.py:126: UserWarning: FP16 is not supported on CPU; using FP32 instead\n",
      "  warnings.warn(\"FP16 is not supported on CPU; using FP32 instead\")\n"
     ]
    },
    {
     "name": "stdout",
     "output_type": "stream",
     "text": [
      "🔊 Transcript for extracted_audio/Actor_11/03-01-04-02-02-02-11.wav:  Dogs are sitting by the door....\n",
      "📝 NLP features for extracted_audio/Actor_11/03-01-04-02-02-02-11.wav: {'num_words': 6, 'num_hesitations': 0, 'hesitation_ratio': 0.0, 'avg_sentence_length': np.float64(6.0)}\n",
      "🎧 Audio features for extracted_audio/Actor_11/03-01-04-02-02-02-11.wav: {'duration_sec': 3.336689342403628, 'pitch_std': np.float64(86.01234371848157), 'tempo_bpm': array([86.1328125])}\n",
      "✅ Combined features for extracted_audio/Actor_11/03-01-04-02-02-02-11.wav: {'num_words': 6, 'num_hesitations': 0, 'hesitation_ratio': 0.0, 'avg_sentence_length': np.float64(6.0), 'duration_sec': 3.336689342403628, 'pitch_std': np.float64(86.01234371848157), 'tempo_bpm': array([86.1328125]), 'file': '03-01-04-02-02-02-11.wav'}\n",
      "📁 Processing file: extracted_audio/Actor_11/03-01-07-02-02-01-11.wav\n"
     ]
    },
    {
     "name": "stderr",
     "output_type": "stream",
     "text": [
      "/Library/Frameworks/Python.framework/Versions/3.12/lib/python3.12/site-packages/whisper/transcribe.py:126: UserWarning: FP16 is not supported on CPU; using FP32 instead\n",
      "  warnings.warn(\"FP16 is not supported on CPU; using FP32 instead\")\n"
     ]
    },
    {
     "name": "stdout",
     "output_type": "stream",
     "text": [
      "🔊 Transcript for extracted_audio/Actor_11/03-01-07-02-02-01-11.wav:  Dogs are sitting by the door....\n",
      "📝 NLP features for extracted_audio/Actor_11/03-01-07-02-02-01-11.wav: {'num_words': 6, 'num_hesitations': 0, 'hesitation_ratio': 0.0, 'avg_sentence_length': np.float64(6.0)}\n",
      "🎧 Audio features for extracted_audio/Actor_11/03-01-07-02-02-01-11.wav: {'duration_sec': 3.737097505668934, 'pitch_std': np.float64(58.09559076922349), 'tempo_bpm': array([129.19921875])}\n",
      "✅ Combined features for extracted_audio/Actor_11/03-01-07-02-02-01-11.wav: {'num_words': 6, 'num_hesitations': 0, 'hesitation_ratio': 0.0, 'avg_sentence_length': np.float64(6.0), 'duration_sec': 3.737097505668934, 'pitch_std': np.float64(58.09559076922349), 'tempo_bpm': array([129.19921875]), 'file': '03-01-07-02-02-01-11.wav'}\n",
      "📁 Processing file: extracted_audio/Actor_11/03-01-07-01-01-01-11.wav\n"
     ]
    },
    {
     "name": "stderr",
     "output_type": "stream",
     "text": [
      "/Library/Frameworks/Python.framework/Versions/3.12/lib/python3.12/site-packages/whisper/transcribe.py:126: UserWarning: FP16 is not supported on CPU; using FP32 instead\n",
      "  warnings.warn(\"FP16 is not supported on CPU; using FP32 instead\")\n"
     ]
    },
    {
     "name": "stdout",
     "output_type": "stream",
     "text": [
      "🔊 Transcript for extracted_audio/Actor_11/03-01-07-01-01-01-11.wav:  Kids are talking by the door....\n",
      "📝 NLP features for extracted_audio/Actor_11/03-01-07-01-01-01-11.wav: {'num_words': 6, 'num_hesitations': 0, 'hesitation_ratio': 0.0, 'avg_sentence_length': np.float64(6.0)}\n",
      "🎧 Audio features for extracted_audio/Actor_11/03-01-07-01-01-01-11.wav: {'duration_sec': 3.670340136054422, 'pitch_std': np.float64(58.66589909871317), 'tempo_bpm': array([99.38401442])}\n",
      "✅ Combined features for extracted_audio/Actor_11/03-01-07-01-01-01-11.wav: {'num_words': 6, 'num_hesitations': 0, 'hesitation_ratio': 0.0, 'avg_sentence_length': np.float64(6.0), 'duration_sec': 3.670340136054422, 'pitch_std': np.float64(58.66589909871317), 'tempo_bpm': array([99.38401442]), 'file': '03-01-07-01-01-01-11.wav'}\n",
      "📁 Processing file: extracted_audio/Actor_11/03-01-04-01-01-02-11.wav\n"
     ]
    },
    {
     "name": "stderr",
     "output_type": "stream",
     "text": [
      "/Library/Frameworks/Python.framework/Versions/3.12/lib/python3.12/site-packages/whisper/transcribe.py:126: UserWarning: FP16 is not supported on CPU; using FP32 instead\n",
      "  warnings.warn(\"FP16 is not supported on CPU; using FP32 instead\")\n"
     ]
    },
    {
     "name": "stdout",
     "output_type": "stream",
     "text": [
      "🔊 Transcript for extracted_audio/Actor_11/03-01-04-01-01-02-11.wav:  Kids are talking by the door....\n",
      "📝 NLP features for extracted_audio/Actor_11/03-01-04-01-01-02-11.wav: {'num_words': 6, 'num_hesitations': 0, 'hesitation_ratio': 0.0, 'avg_sentence_length': np.float64(6.0)}\n",
      "🎧 Audio features for extracted_audio/Actor_11/03-01-04-01-01-02-11.wav: {'duration_sec': 3.603628117913832, 'pitch_std': np.float64(50.10496216824421), 'tempo_bpm': array([107.66601562])}\n",
      "✅ Combined features for extracted_audio/Actor_11/03-01-04-01-01-02-11.wav: {'num_words': 6, 'num_hesitations': 0, 'hesitation_ratio': 0.0, 'avg_sentence_length': np.float64(6.0), 'duration_sec': 3.603628117913832, 'pitch_std': np.float64(50.10496216824421), 'tempo_bpm': array([107.66601562]), 'file': '03-01-04-01-01-02-11.wav'}\n",
      "📁 Processing file: extracted_audio/Actor_11/03-01-06-02-01-02-11.wav\n"
     ]
    },
    {
     "name": "stderr",
     "output_type": "stream",
     "text": [
      "/Library/Frameworks/Python.framework/Versions/3.12/lib/python3.12/site-packages/whisper/transcribe.py:126: UserWarning: FP16 is not supported on CPU; using FP32 instead\n",
      "  warnings.warn(\"FP16 is not supported on CPU; using FP32 instead\")\n"
     ]
    },
    {
     "name": "stdout",
     "output_type": "stream",
     "text": [
      "🔊 Transcript for extracted_audio/Actor_11/03-01-06-02-01-02-11.wav:  Kids are talking by the door....\n",
      "📝 NLP features for extracted_audio/Actor_11/03-01-06-02-01-02-11.wav: {'num_words': 6, 'num_hesitations': 0, 'hesitation_ratio': 0.0, 'avg_sentence_length': np.float64(6.0)}\n",
      "🎧 Audio features for extracted_audio/Actor_11/03-01-06-02-01-02-11.wav: {'duration_sec': 3.2032199546485263, 'pitch_std': np.float64(92.04157693103946), 'tempo_bpm': array([172.265625])}\n",
      "✅ Combined features for extracted_audio/Actor_11/03-01-06-02-01-02-11.wav: {'num_words': 6, 'num_hesitations': 0, 'hesitation_ratio': 0.0, 'avg_sentence_length': np.float64(6.0), 'duration_sec': 3.2032199546485263, 'pitch_std': np.float64(92.04157693103946), 'tempo_bpm': array([172.265625]), 'file': '03-01-06-02-01-02-11.wav'}\n",
      "📁 Processing file: extracted_audio/Actor_11/03-01-05-02-01-01-11.wav\n"
     ]
    },
    {
     "name": "stderr",
     "output_type": "stream",
     "text": [
      "/Library/Frameworks/Python.framework/Versions/3.12/lib/python3.12/site-packages/whisper/transcribe.py:126: UserWarning: FP16 is not supported on CPU; using FP32 instead\n",
      "  warnings.warn(\"FP16 is not supported on CPU; using FP32 instead\")\n"
     ]
    },
    {
     "name": "stdout",
     "output_type": "stream",
     "text": [
      "🔊 Transcript for extracted_audio/Actor_11/03-01-05-02-01-01-11.wav:  Kids are talking by the door....\n",
      "📝 NLP features for extracted_audio/Actor_11/03-01-05-02-01-01-11.wav: {'num_words': 6, 'num_hesitations': 0, 'hesitation_ratio': 0.0, 'avg_sentence_length': np.float64(6.0)}\n",
      "🎧 Audio features for extracted_audio/Actor_11/03-01-05-02-01-01-11.wav: {'duration_sec': 3.5369160997732427, 'pitch_std': np.float64(90.19316183113189), 'tempo_bpm': array([112.34714674])}\n",
      "✅ Combined features for extracted_audio/Actor_11/03-01-05-02-01-01-11.wav: {'num_words': 6, 'num_hesitations': 0, 'hesitation_ratio': 0.0, 'avg_sentence_length': np.float64(6.0), 'duration_sec': 3.5369160997732427, 'pitch_std': np.float64(90.19316183113189), 'tempo_bpm': array([112.34714674]), 'file': '03-01-05-02-01-01-11.wav'}\n",
      "📁 Processing file: extracted_audio/Actor_11/03-01-05-01-02-01-11.wav\n"
     ]
    },
    {
     "name": "stderr",
     "output_type": "stream",
     "text": [
      "/Library/Frameworks/Python.framework/Versions/3.12/lib/python3.12/site-packages/whisper/transcribe.py:126: UserWarning: FP16 is not supported on CPU; using FP32 instead\n",
      "  warnings.warn(\"FP16 is not supported on CPU; using FP32 instead\")\n"
     ]
    },
    {
     "name": "stdout",
     "output_type": "stream",
     "text": [
      "🔊 Transcript for extracted_audio/Actor_11/03-01-05-01-02-01-11.wav:  Dogs are sitting by the door....\n",
      "📝 NLP features for extracted_audio/Actor_11/03-01-05-01-02-01-11.wav: {'num_words': 6, 'num_hesitations': 0, 'hesitation_ratio': 0.0, 'avg_sentence_length': np.float64(6.0)}\n",
      "🎧 Audio features for extracted_audio/Actor_11/03-01-05-01-02-01-11.wav: {'duration_sec': 3.47015873015873, 'pitch_std': np.float64(67.70134029424675), 'tempo_bpm': array([66.25600962])}\n",
      "✅ Combined features for extracted_audio/Actor_11/03-01-05-01-02-01-11.wav: {'num_words': 6, 'num_hesitations': 0, 'hesitation_ratio': 0.0, 'avg_sentence_length': np.float64(6.0), 'duration_sec': 3.47015873015873, 'pitch_std': np.float64(67.70134029424675), 'tempo_bpm': array([66.25600962]), 'file': '03-01-05-01-02-01-11.wav'}\n",
      "📁 Processing file: extracted_audio/Actor_11/03-01-06-01-02-02-11.wav\n"
     ]
    },
    {
     "name": "stderr",
     "output_type": "stream",
     "text": [
      "/Library/Frameworks/Python.framework/Versions/3.12/lib/python3.12/site-packages/whisper/transcribe.py:126: UserWarning: FP16 is not supported on CPU; using FP32 instead\n",
      "  warnings.warn(\"FP16 is not supported on CPU; using FP32 instead\")\n"
     ]
    },
    {
     "name": "stdout",
     "output_type": "stream",
     "text": [
      "🔊 Transcript for extracted_audio/Actor_11/03-01-06-01-02-02-11.wav:  Dogs are sitting by the door....\n",
      "📝 NLP features for extracted_audio/Actor_11/03-01-06-01-02-02-11.wav: {'num_words': 6, 'num_hesitations': 0, 'hesitation_ratio': 0.0, 'avg_sentence_length': np.float64(6.0)}\n",
      "🎧 Audio features for extracted_audio/Actor_11/03-01-06-01-02-02-11.wav: {'duration_sec': 3.2032199546485263, 'pitch_std': np.float64(55.030509976950015), 'tempo_bpm': array([123.046875])}\n",
      "✅ Combined features for extracted_audio/Actor_11/03-01-06-01-02-02-11.wav: {'num_words': 6, 'num_hesitations': 0, 'hesitation_ratio': 0.0, 'avg_sentence_length': np.float64(6.0), 'duration_sec': 3.2032199546485263, 'pitch_std': np.float64(55.030509976950015), 'tempo_bpm': array([123.046875]), 'file': '03-01-06-01-02-02-11.wav'}\n",
      "📁 Processing file: extracted_audio/Actor_11/03-01-08-01-01-01-11.wav\n"
     ]
    },
    {
     "name": "stderr",
     "output_type": "stream",
     "text": [
      "/Library/Frameworks/Python.framework/Versions/3.12/lib/python3.12/site-packages/whisper/transcribe.py:126: UserWarning: FP16 is not supported on CPU; using FP32 instead\n",
      "  warnings.warn(\"FP16 is not supported on CPU; using FP32 instead\")\n"
     ]
    },
    {
     "name": "stdout",
     "output_type": "stream",
     "text": [
      "🔊 Transcript for extracted_audio/Actor_11/03-01-08-01-01-01-11.wav:  Kids are talking by the door....\n",
      "📝 NLP features for extracted_audio/Actor_11/03-01-08-01-01-01-11.wav: {'num_words': 6, 'num_hesitations': 0, 'hesitation_ratio': 0.0, 'avg_sentence_length': np.float64(6.0)}\n",
      "🎧 Audio features for extracted_audio/Actor_11/03-01-08-01-01-01-11.wav: {'duration_sec': 3.069750566893424, 'pitch_std': np.float64(99.19751198708371), 'tempo_bpm': array([198.76802885])}\n",
      "✅ Combined features for extracted_audio/Actor_11/03-01-08-01-01-01-11.wav: {'num_words': 6, 'num_hesitations': 0, 'hesitation_ratio': 0.0, 'avg_sentence_length': np.float64(6.0), 'duration_sec': 3.069750566893424, 'pitch_std': np.float64(99.19751198708371), 'tempo_bpm': array([198.76802885]), 'file': '03-01-08-01-01-01-11.wav'}\n",
      "📁 Processing file: extracted_audio/Actor_11/03-01-08-02-02-01-11.wav\n"
     ]
    },
    {
     "name": "stderr",
     "output_type": "stream",
     "text": [
      "/Library/Frameworks/Python.framework/Versions/3.12/lib/python3.12/site-packages/whisper/transcribe.py:126: UserWarning: FP16 is not supported on CPU; using FP32 instead\n",
      "  warnings.warn(\"FP16 is not supported on CPU; using FP32 instead\")\n"
     ]
    },
    {
     "name": "stdout",
     "output_type": "stream",
     "text": [
      "🔊 Transcript for extracted_audio/Actor_11/03-01-08-02-02-01-11.wav:  Dogs are sitting by the door....\n",
      "📝 NLP features for extracted_audio/Actor_11/03-01-08-02-02-01-11.wav: {'num_words': 6, 'num_hesitations': 0, 'hesitation_ratio': 0.0, 'avg_sentence_length': np.float64(6.0)}\n",
      "🎧 Audio features for extracted_audio/Actor_11/03-01-08-02-02-01-11.wav: {'duration_sec': 3.069750566893424, 'pitch_std': np.float64(78.82190884990938), 'tempo_bpm': array([161.49902344])}\n",
      "✅ Combined features for extracted_audio/Actor_11/03-01-08-02-02-01-11.wav: {'num_words': 6, 'num_hesitations': 0, 'hesitation_ratio': 0.0, 'avg_sentence_length': np.float64(6.0), 'duration_sec': 3.069750566893424, 'pitch_std': np.float64(78.82190884990938), 'tempo_bpm': array([161.49902344]), 'file': '03-01-08-02-02-01-11.wav'}\n",
      "📁 Processing file: extracted_audio/Actor_11/03-01-07-02-01-02-11.wav\n"
     ]
    },
    {
     "name": "stderr",
     "output_type": "stream",
     "text": [
      "/Library/Frameworks/Python.framework/Versions/3.12/lib/python3.12/site-packages/whisper/transcribe.py:126: UserWarning: FP16 is not supported on CPU; using FP32 instead\n",
      "  warnings.warn(\"FP16 is not supported on CPU; using FP32 instead\")\n"
     ]
    },
    {
     "name": "stdout",
     "output_type": "stream",
     "text": [
      "🔊 Transcript for extracted_audio/Actor_11/03-01-07-02-01-02-11.wav:  Kids are talking by the door....\n",
      "📝 NLP features for extracted_audio/Actor_11/03-01-07-02-01-02-11.wav: {'num_words': 6, 'num_hesitations': 0, 'hesitation_ratio': 0.0, 'avg_sentence_length': np.float64(6.0)}\n",
      "🎧 Audio features for extracted_audio/Actor_11/03-01-07-02-01-02-11.wav: {'duration_sec': 3.803854875283447, 'pitch_std': np.float64(69.09147545099343), 'tempo_bpm': array([135.99917763])}\n",
      "✅ Combined features for extracted_audio/Actor_11/03-01-07-02-01-02-11.wav: {'num_words': 6, 'num_hesitations': 0, 'hesitation_ratio': 0.0, 'avg_sentence_length': np.float64(6.0), 'duration_sec': 3.803854875283447, 'pitch_std': np.float64(69.09147545099343), 'tempo_bpm': array([135.99917763]), 'file': '03-01-07-02-01-02-11.wav'}\n",
      "📁 Processing file: extracted_audio/Actor_11/03-01-04-02-01-01-11.wav\n"
     ]
    },
    {
     "name": "stderr",
     "output_type": "stream",
     "text": [
      "/Library/Frameworks/Python.framework/Versions/3.12/lib/python3.12/site-packages/whisper/transcribe.py:126: UserWarning: FP16 is not supported on CPU; using FP32 instead\n",
      "  warnings.warn(\"FP16 is not supported on CPU; using FP32 instead\")\n"
     ]
    },
    {
     "name": "stdout",
     "output_type": "stream",
     "text": [
      "🔊 Transcript for extracted_audio/Actor_11/03-01-04-02-01-01-11.wav:  Kids are talking by the door....\n",
      "📝 NLP features for extracted_audio/Actor_11/03-01-04-02-01-01-11.wav: {'num_words': 6, 'num_hesitations': 0, 'hesitation_ratio': 0.0, 'avg_sentence_length': np.float64(6.0)}\n",
      "🎧 Audio features for extracted_audio/Actor_11/03-01-04-02-01-01-11.wav: {'duration_sec': 3.336689342403628, 'pitch_std': np.float64(74.65571082232485), 'tempo_bpm': array([143.5546875])}\n",
      "✅ Combined features for extracted_audio/Actor_11/03-01-04-02-01-01-11.wav: {'num_words': 6, 'num_hesitations': 0, 'hesitation_ratio': 0.0, 'avg_sentence_length': np.float64(6.0), 'duration_sec': 3.336689342403628, 'pitch_std': np.float64(74.65571082232485), 'tempo_bpm': array([143.5546875]), 'file': '03-01-04-02-01-01-11.wav'}\n",
      "📁 Processing file: extracted_audio/Actor_11/03-01-04-01-02-01-11.wav\n"
     ]
    },
    {
     "name": "stderr",
     "output_type": "stream",
     "text": [
      "/Library/Frameworks/Python.framework/Versions/3.12/lib/python3.12/site-packages/whisper/transcribe.py:126: UserWarning: FP16 is not supported on CPU; using FP32 instead\n",
      "  warnings.warn(\"FP16 is not supported on CPU; using FP32 instead\")\n"
     ]
    },
    {
     "name": "stdout",
     "output_type": "stream",
     "text": [
      "🔊 Transcript for extracted_audio/Actor_11/03-01-04-01-02-01-11.wav:  Dogs are sitting by the door....\n",
      "📝 NLP features for extracted_audio/Actor_11/03-01-04-01-02-01-11.wav: {'num_words': 6, 'num_hesitations': 0, 'hesitation_ratio': 0.0, 'avg_sentence_length': np.float64(6.0)}\n",
      "🎧 Audio features for extracted_audio/Actor_11/03-01-04-01-02-01-11.wav: {'duration_sec': 3.53687074829932, 'pitch_std': np.float64(63.95558624238936), 'tempo_bpm': array([161.49902344])}\n",
      "✅ Combined features for extracted_audio/Actor_11/03-01-04-01-02-01-11.wav: {'num_words': 6, 'num_hesitations': 0, 'hesitation_ratio': 0.0, 'avg_sentence_length': np.float64(6.0), 'duration_sec': 3.53687074829932, 'pitch_std': np.float64(63.95558624238936), 'tempo_bpm': array([161.49902344]), 'file': '03-01-04-01-02-01-11.wav'}\n",
      "📁 Processing file: extracted_audio/Actor_11/03-01-07-01-02-02-11.wav\n"
     ]
    },
    {
     "name": "stderr",
     "output_type": "stream",
     "text": [
      "/Library/Frameworks/Python.framework/Versions/3.12/lib/python3.12/site-packages/whisper/transcribe.py:126: UserWarning: FP16 is not supported on CPU; using FP32 instead\n",
      "  warnings.warn(\"FP16 is not supported on CPU; using FP32 instead\")\n"
     ]
    },
    {
     "name": "stdout",
     "output_type": "stream",
     "text": [
      "🔊 Transcript for extracted_audio/Actor_11/03-01-07-01-02-02-11.wav:  Dogs are sitting by the door....\n",
      "📝 NLP features for extracted_audio/Actor_11/03-01-07-01-02-02-11.wav: {'num_words': 6, 'num_hesitations': 0, 'hesitation_ratio': 0.0, 'avg_sentence_length': np.float64(6.0)}\n",
      "🎧 Audio features for extracted_audio/Actor_11/03-01-07-01-02-02-11.wav: {'duration_sec': 3.670340136054422, 'pitch_std': np.float64(64.41205879481265), 'tempo_bpm': array([123.046875])}\n",
      "✅ Combined features for extracted_audio/Actor_11/03-01-07-01-02-02-11.wav: {'num_words': 6, 'num_hesitations': 0, 'hesitation_ratio': 0.0, 'avg_sentence_length': np.float64(6.0), 'duration_sec': 3.670340136054422, 'pitch_std': np.float64(64.41205879481265), 'tempo_bpm': array([123.046875]), 'file': '03-01-07-01-02-02-11.wav'}\n",
      "📁 Processing file: extracted_audio/Actor_11/03-01-05-02-02-02-11.wav\n"
     ]
    },
    {
     "name": "stderr",
     "output_type": "stream",
     "text": [
      "/Library/Frameworks/Python.framework/Versions/3.12/lib/python3.12/site-packages/whisper/transcribe.py:126: UserWarning: FP16 is not supported on CPU; using FP32 instead\n",
      "  warnings.warn(\"FP16 is not supported on CPU; using FP32 instead\")\n"
     ]
    },
    {
     "name": "stdout",
     "output_type": "stream",
     "text": [
      "🔊 Transcript for extracted_audio/Actor_11/03-01-05-02-02-02-11.wav:  Dogs are sitting by the door!...\n",
      "📝 NLP features for extracted_audio/Actor_11/03-01-05-02-02-02-11.wav: {'num_words': 6, 'num_hesitations': 0, 'hesitation_ratio': 0.0, 'avg_sentence_length': np.float64(6.0)}\n",
      "🎧 Audio features for extracted_audio/Actor_11/03-01-05-02-02-02-11.wav: {'duration_sec': 3.7704761904761903, 'pitch_std': np.float64(76.79948691080048), 'tempo_bpm': array([86.1328125])}\n",
      "✅ Combined features for extracted_audio/Actor_11/03-01-05-02-02-02-11.wav: {'num_words': 6, 'num_hesitations': 0, 'hesitation_ratio': 0.0, 'avg_sentence_length': np.float64(6.0), 'duration_sec': 3.7704761904761903, 'pitch_std': np.float64(76.79948691080048), 'tempo_bpm': array([86.1328125]), 'file': '03-01-05-02-02-02-11.wav'}\n",
      "📁 Processing file: extracted_audio/Actor_11/03-01-06-02-02-01-11.wav\n"
     ]
    },
    {
     "name": "stderr",
     "output_type": "stream",
     "text": [
      "/Library/Frameworks/Python.framework/Versions/3.12/lib/python3.12/site-packages/whisper/transcribe.py:126: UserWarning: FP16 is not supported on CPU; using FP32 instead\n",
      "  warnings.warn(\"FP16 is not supported on CPU; using FP32 instead\")\n"
     ]
    },
    {
     "name": "stdout",
     "output_type": "stream",
     "text": [
      "🔊 Transcript for extracted_audio/Actor_11/03-01-06-02-02-01-11.wav:  Dogs are sitting by the door....\n",
      "📝 NLP features for extracted_audio/Actor_11/03-01-06-02-02-01-11.wav: {'num_words': 6, 'num_hesitations': 0, 'hesitation_ratio': 0.0, 'avg_sentence_length': np.float64(6.0)}\n",
      "🎧 Audio features for extracted_audio/Actor_11/03-01-06-02-02-01-11.wav: {'duration_sec': 3.069750566893424, 'pitch_std': np.float64(81.82105061879568), 'tempo_bpm': array([95.703125])}\n",
      "✅ Combined features for extracted_audio/Actor_11/03-01-06-02-02-01-11.wav: {'num_words': 6, 'num_hesitations': 0, 'hesitation_ratio': 0.0, 'avg_sentence_length': np.float64(6.0), 'duration_sec': 3.069750566893424, 'pitch_std': np.float64(81.82105061879568), 'tempo_bpm': array([95.703125]), 'file': '03-01-06-02-02-01-11.wav'}\n",
      "📁 Processing file: extracted_audio/Actor_11/03-01-06-01-01-01-11.wav\n"
     ]
    },
    {
     "name": "stderr",
     "output_type": "stream",
     "text": [
      "/Library/Frameworks/Python.framework/Versions/3.12/lib/python3.12/site-packages/whisper/transcribe.py:126: UserWarning: FP16 is not supported on CPU; using FP32 instead\n",
      "  warnings.warn(\"FP16 is not supported on CPU; using FP32 instead\")\n"
     ]
    },
    {
     "name": "stdout",
     "output_type": "stream",
     "text": [
      "🔊 Transcript for extracted_audio/Actor_11/03-01-06-01-01-01-11.wav:  Kids are talking by the door....\n",
      "📝 NLP features for extracted_audio/Actor_11/03-01-06-01-01-01-11.wav: {'num_words': 6, 'num_hesitations': 0, 'hesitation_ratio': 0.0, 'avg_sentence_length': np.float64(6.0)}\n",
      "🎧 Audio features for extracted_audio/Actor_11/03-01-06-01-01-01-11.wav: {'duration_sec': 3.47015873015873, 'pitch_std': np.float64(69.6835902220853), 'tempo_bpm': array([50.66636029])}\n",
      "✅ Combined features for extracted_audio/Actor_11/03-01-06-01-01-01-11.wav: {'num_words': 6, 'num_hesitations': 0, 'hesitation_ratio': 0.0, 'avg_sentence_length': np.float64(6.0), 'duration_sec': 3.47015873015873, 'pitch_std': np.float64(69.6835902220853), 'tempo_bpm': array([50.66636029]), 'file': '03-01-06-01-01-01-11.wav'}\n",
      "📁 Processing file: extracted_audio/Actor_11/03-01-05-01-01-02-11.wav\n"
     ]
    },
    {
     "name": "stderr",
     "output_type": "stream",
     "text": [
      "/Library/Frameworks/Python.framework/Versions/3.12/lib/python3.12/site-packages/whisper/transcribe.py:126: UserWarning: FP16 is not supported on CPU; using FP32 instead\n",
      "  warnings.warn(\"FP16 is not supported on CPU; using FP32 instead\")\n"
     ]
    },
    {
     "name": "stdout",
     "output_type": "stream",
     "text": [
      "🔊 Transcript for extracted_audio/Actor_11/03-01-05-01-01-02-11.wav:  Kids are talking by the door....\n",
      "📝 NLP features for extracted_audio/Actor_11/03-01-05-01-01-02-11.wav: {'num_words': 6, 'num_hesitations': 0, 'hesitation_ratio': 0.0, 'avg_sentence_length': np.float64(6.0)}\n",
      "🎧 Audio features for extracted_audio/Actor_11/03-01-05-01-01-02-11.wav: {'duration_sec': 3.47015873015873, 'pitch_std': np.float64(64.27470790526317), 'tempo_bpm': array([123.046875])}\n",
      "✅ Combined features for extracted_audio/Actor_11/03-01-05-01-01-02-11.wav: {'num_words': 6, 'num_hesitations': 0, 'hesitation_ratio': 0.0, 'avg_sentence_length': np.float64(6.0), 'duration_sec': 3.47015873015873, 'pitch_std': np.float64(64.27470790526317), 'tempo_bpm': array([123.046875]), 'file': '03-01-05-01-01-02-11.wav'}\n",
      "📁 Processing file: extracted_audio/Actor_11/03-01-08-01-02-02-11.wav\n"
     ]
    },
    {
     "name": "stderr",
     "output_type": "stream",
     "text": [
      "/Library/Frameworks/Python.framework/Versions/3.12/lib/python3.12/site-packages/whisper/transcribe.py:126: UserWarning: FP16 is not supported on CPU; using FP32 instead\n",
      "  warnings.warn(\"FP16 is not supported on CPU; using FP32 instead\")\n"
     ]
    },
    {
     "name": "stdout",
     "output_type": "stream",
     "text": [
      "🔊 Transcript for extracted_audio/Actor_11/03-01-08-01-02-02-11.wav:  Dogs are sitting by the door....\n",
      "📝 NLP features for extracted_audio/Actor_11/03-01-08-01-02-02-11.wav: {'num_words': 6, 'num_hesitations': 0, 'hesitation_ratio': 0.0, 'avg_sentence_length': np.float64(6.0)}\n",
      "🎧 Audio features for extracted_audio/Actor_11/03-01-08-01-02-02-11.wav: {'duration_sec': 2.9696598639455782, 'pitch_std': np.float64(99.84647935876042), 'tempo_bpm': array([107.66601562])}\n",
      "✅ Combined features for extracted_audio/Actor_11/03-01-08-01-02-02-11.wav: {'num_words': 6, 'num_hesitations': 0, 'hesitation_ratio': 0.0, 'avg_sentence_length': np.float64(6.0), 'duration_sec': 2.9696598639455782, 'pitch_std': np.float64(99.84647935876042), 'tempo_bpm': array([107.66601562]), 'file': '03-01-08-01-02-02-11.wav'}\n",
      "📁 Processing file: extracted_audio/Actor_11/03-01-08-02-01-02-11.wav\n"
     ]
    },
    {
     "name": "stderr",
     "output_type": "stream",
     "text": [
      "/Library/Frameworks/Python.framework/Versions/3.12/lib/python3.12/site-packages/whisper/transcribe.py:126: UserWarning: FP16 is not supported on CPU; using FP32 instead\n",
      "  warnings.warn(\"FP16 is not supported on CPU; using FP32 instead\")\n"
     ]
    },
    {
     "name": "stdout",
     "output_type": "stream",
     "text": [
      "🔊 Transcript for extracted_audio/Actor_11/03-01-08-02-01-02-11.wav:  Kids are talking by the door....\n",
      "📝 NLP features for extracted_audio/Actor_11/03-01-08-02-01-02-11.wav: {'num_words': 6, 'num_hesitations': 0, 'hesitation_ratio': 0.0, 'avg_sentence_length': np.float64(6.0)}\n",
      "🎧 Audio features for extracted_audio/Actor_11/03-01-08-02-01-02-11.wav: {'duration_sec': 3.1031292517006803, 'pitch_std': np.float64(97.32247998223754), 'tempo_bpm': array([198.76802885])}\n",
      "✅ Combined features for extracted_audio/Actor_11/03-01-08-02-01-02-11.wav: {'num_words': 6, 'num_hesitations': 0, 'hesitation_ratio': 0.0, 'avg_sentence_length': np.float64(6.0), 'duration_sec': 3.1031292517006803, 'pitch_std': np.float64(97.32247998223754), 'tempo_bpm': array([198.76802885]), 'file': '03-01-08-02-01-02-11.wav'}\n",
      "📁 Processing file: extracted_audio/Actor_11/03-01-02-01-01-02-11.wav\n"
     ]
    },
    {
     "name": "stderr",
     "output_type": "stream",
     "text": [
      "/Library/Frameworks/Python.framework/Versions/3.12/lib/python3.12/site-packages/whisper/transcribe.py:126: UserWarning: FP16 is not supported on CPU; using FP32 instead\n",
      "  warnings.warn(\"FP16 is not supported on CPU; using FP32 instead\")\n"
     ]
    },
    {
     "name": "stdout",
     "output_type": "stream",
     "text": [
      "🔊 Transcript for extracted_audio/Actor_11/03-01-02-01-01-02-11.wav:  Kids are talking by the door....\n",
      "📝 NLP features for extracted_audio/Actor_11/03-01-02-01-01-02-11.wav: {'num_words': 6, 'num_hesitations': 0, 'hesitation_ratio': 0.0, 'avg_sentence_length': np.float64(6.0)}\n",
      "🎧 Audio features for extracted_audio/Actor_11/03-01-02-01-01-02-11.wav: {'duration_sec': 3.336689342403628, 'pitch_std': np.float64(40.210809073864404), 'tempo_bpm': array([143.5546875])}\n",
      "✅ Combined features for extracted_audio/Actor_11/03-01-02-01-01-02-11.wav: {'num_words': 6, 'num_hesitations': 0, 'hesitation_ratio': 0.0, 'avg_sentence_length': np.float64(6.0), 'duration_sec': 3.336689342403628, 'pitch_std': np.float64(40.210809073864404), 'tempo_bpm': array([143.5546875]), 'file': '03-01-02-01-01-02-11.wav'}\n",
      "📁 Processing file: extracted_audio/Actor_11/03-01-01-01-01-01-11.wav\n"
     ]
    },
    {
     "name": "stderr",
     "output_type": "stream",
     "text": [
      "/Library/Frameworks/Python.framework/Versions/3.12/lib/python3.12/site-packages/whisper/transcribe.py:126: UserWarning: FP16 is not supported on CPU; using FP32 instead\n",
      "  warnings.warn(\"FP16 is not supported on CPU; using FP32 instead\")\n"
     ]
    },
    {
     "name": "stdout",
     "output_type": "stream",
     "text": [
      "🔊 Transcript for extracted_audio/Actor_11/03-01-01-01-01-01-11.wav:  Kids are talking by the door....\n",
      "📝 NLP features for extracted_audio/Actor_11/03-01-01-01-01-01-11.wav: {'num_words': 6, 'num_hesitations': 0, 'hesitation_ratio': 0.0, 'avg_sentence_length': np.float64(6.0)}\n",
      "🎧 Audio features for extracted_audio/Actor_11/03-01-01-01-01-01-11.wav: {'duration_sec': 3.1365079365079365, 'pitch_std': np.float64(77.14123240137452), 'tempo_bpm': array([63.02400915])}\n",
      "✅ Combined features for extracted_audio/Actor_11/03-01-01-01-01-01-11.wav: {'num_words': 6, 'num_hesitations': 0, 'hesitation_ratio': 0.0, 'avg_sentence_length': np.float64(6.0), 'duration_sec': 3.1365079365079365, 'pitch_std': np.float64(77.14123240137452), 'tempo_bpm': array([63.02400915]), 'file': '03-01-01-01-01-01-11.wav'}\n",
      "📁 Processing file: extracted_audio/Actor_11/03-01-02-02-02-02-11.wav\n"
     ]
    },
    {
     "name": "stderr",
     "output_type": "stream",
     "text": [
      "/Library/Frameworks/Python.framework/Versions/3.12/lib/python3.12/site-packages/whisper/transcribe.py:126: UserWarning: FP16 is not supported on CPU; using FP32 instead\n",
      "  warnings.warn(\"FP16 is not supported on CPU; using FP32 instead\")\n"
     ]
    },
    {
     "name": "stdout",
     "output_type": "stream",
     "text": [
      "🔊 Transcript for extracted_audio/Actor_11/03-01-02-02-02-02-11.wav:  Dogs are sitting by the door....\n",
      "📝 NLP features for extracted_audio/Actor_11/03-01-02-02-02-02-11.wav: {'num_words': 6, 'num_hesitations': 0, 'hesitation_ratio': 0.0, 'avg_sentence_length': np.float64(6.0)}\n",
      "🎧 Audio features for extracted_audio/Actor_11/03-01-02-02-02-02-11.wav: {'duration_sec': 3.83718820861678, 'pitch_std': np.float64(72.50633772441985), 'tempo_bpm': array([161.49902344])}\n",
      "✅ Combined features for extracted_audio/Actor_11/03-01-02-02-02-02-11.wav: {'num_words': 6, 'num_hesitations': 0, 'hesitation_ratio': 0.0, 'avg_sentence_length': np.float64(6.0), 'duration_sec': 3.83718820861678, 'pitch_std': np.float64(72.50633772441985), 'tempo_bpm': array([161.49902344]), 'file': '03-01-02-02-02-02-11.wav'}\n",
      "📁 Processing file: extracted_audio/Actor_11/03-01-03-01-02-01-11.wav\n"
     ]
    },
    {
     "name": "stderr",
     "output_type": "stream",
     "text": [
      "/Library/Frameworks/Python.framework/Versions/3.12/lib/python3.12/site-packages/whisper/transcribe.py:126: UserWarning: FP16 is not supported on CPU; using FP32 instead\n",
      "  warnings.warn(\"FP16 is not supported on CPU; using FP32 instead\")\n"
     ]
    },
    {
     "name": "stdout",
     "output_type": "stream",
     "text": [
      "🔊 Transcript for extracted_audio/Actor_11/03-01-03-01-02-01-11.wav:  Dogs are sitting by the door....\n",
      "📝 NLP features for extracted_audio/Actor_11/03-01-03-01-02-01-11.wav: {'num_words': 6, 'num_hesitations': 0, 'hesitation_ratio': 0.0, 'avg_sentence_length': np.float64(6.0)}\n",
      "🎧 Audio features for extracted_audio/Actor_11/03-01-03-01-02-01-11.wav: {'duration_sec': 3.1698412698412697, 'pitch_std': np.float64(53.683953713286655), 'tempo_bpm': array([86.1328125])}\n",
      "✅ Combined features for extracted_audio/Actor_11/03-01-03-01-02-01-11.wav: {'num_words': 6, 'num_hesitations': 0, 'hesitation_ratio': 0.0, 'avg_sentence_length': np.float64(6.0), 'duration_sec': 3.1698412698412697, 'pitch_std': np.float64(53.683953713286655), 'tempo_bpm': array([86.1328125]), 'file': '03-01-03-01-02-01-11.wav'}\n",
      "📁 Processing file: extracted_audio/Actor_11/03-01-03-02-01-01-11.wav\n"
     ]
    },
    {
     "name": "stderr",
     "output_type": "stream",
     "text": [
      "/Library/Frameworks/Python.framework/Versions/3.12/lib/python3.12/site-packages/whisper/transcribe.py:126: UserWarning: FP16 is not supported on CPU; using FP32 instead\n",
      "  warnings.warn(\"FP16 is not supported on CPU; using FP32 instead\")\n"
     ]
    },
    {
     "name": "stdout",
     "output_type": "stream",
     "text": [
      "🔊 Transcript for extracted_audio/Actor_11/03-01-03-02-01-01-11.wav:  Kids are talking by the door....\n",
      "📝 NLP features for extracted_audio/Actor_11/03-01-03-02-01-01-11.wav: {'num_words': 6, 'num_hesitations': 0, 'hesitation_ratio': 0.0, 'avg_sentence_length': np.float64(6.0)}\n",
      "🎧 Audio features for extracted_audio/Actor_11/03-01-03-02-01-01-11.wav: {'duration_sec': 4.037414965986395, 'pitch_std': np.float64(84.60034765566029), 'tempo_bpm': array([80.74951172])}\n",
      "✅ Combined features for extracted_audio/Actor_11/03-01-03-02-01-01-11.wav: {'num_words': 6, 'num_hesitations': 0, 'hesitation_ratio': 0.0, 'avg_sentence_length': np.float64(6.0), 'duration_sec': 4.037414965986395, 'pitch_std': np.float64(84.60034765566029), 'tempo_bpm': array([80.74951172]), 'file': '03-01-03-02-01-01-11.wav'}\n",
      "📁 Processing file: extracted_audio/Actor_11/03-01-06-01-02-01-11.wav\n"
     ]
    },
    {
     "name": "stderr",
     "output_type": "stream",
     "text": [
      "/Library/Frameworks/Python.framework/Versions/3.12/lib/python3.12/site-packages/whisper/transcribe.py:126: UserWarning: FP16 is not supported on CPU; using FP32 instead\n",
      "  warnings.warn(\"FP16 is not supported on CPU; using FP32 instead\")\n"
     ]
    },
    {
     "name": "stdout",
     "output_type": "stream",
     "text": [
      "🔊 Transcript for extracted_audio/Actor_11/03-01-06-01-02-01-11.wav:  Dogs are sitting by the door....\n",
      "📝 NLP features for extracted_audio/Actor_11/03-01-06-01-02-01-11.wav: {'num_words': 6, 'num_hesitations': 0, 'hesitation_ratio': 0.0, 'avg_sentence_length': np.float64(6.0)}\n",
      "🎧 Audio features for extracted_audio/Actor_11/03-01-06-01-02-01-11.wav: {'duration_sec': 3.1698412698412697, 'pitch_std': np.float64(63.18061529110509), 'tempo_bpm': array([64.59960938])}\n",
      "✅ Combined features for extracted_audio/Actor_11/03-01-06-01-02-01-11.wav: {'num_words': 6, 'num_hesitations': 0, 'hesitation_ratio': 0.0, 'avg_sentence_length': np.float64(6.0), 'duration_sec': 3.1698412698412697, 'pitch_std': np.float64(63.18061529110509), 'tempo_bpm': array([64.59960938]), 'file': '03-01-06-01-02-01-11.wav'}\n",
      "📁 Processing file: extracted_audio/Actor_11/03-01-05-01-02-02-11.wav\n"
     ]
    },
    {
     "name": "stderr",
     "output_type": "stream",
     "text": [
      "/Library/Frameworks/Python.framework/Versions/3.12/lib/python3.12/site-packages/whisper/transcribe.py:126: UserWarning: FP16 is not supported on CPU; using FP32 instead\n",
      "  warnings.warn(\"FP16 is not supported on CPU; using FP32 instead\")\n"
     ]
    },
    {
     "name": "stdout",
     "output_type": "stream",
     "text": [
      "🔊 Transcript for extracted_audio/Actor_11/03-01-05-01-02-02-11.wav:  Dogs are sitting by the door....\n",
      "📝 NLP features for extracted_audio/Actor_11/03-01-05-01-02-02-11.wav: {'num_words': 6, 'num_hesitations': 0, 'hesitation_ratio': 0.0, 'avg_sentence_length': np.float64(6.0)}\n",
      "🎧 Audio features for extracted_audio/Actor_11/03-01-05-01-02-02-11.wav: {'duration_sec': 3.737097505668934, 'pitch_std': np.float64(62.531216884575066), 'tempo_bpm': array([172.265625])}\n",
      "✅ Combined features for extracted_audio/Actor_11/03-01-05-01-02-02-11.wav: {'num_words': 6, 'num_hesitations': 0, 'hesitation_ratio': 0.0, 'avg_sentence_length': np.float64(6.0), 'duration_sec': 3.737097505668934, 'pitch_std': np.float64(62.531216884575066), 'tempo_bpm': array([172.265625]), 'file': '03-01-05-01-02-02-11.wav'}\n",
      "📁 Processing file: extracted_audio/Actor_11/03-01-05-02-01-02-11.wav\n"
     ]
    },
    {
     "name": "stderr",
     "output_type": "stream",
     "text": [
      "/Library/Frameworks/Python.framework/Versions/3.12/lib/python3.12/site-packages/whisper/transcribe.py:126: UserWarning: FP16 is not supported on CPU; using FP32 instead\n",
      "  warnings.warn(\"FP16 is not supported on CPU; using FP32 instead\")\n"
     ]
    },
    {
     "name": "stdout",
     "output_type": "stream",
     "text": [
      "🔊 Transcript for extracted_audio/Actor_11/03-01-05-02-01-02-11.wav:  Kids are talking by the door!...\n",
      "📝 NLP features for extracted_audio/Actor_11/03-01-05-02-01-02-11.wav: {'num_words': 6, 'num_hesitations': 0, 'hesitation_ratio': 0.0, 'avg_sentence_length': np.float64(6.0)}\n",
      "🎧 Audio features for extracted_audio/Actor_11/03-01-05-02-01-02-11.wav: {'duration_sec': 3.970657596371882, 'pitch_std': np.float64(99.94989462752862), 'tempo_bpm': array([161.49902344])}\n",
      "✅ Combined features for extracted_audio/Actor_11/03-01-05-02-01-02-11.wav: {'num_words': 6, 'num_hesitations': 0, 'hesitation_ratio': 0.0, 'avg_sentence_length': np.float64(6.0), 'duration_sec': 3.970657596371882, 'pitch_std': np.float64(99.94989462752862), 'tempo_bpm': array([161.49902344]), 'file': '03-01-05-02-01-02-11.wav'}\n",
      "📁 Processing file: extracted_audio/Actor_11/03-01-06-02-01-01-11.wav\n"
     ]
    },
    {
     "name": "stderr",
     "output_type": "stream",
     "text": [
      "/Library/Frameworks/Python.framework/Versions/3.12/lib/python3.12/site-packages/whisper/transcribe.py:126: UserWarning: FP16 is not supported on CPU; using FP32 instead\n",
      "  warnings.warn(\"FP16 is not supported on CPU; using FP32 instead\")\n"
     ]
    },
    {
     "name": "stdout",
     "output_type": "stream",
     "text": [
      "🔊 Transcript for extracted_audio/Actor_11/03-01-06-02-01-01-11.wav:  Kids are talking by the door....\n",
      "📝 NLP features for extracted_audio/Actor_11/03-01-06-02-01-01-11.wav: {'num_words': 6, 'num_hesitations': 0, 'hesitation_ratio': 0.0, 'avg_sentence_length': np.float64(6.0)}\n",
      "🎧 Audio features for extracted_audio/Actor_11/03-01-06-02-01-01-11.wav: {'duration_sec': 3.2032199546485263, 'pitch_std': np.float64(83.7319117566283), 'tempo_bpm': array([172.265625])}\n",
      "✅ Combined features for extracted_audio/Actor_11/03-01-06-02-01-01-11.wav: {'num_words': 6, 'num_hesitations': 0, 'hesitation_ratio': 0.0, 'avg_sentence_length': np.float64(6.0), 'duration_sec': 3.2032199546485263, 'pitch_std': np.float64(83.7319117566283), 'tempo_bpm': array([172.265625]), 'file': '03-01-06-02-01-01-11.wav'}\n",
      "📁 Processing file: extracted_audio/Actor_11/03-01-04-01-01-01-11.wav\n"
     ]
    },
    {
     "name": "stderr",
     "output_type": "stream",
     "text": [
      "/Library/Frameworks/Python.framework/Versions/3.12/lib/python3.12/site-packages/whisper/transcribe.py:126: UserWarning: FP16 is not supported on CPU; using FP32 instead\n",
      "  warnings.warn(\"FP16 is not supported on CPU; using FP32 instead\")\n"
     ]
    },
    {
     "name": "stdout",
     "output_type": "stream",
     "text": [
      "🔊 Transcript for extracted_audio/Actor_11/03-01-04-01-01-01-11.wav:  Kids are talking by the door....\n",
      "📝 NLP features for extracted_audio/Actor_11/03-01-04-01-01-01-11.wav: {'num_words': 6, 'num_hesitations': 0, 'hesitation_ratio': 0.0, 'avg_sentence_length': np.float64(6.0)}\n",
      "🎧 Audio features for extracted_audio/Actor_11/03-01-04-01-01-01-11.wav: {'duration_sec': 3.336689342403628, 'pitch_std': np.float64(54.90900832337621), 'tempo_bpm': array([151.99908088])}\n",
      "✅ Combined features for extracted_audio/Actor_11/03-01-04-01-01-01-11.wav: {'num_words': 6, 'num_hesitations': 0, 'hesitation_ratio': 0.0, 'avg_sentence_length': np.float64(6.0), 'duration_sec': 3.336689342403628, 'pitch_std': np.float64(54.90900832337621), 'tempo_bpm': array([151.99908088]), 'file': '03-01-04-01-01-01-11.wav'}\n",
      "📁 Processing file: extracted_audio/Actor_11/03-01-07-01-01-02-11.wav\n"
     ]
    },
    {
     "name": "stderr",
     "output_type": "stream",
     "text": [
      "/Library/Frameworks/Python.framework/Versions/3.12/lib/python3.12/site-packages/whisper/transcribe.py:126: UserWarning: FP16 is not supported on CPU; using FP32 instead\n",
      "  warnings.warn(\"FP16 is not supported on CPU; using FP32 instead\")\n"
     ]
    },
    {
     "name": "stdout",
     "output_type": "stream",
     "text": [
      "🔊 Transcript for extracted_audio/Actor_11/03-01-07-01-01-02-11.wav:  Kids are talking by the door....\n",
      "📝 NLP features for extracted_audio/Actor_11/03-01-07-01-01-02-11.wav: {'num_words': 6, 'num_hesitations': 0, 'hesitation_ratio': 0.0, 'avg_sentence_length': np.float64(6.0)}\n",
      "🎧 Audio features for extracted_audio/Actor_11/03-01-07-01-01-02-11.wav: {'duration_sec': 3.603628117913832, 'pitch_std': np.float64(83.08624893543514), 'tempo_bpm': array([172.265625])}\n",
      "✅ Combined features for extracted_audio/Actor_11/03-01-07-01-01-02-11.wav: {'num_words': 6, 'num_hesitations': 0, 'hesitation_ratio': 0.0, 'avg_sentence_length': np.float64(6.0), 'duration_sec': 3.603628117913832, 'pitch_std': np.float64(83.08624893543514), 'tempo_bpm': array([172.265625]), 'file': '03-01-07-01-01-02-11.wav'}\n",
      "📁 Processing file: extracted_audio/Actor_11/03-01-07-02-02-02-11.wav\n"
     ]
    },
    {
     "name": "stderr",
     "output_type": "stream",
     "text": [
      "/Library/Frameworks/Python.framework/Versions/3.12/lib/python3.12/site-packages/whisper/transcribe.py:126: UserWarning: FP16 is not supported on CPU; using FP32 instead\n",
      "  warnings.warn(\"FP16 is not supported on CPU; using FP32 instead\")\n"
     ]
    },
    {
     "name": "stdout",
     "output_type": "stream",
     "text": [
      "🔊 Transcript for extracted_audio/Actor_11/03-01-07-02-02-02-11.wav:  Dogs are sitting by the door....\n",
      "📝 NLP features for extracted_audio/Actor_11/03-01-07-02-02-02-11.wav: {'num_words': 6, 'num_hesitations': 0, 'hesitation_ratio': 0.0, 'avg_sentence_length': np.float64(6.0)}\n",
      "🎧 Audio features for extracted_audio/Actor_11/03-01-07-02-02-02-11.wav: {'duration_sec': 3.737097505668934, 'pitch_std': np.float64(63.10812525493254), 'tempo_bpm': array([143.5546875])}\n",
      "✅ Combined features for extracted_audio/Actor_11/03-01-07-02-02-02-11.wav: {'num_words': 6, 'num_hesitations': 0, 'hesitation_ratio': 0.0, 'avg_sentence_length': np.float64(6.0), 'duration_sec': 3.737097505668934, 'pitch_std': np.float64(63.10812525493254), 'tempo_bpm': array([143.5546875]), 'file': '03-01-07-02-02-02-11.wav'}\n",
      "📁 Processing file: extracted_audio/Actor_11/03-01-04-02-02-01-11.wav\n"
     ]
    },
    {
     "name": "stderr",
     "output_type": "stream",
     "text": [
      "/Library/Frameworks/Python.framework/Versions/3.12/lib/python3.12/site-packages/whisper/transcribe.py:126: UserWarning: FP16 is not supported on CPU; using FP32 instead\n",
      "  warnings.warn(\"FP16 is not supported on CPU; using FP32 instead\")\n"
     ]
    },
    {
     "name": "stdout",
     "output_type": "stream",
     "text": [
      "🔊 Transcript for extracted_audio/Actor_11/03-01-04-02-02-01-11.wav:  Dogs are sitting by the door....\n",
      "📝 NLP features for extracted_audio/Actor_11/03-01-04-02-02-01-11.wav: {'num_words': 6, 'num_hesitations': 0, 'hesitation_ratio': 0.0, 'avg_sentence_length': np.float64(6.0)}\n",
      "🎧 Audio features for extracted_audio/Actor_11/03-01-04-02-02-01-11.wav: {'duration_sec': 3.3700680272108845, 'pitch_std': np.float64(66.07200076867682), 'tempo_bpm': array([54.97839096])}\n",
      "✅ Combined features for extracted_audio/Actor_11/03-01-04-02-02-01-11.wav: {'num_words': 6, 'num_hesitations': 0, 'hesitation_ratio': 0.0, 'avg_sentence_length': np.float64(6.0), 'duration_sec': 3.3700680272108845, 'pitch_std': np.float64(66.07200076867682), 'tempo_bpm': array([54.97839096]), 'file': '03-01-04-02-02-01-11.wav'}\n",
      "📁 Processing file: extracted_audio/Actor_11/03-01-08-02-02-02-11.wav\n"
     ]
    },
    {
     "name": "stderr",
     "output_type": "stream",
     "text": [
      "/Library/Frameworks/Python.framework/Versions/3.12/lib/python3.12/site-packages/whisper/transcribe.py:126: UserWarning: FP16 is not supported on CPU; using FP32 instead\n",
      "  warnings.warn(\"FP16 is not supported on CPU; using FP32 instead\")\n"
     ]
    },
    {
     "name": "stdout",
     "output_type": "stream",
     "text": [
      "🔊 Transcript for extracted_audio/Actor_11/03-01-08-02-02-02-11.wav:  Dogs are sitting by the door....\n",
      "📝 NLP features for extracted_audio/Actor_11/03-01-08-02-02-02-11.wav: {'num_words': 6, 'num_hesitations': 0, 'hesitation_ratio': 0.0, 'avg_sentence_length': np.float64(6.0)}\n",
      "🎧 Audio features for extracted_audio/Actor_11/03-01-08-02-02-02-11.wav: {'duration_sec': 3.069750566893424, 'pitch_std': np.float64(102.37909741779653), 'tempo_bpm': array([151.99908088])}\n",
      "✅ Combined features for extracted_audio/Actor_11/03-01-08-02-02-02-11.wav: {'num_words': 6, 'num_hesitations': 0, 'hesitation_ratio': 0.0, 'avg_sentence_length': np.float64(6.0), 'duration_sec': 3.069750566893424, 'pitch_std': np.float64(102.37909741779653), 'tempo_bpm': array([151.99908088]), 'file': '03-01-08-02-02-02-11.wav'}\n",
      "📁 Processing file: extracted_audio/Actor_11/03-01-08-01-01-02-11.wav\n"
     ]
    },
    {
     "name": "stderr",
     "output_type": "stream",
     "text": [
      "/Library/Frameworks/Python.framework/Versions/3.12/lib/python3.12/site-packages/whisper/transcribe.py:126: UserWarning: FP16 is not supported on CPU; using FP32 instead\n",
      "  warnings.warn(\"FP16 is not supported on CPU; using FP32 instead\")\n"
     ]
    },
    {
     "name": "stdout",
     "output_type": "stream",
     "text": [
      "🔊 Transcript for extracted_audio/Actor_11/03-01-08-01-01-02-11.wav:  Kids are talking by the door....\n",
      "📝 NLP features for extracted_audio/Actor_11/03-01-08-01-01-02-11.wav: {'num_words': 6, 'num_hesitations': 0, 'hesitation_ratio': 0.0, 'avg_sentence_length': np.float64(6.0)}\n",
      "🎧 Audio features for extracted_audio/Actor_11/03-01-08-01-01-02-11.wav: {'duration_sec': 3.1364625850340135, 'pitch_std': np.float64(101.26939793479647), 'tempo_bpm': array([184.5703125])}\n",
      "✅ Combined features for extracted_audio/Actor_11/03-01-08-01-01-02-11.wav: {'num_words': 6, 'num_hesitations': 0, 'hesitation_ratio': 0.0, 'avg_sentence_length': np.float64(6.0), 'duration_sec': 3.1364625850340135, 'pitch_std': np.float64(101.26939793479647), 'tempo_bpm': array([184.5703125]), 'file': '03-01-08-01-01-02-11.wav'}\n",
      "📁 Processing file: extracted_audio/Actor_11/03-01-03-02-02-01-11.wav\n"
     ]
    },
    {
     "name": "stderr",
     "output_type": "stream",
     "text": [
      "/Library/Frameworks/Python.framework/Versions/3.12/lib/python3.12/site-packages/whisper/transcribe.py:126: UserWarning: FP16 is not supported on CPU; using FP32 instead\n",
      "  warnings.warn(\"FP16 is not supported on CPU; using FP32 instead\")\n"
     ]
    },
    {
     "name": "stdout",
     "output_type": "stream",
     "text": [
      "🔊 Transcript for extracted_audio/Actor_11/03-01-03-02-02-01-11.wav:  Dogs are sitting by the door....\n",
      "📝 NLP features for extracted_audio/Actor_11/03-01-03-02-02-01-11.wav: {'num_words': 6, 'num_hesitations': 0, 'hesitation_ratio': 0.0, 'avg_sentence_length': np.float64(6.0)}\n",
      "🎧 Audio features for extracted_audio/Actor_11/03-01-03-02-02-01-11.wav: {'duration_sec': 3.8705215419501133, 'pitch_std': np.float64(74.16951267117311), 'tempo_bpm': array([184.5703125])}\n",
      "✅ Combined features for extracted_audio/Actor_11/03-01-03-02-02-01-11.wav: {'num_words': 6, 'num_hesitations': 0, 'hesitation_ratio': 0.0, 'avg_sentence_length': np.float64(6.0), 'duration_sec': 3.8705215419501133, 'pitch_std': np.float64(74.16951267117311), 'tempo_bpm': array([184.5703125]), 'file': '03-01-03-02-02-01-11.wav'}\n",
      "📁 Processing file: extracted_audio/Actor_11/03-01-03-01-01-01-11.wav\n"
     ]
    },
    {
     "name": "stderr",
     "output_type": "stream",
     "text": [
      "/Library/Frameworks/Python.framework/Versions/3.12/lib/python3.12/site-packages/whisper/transcribe.py:126: UserWarning: FP16 is not supported on CPU; using FP32 instead\n",
      "  warnings.warn(\"FP16 is not supported on CPU; using FP32 instead\")\n"
     ]
    },
    {
     "name": "stdout",
     "output_type": "stream",
     "text": [
      "🔊 Transcript for extracted_audio/Actor_11/03-01-03-01-01-01-11.wav:  Kids are talking by the door....\n",
      "📝 NLP features for extracted_audio/Actor_11/03-01-03-01-01-01-11.wav: {'num_words': 6, 'num_hesitations': 0, 'hesitation_ratio': 0.0, 'avg_sentence_length': np.float64(6.0)}\n",
      "🎧 Audio features for extracted_audio/Actor_11/03-01-03-01-01-01-11.wav: {'duration_sec': 3.1031292517006803, 'pitch_std': np.float64(80.70917679770024), 'tempo_bpm': array([92.28515625])}\n",
      "✅ Combined features for extracted_audio/Actor_11/03-01-03-01-01-01-11.wav: {'num_words': 6, 'num_hesitations': 0, 'hesitation_ratio': 0.0, 'avg_sentence_length': np.float64(6.0), 'duration_sec': 3.1031292517006803, 'pitch_std': np.float64(80.70917679770024), 'tempo_bpm': array([92.28515625]), 'file': '03-01-03-01-01-01-11.wav'}\n",
      "📁 Processing file: extracted_audio/Actor_11/03-01-02-02-01-02-11.wav\n"
     ]
    },
    {
     "name": "stderr",
     "output_type": "stream",
     "text": [
      "/Library/Frameworks/Python.framework/Versions/3.12/lib/python3.12/site-packages/whisper/transcribe.py:126: UserWarning: FP16 is not supported on CPU; using FP32 instead\n",
      "  warnings.warn(\"FP16 is not supported on CPU; using FP32 instead\")\n"
     ]
    },
    {
     "name": "stdout",
     "output_type": "stream",
     "text": [
      "🔊 Transcript for extracted_audio/Actor_11/03-01-02-02-01-02-11.wav:  Kids are talking by the door....\n",
      "📝 NLP features for extracted_audio/Actor_11/03-01-02-02-01-02-11.wav: {'num_words': 6, 'num_hesitations': 0, 'hesitation_ratio': 0.0, 'avg_sentence_length': np.float64(6.0)}\n",
      "🎧 Audio features for extracted_audio/Actor_11/03-01-02-02-01-02-11.wav: {'duration_sec': 3.737097505668934, 'pitch_std': np.float64(77.73959763872217), 'tempo_bpm': array([107.66601562])}\n",
      "✅ Combined features for extracted_audio/Actor_11/03-01-02-02-01-02-11.wav: {'num_words': 6, 'num_hesitations': 0, 'hesitation_ratio': 0.0, 'avg_sentence_length': np.float64(6.0), 'duration_sec': 3.737097505668934, 'pitch_std': np.float64(77.73959763872217), 'tempo_bpm': array([107.66601562]), 'file': '03-01-02-02-01-02-11.wav'}\n",
      "📁 Processing file: extracted_audio/Actor_11/03-01-02-01-02-02-11.wav\n"
     ]
    },
    {
     "name": "stderr",
     "output_type": "stream",
     "text": [
      "/Library/Frameworks/Python.framework/Versions/3.12/lib/python3.12/site-packages/whisper/transcribe.py:126: UserWarning: FP16 is not supported on CPU; using FP32 instead\n",
      "  warnings.warn(\"FP16 is not supported on CPU; using FP32 instead\")\n"
     ]
    },
    {
     "name": "stdout",
     "output_type": "stream",
     "text": [
      "🔊 Transcript for extracted_audio/Actor_11/03-01-02-01-02-02-11.wav:  Dogs are sitting by the door....\n",
      "📝 NLP features for extracted_audio/Actor_11/03-01-02-01-02-02-11.wav: {'num_words': 6, 'num_hesitations': 0, 'hesitation_ratio': 0.0, 'avg_sentence_length': np.float64(6.0)}\n",
      "🎧 Audio features for extracted_audio/Actor_11/03-01-02-01-02-02-11.wav: {'duration_sec': 3.670340136054422, 'pitch_std': np.float64(62.38051461635488), 'tempo_bpm': array([172.265625])}\n",
      "✅ Combined features for extracted_audio/Actor_11/03-01-02-01-02-02-11.wav: {'num_words': 6, 'num_hesitations': 0, 'hesitation_ratio': 0.0, 'avg_sentence_length': np.float64(6.0), 'duration_sec': 3.670340136054422, 'pitch_std': np.float64(62.38051461635488), 'tempo_bpm': array([172.265625]), 'file': '03-01-02-01-02-02-11.wav'}\n",
      "📁 Processing file: extracted_audio/Actor_11/03-01-01-01-02-01-11.wav\n"
     ]
    },
    {
     "name": "stderr",
     "output_type": "stream",
     "text": [
      "/Library/Frameworks/Python.framework/Versions/3.12/lib/python3.12/site-packages/whisper/transcribe.py:126: UserWarning: FP16 is not supported on CPU; using FP32 instead\n",
      "  warnings.warn(\"FP16 is not supported on CPU; using FP32 instead\")\n"
     ]
    },
    {
     "name": "stdout",
     "output_type": "stream",
     "text": [
      "🔊 Transcript for extracted_audio/Actor_11/03-01-01-01-02-01-11.wav:  Dogs are sitting by the door....\n",
      "📝 NLP features for extracted_audio/Actor_11/03-01-01-01-02-01-11.wav: {'num_words': 6, 'num_hesitations': 0, 'hesitation_ratio': 0.0, 'avg_sentence_length': np.float64(6.0)}\n",
      "🎧 Audio features for extracted_audio/Actor_11/03-01-01-01-02-01-11.wav: {'duration_sec': 3.2032199546485263, 'pitch_std': np.float64(49.14445279949636), 'tempo_bpm': array([83.35433468])}\n",
      "✅ Combined features for extracted_audio/Actor_11/03-01-01-01-02-01-11.wav: {'num_words': 6, 'num_hesitations': 0, 'hesitation_ratio': 0.0, 'avg_sentence_length': np.float64(6.0), 'duration_sec': 3.2032199546485263, 'pitch_std': np.float64(49.14445279949636), 'tempo_bpm': array([83.35433468]), 'file': '03-01-01-01-02-01-11.wav'}\n",
      "📁 Processing file: extracted_audio/Actor_11/03-01-03-02-01-02-11.wav\n"
     ]
    },
    {
     "name": "stderr",
     "output_type": "stream",
     "text": [
      "/Library/Frameworks/Python.framework/Versions/3.12/lib/python3.12/site-packages/whisper/transcribe.py:126: UserWarning: FP16 is not supported on CPU; using FP32 instead\n",
      "  warnings.warn(\"FP16 is not supported on CPU; using FP32 instead\")\n"
     ]
    },
    {
     "name": "stdout",
     "output_type": "stream",
     "text": [
      "🔊 Transcript for extracted_audio/Actor_11/03-01-03-02-01-02-11.wav:  Kids are talking by the door....\n",
      "📝 NLP features for extracted_audio/Actor_11/03-01-03-02-01-02-11.wav: {'num_words': 6, 'num_hesitations': 0, 'hesitation_ratio': 0.0, 'avg_sentence_length': np.float64(6.0)}\n",
      "🎧 Audio features for extracted_audio/Actor_11/03-01-03-02-01-02-11.wav: {'duration_sec': 3.6370068027210882, 'pitch_std': np.float64(87.43927829639564), 'tempo_bpm': array([92.28515625])}\n",
      "✅ Combined features for extracted_audio/Actor_11/03-01-03-02-01-02-11.wav: {'num_words': 6, 'num_hesitations': 0, 'hesitation_ratio': 0.0, 'avg_sentence_length': np.float64(6.0), 'duration_sec': 3.6370068027210882, 'pitch_std': np.float64(87.43927829639564), 'tempo_bpm': array([92.28515625]), 'file': '03-01-03-02-01-02-11.wav'}\n",
      "📁 Processing file: extracted_audio/Actor_11/03-01-03-01-02-02-11.wav\n"
     ]
    },
    {
     "name": "stderr",
     "output_type": "stream",
     "text": [
      "/Library/Frameworks/Python.framework/Versions/3.12/lib/python3.12/site-packages/whisper/transcribe.py:126: UserWarning: FP16 is not supported on CPU; using FP32 instead\n",
      "  warnings.warn(\"FP16 is not supported on CPU; using FP32 instead\")\n"
     ]
    },
    {
     "name": "stdout",
     "output_type": "stream",
     "text": [
      "🔊 Transcript for extracted_audio/Actor_11/03-01-03-01-02-02-11.wav:  Dogs are sitting by the door....\n",
      "📝 NLP features for extracted_audio/Actor_11/03-01-03-01-02-02-11.wav: {'num_words': 6, 'num_hesitations': 0, 'hesitation_ratio': 0.0, 'avg_sentence_length': np.float64(6.0)}\n",
      "🎧 Audio features for extracted_audio/Actor_11/03-01-03-01-02-02-11.wav: {'duration_sec': 3.2365986394557824, 'pitch_std': np.float64(65.3922381245393), 'tempo_bpm': array([78.30255682])}\n",
      "✅ Combined features for extracted_audio/Actor_11/03-01-03-01-02-02-11.wav: {'num_words': 6, 'num_hesitations': 0, 'hesitation_ratio': 0.0, 'avg_sentence_length': np.float64(6.0), 'duration_sec': 3.2365986394557824, 'pitch_std': np.float64(65.3922381245393), 'tempo_bpm': array([78.30255682]), 'file': '03-01-03-01-02-02-11.wav'}\n",
      "📁 Processing file: extracted_audio/Actor_11/03-01-02-02-02-01-11.wav\n"
     ]
    },
    {
     "name": "stderr",
     "output_type": "stream",
     "text": [
      "/Library/Frameworks/Python.framework/Versions/3.12/lib/python3.12/site-packages/whisper/transcribe.py:126: UserWarning: FP16 is not supported on CPU; using FP32 instead\n",
      "  warnings.warn(\"FP16 is not supported on CPU; using FP32 instead\")\n"
     ]
    },
    {
     "name": "stdout",
     "output_type": "stream",
     "text": [
      "🔊 Transcript for extracted_audio/Actor_11/03-01-02-02-02-01-11.wav:  Dogs are sitting by the door....\n",
      "📝 NLP features for extracted_audio/Actor_11/03-01-02-02-02-01-11.wav: {'num_words': 6, 'num_hesitations': 0, 'hesitation_ratio': 0.0, 'avg_sentence_length': np.float64(6.0)}\n",
      "🎧 Audio features for extracted_audio/Actor_11/03-01-02-02-02-01-11.wav: {'duration_sec': 3.7704761904761903, 'pitch_std': np.float64(49.622470382581284), 'tempo_bpm': array([161.49902344])}\n",
      "✅ Combined features for extracted_audio/Actor_11/03-01-02-02-02-01-11.wav: {'num_words': 6, 'num_hesitations': 0, 'hesitation_ratio': 0.0, 'avg_sentence_length': np.float64(6.0), 'duration_sec': 3.7704761904761903, 'pitch_std': np.float64(49.622470382581284), 'tempo_bpm': array([161.49902344]), 'file': '03-01-02-02-02-01-11.wav'}\n",
      "📁 Processing file: extracted_audio/Actor_11/03-01-01-01-01-02-11.wav\n"
     ]
    },
    {
     "name": "stderr",
     "output_type": "stream",
     "text": [
      "/Library/Frameworks/Python.framework/Versions/3.12/lib/python3.12/site-packages/whisper/transcribe.py:126: UserWarning: FP16 is not supported on CPU; using FP32 instead\n",
      "  warnings.warn(\"FP16 is not supported on CPU; using FP32 instead\")\n"
     ]
    },
    {
     "name": "stdout",
     "output_type": "stream",
     "text": [
      "🔊 Transcript for extracted_audio/Actor_11/03-01-01-01-01-02-11.wav:  Kids are talking by the door....\n",
      "📝 NLP features for extracted_audio/Actor_11/03-01-01-01-01-02-11.wav: {'num_words': 6, 'num_hesitations': 0, 'hesitation_ratio': 0.0, 'avg_sentence_length': np.float64(6.0)}\n",
      "🎧 Audio features for extracted_audio/Actor_11/03-01-01-01-01-02-11.wav: {'duration_sec': 3.1031292517006803, 'pitch_std': np.float64(38.805779760598675), 'tempo_bpm': array([83.35433468])}\n",
      "✅ Combined features for extracted_audio/Actor_11/03-01-01-01-01-02-11.wav: {'num_words': 6, 'num_hesitations': 0, 'hesitation_ratio': 0.0, 'avg_sentence_length': np.float64(6.0), 'duration_sec': 3.1031292517006803, 'pitch_std': np.float64(38.805779760598675), 'tempo_bpm': array([83.35433468]), 'file': '03-01-01-01-01-02-11.wav'}\n",
      "📁 Processing file: extracted_audio/Actor_11/03-01-02-01-01-01-11.wav\n"
     ]
    },
    {
     "name": "stderr",
     "output_type": "stream",
     "text": [
      "/Library/Frameworks/Python.framework/Versions/3.12/lib/python3.12/site-packages/whisper/transcribe.py:126: UserWarning: FP16 is not supported on CPU; using FP32 instead\n",
      "  warnings.warn(\"FP16 is not supported on CPU; using FP32 instead\")\n"
     ]
    },
    {
     "name": "stdout",
     "output_type": "stream",
     "text": [
      "🔊 Transcript for extracted_audio/Actor_11/03-01-02-01-01-01-11.wav:  Kids are talking by the door....\n",
      "📝 NLP features for extracted_audio/Actor_11/03-01-02-01-01-01-11.wav: {'num_words': 6, 'num_hesitations': 0, 'hesitation_ratio': 0.0, 'avg_sentence_length': np.float64(6.0)}\n",
      "🎧 Audio features for extracted_audio/Actor_11/03-01-02-01-01-01-11.wav: {'duration_sec': 3.2699319727891156, 'pitch_std': np.float64(49.288747961486095), 'tempo_bpm': array([151.99908088])}\n",
      "✅ Combined features for extracted_audio/Actor_11/03-01-02-01-01-01-11.wav: {'num_words': 6, 'num_hesitations': 0, 'hesitation_ratio': 0.0, 'avg_sentence_length': np.float64(6.0), 'duration_sec': 3.2699319727891156, 'pitch_std': np.float64(49.288747961486095), 'tempo_bpm': array([151.99908088]), 'file': '03-01-02-01-01-01-11.wav'}\n",
      "📁 Processing file: extracted_audio/Actor_11/03-01-05-01-01-01-11.wav\n"
     ]
    },
    {
     "name": "stderr",
     "output_type": "stream",
     "text": [
      "/Library/Frameworks/Python.framework/Versions/3.12/lib/python3.12/site-packages/whisper/transcribe.py:126: UserWarning: FP16 is not supported on CPU; using FP32 instead\n",
      "  warnings.warn(\"FP16 is not supported on CPU; using FP32 instead\")\n"
     ]
    },
    {
     "name": "stdout",
     "output_type": "stream",
     "text": [
      "🔊 Transcript for extracted_audio/Actor_11/03-01-05-01-01-01-11.wav:  Kids are talking by the door....\n",
      "📝 NLP features for extracted_audio/Actor_11/03-01-05-01-01-01-11.wav: {'num_words': 6, 'num_hesitations': 0, 'hesitation_ratio': 0.0, 'avg_sentence_length': np.float64(6.0)}\n",
      "🎧 Audio features for extracted_audio/Actor_11/03-01-05-01-01-01-11.wav: {'duration_sec': 3.603628117913832, 'pitch_std': np.float64(72.62200103753278), 'tempo_bpm': array([112.34714674])}\n",
      "✅ Combined features for extracted_audio/Actor_11/03-01-05-01-01-01-11.wav: {'num_words': 6, 'num_hesitations': 0, 'hesitation_ratio': 0.0, 'avg_sentence_length': np.float64(6.0), 'duration_sec': 3.603628117913832, 'pitch_std': np.float64(72.62200103753278), 'tempo_bpm': array([112.34714674]), 'file': '03-01-05-01-01-01-11.wav'}\n",
      "📁 Processing file: extracted_audio/Actor_11/03-01-06-01-01-02-11.wav\n"
     ]
    },
    {
     "name": "stderr",
     "output_type": "stream",
     "text": [
      "/Library/Frameworks/Python.framework/Versions/3.12/lib/python3.12/site-packages/whisper/transcribe.py:126: UserWarning: FP16 is not supported on CPU; using FP32 instead\n",
      "  warnings.warn(\"FP16 is not supported on CPU; using FP32 instead\")\n"
     ]
    },
    {
     "name": "stdout",
     "output_type": "stream",
     "text": [
      "🔊 Transcript for extracted_audio/Actor_11/03-01-06-01-01-02-11.wav:  Kids are talking by the door....\n",
      "📝 NLP features for extracted_audio/Actor_11/03-01-06-01-01-02-11.wav: {'num_words': 6, 'num_hesitations': 0, 'hesitation_ratio': 0.0, 'avg_sentence_length': np.float64(6.0)}\n",
      "🎧 Audio features for extracted_audio/Actor_11/03-01-06-01-01-02-11.wav: {'duration_sec': 3.5035374149659866, 'pitch_std': np.float64(49.898743691620815), 'tempo_bpm': array([135.99917763])}\n",
      "✅ Combined features for extracted_audio/Actor_11/03-01-06-01-01-02-11.wav: {'num_words': 6, 'num_hesitations': 0, 'hesitation_ratio': 0.0, 'avg_sentence_length': np.float64(6.0), 'duration_sec': 3.5035374149659866, 'pitch_std': np.float64(49.898743691620815), 'tempo_bpm': array([135.99917763]), 'file': '03-01-06-01-01-02-11.wav'}\n",
      "📁 Processing file: extracted_audio/Actor_11/03-01-06-02-02-02-11.wav\n"
     ]
    },
    {
     "name": "stderr",
     "output_type": "stream",
     "text": [
      "/Library/Frameworks/Python.framework/Versions/3.12/lib/python3.12/site-packages/whisper/transcribe.py:126: UserWarning: FP16 is not supported on CPU; using FP32 instead\n",
      "  warnings.warn(\"FP16 is not supported on CPU; using FP32 instead\")\n"
     ]
    },
    {
     "name": "stdout",
     "output_type": "stream",
     "text": [
      "🔊 Transcript for extracted_audio/Actor_11/03-01-06-02-02-02-11.wav:  Dogs are sitting by the door....\n",
      "📝 NLP features for extracted_audio/Actor_11/03-01-06-02-02-02-11.wav: {'num_words': 6, 'num_hesitations': 0, 'hesitation_ratio': 0.0, 'avg_sentence_length': np.float64(6.0)}\n",
      "🎧 Audio features for extracted_audio/Actor_11/03-01-06-02-02-02-11.wav: {'duration_sec': 3.1364625850340135, 'pitch_std': np.float64(90.3463756427401), 'tempo_bpm': array([92.28515625])}\n",
      "✅ Combined features for extracted_audio/Actor_11/03-01-06-02-02-02-11.wav: {'num_words': 6, 'num_hesitations': 0, 'hesitation_ratio': 0.0, 'avg_sentence_length': np.float64(6.0), 'duration_sec': 3.1364625850340135, 'pitch_std': np.float64(90.3463756427401), 'tempo_bpm': array([92.28515625]), 'file': '03-01-06-02-02-02-11.wav'}\n",
      "📁 Processing file: extracted_audio/Actor_11/03-01-05-02-02-01-11.wav\n"
     ]
    },
    {
     "name": "stderr",
     "output_type": "stream",
     "text": [
      "/Library/Frameworks/Python.framework/Versions/3.12/lib/python3.12/site-packages/whisper/transcribe.py:126: UserWarning: FP16 is not supported on CPU; using FP32 instead\n",
      "  warnings.warn(\"FP16 is not supported on CPU; using FP32 instead\")\n"
     ]
    },
    {
     "name": "stdout",
     "output_type": "stream",
     "text": [
      "🔊 Transcript for extracted_audio/Actor_11/03-01-05-02-02-01-11.wav:  Dogs are sitting by the door!...\n",
      "📝 NLP features for extracted_audio/Actor_11/03-01-05-02-02-01-11.wav: {'num_words': 6, 'num_hesitations': 0, 'hesitation_ratio': 0.0, 'avg_sentence_length': np.float64(6.0)}\n",
      "🎧 Audio features for extracted_audio/Actor_11/03-01-05-02-02-01-11.wav: {'duration_sec': 3.937278911564626, 'pitch_std': np.float64(85.55558584338418), 'tempo_bpm': array([161.49902344])}\n",
      "✅ Combined features for extracted_audio/Actor_11/03-01-05-02-02-01-11.wav: {'num_words': 6, 'num_hesitations': 0, 'hesitation_ratio': 0.0, 'avg_sentence_length': np.float64(6.0), 'duration_sec': 3.937278911564626, 'pitch_std': np.float64(85.55558584338418), 'tempo_bpm': array([161.49902344]), 'file': '03-01-05-02-02-01-11.wav'}\n",
      "📁 Processing file: extracted_audio/Actor_11/03-01-07-01-02-01-11.wav\n"
     ]
    },
    {
     "name": "stderr",
     "output_type": "stream",
     "text": [
      "/Library/Frameworks/Python.framework/Versions/3.12/lib/python3.12/site-packages/whisper/transcribe.py:126: UserWarning: FP16 is not supported on CPU; using FP32 instead\n",
      "  warnings.warn(\"FP16 is not supported on CPU; using FP32 instead\")\n"
     ]
    },
    {
     "name": "stdout",
     "output_type": "stream",
     "text": [
      "🔊 Transcript for extracted_audio/Actor_11/03-01-07-01-02-01-11.wav:  Dogs are sitting by the door....\n",
      "📝 NLP features for extracted_audio/Actor_11/03-01-07-01-02-01-11.wav: {'num_words': 6, 'num_hesitations': 0, 'hesitation_ratio': 0.0, 'avg_sentence_length': np.float64(6.0)}\n",
      "🎧 Audio features for extracted_audio/Actor_11/03-01-07-01-02-01-11.wav: {'duration_sec': 3.47015873015873, 'pitch_std': np.float64(59.88498167187621), 'tempo_bpm': array([52.734375])}\n",
      "✅ Combined features for extracted_audio/Actor_11/03-01-07-01-02-01-11.wav: {'num_words': 6, 'num_hesitations': 0, 'hesitation_ratio': 0.0, 'avg_sentence_length': np.float64(6.0), 'duration_sec': 3.47015873015873, 'pitch_std': np.float64(59.88498167187621), 'tempo_bpm': array([52.734375]), 'file': '03-01-07-01-02-01-11.wav'}\n",
      "📁 Processing file: extracted_audio/Actor_11/03-01-04-01-02-02-11.wav\n"
     ]
    },
    {
     "name": "stderr",
     "output_type": "stream",
     "text": [
      "/Library/Frameworks/Python.framework/Versions/3.12/lib/python3.12/site-packages/whisper/transcribe.py:126: UserWarning: FP16 is not supported on CPU; using FP32 instead\n",
      "  warnings.warn(\"FP16 is not supported on CPU; using FP32 instead\")\n"
     ]
    },
    {
     "name": "stdout",
     "output_type": "stream",
     "text": [
      "🔊 Transcript for extracted_audio/Actor_11/03-01-04-01-02-02-11.wav:  Dogs are sitting by the door....\n",
      "📝 NLP features for extracted_audio/Actor_11/03-01-04-01-02-02-11.wav: {'num_words': 6, 'num_hesitations': 0, 'hesitation_ratio': 0.0, 'avg_sentence_length': np.float64(6.0)}\n",
      "🎧 Audio features for extracted_audio/Actor_11/03-01-04-01-02-02-11.wav: {'duration_sec': 3.436780045351474, 'pitch_std': np.float64(71.83299074087222), 'tempo_bpm': array([184.5703125])}\n",
      "✅ Combined features for extracted_audio/Actor_11/03-01-04-01-02-02-11.wav: {'num_words': 6, 'num_hesitations': 0, 'hesitation_ratio': 0.0, 'avg_sentence_length': np.float64(6.0), 'duration_sec': 3.436780045351474, 'pitch_std': np.float64(71.83299074087222), 'tempo_bpm': array([184.5703125]), 'file': '03-01-04-01-02-02-11.wav'}\n",
      "📁 Processing file: extracted_audio/Actor_11/03-01-04-02-01-02-11.wav\n"
     ]
    },
    {
     "name": "stderr",
     "output_type": "stream",
     "text": [
      "/Library/Frameworks/Python.framework/Versions/3.12/lib/python3.12/site-packages/whisper/transcribe.py:126: UserWarning: FP16 is not supported on CPU; using FP32 instead\n",
      "  warnings.warn(\"FP16 is not supported on CPU; using FP32 instead\")\n"
     ]
    },
    {
     "name": "stdout",
     "output_type": "stream",
     "text": [
      "🔊 Transcript for extracted_audio/Actor_11/03-01-04-02-01-02-11.wav:  Kids are talking by the door....\n",
      "📝 NLP features for extracted_audio/Actor_11/03-01-04-02-01-02-11.wav: {'num_words': 6, 'num_hesitations': 0, 'hesitation_ratio': 0.0, 'avg_sentence_length': np.float64(6.0)}\n",
      "🎧 Audio features for extracted_audio/Actor_11/03-01-04-02-01-02-11.wav: {'duration_sec': 3.603628117913832, 'pitch_std': np.float64(67.29057470776532), 'tempo_bpm': array([143.5546875])}\n",
      "✅ Combined features for extracted_audio/Actor_11/03-01-04-02-01-02-11.wav: {'num_words': 6, 'num_hesitations': 0, 'hesitation_ratio': 0.0, 'avg_sentence_length': np.float64(6.0), 'duration_sec': 3.603628117913832, 'pitch_std': np.float64(67.29057470776532), 'tempo_bpm': array([143.5546875]), 'file': '03-01-04-02-01-02-11.wav'}\n",
      "📁 Processing file: extracted_audio/Actor_11/03-01-07-02-01-01-11.wav\n"
     ]
    },
    {
     "name": "stderr",
     "output_type": "stream",
     "text": [
      "/Library/Frameworks/Python.framework/Versions/3.12/lib/python3.12/site-packages/whisper/transcribe.py:126: UserWarning: FP16 is not supported on CPU; using FP32 instead\n",
      "  warnings.warn(\"FP16 is not supported on CPU; using FP32 instead\")\n"
     ]
    },
    {
     "name": "stdout",
     "output_type": "stream",
     "text": [
      "🔊 Transcript for extracted_audio/Actor_11/03-01-07-02-01-01-11.wav:  Kids are talking by the door....\n",
      "📝 NLP features for extracted_audio/Actor_11/03-01-07-02-01-01-11.wav: {'num_words': 6, 'num_hesitations': 0, 'hesitation_ratio': 0.0, 'avg_sentence_length': np.float64(6.0)}\n",
      "🎧 Audio features for extracted_audio/Actor_11/03-01-07-02-01-01-11.wav: {'duration_sec': 3.803854875283447, 'pitch_std': np.float64(78.34342458675135), 'tempo_bpm': array([129.19921875])}\n",
      "✅ Combined features for extracted_audio/Actor_11/03-01-07-02-01-01-11.wav: {'num_words': 6, 'num_hesitations': 0, 'hesitation_ratio': 0.0, 'avg_sentence_length': np.float64(6.0), 'duration_sec': 3.803854875283447, 'pitch_std': np.float64(78.34342458675135), 'tempo_bpm': array([129.19921875]), 'file': '03-01-07-02-01-01-11.wav'}\n",
      "📁 Processing file: extracted_audio/Actor_11/03-01-08-02-01-01-11.wav\n"
     ]
    },
    {
     "name": "stderr",
     "output_type": "stream",
     "text": [
      "/Library/Frameworks/Python.framework/Versions/3.12/lib/python3.12/site-packages/whisper/transcribe.py:126: UserWarning: FP16 is not supported on CPU; using FP32 instead\n",
      "  warnings.warn(\"FP16 is not supported on CPU; using FP32 instead\")\n"
     ]
    },
    {
     "name": "stdout",
     "output_type": "stream",
     "text": [
      "🔊 Transcript for extracted_audio/Actor_11/03-01-08-02-01-01-11.wav:  Kids are talking by the door....\n",
      "📝 NLP features for extracted_audio/Actor_11/03-01-08-02-01-01-11.wav: {'num_words': 6, 'num_hesitations': 0, 'hesitation_ratio': 0.0, 'avg_sentence_length': np.float64(6.0)}\n",
      "🎧 Audio features for extracted_audio/Actor_11/03-01-08-02-01-01-11.wav: {'duration_sec': 3.069750566893424, 'pitch_std': np.float64(99.93184871577905), 'tempo_bpm': array([92.28515625])}\n",
      "✅ Combined features for extracted_audio/Actor_11/03-01-08-02-01-01-11.wav: {'num_words': 6, 'num_hesitations': 0, 'hesitation_ratio': 0.0, 'avg_sentence_length': np.float64(6.0), 'duration_sec': 3.069750566893424, 'pitch_std': np.float64(99.93184871577905), 'tempo_bpm': array([92.28515625]), 'file': '03-01-08-02-01-01-11.wav'}\n",
      "📁 Processing file: extracted_audio/Actor_11/03-01-08-01-02-01-11.wav\n"
     ]
    },
    {
     "name": "stderr",
     "output_type": "stream",
     "text": [
      "/Library/Frameworks/Python.framework/Versions/3.12/lib/python3.12/site-packages/whisper/transcribe.py:126: UserWarning: FP16 is not supported on CPU; using FP32 instead\n",
      "  warnings.warn(\"FP16 is not supported on CPU; using FP32 instead\")\n"
     ]
    },
    {
     "name": "stdout",
     "output_type": "stream",
     "text": [
      "🔊 Transcript for extracted_audio/Actor_11/03-01-08-01-02-01-11.wav:  Dogs are sitting by the door....\n",
      "📝 NLP features for extracted_audio/Actor_11/03-01-08-01-02-01-11.wav: {'num_words': 6, 'num_hesitations': 0, 'hesitation_ratio': 0.0, 'avg_sentence_length': np.float64(6.0)}\n",
      "🎧 Audio features for extracted_audio/Actor_11/03-01-08-01-02-01-11.wav: {'duration_sec': 3.1698412698412697, 'pitch_std': np.float64(81.87600642525484), 'tempo_bpm': array([86.1328125])}\n",
      "✅ Combined features for extracted_audio/Actor_11/03-01-08-01-02-01-11.wav: {'num_words': 6, 'num_hesitations': 0, 'hesitation_ratio': 0.0, 'avg_sentence_length': np.float64(6.0), 'duration_sec': 3.1698412698412697, 'pitch_std': np.float64(81.87600642525484), 'tempo_bpm': array([86.1328125]), 'file': '03-01-08-01-02-01-11.wav'}\n",
      "📁 Processing file: extracted_audio/Actor_18/03-01-03-02-01-02-18.wav\n"
     ]
    },
    {
     "name": "stderr",
     "output_type": "stream",
     "text": [
      "/Library/Frameworks/Python.framework/Versions/3.12/lib/python3.12/site-packages/whisper/transcribe.py:126: UserWarning: FP16 is not supported on CPU; using FP32 instead\n",
      "  warnings.warn(\"FP16 is not supported on CPU; using FP32 instead\")\n"
     ]
    },
    {
     "name": "stdout",
     "output_type": "stream",
     "text": [
      "🔊 Transcript for extracted_audio/Actor_18/03-01-03-02-01-02-18.wav:  Kids are talking by the door!...\n",
      "📝 NLP features for extracted_audio/Actor_18/03-01-03-02-01-02-18.wav: {'num_words': 6, 'num_hesitations': 0, 'hesitation_ratio': 0.0, 'avg_sentence_length': np.float64(6.0)}\n",
      "🎧 Audio features for extracted_audio/Actor_18/03-01-03-02-01-02-18.wav: {'duration_sec': 3.937278911564626, 'pitch_std': np.float64(84.845192208303), 'tempo_bpm': array([129.19921875])}\n",
      "✅ Combined features for extracted_audio/Actor_18/03-01-03-02-01-02-18.wav: {'num_words': 6, 'num_hesitations': 0, 'hesitation_ratio': 0.0, 'avg_sentence_length': np.float64(6.0), 'duration_sec': 3.937278911564626, 'pitch_std': np.float64(84.845192208303), 'tempo_bpm': array([129.19921875]), 'file': '03-01-03-02-01-02-18.wav'}\n",
      "📁 Processing file: extracted_audio/Actor_18/03-01-03-01-02-02-18.wav\n"
     ]
    },
    {
     "name": "stderr",
     "output_type": "stream",
     "text": [
      "/Library/Frameworks/Python.framework/Versions/3.12/lib/python3.12/site-packages/whisper/transcribe.py:126: UserWarning: FP16 is not supported on CPU; using FP32 instead\n",
      "  warnings.warn(\"FP16 is not supported on CPU; using FP32 instead\")\n"
     ]
    },
    {
     "name": "stdout",
     "output_type": "stream",
     "text": [
      "🔊 Transcript for extracted_audio/Actor_18/03-01-03-01-02-02-18.wav:  Talks are sitting by the door....\n",
      "📝 NLP features for extracted_audio/Actor_18/03-01-03-01-02-02-18.wav: {'num_words': 6, 'num_hesitations': 0, 'hesitation_ratio': 0.0, 'avg_sentence_length': np.float64(6.0)}\n",
      "🎧 Audio features for extracted_audio/Actor_18/03-01-03-01-02-02-18.wav: {'duration_sec': 3.5035374149659866, 'pitch_std': np.float64(94.25809132614869), 'tempo_bpm': array([117.45383523])}\n",
      "✅ Combined features for extracted_audio/Actor_18/03-01-03-01-02-02-18.wav: {'num_words': 6, 'num_hesitations': 0, 'hesitation_ratio': 0.0, 'avg_sentence_length': np.float64(6.0), 'duration_sec': 3.5035374149659866, 'pitch_std': np.float64(94.25809132614869), 'tempo_bpm': array([117.45383523]), 'file': '03-01-03-01-02-02-18.wav'}\n",
      "📁 Processing file: extracted_audio/Actor_18/03-01-02-02-02-01-18.wav\n"
     ]
    },
    {
     "name": "stderr",
     "output_type": "stream",
     "text": [
      "/Library/Frameworks/Python.framework/Versions/3.12/lib/python3.12/site-packages/whisper/transcribe.py:126: UserWarning: FP16 is not supported on CPU; using FP32 instead\n",
      "  warnings.warn(\"FP16 is not supported on CPU; using FP32 instead\")\n"
     ]
    },
    {
     "name": "stdout",
     "output_type": "stream",
     "text": [
      "🔊 Transcript for extracted_audio/Actor_18/03-01-02-02-02-01-18.wav:  Dogs are sitting by the door....\n",
      "📝 NLP features for extracted_audio/Actor_18/03-01-02-02-02-01-18.wav: {'num_words': 6, 'num_hesitations': 0, 'hesitation_ratio': 0.0, 'avg_sentence_length': np.float64(6.0)}\n",
      "🎧 Audio features for extracted_audio/Actor_18/03-01-02-02-02-01-18.wav: {'duration_sec': 3.603628117913832, 'pitch_std': np.float64(71.05937193342467), 'tempo_bpm': array([60.09265988])}\n",
      "✅ Combined features for extracted_audio/Actor_18/03-01-02-02-02-01-18.wav: {'num_words': 6, 'num_hesitations': 0, 'hesitation_ratio': 0.0, 'avg_sentence_length': np.float64(6.0), 'duration_sec': 3.603628117913832, 'pitch_std': np.float64(71.05937193342467), 'tempo_bpm': array([60.09265988]), 'file': '03-01-02-02-02-01-18.wav'}\n",
      "📁 Processing file: extracted_audio/Actor_18/03-01-02-01-01-01-18.wav\n"
     ]
    },
    {
     "name": "stderr",
     "output_type": "stream",
     "text": [
      "/Library/Frameworks/Python.framework/Versions/3.12/lib/python3.12/site-packages/whisper/transcribe.py:126: UserWarning: FP16 is not supported on CPU; using FP32 instead\n",
      "  warnings.warn(\"FP16 is not supported on CPU; using FP32 instead\")\n"
     ]
    },
    {
     "name": "stdout",
     "output_type": "stream",
     "text": [
      "🔊 Transcript for extracted_audio/Actor_18/03-01-02-01-01-01-18.wav:  Kids are talking by the door....\n",
      "📝 NLP features for extracted_audio/Actor_18/03-01-02-01-01-01-18.wav: {'num_words': 6, 'num_hesitations': 0, 'hesitation_ratio': 0.0, 'avg_sentence_length': np.float64(6.0)}\n",
      "🎧 Audio features for extracted_audio/Actor_18/03-01-02-01-01-01-18.wav: {'duration_sec': 3.47015873015873, 'pitch_std': np.float64(69.26014155491413), 'tempo_bpm': array([129.19921875])}\n",
      "✅ Combined features for extracted_audio/Actor_18/03-01-02-01-01-01-18.wav: {'num_words': 6, 'num_hesitations': 0, 'hesitation_ratio': 0.0, 'avg_sentence_length': np.float64(6.0), 'duration_sec': 3.47015873015873, 'pitch_std': np.float64(69.26014155491413), 'tempo_bpm': array([129.19921875]), 'file': '03-01-02-01-01-01-18.wav'}\n",
      "📁 Processing file: extracted_audio/Actor_18/03-01-01-01-01-02-18.wav\n"
     ]
    },
    {
     "name": "stderr",
     "output_type": "stream",
     "text": [
      "/Library/Frameworks/Python.framework/Versions/3.12/lib/python3.12/site-packages/whisper/transcribe.py:126: UserWarning: FP16 is not supported on CPU; using FP32 instead\n",
      "  warnings.warn(\"FP16 is not supported on CPU; using FP32 instead\")\n"
     ]
    },
    {
     "name": "stdout",
     "output_type": "stream",
     "text": [
      "🔊 Transcript for extracted_audio/Actor_18/03-01-01-01-01-02-18.wav:  Kids are talking by the door....\n",
      "📝 NLP features for extracted_audio/Actor_18/03-01-01-01-01-02-18.wav: {'num_words': 6, 'num_hesitations': 0, 'hesitation_ratio': 0.0, 'avg_sentence_length': np.float64(6.0)}\n",
      "🎧 Audio features for extracted_audio/Actor_18/03-01-01-01-01-02-18.wav: {'duration_sec': 3.5369160997732427, 'pitch_std': np.float64(70.5711365791185), 'tempo_bpm': array([143.5546875])}\n",
      "✅ Combined features for extracted_audio/Actor_18/03-01-01-01-01-02-18.wav: {'num_words': 6, 'num_hesitations': 0, 'hesitation_ratio': 0.0, 'avg_sentence_length': np.float64(6.0), 'duration_sec': 3.5369160997732427, 'pitch_std': np.float64(70.5711365791185), 'tempo_bpm': array([143.5546875]), 'file': '03-01-01-01-01-02-18.wav'}\n",
      "📁 Processing file: extracted_audio/Actor_18/03-01-06-01-01-02-18.wav\n"
     ]
    },
    {
     "name": "stderr",
     "output_type": "stream",
     "text": [
      "/Library/Frameworks/Python.framework/Versions/3.12/lib/python3.12/site-packages/whisper/transcribe.py:126: UserWarning: FP16 is not supported on CPU; using FP32 instead\n",
      "  warnings.warn(\"FP16 is not supported on CPU; using FP32 instead\")\n"
     ]
    },
    {
     "name": "stdout",
     "output_type": "stream",
     "text": [
      "🔊 Transcript for extracted_audio/Actor_18/03-01-06-01-01-02-18.wav:  Kids are talking by the door....\n",
      "📝 NLP features for extracted_audio/Actor_18/03-01-06-01-01-02-18.wav: {'num_words': 6, 'num_hesitations': 0, 'hesitation_ratio': 0.0, 'avg_sentence_length': np.float64(6.0)}\n",
      "🎧 Audio features for extracted_audio/Actor_18/03-01-06-01-01-02-18.wav: {'duration_sec': 3.4034013605442177, 'pitch_std': np.float64(104.71912530405696), 'tempo_bpm': array([78.30255682])}\n",
      "✅ Combined features for extracted_audio/Actor_18/03-01-06-01-01-02-18.wav: {'num_words': 6, 'num_hesitations': 0, 'hesitation_ratio': 0.0, 'avg_sentence_length': np.float64(6.0), 'duration_sec': 3.4034013605442177, 'pitch_std': np.float64(104.71912530405696), 'tempo_bpm': array([78.30255682]), 'file': '03-01-06-01-01-02-18.wav'}\n",
      "📁 Processing file: extracted_audio/Actor_18/03-01-05-01-01-01-18.wav\n"
     ]
    },
    {
     "name": "stderr",
     "output_type": "stream",
     "text": [
      "/Library/Frameworks/Python.framework/Versions/3.12/lib/python3.12/site-packages/whisper/transcribe.py:126: UserWarning: FP16 is not supported on CPU; using FP32 instead\n",
      "  warnings.warn(\"FP16 is not supported on CPU; using FP32 instead\")\n"
     ]
    },
    {
     "name": "stdout",
     "output_type": "stream",
     "text": [
      "🔊 Transcript for extracted_audio/Actor_18/03-01-05-01-01-01-18.wav:  Kids are talking by the door....\n",
      "📝 NLP features for extracted_audio/Actor_18/03-01-05-01-01-01-18.wav: {'num_words': 6, 'num_hesitations': 0, 'hesitation_ratio': 0.0, 'avg_sentence_length': np.float64(6.0)}\n",
      "🎧 Audio features for extracted_audio/Actor_18/03-01-05-01-01-01-18.wav: {'duration_sec': 3.9039002267573695, 'pitch_std': np.float64(83.90279912746315), 'tempo_bpm': array([92.28515625])}\n",
      "✅ Combined features for extracted_audio/Actor_18/03-01-05-01-01-01-18.wav: {'num_words': 6, 'num_hesitations': 0, 'hesitation_ratio': 0.0, 'avg_sentence_length': np.float64(6.0), 'duration_sec': 3.9039002267573695, 'pitch_std': np.float64(83.90279912746315), 'tempo_bpm': array([92.28515625]), 'file': '03-01-05-01-01-01-18.wav'}\n",
      "📁 Processing file: extracted_audio/Actor_18/03-01-05-02-02-01-18.wav\n"
     ]
    },
    {
     "name": "stderr",
     "output_type": "stream",
     "text": [
      "/Library/Frameworks/Python.framework/Versions/3.12/lib/python3.12/site-packages/whisper/transcribe.py:126: UserWarning: FP16 is not supported on CPU; using FP32 instead\n",
      "  warnings.warn(\"FP16 is not supported on CPU; using FP32 instead\")\n"
     ]
    },
    {
     "name": "stdout",
     "output_type": "stream",
     "text": [
      "🔊 Transcript for extracted_audio/Actor_18/03-01-05-02-02-01-18.wav:  Dogs are sitting by the door!...\n",
      "📝 NLP features for extracted_audio/Actor_18/03-01-05-02-02-01-18.wav: {'num_words': 6, 'num_hesitations': 0, 'hesitation_ratio': 0.0, 'avg_sentence_length': np.float64(6.0)}\n",
      "🎧 Audio features for extracted_audio/Actor_18/03-01-05-02-02-01-18.wav: {'duration_sec': 3.83718820861678, 'pitch_std': np.float64(95.62760615002225), 'tempo_bpm': array([184.5703125])}\n",
      "✅ Combined features for extracted_audio/Actor_18/03-01-05-02-02-01-18.wav: {'num_words': 6, 'num_hesitations': 0, 'hesitation_ratio': 0.0, 'avg_sentence_length': np.float64(6.0), 'duration_sec': 3.83718820861678, 'pitch_std': np.float64(95.62760615002225), 'tempo_bpm': array([184.5703125]), 'file': '03-01-05-02-02-01-18.wav'}\n",
      "📁 Processing file: extracted_audio/Actor_18/03-01-06-02-02-02-18.wav\n"
     ]
    },
    {
     "name": "stderr",
     "output_type": "stream",
     "text": [
      "/Library/Frameworks/Python.framework/Versions/3.12/lib/python3.12/site-packages/whisper/transcribe.py:126: UserWarning: FP16 is not supported on CPU; using FP32 instead\n",
      "  warnings.warn(\"FP16 is not supported on CPU; using FP32 instead\")\n"
     ]
    },
    {
     "name": "stdout",
     "output_type": "stream",
     "text": [
      "🔊 Transcript for extracted_audio/Actor_18/03-01-06-02-02-02-18.wav:  Dogs are sitting by the door!...\n",
      "📝 NLP features for extracted_audio/Actor_18/03-01-06-02-02-02-18.wav: {'num_words': 6, 'num_hesitations': 0, 'hesitation_ratio': 0.0, 'avg_sentence_length': np.float64(6.0)}\n",
      "🎧 Audio features for extracted_audio/Actor_18/03-01-06-02-02-02-18.wav: {'duration_sec': 3.803809523809524, 'pitch_std': np.float64(75.13860593388758), 'tempo_bpm': array([129.19921875])}\n",
      "✅ Combined features for extracted_audio/Actor_18/03-01-06-02-02-02-18.wav: {'num_words': 6, 'num_hesitations': 0, 'hesitation_ratio': 0.0, 'avg_sentence_length': np.float64(6.0), 'duration_sec': 3.803809523809524, 'pitch_std': np.float64(75.13860593388758), 'tempo_bpm': array([129.19921875]), 'file': '03-01-06-02-02-02-18.wav'}\n",
      "📁 Processing file: extracted_audio/Actor_18/03-01-04-01-02-02-18.wav\n"
     ]
    },
    {
     "name": "stderr",
     "output_type": "stream",
     "text": [
      "/Library/Frameworks/Python.framework/Versions/3.12/lib/python3.12/site-packages/whisper/transcribe.py:126: UserWarning: FP16 is not supported on CPU; using FP32 instead\n",
      "  warnings.warn(\"FP16 is not supported on CPU; using FP32 instead\")\n"
     ]
    },
    {
     "name": "stdout",
     "output_type": "stream",
     "text": [
      "🔊 Transcript for extracted_audio/Actor_18/03-01-04-01-02-02-18.wav:  Dogs are sitting by the door....\n",
      "📝 NLP features for extracted_audio/Actor_18/03-01-04-01-02-02-18.wav: {'num_words': 6, 'num_hesitations': 0, 'hesitation_ratio': 0.0, 'avg_sentence_length': np.float64(6.0)}\n",
      "🎧 Audio features for extracted_audio/Actor_18/03-01-04-01-02-02-18.wav: {'duration_sec': 3.6369614512471657, 'pitch_std': np.float64(74.32358499626788), 'tempo_bpm': array([66.25600962])}\n",
      "✅ Combined features for extracted_audio/Actor_18/03-01-04-01-02-02-18.wav: {'num_words': 6, 'num_hesitations': 0, 'hesitation_ratio': 0.0, 'avg_sentence_length': np.float64(6.0), 'duration_sec': 3.6369614512471657, 'pitch_std': np.float64(74.32358499626788), 'tempo_bpm': array([66.25600962]), 'file': '03-01-04-01-02-02-18.wav'}\n",
      "📁 Processing file: extracted_audio/Actor_18/03-01-07-01-02-01-18.wav\n"
     ]
    },
    {
     "name": "stderr",
     "output_type": "stream",
     "text": [
      "/Library/Frameworks/Python.framework/Versions/3.12/lib/python3.12/site-packages/whisper/transcribe.py:126: UserWarning: FP16 is not supported on CPU; using FP32 instead\n",
      "  warnings.warn(\"FP16 is not supported on CPU; using FP32 instead\")\n"
     ]
    },
    {
     "name": "stdout",
     "output_type": "stream",
     "text": [
      "🔊 Transcript for extracted_audio/Actor_18/03-01-07-01-02-01-18.wav:  Dogs are sitting by the door....\n",
      "📝 NLP features for extracted_audio/Actor_18/03-01-07-01-02-01-18.wav: {'num_words': 6, 'num_hesitations': 0, 'hesitation_ratio': 0.0, 'avg_sentence_length': np.float64(6.0)}\n",
      "🎧 Audio features for extracted_audio/Actor_18/03-01-07-01-02-01-18.wav: {'duration_sec': 3.670340136054422, 'pitch_std': np.float64(83.89554845146814), 'tempo_bpm': array([215.33203125])}\n",
      "✅ Combined features for extracted_audio/Actor_18/03-01-07-01-02-01-18.wav: {'num_words': 6, 'num_hesitations': 0, 'hesitation_ratio': 0.0, 'avg_sentence_length': np.float64(6.0), 'duration_sec': 3.670340136054422, 'pitch_std': np.float64(83.89554845146814), 'tempo_bpm': array([215.33203125]), 'file': '03-01-07-01-02-01-18.wav'}\n",
      "📁 Processing file: extracted_audio/Actor_18/03-01-07-02-01-01-18.wav\n"
     ]
    },
    {
     "name": "stderr",
     "output_type": "stream",
     "text": [
      "/Library/Frameworks/Python.framework/Versions/3.12/lib/python3.12/site-packages/whisper/transcribe.py:126: UserWarning: FP16 is not supported on CPU; using FP32 instead\n",
      "  warnings.warn(\"FP16 is not supported on CPU; using FP32 instead\")\n"
     ]
    },
    {
     "name": "stdout",
     "output_type": "stream",
     "text": [
      "🔊 Transcript for extracted_audio/Actor_18/03-01-07-02-01-01-18.wav:  Kids are talking by the door!...\n",
      "📝 NLP features for extracted_audio/Actor_18/03-01-07-02-01-01-18.wav: {'num_words': 6, 'num_hesitations': 0, 'hesitation_ratio': 0.0, 'avg_sentence_length': np.float64(6.0)}\n",
      "🎧 Audio features for extracted_audio/Actor_18/03-01-07-02-01-01-18.wav: {'duration_sec': 4.771428571428571, 'pitch_std': np.float64(76.75658375003215), 'tempo_bpm': array([63.02400915])}\n",
      "✅ Combined features for extracted_audio/Actor_18/03-01-07-02-01-01-18.wav: {'num_words': 6, 'num_hesitations': 0, 'hesitation_ratio': 0.0, 'avg_sentence_length': np.float64(6.0), 'duration_sec': 4.771428571428571, 'pitch_std': np.float64(76.75658375003215), 'tempo_bpm': array([63.02400915]), 'file': '03-01-07-02-01-01-18.wav'}\n",
      "📁 Processing file: extracted_audio/Actor_18/03-01-04-02-01-02-18.wav\n"
     ]
    },
    {
     "name": "stderr",
     "output_type": "stream",
     "text": [
      "/Library/Frameworks/Python.framework/Versions/3.12/lib/python3.12/site-packages/whisper/transcribe.py:126: UserWarning: FP16 is not supported on CPU; using FP32 instead\n",
      "  warnings.warn(\"FP16 is not supported on CPU; using FP32 instead\")\n"
     ]
    },
    {
     "name": "stdout",
     "output_type": "stream",
     "text": [
      "🔊 Transcript for extracted_audio/Actor_18/03-01-04-02-01-02-18.wav:  Kids are talking by the door....\n",
      "📝 NLP features for extracted_audio/Actor_18/03-01-04-02-01-02-18.wav: {'num_words': 6, 'num_hesitations': 0, 'hesitation_ratio': 0.0, 'avg_sentence_length': np.float64(6.0)}\n",
      "🎧 Audio features for extracted_audio/Actor_18/03-01-04-02-01-02-18.wav: {'duration_sec': 3.83718820861678, 'pitch_std': np.float64(85.90400369046549), 'tempo_bpm': array([161.49902344])}\n",
      "✅ Combined features for extracted_audio/Actor_18/03-01-04-02-01-02-18.wav: {'num_words': 6, 'num_hesitations': 0, 'hesitation_ratio': 0.0, 'avg_sentence_length': np.float64(6.0), 'duration_sec': 3.83718820861678, 'pitch_std': np.float64(85.90400369046549), 'tempo_bpm': array([161.49902344]), 'file': '03-01-04-02-01-02-18.wav'}\n",
      "📁 Processing file: extracted_audio/Actor_18/03-01-08-02-01-01-18.wav\n"
     ]
    },
    {
     "name": "stderr",
     "output_type": "stream",
     "text": [
      "/Library/Frameworks/Python.framework/Versions/3.12/lib/python3.12/site-packages/whisper/transcribe.py:126: UserWarning: FP16 is not supported on CPU; using FP32 instead\n",
      "  warnings.warn(\"FP16 is not supported on CPU; using FP32 instead\")\n"
     ]
    },
    {
     "name": "stdout",
     "output_type": "stream",
     "text": [
      "🔊 Transcript for extracted_audio/Actor_18/03-01-08-02-01-01-18.wav:  Kids are talking by the door....\n",
      "📝 NLP features for extracted_audio/Actor_18/03-01-08-02-01-01-18.wav: {'num_words': 6, 'num_hesitations': 0, 'hesitation_ratio': 0.0, 'avg_sentence_length': np.float64(6.0)}\n",
      "🎧 Audio features for extracted_audio/Actor_18/03-01-08-02-01-01-18.wav: {'duration_sec': 3.6370068027210882, 'pitch_std': np.float64(93.1674907184845), 'tempo_bpm': array([52.734375])}\n",
      "✅ Combined features for extracted_audio/Actor_18/03-01-08-02-01-01-18.wav: {'num_words': 6, 'num_hesitations': 0, 'hesitation_ratio': 0.0, 'avg_sentence_length': np.float64(6.0), 'duration_sec': 3.6370068027210882, 'pitch_std': np.float64(93.1674907184845), 'tempo_bpm': array([52.734375]), 'file': '03-01-08-02-01-01-18.wav'}\n",
      "📁 Processing file: extracted_audio/Actor_18/03-01-08-01-02-01-18.wav\n"
     ]
    },
    {
     "name": "stderr",
     "output_type": "stream",
     "text": [
      "/Library/Frameworks/Python.framework/Versions/3.12/lib/python3.12/site-packages/whisper/transcribe.py:126: UserWarning: FP16 is not supported on CPU; using FP32 instead\n",
      "  warnings.warn(\"FP16 is not supported on CPU; using FP32 instead\")\n"
     ]
    },
    {
     "name": "stdout",
     "output_type": "stream",
     "text": [
      "🔊 Transcript for extracted_audio/Actor_18/03-01-08-01-02-01-18.wav:  Dogs are sitting by the door....\n",
      "📝 NLP features for extracted_audio/Actor_18/03-01-08-01-02-01-18.wav: {'num_words': 6, 'num_hesitations': 0, 'hesitation_ratio': 0.0, 'avg_sentence_length': np.float64(6.0)}\n",
      "🎧 Audio features for extracted_audio/Actor_18/03-01-08-01-02-01-18.wav: {'duration_sec': 3.5035374149659866, 'pitch_std': np.float64(83.42130372828134), 'tempo_bpm': array([234.90767045])}\n",
      "✅ Combined features for extracted_audio/Actor_18/03-01-08-01-02-01-18.wav: {'num_words': 6, 'num_hesitations': 0, 'hesitation_ratio': 0.0, 'avg_sentence_length': np.float64(6.0), 'duration_sec': 3.5035374149659866, 'pitch_std': np.float64(83.42130372828134), 'tempo_bpm': array([234.90767045]), 'file': '03-01-08-01-02-01-18.wav'}\n",
      "📁 Processing file: extracted_audio/Actor_18/03-01-05-01-02-02-18.wav\n"
     ]
    },
    {
     "name": "stderr",
     "output_type": "stream",
     "text": [
      "/Library/Frameworks/Python.framework/Versions/3.12/lib/python3.12/site-packages/whisper/transcribe.py:126: UserWarning: FP16 is not supported on CPU; using FP32 instead\n",
      "  warnings.warn(\"FP16 is not supported on CPU; using FP32 instead\")\n"
     ]
    },
    {
     "name": "stdout",
     "output_type": "stream",
     "text": [
      "🔊 Transcript for extracted_audio/Actor_18/03-01-05-01-02-02-18.wav:  Dogs are sitting by the door....\n",
      "📝 NLP features for extracted_audio/Actor_18/03-01-05-01-02-02-18.wav: {'num_words': 6, 'num_hesitations': 0, 'hesitation_ratio': 0.0, 'avg_sentence_length': np.float64(6.0)}\n",
      "🎧 Audio features for extracted_audio/Actor_18/03-01-05-01-02-02-18.wav: {'duration_sec': 3.6370068027210882, 'pitch_std': np.float64(86.94675121896302), 'tempo_bpm': array([215.33203125])}\n",
      "✅ Combined features for extracted_audio/Actor_18/03-01-05-01-02-02-18.wav: {'num_words': 6, 'num_hesitations': 0, 'hesitation_ratio': 0.0, 'avg_sentence_length': np.float64(6.0), 'duration_sec': 3.6370068027210882, 'pitch_std': np.float64(86.94675121896302), 'tempo_bpm': array([215.33203125]), 'file': '03-01-05-01-02-02-18.wav'}\n",
      "📁 Processing file: extracted_audio/Actor_18/03-01-06-01-02-01-18.wav\n"
     ]
    },
    {
     "name": "stderr",
     "output_type": "stream",
     "text": [
      "/Library/Frameworks/Python.framework/Versions/3.12/lib/python3.12/site-packages/whisper/transcribe.py:126: UserWarning: FP16 is not supported on CPU; using FP32 instead\n",
      "  warnings.warn(\"FP16 is not supported on CPU; using FP32 instead\")\n"
     ]
    },
    {
     "name": "stdout",
     "output_type": "stream",
     "text": [
      "🔊 Transcript for extracted_audio/Actor_18/03-01-06-01-02-01-18.wav:  Dogs are sitting by the door....\n",
      "📝 NLP features for extracted_audio/Actor_18/03-01-06-01-02-01-18.wav: {'num_words': 6, 'num_hesitations': 0, 'hesitation_ratio': 0.0, 'avg_sentence_length': np.float64(6.0)}\n",
      "🎧 Audio features for extracted_audio/Actor_18/03-01-06-01-02-01-18.wav: {'duration_sec': 3.47015873015873, 'pitch_std': np.float64(94.19683381335847), 'tempo_bpm': array([75.99954044])}\n",
      "✅ Combined features for extracted_audio/Actor_18/03-01-06-01-02-01-18.wav: {'num_words': 6, 'num_hesitations': 0, 'hesitation_ratio': 0.0, 'avg_sentence_length': np.float64(6.0), 'duration_sec': 3.47015873015873, 'pitch_std': np.float64(94.19683381335847), 'tempo_bpm': array([75.99954044]), 'file': '03-01-06-01-02-01-18.wav'}\n",
      "📁 Processing file: extracted_audio/Actor_18/03-01-06-02-01-01-18.wav\n"
     ]
    },
    {
     "name": "stderr",
     "output_type": "stream",
     "text": [
      "/Library/Frameworks/Python.framework/Versions/3.12/lib/python3.12/site-packages/whisper/transcribe.py:126: UserWarning: FP16 is not supported on CPU; using FP32 instead\n",
      "  warnings.warn(\"FP16 is not supported on CPU; using FP32 instead\")\n"
     ]
    },
    {
     "name": "stdout",
     "output_type": "stream",
     "text": [
      "🔊 Transcript for extracted_audio/Actor_18/03-01-06-02-01-01-18.wav:  Kids are talking by the door!...\n",
      "📝 NLP features for extracted_audio/Actor_18/03-01-06-02-01-01-18.wav: {'num_words': 6, 'num_hesitations': 0, 'hesitation_ratio': 0.0, 'avg_sentence_length': np.float64(6.0)}\n",
      "🎧 Audio features for extracted_audio/Actor_18/03-01-06-02-01-01-18.wav: {'duration_sec': 3.737097505668934, 'pitch_std': np.float64(74.87151660116777), 'tempo_bpm': array([73.828125])}\n",
      "✅ Combined features for extracted_audio/Actor_18/03-01-06-02-01-01-18.wav: {'num_words': 6, 'num_hesitations': 0, 'hesitation_ratio': 0.0, 'avg_sentence_length': np.float64(6.0), 'duration_sec': 3.737097505668934, 'pitch_std': np.float64(74.87151660116777), 'tempo_bpm': array([73.828125]), 'file': '03-01-06-02-01-01-18.wav'}\n",
      "📁 Processing file: extracted_audio/Actor_18/03-01-05-02-01-02-18.wav\n"
     ]
    },
    {
     "name": "stderr",
     "output_type": "stream",
     "text": [
      "/Library/Frameworks/Python.framework/Versions/3.12/lib/python3.12/site-packages/whisper/transcribe.py:126: UserWarning: FP16 is not supported on CPU; using FP32 instead\n",
      "  warnings.warn(\"FP16 is not supported on CPU; using FP32 instead\")\n"
     ]
    },
    {
     "name": "stdout",
     "output_type": "stream",
     "text": [
      "🔊 Transcript for extracted_audio/Actor_18/03-01-05-02-01-02-18.wav:  Kids are talking by the door!...\n",
      "📝 NLP features for extracted_audio/Actor_18/03-01-05-02-01-02-18.wav: {'num_words': 6, 'num_hesitations': 0, 'hesitation_ratio': 0.0, 'avg_sentence_length': np.float64(6.0)}\n",
      "🎧 Audio features for extracted_audio/Actor_18/03-01-05-02-01-02-18.wav: {'duration_sec': 3.7704761904761903, 'pitch_std': np.float64(98.07322133847934), 'tempo_bpm': array([123.046875])}\n",
      "✅ Combined features for extracted_audio/Actor_18/03-01-05-02-01-02-18.wav: {'num_words': 6, 'num_hesitations': 0, 'hesitation_ratio': 0.0, 'avg_sentence_length': np.float64(6.0), 'duration_sec': 3.7704761904761903, 'pitch_std': np.float64(98.07322133847934), 'tempo_bpm': array([123.046875]), 'file': '03-01-05-02-01-02-18.wav'}\n",
      "📁 Processing file: extracted_audio/Actor_18/03-01-07-01-01-02-18.wav\n"
     ]
    },
    {
     "name": "stderr",
     "output_type": "stream",
     "text": [
      "/Library/Frameworks/Python.framework/Versions/3.12/lib/python3.12/site-packages/whisper/transcribe.py:126: UserWarning: FP16 is not supported on CPU; using FP32 instead\n",
      "  warnings.warn(\"FP16 is not supported on CPU; using FP32 instead\")\n"
     ]
    },
    {
     "name": "stdout",
     "output_type": "stream",
     "text": [
      "🔊 Transcript for extracted_audio/Actor_18/03-01-07-01-01-02-18.wav:  Kids are talking by the door....\n",
      "📝 NLP features for extracted_audio/Actor_18/03-01-07-01-01-02-18.wav: {'num_words': 6, 'num_hesitations': 0, 'hesitation_ratio': 0.0, 'avg_sentence_length': np.float64(6.0)}\n",
      "🎧 Audio features for extracted_audio/Actor_18/03-01-07-01-01-02-18.wav: {'duration_sec': 4.070793650793651, 'pitch_std': np.float64(88.24831442987943), 'tempo_bpm': array([161.49902344])}\n",
      "✅ Combined features for extracted_audio/Actor_18/03-01-07-01-01-02-18.wav: {'num_words': 6, 'num_hesitations': 0, 'hesitation_ratio': 0.0, 'avg_sentence_length': np.float64(6.0), 'duration_sec': 4.070793650793651, 'pitch_std': np.float64(88.24831442987943), 'tempo_bpm': array([161.49902344]), 'file': '03-01-07-01-01-02-18.wav'}\n",
      "📁 Processing file: extracted_audio/Actor_18/03-01-04-01-01-01-18.wav\n"
     ]
    },
    {
     "name": "stderr",
     "output_type": "stream",
     "text": [
      "/Library/Frameworks/Python.framework/Versions/3.12/lib/python3.12/site-packages/whisper/transcribe.py:126: UserWarning: FP16 is not supported on CPU; using FP32 instead\n",
      "  warnings.warn(\"FP16 is not supported on CPU; using FP32 instead\")\n"
     ]
    },
    {
     "name": "stdout",
     "output_type": "stream",
     "text": [
      "🔊 Transcript for extracted_audio/Actor_18/03-01-04-01-01-01-18.wav:  Kids are talking by the door....\n",
      "📝 NLP features for extracted_audio/Actor_18/03-01-04-01-01-01-18.wav: {'num_words': 6, 'num_hesitations': 0, 'hesitation_ratio': 0.0, 'avg_sentence_length': np.float64(6.0)}\n",
      "🎧 Audio features for extracted_audio/Actor_18/03-01-04-01-01-01-18.wav: {'duration_sec': 3.570249433106576, 'pitch_std': np.float64(88.33396435294624), 'tempo_bpm': array([135.99917763])}\n",
      "✅ Combined features for extracted_audio/Actor_18/03-01-04-01-01-01-18.wav: {'num_words': 6, 'num_hesitations': 0, 'hesitation_ratio': 0.0, 'avg_sentence_length': np.float64(6.0), 'duration_sec': 3.570249433106576, 'pitch_std': np.float64(88.33396435294624), 'tempo_bpm': array([135.99917763]), 'file': '03-01-04-01-01-01-18.wav'}\n",
      "📁 Processing file: extracted_audio/Actor_18/03-01-04-02-02-01-18.wav\n"
     ]
    },
    {
     "name": "stderr",
     "output_type": "stream",
     "text": [
      "/Library/Frameworks/Python.framework/Versions/3.12/lib/python3.12/site-packages/whisper/transcribe.py:126: UserWarning: FP16 is not supported on CPU; using FP32 instead\n",
      "  warnings.warn(\"FP16 is not supported on CPU; using FP32 instead\")\n"
     ]
    },
    {
     "name": "stdout",
     "output_type": "stream",
     "text": [
      "🔊 Transcript for extracted_audio/Actor_18/03-01-04-02-02-01-18.wav:  Dogs are sitting by the door!...\n",
      "📝 NLP features for extracted_audio/Actor_18/03-01-04-02-02-01-18.wav: {'num_words': 6, 'num_hesitations': 0, 'hesitation_ratio': 0.0, 'avg_sentence_length': np.float64(6.0)}\n",
      "🎧 Audio features for extracted_audio/Actor_18/03-01-04-02-02-01-18.wav: {'duration_sec': 4.13750566893424, 'pitch_std': np.float64(76.4410126452565), 'tempo_bpm': array([95.703125])}\n",
      "✅ Combined features for extracted_audio/Actor_18/03-01-04-02-02-01-18.wav: {'num_words': 6, 'num_hesitations': 0, 'hesitation_ratio': 0.0, 'avg_sentence_length': np.float64(6.0), 'duration_sec': 4.13750566893424, 'pitch_std': np.float64(76.4410126452565), 'tempo_bpm': array([95.703125]), 'file': '03-01-04-02-02-01-18.wav'}\n",
      "📁 Processing file: extracted_audio/Actor_18/03-01-07-02-02-02-18.wav\n"
     ]
    },
    {
     "name": "stderr",
     "output_type": "stream",
     "text": [
      "/Library/Frameworks/Python.framework/Versions/3.12/lib/python3.12/site-packages/whisper/transcribe.py:126: UserWarning: FP16 is not supported on CPU; using FP32 instead\n",
      "  warnings.warn(\"FP16 is not supported on CPU; using FP32 instead\")\n"
     ]
    },
    {
     "name": "stdout",
     "output_type": "stream",
     "text": [
      "🔊 Transcript for extracted_audio/Actor_18/03-01-07-02-02-02-18.wav:  Doctor's sitting by the door!...\n",
      "📝 NLP features for extracted_audio/Actor_18/03-01-07-02-02-02-18.wav: {'num_words': 5, 'num_hesitations': 0, 'hesitation_ratio': 0.0, 'avg_sentence_length': np.float64(5.0)}\n",
      "🎧 Audio features for extracted_audio/Actor_18/03-01-07-02-02-02-18.wav: {'duration_sec': 4.5712471655328795, 'pitch_std': np.float64(93.9546872296097), 'tempo_bpm': array([92.28515625])}\n",
      "✅ Combined features for extracted_audio/Actor_18/03-01-07-02-02-02-18.wav: {'num_words': 5, 'num_hesitations': 0, 'hesitation_ratio': 0.0, 'avg_sentence_length': np.float64(5.0), 'duration_sec': 4.5712471655328795, 'pitch_std': np.float64(93.9546872296097), 'tempo_bpm': array([92.28515625]), 'file': '03-01-07-02-02-02-18.wav'}\n",
      "📁 Processing file: extracted_audio/Actor_18/03-01-08-02-02-02-18.wav\n"
     ]
    },
    {
     "name": "stderr",
     "output_type": "stream",
     "text": [
      "/Library/Frameworks/Python.framework/Versions/3.12/lib/python3.12/site-packages/whisper/transcribe.py:126: UserWarning: FP16 is not supported on CPU; using FP32 instead\n",
      "  warnings.warn(\"FP16 is not supported on CPU; using FP32 instead\")\n"
     ]
    },
    {
     "name": "stdout",
     "output_type": "stream",
     "text": [
      "🔊 Transcript for extracted_audio/Actor_18/03-01-08-02-02-02-18.wav:  Dogs are sitting by the door?...\n",
      "📝 NLP features for extracted_audio/Actor_18/03-01-08-02-02-02-18.wav: {'num_words': 6, 'num_hesitations': 0, 'hesitation_ratio': 0.0, 'avg_sentence_length': np.float64(6.0)}\n",
      "🎧 Audio features for extracted_audio/Actor_18/03-01-08-02-02-02-18.wav: {'duration_sec': 3.6369614512471657, 'pitch_std': np.float64(93.72426394209965), 'tempo_bpm': array([103.359375])}\n",
      "✅ Combined features for extracted_audio/Actor_18/03-01-08-02-02-02-18.wav: {'num_words': 6, 'num_hesitations': 0, 'hesitation_ratio': 0.0, 'avg_sentence_length': np.float64(6.0), 'duration_sec': 3.6369614512471657, 'pitch_std': np.float64(93.72426394209965), 'tempo_bpm': array([103.359375]), 'file': '03-01-08-02-02-02-18.wav'}\n",
      "📁 Processing file: extracted_audio/Actor_18/03-01-08-01-01-02-18.wav\n"
     ]
    },
    {
     "name": "stderr",
     "output_type": "stream",
     "text": [
      "/Library/Frameworks/Python.framework/Versions/3.12/lib/python3.12/site-packages/whisper/transcribe.py:126: UserWarning: FP16 is not supported on CPU; using FP32 instead\n",
      "  warnings.warn(\"FP16 is not supported on CPU; using FP32 instead\")\n"
     ]
    },
    {
     "name": "stdout",
     "output_type": "stream",
     "text": [
      "🔊 Transcript for extracted_audio/Actor_18/03-01-08-01-01-02-18.wav:  Kids are talking by the door....\n",
      "📝 NLP features for extracted_audio/Actor_18/03-01-08-01-01-02-18.wav: {'num_words': 6, 'num_hesitations': 0, 'hesitation_ratio': 0.0, 'avg_sentence_length': np.float64(6.0)}\n",
      "🎧 Audio features for extracted_audio/Actor_18/03-01-08-01-01-02-18.wav: {'duration_sec': 3.5035374149659866, 'pitch_std': np.float64(79.09438555646085), 'tempo_bpm': array([92.28515625])}\n",
      "✅ Combined features for extracted_audio/Actor_18/03-01-08-01-01-02-18.wav: {'num_words': 6, 'num_hesitations': 0, 'hesitation_ratio': 0.0, 'avg_sentence_length': np.float64(6.0), 'duration_sec': 3.5035374149659866, 'pitch_std': np.float64(79.09438555646085), 'tempo_bpm': array([92.28515625]), 'file': '03-01-08-01-01-02-18.wav'}\n",
      "📁 Processing file: extracted_audio/Actor_18/03-01-03-02-02-01-18.wav\n"
     ]
    },
    {
     "name": "stderr",
     "output_type": "stream",
     "text": [
      "/Library/Frameworks/Python.framework/Versions/3.12/lib/python3.12/site-packages/whisper/transcribe.py:126: UserWarning: FP16 is not supported on CPU; using FP32 instead\n",
      "  warnings.warn(\"FP16 is not supported on CPU; using FP32 instead\")\n"
     ]
    },
    {
     "name": "stdout",
     "output_type": "stream",
     "text": [
      "🔊 Transcript for extracted_audio/Actor_18/03-01-03-02-02-01-18.wav:  Does her sitting by the door?...\n",
      "📝 NLP features for extracted_audio/Actor_18/03-01-03-02-02-01-18.wav: {'num_words': 6, 'num_hesitations': 0, 'hesitation_ratio': 0.0, 'avg_sentence_length': np.float64(6.0)}\n",
      "🎧 Audio features for extracted_audio/Actor_18/03-01-03-02-02-01-18.wav: {'duration_sec': 3.7704761904761903, 'pitch_std': np.float64(91.31456775837535), 'tempo_bpm': array([129.19921875])}\n",
      "✅ Combined features for extracted_audio/Actor_18/03-01-03-02-02-01-18.wav: {'num_words': 6, 'num_hesitations': 0, 'hesitation_ratio': 0.0, 'avg_sentence_length': np.float64(6.0), 'duration_sec': 3.7704761904761903, 'pitch_std': np.float64(91.31456775837535), 'tempo_bpm': array([129.19921875]), 'file': '03-01-03-02-02-01-18.wav'}\n",
      "📁 Processing file: extracted_audio/Actor_18/03-01-03-01-01-01-18.wav\n"
     ]
    },
    {
     "name": "stderr",
     "output_type": "stream",
     "text": [
      "/Library/Frameworks/Python.framework/Versions/3.12/lib/python3.12/site-packages/whisper/transcribe.py:126: UserWarning: FP16 is not supported on CPU; using FP32 instead\n",
      "  warnings.warn(\"FP16 is not supported on CPU; using FP32 instead\")\n"
     ]
    },
    {
     "name": "stdout",
     "output_type": "stream",
     "text": [
      "🔊 Transcript for extracted_audio/Actor_18/03-01-03-01-01-01-18.wav:  Kids are talking by the door....\n",
      "📝 NLP features for extracted_audio/Actor_18/03-01-03-01-01-01-18.wav: {'num_words': 6, 'num_hesitations': 0, 'hesitation_ratio': 0.0, 'avg_sentence_length': np.float64(6.0)}\n",
      "🎧 Audio features for extracted_audio/Actor_18/03-01-03-01-01-01-18.wav: {'duration_sec': 3.4034013605442177, 'pitch_std': np.float64(84.5854673424612), 'tempo_bpm': array([95.703125])}\n",
      "✅ Combined features for extracted_audio/Actor_18/03-01-03-01-01-01-18.wav: {'num_words': 6, 'num_hesitations': 0, 'hesitation_ratio': 0.0, 'avg_sentence_length': np.float64(6.0), 'duration_sec': 3.4034013605442177, 'pitch_std': np.float64(84.5854673424612), 'tempo_bpm': array([95.703125]), 'file': '03-01-03-01-01-01-18.wav'}\n",
      "📁 Processing file: extracted_audio/Actor_18/03-01-02-02-01-02-18.wav\n"
     ]
    },
    {
     "name": "stderr",
     "output_type": "stream",
     "text": [
      "/Library/Frameworks/Python.framework/Versions/3.12/lib/python3.12/site-packages/whisper/transcribe.py:126: UserWarning: FP16 is not supported on CPU; using FP32 instead\n",
      "  warnings.warn(\"FP16 is not supported on CPU; using FP32 instead\")\n"
     ]
    },
    {
     "name": "stdout",
     "output_type": "stream",
     "text": [
      "🔊 Transcript for extracted_audio/Actor_18/03-01-02-02-01-02-18.wav:  Kids are talking by the door....\n",
      "📝 NLP features for extracted_audio/Actor_18/03-01-02-02-01-02-18.wav: {'num_words': 6, 'num_hesitations': 0, 'hesitation_ratio': 0.0, 'avg_sentence_length': np.float64(6.0)}\n",
      "🎧 Audio features for extracted_audio/Actor_18/03-01-02-02-01-02-18.wav: {'duration_sec': 3.603628117913832, 'pitch_std': np.float64(62.016029636646316), 'tempo_bpm': array([95.703125])}\n",
      "✅ Combined features for extracted_audio/Actor_18/03-01-02-02-01-02-18.wav: {'num_words': 6, 'num_hesitations': 0, 'hesitation_ratio': 0.0, 'avg_sentence_length': np.float64(6.0), 'duration_sec': 3.603628117913832, 'pitch_std': np.float64(62.016029636646316), 'tempo_bpm': array([95.703125]), 'file': '03-01-02-02-01-02-18.wav'}\n",
      "📁 Processing file: extracted_audio/Actor_18/03-01-01-01-02-01-18.wav\n"
     ]
    },
    {
     "name": "stderr",
     "output_type": "stream",
     "text": [
      "/Library/Frameworks/Python.framework/Versions/3.12/lib/python3.12/site-packages/whisper/transcribe.py:126: UserWarning: FP16 is not supported on CPU; using FP32 instead\n",
      "  warnings.warn(\"FP16 is not supported on CPU; using FP32 instead\")\n"
     ]
    },
    {
     "name": "stdout",
     "output_type": "stream",
     "text": [
      "🔊 Transcript for extracted_audio/Actor_18/03-01-01-01-02-01-18.wav:  Dogs are sitting by the door....\n",
      "📝 NLP features for extracted_audio/Actor_18/03-01-01-01-02-01-18.wav: {'num_words': 6, 'num_hesitations': 0, 'hesitation_ratio': 0.0, 'avg_sentence_length': np.float64(6.0)}\n",
      "🎧 Audio features for extracted_audio/Actor_18/03-01-01-01-02-01-18.wav: {'duration_sec': 3.47015873015873, 'pitch_std': np.float64(67.99373988424945), 'tempo_bpm': array([69.83741554])}\n",
      "✅ Combined features for extracted_audio/Actor_18/03-01-01-01-02-01-18.wav: {'num_words': 6, 'num_hesitations': 0, 'hesitation_ratio': 0.0, 'avg_sentence_length': np.float64(6.0), 'duration_sec': 3.47015873015873, 'pitch_std': np.float64(67.99373988424945), 'tempo_bpm': array([69.83741554]), 'file': '03-01-01-01-02-01-18.wav'}\n",
      "📁 Processing file: extracted_audio/Actor_18/03-01-02-01-02-02-18.wav\n"
     ]
    },
    {
     "name": "stderr",
     "output_type": "stream",
     "text": [
      "/Library/Frameworks/Python.framework/Versions/3.12/lib/python3.12/site-packages/whisper/transcribe.py:126: UserWarning: FP16 is not supported on CPU; using FP32 instead\n",
      "  warnings.warn(\"FP16 is not supported on CPU; using FP32 instead\")\n"
     ]
    },
    {
     "name": "stdout",
     "output_type": "stream",
     "text": [
      "🔊 Transcript for extracted_audio/Actor_18/03-01-02-01-02-02-18.wav:  Dogs are sitting by the door....\n",
      "📝 NLP features for extracted_audio/Actor_18/03-01-02-01-02-02-18.wav: {'num_words': 6, 'num_hesitations': 0, 'hesitation_ratio': 0.0, 'avg_sentence_length': np.float64(6.0)}\n",
      "🎧 Audio features for extracted_audio/Actor_18/03-01-02-01-02-02-18.wav: {'duration_sec': 3.5035374149659866, 'pitch_std': np.float64(69.9688687653328), 'tempo_bpm': array([99.38401442])}\n",
      "✅ Combined features for extracted_audio/Actor_18/03-01-02-01-02-02-18.wav: {'num_words': 6, 'num_hesitations': 0, 'hesitation_ratio': 0.0, 'avg_sentence_length': np.float64(6.0), 'duration_sec': 3.5035374149659866, 'pitch_std': np.float64(69.9688687653328), 'tempo_bpm': array([99.38401442]), 'file': '03-01-02-01-02-02-18.wav'}\n",
      "📁 Processing file: extracted_audio/Actor_18/03-01-04-02-01-01-18.wav\n"
     ]
    },
    {
     "name": "stderr",
     "output_type": "stream",
     "text": [
      "/Library/Frameworks/Python.framework/Versions/3.12/lib/python3.12/site-packages/whisper/transcribe.py:126: UserWarning: FP16 is not supported on CPU; using FP32 instead\n",
      "  warnings.warn(\"FP16 is not supported on CPU; using FP32 instead\")\n"
     ]
    },
    {
     "name": "stdout",
     "output_type": "stream",
     "text": [
      "🔊 Transcript for extracted_audio/Actor_18/03-01-04-02-01-01-18.wav:  Kids are talking by the door!...\n",
      "📝 NLP features for extracted_audio/Actor_18/03-01-04-02-01-01-18.wav: {'num_words': 6, 'num_hesitations': 0, 'hesitation_ratio': 0.0, 'avg_sentence_length': np.float64(6.0)}\n",
      "🎧 Audio features for extracted_audio/Actor_18/03-01-04-02-01-01-18.wav: {'duration_sec': 3.803809523809524, 'pitch_std': np.float64(80.24984029397196), 'tempo_bpm': array([123.046875])}\n",
      "✅ Combined features for extracted_audio/Actor_18/03-01-04-02-01-01-18.wav: {'num_words': 6, 'num_hesitations': 0, 'hesitation_ratio': 0.0, 'avg_sentence_length': np.float64(6.0), 'duration_sec': 3.803809523809524, 'pitch_std': np.float64(80.24984029397196), 'tempo_bpm': array([123.046875]), 'file': '03-01-04-02-01-01-18.wav'}\n",
      "📁 Processing file: extracted_audio/Actor_18/03-01-07-02-01-02-18.wav\n"
     ]
    },
    {
     "name": "stderr",
     "output_type": "stream",
     "text": [
      "/Library/Frameworks/Python.framework/Versions/3.12/lib/python3.12/site-packages/whisper/transcribe.py:126: UserWarning: FP16 is not supported on CPU; using FP32 instead\n",
      "  warnings.warn(\"FP16 is not supported on CPU; using FP32 instead\")\n"
     ]
    },
    {
     "name": "stdout",
     "output_type": "stream",
     "text": [
      "🔊 Transcript for extracted_audio/Actor_18/03-01-07-02-01-02-18.wav:  Kids are talking by the door!...\n",
      "📝 NLP features for extracted_audio/Actor_18/03-01-07-02-01-02-18.wav: {'num_words': 6, 'num_hesitations': 0, 'hesitation_ratio': 0.0, 'avg_sentence_length': np.float64(6.0)}\n",
      "🎧 Audio features for extracted_audio/Actor_18/03-01-07-02-01-02-18.wav: {'duration_sec': 4.471156462585034, 'pitch_std': np.float64(91.58418376636165), 'tempo_bpm': array([151.99908088])}\n",
      "✅ Combined features for extracted_audio/Actor_18/03-01-07-02-01-02-18.wav: {'num_words': 6, 'num_hesitations': 0, 'hesitation_ratio': 0.0, 'avg_sentence_length': np.float64(6.0), 'duration_sec': 4.471156462585034, 'pitch_std': np.float64(91.58418376636165), 'tempo_bpm': array([151.99908088]), 'file': '03-01-07-02-01-02-18.wav'}\n",
      "📁 Processing file: extracted_audio/Actor_18/03-01-07-01-02-02-18.wav\n"
     ]
    },
    {
     "name": "stderr",
     "output_type": "stream",
     "text": [
      "/Library/Frameworks/Python.framework/Versions/3.12/lib/python3.12/site-packages/whisper/transcribe.py:126: UserWarning: FP16 is not supported on CPU; using FP32 instead\n",
      "  warnings.warn(\"FP16 is not supported on CPU; using FP32 instead\")\n"
     ]
    },
    {
     "name": "stdout",
     "output_type": "stream",
     "text": [
      "🔊 Transcript for extracted_audio/Actor_18/03-01-07-01-02-02-18.wav:  Dogs are sitting by the door....\n",
      "📝 NLP features for extracted_audio/Actor_18/03-01-07-01-02-02-18.wav: {'num_words': 6, 'num_hesitations': 0, 'hesitation_ratio': 0.0, 'avg_sentence_length': np.float64(6.0)}\n",
      "🎧 Audio features for extracted_audio/Actor_18/03-01-07-01-02-02-18.wav: {'duration_sec': 4.3710657596371885, 'pitch_std': np.float64(88.71783628889622), 'tempo_bpm': array([161.49902344])}\n",
      "✅ Combined features for extracted_audio/Actor_18/03-01-07-01-02-02-18.wav: {'num_words': 6, 'num_hesitations': 0, 'hesitation_ratio': 0.0, 'avg_sentence_length': np.float64(6.0), 'duration_sec': 4.3710657596371885, 'pitch_std': np.float64(88.71783628889622), 'tempo_bpm': array([161.49902344]), 'file': '03-01-07-01-02-02-18.wav'}\n",
      "📁 Processing file: extracted_audio/Actor_18/03-01-04-01-02-01-18.wav\n"
     ]
    },
    {
     "name": "stderr",
     "output_type": "stream",
     "text": [
      "/Library/Frameworks/Python.framework/Versions/3.12/lib/python3.12/site-packages/whisper/transcribe.py:126: UserWarning: FP16 is not supported on CPU; using FP32 instead\n",
      "  warnings.warn(\"FP16 is not supported on CPU; using FP32 instead\")\n"
     ]
    },
    {
     "name": "stdout",
     "output_type": "stream",
     "text": [
      "🔊 Transcript for extracted_audio/Actor_18/03-01-04-01-02-01-18.wav:  Dogs are sitting by the door....\n",
      "📝 NLP features for extracted_audio/Actor_18/03-01-04-01-02-01-18.wav: {'num_words': 6, 'num_hesitations': 0, 'hesitation_ratio': 0.0, 'avg_sentence_length': np.float64(6.0)}\n",
      "🎧 Audio features for extracted_audio/Actor_18/03-01-04-01-02-01-18.wav: {'duration_sec': 3.5369160997732427, 'pitch_std': np.float64(74.93146390380767), 'tempo_bpm': array([103.359375])}\n",
      "✅ Combined features for extracted_audio/Actor_18/03-01-04-01-02-01-18.wav: {'num_words': 6, 'num_hesitations': 0, 'hesitation_ratio': 0.0, 'avg_sentence_length': np.float64(6.0), 'duration_sec': 3.5369160997732427, 'pitch_std': np.float64(74.93146390380767), 'tempo_bpm': array([103.359375]), 'file': '03-01-04-01-02-01-18.wav'}\n",
      "📁 Processing file: extracted_audio/Actor_18/03-01-06-02-02-01-18.wav\n"
     ]
    },
    {
     "name": "stderr",
     "output_type": "stream",
     "text": [
      "/Library/Frameworks/Python.framework/Versions/3.12/lib/python3.12/site-packages/whisper/transcribe.py:126: UserWarning: FP16 is not supported on CPU; using FP32 instead\n",
      "  warnings.warn(\"FP16 is not supported on CPU; using FP32 instead\")\n"
     ]
    },
    {
     "name": "stdout",
     "output_type": "stream",
     "text": [
      "🔊 Transcript for extracted_audio/Actor_18/03-01-06-02-02-01-18.wav:  Dogs are sitting by the door!...\n",
      "📝 NLP features for extracted_audio/Actor_18/03-01-06-02-02-01-18.wav: {'num_words': 6, 'num_hesitations': 0, 'hesitation_ratio': 0.0, 'avg_sentence_length': np.float64(6.0)}\n",
      "🎧 Audio features for extracted_audio/Actor_18/03-01-06-02-02-01-18.wav: {'duration_sec': 3.803854875283447, 'pitch_std': np.float64(76.57434998797943), 'tempo_bpm': array([123.046875])}\n",
      "✅ Combined features for extracted_audio/Actor_18/03-01-06-02-02-01-18.wav: {'num_words': 6, 'num_hesitations': 0, 'hesitation_ratio': 0.0, 'avg_sentence_length': np.float64(6.0), 'duration_sec': 3.803854875283447, 'pitch_std': np.float64(76.57434998797943), 'tempo_bpm': array([123.046875]), 'file': '03-01-06-02-02-01-18.wav'}\n",
      "📁 Processing file: extracted_audio/Actor_18/03-01-05-02-02-02-18.wav\n"
     ]
    },
    {
     "name": "stderr",
     "output_type": "stream",
     "text": [
      "/Library/Frameworks/Python.framework/Versions/3.12/lib/python3.12/site-packages/whisper/transcribe.py:126: UserWarning: FP16 is not supported on CPU; using FP32 instead\n",
      "  warnings.warn(\"FP16 is not supported on CPU; using FP32 instead\")\n"
     ]
    },
    {
     "name": "stdout",
     "output_type": "stream",
     "text": [
      "🔊 Transcript for extracted_audio/Actor_18/03-01-05-02-02-02-18.wav:  Dogs are sitting by the door!...\n",
      "📝 NLP features for extracted_audio/Actor_18/03-01-05-02-02-02-18.wav: {'num_words': 6, 'num_hesitations': 0, 'hesitation_ratio': 0.0, 'avg_sentence_length': np.float64(6.0)}\n",
      "🎧 Audio features for extracted_audio/Actor_18/03-01-05-02-02-02-18.wav: {'duration_sec': 4.237596371882086, 'pitch_std': np.float64(91.72886634656926), 'tempo_bpm': array([75.99954044])}\n",
      "✅ Combined features for extracted_audio/Actor_18/03-01-05-02-02-02-18.wav: {'num_words': 6, 'num_hesitations': 0, 'hesitation_ratio': 0.0, 'avg_sentence_length': np.float64(6.0), 'duration_sec': 4.237596371882086, 'pitch_std': np.float64(91.72886634656926), 'tempo_bpm': array([75.99954044]), 'file': '03-01-05-02-02-02-18.wav'}\n",
      "📁 Processing file: extracted_audio/Actor_18/03-01-05-01-01-02-18.wav\n"
     ]
    },
    {
     "name": "stderr",
     "output_type": "stream",
     "text": [
      "/Library/Frameworks/Python.framework/Versions/3.12/lib/python3.12/site-packages/whisper/transcribe.py:126: UserWarning: FP16 is not supported on CPU; using FP32 instead\n",
      "  warnings.warn(\"FP16 is not supported on CPU; using FP32 instead\")\n"
     ]
    },
    {
     "name": "stdout",
     "output_type": "stream",
     "text": [
      "🔊 Transcript for extracted_audio/Actor_18/03-01-05-01-01-02-18.wav:  Kids are talking by the door....\n",
      "📝 NLP features for extracted_audio/Actor_18/03-01-05-01-01-02-18.wav: {'num_words': 6, 'num_hesitations': 0, 'hesitation_ratio': 0.0, 'avg_sentence_length': np.float64(6.0)}\n",
      "🎧 Audio features for extracted_audio/Actor_18/03-01-05-01-01-02-18.wav: {'duration_sec': 4.170839002267574, 'pitch_std': np.float64(88.50195941147601), 'tempo_bpm': array([95.703125])}\n",
      "✅ Combined features for extracted_audio/Actor_18/03-01-05-01-01-02-18.wav: {'num_words': 6, 'num_hesitations': 0, 'hesitation_ratio': 0.0, 'avg_sentence_length': np.float64(6.0), 'duration_sec': 4.170839002267574, 'pitch_std': np.float64(88.50195941147601), 'tempo_bpm': array([95.703125]), 'file': '03-01-05-01-01-02-18.wav'}\n",
      "📁 Processing file: extracted_audio/Actor_18/03-01-06-01-01-01-18.wav\n"
     ]
    },
    {
     "name": "stderr",
     "output_type": "stream",
     "text": [
      "/Library/Frameworks/Python.framework/Versions/3.12/lib/python3.12/site-packages/whisper/transcribe.py:126: UserWarning: FP16 is not supported on CPU; using FP32 instead\n",
      "  warnings.warn(\"FP16 is not supported on CPU; using FP32 instead\")\n"
     ]
    },
    {
     "name": "stdout",
     "output_type": "stream",
     "text": [
      "🔊 Transcript for extracted_audio/Actor_18/03-01-06-01-01-01-18.wav:  Kids are talking by the door....\n",
      "📝 NLP features for extracted_audio/Actor_18/03-01-06-01-01-01-18.wav: {'num_words': 6, 'num_hesitations': 0, 'hesitation_ratio': 0.0, 'avg_sentence_length': np.float64(6.0)}\n",
      "🎧 Audio features for extracted_audio/Actor_18/03-01-06-01-01-01-18.wav: {'duration_sec': 3.436780045351474, 'pitch_std': np.float64(101.39110863014425), 'tempo_bpm': array([80.74951172])}\n",
      "✅ Combined features for extracted_audio/Actor_18/03-01-06-01-01-01-18.wav: {'num_words': 6, 'num_hesitations': 0, 'hesitation_ratio': 0.0, 'avg_sentence_length': np.float64(6.0), 'duration_sec': 3.436780045351474, 'pitch_std': np.float64(101.39110863014425), 'tempo_bpm': array([80.74951172]), 'file': '03-01-06-01-01-01-18.wav'}\n",
      "📁 Processing file: extracted_audio/Actor_18/03-01-08-01-02-02-18.wav\n"
     ]
    },
    {
     "name": "stderr",
     "output_type": "stream",
     "text": [
      "/Library/Frameworks/Python.framework/Versions/3.12/lib/python3.12/site-packages/whisper/transcribe.py:126: UserWarning: FP16 is not supported on CPU; using FP32 instead\n",
      "  warnings.warn(\"FP16 is not supported on CPU; using FP32 instead\")\n"
     ]
    },
    {
     "name": "stdout",
     "output_type": "stream",
     "text": [
      "🔊 Transcript for extracted_audio/Actor_18/03-01-08-01-02-02-18.wav:  Dogs are sitting by the door....\n",
      "📝 NLP features for extracted_audio/Actor_18/03-01-08-01-02-02-18.wav: {'num_words': 6, 'num_hesitations': 0, 'hesitation_ratio': 0.0, 'avg_sentence_length': np.float64(6.0)}\n",
      "🎧 Audio features for extracted_audio/Actor_18/03-01-08-01-02-02-18.wav: {'duration_sec': 3.5035374149659866, 'pitch_std': np.float64(87.85330454838797), 'tempo_bpm': array([54.97839096])}\n",
      "✅ Combined features for extracted_audio/Actor_18/03-01-08-01-02-02-18.wav: {'num_words': 6, 'num_hesitations': 0, 'hesitation_ratio': 0.0, 'avg_sentence_length': np.float64(6.0), 'duration_sec': 3.5035374149659866, 'pitch_std': np.float64(87.85330454838797), 'tempo_bpm': array([54.97839096]), 'file': '03-01-08-01-02-02-18.wav'}\n",
      "📁 Processing file: extracted_audio/Actor_18/03-01-08-02-01-02-18.wav\n"
     ]
    },
    {
     "name": "stderr",
     "output_type": "stream",
     "text": [
      "/Library/Frameworks/Python.framework/Versions/3.12/lib/python3.12/site-packages/whisper/transcribe.py:126: UserWarning: FP16 is not supported on CPU; using FP32 instead\n",
      "  warnings.warn(\"FP16 is not supported on CPU; using FP32 instead\")\n"
     ]
    },
    {
     "name": "stdout",
     "output_type": "stream",
     "text": [
      "🔊 Transcript for extracted_audio/Actor_18/03-01-08-02-01-02-18.wav:  Kids are talking by the door?...\n",
      "📝 NLP features for extracted_audio/Actor_18/03-01-08-02-01-02-18.wav: {'num_words': 6, 'num_hesitations': 0, 'hesitation_ratio': 0.0, 'avg_sentence_length': np.float64(6.0)}\n",
      "🎧 Audio features for extracted_audio/Actor_18/03-01-08-02-01-02-18.wav: {'duration_sec': 3.5369160997732427, 'pitch_std': np.float64(95.43971025762677), 'tempo_bpm': array([95.703125])}\n",
      "✅ Combined features for extracted_audio/Actor_18/03-01-08-02-01-02-18.wav: {'num_words': 6, 'num_hesitations': 0, 'hesitation_ratio': 0.0, 'avg_sentence_length': np.float64(6.0), 'duration_sec': 3.5369160997732427, 'pitch_std': np.float64(95.43971025762677), 'tempo_bpm': array([95.703125]), 'file': '03-01-08-02-01-02-18.wav'}\n",
      "📁 Processing file: extracted_audio/Actor_18/03-01-01-01-01-01-18.wav\n"
     ]
    },
    {
     "name": "stderr",
     "output_type": "stream",
     "text": [
      "/Library/Frameworks/Python.framework/Versions/3.12/lib/python3.12/site-packages/whisper/transcribe.py:126: UserWarning: FP16 is not supported on CPU; using FP32 instead\n",
      "  warnings.warn(\"FP16 is not supported on CPU; using FP32 instead\")\n"
     ]
    },
    {
     "name": "stdout",
     "output_type": "stream",
     "text": [
      "🔊 Transcript for extracted_audio/Actor_18/03-01-01-01-01-01-18.wav:  Kids are talking by the door....\n",
      "📝 NLP features for extracted_audio/Actor_18/03-01-01-01-01-01-18.wav: {'num_words': 6, 'num_hesitations': 0, 'hesitation_ratio': 0.0, 'avg_sentence_length': np.float64(6.0)}\n",
      "🎧 Audio features for extracted_audio/Actor_18/03-01-01-01-01-01-18.wav: {'duration_sec': 3.47015873015873, 'pitch_std': np.float64(66.85926780593027), 'tempo_bpm': array([143.5546875])}\n",
      "✅ Combined features for extracted_audio/Actor_18/03-01-01-01-01-01-18.wav: {'num_words': 6, 'num_hesitations': 0, 'hesitation_ratio': 0.0, 'avg_sentence_length': np.float64(6.0), 'duration_sec': 3.47015873015873, 'pitch_std': np.float64(66.85926780593027), 'tempo_bpm': array([143.5546875]), 'file': '03-01-01-01-01-01-18.wav'}\n",
      "📁 Processing file: extracted_audio/Actor_18/03-01-02-01-01-02-18.wav\n"
     ]
    },
    {
     "name": "stderr",
     "output_type": "stream",
     "text": [
      "/Library/Frameworks/Python.framework/Versions/3.12/lib/python3.12/site-packages/whisper/transcribe.py:126: UserWarning: FP16 is not supported on CPU; using FP32 instead\n",
      "  warnings.warn(\"FP16 is not supported on CPU; using FP32 instead\")\n"
     ]
    },
    {
     "name": "stdout",
     "output_type": "stream",
     "text": [
      "🔊 Transcript for extracted_audio/Actor_18/03-01-02-01-01-02-18.wav:  Kids are talking by the door....\n",
      "📝 NLP features for extracted_audio/Actor_18/03-01-02-01-01-02-18.wav: {'num_words': 6, 'num_hesitations': 0, 'hesitation_ratio': 0.0, 'avg_sentence_length': np.float64(6.0)}\n",
      "🎧 Audio features for extracted_audio/Actor_18/03-01-02-01-01-02-18.wav: {'duration_sec': 3.4034467120181406, 'pitch_std': np.float64(65.48844574456754), 'tempo_bpm': array([151.99908088])}\n",
      "✅ Combined features for extracted_audio/Actor_18/03-01-02-01-01-02-18.wav: {'num_words': 6, 'num_hesitations': 0, 'hesitation_ratio': 0.0, 'avg_sentence_length': np.float64(6.0), 'duration_sec': 3.4034467120181406, 'pitch_std': np.float64(65.48844574456754), 'tempo_bpm': array([151.99908088]), 'file': '03-01-02-01-01-02-18.wav'}\n",
      "📁 Processing file: extracted_audio/Actor_18/03-01-02-02-02-02-18.wav\n"
     ]
    },
    {
     "name": "stderr",
     "output_type": "stream",
     "text": [
      "/Library/Frameworks/Python.framework/Versions/3.12/lib/python3.12/site-packages/whisper/transcribe.py:126: UserWarning: FP16 is not supported on CPU; using FP32 instead\n",
      "  warnings.warn(\"FP16 is not supported on CPU; using FP32 instead\")\n"
     ]
    },
    {
     "name": "stdout",
     "output_type": "stream",
     "text": [
      "🔊 Transcript for extracted_audio/Actor_18/03-01-02-02-02-02-18.wav:  Dogs are sitting by the door....\n",
      "📝 NLP features for extracted_audio/Actor_18/03-01-02-02-02-02-18.wav: {'num_words': 6, 'num_hesitations': 0, 'hesitation_ratio': 0.0, 'avg_sentence_length': np.float64(6.0)}\n",
      "🎧 Audio features for extracted_audio/Actor_18/03-01-02-02-02-02-18.wav: {'duration_sec': 3.603628117913832, 'pitch_std': np.float64(66.1047343906064), 'tempo_bpm': array([184.5703125])}\n",
      "✅ Combined features for extracted_audio/Actor_18/03-01-02-02-02-02-18.wav: {'num_words': 6, 'num_hesitations': 0, 'hesitation_ratio': 0.0, 'avg_sentence_length': np.float64(6.0), 'duration_sec': 3.603628117913832, 'pitch_std': np.float64(66.1047343906064), 'tempo_bpm': array([184.5703125]), 'file': '03-01-02-02-02-02-18.wav'}\n",
      "📁 Processing file: extracted_audio/Actor_18/03-01-03-01-02-01-18.wav\n"
     ]
    },
    {
     "name": "stderr",
     "output_type": "stream",
     "text": [
      "/Library/Frameworks/Python.framework/Versions/3.12/lib/python3.12/site-packages/whisper/transcribe.py:126: UserWarning: FP16 is not supported on CPU; using FP32 instead\n",
      "  warnings.warn(\"FP16 is not supported on CPU; using FP32 instead\")\n"
     ]
    },
    {
     "name": "stdout",
     "output_type": "stream",
     "text": [
      "🔊 Transcript for extracted_audio/Actor_18/03-01-03-01-02-01-18.wav:  Dogs are sitting by the door....\n",
      "📝 NLP features for extracted_audio/Actor_18/03-01-03-01-02-01-18.wav: {'num_words': 6, 'num_hesitations': 0, 'hesitation_ratio': 0.0, 'avg_sentence_length': np.float64(6.0)}\n",
      "🎧 Audio features for extracted_audio/Actor_18/03-01-03-01-02-01-18.wav: {'duration_sec': 3.436780045351474, 'pitch_std': np.float64(79.99848988457245), 'tempo_bpm': array([107.66601562])}\n",
      "✅ Combined features for extracted_audio/Actor_18/03-01-03-01-02-01-18.wav: {'num_words': 6, 'num_hesitations': 0, 'hesitation_ratio': 0.0, 'avg_sentence_length': np.float64(6.0), 'duration_sec': 3.436780045351474, 'pitch_std': np.float64(79.99848988457245), 'tempo_bpm': array([107.66601562]), 'file': '03-01-03-01-02-01-18.wav'}\n",
      "📁 Processing file: extracted_audio/Actor_18/03-01-03-02-01-01-18.wav\n"
     ]
    },
    {
     "name": "stderr",
     "output_type": "stream",
     "text": [
      "/Library/Frameworks/Python.framework/Versions/3.12/lib/python3.12/site-packages/whisper/transcribe.py:126: UserWarning: FP16 is not supported on CPU; using FP32 instead\n",
      "  warnings.warn(\"FP16 is not supported on CPU; using FP32 instead\")\n"
     ]
    },
    {
     "name": "stdout",
     "output_type": "stream",
     "text": [
      "🔊 Transcript for extracted_audio/Actor_18/03-01-03-02-01-01-18.wav:  Kids are talking by the door!...\n",
      "📝 NLP features for extracted_audio/Actor_18/03-01-03-02-01-01-18.wav: {'num_words': 6, 'num_hesitations': 0, 'hesitation_ratio': 0.0, 'avg_sentence_length': np.float64(6.0)}\n",
      "🎧 Audio features for extracted_audio/Actor_18/03-01-03-02-01-01-18.wav: {'duration_sec': 3.7704761904761903, 'pitch_std': np.float64(91.67910024718152), 'tempo_bpm': array([99.38401442])}\n",
      "✅ Combined features for extracted_audio/Actor_18/03-01-03-02-01-01-18.wav: {'num_words': 6, 'num_hesitations': 0, 'hesitation_ratio': 0.0, 'avg_sentence_length': np.float64(6.0), 'duration_sec': 3.7704761904761903, 'pitch_std': np.float64(91.67910024718152), 'tempo_bpm': array([99.38401442]), 'file': '03-01-03-02-01-01-18.wav'}\n",
      "📁 Processing file: extracted_audio/Actor_18/03-01-02-01-02-01-18.wav\n"
     ]
    },
    {
     "name": "stderr",
     "output_type": "stream",
     "text": [
      "/Library/Frameworks/Python.framework/Versions/3.12/lib/python3.12/site-packages/whisper/transcribe.py:126: UserWarning: FP16 is not supported on CPU; using FP32 instead\n",
      "  warnings.warn(\"FP16 is not supported on CPU; using FP32 instead\")\n"
     ]
    },
    {
     "name": "stdout",
     "output_type": "stream",
     "text": [
      "🔊 Transcript for extracted_audio/Actor_18/03-01-02-01-02-01-18.wav:  Dogs are sitting by the door....\n",
      "📝 NLP features for extracted_audio/Actor_18/03-01-02-01-02-01-18.wav: {'num_words': 6, 'num_hesitations': 0, 'hesitation_ratio': 0.0, 'avg_sentence_length': np.float64(6.0)}\n",
      "🎧 Audio features for extracted_audio/Actor_18/03-01-02-01-02-01-18.wav: {'duration_sec': 3.6370068027210882, 'pitch_std': np.float64(71.007945317079), 'tempo_bpm': array([63.02400915])}\n",
      "✅ Combined features for extracted_audio/Actor_18/03-01-02-01-02-01-18.wav: {'num_words': 6, 'num_hesitations': 0, 'hesitation_ratio': 0.0, 'avg_sentence_length': np.float64(6.0), 'duration_sec': 3.6370068027210882, 'pitch_std': np.float64(71.007945317079), 'tempo_bpm': array([63.02400915]), 'file': '03-01-02-01-02-01-18.wav'}\n",
      "📁 Processing file: extracted_audio/Actor_18/03-01-01-01-02-02-18.wav\n"
     ]
    },
    {
     "name": "stderr",
     "output_type": "stream",
     "text": [
      "/Library/Frameworks/Python.framework/Versions/3.12/lib/python3.12/site-packages/whisper/transcribe.py:126: UserWarning: FP16 is not supported on CPU; using FP32 instead\n",
      "  warnings.warn(\"FP16 is not supported on CPU; using FP32 instead\")\n"
     ]
    },
    {
     "name": "stdout",
     "output_type": "stream",
     "text": [
      "🔊 Transcript for extracted_audio/Actor_18/03-01-01-01-02-02-18.wav:  Dogs are sitting by the door....\n",
      "📝 NLP features for extracted_audio/Actor_18/03-01-01-01-02-02-18.wav: {'num_words': 6, 'num_hesitations': 0, 'hesitation_ratio': 0.0, 'avg_sentence_length': np.float64(6.0)}\n",
      "🎧 Audio features for extracted_audio/Actor_18/03-01-01-01-02-02-18.wav: {'duration_sec': 3.47015873015873, 'pitch_std': np.float64(65.54518987044148), 'tempo_bpm': array([107.66601562])}\n",
      "✅ Combined features for extracted_audio/Actor_18/03-01-01-01-02-02-18.wav: {'num_words': 6, 'num_hesitations': 0, 'hesitation_ratio': 0.0, 'avg_sentence_length': np.float64(6.0), 'duration_sec': 3.47015873015873, 'pitch_std': np.float64(65.54518987044148), 'tempo_bpm': array([107.66601562]), 'file': '03-01-01-01-02-02-18.wav'}\n",
      "📁 Processing file: extracted_audio/Actor_18/03-01-02-02-01-01-18.wav\n"
     ]
    },
    {
     "name": "stderr",
     "output_type": "stream",
     "text": [
      "/Library/Frameworks/Python.framework/Versions/3.12/lib/python3.12/site-packages/whisper/transcribe.py:126: UserWarning: FP16 is not supported on CPU; using FP32 instead\n",
      "  warnings.warn(\"FP16 is not supported on CPU; using FP32 instead\")\n"
     ]
    },
    {
     "name": "stdout",
     "output_type": "stream",
     "text": [
      "🔊 Transcript for extracted_audio/Actor_18/03-01-02-02-01-01-18.wav:  Kids are talking by the door....\n",
      "📝 NLP features for extracted_audio/Actor_18/03-01-02-02-01-01-18.wav: {'num_words': 6, 'num_hesitations': 0, 'hesitation_ratio': 0.0, 'avg_sentence_length': np.float64(6.0)}\n",
      "🎧 Audio features for extracted_audio/Actor_18/03-01-02-02-01-01-18.wav: {'duration_sec': 3.603628117913832, 'pitch_std': np.float64(66.16799610753803), 'tempo_bpm': array([161.49902344])}\n",
      "✅ Combined features for extracted_audio/Actor_18/03-01-02-02-01-01-18.wav: {'num_words': 6, 'num_hesitations': 0, 'hesitation_ratio': 0.0, 'avg_sentence_length': np.float64(6.0), 'duration_sec': 3.603628117913832, 'pitch_std': np.float64(66.16799610753803), 'tempo_bpm': array([161.49902344]), 'file': '03-01-02-02-01-01-18.wav'}\n",
      "📁 Processing file: extracted_audio/Actor_18/03-01-03-01-01-02-18.wav\n"
     ]
    },
    {
     "name": "stderr",
     "output_type": "stream",
     "text": [
      "/Library/Frameworks/Python.framework/Versions/3.12/lib/python3.12/site-packages/whisper/transcribe.py:126: UserWarning: FP16 is not supported on CPU; using FP32 instead\n",
      "  warnings.warn(\"FP16 is not supported on CPU; using FP32 instead\")\n"
     ]
    },
    {
     "name": "stdout",
     "output_type": "stream",
     "text": [
      "🔊 Transcript for extracted_audio/Actor_18/03-01-03-01-01-02-18.wav:  He's attacking by the door....\n",
      "📝 NLP features for extracted_audio/Actor_18/03-01-03-01-01-02-18.wav: {'num_words': 5, 'num_hesitations': 0, 'hesitation_ratio': 0.0, 'avg_sentence_length': np.float64(5.0)}\n",
      "🎧 Audio features for extracted_audio/Actor_18/03-01-03-01-01-02-18.wav: {'duration_sec': 3.3700226757369616, 'pitch_std': np.float64(98.61077598465101), 'tempo_bpm': array([135.99917763])}\n",
      "✅ Combined features for extracted_audio/Actor_18/03-01-03-01-01-02-18.wav: {'num_words': 5, 'num_hesitations': 0, 'hesitation_ratio': 0.0, 'avg_sentence_length': np.float64(5.0), 'duration_sec': 3.3700226757369616, 'pitch_std': np.float64(98.61077598465101), 'tempo_bpm': array([135.99917763]), 'file': '03-01-03-01-01-02-18.wav'}\n",
      "📁 Processing file: extracted_audio/Actor_18/03-01-03-02-02-02-18.wav\n"
     ]
    },
    {
     "name": "stderr",
     "output_type": "stream",
     "text": [
      "/Library/Frameworks/Python.framework/Versions/3.12/lib/python3.12/site-packages/whisper/transcribe.py:126: UserWarning: FP16 is not supported on CPU; using FP32 instead\n",
      "  warnings.warn(\"FP16 is not supported on CPU; using FP32 instead\")\n"
     ]
    },
    {
     "name": "stdout",
     "output_type": "stream",
     "text": [
      "🔊 Transcript for extracted_audio/Actor_18/03-01-03-02-02-02-18.wav:  Dogs are sitting by the door!...\n",
      "📝 NLP features for extracted_audio/Actor_18/03-01-03-02-02-02-18.wav: {'num_words': 6, 'num_hesitations': 0, 'hesitation_ratio': 0.0, 'avg_sentence_length': np.float64(6.0)}\n",
      "🎧 Audio features for extracted_audio/Actor_18/03-01-03-02-02-02-18.wav: {'duration_sec': 3.83718820861678, 'pitch_std': np.float64(90.70942290774128), 'tempo_bpm': array([215.33203125])}\n",
      "✅ Combined features for extracted_audio/Actor_18/03-01-03-02-02-02-18.wav: {'num_words': 6, 'num_hesitations': 0, 'hesitation_ratio': 0.0, 'avg_sentence_length': np.float64(6.0), 'duration_sec': 3.83718820861678, 'pitch_std': np.float64(90.70942290774128), 'tempo_bpm': array([215.33203125]), 'file': '03-01-03-02-02-02-18.wav'}\n",
      "📁 Processing file: extracted_audio/Actor_18/03-01-07-02-02-01-18.wav\n"
     ]
    },
    {
     "name": "stderr",
     "output_type": "stream",
     "text": [
      "/Library/Frameworks/Python.framework/Versions/3.12/lib/python3.12/site-packages/whisper/transcribe.py:126: UserWarning: FP16 is not supported on CPU; using FP32 instead\n",
      "  warnings.warn(\"FP16 is not supported on CPU; using FP32 instead\")\n"
     ]
    },
    {
     "name": "stdout",
     "output_type": "stream",
     "text": [
      "🔊 Transcript for extracted_audio/Actor_18/03-01-07-02-02-01-18.wav:  Dogs are sitting by the door!...\n",
      "📝 NLP features for extracted_audio/Actor_18/03-01-07-02-02-01-18.wav: {'num_words': 6, 'num_hesitations': 0, 'hesitation_ratio': 0.0, 'avg_sentence_length': np.float64(6.0)}\n",
      "🎧 Audio features for extracted_audio/Actor_18/03-01-07-02-02-01-18.wav: {'duration_sec': 4.63795918367347, 'pitch_std': np.float64(91.01373469451173), 'tempo_bpm': array([161.49902344])}\n",
      "✅ Combined features for extracted_audio/Actor_18/03-01-07-02-02-01-18.wav: {'num_words': 6, 'num_hesitations': 0, 'hesitation_ratio': 0.0, 'avg_sentence_length': np.float64(6.0), 'duration_sec': 4.63795918367347, 'pitch_std': np.float64(91.01373469451173), 'tempo_bpm': array([161.49902344]), 'file': '03-01-07-02-02-01-18.wav'}\n",
      "📁 Processing file: extracted_audio/Actor_18/03-01-04-02-02-02-18.wav\n"
     ]
    },
    {
     "name": "stderr",
     "output_type": "stream",
     "text": [
      "/Library/Frameworks/Python.framework/Versions/3.12/lib/python3.12/site-packages/whisper/transcribe.py:126: UserWarning: FP16 is not supported on CPU; using FP32 instead\n",
      "  warnings.warn(\"FP16 is not supported on CPU; using FP32 instead\")\n"
     ]
    },
    {
     "name": "stdout",
     "output_type": "stream",
     "text": [
      "🔊 Transcript for extracted_audio/Actor_18/03-01-04-02-02-02-18.wav:  Dogs are sitting by the door!...\n",
      "📝 NLP features for extracted_audio/Actor_18/03-01-04-02-02-02-18.wav: {'num_words': 6, 'num_hesitations': 0, 'hesitation_ratio': 0.0, 'avg_sentence_length': np.float64(6.0)}\n",
      "🎧 Audio features for extracted_audio/Actor_18/03-01-04-02-02-02-18.wav: {'duration_sec': 3.83718820861678, 'pitch_std': np.float64(79.38095295738485), 'tempo_bpm': array([92.28515625])}\n",
      "✅ Combined features for extracted_audio/Actor_18/03-01-04-02-02-02-18.wav: {'num_words': 6, 'num_hesitations': 0, 'hesitation_ratio': 0.0, 'avg_sentence_length': np.float64(6.0), 'duration_sec': 3.83718820861678, 'pitch_std': np.float64(79.38095295738485), 'tempo_bpm': array([92.28515625]), 'file': '03-01-04-02-02-02-18.wav'}\n",
      "📁 Processing file: extracted_audio/Actor_18/03-01-04-01-01-02-18.wav\n"
     ]
    },
    {
     "name": "stderr",
     "output_type": "stream",
     "text": [
      "/Library/Frameworks/Python.framework/Versions/3.12/lib/python3.12/site-packages/whisper/transcribe.py:126: UserWarning: FP16 is not supported on CPU; using FP32 instead\n",
      "  warnings.warn(\"FP16 is not supported on CPU; using FP32 instead\")\n"
     ]
    },
    {
     "name": "stdout",
     "output_type": "stream",
     "text": [
      "🔊 Transcript for extracted_audio/Actor_18/03-01-04-01-01-02-18.wav:  Kids are talking by the door....\n",
      "📝 NLP features for extracted_audio/Actor_18/03-01-04-01-01-02-18.wav: {'num_words': 6, 'num_hesitations': 0, 'hesitation_ratio': 0.0, 'avg_sentence_length': np.float64(6.0)}\n",
      "🎧 Audio features for extracted_audio/Actor_18/03-01-04-01-01-02-18.wav: {'duration_sec': 3.6369614512471657, 'pitch_std': np.float64(87.90821635956948), 'tempo_bpm': array([172.265625])}\n",
      "✅ Combined features for extracted_audio/Actor_18/03-01-04-01-01-02-18.wav: {'num_words': 6, 'num_hesitations': 0, 'hesitation_ratio': 0.0, 'avg_sentence_length': np.float64(6.0), 'duration_sec': 3.6369614512471657, 'pitch_std': np.float64(87.90821635956948), 'tempo_bpm': array([172.265625]), 'file': '03-01-04-01-01-02-18.wav'}\n",
      "📁 Processing file: extracted_audio/Actor_18/03-01-07-01-01-01-18.wav\n"
     ]
    },
    {
     "name": "stderr",
     "output_type": "stream",
     "text": [
      "/Library/Frameworks/Python.framework/Versions/3.12/lib/python3.12/site-packages/whisper/transcribe.py:126: UserWarning: FP16 is not supported on CPU; using FP32 instead\n",
      "  warnings.warn(\"FP16 is not supported on CPU; using FP32 instead\")\n"
     ]
    },
    {
     "name": "stdout",
     "output_type": "stream",
     "text": [
      "🔊 Transcript for extracted_audio/Actor_18/03-01-07-01-01-01-18.wav:  Kids are talking by the door....\n",
      "📝 NLP features for extracted_audio/Actor_18/03-01-07-01-01-01-18.wav: {'num_words': 6, 'num_hesitations': 0, 'hesitation_ratio': 0.0, 'avg_sentence_length': np.float64(6.0)}\n",
      "🎧 Audio features for extracted_audio/Actor_18/03-01-07-01-01-01-18.wav: {'duration_sec': 4.304353741496598, 'pitch_std': np.float64(80.44895260577164), 'tempo_bpm': array([129.19921875])}\n",
      "✅ Combined features for extracted_audio/Actor_18/03-01-07-01-01-01-18.wav: {'num_words': 6, 'num_hesitations': 0, 'hesitation_ratio': 0.0, 'avg_sentence_length': np.float64(6.0), 'duration_sec': 4.304353741496598, 'pitch_std': np.float64(80.44895260577164), 'tempo_bpm': array([129.19921875]), 'file': '03-01-07-01-01-01-18.wav'}\n",
      "📁 Processing file: extracted_audio/Actor_18/03-01-05-02-01-01-18.wav\n"
     ]
    },
    {
     "name": "stderr",
     "output_type": "stream",
     "text": [
      "/Library/Frameworks/Python.framework/Versions/3.12/lib/python3.12/site-packages/whisper/transcribe.py:126: UserWarning: FP16 is not supported on CPU; using FP32 instead\n",
      "  warnings.warn(\"FP16 is not supported on CPU; using FP32 instead\")\n"
     ]
    },
    {
     "name": "stdout",
     "output_type": "stream",
     "text": [
      "🔊 Transcript for extracted_audio/Actor_18/03-01-05-02-01-01-18.wav:  Kids are talking by the door!...\n",
      "📝 NLP features for extracted_audio/Actor_18/03-01-05-02-01-01-18.wav: {'num_words': 6, 'num_hesitations': 0, 'hesitation_ratio': 0.0, 'avg_sentence_length': np.float64(6.0)}\n",
      "🎧 Audio features for extracted_audio/Actor_18/03-01-05-02-01-01-18.wav: {'duration_sec': 3.703718820861678, 'pitch_std': np.float64(82.65520870690276), 'tempo_bpm': array([117.45383523])}\n",
      "✅ Combined features for extracted_audio/Actor_18/03-01-05-02-01-01-18.wav: {'num_words': 6, 'num_hesitations': 0, 'hesitation_ratio': 0.0, 'avg_sentence_length': np.float64(6.0), 'duration_sec': 3.703718820861678, 'pitch_std': np.float64(82.65520870690276), 'tempo_bpm': array([117.45383523]), 'file': '03-01-05-02-01-01-18.wav'}\n",
      "📁 Processing file: extracted_audio/Actor_18/03-01-06-02-01-02-18.wav\n"
     ]
    },
    {
     "name": "stderr",
     "output_type": "stream",
     "text": [
      "/Library/Frameworks/Python.framework/Versions/3.12/lib/python3.12/site-packages/whisper/transcribe.py:126: UserWarning: FP16 is not supported on CPU; using FP32 instead\n",
      "  warnings.warn(\"FP16 is not supported on CPU; using FP32 instead\")\n"
     ]
    },
    {
     "name": "stdout",
     "output_type": "stream",
     "text": [
      "🔊 Transcript for extracted_audio/Actor_18/03-01-06-02-01-02-18.wav:  Kids are talking by the door....\n",
      "📝 NLP features for extracted_audio/Actor_18/03-01-06-02-01-02-18.wav: {'num_words': 6, 'num_hesitations': 0, 'hesitation_ratio': 0.0, 'avg_sentence_length': np.float64(6.0)}\n",
      "🎧 Audio features for extracted_audio/Actor_18/03-01-06-02-01-02-18.wav: {'duration_sec': 4.170839002267574, 'pitch_std': np.float64(84.27146624790605), 'tempo_bpm': array([129.19921875])}\n",
      "✅ Combined features for extracted_audio/Actor_18/03-01-06-02-01-02-18.wav: {'num_words': 6, 'num_hesitations': 0, 'hesitation_ratio': 0.0, 'avg_sentence_length': np.float64(6.0), 'duration_sec': 4.170839002267574, 'pitch_std': np.float64(84.27146624790605), 'tempo_bpm': array([129.19921875]), 'file': '03-01-06-02-01-02-18.wav'}\n",
      "📁 Processing file: extracted_audio/Actor_18/03-01-06-01-02-02-18.wav\n"
     ]
    },
    {
     "name": "stderr",
     "output_type": "stream",
     "text": [
      "/Library/Frameworks/Python.framework/Versions/3.12/lib/python3.12/site-packages/whisper/transcribe.py:126: UserWarning: FP16 is not supported on CPU; using FP32 instead\n",
      "  warnings.warn(\"FP16 is not supported on CPU; using FP32 instead\")\n"
     ]
    },
    {
     "name": "stdout",
     "output_type": "stream",
     "text": [
      "🔊 Transcript for extracted_audio/Actor_18/03-01-06-01-02-02-18.wav:  Dogs are sitting by the door....\n",
      "📝 NLP features for extracted_audio/Actor_18/03-01-06-01-02-02-18.wav: {'num_words': 6, 'num_hesitations': 0, 'hesitation_ratio': 0.0, 'avg_sentence_length': np.float64(6.0)}\n",
      "🎧 Audio features for extracted_audio/Actor_18/03-01-06-01-02-02-18.wav: {'duration_sec': 3.47015873015873, 'pitch_std': np.float64(96.99194519850427), 'tempo_bpm': array([107.66601562])}\n",
      "✅ Combined features for extracted_audio/Actor_18/03-01-06-01-02-02-18.wav: {'num_words': 6, 'num_hesitations': 0, 'hesitation_ratio': 0.0, 'avg_sentence_length': np.float64(6.0), 'duration_sec': 3.47015873015873, 'pitch_std': np.float64(96.99194519850427), 'tempo_bpm': array([107.66601562]), 'file': '03-01-06-01-02-02-18.wav'}\n",
      "📁 Processing file: extracted_audio/Actor_18/03-01-05-01-02-01-18.wav\n"
     ]
    },
    {
     "name": "stderr",
     "output_type": "stream",
     "text": [
      "/Library/Frameworks/Python.framework/Versions/3.12/lib/python3.12/site-packages/whisper/transcribe.py:126: UserWarning: FP16 is not supported on CPU; using FP32 instead\n",
      "  warnings.warn(\"FP16 is not supported on CPU; using FP32 instead\")\n"
     ]
    },
    {
     "name": "stdout",
     "output_type": "stream",
     "text": [
      "🔊 Transcript for extracted_audio/Actor_18/03-01-05-01-02-01-18.wav:  Dogs are sitting by the door....\n",
      "📝 NLP features for extracted_audio/Actor_18/03-01-05-01-02-01-18.wav: {'num_words': 6, 'num_hesitations': 0, 'hesitation_ratio': 0.0, 'avg_sentence_length': np.float64(6.0)}\n",
      "🎧 Audio features for extracted_audio/Actor_18/03-01-05-01-02-01-18.wav: {'duration_sec': 3.570249433106576, 'pitch_std': np.float64(87.3253876069322), 'tempo_bpm': array([117.45383523])}\n",
      "✅ Combined features for extracted_audio/Actor_18/03-01-05-01-02-01-18.wav: {'num_words': 6, 'num_hesitations': 0, 'hesitation_ratio': 0.0, 'avg_sentence_length': np.float64(6.0), 'duration_sec': 3.570249433106576, 'pitch_std': np.float64(87.3253876069322), 'tempo_bpm': array([117.45383523]), 'file': '03-01-05-01-02-01-18.wav'}\n",
      "📁 Processing file: extracted_audio/Actor_18/03-01-08-01-01-01-18.wav\n"
     ]
    },
    {
     "name": "stderr",
     "output_type": "stream",
     "text": [
      "/Library/Frameworks/Python.framework/Versions/3.12/lib/python3.12/site-packages/whisper/transcribe.py:126: UserWarning: FP16 is not supported on CPU; using FP32 instead\n",
      "  warnings.warn(\"FP16 is not supported on CPU; using FP32 instead\")\n"
     ]
    },
    {
     "name": "stdout",
     "output_type": "stream",
     "text": [
      "🔊 Transcript for extracted_audio/Actor_18/03-01-08-01-01-01-18.wav:  Kids are talking by the door?...\n",
      "📝 NLP features for extracted_audio/Actor_18/03-01-08-01-01-01-18.wav: {'num_words': 6, 'num_hesitations': 0, 'hesitation_ratio': 0.0, 'avg_sentence_length': np.float64(6.0)}\n",
      "🎧 Audio features for extracted_audio/Actor_18/03-01-08-01-01-01-18.wav: {'duration_sec': 3.3700226757369616, 'pitch_std': np.float64(83.14117285548362), 'tempo_bpm': array([143.5546875])}\n",
      "✅ Combined features for extracted_audio/Actor_18/03-01-08-01-01-01-18.wav: {'num_words': 6, 'num_hesitations': 0, 'hesitation_ratio': 0.0, 'avg_sentence_length': np.float64(6.0), 'duration_sec': 3.3700226757369616, 'pitch_std': np.float64(83.14117285548362), 'tempo_bpm': array([143.5546875]), 'file': '03-01-08-01-01-01-18.wav'}\n",
      "📁 Processing file: extracted_audio/Actor_18/03-01-08-02-02-01-18.wav\n"
     ]
    },
    {
     "name": "stderr",
     "output_type": "stream",
     "text": [
      "/Library/Frameworks/Python.framework/Versions/3.12/lib/python3.12/site-packages/whisper/transcribe.py:126: UserWarning: FP16 is not supported on CPU; using FP32 instead\n",
      "  warnings.warn(\"FP16 is not supported on CPU; using FP32 instead\")\n"
     ]
    },
    {
     "name": "stdout",
     "output_type": "stream",
     "text": [
      "🔊 Transcript for extracted_audio/Actor_18/03-01-08-02-02-01-18.wav:  Dogs are sitting by the door?...\n",
      "📝 NLP features for extracted_audio/Actor_18/03-01-08-02-02-01-18.wav: {'num_words': 6, 'num_hesitations': 0, 'hesitation_ratio': 0.0, 'avg_sentence_length': np.float64(6.0)}\n",
      "🎧 Audio features for extracted_audio/Actor_18/03-01-08-02-02-01-18.wav: {'duration_sec': 3.8705668934240363, 'pitch_std': np.float64(90.82594663247082), 'tempo_bpm': array([184.5703125])}\n",
      "✅ Combined features for extracted_audio/Actor_18/03-01-08-02-02-01-18.wav: {'num_words': 6, 'num_hesitations': 0, 'hesitation_ratio': 0.0, 'avg_sentence_length': np.float64(6.0), 'duration_sec': 3.8705668934240363, 'pitch_std': np.float64(90.82594663247082), 'tempo_bpm': array([184.5703125]), 'file': '03-01-08-02-02-01-18.wav'}\n",
      "📁 Processing file: extracted_audio/Actor_20/03-01-08-01-02-01-20.wav\n"
     ]
    },
    {
     "name": "stderr",
     "output_type": "stream",
     "text": [
      "/Library/Frameworks/Python.framework/Versions/3.12/lib/python3.12/site-packages/whisper/transcribe.py:126: UserWarning: FP16 is not supported on CPU; using FP32 instead\n",
      "  warnings.warn(\"FP16 is not supported on CPU; using FP32 instead\")\n"
     ]
    },
    {
     "name": "stdout",
     "output_type": "stream",
     "text": [
      "🔊 Transcript for extracted_audio/Actor_20/03-01-08-01-02-01-20.wav:  Dogs are sitting by the door....\n",
      "📝 NLP features for extracted_audio/Actor_20/03-01-08-01-02-01-20.wav: {'num_words': 6, 'num_hesitations': 0, 'hesitation_ratio': 0.0, 'avg_sentence_length': np.float64(6.0)}\n",
      "🎧 Audio features for extracted_audio/Actor_20/03-01-08-01-02-01-20.wav: {'duration_sec': 3.1365079365079365, 'pitch_std': np.float64(93.42651441913608), 'tempo_bpm': array([71.77734375])}\n",
      "✅ Combined features for extracted_audio/Actor_20/03-01-08-01-02-01-20.wav: {'num_words': 6, 'num_hesitations': 0, 'hesitation_ratio': 0.0, 'avg_sentence_length': np.float64(6.0), 'duration_sec': 3.1365079365079365, 'pitch_std': np.float64(93.42651441913608), 'tempo_bpm': array([71.77734375]), 'file': '03-01-08-01-02-01-20.wav'}\n",
      "📁 Processing file: extracted_audio/Actor_20/03-01-08-02-01-01-20.wav\n"
     ]
    },
    {
     "name": "stderr",
     "output_type": "stream",
     "text": [
      "/Library/Frameworks/Python.framework/Versions/3.12/lib/python3.12/site-packages/whisper/transcribe.py:126: UserWarning: FP16 is not supported on CPU; using FP32 instead\n",
      "  warnings.warn(\"FP16 is not supported on CPU; using FP32 instead\")\n"
     ]
    },
    {
     "name": "stdout",
     "output_type": "stream",
     "text": [
      "🔊 Transcript for extracted_audio/Actor_20/03-01-08-02-01-01-20.wav:  Kids are talking by the door!...\n",
      "📝 NLP features for extracted_audio/Actor_20/03-01-08-02-01-01-20.wav: {'num_words': 6, 'num_hesitations': 0, 'hesitation_ratio': 0.0, 'avg_sentence_length': np.float64(6.0)}\n",
      "🎧 Audio features for extracted_audio/Actor_20/03-01-08-02-01-01-20.wav: {'duration_sec': 3.737097505668934, 'pitch_std': np.float64(89.38547314934526), 'tempo_bpm': array([64.59960938])}\n",
      "✅ Combined features for extracted_audio/Actor_20/03-01-08-02-01-01-20.wav: {'num_words': 6, 'num_hesitations': 0, 'hesitation_ratio': 0.0, 'avg_sentence_length': np.float64(6.0), 'duration_sec': 3.737097505668934, 'pitch_std': np.float64(89.38547314934526), 'tempo_bpm': array([64.59960938]), 'file': '03-01-08-02-01-01-20.wav'}\n",
      "📁 Processing file: extracted_audio/Actor_20/03-01-04-02-01-02-20.wav\n"
     ]
    },
    {
     "name": "stderr",
     "output_type": "stream",
     "text": [
      "/Library/Frameworks/Python.framework/Versions/3.12/lib/python3.12/site-packages/whisper/transcribe.py:126: UserWarning: FP16 is not supported on CPU; using FP32 instead\n",
      "  warnings.warn(\"FP16 is not supported on CPU; using FP32 instead\")\n"
     ]
    },
    {
     "name": "stdout",
     "output_type": "stream",
     "text": [
      "🔊 Transcript for extracted_audio/Actor_20/03-01-04-02-01-02-20.wav:  Kids are talking by the door!...\n",
      "📝 NLP features for extracted_audio/Actor_20/03-01-04-02-01-02-20.wav: {'num_words': 6, 'num_hesitations': 0, 'hesitation_ratio': 0.0, 'avg_sentence_length': np.float64(6.0)}\n",
      "🎧 Audio features for extracted_audio/Actor_20/03-01-04-02-01-02-20.wav: {'duration_sec': 4.237596371882086, 'pitch_std': np.float64(79.75949095598753), 'tempo_bpm': array([107.66601562])}\n",
      "✅ Combined features for extracted_audio/Actor_20/03-01-04-02-01-02-20.wav: {'num_words': 6, 'num_hesitations': 0, 'hesitation_ratio': 0.0, 'avg_sentence_length': np.float64(6.0), 'duration_sec': 4.237596371882086, 'pitch_std': np.float64(79.75949095598753), 'tempo_bpm': array([107.66601562]), 'file': '03-01-04-02-01-02-20.wav'}\n",
      "📁 Processing file: extracted_audio/Actor_20/03-01-07-02-01-01-20.wav\n"
     ]
    },
    {
     "name": "stderr",
     "output_type": "stream",
     "text": [
      "/Library/Frameworks/Python.framework/Versions/3.12/lib/python3.12/site-packages/whisper/transcribe.py:126: UserWarning: FP16 is not supported on CPU; using FP32 instead\n",
      "  warnings.warn(\"FP16 is not supported on CPU; using FP32 instead\")\n"
     ]
    },
    {
     "name": "stdout",
     "output_type": "stream",
     "text": [
      "🔊 Transcript for extracted_audio/Actor_20/03-01-07-02-01-01-20.wav:  Kids are talking by the door....\n",
      "📝 NLP features for extracted_audio/Actor_20/03-01-07-02-01-01-20.wav: {'num_words': 6, 'num_hesitations': 0, 'hesitation_ratio': 0.0, 'avg_sentence_length': np.float64(6.0)}\n",
      "🎧 Audio features for extracted_audio/Actor_20/03-01-07-02-01-01-20.wav: {'duration_sec': 4.104126984126984, 'pitch_std': np.float64(88.97499663010043), 'tempo_bpm': array([107.66601562])}\n",
      "✅ Combined features for extracted_audio/Actor_20/03-01-07-02-01-01-20.wav: {'num_words': 6, 'num_hesitations': 0, 'hesitation_ratio': 0.0, 'avg_sentence_length': np.float64(6.0), 'duration_sec': 4.104126984126984, 'pitch_std': np.float64(88.97499663010043), 'tempo_bpm': array([107.66601562]), 'file': '03-01-07-02-01-01-20.wav'}\n",
      "📁 Processing file: extracted_audio/Actor_20/03-01-07-01-02-01-20.wav\n"
     ]
    },
    {
     "name": "stderr",
     "output_type": "stream",
     "text": [
      "/Library/Frameworks/Python.framework/Versions/3.12/lib/python3.12/site-packages/whisper/transcribe.py:126: UserWarning: FP16 is not supported on CPU; using FP32 instead\n",
      "  warnings.warn(\"FP16 is not supported on CPU; using FP32 instead\")\n"
     ]
    },
    {
     "name": "stdout",
     "output_type": "stream",
     "text": [
      "🔊 Transcript for extracted_audio/Actor_20/03-01-07-01-02-01-20.wav:  Dogs are sitting by the door....\n",
      "📝 NLP features for extracted_audio/Actor_20/03-01-07-01-02-01-20.wav: {'num_words': 6, 'num_hesitations': 0, 'hesitation_ratio': 0.0, 'avg_sentence_length': np.float64(6.0)}\n",
      "🎧 Audio features for extracted_audio/Actor_20/03-01-07-01-02-01-20.wav: {'duration_sec': 3.6369614512471657, 'pitch_std': np.float64(90.04961213012051), 'tempo_bpm': array([215.33203125])}\n",
      "✅ Combined features for extracted_audio/Actor_20/03-01-07-01-02-01-20.wav: {'num_words': 6, 'num_hesitations': 0, 'hesitation_ratio': 0.0, 'avg_sentence_length': np.float64(6.0), 'duration_sec': 3.6369614512471657, 'pitch_std': np.float64(90.04961213012051), 'tempo_bpm': array([215.33203125]), 'file': '03-01-07-01-02-01-20.wav'}\n",
      "📁 Processing file: extracted_audio/Actor_20/03-01-04-01-02-02-20.wav\n"
     ]
    },
    {
     "name": "stderr",
     "output_type": "stream",
     "text": [
      "/Library/Frameworks/Python.framework/Versions/3.12/lib/python3.12/site-packages/whisper/transcribe.py:126: UserWarning: FP16 is not supported on CPU; using FP32 instead\n",
      "  warnings.warn(\"FP16 is not supported on CPU; using FP32 instead\")\n"
     ]
    },
    {
     "name": "stdout",
     "output_type": "stream",
     "text": [
      "🔊 Transcript for extracted_audio/Actor_20/03-01-04-01-02-02-20.wav:  dogs are sitting by the door...\n",
      "📝 NLP features for extracted_audio/Actor_20/03-01-04-01-02-02-20.wav: {'num_words': 6, 'num_hesitations': 0, 'hesitation_ratio': 0.0, 'avg_sentence_length': np.float64(6.0)}\n",
      "🎧 Audio features for extracted_audio/Actor_20/03-01-04-01-02-02-20.wav: {'duration_sec': 3.3700680272108845, 'pitch_std': np.float64(86.60791729500232), 'tempo_bpm': array([78.30255682])}\n",
      "✅ Combined features for extracted_audio/Actor_20/03-01-04-01-02-02-20.wav: {'num_words': 6, 'num_hesitations': 0, 'hesitation_ratio': 0.0, 'avg_sentence_length': np.float64(6.0), 'duration_sec': 3.3700680272108845, 'pitch_std': np.float64(86.60791729500232), 'tempo_bpm': array([78.30255682]), 'file': '03-01-04-01-02-02-20.wav'}\n",
      "📁 Processing file: extracted_audio/Actor_20/03-01-06-02-02-02-20.wav\n"
     ]
    },
    {
     "name": "stderr",
     "output_type": "stream",
     "text": [
      "/Library/Frameworks/Python.framework/Versions/3.12/lib/python3.12/site-packages/whisper/transcribe.py:126: UserWarning: FP16 is not supported on CPU; using FP32 instead\n",
      "  warnings.warn(\"FP16 is not supported on CPU; using FP32 instead\")\n"
     ]
    },
    {
     "name": "stdout",
     "output_type": "stream",
     "text": [
      "🔊 Transcript for extracted_audio/Actor_20/03-01-06-02-02-02-20.wav:  Dogs are sitting by the door!...\n",
      "📝 NLP features for extracted_audio/Actor_20/03-01-06-02-02-02-20.wav: {'num_words': 6, 'num_hesitations': 0, 'hesitation_ratio': 0.0, 'avg_sentence_length': np.float64(6.0)}\n",
      "🎧 Audio features for extracted_audio/Actor_20/03-01-06-02-02-02-20.wav: {'duration_sec': 3.9039455782312924, 'pitch_std': np.float64(80.80981353453431), 'tempo_bpm': array([112.34714674])}\n",
      "✅ Combined features for extracted_audio/Actor_20/03-01-06-02-02-02-20.wav: {'num_words': 6, 'num_hesitations': 0, 'hesitation_ratio': 0.0, 'avg_sentence_length': np.float64(6.0), 'duration_sec': 3.9039455782312924, 'pitch_std': np.float64(80.80981353453431), 'tempo_bpm': array([112.34714674]), 'file': '03-01-06-02-02-02-20.wav'}\n",
      "📁 Processing file: extracted_audio/Actor_20/03-01-05-02-02-01-20.wav\n"
     ]
    },
    {
     "name": "stderr",
     "output_type": "stream",
     "text": [
      "/Library/Frameworks/Python.framework/Versions/3.12/lib/python3.12/site-packages/whisper/transcribe.py:126: UserWarning: FP16 is not supported on CPU; using FP32 instead\n",
      "  warnings.warn(\"FP16 is not supported on CPU; using FP32 instead\")\n"
     ]
    },
    {
     "name": "stdout",
     "output_type": "stream",
     "text": [
      "🔊 Transcript for extracted_audio/Actor_20/03-01-05-02-02-01-20.wav:  The dogs are sitting by the door!...\n",
      "📝 NLP features for extracted_audio/Actor_20/03-01-05-02-02-01-20.wav: {'num_words': 7, 'num_hesitations': 0, 'hesitation_ratio': 0.0, 'avg_sentence_length': np.float64(7.0)}\n",
      "🎧 Audio features for extracted_audio/Actor_20/03-01-05-02-02-01-20.wav: {'duration_sec': 4.404444444444445, 'pitch_std': np.float64(90.64139420975657), 'tempo_bpm': array([129.19921875])}\n",
      "✅ Combined features for extracted_audio/Actor_20/03-01-05-02-02-01-20.wav: {'num_words': 7, 'num_hesitations': 0, 'hesitation_ratio': 0.0, 'avg_sentence_length': np.float64(7.0), 'duration_sec': 4.404444444444445, 'pitch_std': np.float64(90.64139420975657), 'tempo_bpm': array([129.19921875]), 'file': '03-01-05-02-02-01-20.wav'}\n",
      "📁 Processing file: extracted_audio/Actor_20/03-01-05-01-01-01-20.wav\n"
     ]
    },
    {
     "name": "stderr",
     "output_type": "stream",
     "text": [
      "/Library/Frameworks/Python.framework/Versions/3.12/lib/python3.12/site-packages/whisper/transcribe.py:126: UserWarning: FP16 is not supported on CPU; using FP32 instead\n",
      "  warnings.warn(\"FP16 is not supported on CPU; using FP32 instead\")\n"
     ]
    },
    {
     "name": "stdout",
     "output_type": "stream",
     "text": [
      "🔊 Transcript for extracted_audio/Actor_20/03-01-05-01-01-01-20.wav:  Kids are talking by the door....\n",
      "📝 NLP features for extracted_audio/Actor_20/03-01-05-01-01-01-20.wav: {'num_words': 6, 'num_hesitations': 0, 'hesitation_ratio': 0.0, 'avg_sentence_length': np.float64(6.0)}\n",
      "🎧 Audio features for extracted_audio/Actor_20/03-01-05-01-01-01-20.wav: {'duration_sec': 3.2365986394557824, 'pitch_std': np.float64(89.3966996712458), 'tempo_bpm': array([172.265625])}\n",
      "✅ Combined features for extracted_audio/Actor_20/03-01-05-01-01-01-20.wav: {'num_words': 6, 'num_hesitations': 0, 'hesitation_ratio': 0.0, 'avg_sentence_length': np.float64(6.0), 'duration_sec': 3.2365986394557824, 'pitch_std': np.float64(89.3966996712458), 'tempo_bpm': array([172.265625]), 'file': '03-01-05-01-01-01-20.wav'}\n",
      "📁 Processing file: extracted_audio/Actor_20/03-01-06-01-01-02-20.wav\n"
     ]
    },
    {
     "name": "stderr",
     "output_type": "stream",
     "text": [
      "/Library/Frameworks/Python.framework/Versions/3.12/lib/python3.12/site-packages/whisper/transcribe.py:126: UserWarning: FP16 is not supported on CPU; using FP32 instead\n",
      "  warnings.warn(\"FP16 is not supported on CPU; using FP32 instead\")\n"
     ]
    },
    {
     "name": "stdout",
     "output_type": "stream",
     "text": [
      "🔊 Transcript for extracted_audio/Actor_20/03-01-06-01-01-02-20.wav:  Kids are talking by the door....\n",
      "📝 NLP features for extracted_audio/Actor_20/03-01-06-01-01-02-20.wav: {'num_words': 6, 'num_hesitations': 0, 'hesitation_ratio': 0.0, 'avg_sentence_length': np.float64(6.0)}\n",
      "🎧 Audio features for extracted_audio/Actor_20/03-01-06-01-01-02-20.wav: {'duration_sec': 4.3710657596371885, 'pitch_std': np.float64(97.68226160161049), 'tempo_bpm': array([135.99917763])}\n",
      "✅ Combined features for extracted_audio/Actor_20/03-01-06-01-01-02-20.wav: {'num_words': 6, 'num_hesitations': 0, 'hesitation_ratio': 0.0, 'avg_sentence_length': np.float64(6.0), 'duration_sec': 4.3710657596371885, 'pitch_std': np.float64(97.68226160161049), 'tempo_bpm': array([135.99917763]), 'file': '03-01-06-01-01-02-20.wav'}\n",
      "📁 Processing file: extracted_audio/Actor_20/03-01-01-01-01-02-20.wav\n"
     ]
    },
    {
     "name": "stderr",
     "output_type": "stream",
     "text": [
      "/Library/Frameworks/Python.framework/Versions/3.12/lib/python3.12/site-packages/whisper/transcribe.py:126: UserWarning: FP16 is not supported on CPU; using FP32 instead\n",
      "  warnings.warn(\"FP16 is not supported on CPU; using FP32 instead\")\n"
     ]
    },
    {
     "name": "stdout",
     "output_type": "stream",
     "text": [
      "🔊 Transcript for extracted_audio/Actor_20/03-01-01-01-01-02-20.wav:  Kids are talking by the door....\n",
      "📝 NLP features for extracted_audio/Actor_20/03-01-01-01-01-02-20.wav: {'num_words': 6, 'num_hesitations': 0, 'hesitation_ratio': 0.0, 'avg_sentence_length': np.float64(6.0)}\n",
      "🎧 Audio features for extracted_audio/Actor_20/03-01-01-01-01-02-20.wav: {'duration_sec': 3.570249433106576, 'pitch_std': np.float64(92.96248383658164), 'tempo_bpm': array([198.76802885])}\n",
      "✅ Combined features for extracted_audio/Actor_20/03-01-01-01-01-02-20.wav: {'num_words': 6, 'num_hesitations': 0, 'hesitation_ratio': 0.0, 'avg_sentence_length': np.float64(6.0), 'duration_sec': 3.570249433106576, 'pitch_std': np.float64(92.96248383658164), 'tempo_bpm': array([198.76802885]), 'file': '03-01-01-01-01-02-20.wav'}\n",
      "📁 Processing file: extracted_audio/Actor_20/03-01-02-01-01-01-20.wav\n"
     ]
    },
    {
     "name": "stderr",
     "output_type": "stream",
     "text": [
      "/Library/Frameworks/Python.framework/Versions/3.12/lib/python3.12/site-packages/whisper/transcribe.py:126: UserWarning: FP16 is not supported on CPU; using FP32 instead\n",
      "  warnings.warn(\"FP16 is not supported on CPU; using FP32 instead\")\n"
     ]
    },
    {
     "name": "stdout",
     "output_type": "stream",
     "text": [
      "🔊 Transcript for extracted_audio/Actor_20/03-01-02-01-01-01-20.wav:  Kids are talking by the door....\n",
      "📝 NLP features for extracted_audio/Actor_20/03-01-02-01-01-01-20.wav: {'num_words': 6, 'num_hesitations': 0, 'hesitation_ratio': 0.0, 'avg_sentence_length': np.float64(6.0)}\n",
      "🎧 Audio features for extracted_audio/Actor_20/03-01-02-01-01-01-20.wav: {'duration_sec': 3.6369614512471657, 'pitch_std': np.float64(89.18607664626384), 'tempo_bpm': array([129.19921875])}\n",
      "✅ Combined features for extracted_audio/Actor_20/03-01-02-01-01-01-20.wav: {'num_words': 6, 'num_hesitations': 0, 'hesitation_ratio': 0.0, 'avg_sentence_length': np.float64(6.0), 'duration_sec': 3.6369614512471657, 'pitch_std': np.float64(89.18607664626384), 'tempo_bpm': array([129.19921875]), 'file': '03-01-02-01-01-01-20.wav'}\n",
      "📁 Processing file: extracted_audio/Actor_20/03-01-02-02-02-01-20.wav\n"
     ]
    },
    {
     "name": "stderr",
     "output_type": "stream",
     "text": [
      "/Library/Frameworks/Python.framework/Versions/3.12/lib/python3.12/site-packages/whisper/transcribe.py:126: UserWarning: FP16 is not supported on CPU; using FP32 instead\n",
      "  warnings.warn(\"FP16 is not supported on CPU; using FP32 instead\")\n"
     ]
    },
    {
     "name": "stdout",
     "output_type": "stream",
     "text": [
      "🔊 Transcript for extracted_audio/Actor_20/03-01-02-02-02-01-20.wav:  Dogs are sitting by the door....\n",
      "📝 NLP features for extracted_audio/Actor_20/03-01-02-02-02-01-20.wav: {'num_words': 6, 'num_hesitations': 0, 'hesitation_ratio': 0.0, 'avg_sentence_length': np.float64(6.0)}\n",
      "🎧 Audio features for extracted_audio/Actor_20/03-01-02-02-02-01-20.wav: {'duration_sec': 3.6369614512471657, 'pitch_std': np.float64(87.08957029889963), 'tempo_bpm': array([53.83300781])}\n",
      "✅ Combined features for extracted_audio/Actor_20/03-01-02-02-02-01-20.wav: {'num_words': 6, 'num_hesitations': 0, 'hesitation_ratio': 0.0, 'avg_sentence_length': np.float64(6.0), 'duration_sec': 3.6369614512471657, 'pitch_std': np.float64(87.08957029889963), 'tempo_bpm': array([53.83300781]), 'file': '03-01-02-02-02-01-20.wav'}\n",
      "📁 Processing file: extracted_audio/Actor_20/03-01-03-01-02-02-20.wav\n"
     ]
    },
    {
     "name": "stderr",
     "output_type": "stream",
     "text": [
      "/Library/Frameworks/Python.framework/Versions/3.12/lib/python3.12/site-packages/whisper/transcribe.py:126: UserWarning: FP16 is not supported on CPU; using FP32 instead\n",
      "  warnings.warn(\"FP16 is not supported on CPU; using FP32 instead\")\n"
     ]
    },
    {
     "name": "stdout",
     "output_type": "stream",
     "text": [
      "🔊 Transcript for extracted_audio/Actor_20/03-01-03-01-02-02-20.wav:  Dogs are sitting by the door....\n",
      "📝 NLP features for extracted_audio/Actor_20/03-01-03-01-02-02-20.wav: {'num_words': 6, 'num_hesitations': 0, 'hesitation_ratio': 0.0, 'avg_sentence_length': np.float64(6.0)}\n",
      "🎧 Audio features for extracted_audio/Actor_20/03-01-03-01-02-02-20.wav: {'duration_sec': 3.4034013605442177, 'pitch_std': np.float64(86.45357135140755), 'tempo_bpm': array([78.30255682])}\n",
      "✅ Combined features for extracted_audio/Actor_20/03-01-03-01-02-02-20.wav: {'num_words': 6, 'num_hesitations': 0, 'hesitation_ratio': 0.0, 'avg_sentence_length': np.float64(6.0), 'duration_sec': 3.4034013605442177, 'pitch_std': np.float64(86.45357135140755), 'tempo_bpm': array([78.30255682]), 'file': '03-01-03-01-02-02-20.wav'}\n",
      "📁 Processing file: extracted_audio/Actor_20/03-01-03-02-01-02-20.wav\n"
     ]
    },
    {
     "name": "stderr",
     "output_type": "stream",
     "text": [
      "/Library/Frameworks/Python.framework/Versions/3.12/lib/python3.12/site-packages/whisper/transcribe.py:126: UserWarning: FP16 is not supported on CPU; using FP32 instead\n",
      "  warnings.warn(\"FP16 is not supported on CPU; using FP32 instead\")\n"
     ]
    },
    {
     "name": "stdout",
     "output_type": "stream",
     "text": [
      "🔊 Transcript for extracted_audio/Actor_20/03-01-03-02-01-02-20.wav:  And kids are talking by the door!...\n",
      "📝 NLP features for extracted_audio/Actor_20/03-01-03-02-01-02-20.wav: {'num_words': 7, 'num_hesitations': 0, 'hesitation_ratio': 0.0, 'avg_sentence_length': np.float64(7.0)}\n",
      "🎧 Audio features for extracted_audio/Actor_20/03-01-03-02-01-02-20.wav: {'duration_sec': 4.304308390022676, 'pitch_std': np.float64(81.99643676010066), 'tempo_bpm': array([99.38401442])}\n",
      "✅ Combined features for extracted_audio/Actor_20/03-01-03-02-01-02-20.wav: {'num_words': 7, 'num_hesitations': 0, 'hesitation_ratio': 0.0, 'avg_sentence_length': np.float64(7.0), 'duration_sec': 4.304308390022676, 'pitch_std': np.float64(81.99643676010066), 'tempo_bpm': array([99.38401442]), 'file': '03-01-03-02-01-02-20.wav'}\n",
      "📁 Processing file: extracted_audio/Actor_20/03-01-02-01-02-02-20.wav\n"
     ]
    },
    {
     "name": "stderr",
     "output_type": "stream",
     "text": [
      "/Library/Frameworks/Python.framework/Versions/3.12/lib/python3.12/site-packages/whisper/transcribe.py:126: UserWarning: FP16 is not supported on CPU; using FP32 instead\n",
      "  warnings.warn(\"FP16 is not supported on CPU; using FP32 instead\")\n"
     ]
    },
    {
     "name": "stdout",
     "output_type": "stream",
     "text": [
      "🔊 Transcript for extracted_audio/Actor_20/03-01-02-01-02-02-20.wav:  Dogs are sitting by the door....\n",
      "📝 NLP features for extracted_audio/Actor_20/03-01-02-01-02-02-20.wav: {'num_words': 6, 'num_hesitations': 0, 'hesitation_ratio': 0.0, 'avg_sentence_length': np.float64(6.0)}\n",
      "🎧 Audio features for extracted_audio/Actor_20/03-01-02-01-02-02-20.wav: {'duration_sec': 3.5035374149659866, 'pitch_std': np.float64(86.88631638013676), 'tempo_bpm': array([69.83741554])}\n",
      "✅ Combined features for extracted_audio/Actor_20/03-01-02-01-02-02-20.wav: {'num_words': 6, 'num_hesitations': 0, 'hesitation_ratio': 0.0, 'avg_sentence_length': np.float64(6.0), 'duration_sec': 3.5035374149659866, 'pitch_std': np.float64(86.88631638013676), 'tempo_bpm': array([69.83741554]), 'file': '03-01-02-01-02-02-20.wav'}\n",
      "📁 Processing file: extracted_audio/Actor_20/03-01-01-01-02-01-20.wav\n"
     ]
    },
    {
     "name": "stderr",
     "output_type": "stream",
     "text": [
      "/Library/Frameworks/Python.framework/Versions/3.12/lib/python3.12/site-packages/whisper/transcribe.py:126: UserWarning: FP16 is not supported on CPU; using FP32 instead\n",
      "  warnings.warn(\"FP16 is not supported on CPU; using FP32 instead\")\n"
     ]
    },
    {
     "name": "stdout",
     "output_type": "stream",
     "text": [
      "🔊 Transcript for extracted_audio/Actor_20/03-01-01-01-02-01-20.wav:  Dogs are sitting by the door....\n",
      "📝 NLP features for extracted_audio/Actor_20/03-01-01-01-02-01-20.wav: {'num_words': 6, 'num_hesitations': 0, 'hesitation_ratio': 0.0, 'avg_sentence_length': np.float64(6.0)}\n",
      "🎧 Audio features for extracted_audio/Actor_20/03-01-01-01-02-01-20.wav: {'duration_sec': 3.436780045351474, 'pitch_std': np.float64(95.3234120338627), 'tempo_bpm': array([71.77734375])}\n",
      "✅ Combined features for extracted_audio/Actor_20/03-01-01-01-02-01-20.wav: {'num_words': 6, 'num_hesitations': 0, 'hesitation_ratio': 0.0, 'avg_sentence_length': np.float64(6.0), 'duration_sec': 3.436780045351474, 'pitch_std': np.float64(95.3234120338627), 'tempo_bpm': array([71.77734375]), 'file': '03-01-01-01-02-01-20.wav'}\n",
      "📁 Processing file: extracted_audio/Actor_20/03-01-02-02-01-02-20.wav\n"
     ]
    },
    {
     "name": "stderr",
     "output_type": "stream",
     "text": [
      "/Library/Frameworks/Python.framework/Versions/3.12/lib/python3.12/site-packages/whisper/transcribe.py:126: UserWarning: FP16 is not supported on CPU; using FP32 instead\n",
      "  warnings.warn(\"FP16 is not supported on CPU; using FP32 instead\")\n"
     ]
    },
    {
     "name": "stdout",
     "output_type": "stream",
     "text": [
      "🔊 Transcript for extracted_audio/Actor_20/03-01-02-02-01-02-20.wav:  Kids are talking by the door....\n",
      "📝 NLP features for extracted_audio/Actor_20/03-01-02-02-01-02-20.wav: {'num_words': 6, 'num_hesitations': 0, 'hesitation_ratio': 0.0, 'avg_sentence_length': np.float64(6.0)}\n",
      "🎧 Audio features for extracted_audio/Actor_20/03-01-02-02-01-02-20.wav: {'duration_sec': 4.070793650793651, 'pitch_std': np.float64(85.77837182991196), 'tempo_bpm': array([92.28515625])}\n",
      "✅ Combined features for extracted_audio/Actor_20/03-01-02-02-01-02-20.wav: {'num_words': 6, 'num_hesitations': 0, 'hesitation_ratio': 0.0, 'avg_sentence_length': np.float64(6.0), 'duration_sec': 4.070793650793651, 'pitch_std': np.float64(85.77837182991196), 'tempo_bpm': array([92.28515625]), 'file': '03-01-02-02-01-02-20.wav'}\n",
      "📁 Processing file: extracted_audio/Actor_20/03-01-03-01-01-01-20.wav\n"
     ]
    },
    {
     "name": "stderr",
     "output_type": "stream",
     "text": [
      "/Library/Frameworks/Python.framework/Versions/3.12/lib/python3.12/site-packages/whisper/transcribe.py:126: UserWarning: FP16 is not supported on CPU; using FP32 instead\n",
      "  warnings.warn(\"FP16 is not supported on CPU; using FP32 instead\")\n"
     ]
    },
    {
     "name": "stdout",
     "output_type": "stream",
     "text": [
      "🔊 Transcript for extracted_audio/Actor_20/03-01-03-01-01-01-20.wav:  Kids are talking by the door....\n",
      "📝 NLP features for extracted_audio/Actor_20/03-01-03-01-01-01-20.wav: {'num_words': 6, 'num_hesitations': 0, 'hesitation_ratio': 0.0, 'avg_sentence_length': np.float64(6.0)}\n",
      "🎧 Audio features for extracted_audio/Actor_20/03-01-03-01-01-01-20.wav: {'duration_sec': 3.5369160997732427, 'pitch_std': np.float64(94.20093933055165), 'tempo_bpm': array([71.77734375])}\n",
      "✅ Combined features for extracted_audio/Actor_20/03-01-03-01-01-01-20.wav: {'num_words': 6, 'num_hesitations': 0, 'hesitation_ratio': 0.0, 'avg_sentence_length': np.float64(6.0), 'duration_sec': 3.5369160997732427, 'pitch_std': np.float64(94.20093933055165), 'tempo_bpm': array([71.77734375]), 'file': '03-01-03-01-01-01-20.wav'}\n",
      "📁 Processing file: extracted_audio/Actor_20/03-01-03-02-02-01-20.wav\n"
     ]
    },
    {
     "name": "stderr",
     "output_type": "stream",
     "text": [
      "/Library/Frameworks/Python.framework/Versions/3.12/lib/python3.12/site-packages/whisper/transcribe.py:126: UserWarning: FP16 is not supported on CPU; using FP32 instead\n",
      "  warnings.warn(\"FP16 is not supported on CPU; using FP32 instead\")\n"
     ]
    },
    {
     "name": "stdout",
     "output_type": "stream",
     "text": [
      "🔊 Transcript for extracted_audio/Actor_20/03-01-03-02-02-01-20.wav:  Dogs are sitting by the door!...\n",
      "📝 NLP features for extracted_audio/Actor_20/03-01-03-02-02-01-20.wav: {'num_words': 6, 'num_hesitations': 0, 'hesitation_ratio': 0.0, 'avg_sentence_length': np.float64(6.0)}\n",
      "🎧 Audio features for extracted_audio/Actor_20/03-01-03-02-02-01-20.wav: {'duration_sec': 3.570294784580499, 'pitch_std': np.float64(87.68035937227292), 'tempo_bpm': array([95.703125])}\n",
      "✅ Combined features for extracted_audio/Actor_20/03-01-03-02-02-01-20.wav: {'num_words': 6, 'num_hesitations': 0, 'hesitation_ratio': 0.0, 'avg_sentence_length': np.float64(6.0), 'duration_sec': 3.570294784580499, 'pitch_std': np.float64(87.68035937227292), 'tempo_bpm': array([95.703125]), 'file': '03-01-03-02-02-01-20.wav'}\n",
      "📁 Processing file: extracted_audio/Actor_20/03-01-08-01-01-02-20.wav\n"
     ]
    },
    {
     "name": "stderr",
     "output_type": "stream",
     "text": [
      "/Library/Frameworks/Python.framework/Versions/3.12/lib/python3.12/site-packages/whisper/transcribe.py:126: UserWarning: FP16 is not supported on CPU; using FP32 instead\n",
      "  warnings.warn(\"FP16 is not supported on CPU; using FP32 instead\")\n"
     ]
    },
    {
     "name": "stdout",
     "output_type": "stream",
     "text": [
      "🔊 Transcript for extracted_audio/Actor_20/03-01-08-01-01-02-20.wav:  Kids are talking by the door....\n",
      "📝 NLP features for extracted_audio/Actor_20/03-01-08-01-01-02-20.wav: {'num_words': 6, 'num_hesitations': 0, 'hesitation_ratio': 0.0, 'avg_sentence_length': np.float64(6.0)}\n",
      "🎧 Audio features for extracted_audio/Actor_20/03-01-08-01-01-02-20.wav: {'duration_sec': 3.570294784580499, 'pitch_std': np.float64(88.95561044529003), 'tempo_bpm': array([234.90767045])}\n",
      "✅ Combined features for extracted_audio/Actor_20/03-01-08-01-01-02-20.wav: {'num_words': 6, 'num_hesitations': 0, 'hesitation_ratio': 0.0, 'avg_sentence_length': np.float64(6.0), 'duration_sec': 3.570294784580499, 'pitch_std': np.float64(88.95561044529003), 'tempo_bpm': array([234.90767045]), 'file': '03-01-08-01-01-02-20.wav'}\n",
      "📁 Processing file: extracted_audio/Actor_20/03-01-08-02-02-02-20.wav\n"
     ]
    },
    {
     "name": "stderr",
     "output_type": "stream",
     "text": [
      "/Library/Frameworks/Python.framework/Versions/3.12/lib/python3.12/site-packages/whisper/transcribe.py:126: UserWarning: FP16 is not supported on CPU; using FP32 instead\n",
      "  warnings.warn(\"FP16 is not supported on CPU; using FP32 instead\")\n"
     ]
    },
    {
     "name": "stdout",
     "output_type": "stream",
     "text": [
      "🔊 Transcript for extracted_audio/Actor_20/03-01-08-02-02-02-20.wav:  Dogs are sitting by the door....\n",
      "📝 NLP features for extracted_audio/Actor_20/03-01-08-02-02-02-20.wav: {'num_words': 6, 'num_hesitations': 0, 'hesitation_ratio': 0.0, 'avg_sentence_length': np.float64(6.0)}\n",
      "🎧 Audio features for extracted_audio/Actor_20/03-01-08-02-02-02-20.wav: {'duration_sec': 3.436780045351474, 'pitch_std': np.float64(101.62874994631366), 'tempo_bpm': array([64.59960938])}\n",
      "✅ Combined features for extracted_audio/Actor_20/03-01-08-02-02-02-20.wav: {'num_words': 6, 'num_hesitations': 0, 'hesitation_ratio': 0.0, 'avg_sentence_length': np.float64(6.0), 'duration_sec': 3.436780045351474, 'pitch_std': np.float64(101.62874994631366), 'tempo_bpm': array([64.59960938]), 'file': '03-01-08-02-02-02-20.wav'}\n",
      "📁 Processing file: extracted_audio/Actor_20/03-01-07-02-02-02-20.wav\n"
     ]
    },
    {
     "name": "stderr",
     "output_type": "stream",
     "text": [
      "/Library/Frameworks/Python.framework/Versions/3.12/lib/python3.12/site-packages/whisper/transcribe.py:126: UserWarning: FP16 is not supported on CPU; using FP32 instead\n",
      "  warnings.warn(\"FP16 is not supported on CPU; using FP32 instead\")\n"
     ]
    },
    {
     "name": "stdout",
     "output_type": "stream",
     "text": [
      "🔊 Transcript for extracted_audio/Actor_20/03-01-07-02-02-02-20.wav:  Dogs are sitting by the door....\n",
      "📝 NLP features for extracted_audio/Actor_20/03-01-07-02-02-02-20.wav: {'num_words': 6, 'num_hesitations': 0, 'hesitation_ratio': 0.0, 'avg_sentence_length': np.float64(6.0)}\n",
      "🎧 Audio features for extracted_audio/Actor_20/03-01-07-02-02-02-20.wav: {'duration_sec': 3.8705215419501133, 'pitch_std': np.float64(83.48770268955695), 'tempo_bpm': array([103.359375])}\n",
      "✅ Combined features for extracted_audio/Actor_20/03-01-07-02-02-02-20.wav: {'num_words': 6, 'num_hesitations': 0, 'hesitation_ratio': 0.0, 'avg_sentence_length': np.float64(6.0), 'duration_sec': 3.8705215419501133, 'pitch_std': np.float64(83.48770268955695), 'tempo_bpm': array([103.359375]), 'file': '03-01-07-02-02-02-20.wav'}\n",
      "📁 Processing file: extracted_audio/Actor_20/03-01-04-02-02-01-20.wav\n"
     ]
    },
    {
     "name": "stderr",
     "output_type": "stream",
     "text": [
      "/Library/Frameworks/Python.framework/Versions/3.12/lib/python3.12/site-packages/whisper/transcribe.py:126: UserWarning: FP16 is not supported on CPU; using FP32 instead\n",
      "  warnings.warn(\"FP16 is not supported on CPU; using FP32 instead\")\n"
     ]
    },
    {
     "name": "stdout",
     "output_type": "stream",
     "text": [
      "🔊 Transcript for extracted_audio/Actor_20/03-01-04-02-02-01-20.wav:  Talks are sitting by the door....\n",
      "📝 NLP features for extracted_audio/Actor_20/03-01-04-02-02-01-20.wav: {'num_words': 6, 'num_hesitations': 0, 'hesitation_ratio': 0.0, 'avg_sentence_length': np.float64(6.0)}\n",
      "🎧 Audio features for extracted_audio/Actor_20/03-01-04-02-02-01-20.wav: {'duration_sec': 3.803854875283447, 'pitch_std': np.float64(95.72398176799116), 'tempo_bpm': array([198.76802885])}\n",
      "✅ Combined features for extracted_audio/Actor_20/03-01-04-02-02-01-20.wav: {'num_words': 6, 'num_hesitations': 0, 'hesitation_ratio': 0.0, 'avg_sentence_length': np.float64(6.0), 'duration_sec': 3.803854875283447, 'pitch_std': np.float64(95.72398176799116), 'tempo_bpm': array([198.76802885]), 'file': '03-01-04-02-02-01-20.wav'}\n",
      "📁 Processing file: extracted_audio/Actor_20/03-01-04-01-01-01-20.wav\n"
     ]
    },
    {
     "name": "stderr",
     "output_type": "stream",
     "text": [
      "/Library/Frameworks/Python.framework/Versions/3.12/lib/python3.12/site-packages/whisper/transcribe.py:126: UserWarning: FP16 is not supported on CPU; using FP32 instead\n",
      "  warnings.warn(\"FP16 is not supported on CPU; using FP32 instead\")\n"
     ]
    },
    {
     "name": "stdout",
     "output_type": "stream",
     "text": [
      "🔊 Transcript for extracted_audio/Actor_20/03-01-04-01-01-01-20.wav:  Kids are talking by the door....\n",
      "📝 NLP features for extracted_audio/Actor_20/03-01-04-01-01-01-20.wav: {'num_words': 6, 'num_hesitations': 0, 'hesitation_ratio': 0.0, 'avg_sentence_length': np.float64(6.0)}\n",
      "🎧 Audio features for extracted_audio/Actor_20/03-01-04-01-01-01-20.wav: {'duration_sec': 3.603628117913832, 'pitch_std': np.float64(75.90068438564835), 'tempo_bpm': array([89.10290948])}\n",
      "✅ Combined features for extracted_audio/Actor_20/03-01-04-01-01-01-20.wav: {'num_words': 6, 'num_hesitations': 0, 'hesitation_ratio': 0.0, 'avg_sentence_length': np.float64(6.0), 'duration_sec': 3.603628117913832, 'pitch_std': np.float64(75.90068438564835), 'tempo_bpm': array([89.10290948]), 'file': '03-01-04-01-01-01-20.wav'}\n",
      "📁 Processing file: extracted_audio/Actor_20/03-01-07-01-01-02-20.wav\n"
     ]
    },
    {
     "name": "stderr",
     "output_type": "stream",
     "text": [
      "/Library/Frameworks/Python.framework/Versions/3.12/lib/python3.12/site-packages/whisper/transcribe.py:126: UserWarning: FP16 is not supported on CPU; using FP32 instead\n",
      "  warnings.warn(\"FP16 is not supported on CPU; using FP32 instead\")\n"
     ]
    },
    {
     "name": "stdout",
     "output_type": "stream",
     "text": [
      "🔊 Transcript for extracted_audio/Actor_20/03-01-07-01-01-02-20.wav:  Kids are talking by the door....\n",
      "📝 NLP features for extracted_audio/Actor_20/03-01-07-01-01-02-20.wav: {'num_words': 6, 'num_hesitations': 0, 'hesitation_ratio': 0.0, 'avg_sentence_length': np.float64(6.0)}\n",
      "🎧 Audio features for extracted_audio/Actor_20/03-01-07-01-01-02-20.wav: {'duration_sec': 3.737097505668934, 'pitch_std': np.float64(94.4831501572527), 'tempo_bpm': array([73.828125])}\n",
      "✅ Combined features for extracted_audio/Actor_20/03-01-07-01-01-02-20.wav: {'num_words': 6, 'num_hesitations': 0, 'hesitation_ratio': 0.0, 'avg_sentence_length': np.float64(6.0), 'duration_sec': 3.737097505668934, 'pitch_std': np.float64(94.4831501572527), 'tempo_bpm': array([73.828125]), 'file': '03-01-07-01-01-02-20.wav'}\n",
      "📁 Processing file: extracted_audio/Actor_20/03-01-05-02-01-02-20.wav\n"
     ]
    },
    {
     "name": "stderr",
     "output_type": "stream",
     "text": [
      "/Library/Frameworks/Python.framework/Versions/3.12/lib/python3.12/site-packages/whisper/transcribe.py:126: UserWarning: FP16 is not supported on CPU; using FP32 instead\n",
      "  warnings.warn(\"FP16 is not supported on CPU; using FP32 instead\")\n"
     ]
    },
    {
     "name": "stdout",
     "output_type": "stream",
     "text": [
      "🔊 Transcript for extracted_audio/Actor_20/03-01-05-02-01-02-20.wav:  Kids are talking by the door!...\n",
      "📝 NLP features for extracted_audio/Actor_20/03-01-05-02-01-02-20.wav: {'num_words': 6, 'num_hesitations': 0, 'hesitation_ratio': 0.0, 'avg_sentence_length': np.float64(6.0)}\n",
      "🎧 Audio features for extracted_audio/Actor_20/03-01-05-02-01-02-20.wav: {'duration_sec': 4.070748299319728, 'pitch_std': np.float64(81.91700432703375), 'tempo_bpm': array([234.90767045])}\n",
      "✅ Combined features for extracted_audio/Actor_20/03-01-05-02-01-02-20.wav: {'num_words': 6, 'num_hesitations': 0, 'hesitation_ratio': 0.0, 'avg_sentence_length': np.float64(6.0), 'duration_sec': 4.070748299319728, 'pitch_std': np.float64(81.91700432703375), 'tempo_bpm': array([234.90767045]), 'file': '03-01-05-02-01-02-20.wav'}\n",
      "📁 Processing file: extracted_audio/Actor_20/03-01-06-02-01-01-20.wav\n"
     ]
    },
    {
     "name": "stderr",
     "output_type": "stream",
     "text": [
      "/Library/Frameworks/Python.framework/Versions/3.12/lib/python3.12/site-packages/whisper/transcribe.py:126: UserWarning: FP16 is not supported on CPU; using FP32 instead\n",
      "  warnings.warn(\"FP16 is not supported on CPU; using FP32 instead\")\n"
     ]
    },
    {
     "name": "stdout",
     "output_type": "stream",
     "text": [
      "🔊 Transcript for extracted_audio/Actor_20/03-01-06-02-01-01-20.wav:  Kids are talking by the door!...\n",
      "📝 NLP features for extracted_audio/Actor_20/03-01-06-02-01-01-20.wav: {'num_words': 6, 'num_hesitations': 0, 'hesitation_ratio': 0.0, 'avg_sentence_length': np.float64(6.0)}\n",
      "🎧 Audio features for extracted_audio/Actor_20/03-01-06-02-01-01-20.wav: {'duration_sec': 4.237596371882086, 'pitch_std': np.float64(82.0959112287427), 'tempo_bpm': array([129.19921875])}\n",
      "✅ Combined features for extracted_audio/Actor_20/03-01-06-02-01-01-20.wav: {'num_words': 6, 'num_hesitations': 0, 'hesitation_ratio': 0.0, 'avg_sentence_length': np.float64(6.0), 'duration_sec': 4.237596371882086, 'pitch_std': np.float64(82.0959112287427), 'tempo_bpm': array([129.19921875]), 'file': '03-01-06-02-01-01-20.wav'}\n",
      "📁 Processing file: extracted_audio/Actor_20/03-01-06-01-02-01-20.wav\n"
     ]
    },
    {
     "name": "stderr",
     "output_type": "stream",
     "text": [
      "/Library/Frameworks/Python.framework/Versions/3.12/lib/python3.12/site-packages/whisper/transcribe.py:126: UserWarning: FP16 is not supported on CPU; using FP32 instead\n",
      "  warnings.warn(\"FP16 is not supported on CPU; using FP32 instead\")\n"
     ]
    },
    {
     "name": "stdout",
     "output_type": "stream",
     "text": [
      "🔊 Transcript for extracted_audio/Actor_20/03-01-06-01-02-01-20.wav:  Dogs are sitting by the door....\n",
      "📝 NLP features for extracted_audio/Actor_20/03-01-06-01-02-01-20.wav: {'num_words': 6, 'num_hesitations': 0, 'hesitation_ratio': 0.0, 'avg_sentence_length': np.float64(6.0)}\n",
      "🎧 Audio features for extracted_audio/Actor_20/03-01-06-01-02-01-20.wav: {'duration_sec': 3.937278911564626, 'pitch_std': np.float64(94.63956956413594), 'tempo_bpm': array([67.99958882])}\n",
      "✅ Combined features for extracted_audio/Actor_20/03-01-06-01-02-01-20.wav: {'num_words': 6, 'num_hesitations': 0, 'hesitation_ratio': 0.0, 'avg_sentence_length': np.float64(6.0), 'duration_sec': 3.937278911564626, 'pitch_std': np.float64(94.63956956413594), 'tempo_bpm': array([67.99958882]), 'file': '03-01-06-01-02-01-20.wav'}\n",
      "📁 Processing file: extracted_audio/Actor_20/03-01-05-01-02-02-20.wav\n"
     ]
    },
    {
     "name": "stderr",
     "output_type": "stream",
     "text": [
      "/Library/Frameworks/Python.framework/Versions/3.12/lib/python3.12/site-packages/whisper/transcribe.py:126: UserWarning: FP16 is not supported on CPU; using FP32 instead\n",
      "  warnings.warn(\"FP16 is not supported on CPU; using FP32 instead\")\n"
     ]
    },
    {
     "name": "stdout",
     "output_type": "stream",
     "text": [
      "🔊 Transcript for extracted_audio/Actor_20/03-01-05-01-02-02-20.wav:  Dogs are sitting by the door....\n",
      "📝 NLP features for extracted_audio/Actor_20/03-01-05-01-02-02-20.wav: {'num_words': 6, 'num_hesitations': 0, 'hesitation_ratio': 0.0, 'avg_sentence_length': np.float64(6.0)}\n",
      "🎧 Audio features for extracted_audio/Actor_20/03-01-05-01-02-02-20.wav: {'duration_sec': 3.803809523809524, 'pitch_std': np.float64(88.3485366766873), 'tempo_bpm': array([66.25600962])}\n",
      "✅ Combined features for extracted_audio/Actor_20/03-01-05-01-02-02-20.wav: {'num_words': 6, 'num_hesitations': 0, 'hesitation_ratio': 0.0, 'avg_sentence_length': np.float64(6.0), 'duration_sec': 3.803809523809524, 'pitch_std': np.float64(88.3485366766873), 'tempo_bpm': array([66.25600962]), 'file': '03-01-05-01-02-02-20.wav'}\n",
      "📁 Processing file: extracted_audio/Actor_20/03-01-03-02-01-01-20.wav\n"
     ]
    },
    {
     "name": "stderr",
     "output_type": "stream",
     "text": [
      "/Library/Frameworks/Python.framework/Versions/3.12/lib/python3.12/site-packages/whisper/transcribe.py:126: UserWarning: FP16 is not supported on CPU; using FP32 instead\n",
      "  warnings.warn(\"FP16 is not supported on CPU; using FP32 instead\")\n"
     ]
    },
    {
     "name": "stdout",
     "output_type": "stream",
     "text": [
      "🔊 Transcript for extracted_audio/Actor_20/03-01-03-02-01-01-20.wav:  Kids are talking by the door....\n",
      "📝 NLP features for extracted_audio/Actor_20/03-01-03-02-01-01-20.wav: {'num_words': 6, 'num_hesitations': 0, 'hesitation_ratio': 0.0, 'avg_sentence_length': np.float64(6.0)}\n",
      "🎧 Audio features for extracted_audio/Actor_20/03-01-03-02-01-01-20.wav: {'duration_sec': 3.670340136054422, 'pitch_std': np.float64(92.01634579350457), 'tempo_bpm': array([135.99917763])}\n",
      "✅ Combined features for extracted_audio/Actor_20/03-01-03-02-01-01-20.wav: {'num_words': 6, 'num_hesitations': 0, 'hesitation_ratio': 0.0, 'avg_sentence_length': np.float64(6.0), 'duration_sec': 3.670340136054422, 'pitch_std': np.float64(92.01634579350457), 'tempo_bpm': array([135.99917763]), 'file': '03-01-03-02-01-01-20.wav'}\n",
      "📁 Processing file: extracted_audio/Actor_20/03-01-03-01-02-01-20.wav\n"
     ]
    },
    {
     "name": "stderr",
     "output_type": "stream",
     "text": [
      "/Library/Frameworks/Python.framework/Versions/3.12/lib/python3.12/site-packages/whisper/transcribe.py:126: UserWarning: FP16 is not supported on CPU; using FP32 instead\n",
      "  warnings.warn(\"FP16 is not supported on CPU; using FP32 instead\")\n"
     ]
    },
    {
     "name": "stdout",
     "output_type": "stream",
     "text": [
      "🔊 Transcript for extracted_audio/Actor_20/03-01-03-01-02-01-20.wav:  and dogs are sitting by the door....\n",
      "📝 NLP features for extracted_audio/Actor_20/03-01-03-01-02-01-20.wav: {'num_words': 7, 'num_hesitations': 0, 'hesitation_ratio': 0.0, 'avg_sentence_length': np.float64(7.0)}\n",
      "🎧 Audio features for extracted_audio/Actor_20/03-01-03-01-02-01-20.wav: {'duration_sec': 3.47015873015873, 'pitch_std': np.float64(74.89861738796223), 'tempo_bpm': array([234.90767045])}\n",
      "✅ Combined features for extracted_audio/Actor_20/03-01-03-01-02-01-20.wav: {'num_words': 7, 'num_hesitations': 0, 'hesitation_ratio': 0.0, 'avg_sentence_length': np.float64(7.0), 'duration_sec': 3.47015873015873, 'pitch_std': np.float64(74.89861738796223), 'tempo_bpm': array([234.90767045]), 'file': '03-01-03-01-02-01-20.wav'}\n",
      "📁 Processing file: extracted_audio/Actor_20/03-01-02-02-02-02-20.wav\n"
     ]
    },
    {
     "name": "stderr",
     "output_type": "stream",
     "text": [
      "/Library/Frameworks/Python.framework/Versions/3.12/lib/python3.12/site-packages/whisper/transcribe.py:126: UserWarning: FP16 is not supported on CPU; using FP32 instead\n",
      "  warnings.warn(\"FP16 is not supported on CPU; using FP32 instead\")\n"
     ]
    },
    {
     "name": "stdout",
     "output_type": "stream",
     "text": [
      "🔊 Transcript for extracted_audio/Actor_20/03-01-02-02-02-02-20.wav:  Dogs are sitting by the door....\n",
      "📝 NLP features for extracted_audio/Actor_20/03-01-02-02-02-02-20.wav: {'num_words': 6, 'num_hesitations': 0, 'hesitation_ratio': 0.0, 'avg_sentence_length': np.float64(6.0)}\n",
      "🎧 Audio features for extracted_audio/Actor_20/03-01-02-02-02-02-20.wav: {'duration_sec': 3.6370068027210882, 'pitch_std': np.float64(89.42957878844189), 'tempo_bpm': array([215.33203125])}\n",
      "✅ Combined features for extracted_audio/Actor_20/03-01-02-02-02-02-20.wav: {'num_words': 6, 'num_hesitations': 0, 'hesitation_ratio': 0.0, 'avg_sentence_length': np.float64(6.0), 'duration_sec': 3.6370068027210882, 'pitch_std': np.float64(89.42957878844189), 'tempo_bpm': array([215.33203125]), 'file': '03-01-02-02-02-02-20.wav'}\n",
      "📁 Processing file: extracted_audio/Actor_20/03-01-02-01-01-02-20.wav\n"
     ]
    },
    {
     "name": "stderr",
     "output_type": "stream",
     "text": [
      "/Library/Frameworks/Python.framework/Versions/3.12/lib/python3.12/site-packages/whisper/transcribe.py:126: UserWarning: FP16 is not supported on CPU; using FP32 instead\n",
      "  warnings.warn(\"FP16 is not supported on CPU; using FP32 instead\")\n"
     ]
    },
    {
     "name": "stdout",
     "output_type": "stream",
     "text": [
      "🔊 Transcript for extracted_audio/Actor_20/03-01-02-01-01-02-20.wav:  Kids are talking by the door....\n",
      "📝 NLP features for extracted_audio/Actor_20/03-01-02-01-01-02-20.wav: {'num_words': 6, 'num_hesitations': 0, 'hesitation_ratio': 0.0, 'avg_sentence_length': np.float64(6.0)}\n",
      "🎧 Audio features for extracted_audio/Actor_20/03-01-02-01-01-02-20.wav: {'duration_sec': 3.570249433106576, 'pitch_std': np.float64(83.92094828853483), 'tempo_bpm': array([92.28515625])}\n",
      "✅ Combined features for extracted_audio/Actor_20/03-01-02-01-01-02-20.wav: {'num_words': 6, 'num_hesitations': 0, 'hesitation_ratio': 0.0, 'avg_sentence_length': np.float64(6.0), 'duration_sec': 3.570249433106576, 'pitch_std': np.float64(83.92094828853483), 'tempo_bpm': array([92.28515625]), 'file': '03-01-02-01-01-02-20.wav'}\n",
      "📁 Processing file: extracted_audio/Actor_20/03-01-01-01-01-01-20.wav\n"
     ]
    },
    {
     "name": "stderr",
     "output_type": "stream",
     "text": [
      "/Library/Frameworks/Python.framework/Versions/3.12/lib/python3.12/site-packages/whisper/transcribe.py:126: UserWarning: FP16 is not supported on CPU; using FP32 instead\n",
      "  warnings.warn(\"FP16 is not supported on CPU; using FP32 instead\")\n"
     ]
    },
    {
     "name": "stdout",
     "output_type": "stream",
     "text": [
      "🔊 Transcript for extracted_audio/Actor_20/03-01-01-01-01-01-20.wav:  Kids are talking by the door....\n",
      "📝 NLP features for extracted_audio/Actor_20/03-01-01-01-01-01-20.wav: {'num_words': 6, 'num_hesitations': 0, 'hesitation_ratio': 0.0, 'avg_sentence_length': np.float64(6.0)}\n",
      "🎧 Audio features for extracted_audio/Actor_20/03-01-01-01-01-01-20.wav: {'duration_sec': 3.47015873015873, 'pitch_std': np.float64(91.92611643209042), 'tempo_bpm': array([129.19921875])}\n",
      "✅ Combined features for extracted_audio/Actor_20/03-01-01-01-01-01-20.wav: {'num_words': 6, 'num_hesitations': 0, 'hesitation_ratio': 0.0, 'avg_sentence_length': np.float64(6.0), 'duration_sec': 3.47015873015873, 'pitch_std': np.float64(91.92611643209042), 'tempo_bpm': array([129.19921875]), 'file': '03-01-01-01-01-01-20.wav'}\n",
      "📁 Processing file: extracted_audio/Actor_20/03-01-08-02-01-02-20.wav\n"
     ]
    },
    {
     "name": "stderr",
     "output_type": "stream",
     "text": [
      "/Library/Frameworks/Python.framework/Versions/3.12/lib/python3.12/site-packages/whisper/transcribe.py:126: UserWarning: FP16 is not supported on CPU; using FP32 instead\n",
      "  warnings.warn(\"FP16 is not supported on CPU; using FP32 instead\")\n"
     ]
    },
    {
     "name": "stdout",
     "output_type": "stream",
     "text": [
      "🔊 Transcript for extracted_audio/Actor_20/03-01-08-02-01-02-20.wav:  Kids are talking by the door....\n",
      "📝 NLP features for extracted_audio/Actor_20/03-01-08-02-01-02-20.wav: {'num_words': 6, 'num_hesitations': 0, 'hesitation_ratio': 0.0, 'avg_sentence_length': np.float64(6.0)}\n",
      "🎧 Audio features for extracted_audio/Actor_20/03-01-08-02-01-02-20.wav: {'duration_sec': 3.2365986394557824, 'pitch_std': np.float64(93.3075321565465), 'tempo_bpm': array([89.10290948])}\n",
      "✅ Combined features for extracted_audio/Actor_20/03-01-08-02-01-02-20.wav: {'num_words': 6, 'num_hesitations': 0, 'hesitation_ratio': 0.0, 'avg_sentence_length': np.float64(6.0), 'duration_sec': 3.2365986394557824, 'pitch_std': np.float64(93.3075321565465), 'tempo_bpm': array([89.10290948]), 'file': '03-01-08-02-01-02-20.wav'}\n",
      "📁 Processing file: extracted_audio/Actor_20/03-01-08-01-02-02-20.wav\n"
     ]
    },
    {
     "name": "stderr",
     "output_type": "stream",
     "text": [
      "/Library/Frameworks/Python.framework/Versions/3.12/lib/python3.12/site-packages/whisper/transcribe.py:126: UserWarning: FP16 is not supported on CPU; using FP32 instead\n",
      "  warnings.warn(\"FP16 is not supported on CPU; using FP32 instead\")\n"
     ]
    },
    {
     "name": "stdout",
     "output_type": "stream",
     "text": [
      "🔊 Transcript for extracted_audio/Actor_20/03-01-08-01-02-02-20.wav:  Dr. Sitting by the door....\n",
      "📝 NLP features for extracted_audio/Actor_20/03-01-08-01-02-02-20.wav: {'num_words': 5, 'num_hesitations': 0, 'hesitation_ratio': 0.0, 'avg_sentence_length': np.float64(2.5)}\n",
      "🎧 Audio features for extracted_audio/Actor_20/03-01-08-01-02-02-20.wav: {'duration_sec': 3.2032199546485263, 'pitch_std': np.float64(90.58505226923123), 'tempo_bpm': array([92.28515625])}\n",
      "✅ Combined features for extracted_audio/Actor_20/03-01-08-01-02-02-20.wav: {'num_words': 5, 'num_hesitations': 0, 'hesitation_ratio': 0.0, 'avg_sentence_length': np.float64(2.5), 'duration_sec': 3.2032199546485263, 'pitch_std': np.float64(90.58505226923123), 'tempo_bpm': array([92.28515625]), 'file': '03-01-08-01-02-02-20.wav'}\n",
      "📁 Processing file: extracted_audio/Actor_20/03-01-06-01-01-01-20.wav\n"
     ]
    },
    {
     "name": "stderr",
     "output_type": "stream",
     "text": [
      "/Library/Frameworks/Python.framework/Versions/3.12/lib/python3.12/site-packages/whisper/transcribe.py:126: UserWarning: FP16 is not supported on CPU; using FP32 instead\n",
      "  warnings.warn(\"FP16 is not supported on CPU; using FP32 instead\")\n"
     ]
    },
    {
     "name": "stdout",
     "output_type": "stream",
     "text": [
      "🔊 Transcript for extracted_audio/Actor_20/03-01-06-01-01-01-20.wav:  Kids are talking by the door....\n",
      "📝 NLP features for extracted_audio/Actor_20/03-01-06-01-01-01-20.wav: {'num_words': 6, 'num_hesitations': 0, 'hesitation_ratio': 0.0, 'avg_sentence_length': np.float64(6.0)}\n",
      "🎧 Audio features for extracted_audio/Actor_20/03-01-06-01-01-01-20.wav: {'duration_sec': 3.803854875283447, 'pitch_std': np.float64(95.63886864199385), 'tempo_bpm': array([117.45383523])}\n",
      "✅ Combined features for extracted_audio/Actor_20/03-01-06-01-01-01-20.wav: {'num_words': 6, 'num_hesitations': 0, 'hesitation_ratio': 0.0, 'avg_sentence_length': np.float64(6.0), 'duration_sec': 3.803854875283447, 'pitch_std': np.float64(95.63886864199385), 'tempo_bpm': array([117.45383523]), 'file': '03-01-06-01-01-01-20.wav'}\n",
      "📁 Processing file: extracted_audio/Actor_20/03-01-05-01-01-02-20.wav\n"
     ]
    },
    {
     "name": "stderr",
     "output_type": "stream",
     "text": [
      "/Library/Frameworks/Python.framework/Versions/3.12/lib/python3.12/site-packages/whisper/transcribe.py:126: UserWarning: FP16 is not supported on CPU; using FP32 instead\n",
      "  warnings.warn(\"FP16 is not supported on CPU; using FP32 instead\")\n"
     ]
    },
    {
     "name": "stdout",
     "output_type": "stream",
     "text": [
      "🔊 Transcript for extracted_audio/Actor_20/03-01-05-01-01-02-20.wav:  Good kids are talking by the door....\n",
      "📝 NLP features for extracted_audio/Actor_20/03-01-05-01-01-02-20.wav: {'num_words': 7, 'num_hesitations': 0, 'hesitation_ratio': 0.0, 'avg_sentence_length': np.float64(7.0)}\n",
      "🎧 Audio features for extracted_audio/Actor_20/03-01-05-01-01-02-20.wav: {'duration_sec': 3.737097505668934, 'pitch_std': np.float64(91.14123253362435), 'tempo_bpm': array([234.90767045])}\n",
      "✅ Combined features for extracted_audio/Actor_20/03-01-05-01-01-02-20.wav: {'num_words': 7, 'num_hesitations': 0, 'hesitation_ratio': 0.0, 'avg_sentence_length': np.float64(7.0), 'duration_sec': 3.737097505668934, 'pitch_std': np.float64(91.14123253362435), 'tempo_bpm': array([234.90767045]), 'file': '03-01-05-01-01-02-20.wav'}\n",
      "📁 Processing file: extracted_audio/Actor_20/03-01-05-02-02-02-20.wav\n"
     ]
    },
    {
     "name": "stderr",
     "output_type": "stream",
     "text": [
      "/Library/Frameworks/Python.framework/Versions/3.12/lib/python3.12/site-packages/whisper/transcribe.py:126: UserWarning: FP16 is not supported on CPU; using FP32 instead\n",
      "  warnings.warn(\"FP16 is not supported on CPU; using FP32 instead\")\n"
     ]
    },
    {
     "name": "stdout",
     "output_type": "stream",
     "text": [
      "🔊 Transcript for extracted_audio/Actor_20/03-01-05-02-02-02-20.wav:  Dogs are sitting by the door....\n",
      "📝 NLP features for extracted_audio/Actor_20/03-01-05-02-02-02-20.wav: {'num_words': 6, 'num_hesitations': 0, 'hesitation_ratio': 0.0, 'avg_sentence_length': np.float64(6.0)}\n",
      "🎧 Audio features for extracted_audio/Actor_20/03-01-05-02-02-02-20.wav: {'duration_sec': 3.53687074829932, 'pitch_std': np.float64(77.03716087694582), 'tempo_bpm': array([198.76802885])}\n",
      "✅ Combined features for extracted_audio/Actor_20/03-01-05-02-02-02-20.wav: {'num_words': 6, 'num_hesitations': 0, 'hesitation_ratio': 0.0, 'avg_sentence_length': np.float64(6.0), 'duration_sec': 3.53687074829932, 'pitch_std': np.float64(77.03716087694582), 'tempo_bpm': array([198.76802885]), 'file': '03-01-05-02-02-02-20.wav'}\n",
      "📁 Processing file: extracted_audio/Actor_20/03-01-06-02-02-01-20.wav\n"
     ]
    },
    {
     "name": "stderr",
     "output_type": "stream",
     "text": [
      "/Library/Frameworks/Python.framework/Versions/3.12/lib/python3.12/site-packages/whisper/transcribe.py:126: UserWarning: FP16 is not supported on CPU; using FP32 instead\n",
      "  warnings.warn(\"FP16 is not supported on CPU; using FP32 instead\")\n"
     ]
    },
    {
     "name": "stdout",
     "output_type": "stream",
     "text": [
      "🔊 Transcript for extracted_audio/Actor_20/03-01-06-02-02-01-20.wav:  Dogs are sitting by the door!...\n",
      "📝 NLP features for extracted_audio/Actor_20/03-01-06-02-02-01-20.wav: {'num_words': 6, 'num_hesitations': 0, 'hesitation_ratio': 0.0, 'avg_sentence_length': np.float64(6.0)}\n",
      "🎧 Audio features for extracted_audio/Actor_20/03-01-06-02-02-01-20.wav: {'duration_sec': 3.8705668934240363, 'pitch_std': np.float64(80.65336019261747), 'tempo_bpm': array([103.359375])}\n",
      "✅ Combined features for extracted_audio/Actor_20/03-01-06-02-02-01-20.wav: {'num_words': 6, 'num_hesitations': 0, 'hesitation_ratio': 0.0, 'avg_sentence_length': np.float64(6.0), 'duration_sec': 3.8705668934240363, 'pitch_std': np.float64(80.65336019261747), 'tempo_bpm': array([103.359375]), 'file': '03-01-06-02-02-01-20.wav'}\n",
      "📁 Processing file: extracted_audio/Actor_20/03-01-04-01-02-01-20.wav\n"
     ]
    },
    {
     "name": "stderr",
     "output_type": "stream",
     "text": [
      "/Library/Frameworks/Python.framework/Versions/3.12/lib/python3.12/site-packages/whisper/transcribe.py:126: UserWarning: FP16 is not supported on CPU; using FP32 instead\n",
      "  warnings.warn(\"FP16 is not supported on CPU; using FP32 instead\")\n"
     ]
    },
    {
     "name": "stdout",
     "output_type": "stream",
     "text": [
      "🔊 Transcript for extracted_audio/Actor_20/03-01-04-01-02-01-20.wav:  Tox is sitting by the door....\n",
      "📝 NLP features for extracted_audio/Actor_20/03-01-04-01-02-01-20.wav: {'num_words': 6, 'num_hesitations': 0, 'hesitation_ratio': 0.0, 'avg_sentence_length': np.float64(6.0)}\n",
      "🎧 Audio features for extracted_audio/Actor_20/03-01-04-01-02-01-20.wav: {'duration_sec': 3.47015873015873, 'pitch_std': np.float64(89.1549286936293), 'tempo_bpm': array([215.33203125])}\n",
      "✅ Combined features for extracted_audio/Actor_20/03-01-04-01-02-01-20.wav: {'num_words': 6, 'num_hesitations': 0, 'hesitation_ratio': 0.0, 'avg_sentence_length': np.float64(6.0), 'duration_sec': 3.47015873015873, 'pitch_std': np.float64(89.1549286936293), 'tempo_bpm': array([215.33203125]), 'file': '03-01-04-01-02-01-20.wav'}\n",
      "📁 Processing file: extracted_audio/Actor_20/03-01-07-01-02-02-20.wav\n"
     ]
    },
    {
     "name": "stderr",
     "output_type": "stream",
     "text": [
      "/Library/Frameworks/Python.framework/Versions/3.12/lib/python3.12/site-packages/whisper/transcribe.py:126: UserWarning: FP16 is not supported on CPU; using FP32 instead\n",
      "  warnings.warn(\"FP16 is not supported on CPU; using FP32 instead\")\n"
     ]
    },
    {
     "name": "stdout",
     "output_type": "stream",
     "text": [
      "🔊 Transcript for extracted_audio/Actor_20/03-01-07-01-02-02-20.wav:  Dogs are sitting by the door....\n",
      "📝 NLP features for extracted_audio/Actor_20/03-01-07-01-02-02-20.wav: {'num_words': 6, 'num_hesitations': 0, 'hesitation_ratio': 0.0, 'avg_sentence_length': np.float64(6.0)}\n",
      "🎧 Audio features for extracted_audio/Actor_20/03-01-07-01-02-02-20.wav: {'duration_sec': 3.83718820861678, 'pitch_std': np.float64(91.45373809238421), 'tempo_bpm': array([86.1328125])}\n",
      "✅ Combined features for extracted_audio/Actor_20/03-01-07-01-02-02-20.wav: {'num_words': 6, 'num_hesitations': 0, 'hesitation_ratio': 0.0, 'avg_sentence_length': np.float64(6.0), 'duration_sec': 3.83718820861678, 'pitch_std': np.float64(91.45373809238421), 'tempo_bpm': array([86.1328125]), 'file': '03-01-07-01-02-02-20.wav'}\n",
      "📁 Processing file: extracted_audio/Actor_20/03-01-07-02-01-02-20.wav\n"
     ]
    },
    {
     "name": "stderr",
     "output_type": "stream",
     "text": [
      "/Library/Frameworks/Python.framework/Versions/3.12/lib/python3.12/site-packages/whisper/transcribe.py:126: UserWarning: FP16 is not supported on CPU; using FP32 instead\n",
      "  warnings.warn(\"FP16 is not supported on CPU; using FP32 instead\")\n"
     ]
    },
    {
     "name": "stdout",
     "output_type": "stream",
     "text": [
      "🔊 Transcript for extracted_audio/Actor_20/03-01-07-02-01-02-20.wav:  Kids are talking by the door....\n",
      "📝 NLP features for extracted_audio/Actor_20/03-01-07-02-01-02-20.wav: {'num_words': 6, 'num_hesitations': 0, 'hesitation_ratio': 0.0, 'avg_sentence_length': np.float64(6.0)}\n",
      "🎧 Audio features for extracted_audio/Actor_20/03-01-07-02-01-02-20.wav: {'duration_sec': 4.104126984126984, 'pitch_std': np.float64(91.621729413359), 'tempo_bpm': array([73.828125])}\n",
      "✅ Combined features for extracted_audio/Actor_20/03-01-07-02-01-02-20.wav: {'num_words': 6, 'num_hesitations': 0, 'hesitation_ratio': 0.0, 'avg_sentence_length': np.float64(6.0), 'duration_sec': 4.104126984126984, 'pitch_std': np.float64(91.621729413359), 'tempo_bpm': array([73.828125]), 'file': '03-01-07-02-01-02-20.wav'}\n",
      "📁 Processing file: extracted_audio/Actor_20/03-01-04-02-01-01-20.wav\n"
     ]
    },
    {
     "name": "stderr",
     "output_type": "stream",
     "text": [
      "/Library/Frameworks/Python.framework/Versions/3.12/lib/python3.12/site-packages/whisper/transcribe.py:126: UserWarning: FP16 is not supported on CPU; using FP32 instead\n",
      "  warnings.warn(\"FP16 is not supported on CPU; using FP32 instead\")\n"
     ]
    },
    {
     "name": "stdout",
     "output_type": "stream",
     "text": [
      "🔊 Transcript for extracted_audio/Actor_20/03-01-04-02-01-01-20.wav:  Kids are talking by the door....\n",
      "📝 NLP features for extracted_audio/Actor_20/03-01-04-02-01-01-20.wav: {'num_words': 6, 'num_hesitations': 0, 'hesitation_ratio': 0.0, 'avg_sentence_length': np.float64(6.0)}\n",
      "🎧 Audio features for extracted_audio/Actor_20/03-01-04-02-01-01-20.wav: {'duration_sec': 3.7704761904761903, 'pitch_std': np.float64(87.15881189358127), 'tempo_bpm': array([129.19921875])}\n",
      "✅ Combined features for extracted_audio/Actor_20/03-01-04-02-01-01-20.wav: {'num_words': 6, 'num_hesitations': 0, 'hesitation_ratio': 0.0, 'avg_sentence_length': np.float64(6.0), 'duration_sec': 3.7704761904761903, 'pitch_std': np.float64(87.15881189358127), 'tempo_bpm': array([129.19921875]), 'file': '03-01-04-02-01-01-20.wav'}\n",
      "📁 Processing file: extracted_audio/Actor_20/03-01-08-02-02-01-20.wav\n"
     ]
    },
    {
     "name": "stderr",
     "output_type": "stream",
     "text": [
      "/Library/Frameworks/Python.framework/Versions/3.12/lib/python3.12/site-packages/whisper/transcribe.py:126: UserWarning: FP16 is not supported on CPU; using FP32 instead\n",
      "  warnings.warn(\"FP16 is not supported on CPU; using FP32 instead\")\n"
     ]
    },
    {
     "name": "stdout",
     "output_type": "stream",
     "text": [
      "🔊 Transcript for extracted_audio/Actor_20/03-01-08-02-02-01-20.wav:  Dogs are sitting by the door....\n",
      "📝 NLP features for extracted_audio/Actor_20/03-01-08-02-02-01-20.wav: {'num_words': 6, 'num_hesitations': 0, 'hesitation_ratio': 0.0, 'avg_sentence_length': np.float64(6.0)}\n",
      "🎧 Audio features for extracted_audio/Actor_20/03-01-08-02-02-01-20.wav: {'duration_sec': 3.53687074829932, 'pitch_std': np.float64(88.73513812935806), 'tempo_bpm': array([95.703125])}\n",
      "✅ Combined features for extracted_audio/Actor_20/03-01-08-02-02-01-20.wav: {'num_words': 6, 'num_hesitations': 0, 'hesitation_ratio': 0.0, 'avg_sentence_length': np.float64(6.0), 'duration_sec': 3.53687074829932, 'pitch_std': np.float64(88.73513812935806), 'tempo_bpm': array([95.703125]), 'file': '03-01-08-02-02-01-20.wav'}\n",
      "📁 Processing file: extracted_audio/Actor_20/03-01-08-01-01-01-20.wav\n"
     ]
    },
    {
     "name": "stderr",
     "output_type": "stream",
     "text": [
      "/Library/Frameworks/Python.framework/Versions/3.12/lib/python3.12/site-packages/whisper/transcribe.py:126: UserWarning: FP16 is not supported on CPU; using FP32 instead\n",
      "  warnings.warn(\"FP16 is not supported on CPU; using FP32 instead\")\n"
     ]
    },
    {
     "name": "stdout",
     "output_type": "stream",
     "text": [
      "🔊 Transcript for extracted_audio/Actor_20/03-01-08-01-01-01-20.wav:  Kids are talking by the door....\n",
      "📝 NLP features for extracted_audio/Actor_20/03-01-08-01-01-01-20.wav: {'num_words': 6, 'num_hesitations': 0, 'hesitation_ratio': 0.0, 'avg_sentence_length': np.float64(6.0)}\n",
      "🎧 Audio features for extracted_audio/Actor_20/03-01-08-01-01-01-20.wav: {'duration_sec': 3.2365986394557824, 'pitch_std': np.float64(99.46394188359601), 'tempo_bpm': array([83.35433468])}\n",
      "✅ Combined features for extracted_audio/Actor_20/03-01-08-01-01-01-20.wav: {'num_words': 6, 'num_hesitations': 0, 'hesitation_ratio': 0.0, 'avg_sentence_length': np.float64(6.0), 'duration_sec': 3.2365986394557824, 'pitch_std': np.float64(99.46394188359601), 'tempo_bpm': array([83.35433468]), 'file': '03-01-08-01-01-01-20.wav'}\n",
      "📁 Processing file: extracted_audio/Actor_20/03-01-05-01-02-01-20.wav\n"
     ]
    },
    {
     "name": "stderr",
     "output_type": "stream",
     "text": [
      "/Library/Frameworks/Python.framework/Versions/3.12/lib/python3.12/site-packages/whisper/transcribe.py:126: UserWarning: FP16 is not supported on CPU; using FP32 instead\n",
      "  warnings.warn(\"FP16 is not supported on CPU; using FP32 instead\")\n"
     ]
    },
    {
     "name": "stdout",
     "output_type": "stream",
     "text": [
      "🔊 Transcript for extracted_audio/Actor_20/03-01-05-01-02-01-20.wav:  Dogs are sitting by the door....\n",
      "📝 NLP features for extracted_audio/Actor_20/03-01-05-01-02-01-20.wav: {'num_words': 6, 'num_hesitations': 0, 'hesitation_ratio': 0.0, 'avg_sentence_length': np.float64(6.0)}\n",
      "🎧 Audio features for extracted_audio/Actor_20/03-01-05-01-02-01-20.wav: {'duration_sec': 3.670340136054422, 'pitch_std': np.float64(84.65425168809662), 'tempo_bpm': array([107.66601562])}\n",
      "✅ Combined features for extracted_audio/Actor_20/03-01-05-01-02-01-20.wav: {'num_words': 6, 'num_hesitations': 0, 'hesitation_ratio': 0.0, 'avg_sentence_length': np.float64(6.0), 'duration_sec': 3.670340136054422, 'pitch_std': np.float64(84.65425168809662), 'tempo_bpm': array([107.66601562]), 'file': '03-01-05-01-02-01-20.wav'}\n",
      "📁 Processing file: extracted_audio/Actor_20/03-01-06-01-02-02-20.wav\n"
     ]
    },
    {
     "name": "stderr",
     "output_type": "stream",
     "text": [
      "/Library/Frameworks/Python.framework/Versions/3.12/lib/python3.12/site-packages/whisper/transcribe.py:126: UserWarning: FP16 is not supported on CPU; using FP32 instead\n",
      "  warnings.warn(\"FP16 is not supported on CPU; using FP32 instead\")\n"
     ]
    },
    {
     "name": "stdout",
     "output_type": "stream",
     "text": [
      "🔊 Transcript for extracted_audio/Actor_20/03-01-06-01-02-02-20.wav:  Talks are sitting by the door....\n",
      "📝 NLP features for extracted_audio/Actor_20/03-01-06-01-02-02-20.wav: {'num_words': 6, 'num_hesitations': 0, 'hesitation_ratio': 0.0, 'avg_sentence_length': np.float64(6.0)}\n",
      "🎧 Audio features for extracted_audio/Actor_20/03-01-06-01-02-02-20.wav: {'duration_sec': 3.3033106575963718, 'pitch_std': np.float64(82.87954814691594), 'tempo_bpm': array([143.5546875])}\n",
      "✅ Combined features for extracted_audio/Actor_20/03-01-06-01-02-02-20.wav: {'num_words': 6, 'num_hesitations': 0, 'hesitation_ratio': 0.0, 'avg_sentence_length': np.float64(6.0), 'duration_sec': 3.3033106575963718, 'pitch_std': np.float64(82.87954814691594), 'tempo_bpm': array([143.5546875]), 'file': '03-01-06-01-02-02-20.wav'}\n",
      "📁 Processing file: extracted_audio/Actor_20/03-01-06-02-01-02-20.wav\n"
     ]
    },
    {
     "name": "stderr",
     "output_type": "stream",
     "text": [
      "/Library/Frameworks/Python.framework/Versions/3.12/lib/python3.12/site-packages/whisper/transcribe.py:126: UserWarning: FP16 is not supported on CPU; using FP32 instead\n",
      "  warnings.warn(\"FP16 is not supported on CPU; using FP32 instead\")\n"
     ]
    },
    {
     "name": "stdout",
     "output_type": "stream",
     "text": [
      "🔊 Transcript for extracted_audio/Actor_20/03-01-06-02-01-02-20.wav:  Kids are talking by the door!...\n",
      "📝 NLP features for extracted_audio/Actor_20/03-01-06-02-01-02-20.wav: {'num_words': 6, 'num_hesitations': 0, 'hesitation_ratio': 0.0, 'avg_sentence_length': np.float64(6.0)}\n",
      "🎧 Audio features for extracted_audio/Actor_20/03-01-06-02-01-02-20.wav: {'duration_sec': 4.170839002267574, 'pitch_std': np.float64(79.72508625061207), 'tempo_bpm': array([86.1328125])}\n",
      "✅ Combined features for extracted_audio/Actor_20/03-01-06-02-01-02-20.wav: {'num_words': 6, 'num_hesitations': 0, 'hesitation_ratio': 0.0, 'avg_sentence_length': np.float64(6.0), 'duration_sec': 4.170839002267574, 'pitch_std': np.float64(79.72508625061207), 'tempo_bpm': array([86.1328125]), 'file': '03-01-06-02-01-02-20.wav'}\n",
      "📁 Processing file: extracted_audio/Actor_20/03-01-05-02-01-01-20.wav\n"
     ]
    },
    {
     "name": "stderr",
     "output_type": "stream",
     "text": [
      "/Library/Frameworks/Python.framework/Versions/3.12/lib/python3.12/site-packages/whisper/transcribe.py:126: UserWarning: FP16 is not supported on CPU; using FP32 instead\n",
      "  warnings.warn(\"FP16 is not supported on CPU; using FP32 instead\")\n"
     ]
    },
    {
     "name": "stdout",
     "output_type": "stream",
     "text": [
      "🔊 Transcript for extracted_audio/Actor_20/03-01-05-02-01-01-20.wav:  Kids are talking by the door....\n",
      "📝 NLP features for extracted_audio/Actor_20/03-01-05-02-01-01-20.wav: {'num_words': 6, 'num_hesitations': 0, 'hesitation_ratio': 0.0, 'avg_sentence_length': np.float64(6.0)}\n",
      "🎧 Audio features for extracted_audio/Actor_20/03-01-05-02-01-01-20.wav: {'duration_sec': 4.13750566893424, 'pitch_std': np.float64(87.38643970840972), 'tempo_bpm': array([103.359375])}\n",
      "✅ Combined features for extracted_audio/Actor_20/03-01-05-02-01-01-20.wav: {'num_words': 6, 'num_hesitations': 0, 'hesitation_ratio': 0.0, 'avg_sentence_length': np.float64(6.0), 'duration_sec': 4.13750566893424, 'pitch_std': np.float64(87.38643970840972), 'tempo_bpm': array([103.359375]), 'file': '03-01-05-02-01-01-20.wav'}\n",
      "📁 Processing file: extracted_audio/Actor_20/03-01-07-01-01-01-20.wav\n"
     ]
    },
    {
     "name": "stderr",
     "output_type": "stream",
     "text": [
      "/Library/Frameworks/Python.framework/Versions/3.12/lib/python3.12/site-packages/whisper/transcribe.py:126: UserWarning: FP16 is not supported on CPU; using FP32 instead\n",
      "  warnings.warn(\"FP16 is not supported on CPU; using FP32 instead\")\n"
     ]
    },
    {
     "name": "stdout",
     "output_type": "stream",
     "text": [
      "🔊 Transcript for extracted_audio/Actor_20/03-01-07-01-01-01-20.wav:  Kids are talking by the door....\n",
      "📝 NLP features for extracted_audio/Actor_20/03-01-07-01-01-01-20.wav: {'num_words': 6, 'num_hesitations': 0, 'hesitation_ratio': 0.0, 'avg_sentence_length': np.float64(6.0)}\n",
      "🎧 Audio features for extracted_audio/Actor_20/03-01-07-01-01-01-20.wav: {'duration_sec': 3.8705215419501133, 'pitch_std': np.float64(93.72782871027603), 'tempo_bpm': array([112.34714674])}\n",
      "✅ Combined features for extracted_audio/Actor_20/03-01-07-01-01-01-20.wav: {'num_words': 6, 'num_hesitations': 0, 'hesitation_ratio': 0.0, 'avg_sentence_length': np.float64(6.0), 'duration_sec': 3.8705215419501133, 'pitch_std': np.float64(93.72782871027603), 'tempo_bpm': array([112.34714674]), 'file': '03-01-07-01-01-01-20.wav'}\n",
      "📁 Processing file: extracted_audio/Actor_20/03-01-04-01-01-02-20.wav\n"
     ]
    },
    {
     "name": "stderr",
     "output_type": "stream",
     "text": [
      "/Library/Frameworks/Python.framework/Versions/3.12/lib/python3.12/site-packages/whisper/transcribe.py:126: UserWarning: FP16 is not supported on CPU; using FP32 instead\n",
      "  warnings.warn(\"FP16 is not supported on CPU; using FP32 instead\")\n"
     ]
    },
    {
     "name": "stdout",
     "output_type": "stream",
     "text": [
      "🔊 Transcript for extracted_audio/Actor_20/03-01-04-01-01-02-20.wav:  Kids are talking by the door....\n",
      "📝 NLP features for extracted_audio/Actor_20/03-01-04-01-01-02-20.wav: {'num_words': 6, 'num_hesitations': 0, 'hesitation_ratio': 0.0, 'avg_sentence_length': np.float64(6.0)}\n",
      "🎧 Audio features for extracted_audio/Actor_20/03-01-04-01-01-02-20.wav: {'duration_sec': 3.5035374149659866, 'pitch_std': np.float64(93.56953121892998), 'tempo_bpm': array([69.83741554])}\n",
      "✅ Combined features for extracted_audio/Actor_20/03-01-04-01-01-02-20.wav: {'num_words': 6, 'num_hesitations': 0, 'hesitation_ratio': 0.0, 'avg_sentence_length': np.float64(6.0), 'duration_sec': 3.5035374149659866, 'pitch_std': np.float64(93.56953121892998), 'tempo_bpm': array([69.83741554]), 'file': '03-01-04-01-01-02-20.wav'}\n",
      "📁 Processing file: extracted_audio/Actor_20/03-01-04-02-02-02-20.wav\n"
     ]
    },
    {
     "name": "stderr",
     "output_type": "stream",
     "text": [
      "/Library/Frameworks/Python.framework/Versions/3.12/lib/python3.12/site-packages/whisper/transcribe.py:126: UserWarning: FP16 is not supported on CPU; using FP32 instead\n",
      "  warnings.warn(\"FP16 is not supported on CPU; using FP32 instead\")\n"
     ]
    },
    {
     "name": "stdout",
     "output_type": "stream",
     "text": [
      "🔊 Transcript for extracted_audio/Actor_20/03-01-04-02-02-02-20.wav:  The dogs are sitting by the door....\n",
      "📝 NLP features for extracted_audio/Actor_20/03-01-04-02-02-02-20.wav: {'num_words': 7, 'num_hesitations': 0, 'hesitation_ratio': 0.0, 'avg_sentence_length': np.float64(7.0)}\n",
      "🎧 Audio features for extracted_audio/Actor_20/03-01-04-02-02-02-20.wav: {'duration_sec': 3.970657596371882, 'pitch_std': np.float64(85.54015416289259), 'tempo_bpm': array([95.703125])}\n",
      "✅ Combined features for extracted_audio/Actor_20/03-01-04-02-02-02-20.wav: {'num_words': 7, 'num_hesitations': 0, 'hesitation_ratio': 0.0, 'avg_sentence_length': np.float64(7.0), 'duration_sec': 3.970657596371882, 'pitch_std': np.float64(85.54015416289259), 'tempo_bpm': array([95.703125]), 'file': '03-01-04-02-02-02-20.wav'}\n",
      "📁 Processing file: extracted_audio/Actor_20/03-01-07-02-02-01-20.wav\n"
     ]
    },
    {
     "name": "stderr",
     "output_type": "stream",
     "text": [
      "/Library/Frameworks/Python.framework/Versions/3.12/lib/python3.12/site-packages/whisper/transcribe.py:126: UserWarning: FP16 is not supported on CPU; using FP32 instead\n",
      "  warnings.warn(\"FP16 is not supported on CPU; using FP32 instead\")\n"
     ]
    },
    {
     "name": "stdout",
     "output_type": "stream",
     "text": [
      "🔊 Transcript for extracted_audio/Actor_20/03-01-07-02-02-01-20.wav:  Dogs are sitting by the door....\n",
      "📝 NLP features for extracted_audio/Actor_20/03-01-07-02-02-01-20.wav: {'num_words': 6, 'num_hesitations': 0, 'hesitation_ratio': 0.0, 'avg_sentence_length': np.float64(6.0)}\n",
      "🎧 Audio features for extracted_audio/Actor_20/03-01-07-02-02-01-20.wav: {'duration_sec': 4.738095238095238, 'pitch_std': np.float64(80.46154773340724), 'tempo_bpm': array([69.83741554])}\n",
      "✅ Combined features for extracted_audio/Actor_20/03-01-07-02-02-01-20.wav: {'num_words': 6, 'num_hesitations': 0, 'hesitation_ratio': 0.0, 'avg_sentence_length': np.float64(6.0), 'duration_sec': 4.738095238095238, 'pitch_std': np.float64(80.46154773340724), 'tempo_bpm': array([69.83741554]), 'file': '03-01-07-02-02-01-20.wav'}\n",
      "📁 Processing file: extracted_audio/Actor_20/03-01-03-02-02-02-20.wav\n"
     ]
    },
    {
     "name": "stderr",
     "output_type": "stream",
     "text": [
      "/Library/Frameworks/Python.framework/Versions/3.12/lib/python3.12/site-packages/whisper/transcribe.py:126: UserWarning: FP16 is not supported on CPU; using FP32 instead\n",
      "  warnings.warn(\"FP16 is not supported on CPU; using FP32 instead\")\n"
     ]
    },
    {
     "name": "stdout",
     "output_type": "stream",
     "text": [
      "🔊 Transcript for extracted_audio/Actor_20/03-01-03-02-02-02-20.wav:  Dogs are sitting by the door!...\n",
      "📝 NLP features for extracted_audio/Actor_20/03-01-03-02-02-02-20.wav: {'num_words': 6, 'num_hesitations': 0, 'hesitation_ratio': 0.0, 'avg_sentence_length': np.float64(6.0)}\n",
      "🎧 Audio features for extracted_audio/Actor_20/03-01-03-02-02-02-20.wav: {'duration_sec': 3.703718820861678, 'pitch_std': np.float64(90.03327776287863), 'tempo_bpm': array([198.76802885])}\n",
      "✅ Combined features for extracted_audio/Actor_20/03-01-03-02-02-02-20.wav: {'num_words': 6, 'num_hesitations': 0, 'hesitation_ratio': 0.0, 'avg_sentence_length': np.float64(6.0), 'duration_sec': 3.703718820861678, 'pitch_std': np.float64(90.03327776287863), 'tempo_bpm': array([198.76802885]), 'file': '03-01-03-02-02-02-20.wav'}\n",
      "📁 Processing file: extracted_audio/Actor_20/03-01-03-01-01-02-20.wav\n"
     ]
    },
    {
     "name": "stderr",
     "output_type": "stream",
     "text": [
      "/Library/Frameworks/Python.framework/Versions/3.12/lib/python3.12/site-packages/whisper/transcribe.py:126: UserWarning: FP16 is not supported on CPU; using FP32 instead\n",
      "  warnings.warn(\"FP16 is not supported on CPU; using FP32 instead\")\n"
     ]
    },
    {
     "name": "stdout",
     "output_type": "stream",
     "text": [
      "🔊 Transcript for extracted_audio/Actor_20/03-01-03-01-01-02-20.wav:  Kids are talking by the door....\n",
      "📝 NLP features for extracted_audio/Actor_20/03-01-03-01-01-02-20.wav: {'num_words': 6, 'num_hesitations': 0, 'hesitation_ratio': 0.0, 'avg_sentence_length': np.float64(6.0)}\n",
      "🎧 Audio features for extracted_audio/Actor_20/03-01-03-01-01-02-20.wav: {'duration_sec': 3.703718820861678, 'pitch_std': np.float64(92.90862648683334), 'tempo_bpm': array([129.19921875])}\n",
      "✅ Combined features for extracted_audio/Actor_20/03-01-03-01-01-02-20.wav: {'num_words': 6, 'num_hesitations': 0, 'hesitation_ratio': 0.0, 'avg_sentence_length': np.float64(6.0), 'duration_sec': 3.703718820861678, 'pitch_std': np.float64(92.90862648683334), 'tempo_bpm': array([129.19921875]), 'file': '03-01-03-01-01-02-20.wav'}\n",
      "📁 Processing file: extracted_audio/Actor_20/03-01-02-02-01-01-20.wav\n"
     ]
    },
    {
     "name": "stderr",
     "output_type": "stream",
     "text": [
      "/Library/Frameworks/Python.framework/Versions/3.12/lib/python3.12/site-packages/whisper/transcribe.py:126: UserWarning: FP16 is not supported on CPU; using FP32 instead\n",
      "  warnings.warn(\"FP16 is not supported on CPU; using FP32 instead\")\n"
     ]
    },
    {
     "name": "stdout",
     "output_type": "stream",
     "text": [
      "🔊 Transcript for extracted_audio/Actor_20/03-01-02-02-01-01-20.wav:  Kids are talking by the door....\n",
      "📝 NLP features for extracted_audio/Actor_20/03-01-02-02-01-01-20.wav: {'num_words': 6, 'num_hesitations': 0, 'hesitation_ratio': 0.0, 'avg_sentence_length': np.float64(6.0)}\n",
      "🎧 Audio features for extracted_audio/Actor_20/03-01-02-02-01-01-20.wav: {'duration_sec': 3.8705668934240363, 'pitch_std': np.float64(92.06593640372901), 'tempo_bpm': array([184.5703125])}\n",
      "✅ Combined features for extracted_audio/Actor_20/03-01-02-02-01-01-20.wav: {'num_words': 6, 'num_hesitations': 0, 'hesitation_ratio': 0.0, 'avg_sentence_length': np.float64(6.0), 'duration_sec': 3.8705668934240363, 'pitch_std': np.float64(92.06593640372901), 'tempo_bpm': array([184.5703125]), 'file': '03-01-02-02-01-01-20.wav'}\n",
      "📁 Processing file: extracted_audio/Actor_20/03-01-01-01-02-02-20.wav\n"
     ]
    },
    {
     "name": "stderr",
     "output_type": "stream",
     "text": [
      "/Library/Frameworks/Python.framework/Versions/3.12/lib/python3.12/site-packages/whisper/transcribe.py:126: UserWarning: FP16 is not supported on CPU; using FP32 instead\n",
      "  warnings.warn(\"FP16 is not supported on CPU; using FP32 instead\")\n"
     ]
    },
    {
     "name": "stdout",
     "output_type": "stream",
     "text": [
      "🔊 Transcript for extracted_audio/Actor_20/03-01-01-01-02-02-20.wav:  Dogs are sitting by the door....\n",
      "📝 NLP features for extracted_audio/Actor_20/03-01-01-01-02-02-20.wav: {'num_words': 6, 'num_hesitations': 0, 'hesitation_ratio': 0.0, 'avg_sentence_length': np.float64(6.0)}\n",
      "🎧 Audio features for extracted_audio/Actor_20/03-01-01-01-02-02-20.wav: {'duration_sec': 3.5369160997732427, 'pitch_std': np.float64(93.14248987321665), 'tempo_bpm': array([64.59960938])}\n",
      "✅ Combined features for extracted_audio/Actor_20/03-01-01-01-02-02-20.wav: {'num_words': 6, 'num_hesitations': 0, 'hesitation_ratio': 0.0, 'avg_sentence_length': np.float64(6.0), 'duration_sec': 3.5369160997732427, 'pitch_std': np.float64(93.14248987321665), 'tempo_bpm': array([64.59960938]), 'file': '03-01-01-01-02-02-20.wav'}\n",
      "📁 Processing file: extracted_audio/Actor_20/03-01-02-01-02-01-20.wav\n"
     ]
    },
    {
     "name": "stderr",
     "output_type": "stream",
     "text": [
      "/Library/Frameworks/Python.framework/Versions/3.12/lib/python3.12/site-packages/whisper/transcribe.py:126: UserWarning: FP16 is not supported on CPU; using FP32 instead\n",
      "  warnings.warn(\"FP16 is not supported on CPU; using FP32 instead\")\n"
     ]
    },
    {
     "name": "stdout",
     "output_type": "stream",
     "text": [
      "🔊 Transcript for extracted_audio/Actor_20/03-01-02-01-02-01-20.wav:  Dogs are sitting by the door....\n",
      "📝 NLP features for extracted_audio/Actor_20/03-01-02-01-02-01-20.wav: {'num_words': 6, 'num_hesitations': 0, 'hesitation_ratio': 0.0, 'avg_sentence_length': np.float64(6.0)}\n",
      "🎧 Audio features for extracted_audio/Actor_20/03-01-02-01-02-01-20.wav: {'duration_sec': 3.336689342403628, 'pitch_std': np.float64(91.07917343792752), 'tempo_bpm': array([75.99954044])}\n",
      "✅ Combined features for extracted_audio/Actor_20/03-01-02-01-02-01-20.wav: {'num_words': 6, 'num_hesitations': 0, 'hesitation_ratio': 0.0, 'avg_sentence_length': np.float64(6.0), 'duration_sec': 3.336689342403628, 'pitch_std': np.float64(91.07917343792752), 'tempo_bpm': array([75.99954044]), 'file': '03-01-02-01-02-01-20.wav'}\n",
      "📁 Processing file: extracted_audio/Actor_21/03-01-08-02-01-01-21.wav\n"
     ]
    },
    {
     "name": "stderr",
     "output_type": "stream",
     "text": [
      "/Library/Frameworks/Python.framework/Versions/3.12/lib/python3.12/site-packages/whisper/transcribe.py:126: UserWarning: FP16 is not supported on CPU; using FP32 instead\n",
      "  warnings.warn(\"FP16 is not supported on CPU; using FP32 instead\")\n"
     ]
    },
    {
     "name": "stdout",
     "output_type": "stream",
     "text": [
      "🔊 Transcript for extracted_audio/Actor_21/03-01-08-02-01-01-21.wav:  Kids are talking by the door....\n",
      "📝 NLP features for extracted_audio/Actor_21/03-01-08-02-01-01-21.wav: {'num_words': 6, 'num_hesitations': 0, 'hesitation_ratio': 0.0, 'avg_sentence_length': np.float64(6.0)}\n",
      "🎧 Audio features for extracted_audio/Actor_21/03-01-08-02-01-01-21.wav: {'duration_sec': 3.6369614512471657, 'pitch_std': np.float64(79.51973043462306), 'tempo_bpm': array([172.265625])}\n",
      "✅ Combined features for extracted_audio/Actor_21/03-01-08-02-01-01-21.wav: {'num_words': 6, 'num_hesitations': 0, 'hesitation_ratio': 0.0, 'avg_sentence_length': np.float64(6.0), 'duration_sec': 3.6369614512471657, 'pitch_std': np.float64(79.51973043462306), 'tempo_bpm': array([172.265625]), 'file': '03-01-08-02-01-01-21.wav'}\n",
      "📁 Processing file: extracted_audio/Actor_21/03-01-08-01-02-01-21.wav\n"
     ]
    },
    {
     "name": "stderr",
     "output_type": "stream",
     "text": [
      "/Library/Frameworks/Python.framework/Versions/3.12/lib/python3.12/site-packages/whisper/transcribe.py:126: UserWarning: FP16 is not supported on CPU; using FP32 instead\n",
      "  warnings.warn(\"FP16 is not supported on CPU; using FP32 instead\")\n"
     ]
    },
    {
     "name": "stdout",
     "output_type": "stream",
     "text": [
      "🔊 Transcript for extracted_audio/Actor_21/03-01-08-01-02-01-21.wav:  Dogs are sitting by the door....\n",
      "📝 NLP features for extracted_audio/Actor_21/03-01-08-01-02-01-21.wav: {'num_words': 6, 'num_hesitations': 0, 'hesitation_ratio': 0.0, 'avg_sentence_length': np.float64(6.0)}\n",
      "🎧 Audio features for extracted_audio/Actor_21/03-01-08-01-02-01-21.wav: {'duration_sec': 3.47015873015873, 'pitch_std': np.float64(81.77280598547773), 'tempo_bpm': array([71.77734375])}\n",
      "✅ Combined features for extracted_audio/Actor_21/03-01-08-01-02-01-21.wav: {'num_words': 6, 'num_hesitations': 0, 'hesitation_ratio': 0.0, 'avg_sentence_length': np.float64(6.0), 'duration_sec': 3.47015873015873, 'pitch_std': np.float64(81.77280598547773), 'tempo_bpm': array([71.77734375]), 'file': '03-01-08-01-02-01-21.wav'}\n",
      "📁 Processing file: extracted_audio/Actor_21/03-01-06-01-01-02-21.wav\n"
     ]
    },
    {
     "name": "stderr",
     "output_type": "stream",
     "text": [
      "/Library/Frameworks/Python.framework/Versions/3.12/lib/python3.12/site-packages/whisper/transcribe.py:126: UserWarning: FP16 is not supported on CPU; using FP32 instead\n",
      "  warnings.warn(\"FP16 is not supported on CPU; using FP32 instead\")\n"
     ]
    },
    {
     "name": "stdout",
     "output_type": "stream",
     "text": [
      "🔊 Transcript for extracted_audio/Actor_21/03-01-06-01-01-02-21.wav:  Kids are talking by the door....\n",
      "📝 NLP features for extracted_audio/Actor_21/03-01-06-01-01-02-21.wav: {'num_words': 6, 'num_hesitations': 0, 'hesitation_ratio': 0.0, 'avg_sentence_length': np.float64(6.0)}\n",
      "🎧 Audio features for extracted_audio/Actor_21/03-01-06-01-01-02-21.wav: {'duration_sec': 3.7704308390022674, 'pitch_std': np.float64(66.9897947628249), 'tempo_bpm': array([215.33203125])}\n",
      "✅ Combined features for extracted_audio/Actor_21/03-01-06-01-01-02-21.wav: {'num_words': 6, 'num_hesitations': 0, 'hesitation_ratio': 0.0, 'avg_sentence_length': np.float64(6.0), 'duration_sec': 3.7704308390022674, 'pitch_std': np.float64(66.9897947628249), 'tempo_bpm': array([215.33203125]), 'file': '03-01-06-01-01-02-21.wav'}\n",
      "📁 Processing file: extracted_audio/Actor_21/03-01-05-01-01-01-21.wav\n"
     ]
    },
    {
     "name": "stderr",
     "output_type": "stream",
     "text": [
      "/Library/Frameworks/Python.framework/Versions/3.12/lib/python3.12/site-packages/whisper/transcribe.py:126: UserWarning: FP16 is not supported on CPU; using FP32 instead\n",
      "  warnings.warn(\"FP16 is not supported on CPU; using FP32 instead\")\n"
     ]
    },
    {
     "name": "stdout",
     "output_type": "stream",
     "text": [
      "🔊 Transcript for extracted_audio/Actor_21/03-01-05-01-01-01-21.wav:  Kids are talking by the door....\n",
      "📝 NLP features for extracted_audio/Actor_21/03-01-05-01-01-01-21.wav: {'num_words': 6, 'num_hesitations': 0, 'hesitation_ratio': 0.0, 'avg_sentence_length': np.float64(6.0)}\n",
      "🎧 Audio features for extracted_audio/Actor_21/03-01-05-01-01-01-21.wav: {'duration_sec': 4.13750566893424, 'pitch_std': np.float64(67.42532375156934), 'tempo_bpm': array([151.99908088])}\n",
      "✅ Combined features for extracted_audio/Actor_21/03-01-05-01-01-01-21.wav: {'num_words': 6, 'num_hesitations': 0, 'hesitation_ratio': 0.0, 'avg_sentence_length': np.float64(6.0), 'duration_sec': 4.13750566893424, 'pitch_std': np.float64(67.42532375156934), 'tempo_bpm': array([151.99908088]), 'file': '03-01-05-01-01-01-21.wav'}\n",
      "📁 Processing file: extracted_audio/Actor_21/03-01-05-02-02-01-21.wav\n"
     ]
    },
    {
     "name": "stderr",
     "output_type": "stream",
     "text": [
      "/Library/Frameworks/Python.framework/Versions/3.12/lib/python3.12/site-packages/whisper/transcribe.py:126: UserWarning: FP16 is not supported on CPU; using FP32 instead\n",
      "  warnings.warn(\"FP16 is not supported on CPU; using FP32 instead\")\n"
     ]
    },
    {
     "name": "stdout",
     "output_type": "stream",
     "text": [
      "🔊 Transcript for extracted_audio/Actor_21/03-01-05-02-02-01-21.wav:  Dogs are sitting by the door....\n",
      "📝 NLP features for extracted_audio/Actor_21/03-01-05-02-02-01-21.wav: {'num_words': 6, 'num_hesitations': 0, 'hesitation_ratio': 0.0, 'avg_sentence_length': np.float64(6.0)}\n",
      "🎧 Audio features for extracted_audio/Actor_21/03-01-05-02-02-01-21.wav: {'duration_sec': 4.104126984126984, 'pitch_std': np.float64(70.31110676858377), 'tempo_bpm': array([99.38401442])}\n",
      "✅ Combined features for extracted_audio/Actor_21/03-01-05-02-02-01-21.wav: {'num_words': 6, 'num_hesitations': 0, 'hesitation_ratio': 0.0, 'avg_sentence_length': np.float64(6.0), 'duration_sec': 4.104126984126984, 'pitch_std': np.float64(70.31110676858377), 'tempo_bpm': array([99.38401442]), 'file': '03-01-05-02-02-01-21.wav'}\n",
      "📁 Processing file: extracted_audio/Actor_21/03-01-06-02-02-02-21.wav\n"
     ]
    },
    {
     "name": "stderr",
     "output_type": "stream",
     "text": [
      "/Library/Frameworks/Python.framework/Versions/3.12/lib/python3.12/site-packages/whisper/transcribe.py:126: UserWarning: FP16 is not supported on CPU; using FP32 instead\n",
      "  warnings.warn(\"FP16 is not supported on CPU; using FP32 instead\")\n"
     ]
    },
    {
     "name": "stdout",
     "output_type": "stream",
     "text": [
      "🔊 Transcript for extracted_audio/Actor_21/03-01-06-02-02-02-21.wav:  Dogs are sitting by the door....\n",
      "📝 NLP features for extracted_audio/Actor_21/03-01-06-02-02-02-21.wav: {'num_words': 6, 'num_hesitations': 0, 'hesitation_ratio': 0.0, 'avg_sentence_length': np.float64(6.0)}\n",
      "🎧 Audio features for extracted_audio/Actor_21/03-01-06-02-02-02-21.wav: {'duration_sec': 3.6369614512471657, 'pitch_std': np.float64(59.64810614023786), 'tempo_bpm': array([60.09265988])}\n",
      "✅ Combined features for extracted_audio/Actor_21/03-01-06-02-02-02-21.wav: {'num_words': 6, 'num_hesitations': 0, 'hesitation_ratio': 0.0, 'avg_sentence_length': np.float64(6.0), 'duration_sec': 3.6369614512471657, 'pitch_std': np.float64(59.64810614023786), 'tempo_bpm': array([60.09265988]), 'file': '03-01-06-02-02-02-21.wav'}\n",
      "📁 Processing file: extracted_audio/Actor_21/03-01-04-01-02-02-21.wav\n"
     ]
    },
    {
     "name": "stderr",
     "output_type": "stream",
     "text": [
      "/Library/Frameworks/Python.framework/Versions/3.12/lib/python3.12/site-packages/whisper/transcribe.py:126: UserWarning: FP16 is not supported on CPU; using FP32 instead\n",
      "  warnings.warn(\"FP16 is not supported on CPU; using FP32 instead\")\n"
     ]
    },
    {
     "name": "stdout",
     "output_type": "stream",
     "text": [
      "🔊 Transcript for extracted_audio/Actor_21/03-01-04-01-02-02-21.wav:  Dogs are sitting by the door....\n",
      "📝 NLP features for extracted_audio/Actor_21/03-01-04-01-02-02-21.wav: {'num_words': 6, 'num_hesitations': 0, 'hesitation_ratio': 0.0, 'avg_sentence_length': np.float64(6.0)}\n",
      "🎧 Audio features for extracted_audio/Actor_21/03-01-04-01-02-02-21.wav: {'duration_sec': 4.20421768707483, 'pitch_std': np.float64(51.55271187510601), 'tempo_bpm': array([129.19921875])}\n",
      "✅ Combined features for extracted_audio/Actor_21/03-01-04-01-02-02-21.wav: {'num_words': 6, 'num_hesitations': 0, 'hesitation_ratio': 0.0, 'avg_sentence_length': np.float64(6.0), 'duration_sec': 4.20421768707483, 'pitch_std': np.float64(51.55271187510601), 'tempo_bpm': array([129.19921875]), 'file': '03-01-04-01-02-02-21.wav'}\n",
      "📁 Processing file: extracted_audio/Actor_21/03-01-07-01-02-01-21.wav\n"
     ]
    },
    {
     "name": "stderr",
     "output_type": "stream",
     "text": [
      "/Library/Frameworks/Python.framework/Versions/3.12/lib/python3.12/site-packages/whisper/transcribe.py:126: UserWarning: FP16 is not supported on CPU; using FP32 instead\n",
      "  warnings.warn(\"FP16 is not supported on CPU; using FP32 instead\")\n"
     ]
    },
    {
     "name": "stdout",
     "output_type": "stream",
     "text": [
      "🔊 Transcript for extracted_audio/Actor_21/03-01-07-01-02-01-21.wav:  Dogs are sitting by the door....\n",
      "📝 NLP features for extracted_audio/Actor_21/03-01-07-01-02-01-21.wav: {'num_words': 6, 'num_hesitations': 0, 'hesitation_ratio': 0.0, 'avg_sentence_length': np.float64(6.0)}\n",
      "🎧 Audio features for extracted_audio/Actor_21/03-01-07-01-02-01-21.wav: {'duration_sec': 3.6370068027210882, 'pitch_std': np.float64(63.40320806281108), 'tempo_bpm': array([56.17357337])}\n",
      "✅ Combined features for extracted_audio/Actor_21/03-01-07-01-02-01-21.wav: {'num_words': 6, 'num_hesitations': 0, 'hesitation_ratio': 0.0, 'avg_sentence_length': np.float64(6.0), 'duration_sec': 3.6370068027210882, 'pitch_std': np.float64(63.40320806281108), 'tempo_bpm': array([56.17357337]), 'file': '03-01-07-01-02-01-21.wav'}\n",
      "📁 Processing file: extracted_audio/Actor_21/03-01-07-02-01-01-21.wav\n"
     ]
    },
    {
     "name": "stderr",
     "output_type": "stream",
     "text": [
      "/Library/Frameworks/Python.framework/Versions/3.12/lib/python3.12/site-packages/whisper/transcribe.py:126: UserWarning: FP16 is not supported on CPU; using FP32 instead\n",
      "  warnings.warn(\"FP16 is not supported on CPU; using FP32 instead\")\n"
     ]
    },
    {
     "name": "stdout",
     "output_type": "stream",
     "text": [
      "🔊 Transcript for extracted_audio/Actor_21/03-01-07-02-01-01-21.wav:  Kids are talking by the door....\n",
      "📝 NLP features for extracted_audio/Actor_21/03-01-07-02-01-01-21.wav: {'num_words': 6, 'num_hesitations': 0, 'hesitation_ratio': 0.0, 'avg_sentence_length': np.float64(6.0)}\n",
      "🎧 Audio features for extracted_audio/Actor_21/03-01-07-02-01-01-21.wav: {'duration_sec': 4.070748299319728, 'pitch_std': np.float64(51.40402754829137), 'tempo_bpm': array([135.99917763])}\n",
      "✅ Combined features for extracted_audio/Actor_21/03-01-07-02-01-01-21.wav: {'num_words': 6, 'num_hesitations': 0, 'hesitation_ratio': 0.0, 'avg_sentence_length': np.float64(6.0), 'duration_sec': 4.070748299319728, 'pitch_std': np.float64(51.40402754829137), 'tempo_bpm': array([135.99917763]), 'file': '03-01-07-02-01-01-21.wav'}\n",
      "📁 Processing file: extracted_audio/Actor_21/03-01-04-02-01-02-21.wav\n"
     ]
    },
    {
     "name": "stderr",
     "output_type": "stream",
     "text": [
      "/Library/Frameworks/Python.framework/Versions/3.12/lib/python3.12/site-packages/whisper/transcribe.py:126: UserWarning: FP16 is not supported on CPU; using FP32 instead\n",
      "  warnings.warn(\"FP16 is not supported on CPU; using FP32 instead\")\n"
     ]
    },
    {
     "name": "stdout",
     "output_type": "stream",
     "text": [
      "🔊 Transcript for extracted_audio/Actor_21/03-01-04-02-01-02-21.wav:  Kids are talking by the door....\n",
      "📝 NLP features for extracted_audio/Actor_21/03-01-04-02-01-02-21.wav: {'num_words': 6, 'num_hesitations': 0, 'hesitation_ratio': 0.0, 'avg_sentence_length': np.float64(6.0)}\n",
      "🎧 Audio features for extracted_audio/Actor_21/03-01-04-02-01-02-21.wav: {'duration_sec': 4.270929705215419, 'pitch_std': np.float64(72.17671089849739), 'tempo_bpm': array([135.99917763])}\n",
      "✅ Combined features for extracted_audio/Actor_21/03-01-04-02-01-02-21.wav: {'num_words': 6, 'num_hesitations': 0, 'hesitation_ratio': 0.0, 'avg_sentence_length': np.float64(6.0), 'duration_sec': 4.270929705215419, 'pitch_std': np.float64(72.17671089849739), 'tempo_bpm': array([135.99917763]), 'file': '03-01-04-02-01-02-21.wav'}\n",
      "📁 Processing file: extracted_audio/Actor_21/03-01-03-02-01-02-21.wav\n"
     ]
    },
    {
     "name": "stderr",
     "output_type": "stream",
     "text": [
      "/Library/Frameworks/Python.framework/Versions/3.12/lib/python3.12/site-packages/whisper/transcribe.py:126: UserWarning: FP16 is not supported on CPU; using FP32 instead\n",
      "  warnings.warn(\"FP16 is not supported on CPU; using FP32 instead\")\n"
     ]
    },
    {
     "name": "stdout",
     "output_type": "stream",
     "text": [
      "🔊 Transcript for extracted_audio/Actor_21/03-01-03-02-01-02-21.wav:  Kids are talking by the door....\n",
      "📝 NLP features for extracted_audio/Actor_21/03-01-03-02-01-02-21.wav: {'num_words': 6, 'num_hesitations': 0, 'hesitation_ratio': 0.0, 'avg_sentence_length': np.float64(6.0)}\n",
      "🎧 Audio features for extracted_audio/Actor_21/03-01-03-02-01-02-21.wav: {'duration_sec': 3.937278911564626, 'pitch_std': np.float64(80.2468280808511), 'tempo_bpm': array([112.34714674])}\n",
      "✅ Combined features for extracted_audio/Actor_21/03-01-03-02-01-02-21.wav: {'num_words': 6, 'num_hesitations': 0, 'hesitation_ratio': 0.0, 'avg_sentence_length': np.float64(6.0), 'duration_sec': 3.937278911564626, 'pitch_std': np.float64(80.2468280808511), 'tempo_bpm': array([112.34714674]), 'file': '03-01-03-02-01-02-21.wav'}\n",
      "📁 Processing file: extracted_audio/Actor_21/03-01-03-01-02-02-21.wav\n"
     ]
    },
    {
     "name": "stderr",
     "output_type": "stream",
     "text": [
      "/Library/Frameworks/Python.framework/Versions/3.12/lib/python3.12/site-packages/whisper/transcribe.py:126: UserWarning: FP16 is not supported on CPU; using FP32 instead\n",
      "  warnings.warn(\"FP16 is not supported on CPU; using FP32 instead\")\n"
     ]
    },
    {
     "name": "stdout",
     "output_type": "stream",
     "text": [
      "🔊 Transcript for extracted_audio/Actor_21/03-01-03-01-02-02-21.wav:  Dogs are sitting by the door....\n",
      "📝 NLP features for extracted_audio/Actor_21/03-01-03-01-02-02-21.wav: {'num_words': 6, 'num_hesitations': 0, 'hesitation_ratio': 0.0, 'avg_sentence_length': np.float64(6.0)}\n",
      "🎧 Audio features for extracted_audio/Actor_21/03-01-03-01-02-02-21.wav: {'duration_sec': 3.83718820861678, 'pitch_std': np.float64(61.904954625448035), 'tempo_bpm': array([151.99908088])}\n",
      "✅ Combined features for extracted_audio/Actor_21/03-01-03-01-02-02-21.wav: {'num_words': 6, 'num_hesitations': 0, 'hesitation_ratio': 0.0, 'avg_sentence_length': np.float64(6.0), 'duration_sec': 3.83718820861678, 'pitch_std': np.float64(61.904954625448035), 'tempo_bpm': array([151.99908088]), 'file': '03-01-03-01-02-02-21.wav'}\n",
      "📁 Processing file: extracted_audio/Actor_21/03-01-02-02-02-01-21.wav\n"
     ]
    },
    {
     "name": "stderr",
     "output_type": "stream",
     "text": [
      "/Library/Frameworks/Python.framework/Versions/3.12/lib/python3.12/site-packages/whisper/transcribe.py:126: UserWarning: FP16 is not supported on CPU; using FP32 instead\n",
      "  warnings.warn(\"FP16 is not supported on CPU; using FP32 instead\")\n"
     ]
    },
    {
     "name": "stdout",
     "output_type": "stream",
     "text": [
      "🔊 Transcript for extracted_audio/Actor_21/03-01-02-02-02-01-21.wav:  Dogs are sitting by the door....\n",
      "📝 NLP features for extracted_audio/Actor_21/03-01-02-02-02-01-21.wav: {'num_words': 6, 'num_hesitations': 0, 'hesitation_ratio': 0.0, 'avg_sentence_length': np.float64(6.0)}\n",
      "🎧 Audio features for extracted_audio/Actor_21/03-01-02-02-02-01-21.wav: {'duration_sec': 4.13750566893424, 'pitch_std': np.float64(59.5705911130214), 'tempo_bpm': array([151.99908088])}\n",
      "✅ Combined features for extracted_audio/Actor_21/03-01-02-02-02-01-21.wav: {'num_words': 6, 'num_hesitations': 0, 'hesitation_ratio': 0.0, 'avg_sentence_length': np.float64(6.0), 'duration_sec': 4.13750566893424, 'pitch_std': np.float64(59.5705911130214), 'tempo_bpm': array([151.99908088]), 'file': '03-01-02-02-02-01-21.wav'}\n",
      "📁 Processing file: extracted_audio/Actor_21/03-01-02-01-01-01-21.wav\n"
     ]
    },
    {
     "name": "stderr",
     "output_type": "stream",
     "text": [
      "/Library/Frameworks/Python.framework/Versions/3.12/lib/python3.12/site-packages/whisper/transcribe.py:126: UserWarning: FP16 is not supported on CPU; using FP32 instead\n",
      "  warnings.warn(\"FP16 is not supported on CPU; using FP32 instead\")\n"
     ]
    },
    {
     "name": "stdout",
     "output_type": "stream",
     "text": [
      "🔊 Transcript for extracted_audio/Actor_21/03-01-02-01-01-01-21.wav:  Kids are talking by the door....\n",
      "📝 NLP features for extracted_audio/Actor_21/03-01-02-01-01-01-21.wav: {'num_words': 6, 'num_hesitations': 0, 'hesitation_ratio': 0.0, 'avg_sentence_length': np.float64(6.0)}\n",
      "🎧 Audio features for extracted_audio/Actor_21/03-01-02-01-01-01-21.wav: {'duration_sec': 4.037414965986395, 'pitch_std': np.float64(57.22803162255098), 'tempo_bpm': array([117.45383523])}\n",
      "✅ Combined features for extracted_audio/Actor_21/03-01-02-01-01-01-21.wav: {'num_words': 6, 'num_hesitations': 0, 'hesitation_ratio': 0.0, 'avg_sentence_length': np.float64(6.0), 'duration_sec': 4.037414965986395, 'pitch_std': np.float64(57.22803162255098), 'tempo_bpm': array([117.45383523]), 'file': '03-01-02-01-01-01-21.wav'}\n",
      "📁 Processing file: extracted_audio/Actor_21/03-01-01-01-01-02-21.wav\n"
     ]
    },
    {
     "name": "stderr",
     "output_type": "stream",
     "text": [
      "/Library/Frameworks/Python.framework/Versions/3.12/lib/python3.12/site-packages/whisper/transcribe.py:126: UserWarning: FP16 is not supported on CPU; using FP32 instead\n",
      "  warnings.warn(\"FP16 is not supported on CPU; using FP32 instead\")\n"
     ]
    },
    {
     "name": "stdout",
     "output_type": "stream",
     "text": [
      "🔊 Transcript for extracted_audio/Actor_21/03-01-01-01-01-02-21.wav:  Kids are talking by the door....\n",
      "📝 NLP features for extracted_audio/Actor_21/03-01-01-01-01-02-21.wav: {'num_words': 6, 'num_hesitations': 0, 'hesitation_ratio': 0.0, 'avg_sentence_length': np.float64(6.0)}\n",
      "🎧 Audio features for extracted_audio/Actor_21/03-01-01-01-01-02-21.wav: {'duration_sec': 3.970657596371882, 'pitch_std': np.float64(51.908701162921886), 'tempo_bpm': array([198.76802885])}\n",
      "✅ Combined features for extracted_audio/Actor_21/03-01-01-01-01-02-21.wav: {'num_words': 6, 'num_hesitations': 0, 'hesitation_ratio': 0.0, 'avg_sentence_length': np.float64(6.0), 'duration_sec': 3.970657596371882, 'pitch_std': np.float64(51.908701162921886), 'tempo_bpm': array([198.76802885]), 'file': '03-01-01-01-01-02-21.wav'}\n",
      "📁 Processing file: extracted_audio/Actor_21/03-01-03-02-02-01-21.wav\n"
     ]
    },
    {
     "name": "stderr",
     "output_type": "stream",
     "text": [
      "/Library/Frameworks/Python.framework/Versions/3.12/lib/python3.12/site-packages/whisper/transcribe.py:126: UserWarning: FP16 is not supported on CPU; using FP32 instead\n",
      "  warnings.warn(\"FP16 is not supported on CPU; using FP32 instead\")\n"
     ]
    },
    {
     "name": "stdout",
     "output_type": "stream",
     "text": [
      "🔊 Transcript for extracted_audio/Actor_21/03-01-03-02-02-01-21.wav:  Dogs are sitting by the door....\n",
      "📝 NLP features for extracted_audio/Actor_21/03-01-03-02-02-01-21.wav: {'num_words': 6, 'num_hesitations': 0, 'hesitation_ratio': 0.0, 'avg_sentence_length': np.float64(6.0)}\n",
      "🎧 Audio features for extracted_audio/Actor_21/03-01-03-02-02-01-21.wav: {'duration_sec': 3.670340136054422, 'pitch_std': np.float64(65.9963608866139), 'tempo_bpm': array([184.5703125])}\n",
      "✅ Combined features for extracted_audio/Actor_21/03-01-03-02-02-01-21.wav: {'num_words': 6, 'num_hesitations': 0, 'hesitation_ratio': 0.0, 'avg_sentence_length': np.float64(6.0), 'duration_sec': 3.670340136054422, 'pitch_std': np.float64(65.9963608866139), 'tempo_bpm': array([184.5703125]), 'file': '03-01-03-02-02-01-21.wav'}\n",
      "📁 Processing file: extracted_audio/Actor_21/03-01-03-01-01-01-21.wav\n"
     ]
    },
    {
     "name": "stderr",
     "output_type": "stream",
     "text": [
      "/Library/Frameworks/Python.framework/Versions/3.12/lib/python3.12/site-packages/whisper/transcribe.py:126: UserWarning: FP16 is not supported on CPU; using FP32 instead\n",
      "  warnings.warn(\"FP16 is not supported on CPU; using FP32 instead\")\n"
     ]
    },
    {
     "name": "stdout",
     "output_type": "stream",
     "text": [
      "🔊 Transcript for extracted_audio/Actor_21/03-01-03-01-01-01-21.wav:  Kids are talking by the door....\n",
      "📝 NLP features for extracted_audio/Actor_21/03-01-03-01-01-01-21.wav: {'num_words': 6, 'num_hesitations': 0, 'hesitation_ratio': 0.0, 'avg_sentence_length': np.float64(6.0)}\n",
      "🎧 Audio features for extracted_audio/Actor_21/03-01-03-01-01-01-21.wav: {'duration_sec': 3.83718820861678, 'pitch_std': np.float64(54.441201884179016), 'tempo_bpm': array([172.265625])}\n",
      "✅ Combined features for extracted_audio/Actor_21/03-01-03-01-01-01-21.wav: {'num_words': 6, 'num_hesitations': 0, 'hesitation_ratio': 0.0, 'avg_sentence_length': np.float64(6.0), 'duration_sec': 3.83718820861678, 'pitch_std': np.float64(54.441201884179016), 'tempo_bpm': array([172.265625]), 'file': '03-01-03-01-01-01-21.wav'}\n",
      "📁 Processing file: extracted_audio/Actor_21/03-01-02-02-01-02-21.wav\n"
     ]
    },
    {
     "name": "stderr",
     "output_type": "stream",
     "text": [
      "/Library/Frameworks/Python.framework/Versions/3.12/lib/python3.12/site-packages/whisper/transcribe.py:126: UserWarning: FP16 is not supported on CPU; using FP32 instead\n",
      "  warnings.warn(\"FP16 is not supported on CPU; using FP32 instead\")\n"
     ]
    },
    {
     "name": "stdout",
     "output_type": "stream",
     "text": [
      "🔊 Transcript for extracted_audio/Actor_21/03-01-02-02-01-02-21.wav:  Kids are talking by the door....\n",
      "📝 NLP features for extracted_audio/Actor_21/03-01-02-02-01-02-21.wav: {'num_words': 6, 'num_hesitations': 0, 'hesitation_ratio': 0.0, 'avg_sentence_length': np.float64(6.0)}\n",
      "🎧 Audio features for extracted_audio/Actor_21/03-01-02-02-01-02-21.wav: {'duration_sec': 4.170839002267574, 'pitch_std': np.float64(36.802136083972464), 'tempo_bpm': array([135.99917763])}\n",
      "✅ Combined features for extracted_audio/Actor_21/03-01-02-02-01-02-21.wav: {'num_words': 6, 'num_hesitations': 0, 'hesitation_ratio': 0.0, 'avg_sentence_length': np.float64(6.0), 'duration_sec': 4.170839002267574, 'pitch_std': np.float64(36.802136083972464), 'tempo_bpm': array([135.99917763]), 'file': '03-01-02-02-01-02-21.wav'}\n",
      "📁 Processing file: extracted_audio/Actor_21/03-01-01-01-02-01-21.wav\n"
     ]
    },
    {
     "name": "stderr",
     "output_type": "stream",
     "text": [
      "/Library/Frameworks/Python.framework/Versions/3.12/lib/python3.12/site-packages/whisper/transcribe.py:126: UserWarning: FP16 is not supported on CPU; using FP32 instead\n",
      "  warnings.warn(\"FP16 is not supported on CPU; using FP32 instead\")\n"
     ]
    },
    {
     "name": "stdout",
     "output_type": "stream",
     "text": [
      "🔊 Transcript for extracted_audio/Actor_21/03-01-01-01-02-01-21.wav:  Dogs are sitting by the door....\n",
      "📝 NLP features for extracted_audio/Actor_21/03-01-01-01-02-01-21.wav: {'num_words': 6, 'num_hesitations': 0, 'hesitation_ratio': 0.0, 'avg_sentence_length': np.float64(6.0)}\n",
      "🎧 Audio features for extracted_audio/Actor_21/03-01-01-01-02-01-21.wav: {'duration_sec': 3.603628117913832, 'pitch_std': np.float64(55.979764668542416), 'tempo_bpm': array([57.421875])}\n",
      "✅ Combined features for extracted_audio/Actor_21/03-01-01-01-02-01-21.wav: {'num_words': 6, 'num_hesitations': 0, 'hesitation_ratio': 0.0, 'avg_sentence_length': np.float64(6.0), 'duration_sec': 3.603628117913832, 'pitch_std': np.float64(55.979764668542416), 'tempo_bpm': array([57.421875]), 'file': '03-01-01-01-02-01-21.wav'}\n",
      "📁 Processing file: extracted_audio/Actor_21/03-01-02-01-02-02-21.wav\n"
     ]
    },
    {
     "name": "stderr",
     "output_type": "stream",
     "text": [
      "/Library/Frameworks/Python.framework/Versions/3.12/lib/python3.12/site-packages/whisper/transcribe.py:126: UserWarning: FP16 is not supported on CPU; using FP32 instead\n",
      "  warnings.warn(\"FP16 is not supported on CPU; using FP32 instead\")\n"
     ]
    },
    {
     "name": "stdout",
     "output_type": "stream",
     "text": [
      "🔊 Transcript for extracted_audio/Actor_21/03-01-02-01-02-02-21.wav:  Dogs are sitting by the door....\n",
      "📝 NLP features for extracted_audio/Actor_21/03-01-02-01-02-02-21.wav: {'num_words': 6, 'num_hesitations': 0, 'hesitation_ratio': 0.0, 'avg_sentence_length': np.float64(6.0)}\n",
      "🎧 Audio features for extracted_audio/Actor_21/03-01-02-01-02-02-21.wav: {'duration_sec': 4.070748299319728, 'pitch_std': np.float64(65.7971274530094), 'tempo_bpm': array([135.99917763])}\n",
      "✅ Combined features for extracted_audio/Actor_21/03-01-02-01-02-02-21.wav: {'num_words': 6, 'num_hesitations': 0, 'hesitation_ratio': 0.0, 'avg_sentence_length': np.float64(6.0), 'duration_sec': 4.070748299319728, 'pitch_std': np.float64(65.7971274530094), 'tempo_bpm': array([135.99917763]), 'file': '03-01-02-01-02-02-21.wav'}\n",
      "📁 Processing file: extracted_audio/Actor_21/03-01-08-02-02-02-21.wav\n"
     ]
    },
    {
     "name": "stderr",
     "output_type": "stream",
     "text": [
      "/Library/Frameworks/Python.framework/Versions/3.12/lib/python3.12/site-packages/whisper/transcribe.py:126: UserWarning: FP16 is not supported on CPU; using FP32 instead\n",
      "  warnings.warn(\"FP16 is not supported on CPU; using FP32 instead\")\n"
     ]
    },
    {
     "name": "stdout",
     "output_type": "stream",
     "text": [
      "🔊 Transcript for extracted_audio/Actor_21/03-01-08-02-02-02-21.wav:  Dogs are sitting by the door....\n",
      "📝 NLP features for extracted_audio/Actor_21/03-01-08-02-02-02-21.wav: {'num_words': 6, 'num_hesitations': 0, 'hesitation_ratio': 0.0, 'avg_sentence_length': np.float64(6.0)}\n",
      "🎧 Audio features for extracted_audio/Actor_21/03-01-08-02-02-02-21.wav: {'duration_sec': 3.5369160997732427, 'pitch_std': np.float64(85.7924371143636), 'tempo_bpm': array([64.59960938])}\n",
      "✅ Combined features for extracted_audio/Actor_21/03-01-08-02-02-02-21.wav: {'num_words': 6, 'num_hesitations': 0, 'hesitation_ratio': 0.0, 'avg_sentence_length': np.float64(6.0), 'duration_sec': 3.5369160997732427, 'pitch_std': np.float64(85.7924371143636), 'tempo_bpm': array([64.59960938]), 'file': '03-01-08-02-02-02-21.wav'}\n",
      "📁 Processing file: extracted_audio/Actor_21/03-01-08-01-01-02-21.wav\n"
     ]
    },
    {
     "name": "stderr",
     "output_type": "stream",
     "text": [
      "/Library/Frameworks/Python.framework/Versions/3.12/lib/python3.12/site-packages/whisper/transcribe.py:126: UserWarning: FP16 is not supported on CPU; using FP32 instead\n",
      "  warnings.warn(\"FP16 is not supported on CPU; using FP32 instead\")\n"
     ]
    },
    {
     "name": "stdout",
     "output_type": "stream",
     "text": [
      "🔊 Transcript for extracted_audio/Actor_21/03-01-08-01-01-02-21.wav:  Kids are talking by the door....\n",
      "📝 NLP features for extracted_audio/Actor_21/03-01-08-01-01-02-21.wav: {'num_words': 6, 'num_hesitations': 0, 'hesitation_ratio': 0.0, 'avg_sentence_length': np.float64(6.0)}\n",
      "🎧 Audio features for extracted_audio/Actor_21/03-01-08-01-01-02-21.wav: {'duration_sec': 3.47015873015873, 'pitch_std': np.float64(82.32828774356886), 'tempo_bpm': array([198.76802885])}\n",
      "✅ Combined features for extracted_audio/Actor_21/03-01-08-01-01-02-21.wav: {'num_words': 6, 'num_hesitations': 0, 'hesitation_ratio': 0.0, 'avg_sentence_length': np.float64(6.0), 'duration_sec': 3.47015873015873, 'pitch_std': np.float64(82.32828774356886), 'tempo_bpm': array([198.76802885]), 'file': '03-01-08-01-01-02-21.wav'}\n",
      "📁 Processing file: extracted_audio/Actor_21/03-01-05-01-02-02-21.wav\n"
     ]
    },
    {
     "name": "stderr",
     "output_type": "stream",
     "text": [
      "/Library/Frameworks/Python.framework/Versions/3.12/lib/python3.12/site-packages/whisper/transcribe.py:126: UserWarning: FP16 is not supported on CPU; using FP32 instead\n",
      "  warnings.warn(\"FP16 is not supported on CPU; using FP32 instead\")\n"
     ]
    },
    {
     "name": "stdout",
     "output_type": "stream",
     "text": [
      "🔊 Transcript for extracted_audio/Actor_21/03-01-05-01-02-02-21.wav:  Dogs are sitting by the door....\n",
      "📝 NLP features for extracted_audio/Actor_21/03-01-05-01-02-02-21.wav: {'num_words': 6, 'num_hesitations': 0, 'hesitation_ratio': 0.0, 'avg_sentence_length': np.float64(6.0)}\n",
      "🎧 Audio features for extracted_audio/Actor_21/03-01-05-01-02-02-21.wav: {'duration_sec': 3.937278911564626, 'pitch_std': np.float64(64.87829647388193), 'tempo_bpm': array([161.49902344])}\n",
      "✅ Combined features for extracted_audio/Actor_21/03-01-05-01-02-02-21.wav: {'num_words': 6, 'num_hesitations': 0, 'hesitation_ratio': 0.0, 'avg_sentence_length': np.float64(6.0), 'duration_sec': 3.937278911564626, 'pitch_std': np.float64(64.87829647388193), 'tempo_bpm': array([161.49902344]), 'file': '03-01-05-01-02-02-21.wav'}\n",
      "📁 Processing file: extracted_audio/Actor_21/03-01-06-01-02-01-21.wav\n"
     ]
    },
    {
     "name": "stderr",
     "output_type": "stream",
     "text": [
      "/Library/Frameworks/Python.framework/Versions/3.12/lib/python3.12/site-packages/whisper/transcribe.py:126: UserWarning: FP16 is not supported on CPU; using FP32 instead\n",
      "  warnings.warn(\"FP16 is not supported on CPU; using FP32 instead\")\n"
     ]
    },
    {
     "name": "stdout",
     "output_type": "stream",
     "text": [
      "🔊 Transcript for extracted_audio/Actor_21/03-01-06-01-02-01-21.wav:  Dogs are sitting behind the door....\n",
      "📝 NLP features for extracted_audio/Actor_21/03-01-06-01-02-01-21.wav: {'num_words': 6, 'num_hesitations': 0, 'hesitation_ratio': 0.0, 'avg_sentence_length': np.float64(6.0)}\n",
      "🎧 Audio features for extracted_audio/Actor_21/03-01-06-01-02-01-21.wav: {'duration_sec': 3.970657596371882, 'pitch_std': np.float64(48.41357394697092), 'tempo_bpm': array([107.66601562])}\n",
      "✅ Combined features for extracted_audio/Actor_21/03-01-06-01-02-01-21.wav: {'num_words': 6, 'num_hesitations': 0, 'hesitation_ratio': 0.0, 'avg_sentence_length': np.float64(6.0), 'duration_sec': 3.970657596371882, 'pitch_std': np.float64(48.41357394697092), 'tempo_bpm': array([107.66601562]), 'file': '03-01-06-01-02-01-21.wav'}\n",
      "📁 Processing file: extracted_audio/Actor_21/03-01-06-02-01-01-21.wav\n"
     ]
    },
    {
     "name": "stderr",
     "output_type": "stream",
     "text": [
      "/Library/Frameworks/Python.framework/Versions/3.12/lib/python3.12/site-packages/whisper/transcribe.py:126: UserWarning: FP16 is not supported on CPU; using FP32 instead\n",
      "  warnings.warn(\"FP16 is not supported on CPU; using FP32 instead\")\n"
     ]
    },
    {
     "name": "stdout",
     "output_type": "stream",
     "text": [
      "🔊 Transcript for extracted_audio/Actor_21/03-01-06-02-01-01-21.wav:  Kids are talking by the door....\n",
      "📝 NLP features for extracted_audio/Actor_21/03-01-06-02-01-01-21.wav: {'num_words': 6, 'num_hesitations': 0, 'hesitation_ratio': 0.0, 'avg_sentence_length': np.float64(6.0)}\n",
      "🎧 Audio features for extracted_audio/Actor_21/03-01-06-02-01-01-21.wav: {'duration_sec': 3.970657596371882, 'pitch_std': np.float64(64.77375191021414), 'tempo_bpm': array([198.76802885])}\n",
      "✅ Combined features for extracted_audio/Actor_21/03-01-06-02-01-01-21.wav: {'num_words': 6, 'num_hesitations': 0, 'hesitation_ratio': 0.0, 'avg_sentence_length': np.float64(6.0), 'duration_sec': 3.970657596371882, 'pitch_std': np.float64(64.77375191021414), 'tempo_bpm': array([198.76802885]), 'file': '03-01-06-02-01-01-21.wav'}\n",
      "📁 Processing file: extracted_audio/Actor_21/03-01-05-02-01-02-21.wav\n"
     ]
    },
    {
     "name": "stderr",
     "output_type": "stream",
     "text": [
      "/Library/Frameworks/Python.framework/Versions/3.12/lib/python3.12/site-packages/whisper/transcribe.py:126: UserWarning: FP16 is not supported on CPU; using FP32 instead\n",
      "  warnings.warn(\"FP16 is not supported on CPU; using FP32 instead\")\n"
     ]
    },
    {
     "name": "stdout",
     "output_type": "stream",
     "text": [
      "🔊 Transcript for extracted_audio/Actor_21/03-01-05-02-01-02-21.wav:  Kids are talking by the door!...\n",
      "📝 NLP features for extracted_audio/Actor_21/03-01-05-02-01-02-21.wav: {'num_words': 6, 'num_hesitations': 0, 'hesitation_ratio': 0.0, 'avg_sentence_length': np.float64(6.0)}\n",
      "🎧 Audio features for extracted_audio/Actor_21/03-01-05-02-01-02-21.wav: {'duration_sec': 4.471156462585034, 'pitch_std': np.float64(86.32266116160986), 'tempo_bpm': array([129.19921875])}\n",
      "✅ Combined features for extracted_audio/Actor_21/03-01-05-02-01-02-21.wav: {'num_words': 6, 'num_hesitations': 0, 'hesitation_ratio': 0.0, 'avg_sentence_length': np.float64(6.0), 'duration_sec': 4.471156462585034, 'pitch_std': np.float64(86.32266116160986), 'tempo_bpm': array([129.19921875]), 'file': '03-01-05-02-01-02-21.wav'}\n",
      "📁 Processing file: extracted_audio/Actor_21/03-01-07-01-01-02-21.wav\n"
     ]
    },
    {
     "name": "stderr",
     "output_type": "stream",
     "text": [
      "/Library/Frameworks/Python.framework/Versions/3.12/lib/python3.12/site-packages/whisper/transcribe.py:126: UserWarning: FP16 is not supported on CPU; using FP32 instead\n",
      "  warnings.warn(\"FP16 is not supported on CPU; using FP32 instead\")\n"
     ]
    },
    {
     "name": "stdout",
     "output_type": "stream",
     "text": [
      "🔊 Transcript for extracted_audio/Actor_21/03-01-07-01-01-02-21.wav:  Kids are talking by the door....\n",
      "📝 NLP features for extracted_audio/Actor_21/03-01-07-01-01-02-21.wav: {'num_words': 6, 'num_hesitations': 0, 'hesitation_ratio': 0.0, 'avg_sentence_length': np.float64(6.0)}\n",
      "🎧 Audio features for extracted_audio/Actor_21/03-01-07-01-01-02-21.wav: {'duration_sec': 4.070793650793651, 'pitch_std': np.float64(59.63226856565249), 'tempo_bpm': array([123.046875])}\n",
      "✅ Combined features for extracted_audio/Actor_21/03-01-07-01-01-02-21.wav: {'num_words': 6, 'num_hesitations': 0, 'hesitation_ratio': 0.0, 'avg_sentence_length': np.float64(6.0), 'duration_sec': 4.070793650793651, 'pitch_std': np.float64(59.63226856565249), 'tempo_bpm': array([123.046875]), 'file': '03-01-07-01-01-02-21.wav'}\n",
      "📁 Processing file: extracted_audio/Actor_21/03-01-04-01-01-01-21.wav\n"
     ]
    },
    {
     "name": "stderr",
     "output_type": "stream",
     "text": [
      "/Library/Frameworks/Python.framework/Versions/3.12/lib/python3.12/site-packages/whisper/transcribe.py:126: UserWarning: FP16 is not supported on CPU; using FP32 instead\n",
      "  warnings.warn(\"FP16 is not supported on CPU; using FP32 instead\")\n"
     ]
    },
    {
     "name": "stdout",
     "output_type": "stream",
     "text": [
      "🔊 Transcript for extracted_audio/Actor_21/03-01-04-01-01-01-21.wav:  Kids are talking by the door....\n",
      "📝 NLP features for extracted_audio/Actor_21/03-01-04-01-01-01-21.wav: {'num_words': 6, 'num_hesitations': 0, 'hesitation_ratio': 0.0, 'avg_sentence_length': np.float64(6.0)}\n",
      "🎧 Audio features for extracted_audio/Actor_21/03-01-04-01-01-01-21.wav: {'duration_sec': 4.304308390022676, 'pitch_std': np.float64(54.96507920480361), 'tempo_bpm': array([143.5546875])}\n",
      "✅ Combined features for extracted_audio/Actor_21/03-01-04-01-01-01-21.wav: {'num_words': 6, 'num_hesitations': 0, 'hesitation_ratio': 0.0, 'avg_sentence_length': np.float64(6.0), 'duration_sec': 4.304308390022676, 'pitch_std': np.float64(54.96507920480361), 'tempo_bpm': array([143.5546875]), 'file': '03-01-04-01-01-01-21.wav'}\n",
      "📁 Processing file: extracted_audio/Actor_21/03-01-04-02-02-01-21.wav\n"
     ]
    },
    {
     "name": "stderr",
     "output_type": "stream",
     "text": [
      "/Library/Frameworks/Python.framework/Versions/3.12/lib/python3.12/site-packages/whisper/transcribe.py:126: UserWarning: FP16 is not supported on CPU; using FP32 instead\n",
      "  warnings.warn(\"FP16 is not supported on CPU; using FP32 instead\")\n"
     ]
    },
    {
     "name": "stdout",
     "output_type": "stream",
     "text": [
      "🔊 Transcript for extracted_audio/Actor_21/03-01-04-02-02-01-21.wav:  Dogs are sitting by the door....\n",
      "📝 NLP features for extracted_audio/Actor_21/03-01-04-02-02-01-21.wav: {'num_words': 6, 'num_hesitations': 0, 'hesitation_ratio': 0.0, 'avg_sentence_length': np.float64(6.0)}\n",
      "🎧 Audio features for extracted_audio/Actor_21/03-01-04-02-02-01-21.wav: {'duration_sec': 4.270975056689342, 'pitch_std': np.float64(76.09733557039789), 'tempo_bpm': array([135.99917763])}\n",
      "✅ Combined features for extracted_audio/Actor_21/03-01-04-02-02-01-21.wav: {'num_words': 6, 'num_hesitations': 0, 'hesitation_ratio': 0.0, 'avg_sentence_length': np.float64(6.0), 'duration_sec': 4.270975056689342, 'pitch_std': np.float64(76.09733557039789), 'tempo_bpm': array([135.99917763]), 'file': '03-01-04-02-02-01-21.wav'}\n",
      "📁 Processing file: extracted_audio/Actor_21/03-01-07-02-02-02-21.wav\n"
     ]
    },
    {
     "name": "stderr",
     "output_type": "stream",
     "text": [
      "/Library/Frameworks/Python.framework/Versions/3.12/lib/python3.12/site-packages/whisper/transcribe.py:126: UserWarning: FP16 is not supported on CPU; using FP32 instead\n",
      "  warnings.warn(\"FP16 is not supported on CPU; using FP32 instead\")\n"
     ]
    },
    {
     "name": "stdout",
     "output_type": "stream",
     "text": [
      "🔊 Transcript for extracted_audio/Actor_21/03-01-07-02-02-02-21.wav:  Dogs are sitting by the door....\n",
      "📝 NLP features for extracted_audio/Actor_21/03-01-07-02-02-02-21.wav: {'num_words': 6, 'num_hesitations': 0, 'hesitation_ratio': 0.0, 'avg_sentence_length': np.float64(6.0)}\n",
      "🎧 Audio features for extracted_audio/Actor_21/03-01-07-02-02-02-21.wav: {'duration_sec': 3.970657596371882, 'pitch_std': np.float64(57.90971518168149), 'tempo_bpm': array([129.19921875])}\n",
      "✅ Combined features for extracted_audio/Actor_21/03-01-07-02-02-02-21.wav: {'num_words': 6, 'num_hesitations': 0, 'hesitation_ratio': 0.0, 'avg_sentence_length': np.float64(6.0), 'duration_sec': 3.970657596371882, 'pitch_std': np.float64(57.90971518168149), 'tempo_bpm': array([129.19921875]), 'file': '03-01-07-02-02-02-21.wav'}\n",
      "📁 Processing file: extracted_audio/Actor_21/03-01-01-01-01-01-21.wav\n"
     ]
    },
    {
     "name": "stderr",
     "output_type": "stream",
     "text": [
      "/Library/Frameworks/Python.framework/Versions/3.12/lib/python3.12/site-packages/whisper/transcribe.py:126: UserWarning: FP16 is not supported on CPU; using FP32 instead\n",
      "  warnings.warn(\"FP16 is not supported on CPU; using FP32 instead\")\n"
     ]
    },
    {
     "name": "stdout",
     "output_type": "stream",
     "text": [
      "🔊 Transcript for extracted_audio/Actor_21/03-01-01-01-01-01-21.wav:  Kids are talking by the door....\n",
      "📝 NLP features for extracted_audio/Actor_21/03-01-01-01-01-01-21.wav: {'num_words': 6, 'num_hesitations': 0, 'hesitation_ratio': 0.0, 'avg_sentence_length': np.float64(6.0)}\n",
      "🎧 Audio features for extracted_audio/Actor_21/03-01-01-01-01-01-21.wav: {'duration_sec': 3.83718820861678, 'pitch_std': np.float64(46.094478554069944), 'tempo_bpm': array([172.265625])}\n",
      "✅ Combined features for extracted_audio/Actor_21/03-01-01-01-01-01-21.wav: {'num_words': 6, 'num_hesitations': 0, 'hesitation_ratio': 0.0, 'avg_sentence_length': np.float64(6.0), 'duration_sec': 3.83718820861678, 'pitch_std': np.float64(46.094478554069944), 'tempo_bpm': array([172.265625]), 'file': '03-01-01-01-01-01-21.wav'}\n",
      "📁 Processing file: extracted_audio/Actor_21/03-01-02-01-01-02-21.wav\n"
     ]
    },
    {
     "name": "stderr",
     "output_type": "stream",
     "text": [
      "/Library/Frameworks/Python.framework/Versions/3.12/lib/python3.12/site-packages/whisper/transcribe.py:126: UserWarning: FP16 is not supported on CPU; using FP32 instead\n",
      "  warnings.warn(\"FP16 is not supported on CPU; using FP32 instead\")\n"
     ]
    },
    {
     "name": "stdout",
     "output_type": "stream",
     "text": [
      "🔊 Transcript for extracted_audio/Actor_21/03-01-02-01-01-02-21.wav:  Kids are talking by the door....\n",
      "📝 NLP features for extracted_audio/Actor_21/03-01-02-01-01-02-21.wav: {'num_words': 6, 'num_hesitations': 0, 'hesitation_ratio': 0.0, 'avg_sentence_length': np.float64(6.0)}\n",
      "🎧 Audio features for extracted_audio/Actor_21/03-01-02-01-01-02-21.wav: {'duration_sec': 4.004036281179138, 'pitch_std': np.float64(47.300296319713546), 'tempo_bpm': array([103.359375])}\n",
      "✅ Combined features for extracted_audio/Actor_21/03-01-02-01-01-02-21.wav: {'num_words': 6, 'num_hesitations': 0, 'hesitation_ratio': 0.0, 'avg_sentence_length': np.float64(6.0), 'duration_sec': 4.004036281179138, 'pitch_std': np.float64(47.300296319713546), 'tempo_bpm': array([103.359375]), 'file': '03-01-02-01-01-02-21.wav'}\n",
      "📁 Processing file: extracted_audio/Actor_21/03-01-02-02-02-02-21.wav\n"
     ]
    },
    {
     "name": "stderr",
     "output_type": "stream",
     "text": [
      "/Library/Frameworks/Python.framework/Versions/3.12/lib/python3.12/site-packages/whisper/transcribe.py:126: UserWarning: FP16 is not supported on CPU; using FP32 instead\n",
      "  warnings.warn(\"FP16 is not supported on CPU; using FP32 instead\")\n"
     ]
    },
    {
     "name": "stdout",
     "output_type": "stream",
     "text": [
      "🔊 Transcript for extracted_audio/Actor_21/03-01-02-02-02-02-21.wav:  Dogs are sitting by the door....\n",
      "📝 NLP features for extracted_audio/Actor_21/03-01-02-02-02-02-21.wav: {'num_words': 6, 'num_hesitations': 0, 'hesitation_ratio': 0.0, 'avg_sentence_length': np.float64(6.0)}\n",
      "🎧 Audio features for extracted_audio/Actor_21/03-01-02-02-02-02-21.wav: {'duration_sec': 3.970657596371882, 'pitch_std': np.float64(51.60475819626995), 'tempo_bpm': array([143.5546875])}\n",
      "✅ Combined features for extracted_audio/Actor_21/03-01-02-02-02-02-21.wav: {'num_words': 6, 'num_hesitations': 0, 'hesitation_ratio': 0.0, 'avg_sentence_length': np.float64(6.0), 'duration_sec': 3.970657596371882, 'pitch_std': np.float64(51.60475819626995), 'tempo_bpm': array([143.5546875]), 'file': '03-01-02-02-02-02-21.wav'}\n",
      "📁 Processing file: extracted_audio/Actor_21/03-01-03-01-02-01-21.wav\n"
     ]
    },
    {
     "name": "stderr",
     "output_type": "stream",
     "text": [
      "/Library/Frameworks/Python.framework/Versions/3.12/lib/python3.12/site-packages/whisper/transcribe.py:126: UserWarning: FP16 is not supported on CPU; using FP32 instead\n",
      "  warnings.warn(\"FP16 is not supported on CPU; using FP32 instead\")\n"
     ]
    },
    {
     "name": "stdout",
     "output_type": "stream",
     "text": [
      "🔊 Transcript for extracted_audio/Actor_21/03-01-03-01-02-01-21.wav:  Dogs are sitting by the door....\n",
      "📝 NLP features for extracted_audio/Actor_21/03-01-03-01-02-01-21.wav: {'num_words': 6, 'num_hesitations': 0, 'hesitation_ratio': 0.0, 'avg_sentence_length': np.float64(6.0)}\n",
      "🎧 Audio features for extracted_audio/Actor_21/03-01-03-01-02-01-21.wav: {'duration_sec': 3.703718820861678, 'pitch_std': np.float64(63.48496704261525), 'tempo_bpm': array([112.34714674])}\n",
      "✅ Combined features for extracted_audio/Actor_21/03-01-03-01-02-01-21.wav: {'num_words': 6, 'num_hesitations': 0, 'hesitation_ratio': 0.0, 'avg_sentence_length': np.float64(6.0), 'duration_sec': 3.703718820861678, 'pitch_std': np.float64(63.48496704261525), 'tempo_bpm': array([112.34714674]), 'file': '03-01-03-01-02-01-21.wav'}\n",
      "📁 Processing file: extracted_audio/Actor_21/03-01-03-02-01-01-21.wav\n"
     ]
    },
    {
     "name": "stderr",
     "output_type": "stream",
     "text": [
      "/Library/Frameworks/Python.framework/Versions/3.12/lib/python3.12/site-packages/whisper/transcribe.py:126: UserWarning: FP16 is not supported on CPU; using FP32 instead\n",
      "  warnings.warn(\"FP16 is not supported on CPU; using FP32 instead\")\n"
     ]
    },
    {
     "name": "stdout",
     "output_type": "stream",
     "text": [
      "🔊 Transcript for extracted_audio/Actor_21/03-01-03-02-01-01-21.wav:  Kids are talking by the door....\n",
      "📝 NLP features for extracted_audio/Actor_21/03-01-03-02-01-01-21.wav: {'num_words': 6, 'num_hesitations': 0, 'hesitation_ratio': 0.0, 'avg_sentence_length': np.float64(6.0)}\n",
      "🎧 Audio features for extracted_audio/Actor_21/03-01-03-02-01-01-21.wav: {'duration_sec': 3.803809523809524, 'pitch_std': np.float64(74.12428939014407), 'tempo_bpm': array([172.265625])}\n",
      "✅ Combined features for extracted_audio/Actor_21/03-01-03-02-01-01-21.wav: {'num_words': 6, 'num_hesitations': 0, 'hesitation_ratio': 0.0, 'avg_sentence_length': np.float64(6.0), 'duration_sec': 3.803809523809524, 'pitch_std': np.float64(74.12428939014407), 'tempo_bpm': array([172.265625]), 'file': '03-01-03-02-01-01-21.wav'}\n",
      "📁 Processing file: extracted_audio/Actor_21/03-01-08-01-02-02-21.wav\n"
     ]
    },
    {
     "name": "stderr",
     "output_type": "stream",
     "text": [
      "/Library/Frameworks/Python.framework/Versions/3.12/lib/python3.12/site-packages/whisper/transcribe.py:126: UserWarning: FP16 is not supported on CPU; using FP32 instead\n",
      "  warnings.warn(\"FP16 is not supported on CPU; using FP32 instead\")\n"
     ]
    },
    {
     "name": "stdout",
     "output_type": "stream",
     "text": [
      "🔊 Transcript for extracted_audio/Actor_21/03-01-08-01-02-02-21.wav:  Dogs are sitting by the door....\n",
      "📝 NLP features for extracted_audio/Actor_21/03-01-08-01-02-02-21.wav: {'num_words': 6, 'num_hesitations': 0, 'hesitation_ratio': 0.0, 'avg_sentence_length': np.float64(6.0)}\n",
      "🎧 Audio features for extracted_audio/Actor_21/03-01-08-01-02-02-21.wav: {'duration_sec': 3.570249433106576, 'pitch_std': np.float64(78.71096961028464), 'tempo_bpm': array([172.265625])}\n",
      "✅ Combined features for extracted_audio/Actor_21/03-01-08-01-02-02-21.wav: {'num_words': 6, 'num_hesitations': 0, 'hesitation_ratio': 0.0, 'avg_sentence_length': np.float64(6.0), 'duration_sec': 3.570249433106576, 'pitch_std': np.float64(78.71096961028464), 'tempo_bpm': array([172.265625]), 'file': '03-01-08-01-02-02-21.wav'}\n",
      "📁 Processing file: extracted_audio/Actor_21/03-01-08-02-01-02-21.wav\n"
     ]
    },
    {
     "name": "stderr",
     "output_type": "stream",
     "text": [
      "/Library/Frameworks/Python.framework/Versions/3.12/lib/python3.12/site-packages/whisper/transcribe.py:126: UserWarning: FP16 is not supported on CPU; using FP32 instead\n",
      "  warnings.warn(\"FP16 is not supported on CPU; using FP32 instead\")\n"
     ]
    },
    {
     "name": "stdout",
     "output_type": "stream",
     "text": [
      "🔊 Transcript for extracted_audio/Actor_21/03-01-08-02-01-02-21.wav:  Kids are talking by the door....\n",
      "📝 NLP features for extracted_audio/Actor_21/03-01-08-02-01-02-21.wav: {'num_words': 6, 'num_hesitations': 0, 'hesitation_ratio': 0.0, 'avg_sentence_length': np.float64(6.0)}\n",
      "🎧 Audio features for extracted_audio/Actor_21/03-01-08-02-01-02-21.wav: {'duration_sec': 3.6370068027210882, 'pitch_std': np.float64(81.40389956732768), 'tempo_bpm': array([184.5703125])}\n",
      "✅ Combined features for extracted_audio/Actor_21/03-01-08-02-01-02-21.wav: {'num_words': 6, 'num_hesitations': 0, 'hesitation_ratio': 0.0, 'avg_sentence_length': np.float64(6.0), 'duration_sec': 3.6370068027210882, 'pitch_std': np.float64(81.40389956732768), 'tempo_bpm': array([184.5703125]), 'file': '03-01-08-02-01-02-21.wav'}\n",
      "📁 Processing file: extracted_audio/Actor_21/03-01-04-02-01-01-21.wav\n"
     ]
    },
    {
     "name": "stderr",
     "output_type": "stream",
     "text": [
      "/Library/Frameworks/Python.framework/Versions/3.12/lib/python3.12/site-packages/whisper/transcribe.py:126: UserWarning: FP16 is not supported on CPU; using FP32 instead\n",
      "  warnings.warn(\"FP16 is not supported on CPU; using FP32 instead\")\n"
     ]
    },
    {
     "name": "stdout",
     "output_type": "stream",
     "text": [
      "🔊 Transcript for extracted_audio/Actor_21/03-01-04-02-01-01-21.wav:  Kids are talking by the door....\n",
      "📝 NLP features for extracted_audio/Actor_21/03-01-04-02-01-01-21.wav: {'num_words': 6, 'num_hesitations': 0, 'hesitation_ratio': 0.0, 'avg_sentence_length': np.float64(6.0)}\n",
      "🎧 Audio features for extracted_audio/Actor_21/03-01-04-02-01-01-21.wav: {'duration_sec': 4.170839002267574, 'pitch_std': np.float64(75.45908279141106), 'tempo_bpm': array([135.99917763])}\n",
      "✅ Combined features for extracted_audio/Actor_21/03-01-04-02-01-01-21.wav: {'num_words': 6, 'num_hesitations': 0, 'hesitation_ratio': 0.0, 'avg_sentence_length': np.float64(6.0), 'duration_sec': 4.170839002267574, 'pitch_std': np.float64(75.45908279141106), 'tempo_bpm': array([135.99917763]), 'file': '03-01-04-02-01-01-21.wav'}\n",
      "📁 Processing file: extracted_audio/Actor_21/03-01-07-02-01-02-21.wav\n"
     ]
    },
    {
     "name": "stderr",
     "output_type": "stream",
     "text": [
      "/Library/Frameworks/Python.framework/Versions/3.12/lib/python3.12/site-packages/whisper/transcribe.py:126: UserWarning: FP16 is not supported on CPU; using FP32 instead\n",
      "  warnings.warn(\"FP16 is not supported on CPU; using FP32 instead\")\n"
     ]
    },
    {
     "name": "stdout",
     "output_type": "stream",
     "text": [
      "🔊 Transcript for extracted_audio/Actor_21/03-01-07-02-01-02-21.wav:  Kids are talking by the door....\n",
      "📝 NLP features for extracted_audio/Actor_21/03-01-07-02-01-02-21.wav: {'num_words': 6, 'num_hesitations': 0, 'hesitation_ratio': 0.0, 'avg_sentence_length': np.float64(6.0)}\n",
      "🎧 Audio features for extracted_audio/Actor_21/03-01-07-02-01-02-21.wav: {'duration_sec': 4.037369614512472, 'pitch_std': np.float64(53.60453031053149), 'tempo_bpm': array([123.046875])}\n",
      "✅ Combined features for extracted_audio/Actor_21/03-01-07-02-01-02-21.wav: {'num_words': 6, 'num_hesitations': 0, 'hesitation_ratio': 0.0, 'avg_sentence_length': np.float64(6.0), 'duration_sec': 4.037369614512472, 'pitch_std': np.float64(53.60453031053149), 'tempo_bpm': array([123.046875]), 'file': '03-01-07-02-01-02-21.wav'}\n",
      "📁 Processing file: extracted_audio/Actor_21/03-01-07-01-02-02-21.wav\n"
     ]
    },
    {
     "name": "stderr",
     "output_type": "stream",
     "text": [
      "/Library/Frameworks/Python.framework/Versions/3.12/lib/python3.12/site-packages/whisper/transcribe.py:126: UserWarning: FP16 is not supported on CPU; using FP32 instead\n",
      "  warnings.warn(\"FP16 is not supported on CPU; using FP32 instead\")\n"
     ]
    },
    {
     "name": "stdout",
     "output_type": "stream",
     "text": [
      "🔊 Transcript for extracted_audio/Actor_21/03-01-07-01-02-02-21.wav:  Dogs are sitting by the door....\n",
      "📝 NLP features for extracted_audio/Actor_21/03-01-07-01-02-02-21.wav: {'num_words': 6, 'num_hesitations': 0, 'hesitation_ratio': 0.0, 'avg_sentence_length': np.float64(6.0)}\n",
      "🎧 Audio features for extracted_audio/Actor_21/03-01-07-01-02-02-21.wav: {'duration_sec': 3.603628117913832, 'pitch_std': np.float64(46.41276882248128), 'tempo_bpm': array([60.09265988])}\n",
      "✅ Combined features for extracted_audio/Actor_21/03-01-07-01-02-02-21.wav: {'num_words': 6, 'num_hesitations': 0, 'hesitation_ratio': 0.0, 'avg_sentence_length': np.float64(6.0), 'duration_sec': 3.603628117913832, 'pitch_std': np.float64(46.41276882248128), 'tempo_bpm': array([60.09265988]), 'file': '03-01-07-01-02-02-21.wav'}\n",
      "📁 Processing file: extracted_audio/Actor_21/03-01-04-01-02-01-21.wav\n"
     ]
    },
    {
     "name": "stderr",
     "output_type": "stream",
     "text": [
      "/Library/Frameworks/Python.framework/Versions/3.12/lib/python3.12/site-packages/whisper/transcribe.py:126: UserWarning: FP16 is not supported on CPU; using FP32 instead\n",
      "  warnings.warn(\"FP16 is not supported on CPU; using FP32 instead\")\n"
     ]
    },
    {
     "name": "stdout",
     "output_type": "stream",
     "text": [
      "🔊 Transcript for extracted_audio/Actor_21/03-01-04-01-02-01-21.wav:  Dogs are sitting by the door....\n",
      "📝 NLP features for extracted_audio/Actor_21/03-01-04-01-02-01-21.wav: {'num_words': 6, 'num_hesitations': 0, 'hesitation_ratio': 0.0, 'avg_sentence_length': np.float64(6.0)}\n",
      "🎧 Audio features for extracted_audio/Actor_21/03-01-04-01-02-01-21.wav: {'duration_sec': 4.070793650793651, 'pitch_std': np.float64(52.7250759492014), 'tempo_bpm': array([151.99908088])}\n",
      "✅ Combined features for extracted_audio/Actor_21/03-01-04-01-02-01-21.wav: {'num_words': 6, 'num_hesitations': 0, 'hesitation_ratio': 0.0, 'avg_sentence_length': np.float64(6.0), 'duration_sec': 4.070793650793651, 'pitch_std': np.float64(52.7250759492014), 'tempo_bpm': array([151.99908088]), 'file': '03-01-04-01-02-01-21.wav'}\n",
      "📁 Processing file: extracted_audio/Actor_21/03-01-06-02-02-01-21.wav\n"
     ]
    },
    {
     "name": "stderr",
     "output_type": "stream",
     "text": [
      "/Library/Frameworks/Python.framework/Versions/3.12/lib/python3.12/site-packages/whisper/transcribe.py:126: UserWarning: FP16 is not supported on CPU; using FP32 instead\n",
      "  warnings.warn(\"FP16 is not supported on CPU; using FP32 instead\")\n"
     ]
    },
    {
     "name": "stdout",
     "output_type": "stream",
     "text": [
      "🔊 Transcript for extracted_audio/Actor_21/03-01-06-02-02-01-21.wav:  The Huck Dogs are sitting by the door....\n",
      "📝 NLP features for extracted_audio/Actor_21/03-01-06-02-02-01-21.wav: {'num_words': 8, 'num_hesitations': 0, 'hesitation_ratio': 0.0, 'avg_sentence_length': np.float64(8.0)}\n",
      "🎧 Audio features for extracted_audio/Actor_21/03-01-06-02-02-01-21.wav: {'duration_sec': 3.7704761904761903, 'pitch_std': np.float64(65.07676264345876), 'tempo_bpm': array([73.828125])}\n",
      "✅ Combined features for extracted_audio/Actor_21/03-01-06-02-02-01-21.wav: {'num_words': 8, 'num_hesitations': 0, 'hesitation_ratio': 0.0, 'avg_sentence_length': np.float64(8.0), 'duration_sec': 3.7704761904761903, 'pitch_std': np.float64(65.07676264345876), 'tempo_bpm': array([73.828125]), 'file': '03-01-06-02-02-01-21.wav'}\n",
      "📁 Processing file: extracted_audio/Actor_21/03-01-05-02-02-02-21.wav\n"
     ]
    },
    {
     "name": "stderr",
     "output_type": "stream",
     "text": [
      "/Library/Frameworks/Python.framework/Versions/3.12/lib/python3.12/site-packages/whisper/transcribe.py:126: UserWarning: FP16 is not supported on CPU; using FP32 instead\n",
      "  warnings.warn(\"FP16 is not supported on CPU; using FP32 instead\")\n"
     ]
    },
    {
     "name": "stdout",
     "output_type": "stream",
     "text": [
      "🔊 Transcript for extracted_audio/Actor_21/03-01-05-02-02-02-21.wav:  Dogs are sitting by the door....\n",
      "📝 NLP features for extracted_audio/Actor_21/03-01-05-02-02-02-21.wav: {'num_words': 6, 'num_hesitations': 0, 'hesitation_ratio': 0.0, 'avg_sentence_length': np.float64(6.0)}\n",
      "🎧 Audio features for extracted_audio/Actor_21/03-01-05-02-02-02-21.wav: {'duration_sec': 4.237596371882086, 'pitch_std': np.float64(81.15172935009379), 'tempo_bpm': array([151.99908088])}\n",
      "✅ Combined features for extracted_audio/Actor_21/03-01-05-02-02-02-21.wav: {'num_words': 6, 'num_hesitations': 0, 'hesitation_ratio': 0.0, 'avg_sentence_length': np.float64(6.0), 'duration_sec': 4.237596371882086, 'pitch_std': np.float64(81.15172935009379), 'tempo_bpm': array([151.99908088]), 'file': '03-01-05-02-02-02-21.wav'}\n",
      "📁 Processing file: extracted_audio/Actor_21/03-01-05-01-01-02-21.wav\n"
     ]
    },
    {
     "name": "stderr",
     "output_type": "stream",
     "text": [
      "/Library/Frameworks/Python.framework/Versions/3.12/lib/python3.12/site-packages/whisper/transcribe.py:126: UserWarning: FP16 is not supported on CPU; using FP32 instead\n",
      "  warnings.warn(\"FP16 is not supported on CPU; using FP32 instead\")\n"
     ]
    },
    {
     "name": "stdout",
     "output_type": "stream",
     "text": [
      "🔊 Transcript for extracted_audio/Actor_21/03-01-05-01-01-02-21.wav:  Kids are talking by the door....\n",
      "📝 NLP features for extracted_audio/Actor_21/03-01-05-01-01-02-21.wav: {'num_words': 6, 'num_hesitations': 0, 'hesitation_ratio': 0.0, 'avg_sentence_length': np.float64(6.0)}\n",
      "🎧 Audio features for extracted_audio/Actor_21/03-01-05-01-01-02-21.wav: {'duration_sec': 4.004036281179138, 'pitch_std': np.float64(66.74344003968262), 'tempo_bpm': array([161.49902344])}\n",
      "✅ Combined features for extracted_audio/Actor_21/03-01-05-01-01-02-21.wav: {'num_words': 6, 'num_hesitations': 0, 'hesitation_ratio': 0.0, 'avg_sentence_length': np.float64(6.0), 'duration_sec': 4.004036281179138, 'pitch_std': np.float64(66.74344003968262), 'tempo_bpm': array([161.49902344]), 'file': '03-01-05-01-01-02-21.wav'}\n",
      "📁 Processing file: extracted_audio/Actor_21/03-01-06-01-01-01-21.wav\n"
     ]
    },
    {
     "name": "stderr",
     "output_type": "stream",
     "text": [
      "/Library/Frameworks/Python.framework/Versions/3.12/lib/python3.12/site-packages/whisper/transcribe.py:126: UserWarning: FP16 is not supported on CPU; using FP32 instead\n",
      "  warnings.warn(\"FP16 is not supported on CPU; using FP32 instead\")\n"
     ]
    },
    {
     "name": "stdout",
     "output_type": "stream",
     "text": [
      "🔊 Transcript for extracted_audio/Actor_21/03-01-06-01-01-01-21.wav:  Kids are talking by the door....\n",
      "📝 NLP features for extracted_audio/Actor_21/03-01-06-01-01-01-21.wav: {'num_words': 6, 'num_hesitations': 0, 'hesitation_ratio': 0.0, 'avg_sentence_length': np.float64(6.0)}\n",
      "🎧 Audio features for extracted_audio/Actor_21/03-01-06-01-01-01-21.wav: {'duration_sec': 3.670340136054422, 'pitch_std': np.float64(74.67723832692943), 'tempo_bpm': array([92.28515625])}\n",
      "✅ Combined features for extracted_audio/Actor_21/03-01-06-01-01-01-21.wav: {'num_words': 6, 'num_hesitations': 0, 'hesitation_ratio': 0.0, 'avg_sentence_length': np.float64(6.0), 'duration_sec': 3.670340136054422, 'pitch_std': np.float64(74.67723832692943), 'tempo_bpm': array([92.28515625]), 'file': '03-01-06-01-01-01-21.wav'}\n",
      "📁 Processing file: extracted_audio/Actor_21/03-01-08-01-01-01-21.wav\n"
     ]
    },
    {
     "name": "stderr",
     "output_type": "stream",
     "text": [
      "/Library/Frameworks/Python.framework/Versions/3.12/lib/python3.12/site-packages/whisper/transcribe.py:126: UserWarning: FP16 is not supported on CPU; using FP32 instead\n",
      "  warnings.warn(\"FP16 is not supported on CPU; using FP32 instead\")\n"
     ]
    },
    {
     "name": "stdout",
     "output_type": "stream",
     "text": [
      "🔊 Transcript for extracted_audio/Actor_21/03-01-08-01-01-01-21.wav:  Kids are talking by the door....\n",
      "📝 NLP features for extracted_audio/Actor_21/03-01-08-01-01-01-21.wav: {'num_words': 6, 'num_hesitations': 0, 'hesitation_ratio': 0.0, 'avg_sentence_length': np.float64(6.0)}\n",
      "🎧 Audio features for extracted_audio/Actor_21/03-01-08-01-01-01-21.wav: {'duration_sec': 3.5035374149659866, 'pitch_std': np.float64(74.37535139735981), 'tempo_bpm': array([63.02400915])}\n",
      "✅ Combined features for extracted_audio/Actor_21/03-01-08-01-01-01-21.wav: {'num_words': 6, 'num_hesitations': 0, 'hesitation_ratio': 0.0, 'avg_sentence_length': np.float64(6.0), 'duration_sec': 3.5035374149659866, 'pitch_std': np.float64(74.37535139735981), 'tempo_bpm': array([63.02400915]), 'file': '03-01-08-01-01-01-21.wav'}\n",
      "📁 Processing file: extracted_audio/Actor_21/03-01-08-02-02-01-21.wav\n"
     ]
    },
    {
     "name": "stderr",
     "output_type": "stream",
     "text": [
      "/Library/Frameworks/Python.framework/Versions/3.12/lib/python3.12/site-packages/whisper/transcribe.py:126: UserWarning: FP16 is not supported on CPU; using FP32 instead\n",
      "  warnings.warn(\"FP16 is not supported on CPU; using FP32 instead\")\n"
     ]
    },
    {
     "name": "stdout",
     "output_type": "stream",
     "text": [
      "🔊 Transcript for extracted_audio/Actor_21/03-01-08-02-02-01-21.wav:  Dogs are sitting by the door....\n",
      "📝 NLP features for extracted_audio/Actor_21/03-01-08-02-02-01-21.wav: {'num_words': 6, 'num_hesitations': 0, 'hesitation_ratio': 0.0, 'avg_sentence_length': np.float64(6.0)}\n",
      "🎧 Audio features for extracted_audio/Actor_21/03-01-08-02-02-01-21.wav: {'duration_sec': 3.47015873015873, 'pitch_std': np.float64(71.63671548916844), 'tempo_bpm': array([71.77734375])}\n",
      "✅ Combined features for extracted_audio/Actor_21/03-01-08-02-02-01-21.wav: {'num_words': 6, 'num_hesitations': 0, 'hesitation_ratio': 0.0, 'avg_sentence_length': np.float64(6.0), 'duration_sec': 3.47015873015873, 'pitch_std': np.float64(71.63671548916844), 'tempo_bpm': array([71.77734375]), 'file': '03-01-08-02-02-01-21.wav'}\n",
      "📁 Processing file: extracted_audio/Actor_21/03-01-07-02-02-01-21.wav\n"
     ]
    },
    {
     "name": "stderr",
     "output_type": "stream",
     "text": [
      "/Library/Frameworks/Python.framework/Versions/3.12/lib/python3.12/site-packages/whisper/transcribe.py:126: UserWarning: FP16 is not supported on CPU; using FP32 instead\n",
      "  warnings.warn(\"FP16 is not supported on CPU; using FP32 instead\")\n"
     ]
    },
    {
     "name": "stdout",
     "output_type": "stream",
     "text": [
      "🔊 Transcript for extracted_audio/Actor_21/03-01-07-02-02-01-21.wav:  Dogs are sitting by the door....\n",
      "📝 NLP features for extracted_audio/Actor_21/03-01-07-02-02-01-21.wav: {'num_words': 6, 'num_hesitations': 0, 'hesitation_ratio': 0.0, 'avg_sentence_length': np.float64(6.0)}\n",
      "🎧 Audio features for extracted_audio/Actor_21/03-01-07-02-02-01-21.wav: {'duration_sec': 4.170839002267574, 'pitch_std': np.float64(55.82240128859503), 'tempo_bpm': array([99.38401442])}\n",
      "✅ Combined features for extracted_audio/Actor_21/03-01-07-02-02-01-21.wav: {'num_words': 6, 'num_hesitations': 0, 'hesitation_ratio': 0.0, 'avg_sentence_length': np.float64(6.0), 'duration_sec': 4.170839002267574, 'pitch_std': np.float64(55.82240128859503), 'tempo_bpm': array([99.38401442]), 'file': '03-01-07-02-02-01-21.wav'}\n",
      "📁 Processing file: extracted_audio/Actor_21/03-01-04-02-02-02-21.wav\n"
     ]
    },
    {
     "name": "stderr",
     "output_type": "stream",
     "text": [
      "/Library/Frameworks/Python.framework/Versions/3.12/lib/python3.12/site-packages/whisper/transcribe.py:126: UserWarning: FP16 is not supported on CPU; using FP32 instead\n",
      "  warnings.warn(\"FP16 is not supported on CPU; using FP32 instead\")\n"
     ]
    },
    {
     "name": "stdout",
     "output_type": "stream",
     "text": [
      "🔊 Transcript for extracted_audio/Actor_21/03-01-04-02-02-02-21.wav:  Dogs are sitting by the door....\n",
      "📝 NLP features for extracted_audio/Actor_21/03-01-04-02-02-02-21.wav: {'num_words': 6, 'num_hesitations': 0, 'hesitation_ratio': 0.0, 'avg_sentence_length': np.float64(6.0)}\n",
      "🎧 Audio features for extracted_audio/Actor_21/03-01-04-02-02-02-21.wav: {'duration_sec': 4.13750566893424, 'pitch_std': np.float64(80.02612121887934), 'tempo_bpm': array([135.99917763])}\n",
      "✅ Combined features for extracted_audio/Actor_21/03-01-04-02-02-02-21.wav: {'num_words': 6, 'num_hesitations': 0, 'hesitation_ratio': 0.0, 'avg_sentence_length': np.float64(6.0), 'duration_sec': 4.13750566893424, 'pitch_std': np.float64(80.02612121887934), 'tempo_bpm': array([135.99917763]), 'file': '03-01-04-02-02-02-21.wav'}\n",
      "📁 Processing file: extracted_audio/Actor_21/03-01-04-01-01-02-21.wav\n"
     ]
    },
    {
     "name": "stderr",
     "output_type": "stream",
     "text": [
      "/Library/Frameworks/Python.framework/Versions/3.12/lib/python3.12/site-packages/whisper/transcribe.py:126: UserWarning: FP16 is not supported on CPU; using FP32 instead\n",
      "  warnings.warn(\"FP16 is not supported on CPU; using FP32 instead\")\n"
     ]
    },
    {
     "name": "stdout",
     "output_type": "stream",
     "text": [
      "🔊 Transcript for extracted_audio/Actor_21/03-01-04-01-01-02-21.wav:  Kids are talking by the door....\n",
      "📝 NLP features for extracted_audio/Actor_21/03-01-04-01-01-02-21.wav: {'num_words': 6, 'num_hesitations': 0, 'hesitation_ratio': 0.0, 'avg_sentence_length': np.float64(6.0)}\n",
      "🎧 Audio features for extracted_audio/Actor_21/03-01-04-01-01-02-21.wav: {'duration_sec': 4.6046258503401365, 'pitch_std': np.float64(43.325554445706786), 'tempo_bpm': array([143.5546875])}\n",
      "✅ Combined features for extracted_audio/Actor_21/03-01-04-01-01-02-21.wav: {'num_words': 6, 'num_hesitations': 0, 'hesitation_ratio': 0.0, 'avg_sentence_length': np.float64(6.0), 'duration_sec': 4.6046258503401365, 'pitch_std': np.float64(43.325554445706786), 'tempo_bpm': array([143.5546875]), 'file': '03-01-04-01-01-02-21.wav'}\n",
      "📁 Processing file: extracted_audio/Actor_21/03-01-07-01-01-01-21.wav\n"
     ]
    },
    {
     "name": "stderr",
     "output_type": "stream",
     "text": [
      "/Library/Frameworks/Python.framework/Versions/3.12/lib/python3.12/site-packages/whisper/transcribe.py:126: UserWarning: FP16 is not supported on CPU; using FP32 instead\n",
      "  warnings.warn(\"FP16 is not supported on CPU; using FP32 instead\")\n"
     ]
    },
    {
     "name": "stdout",
     "output_type": "stream",
     "text": [
      "🔊 Transcript for extracted_audio/Actor_21/03-01-07-01-01-01-21.wav:  Kids are talking by the door....\n",
      "📝 NLP features for extracted_audio/Actor_21/03-01-07-01-01-01-21.wav: {'num_words': 6, 'num_hesitations': 0, 'hesitation_ratio': 0.0, 'avg_sentence_length': np.float64(6.0)}\n",
      "🎧 Audio features for extracted_audio/Actor_21/03-01-07-01-01-01-21.wav: {'duration_sec': 3.803809523809524, 'pitch_std': np.float64(51.06723603255542), 'tempo_bpm': array([135.99917763])}\n",
      "✅ Combined features for extracted_audio/Actor_21/03-01-07-01-01-01-21.wav: {'num_words': 6, 'num_hesitations': 0, 'hesitation_ratio': 0.0, 'avg_sentence_length': np.float64(6.0), 'duration_sec': 3.803809523809524, 'pitch_std': np.float64(51.06723603255542), 'tempo_bpm': array([135.99917763]), 'file': '03-01-07-01-01-01-21.wav'}\n",
      "📁 Processing file: extracted_audio/Actor_21/03-01-05-02-01-01-21.wav\n"
     ]
    },
    {
     "name": "stderr",
     "output_type": "stream",
     "text": [
      "/Library/Frameworks/Python.framework/Versions/3.12/lib/python3.12/site-packages/whisper/transcribe.py:126: UserWarning: FP16 is not supported on CPU; using FP32 instead\n",
      "  warnings.warn(\"FP16 is not supported on CPU; using FP32 instead\")\n"
     ]
    },
    {
     "name": "stdout",
     "output_type": "stream",
     "text": [
      "🔊 Transcript for extracted_audio/Actor_21/03-01-05-02-01-01-21.wav:  Kids are talking by the door....\n",
      "📝 NLP features for extracted_audio/Actor_21/03-01-05-02-01-01-21.wav: {'num_words': 6, 'num_hesitations': 0, 'hesitation_ratio': 0.0, 'avg_sentence_length': np.float64(6.0)}\n",
      "🎧 Audio features for extracted_audio/Actor_21/03-01-05-02-01-01-21.wav: {'duration_sec': 4.3710657596371885, 'pitch_std': np.float64(74.06765052497722), 'tempo_bpm': array([143.5546875])}\n",
      "✅ Combined features for extracted_audio/Actor_21/03-01-05-02-01-01-21.wav: {'num_words': 6, 'num_hesitations': 0, 'hesitation_ratio': 0.0, 'avg_sentence_length': np.float64(6.0), 'duration_sec': 4.3710657596371885, 'pitch_std': np.float64(74.06765052497722), 'tempo_bpm': array([143.5546875]), 'file': '03-01-05-02-01-01-21.wav'}\n",
      "📁 Processing file: extracted_audio/Actor_21/03-01-06-02-01-02-21.wav\n"
     ]
    },
    {
     "name": "stderr",
     "output_type": "stream",
     "text": [
      "/Library/Frameworks/Python.framework/Versions/3.12/lib/python3.12/site-packages/whisper/transcribe.py:126: UserWarning: FP16 is not supported on CPU; using FP32 instead\n",
      "  warnings.warn(\"FP16 is not supported on CPU; using FP32 instead\")\n"
     ]
    },
    {
     "name": "stdout",
     "output_type": "stream",
     "text": [
      "🔊 Transcript for extracted_audio/Actor_21/03-01-06-02-01-02-21.wav:  Kids are talking by the door....\n",
      "📝 NLP features for extracted_audio/Actor_21/03-01-06-02-01-02-21.wav: {'num_words': 6, 'num_hesitations': 0, 'hesitation_ratio': 0.0, 'avg_sentence_length': np.float64(6.0)}\n",
      "🎧 Audio features for extracted_audio/Actor_21/03-01-06-02-01-02-21.wav: {'duration_sec': 3.83718820861678, 'pitch_std': np.float64(69.4404054495755), 'tempo_bpm': array([172.265625])}\n",
      "✅ Combined features for extracted_audio/Actor_21/03-01-06-02-01-02-21.wav: {'num_words': 6, 'num_hesitations': 0, 'hesitation_ratio': 0.0, 'avg_sentence_length': np.float64(6.0), 'duration_sec': 3.83718820861678, 'pitch_std': np.float64(69.4404054495755), 'tempo_bpm': array([172.265625]), 'file': '03-01-06-02-01-02-21.wav'}\n",
      "📁 Processing file: extracted_audio/Actor_21/03-01-06-01-02-02-21.wav\n"
     ]
    },
    {
     "name": "stderr",
     "output_type": "stream",
     "text": [
      "/Library/Frameworks/Python.framework/Versions/3.12/lib/python3.12/site-packages/whisper/transcribe.py:126: UserWarning: FP16 is not supported on CPU; using FP32 instead\n",
      "  warnings.warn(\"FP16 is not supported on CPU; using FP32 instead\")\n"
     ]
    },
    {
     "name": "stdout",
     "output_type": "stream",
     "text": [
      "🔊 Transcript for extracted_audio/Actor_21/03-01-06-01-02-02-21.wav:  Dogs are sitting by the door....\n",
      "📝 NLP features for extracted_audio/Actor_21/03-01-06-01-02-02-21.wav: {'num_words': 6, 'num_hesitations': 0, 'hesitation_ratio': 0.0, 'avg_sentence_length': np.float64(6.0)}\n",
      "🎧 Audio features for extracted_audio/Actor_21/03-01-06-01-02-02-21.wav: {'duration_sec': 4.070748299319728, 'pitch_std': np.float64(54.00988709260369), 'tempo_bpm': array([107.66601562])}\n",
      "✅ Combined features for extracted_audio/Actor_21/03-01-06-01-02-02-21.wav: {'num_words': 6, 'num_hesitations': 0, 'hesitation_ratio': 0.0, 'avg_sentence_length': np.float64(6.0), 'duration_sec': 4.070748299319728, 'pitch_std': np.float64(54.00988709260369), 'tempo_bpm': array([107.66601562]), 'file': '03-01-06-01-02-02-21.wav'}\n",
      "📁 Processing file: extracted_audio/Actor_21/03-01-05-01-02-01-21.wav\n"
     ]
    },
    {
     "name": "stderr",
     "output_type": "stream",
     "text": [
      "/Library/Frameworks/Python.framework/Versions/3.12/lib/python3.12/site-packages/whisper/transcribe.py:126: UserWarning: FP16 is not supported on CPU; using FP32 instead\n",
      "  warnings.warn(\"FP16 is not supported on CPU; using FP32 instead\")\n"
     ]
    },
    {
     "name": "stdout",
     "output_type": "stream",
     "text": [
      "🔊 Transcript for extracted_audio/Actor_21/03-01-05-01-02-01-21.wav:  Dogs are sitting by the door....\n",
      "📝 NLP features for extracted_audio/Actor_21/03-01-05-01-02-01-21.wav: {'num_words': 6, 'num_hesitations': 0, 'hesitation_ratio': 0.0, 'avg_sentence_length': np.float64(6.0)}\n",
      "🎧 Audio features for extracted_audio/Actor_21/03-01-05-01-02-01-21.wav: {'duration_sec': 4.070748299319728, 'pitch_std': np.float64(65.94705211534945), 'tempo_bpm': array([151.99908088])}\n",
      "✅ Combined features for extracted_audio/Actor_21/03-01-05-01-02-01-21.wav: {'num_words': 6, 'num_hesitations': 0, 'hesitation_ratio': 0.0, 'avg_sentence_length': np.float64(6.0), 'duration_sec': 4.070748299319728, 'pitch_std': np.float64(65.94705211534945), 'tempo_bpm': array([151.99908088]), 'file': '03-01-05-01-02-01-21.wav'}\n",
      "📁 Processing file: extracted_audio/Actor_21/03-01-02-01-02-01-21.wav\n"
     ]
    },
    {
     "name": "stderr",
     "output_type": "stream",
     "text": [
      "/Library/Frameworks/Python.framework/Versions/3.12/lib/python3.12/site-packages/whisper/transcribe.py:126: UserWarning: FP16 is not supported on CPU; using FP32 instead\n",
      "  warnings.warn(\"FP16 is not supported on CPU; using FP32 instead\")\n"
     ]
    },
    {
     "name": "stdout",
     "output_type": "stream",
     "text": [
      "🔊 Transcript for extracted_audio/Actor_21/03-01-02-01-02-01-21.wav:  Dogs are sitting by the door....\n",
      "📝 NLP features for extracted_audio/Actor_21/03-01-02-01-02-01-21.wav: {'num_words': 6, 'num_hesitations': 0, 'hesitation_ratio': 0.0, 'avg_sentence_length': np.float64(6.0)}\n",
      "🎧 Audio features for extracted_audio/Actor_21/03-01-02-01-02-01-21.wav: {'duration_sec': 3.803854875283447, 'pitch_std': np.float64(34.25676956842908), 'tempo_bpm': array([184.5703125])}\n",
      "✅ Combined features for extracted_audio/Actor_21/03-01-02-01-02-01-21.wav: {'num_words': 6, 'num_hesitations': 0, 'hesitation_ratio': 0.0, 'avg_sentence_length': np.float64(6.0), 'duration_sec': 3.803854875283447, 'pitch_std': np.float64(34.25676956842908), 'tempo_bpm': array([184.5703125]), 'file': '03-01-02-01-02-01-21.wav'}\n",
      "📁 Processing file: extracted_audio/Actor_21/03-01-01-01-02-02-21.wav\n"
     ]
    },
    {
     "name": "stderr",
     "output_type": "stream",
     "text": [
      "/Library/Frameworks/Python.framework/Versions/3.12/lib/python3.12/site-packages/whisper/transcribe.py:126: UserWarning: FP16 is not supported on CPU; using FP32 instead\n",
      "  warnings.warn(\"FP16 is not supported on CPU; using FP32 instead\")\n"
     ]
    },
    {
     "name": "stdout",
     "output_type": "stream",
     "text": [
      "🔊 Transcript for extracted_audio/Actor_21/03-01-01-01-02-02-21.wav:  Dogs are sitting by the door....\n",
      "📝 NLP features for extracted_audio/Actor_21/03-01-01-01-02-02-21.wav: {'num_words': 6, 'num_hesitations': 0, 'hesitation_ratio': 0.0, 'avg_sentence_length': np.float64(6.0)}\n",
      "🎧 Audio features for extracted_audio/Actor_21/03-01-01-01-02-02-21.wav: {'duration_sec': 3.670340136054422, 'pitch_std': np.float64(48.393465026299964), 'tempo_bpm': array([54.97839096])}\n",
      "✅ Combined features for extracted_audio/Actor_21/03-01-01-01-02-02-21.wav: {'num_words': 6, 'num_hesitations': 0, 'hesitation_ratio': 0.0, 'avg_sentence_length': np.float64(6.0), 'duration_sec': 3.670340136054422, 'pitch_std': np.float64(48.393465026299964), 'tempo_bpm': array([54.97839096]), 'file': '03-01-01-01-02-02-21.wav'}\n",
      "📁 Processing file: extracted_audio/Actor_21/03-01-02-02-01-01-21.wav\n"
     ]
    },
    {
     "name": "stderr",
     "output_type": "stream",
     "text": [
      "/Library/Frameworks/Python.framework/Versions/3.12/lib/python3.12/site-packages/whisper/transcribe.py:126: UserWarning: FP16 is not supported on CPU; using FP32 instead\n",
      "  warnings.warn(\"FP16 is not supported on CPU; using FP32 instead\")\n"
     ]
    },
    {
     "name": "stdout",
     "output_type": "stream",
     "text": [
      "🔊 Transcript for extracted_audio/Actor_21/03-01-02-02-01-01-21.wav:  Kids are talking by the door....\n",
      "📝 NLP features for extracted_audio/Actor_21/03-01-02-02-01-01-21.wav: {'num_words': 6, 'num_hesitations': 0, 'hesitation_ratio': 0.0, 'avg_sentence_length': np.float64(6.0)}\n",
      "🎧 Audio features for extracted_audio/Actor_21/03-01-02-02-01-01-21.wav: {'duration_sec': 4.004036281179138, 'pitch_std': np.float64(58.823699746546595), 'tempo_bpm': array([99.38401442])}\n",
      "✅ Combined features for extracted_audio/Actor_21/03-01-02-02-01-01-21.wav: {'num_words': 6, 'num_hesitations': 0, 'hesitation_ratio': 0.0, 'avg_sentence_length': np.float64(6.0), 'duration_sec': 4.004036281179138, 'pitch_std': np.float64(58.823699746546595), 'tempo_bpm': array([99.38401442]), 'file': '03-01-02-02-01-01-21.wav'}\n",
      "📁 Processing file: extracted_audio/Actor_21/03-01-03-01-01-02-21.wav\n"
     ]
    },
    {
     "name": "stderr",
     "output_type": "stream",
     "text": [
      "/Library/Frameworks/Python.framework/Versions/3.12/lib/python3.12/site-packages/whisper/transcribe.py:126: UserWarning: FP16 is not supported on CPU; using FP32 instead\n",
      "  warnings.warn(\"FP16 is not supported on CPU; using FP32 instead\")\n"
     ]
    },
    {
     "name": "stdout",
     "output_type": "stream",
     "text": [
      "🔊 Transcript for extracted_audio/Actor_21/03-01-03-01-01-02-21.wav:  Kids are talking by the door....\n",
      "📝 NLP features for extracted_audio/Actor_21/03-01-03-01-01-02-21.wav: {'num_words': 6, 'num_hesitations': 0, 'hesitation_ratio': 0.0, 'avg_sentence_length': np.float64(6.0)}\n",
      "🎧 Audio features for extracted_audio/Actor_21/03-01-03-01-01-02-21.wav: {'duration_sec': 3.803809523809524, 'pitch_std': np.float64(57.055236262637614), 'tempo_bpm': array([161.49902344])}\n",
      "✅ Combined features for extracted_audio/Actor_21/03-01-03-01-01-02-21.wav: {'num_words': 6, 'num_hesitations': 0, 'hesitation_ratio': 0.0, 'avg_sentence_length': np.float64(6.0), 'duration_sec': 3.803809523809524, 'pitch_std': np.float64(57.055236262637614), 'tempo_bpm': array([161.49902344]), 'file': '03-01-03-01-01-02-21.wav'}\n",
      "📁 Processing file: extracted_audio/Actor_21/03-01-03-02-02-02-21.wav\n"
     ]
    },
    {
     "name": "stderr",
     "output_type": "stream",
     "text": [
      "/Library/Frameworks/Python.framework/Versions/3.12/lib/python3.12/site-packages/whisper/transcribe.py:126: UserWarning: FP16 is not supported on CPU; using FP32 instead\n",
      "  warnings.warn(\"FP16 is not supported on CPU; using FP32 instead\")\n"
     ]
    },
    {
     "name": "stdout",
     "output_type": "stream",
     "text": [
      "🔊 Transcript for extracted_audio/Actor_21/03-01-03-02-02-02-21.wav:  Dogs are sitting by the door....\n",
      "📝 NLP features for extracted_audio/Actor_21/03-01-03-02-02-02-21.wav: {'num_words': 6, 'num_hesitations': 0, 'hesitation_ratio': 0.0, 'avg_sentence_length': np.float64(6.0)}\n",
      "🎧 Audio features for extracted_audio/Actor_21/03-01-03-02-02-02-21.wav: {'duration_sec': 3.803809523809524, 'pitch_std': np.float64(75.96562057679947), 'tempo_bpm': array([172.265625])}\n",
      "✅ Combined features for extracted_audio/Actor_21/03-01-03-02-02-02-21.wav: {'num_words': 6, 'num_hesitations': 0, 'hesitation_ratio': 0.0, 'avg_sentence_length': np.float64(6.0), 'duration_sec': 3.803809523809524, 'pitch_std': np.float64(75.96562057679947), 'tempo_bpm': array([172.265625]), 'file': '03-01-03-02-02-02-21.wav'}\n",
      "📁 Processing file: extracted_audio/Actor_19/03-01-01-01-01-02-19.wav\n"
     ]
    },
    {
     "name": "stderr",
     "output_type": "stream",
     "text": [
      "/Library/Frameworks/Python.framework/Versions/3.12/lib/python3.12/site-packages/whisper/transcribe.py:126: UserWarning: FP16 is not supported on CPU; using FP32 instead\n",
      "  warnings.warn(\"FP16 is not supported on CPU; using FP32 instead\")\n"
     ]
    },
    {
     "name": "stdout",
     "output_type": "stream",
     "text": [
      "🔊 Transcript for extracted_audio/Actor_19/03-01-01-01-01-02-19.wav:  Kids are talking by the door....\n",
      "📝 NLP features for extracted_audio/Actor_19/03-01-01-01-01-02-19.wav: {'num_words': 6, 'num_hesitations': 0, 'hesitation_ratio': 0.0, 'avg_sentence_length': np.float64(6.0)}\n",
      "🎧 Audio features for extracted_audio/Actor_19/03-01-01-01-01-02-19.wav: {'duration_sec': 3.2365986394557824, 'pitch_std': np.float64(71.53978115541608), 'tempo_bpm': array([80.74951172])}\n",
      "✅ Combined features for extracted_audio/Actor_19/03-01-01-01-01-02-19.wav: {'num_words': 6, 'num_hesitations': 0, 'hesitation_ratio': 0.0, 'avg_sentence_length': np.float64(6.0), 'duration_sec': 3.2365986394557824, 'pitch_std': np.float64(71.53978115541608), 'tempo_bpm': array([80.74951172]), 'file': '03-01-01-01-01-02-19.wav'}\n",
      "📁 Processing file: extracted_audio/Actor_19/03-01-02-01-01-01-19.wav\n"
     ]
    },
    {
     "name": "stderr",
     "output_type": "stream",
     "text": [
      "/Library/Frameworks/Python.framework/Versions/3.12/lib/python3.12/site-packages/whisper/transcribe.py:126: UserWarning: FP16 is not supported on CPU; using FP32 instead\n",
      "  warnings.warn(\"FP16 is not supported on CPU; using FP32 instead\")\n"
     ]
    },
    {
     "name": "stdout",
     "output_type": "stream",
     "text": [
      "🔊 Transcript for extracted_audio/Actor_19/03-01-02-01-01-01-19.wav:  Kids are talking by the door....\n",
      "📝 NLP features for extracted_audio/Actor_19/03-01-02-01-01-01-19.wav: {'num_words': 6, 'num_hesitations': 0, 'hesitation_ratio': 0.0, 'avg_sentence_length': np.float64(6.0)}\n",
      "🎧 Audio features for extracted_audio/Actor_19/03-01-02-01-01-01-19.wav: {'duration_sec': 3.670340136054422, 'pitch_std': np.float64(55.355911860795615), 'tempo_bpm': array([172.265625])}\n",
      "✅ Combined features for extracted_audio/Actor_19/03-01-02-01-01-01-19.wav: {'num_words': 6, 'num_hesitations': 0, 'hesitation_ratio': 0.0, 'avg_sentence_length': np.float64(6.0), 'duration_sec': 3.670340136054422, 'pitch_std': np.float64(55.355911860795615), 'tempo_bpm': array([172.265625]), 'file': '03-01-02-01-01-01-19.wav'}\n",
      "📁 Processing file: extracted_audio/Actor_19/03-01-02-02-02-01-19.wav\n"
     ]
    },
    {
     "name": "stderr",
     "output_type": "stream",
     "text": [
      "/Library/Frameworks/Python.framework/Versions/3.12/lib/python3.12/site-packages/whisper/transcribe.py:126: UserWarning: FP16 is not supported on CPU; using FP32 instead\n",
      "  warnings.warn(\"FP16 is not supported on CPU; using FP32 instead\")\n"
     ]
    },
    {
     "name": "stdout",
     "output_type": "stream",
     "text": [
      "🔊 Transcript for extracted_audio/Actor_19/03-01-02-02-02-01-19.wav:  Dogs are sitting by the door....\n",
      "📝 NLP features for extracted_audio/Actor_19/03-01-02-02-02-01-19.wav: {'num_words': 6, 'num_hesitations': 0, 'hesitation_ratio': 0.0, 'avg_sentence_length': np.float64(6.0)}\n",
      "🎧 Audio features for extracted_audio/Actor_19/03-01-02-02-02-01-19.wav: {'duration_sec': 4.6046258503401365, 'pitch_std': np.float64(59.093710504842385), 'tempo_bpm': array([123.046875])}\n",
      "✅ Combined features for extracted_audio/Actor_19/03-01-02-02-02-01-19.wav: {'num_words': 6, 'num_hesitations': 0, 'hesitation_ratio': 0.0, 'avg_sentence_length': np.float64(6.0), 'duration_sec': 4.6046258503401365, 'pitch_std': np.float64(59.093710504842385), 'tempo_bpm': array([123.046875]), 'file': '03-01-02-02-02-01-19.wav'}\n",
      "📁 Processing file: extracted_audio/Actor_19/03-01-03-01-02-02-19.wav\n"
     ]
    },
    {
     "name": "stderr",
     "output_type": "stream",
     "text": [
      "/Library/Frameworks/Python.framework/Versions/3.12/lib/python3.12/site-packages/whisper/transcribe.py:126: UserWarning: FP16 is not supported on CPU; using FP32 instead\n",
      "  warnings.warn(\"FP16 is not supported on CPU; using FP32 instead\")\n"
     ]
    },
    {
     "name": "stdout",
     "output_type": "stream",
     "text": [
      "🔊 Transcript for extracted_audio/Actor_19/03-01-03-01-02-02-19.wav:  Dogs are sitting by the door....\n",
      "📝 NLP features for extracted_audio/Actor_19/03-01-03-01-02-02-19.wav: {'num_words': 6, 'num_hesitations': 0, 'hesitation_ratio': 0.0, 'avg_sentence_length': np.float64(6.0)}\n",
      "🎧 Audio features for extracted_audio/Actor_19/03-01-03-01-02-02-19.wav: {'duration_sec': 3.3033560090702947, 'pitch_std': np.float64(74.64657099484803), 'tempo_bpm': array([78.30255682])}\n",
      "✅ Combined features for extracted_audio/Actor_19/03-01-03-01-02-02-19.wav: {'num_words': 6, 'num_hesitations': 0, 'hesitation_ratio': 0.0, 'avg_sentence_length': np.float64(6.0), 'duration_sec': 3.3033560090702947, 'pitch_std': np.float64(74.64657099484803), 'tempo_bpm': array([78.30255682]), 'file': '03-01-03-01-02-02-19.wav'}\n",
      "📁 Processing file: extracted_audio/Actor_19/03-01-03-02-01-02-19.wav\n"
     ]
    },
    {
     "name": "stderr",
     "output_type": "stream",
     "text": [
      "/Library/Frameworks/Python.framework/Versions/3.12/lib/python3.12/site-packages/whisper/transcribe.py:126: UserWarning: FP16 is not supported on CPU; using FP32 instead\n",
      "  warnings.warn(\"FP16 is not supported on CPU; using FP32 instead\")\n"
     ]
    },
    {
     "name": "stdout",
     "output_type": "stream",
     "text": [
      "🔊 Transcript for extracted_audio/Actor_19/03-01-03-02-01-02-19.wav:  Kids are talking by the door!...\n",
      "📝 NLP features for extracted_audio/Actor_19/03-01-03-02-01-02-19.wav: {'num_words': 6, 'num_hesitations': 0, 'hesitation_ratio': 0.0, 'avg_sentence_length': np.float64(6.0)}\n",
      "🎧 Audio features for extracted_audio/Actor_19/03-01-03-02-01-02-19.wav: {'duration_sec': 3.803809523809524, 'pitch_std': np.float64(81.75238690521735), 'tempo_bpm': array([135.99917763])}\n",
      "✅ Combined features for extracted_audio/Actor_19/03-01-03-02-01-02-19.wav: {'num_words': 6, 'num_hesitations': 0, 'hesitation_ratio': 0.0, 'avg_sentence_length': np.float64(6.0), 'duration_sec': 3.803809523809524, 'pitch_std': np.float64(81.75238690521735), 'tempo_bpm': array([135.99917763]), 'file': '03-01-03-02-01-02-19.wav'}\n",
      "📁 Processing file: extracted_audio/Actor_19/03-01-04-02-01-02-19.wav\n"
     ]
    },
    {
     "name": "stderr",
     "output_type": "stream",
     "text": [
      "/Library/Frameworks/Python.framework/Versions/3.12/lib/python3.12/site-packages/whisper/transcribe.py:126: UserWarning: FP16 is not supported on CPU; using FP32 instead\n",
      "  warnings.warn(\"FP16 is not supported on CPU; using FP32 instead\")\n"
     ]
    },
    {
     "name": "stdout",
     "output_type": "stream",
     "text": [
      "🔊 Transcript for extracted_audio/Actor_19/03-01-04-02-01-02-19.wav:  Kids are talking by the door....\n",
      "📝 NLP features for extracted_audio/Actor_19/03-01-04-02-01-02-19.wav: {'num_words': 6, 'num_hesitations': 0, 'hesitation_ratio': 0.0, 'avg_sentence_length': np.float64(6.0)}\n",
      "🎧 Audio features for extracted_audio/Actor_19/03-01-04-02-01-02-19.wav: {'duration_sec': 3.703718820861678, 'pitch_std': np.float64(83.32504838643067), 'tempo_bpm': array([172.265625])}\n",
      "✅ Combined features for extracted_audio/Actor_19/03-01-04-02-01-02-19.wav: {'num_words': 6, 'num_hesitations': 0, 'hesitation_ratio': 0.0, 'avg_sentence_length': np.float64(6.0), 'duration_sec': 3.703718820861678, 'pitch_std': np.float64(83.32504838643067), 'tempo_bpm': array([172.265625]), 'file': '03-01-04-02-01-02-19.wav'}\n",
      "📁 Processing file: extracted_audio/Actor_19/03-01-07-02-01-01-19.wav\n"
     ]
    },
    {
     "name": "stderr",
     "output_type": "stream",
     "text": [
      "/Library/Frameworks/Python.framework/Versions/3.12/lib/python3.12/site-packages/whisper/transcribe.py:126: UserWarning: FP16 is not supported on CPU; using FP32 instead\n",
      "  warnings.warn(\"FP16 is not supported on CPU; using FP32 instead\")\n"
     ]
    },
    {
     "name": "stdout",
     "output_type": "stream",
     "text": [
      "🔊 Transcript for extracted_audio/Actor_19/03-01-07-02-01-01-19.wav:  Kids are talking by the door!...\n",
      "📝 NLP features for extracted_audio/Actor_19/03-01-07-02-01-01-19.wav: {'num_words': 6, 'num_hesitations': 0, 'hesitation_ratio': 0.0, 'avg_sentence_length': np.float64(6.0)}\n",
      "🎧 Audio features for extracted_audio/Actor_19/03-01-07-02-01-01-19.wav: {'duration_sec': 4.80485260770975, 'pitch_std': np.float64(83.20697051504922), 'tempo_bpm': array([71.77734375])}\n",
      "✅ Combined features for extracted_audio/Actor_19/03-01-07-02-01-01-19.wav: {'num_words': 6, 'num_hesitations': 0, 'hesitation_ratio': 0.0, 'avg_sentence_length': np.float64(6.0), 'duration_sec': 4.80485260770975, 'pitch_std': np.float64(83.20697051504922), 'tempo_bpm': array([71.77734375]), 'file': '03-01-07-02-01-01-19.wav'}\n",
      "📁 Processing file: extracted_audio/Actor_19/03-01-07-01-02-01-19.wav\n"
     ]
    },
    {
     "name": "stderr",
     "output_type": "stream",
     "text": [
      "/Library/Frameworks/Python.framework/Versions/3.12/lib/python3.12/site-packages/whisper/transcribe.py:126: UserWarning: FP16 is not supported on CPU; using FP32 instead\n",
      "  warnings.warn(\"FP16 is not supported on CPU; using FP32 instead\")\n"
     ]
    },
    {
     "name": "stdout",
     "output_type": "stream",
     "text": [
      "🔊 Transcript for extracted_audio/Actor_19/03-01-07-01-02-01-19.wav:  Hogs it's sitting by the door!...\n",
      "📝 NLP features for extracted_audio/Actor_19/03-01-07-01-02-01-19.wav: {'num_words': 6, 'num_hesitations': 0, 'hesitation_ratio': 0.0, 'avg_sentence_length': np.float64(6.0)}\n",
      "🎧 Audio features for extracted_audio/Actor_19/03-01-07-01-02-01-19.wav: {'duration_sec': 4.170839002267574, 'pitch_std': np.float64(79.55851181655181), 'tempo_bpm': array([99.38401442])}\n",
      "✅ Combined features for extracted_audio/Actor_19/03-01-07-01-02-01-19.wav: {'num_words': 6, 'num_hesitations': 0, 'hesitation_ratio': 0.0, 'avg_sentence_length': np.float64(6.0), 'duration_sec': 4.170839002267574, 'pitch_std': np.float64(79.55851181655181), 'tempo_bpm': array([99.38401442]), 'file': '03-01-07-01-02-01-19.wav'}\n",
      "📁 Processing file: extracted_audio/Actor_19/03-01-04-01-02-02-19.wav\n"
     ]
    },
    {
     "name": "stderr",
     "output_type": "stream",
     "text": [
      "/Library/Frameworks/Python.framework/Versions/3.12/lib/python3.12/site-packages/whisper/transcribe.py:126: UserWarning: FP16 is not supported on CPU; using FP32 instead\n",
      "  warnings.warn(\"FP16 is not supported on CPU; using FP32 instead\")\n"
     ]
    },
    {
     "name": "stdout",
     "output_type": "stream",
     "text": [
      "🔊 Transcript for extracted_audio/Actor_19/03-01-04-01-02-02-19.wav:  Dogs are sitting by the door....\n",
      "📝 NLP features for extracted_audio/Actor_19/03-01-04-01-02-02-19.wav: {'num_words': 6, 'num_hesitations': 0, 'hesitation_ratio': 0.0, 'avg_sentence_length': np.float64(6.0)}\n",
      "🎧 Audio features for extracted_audio/Actor_19/03-01-04-01-02-02-19.wav: {'duration_sec': 3.670340136054422, 'pitch_std': np.float64(63.878067209055615), 'tempo_bpm': array([184.5703125])}\n",
      "✅ Combined features for extracted_audio/Actor_19/03-01-04-01-02-02-19.wav: {'num_words': 6, 'num_hesitations': 0, 'hesitation_ratio': 0.0, 'avg_sentence_length': np.float64(6.0), 'duration_sec': 3.670340136054422, 'pitch_std': np.float64(63.878067209055615), 'tempo_bpm': array([184.5703125]), 'file': '03-01-04-01-02-02-19.wav'}\n",
      "📁 Processing file: extracted_audio/Actor_19/03-01-06-02-02-02-19.wav\n"
     ]
    },
    {
     "name": "stderr",
     "output_type": "stream",
     "text": [
      "/Library/Frameworks/Python.framework/Versions/3.12/lib/python3.12/site-packages/whisper/transcribe.py:126: UserWarning: FP16 is not supported on CPU; using FP32 instead\n",
      "  warnings.warn(\"FP16 is not supported on CPU; using FP32 instead\")\n"
     ]
    },
    {
     "name": "stdout",
     "output_type": "stream",
     "text": [
      "🔊 Transcript for extracted_audio/Actor_19/03-01-06-02-02-02-19.wav:  Dogs are sitting by the door!...\n",
      "📝 NLP features for extracted_audio/Actor_19/03-01-06-02-02-02-19.wav: {'num_words': 6, 'num_hesitations': 0, 'hesitation_ratio': 0.0, 'avg_sentence_length': np.float64(6.0)}\n",
      "🎧 Audio features for extracted_audio/Actor_19/03-01-06-02-02-02-19.wav: {'duration_sec': 4.037369614512472, 'pitch_std': np.float64(66.64452353949139), 'tempo_bpm': array([151.99908088])}\n",
      "✅ Combined features for extracted_audio/Actor_19/03-01-06-02-02-02-19.wav: {'num_words': 6, 'num_hesitations': 0, 'hesitation_ratio': 0.0, 'avg_sentence_length': np.float64(6.0), 'duration_sec': 4.037369614512472, 'pitch_std': np.float64(66.64452353949139), 'tempo_bpm': array([151.99908088]), 'file': '03-01-06-02-02-02-19.wav'}\n",
      "📁 Processing file: extracted_audio/Actor_19/03-01-05-02-02-01-19.wav\n"
     ]
    },
    {
     "name": "stderr",
     "output_type": "stream",
     "text": [
      "/Library/Frameworks/Python.framework/Versions/3.12/lib/python3.12/site-packages/whisper/transcribe.py:126: UserWarning: FP16 is not supported on CPU; using FP32 instead\n",
      "  warnings.warn(\"FP16 is not supported on CPU; using FP32 instead\")\n"
     ]
    },
    {
     "name": "stdout",
     "output_type": "stream",
     "text": [
      "🔊 Transcript for extracted_audio/Actor_19/03-01-05-02-02-01-19.wav:  Dogs are sitting by the door!...\n",
      "📝 NLP features for extracted_audio/Actor_19/03-01-05-02-02-01-19.wav: {'num_words': 6, 'num_hesitations': 0, 'hesitation_ratio': 0.0, 'avg_sentence_length': np.float64(6.0)}\n",
      "🎧 Audio features for extracted_audio/Actor_19/03-01-05-02-02-01-19.wav: {'duration_sec': 4.337687074829932, 'pitch_std': np.float64(72.56466619005977), 'tempo_bpm': array([80.74951172])}\n",
      "✅ Combined features for extracted_audio/Actor_19/03-01-05-02-02-01-19.wav: {'num_words': 6, 'num_hesitations': 0, 'hesitation_ratio': 0.0, 'avg_sentence_length': np.float64(6.0), 'duration_sec': 4.337687074829932, 'pitch_std': np.float64(72.56466619005977), 'tempo_bpm': array([80.74951172]), 'file': '03-01-05-02-02-01-19.wav'}\n",
      "📁 Processing file: extracted_audio/Actor_19/03-01-05-01-01-01-19.wav\n"
     ]
    },
    {
     "name": "stderr",
     "output_type": "stream",
     "text": [
      "/Library/Frameworks/Python.framework/Versions/3.12/lib/python3.12/site-packages/whisper/transcribe.py:126: UserWarning: FP16 is not supported on CPU; using FP32 instead\n",
      "  warnings.warn(\"FP16 is not supported on CPU; using FP32 instead\")\n"
     ]
    },
    {
     "name": "stdout",
     "output_type": "stream",
     "text": [
      "🔊 Transcript for extracted_audio/Actor_19/03-01-05-01-01-01-19.wav:  Kids are talking by the door....\n",
      "📝 NLP features for extracted_audio/Actor_19/03-01-05-01-01-01-19.wav: {'num_words': 6, 'num_hesitations': 0, 'hesitation_ratio': 0.0, 'avg_sentence_length': np.float64(6.0)}\n",
      "🎧 Audio features for extracted_audio/Actor_19/03-01-05-01-01-01-19.wav: {'duration_sec': 3.7704761904761903, 'pitch_std': np.float64(95.30787424905681), 'tempo_bpm': array([172.265625])}\n",
      "✅ Combined features for extracted_audio/Actor_19/03-01-05-01-01-01-19.wav: {'num_words': 6, 'num_hesitations': 0, 'hesitation_ratio': 0.0, 'avg_sentence_length': np.float64(6.0), 'duration_sec': 3.7704761904761903, 'pitch_std': np.float64(95.30787424905681), 'tempo_bpm': array([172.265625]), 'file': '03-01-05-01-01-01-19.wav'}\n",
      "📁 Processing file: extracted_audio/Actor_19/03-01-06-01-01-02-19.wav\n"
     ]
    },
    {
     "name": "stderr",
     "output_type": "stream",
     "text": [
      "/Library/Frameworks/Python.framework/Versions/3.12/lib/python3.12/site-packages/whisper/transcribe.py:126: UserWarning: FP16 is not supported on CPU; using FP32 instead\n",
      "  warnings.warn(\"FP16 is not supported on CPU; using FP32 instead\")\n"
     ]
    },
    {
     "name": "stdout",
     "output_type": "stream",
     "text": [
      "🔊 Transcript for extracted_audio/Actor_19/03-01-06-01-01-02-19.wav:  Kids are talking by the door....\n",
      "📝 NLP features for extracted_audio/Actor_19/03-01-06-01-01-02-19.wav: {'num_words': 6, 'num_hesitations': 0, 'hesitation_ratio': 0.0, 'avg_sentence_length': np.float64(6.0)}\n",
      "🎧 Audio features for extracted_audio/Actor_19/03-01-06-01-01-02-19.wav: {'duration_sec': 3.5035374149659866, 'pitch_std': np.float64(87.09278925602776), 'tempo_bpm': array([117.45383523])}\n",
      "✅ Combined features for extracted_audio/Actor_19/03-01-06-01-01-02-19.wav: {'num_words': 6, 'num_hesitations': 0, 'hesitation_ratio': 0.0, 'avg_sentence_length': np.float64(6.0), 'duration_sec': 3.5035374149659866, 'pitch_std': np.float64(87.09278925602776), 'tempo_bpm': array([117.45383523]), 'file': '03-01-06-01-01-02-19.wav'}\n",
      "📁 Processing file: extracted_audio/Actor_19/03-01-08-01-02-01-19.wav\n"
     ]
    },
    {
     "name": "stderr",
     "output_type": "stream",
     "text": [
      "/Library/Frameworks/Python.framework/Versions/3.12/lib/python3.12/site-packages/whisper/transcribe.py:126: UserWarning: FP16 is not supported on CPU; using FP32 instead\n",
      "  warnings.warn(\"FP16 is not supported on CPU; using FP32 instead\")\n"
     ]
    },
    {
     "name": "stdout",
     "output_type": "stream",
     "text": [
      "🔊 Transcript for extracted_audio/Actor_19/03-01-08-01-02-01-19.wav:  Dogs are sitting by the door....\n",
      "📝 NLP features for extracted_audio/Actor_19/03-01-08-01-02-01-19.wav: {'num_words': 6, 'num_hesitations': 0, 'hesitation_ratio': 0.0, 'avg_sentence_length': np.float64(6.0)}\n",
      "🎧 Audio features for extracted_audio/Actor_19/03-01-08-01-02-01-19.wav: {'duration_sec': 4.104126984126984, 'pitch_std': np.float64(66.32419319337725), 'tempo_bpm': array([86.1328125])}\n",
      "✅ Combined features for extracted_audio/Actor_19/03-01-08-01-02-01-19.wav: {'num_words': 6, 'num_hesitations': 0, 'hesitation_ratio': 0.0, 'avg_sentence_length': np.float64(6.0), 'duration_sec': 4.104126984126984, 'pitch_std': np.float64(66.32419319337725), 'tempo_bpm': array([86.1328125]), 'file': '03-01-08-01-02-01-19.wav'}\n",
      "📁 Processing file: extracted_audio/Actor_19/03-01-08-02-01-01-19.wav\n"
     ]
    },
    {
     "name": "stderr",
     "output_type": "stream",
     "text": [
      "/Library/Frameworks/Python.framework/Versions/3.12/lib/python3.12/site-packages/whisper/transcribe.py:126: UserWarning: FP16 is not supported on CPU; using FP32 instead\n",
      "  warnings.warn(\"FP16 is not supported on CPU; using FP32 instead\")\n"
     ]
    },
    {
     "name": "stdout",
     "output_type": "stream",
     "text": [
      "🔊 Transcript for extracted_audio/Actor_19/03-01-08-02-01-01-19.wav:  Kids are talking by the door?...\n",
      "📝 NLP features for extracted_audio/Actor_19/03-01-08-02-01-01-19.wav: {'num_words': 6, 'num_hesitations': 0, 'hesitation_ratio': 0.0, 'avg_sentence_length': np.float64(6.0)}\n",
      "🎧 Audio features for extracted_audio/Actor_19/03-01-08-02-01-01-19.wav: {'duration_sec': 4.104126984126984, 'pitch_std': np.float64(75.52320288385425), 'tempo_bpm': array([117.45383523])}\n",
      "✅ Combined features for extracted_audio/Actor_19/03-01-08-02-01-01-19.wav: {'num_words': 6, 'num_hesitations': 0, 'hesitation_ratio': 0.0, 'avg_sentence_length': np.float64(6.0), 'duration_sec': 4.104126984126984, 'pitch_std': np.float64(75.52320288385425), 'tempo_bpm': array([117.45383523]), 'file': '03-01-08-02-01-01-19.wav'}\n",
      "📁 Processing file: extracted_audio/Actor_19/03-01-07-02-02-02-19.wav\n"
     ]
    },
    {
     "name": "stderr",
     "output_type": "stream",
     "text": [
      "/Library/Frameworks/Python.framework/Versions/3.12/lib/python3.12/site-packages/whisper/transcribe.py:126: UserWarning: FP16 is not supported on CPU; using FP32 instead\n",
      "  warnings.warn(\"FP16 is not supported on CPU; using FP32 instead\")\n"
     ]
    },
    {
     "name": "stdout",
     "output_type": "stream",
     "text": [
      "🔊 Transcript for extracted_audio/Actor_19/03-01-07-02-02-02-19.wav:  Dogs are sitting by the door!...\n",
      "📝 NLP features for extracted_audio/Actor_19/03-01-07-02-02-02-19.wav: {'num_words': 6, 'num_hesitations': 0, 'hesitation_ratio': 0.0, 'avg_sentence_length': np.float64(6.0)}\n",
      "🎧 Audio features for extracted_audio/Actor_19/03-01-07-02-02-02-19.wav: {'duration_sec': 4.93827664399093, 'pitch_std': np.float64(75.01466014941929), 'tempo_bpm': array([103.359375])}\n",
      "✅ Combined features for extracted_audio/Actor_19/03-01-07-02-02-02-19.wav: {'num_words': 6, 'num_hesitations': 0, 'hesitation_ratio': 0.0, 'avg_sentence_length': np.float64(6.0), 'duration_sec': 4.93827664399093, 'pitch_std': np.float64(75.01466014941929), 'tempo_bpm': array([103.359375]), 'file': '03-01-07-02-02-02-19.wav'}\n",
      "📁 Processing file: extracted_audio/Actor_19/03-01-04-02-02-01-19.wav\n"
     ]
    },
    {
     "name": "stderr",
     "output_type": "stream",
     "text": [
      "/Library/Frameworks/Python.framework/Versions/3.12/lib/python3.12/site-packages/whisper/transcribe.py:126: UserWarning: FP16 is not supported on CPU; using FP32 instead\n",
      "  warnings.warn(\"FP16 is not supported on CPU; using FP32 instead\")\n"
     ]
    },
    {
     "name": "stdout",
     "output_type": "stream",
     "text": [
      "🔊 Transcript for extracted_audio/Actor_19/03-01-04-02-02-01-19.wav:  Dogs are sitting by the door....\n",
      "📝 NLP features for extracted_audio/Actor_19/03-01-04-02-02-01-19.wav: {'num_words': 6, 'num_hesitations': 0, 'hesitation_ratio': 0.0, 'avg_sentence_length': np.float64(6.0)}\n",
      "🎧 Audio features for extracted_audio/Actor_19/03-01-04-02-02-01-19.wav: {'duration_sec': 3.4034467120181406, 'pitch_std': np.float64(75.91558966213678), 'tempo_bpm': array([198.76802885])}\n",
      "✅ Combined features for extracted_audio/Actor_19/03-01-04-02-02-01-19.wav: {'num_words': 6, 'num_hesitations': 0, 'hesitation_ratio': 0.0, 'avg_sentence_length': np.float64(6.0), 'duration_sec': 3.4034467120181406, 'pitch_std': np.float64(75.91558966213678), 'tempo_bpm': array([198.76802885]), 'file': '03-01-04-02-02-01-19.wav'}\n",
      "📁 Processing file: extracted_audio/Actor_19/03-01-04-01-01-01-19.wav\n"
     ]
    },
    {
     "name": "stderr",
     "output_type": "stream",
     "text": [
      "/Library/Frameworks/Python.framework/Versions/3.12/lib/python3.12/site-packages/whisper/transcribe.py:126: UserWarning: FP16 is not supported on CPU; using FP32 instead\n",
      "  warnings.warn(\"FP16 is not supported on CPU; using FP32 instead\")\n"
     ]
    },
    {
     "name": "stdout",
     "output_type": "stream",
     "text": [
      "🔊 Transcript for extracted_audio/Actor_19/03-01-04-01-01-01-19.wav:  Kids are talking by the door....\n",
      "📝 NLP features for extracted_audio/Actor_19/03-01-04-01-01-01-19.wav: {'num_words': 6, 'num_hesitations': 0, 'hesitation_ratio': 0.0, 'avg_sentence_length': np.float64(6.0)}\n",
      "🎧 Audio features for extracted_audio/Actor_19/03-01-04-01-01-01-19.wav: {'duration_sec': 3.436780045351474, 'pitch_std': np.float64(53.996249473020036), 'tempo_bpm': array([64.59960938])}\n",
      "✅ Combined features for extracted_audio/Actor_19/03-01-04-01-01-01-19.wav: {'num_words': 6, 'num_hesitations': 0, 'hesitation_ratio': 0.0, 'avg_sentence_length': np.float64(6.0), 'duration_sec': 3.436780045351474, 'pitch_std': np.float64(53.996249473020036), 'tempo_bpm': array([64.59960938]), 'file': '03-01-04-01-01-01-19.wav'}\n",
      "📁 Processing file: extracted_audio/Actor_19/03-01-07-01-01-02-19.wav\n"
     ]
    },
    {
     "name": "stderr",
     "output_type": "stream",
     "text": [
      "/Library/Frameworks/Python.framework/Versions/3.12/lib/python3.12/site-packages/whisper/transcribe.py:126: UserWarning: FP16 is not supported on CPU; using FP32 instead\n",
      "  warnings.warn(\"FP16 is not supported on CPU; using FP32 instead\")\n"
     ]
    },
    {
     "name": "stdout",
     "output_type": "stream",
     "text": [
      "🔊 Transcript for extracted_audio/Actor_19/03-01-07-01-01-02-19.wav:  Kids are talking by the door....\n",
      "📝 NLP features for extracted_audio/Actor_19/03-01-07-01-01-02-19.wav: {'num_words': 6, 'num_hesitations': 0, 'hesitation_ratio': 0.0, 'avg_sentence_length': np.float64(6.0)}\n",
      "🎧 Audio features for extracted_audio/Actor_19/03-01-07-01-01-02-19.wav: {'duration_sec': 4.838185941043084, 'pitch_std': np.float64(76.96443155791785), 'tempo_bpm': array([123.046875])}\n",
      "✅ Combined features for extracted_audio/Actor_19/03-01-07-01-01-02-19.wav: {'num_words': 6, 'num_hesitations': 0, 'hesitation_ratio': 0.0, 'avg_sentence_length': np.float64(6.0), 'duration_sec': 4.838185941043084, 'pitch_std': np.float64(76.96443155791785), 'tempo_bpm': array([123.046875]), 'file': '03-01-07-01-01-02-19.wav'}\n",
      "📁 Processing file: extracted_audio/Actor_19/03-01-05-02-01-02-19.wav\n"
     ]
    },
    {
     "name": "stderr",
     "output_type": "stream",
     "text": [
      "/Library/Frameworks/Python.framework/Versions/3.12/lib/python3.12/site-packages/whisper/transcribe.py:126: UserWarning: FP16 is not supported on CPU; using FP32 instead\n",
      "  warnings.warn(\"FP16 is not supported on CPU; using FP32 instead\")\n"
     ]
    },
    {
     "name": "stdout",
     "output_type": "stream",
     "text": [
      "🔊 Transcript for extracted_audio/Actor_19/03-01-05-02-01-02-19.wav:  Kids are talking by the door!...\n",
      "📝 NLP features for extracted_audio/Actor_19/03-01-05-02-01-02-19.wav: {'num_words': 6, 'num_hesitations': 0, 'hesitation_ratio': 0.0, 'avg_sentence_length': np.float64(6.0)}\n",
      "🎧 Audio features for extracted_audio/Actor_19/03-01-05-02-01-02-19.wav: {'duration_sec': 4.8048072562358275, 'pitch_std': np.float64(79.89137349153663), 'tempo_bpm': array([83.35433468])}\n",
      "✅ Combined features for extracted_audio/Actor_19/03-01-05-02-01-02-19.wav: {'num_words': 6, 'num_hesitations': 0, 'hesitation_ratio': 0.0, 'avg_sentence_length': np.float64(6.0), 'duration_sec': 4.8048072562358275, 'pitch_std': np.float64(79.89137349153663), 'tempo_bpm': array([83.35433468]), 'file': '03-01-05-02-01-02-19.wav'}\n",
      "📁 Processing file: extracted_audio/Actor_19/03-01-06-02-01-01-19.wav\n"
     ]
    },
    {
     "name": "stderr",
     "output_type": "stream",
     "text": [
      "/Library/Frameworks/Python.framework/Versions/3.12/lib/python3.12/site-packages/whisper/transcribe.py:126: UserWarning: FP16 is not supported on CPU; using FP32 instead\n",
      "  warnings.warn(\"FP16 is not supported on CPU; using FP32 instead\")\n"
     ]
    },
    {
     "name": "stdout",
     "output_type": "stream",
     "text": [
      "🔊 Transcript for extracted_audio/Actor_19/03-01-06-02-01-01-19.wav:  Kids are talking by the door!...\n",
      "📝 NLP features for extracted_audio/Actor_19/03-01-06-02-01-01-19.wav: {'num_words': 6, 'num_hesitations': 0, 'hesitation_ratio': 0.0, 'avg_sentence_length': np.float64(6.0)}\n",
      "🎧 Audio features for extracted_audio/Actor_19/03-01-06-02-01-01-19.wav: {'duration_sec': 3.83718820861678, 'pitch_std': np.float64(95.36227507923353), 'tempo_bpm': array([117.45383523])}\n",
      "✅ Combined features for extracted_audio/Actor_19/03-01-06-02-01-01-19.wav: {'num_words': 6, 'num_hesitations': 0, 'hesitation_ratio': 0.0, 'avg_sentence_length': np.float64(6.0), 'duration_sec': 3.83718820861678, 'pitch_std': np.float64(95.36227507923353), 'tempo_bpm': array([117.45383523]), 'file': '03-01-06-02-01-01-19.wav'}\n",
      "📁 Processing file: extracted_audio/Actor_19/03-01-06-01-02-01-19.wav\n"
     ]
    },
    {
     "name": "stderr",
     "output_type": "stream",
     "text": [
      "/Library/Frameworks/Python.framework/Versions/3.12/lib/python3.12/site-packages/whisper/transcribe.py:126: UserWarning: FP16 is not supported on CPU; using FP32 instead\n",
      "  warnings.warn(\"FP16 is not supported on CPU; using FP32 instead\")\n"
     ]
    },
    {
     "name": "stdout",
     "output_type": "stream",
     "text": [
      "🔊 Transcript for extracted_audio/Actor_19/03-01-06-01-02-01-19.wav:  The dogs are sitting by the door....\n",
      "📝 NLP features for extracted_audio/Actor_19/03-01-06-01-02-01-19.wav: {'num_words': 7, 'num_hesitations': 0, 'hesitation_ratio': 0.0, 'avg_sentence_length': np.float64(7.0)}\n",
      "🎧 Audio features for extracted_audio/Actor_19/03-01-06-01-02-01-19.wav: {'duration_sec': 3.7704761904761903, 'pitch_std': np.float64(81.96946528886697), 'tempo_bpm': array([215.33203125])}\n",
      "✅ Combined features for extracted_audio/Actor_19/03-01-06-01-02-01-19.wav: {'num_words': 7, 'num_hesitations': 0, 'hesitation_ratio': 0.0, 'avg_sentence_length': np.float64(7.0), 'duration_sec': 3.7704761904761903, 'pitch_std': np.float64(81.96946528886697), 'tempo_bpm': array([215.33203125]), 'file': '03-01-06-01-02-01-19.wav'}\n",
      "📁 Processing file: extracted_audio/Actor_19/03-01-05-01-02-02-19.wav\n"
     ]
    },
    {
     "name": "stderr",
     "output_type": "stream",
     "text": [
      "/Library/Frameworks/Python.framework/Versions/3.12/lib/python3.12/site-packages/whisper/transcribe.py:126: UserWarning: FP16 is not supported on CPU; using FP32 instead\n",
      "  warnings.warn(\"FP16 is not supported on CPU; using FP32 instead\")\n"
     ]
    },
    {
     "name": "stdout",
     "output_type": "stream",
     "text": [
      "🔊 Transcript for extracted_audio/Actor_19/03-01-05-01-02-02-19.wav:  Dogs are sitting by the door....\n",
      "📝 NLP features for extracted_audio/Actor_19/03-01-05-01-02-02-19.wav: {'num_words': 6, 'num_hesitations': 0, 'hesitation_ratio': 0.0, 'avg_sentence_length': np.float64(6.0)}\n",
      "🎧 Audio features for extracted_audio/Actor_19/03-01-05-01-02-02-19.wav: {'duration_sec': 3.570249433106576, 'pitch_std': np.float64(80.37089914812796), 'tempo_bpm': array([198.76802885])}\n",
      "✅ Combined features for extracted_audio/Actor_19/03-01-05-01-02-02-19.wav: {'num_words': 6, 'num_hesitations': 0, 'hesitation_ratio': 0.0, 'avg_sentence_length': np.float64(6.0), 'duration_sec': 3.570249433106576, 'pitch_std': np.float64(80.37089914812796), 'tempo_bpm': array([198.76802885]), 'file': '03-01-05-01-02-02-19.wav'}\n",
      "📁 Processing file: extracted_audio/Actor_19/03-01-08-01-01-02-19.wav\n"
     ]
    },
    {
     "name": "stderr",
     "output_type": "stream",
     "text": [
      "/Library/Frameworks/Python.framework/Versions/3.12/lib/python3.12/site-packages/whisper/transcribe.py:126: UserWarning: FP16 is not supported on CPU; using FP32 instead\n",
      "  warnings.warn(\"FP16 is not supported on CPU; using FP32 instead\")\n"
     ]
    },
    {
     "name": "stdout",
     "output_type": "stream",
     "text": [
      "🔊 Transcript for extracted_audio/Actor_19/03-01-08-01-01-02-19.wav:  Kids are talking by the door....\n",
      "📝 NLP features for extracted_audio/Actor_19/03-01-08-01-01-02-19.wav: {'num_words': 6, 'num_hesitations': 0, 'hesitation_ratio': 0.0, 'avg_sentence_length': np.float64(6.0)}\n",
      "🎧 Audio features for extracted_audio/Actor_19/03-01-08-01-01-02-19.wav: {'duration_sec': 3.53687074829932, 'pitch_std': np.float64(74.25997594461887), 'tempo_bpm': array([64.59960938])}\n",
      "✅ Combined features for extracted_audio/Actor_19/03-01-08-01-01-02-19.wav: {'num_words': 6, 'num_hesitations': 0, 'hesitation_ratio': 0.0, 'avg_sentence_length': np.float64(6.0), 'duration_sec': 3.53687074829932, 'pitch_std': np.float64(74.25997594461887), 'tempo_bpm': array([64.59960938]), 'file': '03-01-08-01-01-02-19.wav'}\n",
      "📁 Processing file: extracted_audio/Actor_19/03-01-08-02-02-02-19.wav\n"
     ]
    },
    {
     "name": "stderr",
     "output_type": "stream",
     "text": [
      "/Library/Frameworks/Python.framework/Versions/3.12/lib/python3.12/site-packages/whisper/transcribe.py:126: UserWarning: FP16 is not supported on CPU; using FP32 instead\n",
      "  warnings.warn(\"FP16 is not supported on CPU; using FP32 instead\")\n"
     ]
    },
    {
     "name": "stdout",
     "output_type": "stream",
     "text": [
      "🔊 Transcript for extracted_audio/Actor_19/03-01-08-02-02-02-19.wav:  Dogs are sitting by the door....\n",
      "📝 NLP features for extracted_audio/Actor_19/03-01-08-02-02-02-19.wav: {'num_words': 6, 'num_hesitations': 0, 'hesitation_ratio': 0.0, 'avg_sentence_length': np.float64(6.0)}\n",
      "🎧 Audio features for extracted_audio/Actor_19/03-01-08-02-02-02-19.wav: {'duration_sec': 3.2699773242630386, 'pitch_std': np.float64(71.20477833984437), 'tempo_bpm': array([78.30255682])}\n",
      "✅ Combined features for extracted_audio/Actor_19/03-01-08-02-02-02-19.wav: {'num_words': 6, 'num_hesitations': 0, 'hesitation_ratio': 0.0, 'avg_sentence_length': np.float64(6.0), 'duration_sec': 3.2699773242630386, 'pitch_std': np.float64(71.20477833984437), 'tempo_bpm': array([78.30255682]), 'file': '03-01-08-02-02-02-19.wav'}\n",
      "📁 Processing file: extracted_audio/Actor_19/03-01-02-01-02-02-19.wav\n"
     ]
    },
    {
     "name": "stderr",
     "output_type": "stream",
     "text": [
      "/Library/Frameworks/Python.framework/Versions/3.12/lib/python3.12/site-packages/whisper/transcribe.py:126: UserWarning: FP16 is not supported on CPU; using FP32 instead\n",
      "  warnings.warn(\"FP16 is not supported on CPU; using FP32 instead\")\n"
     ]
    },
    {
     "name": "stdout",
     "output_type": "stream",
     "text": [
      "🔊 Transcript for extracted_audio/Actor_19/03-01-02-01-02-02-19.wav:  Dogs are sitting by the door....\n",
      "📝 NLP features for extracted_audio/Actor_19/03-01-02-01-02-02-19.wav: {'num_words': 6, 'num_hesitations': 0, 'hesitation_ratio': 0.0, 'avg_sentence_length': np.float64(6.0)}\n",
      "🎧 Audio features for extracted_audio/Actor_19/03-01-02-01-02-02-19.wav: {'duration_sec': 3.47015873015873, 'pitch_std': np.float64(49.903215027174085), 'tempo_bpm': array([198.76802885])}\n",
      "✅ Combined features for extracted_audio/Actor_19/03-01-02-01-02-02-19.wav: {'num_words': 6, 'num_hesitations': 0, 'hesitation_ratio': 0.0, 'avg_sentence_length': np.float64(6.0), 'duration_sec': 3.47015873015873, 'pitch_std': np.float64(49.903215027174085), 'tempo_bpm': array([198.76802885]), 'file': '03-01-02-01-02-02-19.wav'}\n",
      "📁 Processing file: extracted_audio/Actor_19/03-01-01-01-02-01-19.wav\n"
     ]
    },
    {
     "name": "stderr",
     "output_type": "stream",
     "text": [
      "/Library/Frameworks/Python.framework/Versions/3.12/lib/python3.12/site-packages/whisper/transcribe.py:126: UserWarning: FP16 is not supported on CPU; using FP32 instead\n",
      "  warnings.warn(\"FP16 is not supported on CPU; using FP32 instead\")\n"
     ]
    },
    {
     "name": "stdout",
     "output_type": "stream",
     "text": [
      "🔊 Transcript for extracted_audio/Actor_19/03-01-01-01-02-01-19.wav:  Dogs are sitting by the door....\n",
      "📝 NLP features for extracted_audio/Actor_19/03-01-01-01-02-01-19.wav: {'num_words': 6, 'num_hesitations': 0, 'hesitation_ratio': 0.0, 'avg_sentence_length': np.float64(6.0)}\n",
      "🎧 Audio features for extracted_audio/Actor_19/03-01-01-01-02-01-19.wav: {'duration_sec': 3.336689342403628, 'pitch_std': np.float64(59.49392046572613), 'tempo_bpm': array([75.99954044])}\n",
      "✅ Combined features for extracted_audio/Actor_19/03-01-01-01-02-01-19.wav: {'num_words': 6, 'num_hesitations': 0, 'hesitation_ratio': 0.0, 'avg_sentence_length': np.float64(6.0), 'duration_sec': 3.336689342403628, 'pitch_std': np.float64(59.49392046572613), 'tempo_bpm': array([75.99954044]), 'file': '03-01-01-01-02-01-19.wav'}\n",
      "📁 Processing file: extracted_audio/Actor_19/03-01-02-02-01-02-19.wav\n"
     ]
    },
    {
     "name": "stderr",
     "output_type": "stream",
     "text": [
      "/Library/Frameworks/Python.framework/Versions/3.12/lib/python3.12/site-packages/whisper/transcribe.py:126: UserWarning: FP16 is not supported on CPU; using FP32 instead\n",
      "  warnings.warn(\"FP16 is not supported on CPU; using FP32 instead\")\n"
     ]
    },
    {
     "name": "stdout",
     "output_type": "stream",
     "text": [
      "🔊 Transcript for extracted_audio/Actor_19/03-01-02-02-01-02-19.wav:  Kids are talking by the door....\n",
      "📝 NLP features for extracted_audio/Actor_19/03-01-02-02-01-02-19.wav: {'num_words': 6, 'num_hesitations': 0, 'hesitation_ratio': 0.0, 'avg_sentence_length': np.float64(6.0)}\n",
      "🎧 Audio features for extracted_audio/Actor_19/03-01-02-02-01-02-19.wav: {'duration_sec': 4.037414965986395, 'pitch_std': np.float64(43.706897492672205), 'tempo_bpm': array([123.046875])}\n",
      "✅ Combined features for extracted_audio/Actor_19/03-01-02-02-01-02-19.wav: {'num_words': 6, 'num_hesitations': 0, 'hesitation_ratio': 0.0, 'avg_sentence_length': np.float64(6.0), 'duration_sec': 4.037414965986395, 'pitch_std': np.float64(43.706897492672205), 'tempo_bpm': array([123.046875]), 'file': '03-01-02-02-01-02-19.wav'}\n",
      "📁 Processing file: extracted_audio/Actor_19/03-01-03-01-01-01-19.wav\n"
     ]
    },
    {
     "name": "stderr",
     "output_type": "stream",
     "text": [
      "/Library/Frameworks/Python.framework/Versions/3.12/lib/python3.12/site-packages/whisper/transcribe.py:126: UserWarning: FP16 is not supported on CPU; using FP32 instead\n",
      "  warnings.warn(\"FP16 is not supported on CPU; using FP32 instead\")\n"
     ]
    },
    {
     "name": "stdout",
     "output_type": "stream",
     "text": [
      "🔊 Transcript for extracted_audio/Actor_19/03-01-03-01-01-01-19.wav:  Kids are talking by the door....\n",
      "📝 NLP features for extracted_audio/Actor_19/03-01-03-01-01-01-19.wav: {'num_words': 6, 'num_hesitations': 0, 'hesitation_ratio': 0.0, 'avg_sentence_length': np.float64(6.0)}\n",
      "🎧 Audio features for extracted_audio/Actor_19/03-01-03-01-01-01-19.wav: {'duration_sec': 3.6369614512471657, 'pitch_std': np.float64(72.85537813696781), 'tempo_bpm': array([129.19921875])}\n",
      "✅ Combined features for extracted_audio/Actor_19/03-01-03-01-01-01-19.wav: {'num_words': 6, 'num_hesitations': 0, 'hesitation_ratio': 0.0, 'avg_sentence_length': np.float64(6.0), 'duration_sec': 3.6369614512471657, 'pitch_std': np.float64(72.85537813696781), 'tempo_bpm': array([129.19921875]), 'file': '03-01-03-01-01-01-19.wav'}\n",
      "📁 Processing file: extracted_audio/Actor_19/03-01-03-02-02-01-19.wav\n"
     ]
    },
    {
     "name": "stderr",
     "output_type": "stream",
     "text": [
      "/Library/Frameworks/Python.framework/Versions/3.12/lib/python3.12/site-packages/whisper/transcribe.py:126: UserWarning: FP16 is not supported on CPU; using FP32 instead\n",
      "  warnings.warn(\"FP16 is not supported on CPU; using FP32 instead\")\n"
     ]
    },
    {
     "name": "stdout",
     "output_type": "stream",
     "text": [
      "🔊 Transcript for extracted_audio/Actor_19/03-01-03-02-02-01-19.wav:  Dogs are sitting by the door!...\n",
      "📝 NLP features for extracted_audio/Actor_19/03-01-03-02-02-01-19.wav: {'num_words': 6, 'num_hesitations': 0, 'hesitation_ratio': 0.0, 'avg_sentence_length': np.float64(6.0)}\n",
      "🎧 Audio features for extracted_audio/Actor_19/03-01-03-02-02-01-19.wav: {'duration_sec': 4.404399092970522, 'pitch_std': np.float64(81.658130554656), 'tempo_bpm': array([143.5546875])}\n",
      "✅ Combined features for extracted_audio/Actor_19/03-01-03-02-02-01-19.wav: {'num_words': 6, 'num_hesitations': 0, 'hesitation_ratio': 0.0, 'avg_sentence_length': np.float64(6.0), 'duration_sec': 4.404399092970522, 'pitch_std': np.float64(81.658130554656), 'tempo_bpm': array([143.5546875]), 'file': '03-01-03-02-02-01-19.wav'}\n",
      "📁 Processing file: extracted_audio/Actor_19/03-01-06-01-01-01-19.wav\n"
     ]
    },
    {
     "name": "stderr",
     "output_type": "stream",
     "text": [
      "/Library/Frameworks/Python.framework/Versions/3.12/lib/python3.12/site-packages/whisper/transcribe.py:126: UserWarning: FP16 is not supported on CPU; using FP32 instead\n",
      "  warnings.warn(\"FP16 is not supported on CPU; using FP32 instead\")\n"
     ]
    },
    {
     "name": "stdout",
     "output_type": "stream",
     "text": [
      "🔊 Transcript for extracted_audio/Actor_19/03-01-06-01-01-01-19.wav:  Kids are talking by the door....\n",
      "📝 NLP features for extracted_audio/Actor_19/03-01-06-01-01-01-19.wav: {'num_words': 6, 'num_hesitations': 0, 'hesitation_ratio': 0.0, 'avg_sentence_length': np.float64(6.0)}\n",
      "🎧 Audio features for extracted_audio/Actor_19/03-01-06-01-01-01-19.wav: {'duration_sec': 3.703718820861678, 'pitch_std': np.float64(66.64256399936261), 'tempo_bpm': array([117.45383523])}\n",
      "✅ Combined features for extracted_audio/Actor_19/03-01-06-01-01-01-19.wav: {'num_words': 6, 'num_hesitations': 0, 'hesitation_ratio': 0.0, 'avg_sentence_length': np.float64(6.0), 'duration_sec': 3.703718820861678, 'pitch_std': np.float64(66.64256399936261), 'tempo_bpm': array([117.45383523]), 'file': '03-01-06-01-01-01-19.wav'}\n",
      "📁 Processing file: extracted_audio/Actor_19/03-01-05-01-01-02-19.wav\n"
     ]
    },
    {
     "name": "stderr",
     "output_type": "stream",
     "text": [
      "/Library/Frameworks/Python.framework/Versions/3.12/lib/python3.12/site-packages/whisper/transcribe.py:126: UserWarning: FP16 is not supported on CPU; using FP32 instead\n",
      "  warnings.warn(\"FP16 is not supported on CPU; using FP32 instead\")\n"
     ]
    },
    {
     "name": "stdout",
     "output_type": "stream",
     "text": [
      "🔊 Transcript for extracted_audio/Actor_19/03-01-05-01-01-02-19.wav:  Kids are talking by the door....\n",
      "📝 NLP features for extracted_audio/Actor_19/03-01-05-01-01-02-19.wav: {'num_words': 6, 'num_hesitations': 0, 'hesitation_ratio': 0.0, 'avg_sentence_length': np.float64(6.0)}\n",
      "🎧 Audio features for extracted_audio/Actor_19/03-01-05-01-01-02-19.wav: {'duration_sec': 3.703718820861678, 'pitch_std': np.float64(77.79704501303067), 'tempo_bpm': array([184.5703125])}\n",
      "✅ Combined features for extracted_audio/Actor_19/03-01-05-01-01-02-19.wav: {'num_words': 6, 'num_hesitations': 0, 'hesitation_ratio': 0.0, 'avg_sentence_length': np.float64(6.0), 'duration_sec': 3.703718820861678, 'pitch_std': np.float64(77.79704501303067), 'tempo_bpm': array([184.5703125]), 'file': '03-01-05-01-01-02-19.wav'}\n",
      "📁 Processing file: extracted_audio/Actor_19/03-01-05-02-02-02-19.wav\n"
     ]
    },
    {
     "name": "stderr",
     "output_type": "stream",
     "text": [
      "/Library/Frameworks/Python.framework/Versions/3.12/lib/python3.12/site-packages/whisper/transcribe.py:126: UserWarning: FP16 is not supported on CPU; using FP32 instead\n",
      "  warnings.warn(\"FP16 is not supported on CPU; using FP32 instead\")\n"
     ]
    },
    {
     "name": "stdout",
     "output_type": "stream",
     "text": [
      "🔊 Transcript for extracted_audio/Actor_19/03-01-05-02-02-02-19.wav:  Dogs are sitting by the door!...\n",
      "📝 NLP features for extracted_audio/Actor_19/03-01-05-02-02-02-19.wav: {'num_words': 6, 'num_hesitations': 0, 'hesitation_ratio': 0.0, 'avg_sentence_length': np.float64(6.0)}\n",
      "🎧 Audio features for extracted_audio/Actor_19/03-01-05-02-02-02-19.wav: {'duration_sec': 4.104126984126984, 'pitch_std': np.float64(88.15062504589731), 'tempo_bpm': array([123.046875])}\n",
      "✅ Combined features for extracted_audio/Actor_19/03-01-05-02-02-02-19.wav: {'num_words': 6, 'num_hesitations': 0, 'hesitation_ratio': 0.0, 'avg_sentence_length': np.float64(6.0), 'duration_sec': 4.104126984126984, 'pitch_std': np.float64(88.15062504589731), 'tempo_bpm': array([123.046875]), 'file': '03-01-05-02-02-02-19.wav'}\n",
      "📁 Processing file: extracted_audio/Actor_19/03-01-06-02-02-01-19.wav\n"
     ]
    },
    {
     "name": "stderr",
     "output_type": "stream",
     "text": [
      "/Library/Frameworks/Python.framework/Versions/3.12/lib/python3.12/site-packages/whisper/transcribe.py:126: UserWarning: FP16 is not supported on CPU; using FP32 instead\n",
      "  warnings.warn(\"FP16 is not supported on CPU; using FP32 instead\")\n"
     ]
    },
    {
     "name": "stdout",
     "output_type": "stream",
     "text": [
      "🔊 Transcript for extracted_audio/Actor_19/03-01-06-02-02-01-19.wav:  Dogs are sitting by the door!...\n",
      "📝 NLP features for extracted_audio/Actor_19/03-01-06-02-02-01-19.wav: {'num_words': 6, 'num_hesitations': 0, 'hesitation_ratio': 0.0, 'avg_sentence_length': np.float64(6.0)}\n",
      "🎧 Audio features for extracted_audio/Actor_19/03-01-06-02-02-01-19.wav: {'duration_sec': 3.570249433106576, 'pitch_std': np.float64(88.89102197931211), 'tempo_bpm': array([66.25600962])}\n",
      "✅ Combined features for extracted_audio/Actor_19/03-01-06-02-02-01-19.wav: {'num_words': 6, 'num_hesitations': 0, 'hesitation_ratio': 0.0, 'avg_sentence_length': np.float64(6.0), 'duration_sec': 3.570249433106576, 'pitch_std': np.float64(88.89102197931211), 'tempo_bpm': array([66.25600962]), 'file': '03-01-06-02-02-01-19.wav'}\n",
      "📁 Processing file: extracted_audio/Actor_19/03-01-04-01-02-01-19.wav\n"
     ]
    },
    {
     "name": "stderr",
     "output_type": "stream",
     "text": [
      "/Library/Frameworks/Python.framework/Versions/3.12/lib/python3.12/site-packages/whisper/transcribe.py:126: UserWarning: FP16 is not supported on CPU; using FP32 instead\n",
      "  warnings.warn(\"FP16 is not supported on CPU; using FP32 instead\")\n"
     ]
    },
    {
     "name": "stdout",
     "output_type": "stream",
     "text": [
      "🔊 Transcript for extracted_audio/Actor_19/03-01-04-01-02-01-19.wav:  Dogs are sitting by the door....\n",
      "📝 NLP features for extracted_audio/Actor_19/03-01-04-01-02-01-19.wav: {'num_words': 6, 'num_hesitations': 0, 'hesitation_ratio': 0.0, 'avg_sentence_length': np.float64(6.0)}\n",
      "🎧 Audio features for extracted_audio/Actor_19/03-01-04-01-02-01-19.wav: {'duration_sec': 3.1698412698412697, 'pitch_std': np.float64(49.88036972698729), 'tempo_bpm': array([89.10290948])}\n",
      "✅ Combined features for extracted_audio/Actor_19/03-01-04-01-02-01-19.wav: {'num_words': 6, 'num_hesitations': 0, 'hesitation_ratio': 0.0, 'avg_sentence_length': np.float64(6.0), 'duration_sec': 3.1698412698412697, 'pitch_std': np.float64(49.88036972698729), 'tempo_bpm': array([89.10290948]), 'file': '03-01-04-01-02-01-19.wav'}\n",
      "📁 Processing file: extracted_audio/Actor_19/03-01-07-01-02-02-19.wav\n"
     ]
    },
    {
     "name": "stderr",
     "output_type": "stream",
     "text": [
      "/Library/Frameworks/Python.framework/Versions/3.12/lib/python3.12/site-packages/whisper/transcribe.py:126: UserWarning: FP16 is not supported on CPU; using FP32 instead\n",
      "  warnings.warn(\"FP16 is not supported on CPU; using FP32 instead\")\n"
     ]
    },
    {
     "name": "stdout",
     "output_type": "stream",
     "text": [
      "🔊 Transcript for extracted_audio/Actor_19/03-01-07-01-02-02-19.wav:  Dogs are sitting by the door....\n",
      "📝 NLP features for extracted_audio/Actor_19/03-01-07-01-02-02-19.wav: {'num_words': 6, 'num_hesitations': 0, 'hesitation_ratio': 0.0, 'avg_sentence_length': np.float64(6.0)}\n",
      "🎧 Audio features for extracted_audio/Actor_19/03-01-07-01-02-02-19.wav: {'duration_sec': 3.937278911564626, 'pitch_std': np.float64(78.74949382973975), 'tempo_bpm': array([123.046875])}\n",
      "✅ Combined features for extracted_audio/Actor_19/03-01-07-01-02-02-19.wav: {'num_words': 6, 'num_hesitations': 0, 'hesitation_ratio': 0.0, 'avg_sentence_length': np.float64(6.0), 'duration_sec': 3.937278911564626, 'pitch_std': np.float64(78.74949382973975), 'tempo_bpm': array([123.046875]), 'file': '03-01-07-01-02-02-19.wav'}\n",
      "📁 Processing file: extracted_audio/Actor_19/03-01-07-02-01-02-19.wav\n"
     ]
    },
    {
     "name": "stderr",
     "output_type": "stream",
     "text": [
      "/Library/Frameworks/Python.framework/Versions/3.12/lib/python3.12/site-packages/whisper/transcribe.py:126: UserWarning: FP16 is not supported on CPU; using FP32 instead\n",
      "  warnings.warn(\"FP16 is not supported on CPU; using FP32 instead\")\n"
     ]
    },
    {
     "name": "stdout",
     "output_type": "stream",
     "text": [
      "🔊 Transcript for extracted_audio/Actor_19/03-01-07-02-01-02-19.wav:  Kids are talking by the door!...\n",
      "📝 NLP features for extracted_audio/Actor_19/03-01-07-02-01-02-19.wav: {'num_words': 6, 'num_hesitations': 0, 'hesitation_ratio': 0.0, 'avg_sentence_length': np.float64(6.0)}\n",
      "🎧 Audio features for extracted_audio/Actor_19/03-01-07-02-01-02-19.wav: {'duration_sec': 5.2719727891156465, 'pitch_std': np.float64(80.01669449978218), 'tempo_bpm': array([80.74951172])}\n",
      "✅ Combined features for extracted_audio/Actor_19/03-01-07-02-01-02-19.wav: {'num_words': 6, 'num_hesitations': 0, 'hesitation_ratio': 0.0, 'avg_sentence_length': np.float64(6.0), 'duration_sec': 5.2719727891156465, 'pitch_std': np.float64(80.01669449978218), 'tempo_bpm': array([80.74951172]), 'file': '03-01-07-02-01-02-19.wav'}\n",
      "📁 Processing file: extracted_audio/Actor_19/03-01-04-02-01-01-19.wav\n"
     ]
    },
    {
     "name": "stderr",
     "output_type": "stream",
     "text": [
      "/Library/Frameworks/Python.framework/Versions/3.12/lib/python3.12/site-packages/whisper/transcribe.py:126: UserWarning: FP16 is not supported on CPU; using FP32 instead\n",
      "  warnings.warn(\"FP16 is not supported on CPU; using FP32 instead\")\n"
     ]
    },
    {
     "name": "stdout",
     "output_type": "stream",
     "text": [
      "🔊 Transcript for extracted_audio/Actor_19/03-01-04-02-01-01-19.wav:  Kids are talking by the door....\n",
      "📝 NLP features for extracted_audio/Actor_19/03-01-04-02-01-01-19.wav: {'num_words': 6, 'num_hesitations': 0, 'hesitation_ratio': 0.0, 'avg_sentence_length': np.float64(6.0)}\n",
      "🎧 Audio features for extracted_audio/Actor_19/03-01-04-02-01-01-19.wav: {'duration_sec': 4.004036281179138, 'pitch_std': np.float64(94.10706885087086), 'tempo_bpm': array([112.34714674])}\n",
      "✅ Combined features for extracted_audio/Actor_19/03-01-04-02-01-01-19.wav: {'num_words': 6, 'num_hesitations': 0, 'hesitation_ratio': 0.0, 'avg_sentence_length': np.float64(6.0), 'duration_sec': 4.004036281179138, 'pitch_std': np.float64(94.10706885087086), 'tempo_bpm': array([112.34714674]), 'file': '03-01-04-02-01-01-19.wav'}\n",
      "📁 Processing file: extracted_audio/Actor_19/03-01-08-02-01-02-19.wav\n"
     ]
    },
    {
     "name": "stderr",
     "output_type": "stream",
     "text": [
      "/Library/Frameworks/Python.framework/Versions/3.12/lib/python3.12/site-packages/whisper/transcribe.py:126: UserWarning: FP16 is not supported on CPU; using FP32 instead\n",
      "  warnings.warn(\"FP16 is not supported on CPU; using FP32 instead\")\n"
     ]
    },
    {
     "name": "stdout",
     "output_type": "stream",
     "text": [
      "🔊 Transcript for extracted_audio/Actor_19/03-01-08-02-01-02-19.wav:  Kids are talking by the door!...\n",
      "📝 NLP features for extracted_audio/Actor_19/03-01-08-02-01-02-19.wav: {'num_words': 6, 'num_hesitations': 0, 'hesitation_ratio': 0.0, 'avg_sentence_length': np.float64(6.0)}\n",
      "🎧 Audio features for extracted_audio/Actor_19/03-01-08-02-01-02-19.wav: {'duration_sec': 4.638004535147393, 'pitch_std': np.float64(80.80541318387266), 'tempo_bpm': array([129.19921875])}\n",
      "✅ Combined features for extracted_audio/Actor_19/03-01-08-02-01-02-19.wav: {'num_words': 6, 'num_hesitations': 0, 'hesitation_ratio': 0.0, 'avg_sentence_length': np.float64(6.0), 'duration_sec': 4.638004535147393, 'pitch_std': np.float64(80.80541318387266), 'tempo_bpm': array([129.19921875]), 'file': '03-01-08-02-01-02-19.wav'}\n",
      "📁 Processing file: extracted_audio/Actor_19/03-01-08-01-02-02-19.wav\n"
     ]
    },
    {
     "name": "stderr",
     "output_type": "stream",
     "text": [
      "/Library/Frameworks/Python.framework/Versions/3.12/lib/python3.12/site-packages/whisper/transcribe.py:126: UserWarning: FP16 is not supported on CPU; using FP32 instead\n",
      "  warnings.warn(\"FP16 is not supported on CPU; using FP32 instead\")\n"
     ]
    },
    {
     "name": "stdout",
     "output_type": "stream",
     "text": [
      "🔊 Transcript for extracted_audio/Actor_19/03-01-08-01-02-02-19.wav:  Dogs are sitting by the door....\n",
      "📝 NLP features for extracted_audio/Actor_19/03-01-08-01-02-02-19.wav: {'num_words': 6, 'num_hesitations': 0, 'hesitation_ratio': 0.0, 'avg_sentence_length': np.float64(6.0)}\n",
      "🎧 Audio features for extracted_audio/Actor_19/03-01-08-01-02-02-19.wav: {'duration_sec': 3.069750566893424, 'pitch_std': np.float64(91.34872979097833), 'tempo_bpm': array([99.38401442])}\n",
      "✅ Combined features for extracted_audio/Actor_19/03-01-08-01-02-02-19.wav: {'num_words': 6, 'num_hesitations': 0, 'hesitation_ratio': 0.0, 'avg_sentence_length': np.float64(6.0), 'duration_sec': 3.069750566893424, 'pitch_std': np.float64(91.34872979097833), 'tempo_bpm': array([99.38401442]), 'file': '03-01-08-01-02-02-19.wav'}\n",
      "📁 Processing file: extracted_audio/Actor_19/03-01-03-02-01-01-19.wav\n"
     ]
    },
    {
     "name": "stderr",
     "output_type": "stream",
     "text": [
      "/Library/Frameworks/Python.framework/Versions/3.12/lib/python3.12/site-packages/whisper/transcribe.py:126: UserWarning: FP16 is not supported on CPU; using FP32 instead\n",
      "  warnings.warn(\"FP16 is not supported on CPU; using FP32 instead\")\n"
     ]
    },
    {
     "name": "stdout",
     "output_type": "stream",
     "text": [
      "🔊 Transcript for extracted_audio/Actor_19/03-01-03-02-01-01-19.wav:  Kids are talking by the door....\n",
      "📝 NLP features for extracted_audio/Actor_19/03-01-03-02-01-01-19.wav: {'num_words': 6, 'num_hesitations': 0, 'hesitation_ratio': 0.0, 'avg_sentence_length': np.float64(6.0)}\n",
      "🎧 Audio features for extracted_audio/Actor_19/03-01-03-02-01-01-19.wav: {'duration_sec': 3.7704761904761903, 'pitch_std': np.float64(90.0743911553355), 'tempo_bpm': array([135.99917763])}\n",
      "✅ Combined features for extracted_audio/Actor_19/03-01-03-02-01-01-19.wav: {'num_words': 6, 'num_hesitations': 0, 'hesitation_ratio': 0.0, 'avg_sentence_length': np.float64(6.0), 'duration_sec': 3.7704761904761903, 'pitch_std': np.float64(90.0743911553355), 'tempo_bpm': array([135.99917763]), 'file': '03-01-03-02-01-01-19.wav'}\n",
      "📁 Processing file: extracted_audio/Actor_19/03-01-03-01-02-01-19.wav\n"
     ]
    },
    {
     "name": "stderr",
     "output_type": "stream",
     "text": [
      "/Library/Frameworks/Python.framework/Versions/3.12/lib/python3.12/site-packages/whisper/transcribe.py:126: UserWarning: FP16 is not supported on CPU; using FP32 instead\n",
      "  warnings.warn(\"FP16 is not supported on CPU; using FP32 instead\")\n"
     ]
    },
    {
     "name": "stdout",
     "output_type": "stream",
     "text": [
      "🔊 Transcript for extracted_audio/Actor_19/03-01-03-01-02-01-19.wav:  Dogs are sitting by the door....\n",
      "📝 NLP features for extracted_audio/Actor_19/03-01-03-01-02-01-19.wav: {'num_words': 6, 'num_hesitations': 0, 'hesitation_ratio': 0.0, 'avg_sentence_length': np.float64(6.0)}\n",
      "🎧 Audio features for extracted_audio/Actor_19/03-01-03-01-02-01-19.wav: {'duration_sec': 3.2699773242630386, 'pitch_std': np.float64(78.84782986776719), 'tempo_bpm': array([75.99954044])}\n",
      "✅ Combined features for extracted_audio/Actor_19/03-01-03-01-02-01-19.wav: {'num_words': 6, 'num_hesitations': 0, 'hesitation_ratio': 0.0, 'avg_sentence_length': np.float64(6.0), 'duration_sec': 3.2699773242630386, 'pitch_std': np.float64(78.84782986776719), 'tempo_bpm': array([75.99954044]), 'file': '03-01-03-01-02-01-19.wav'}\n",
      "📁 Processing file: extracted_audio/Actor_19/03-01-02-02-02-02-19.wav\n"
     ]
    },
    {
     "name": "stderr",
     "output_type": "stream",
     "text": [
      "/Library/Frameworks/Python.framework/Versions/3.12/lib/python3.12/site-packages/whisper/transcribe.py:126: UserWarning: FP16 is not supported on CPU; using FP32 instead\n",
      "  warnings.warn(\"FP16 is not supported on CPU; using FP32 instead\")\n"
     ]
    },
    {
     "name": "stdout",
     "output_type": "stream",
     "text": [
      "🔊 Transcript for extracted_audio/Actor_19/03-01-02-02-02-02-19.wav:  Dogs are sitting by the door....\n",
      "📝 NLP features for extracted_audio/Actor_19/03-01-02-02-02-02-19.wav: {'num_words': 6, 'num_hesitations': 0, 'hesitation_ratio': 0.0, 'avg_sentence_length': np.float64(6.0)}\n",
      "🎧 Audio features for extracted_audio/Actor_19/03-01-02-02-02-02-19.wav: {'duration_sec': 4.304308390022676, 'pitch_std': np.float64(64.35735428292689), 'tempo_bpm': array([143.5546875])}\n",
      "✅ Combined features for extracted_audio/Actor_19/03-01-02-02-02-02-19.wav: {'num_words': 6, 'num_hesitations': 0, 'hesitation_ratio': 0.0, 'avg_sentence_length': np.float64(6.0), 'duration_sec': 4.304308390022676, 'pitch_std': np.float64(64.35735428292689), 'tempo_bpm': array([143.5546875]), 'file': '03-01-02-02-02-02-19.wav'}\n",
      "📁 Processing file: extracted_audio/Actor_19/03-01-02-01-01-02-19.wav\n"
     ]
    },
    {
     "name": "stderr",
     "output_type": "stream",
     "text": [
      "/Library/Frameworks/Python.framework/Versions/3.12/lib/python3.12/site-packages/whisper/transcribe.py:126: UserWarning: FP16 is not supported on CPU; using FP32 instead\n",
      "  warnings.warn(\"FP16 is not supported on CPU; using FP32 instead\")\n"
     ]
    },
    {
     "name": "stdout",
     "output_type": "stream",
     "text": [
      "🔊 Transcript for extracted_audio/Actor_19/03-01-02-01-01-02-19.wav:  Kids are talking by the door....\n",
      "📝 NLP features for extracted_audio/Actor_19/03-01-02-01-01-02-19.wav: {'num_words': 6, 'num_hesitations': 0, 'hesitation_ratio': 0.0, 'avg_sentence_length': np.float64(6.0)}\n",
      "🎧 Audio features for extracted_audio/Actor_19/03-01-02-01-01-02-19.wav: {'duration_sec': 3.670340136054422, 'pitch_std': np.float64(46.05040510427435), 'tempo_bpm': array([107.66601562])}\n",
      "✅ Combined features for extracted_audio/Actor_19/03-01-02-01-01-02-19.wav: {'num_words': 6, 'num_hesitations': 0, 'hesitation_ratio': 0.0, 'avg_sentence_length': np.float64(6.0), 'duration_sec': 3.670340136054422, 'pitch_std': np.float64(46.05040510427435), 'tempo_bpm': array([107.66601562]), 'file': '03-01-02-01-01-02-19.wav'}\n",
      "📁 Processing file: extracted_audio/Actor_19/03-01-01-01-01-01-19.wav\n"
     ]
    },
    {
     "name": "stderr",
     "output_type": "stream",
     "text": [
      "/Library/Frameworks/Python.framework/Versions/3.12/lib/python3.12/site-packages/whisper/transcribe.py:126: UserWarning: FP16 is not supported on CPU; using FP32 instead\n",
      "  warnings.warn(\"FP16 is not supported on CPU; using FP32 instead\")\n"
     ]
    },
    {
     "name": "stdout",
     "output_type": "stream",
     "text": [
      "🔊 Transcript for extracted_audio/Actor_19/03-01-01-01-01-01-19.wav:  Kids are talking by the door....\n",
      "📝 NLP features for extracted_audio/Actor_19/03-01-01-01-01-01-19.wav: {'num_words': 6, 'num_hesitations': 0, 'hesitation_ratio': 0.0, 'avg_sentence_length': np.float64(6.0)}\n",
      "🎧 Audio features for extracted_audio/Actor_19/03-01-01-01-01-01-19.wav: {'duration_sec': 3.3700680272108845, 'pitch_std': np.float64(56.824002968885445), 'tempo_bpm': array([143.5546875])}\n",
      "✅ Combined features for extracted_audio/Actor_19/03-01-01-01-01-01-19.wav: {'num_words': 6, 'num_hesitations': 0, 'hesitation_ratio': 0.0, 'avg_sentence_length': np.float64(6.0), 'duration_sec': 3.3700680272108845, 'pitch_std': np.float64(56.824002968885445), 'tempo_bpm': array([143.5546875]), 'file': '03-01-01-01-01-01-19.wav'}\n",
      "📁 Processing file: extracted_audio/Actor_19/03-01-03-02-02-02-19.wav\n"
     ]
    },
    {
     "name": "stderr",
     "output_type": "stream",
     "text": [
      "/Library/Frameworks/Python.framework/Versions/3.12/lib/python3.12/site-packages/whisper/transcribe.py:126: UserWarning: FP16 is not supported on CPU; using FP32 instead\n",
      "  warnings.warn(\"FP16 is not supported on CPU; using FP32 instead\")\n"
     ]
    },
    {
     "name": "stdout",
     "output_type": "stream",
     "text": [
      "🔊 Transcript for extracted_audio/Actor_19/03-01-03-02-02-02-19.wav:  Dogs are sitting by the door....\n",
      "📝 NLP features for extracted_audio/Actor_19/03-01-03-02-02-02-19.wav: {'num_words': 6, 'num_hesitations': 0, 'hesitation_ratio': 0.0, 'avg_sentence_length': np.float64(6.0)}\n",
      "🎧 Audio features for extracted_audio/Actor_19/03-01-03-02-02-02-19.wav: {'duration_sec': 4.004036281179138, 'pitch_std': np.float64(74.58761878246577), 'tempo_bpm': array([184.5703125])}\n",
      "✅ Combined features for extracted_audio/Actor_19/03-01-03-02-02-02-19.wav: {'num_words': 6, 'num_hesitations': 0, 'hesitation_ratio': 0.0, 'avg_sentence_length': np.float64(6.0), 'duration_sec': 4.004036281179138, 'pitch_std': np.float64(74.58761878246577), 'tempo_bpm': array([184.5703125]), 'file': '03-01-03-02-02-02-19.wav'}\n",
      "📁 Processing file: extracted_audio/Actor_19/03-01-03-01-01-02-19.wav\n"
     ]
    },
    {
     "name": "stderr",
     "output_type": "stream",
     "text": [
      "/Library/Frameworks/Python.framework/Versions/3.12/lib/python3.12/site-packages/whisper/transcribe.py:126: UserWarning: FP16 is not supported on CPU; using FP32 instead\n",
      "  warnings.warn(\"FP16 is not supported on CPU; using FP32 instead\")\n"
     ]
    }
   ],
   "source": [
    "df_results = analyze_files(audio_files)"
   ]
  },
  {
   "cell_type": "code",
   "execution_count": null,
   "id": "57a8632a-62e0-4ece-af28-9c1715ac822c",
   "metadata": {},
   "outputs": [],
   "source": [
    "# Step 3: Plot feature trends and risk anomalies"
   ]
  },
  {
   "cell_type": "code",
   "execution_count": null,
   "id": "f8b74509-911f-4e8c-8304-572f739aba7b",
   "metadata": {},
   "outputs": [],
   "source": [
    "plot_features(df_results)"
   ]
  },
  {
   "cell_type": "code",
   "execution_count": null,
   "id": "f4b38a9c-59db-46a5-ac1d-3d05bb8df552",
   "metadata": {},
   "outputs": [],
   "source": [
    "# Step 4: Export results to CSV"
   ]
  },
  {
   "cell_type": "code",
   "execution_count": null,
   "id": "403dbd54-e74e-40a8-a283-c8402bce9362",
   "metadata": {},
   "outputs": [],
   "source": [
    "output_csv = \"cognitive_risk_report.csv\"\n",
    "df_results.to_csv(output_csv, index=False)\n",
    "print(f\"📁 Results saved to: {output_csv}\")"
   ]
  },
  {
   "cell_type": "code",
   "execution_count": null,
   "id": "bdda7a15-dc63-4dd7-a8ca-7ce174f89107",
   "metadata": {},
   "outputs": [],
   "source": []
  }
 ],
 "metadata": {
  "kernelspec": {
   "display_name": "Python 3 (ipykernel)",
   "language": "python",
   "name": "python3"
  },
  "language_info": {
   "codemirror_mode": {
    "name": "ipython",
    "version": 3
   },
   "file_extension": ".py",
   "mimetype": "text/x-python",
   "name": "python",
   "nbconvert_exporter": "python",
   "pygments_lexer": "ipython3",
   "version": "3.12.8"
  }
 },
 "nbformat": 4,
 "nbformat_minor": 5
}
